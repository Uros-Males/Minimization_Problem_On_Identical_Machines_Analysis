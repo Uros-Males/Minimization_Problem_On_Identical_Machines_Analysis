{
  "nbformat": 4,
  "nbformat_minor": 0,
  "metadata": {
    "colab": {
      "name": "Neural_Network_Classification.ipynb",
      "provenance": [],
      "authorship_tag": "ABX9TyP/G1Fh8t0/rrWl8Z4XkqdN",
      "include_colab_link": true
    },
    "kernelspec": {
      "name": "python3",
      "display_name": "Python 3"
    },
    "language_info": {
      "name": "python"
    }
  },
  "cells": [
    {
      "cell_type": "markdown",
      "metadata": {
        "id": "view-in-github",
        "colab_type": "text"
      },
      "source": [
        "<a href=\"https://colab.research.google.com/github/Uros-Males/Minimization_Problem_On_Identical_Machines_Analysis/blob/main/4Dropped_Neural_Network_Multi_Classs_Classification.ipynb\" target=\"_parent\"><img src=\"https://colab.research.google.com/assets/colab-badge.svg\" alt=\"Open In Colab\"/></a>"
      ]
    },
    {
      "cell_type": "code",
      "execution_count": 1,
      "metadata": {
        "colab": {
          "base_uri": "https://localhost:8080/"
        },
        "id": "6u-X4QiVmgm4",
        "outputId": "eff49264-d6b6-4678-912a-69d1879c8b45"
      },
      "outputs": [
        {
          "output_type": "stream",
          "name": "stdout",
          "text": [
            "700\n",
            "   subtype  class  indeks    n   m  n/m  (n/m)^2  (n/m)^3  m/n  (m/n)^2  \\\n",
            "0        1      2       6  100  50  2.0      4.0      8.0  0.5     0.25   \n",
            "1        1      6       2   20  10  2.0      4.0      8.0  0.5     0.25   \n",
            "2        1      1       9  180  90  2.0      4.0      8.0  0.5     0.25   \n",
            "3        1      1       7  140  70  2.0      4.0      8.0  0.5     0.25   \n",
            "4        1      3       5   40  20  2.0      4.0      8.0  0.5     0.25   \n",
            "\n",
            "   (m/n)^3  av.length    std.dev  median  range  min  max   k  \n",
            "0    0.125  60.119999  25.163017    61.0     80   20  100  55  \n",
            "1    0.125  47.099998  18.093033    46.5     57   21   78  17  \n",
            "2    0.125  49.250000  29.537567    50.0     99    1  100  80  \n",
            "3    0.125  51.964287  27.495035    53.0     99    1  100  71  \n",
            "4    0.125  72.150002  15.438131    69.5     48   51   99  31  \n"
          ]
        }
      ],
      "source": [
        "#IN PROGRESS....\n",
        "import pandas as pd\n",
        "import numpy as np\n",
        "import matplotlib.pyplot as plt\n",
        "from sklearn import tree\n",
        "from sklearn.model_selection import train_test_split\n",
        "from sklearn.tree import DecisionTreeRegressor\n",
        "import time\n",
        "import keras\n",
        "\n",
        "df = pd.read_csv('/content/sample_data/C-instances-runtime-analysis.csv')\n",
        "df = df[df['n/m']==2]\n",
        "print(df.shape[0])\n",
        "#df = df.drop(['inst.name', 'type', 'CPLEXStatus'], axis = 1)\n",
        "#standard_deviations = 3\n",
        "#df = df[df.apply(lambda x: np.abs(x - x.mean()) / x.std() < standard_deviations)\n",
        "#   .all(axis=1)]\n",
        "\n",
        "#print(df.shape[0])\n",
        "\n",
        "#names = ['indeks', 'n', 'n/m', '(n/m)^2', '(n/m)^3', 'm/n', '(m/n)^2',\n",
        "   #      '(m/n)^3', 'av.length', 'std.dev', 'median', 'range', 'min', 'max', 'k']\n",
        "#for i in range(df.shape[0]):\n",
        " # if(df.iloc[i]['n/m'] == 2 and df.iloc[i]['y']==99999):\n",
        "  #  for j in range(len(names)):\n",
        "   #   print(names[j]+\"->\"+str(df.iloc[i][names[j]]))\n",
        "    #print(\"------------------------------------------------------------------\")\n",
        "\n",
        "\n",
        "shuffled = df.sample(frac=1).reset_index()\n",
        "\n",
        "columns_dont_want = ['y', 'index', 'inst.name','type', 'CPLEXStatus'] #cple\n",
        "select = [x for x in shuffled.columns if x not in columns_dont_want]\n",
        "\n",
        "X = shuffled.loc[:, select]\n",
        "\n",
        "y = shuffled.loc[:,'y']\n",
        "print(X.head())\n",
        "names = ['indeks', 'n', 'n/m', '(n/m)^2', '(n/m)^3', 'm/n', 'av.length', 'std.dev', 'median', 'range', 'min', 'max', 'k']\n",
        "#print(names[1])\n",
        "\n",
        "\n"
      ]
    },
    {
      "cell_type": "code",
      "source": [
        "y_new = []\n",
        "for val in y:\n",
        "  if(val<10):\n",
        "    y_new.append(0)\n",
        "  elif(10 <= val and val <100):\n",
        "    y_new.append(1)\n",
        "  elif(100<=val and val<1000):\n",
        "    y_new.append(2)\n",
        "  else:\n",
        "    y_new.append(3)\n",
        "\n",
        "shuffled['y_new'] = y_new\n",
        "#print(shuffled.head())\n",
        "y_encoded = shuffled.loc[:,'y_new']\n",
        "y_new = np.array(y_new)\n",
        "plt.hist(y_new)\n",
        "plt.show()\n",
        "X_modified = X\n",
        "#X_modified = X.drop(['n/m', '(n/m)^2', '(n/m)^3', 'm/n', '(m/n)^2', '(m/n)^3', 'max', 'av.length'], axis = 1)\n",
        "#print(X_modified.shape[1])"
      ],
      "metadata": {
        "id": "XkPXcbO0riCC",
        "colab": {
          "base_uri": "https://localhost:8080/",
          "height": 265
        },
        "outputId": "c5e54a99-c0f9-4f75-d22b-fba4d4a99921"
      },
      "execution_count": 2,
      "outputs": [
        {
          "output_type": "display_data",
          "data": {
            "text/plain": [
              "<Figure size 432x288 with 1 Axes>"
            ],
            "image/png": "[encoded data removed]"
          },
          "metadata": {
            "needs_background": "light"
          }
        }
      ]
    },
    {
      "cell_type": "code",
      "source": [
        "from sklearn.preprocessing import LabelEncoder\n",
        "from keras.utils.np_utils import to_categorical\n",
        "\n",
        "l_encode = LabelEncoder()\n",
        "l_encode.fit(y_encoded)\n",
        "y_encoded = l_encode.transform(y_encoded)\n",
        "y_encoded = to_categorical(y_encoded)\n",
        "y_encoded"
      ],
      "metadata": {
        "colab": {
          "base_uri": "https://localhost:8080/"
        },
        "id": "W2hvUxxE2NWr",
        "outputId": "1326cbda-ba12-4e07-aca3-361e9b1771ee"
      },
      "execution_count": 3,
      "outputs": [
        {
          "output_type": "execute_result",
          "data": {
            "text/plain": [
              "array([[1., 0., 0.],\n",
              "       [1., 0., 0.],\n",
              "       [0., 1., 0.],\n",
              "       ...,\n",
              "       [1., 0., 0.],\n",
              "       [1., 0., 0.],\n",
              "       [1., 0., 0.]], dtype=float32)"
            ]
          },
          "metadata": {},
          "execution_count": 3
        }
      ]
    },
    {
      "cell_type": "code",
      "source": [
        "from sklearn import preprocessing\n",
        "\n",
        "from sklearn.preprocessing import StandardScaler\n",
        "\n",
        "sc = StandardScaler()\n",
        "\n",
        "#X = pd.DataFrame(X, columns=names)\n",
        "#print(X.head())\n",
        "\n",
        "from sklearn.decomposition import PCA\n",
        "\n",
        "#,'PC2','PC3','PC4','PC5','PC6','PC7','PC8\n",
        "#pca = PCA(n_components=9)\n",
        "#pca.fit(X)\n",
        "#X = pca.transform(X)\n",
        "#X = pd.DataFrame(X,columns=['PC1','PC2','PC3','PC4','PC5','PC6','PC7','PC8','PC9'])\n",
        "names = ['n/m', 'n', 'std.dev', 'k']\n",
        "X_modified = X.drop([ 'median', 'range',  'max','av.length', 'min','indeks', 'class',  'subtype', '(m/n)^3', '(m/n)^2', '(n/m)^2', '(n/m)^3','m/n','m'], axis = 1)\n",
        "\n",
        "\n",
        "#from scipy import stats\n",
        "#df[(np.abs(stats.zscore(df)) < 3).all(axis=1)]\n",
        "\n",
        "X_train, X_test, y_train, y_test = train_test_split(X_modified, y_encoded, random_state=0, train_size = 0.8)\n",
        "#print(X_modified.shape[1])\n",
        "X_train = sc.fit_transform(X_train)\n",
        "X_test_copy = X_test\n",
        "X_test = sc.transform(X_test)\n"
      ],
      "metadata": {
        "id": "kx4jr-6Qaxpv"
      },
      "execution_count": 4,
      "outputs": []
    },
    {
      "cell_type": "code",
      "source": [
        "from keras.models import Sequential\n",
        "from keras.layers import Dense, Dropout\n",
        "\n",
        "classifier = Sequential()\n",
        "classifier.add(Dense(8, input_dim = X_modified.shape[1], activation='relu'))\n",
        "#classifier.add(Dense(8, activation = 'relu'))\n",
        "\n",
        "classifier.add(Dense(8, activation = 'relu'))\n",
        "\n",
        "#classifier.add(Dense(32, activation = 'relu'))\n",
        "#classifier.add(Dense(32, activation = 'relu'))\n",
        "#classifier.add(Dense(16, activation = 'relu'))\n",
        "\n",
        "classifier.add(Dense(16, activation='relu'))\n",
        "\n",
        "classifier.add(Dense(8, activation='relu'))\n",
        "\n",
        "classifier.add(Dense(4, activation='relu'))\n",
        "\n",
        "classifier.add(Dense(3, activation = 'softmax'))\n",
        "classifier.compile(loss = 'categorical_crossentropy', optimizer = 'adam', metrics = ['accuracy'])\n",
        "classifier.summary()"
      ],
      "metadata": {
        "id": "jRT-grzys8_y",
        "colab": {
          "base_uri": "https://localhost:8080/"
        },
        "outputId": "4386b314-e5ab-4d94-a269-d62e4575d335"
      },
      "execution_count": 5,
      "outputs": [
        {
          "output_type": "stream",
          "name": "stdout",
          "text": [
            "Model: \"sequential\"\n",
            "_________________________________________________________________\n",
            " Layer (type)                Output Shape              Param #   \n",
            "=================================================================\n",
            " dense (Dense)               (None, 8)                 40        \n",
            "                                                                 \n",
            " dense_1 (Dense)             (None, 8)                 72        \n",
            "                                                                 \n",
            " dense_2 (Dense)             (None, 16)                144       \n",
            "                                                                 \n",
            " dense_3 (Dense)             (None, 8)                 136       \n",
            "                                                                 \n",
            " dense_4 (Dense)             (None, 4)                 36        \n",
            "                                                                 \n",
            " dense_5 (Dense)             (None, 3)                 15        \n",
            "                                                                 \n",
            "=================================================================\n",
            "Total params: 443\n",
            "Trainable params: 443\n",
            "Non-trainable params: 0\n",
            "_________________________________________________________________\n"
          ]
        }
      ]
    },
    {
      "cell_type": "code",
      "source": [
        "#classifier.fit(X_train, y_train, batch_size = 64, epochs = 20, verbose = 1)\n",
        "#scores = classifier.evaluate(X_test, y_test)\n",
        "#for i, m in enumerate(classifier.metrics_names):\n",
        "#    print(\"\\n%s: %.3f\"% (m, scores[i]))\n",
        "#print(X_test_copy.iloc[0]['subtype'])"
      ],
      "metadata": {
        "id": "Mm7RsTBcx2EN"
      },
      "execution_count": 6,
      "outputs": []
    },
    {
      "cell_type": "code",
      "source": [
        "from keras.metrics import accuracy\n",
        "from keras import callbacks\n",
        "earlystopping = callbacks.EarlyStopping(monitor =\"val_loss\", \n",
        "                                        mode =\"min\", patience = 15, \n",
        "                                        restore_best_weights = True)\n",
        "  \n",
        "history = classifier.fit(X_train, y_train, batch_size = 16, \n",
        "                    epochs = 600, validation_data =(X_test, y_test), \n",
        "                    callbacks =[earlystopping])\n",
        "plt.plot(history.history['val_accuracy'])\n",
        "\n"
      ],
      "metadata": {
        "colab": {
          "base_uri": "https://localhost:8080/",
          "height": 1000
        },
        "id": "Sv9aKFPW5KGr",
        "outputId": "454cba9e-7c2a-4eda-bed9-01829d94aa1c"
      },
      "execution_count": 7,
      "outputs": [
        {
          "output_type": "stream",
          "name": "stdout",
          "text": [
            "Epoch 1/600\n",
            "35/35 [==============================] - 1s 6ms/step - loss: 1.0701 - accuracy: 0.7071 - val_loss: 1.0418 - val_accuracy: 0.7286\n",
            "Epoch 2/600\n",
            "35/35 [==============================] - 0s 2ms/step - loss: 1.0040 - accuracy: 0.7268 - val_loss: 0.9516 - val_accuracy: 0.7286\n",
            "Epoch 3/600\n",
            "35/35 [==============================] - 0s 2ms/step - loss: 0.8693 - accuracy: 0.7964 - val_loss: 0.7738 - val_accuracy: 0.8214\n",
            "Epoch 4/600\n",
            "35/35 [==============================] - 0s 2ms/step - loss: 0.6870 - accuracy: 0.8554 - val_loss: 0.5907 - val_accuracy: 0.8143\n",
            "Epoch 5/600\n",
            "35/35 [==============================] - 0s 2ms/step - loss: 0.5468 - accuracy: 0.8250 - val_loss: 0.4849 - val_accuracy: 0.8214\n",
            "Epoch 6/600\n",
            "35/35 [==============================] - 0s 2ms/step - loss: 0.4744 - accuracy: 0.8250 - val_loss: 0.4223 - val_accuracy: 0.8286\n",
            "Epoch 7/600\n",
            "35/35 [==============================] - 0s 2ms/step - loss: 0.4396 - accuracy: 0.8232 - val_loss: 0.4020 - val_accuracy: 0.8214\n",
            "Epoch 8/600\n",
            "35/35 [==============================] - 0s 2ms/step - loss: 0.4220 - accuracy: 0.8286 - val_loss: 0.3852 - val_accuracy: 0.8429\n",
            "Epoch 9/600\n",
            "35/35 [==============================] - 0s 2ms/step - loss: 0.4091 - accuracy: 0.8554 - val_loss: 0.3762 - val_accuracy: 0.8714\n",
            "Epoch 10/600\n",
            "35/35 [==============================] - 0s 2ms/step - loss: 0.3976 - accuracy: 0.8554 - val_loss: 0.3622 - val_accuracy: 0.8857\n",
            "Epoch 11/600\n",
            "35/35 [==============================] - 0s 2ms/step - loss: 0.3906 - accuracy: 0.8589 - val_loss: 0.3521 - val_accuracy: 0.8857\n",
            "Epoch 12/600\n",
            "35/35 [==============================] - 0s 2ms/step - loss: 0.3828 - accuracy: 0.8679 - val_loss: 0.3444 - val_accuracy: 0.8786\n",
            "Epoch 13/600\n",
            "35/35 [==============================] - 0s 2ms/step - loss: 0.3750 - accuracy: 0.8571 - val_loss: 0.3414 - val_accuracy: 0.8786\n",
            "Epoch 14/600\n",
            "35/35 [==============================] - 0s 2ms/step - loss: 0.3718 - accuracy: 0.8571 - val_loss: 0.3312 - val_accuracy: 0.8786\n",
            "Epoch 15/600\n",
            "35/35 [==============================] - 0s 2ms/step - loss: 0.3702 - accuracy: 0.8589 - val_loss: 0.3261 - val_accuracy: 0.8857\n",
            "Epoch 16/600\n",
            "35/35 [==============================] - 0s 2ms/step - loss: 0.3644 - accuracy: 0.8696 - val_loss: 0.3423 - val_accuracy: 0.8786\n",
            "Epoch 17/600\n",
            "35/35 [==============================] - 0s 2ms/step - loss: 0.3621 - accuracy: 0.8571 - val_loss: 0.3206 - val_accuracy: 0.8857\n",
            "Epoch 18/600\n",
            "35/35 [==============================] - 0s 2ms/step - loss: 0.3622 - accuracy: 0.8643 - val_loss: 0.3253 - val_accuracy: 0.8857\n",
            "Epoch 19/600\n",
            "35/35 [==============================] - 0s 2ms/step - loss: 0.3537 - accuracy: 0.8661 - val_loss: 0.3178 - val_accuracy: 0.8857\n",
            "Epoch 20/600\n",
            "35/35 [==============================] - 0s 2ms/step - loss: 0.3520 - accuracy: 0.8661 - val_loss: 0.3160 - val_accuracy: 0.8857\n",
            "Epoch 21/600\n",
            "35/35 [==============================] - 0s 2ms/step - loss: 0.3524 - accuracy: 0.8625 - val_loss: 0.3114 - val_accuracy: 0.8857\n",
            "Epoch 22/600\n",
            "35/35 [==============================] - 0s 2ms/step - loss: 0.3510 - accuracy: 0.8625 - val_loss: 0.3075 - val_accuracy: 0.8929\n",
            "Epoch 23/600\n",
            "35/35 [==============================] - 0s 2ms/step - loss: 0.3494 - accuracy: 0.8607 - val_loss: 0.3192 - val_accuracy: 0.8786\n",
            "Epoch 24/600\n",
            "35/35 [==============================] - 0s 2ms/step - loss: 0.3446 - accuracy: 0.8679 - val_loss: 0.3064 - val_accuracy: 0.8857\n",
            "Epoch 25/600\n",
            "35/35 [==============================] - 0s 2ms/step - loss: 0.3427 - accuracy: 0.8643 - val_loss: 0.3100 - val_accuracy: 0.8786\n",
            "Epoch 26/600\n",
            "35/35 [==============================] - 0s 2ms/step - loss: 0.3415 - accuracy: 0.8714 - val_loss: 0.3108 - val_accuracy: 0.8786\n",
            "Epoch 27/600\n",
            "35/35 [==============================] - 0s 2ms/step - loss: 0.3423 - accuracy: 0.8643 - val_loss: 0.3020 - val_accuracy: 0.8929\n",
            "Epoch 28/600\n",
            "35/35 [==============================] - 0s 2ms/step - loss: 0.3395 - accuracy: 0.8696 - val_loss: 0.2972 - val_accuracy: 0.8857\n",
            "Epoch 29/600\n",
            "35/35 [==============================] - 0s 2ms/step - loss: 0.3376 - accuracy: 0.8679 - val_loss: 0.3101 - val_accuracy: 0.8786\n",
            "Epoch 30/600\n",
            "35/35 [==============================] - 0s 2ms/step - loss: 0.3353 - accuracy: 0.8732 - val_loss: 0.3002 - val_accuracy: 0.8929\n",
            "Epoch 31/600\n",
            "35/35 [==============================] - 0s 2ms/step - loss: 0.3354 - accuracy: 0.8732 - val_loss: 0.2916 - val_accuracy: 0.8857\n",
            "Epoch 32/600\n",
            "35/35 [==============================] - 0s 2ms/step - loss: 0.3346 - accuracy: 0.8732 - val_loss: 0.2993 - val_accuracy: 0.8857\n",
            "Epoch 33/600\n",
            "35/35 [==============================] - 0s 2ms/step - loss: 0.3342 - accuracy: 0.8696 - val_loss: 0.3005 - val_accuracy: 0.8786\n",
            "Epoch 34/600\n",
            "35/35 [==============================] - 0s 4ms/step - loss: 0.3328 - accuracy: 0.8696 - val_loss: 0.3023 - val_accuracy: 0.8786\n",
            "Epoch 35/600\n",
            "35/35 [==============================] - 0s 3ms/step - loss: 0.3316 - accuracy: 0.8714 - val_loss: 0.3015 - val_accuracy: 0.8786\n",
            "Epoch 36/600\n",
            "35/35 [==============================] - 0s 3ms/step - loss: 0.3311 - accuracy: 0.8714 - val_loss: 0.3058 - val_accuracy: 0.8857\n",
            "Epoch 37/600\n",
            "35/35 [==============================] - 0s 3ms/step - loss: 0.3321 - accuracy: 0.8679 - val_loss: 0.3027 - val_accuracy: 0.8786\n",
            "Epoch 38/600\n",
            "35/35 [==============================] - 0s 3ms/step - loss: 0.3275 - accuracy: 0.8786 - val_loss: 0.2964 - val_accuracy: 0.8857\n",
            "Epoch 39/600\n",
            "35/35 [==============================] - 0s 5ms/step - loss: 0.3271 - accuracy: 0.8732 - val_loss: 0.3027 - val_accuracy: 0.8857\n",
            "Epoch 40/600\n",
            "35/35 [==============================] - 0s 3ms/step - loss: 0.3269 - accuracy: 0.8750 - val_loss: 0.2957 - val_accuracy: 0.8786\n",
            "Epoch 41/600\n",
            "35/35 [==============================] - 0s 3ms/step - loss: 0.3262 - accuracy: 0.8732 - val_loss: 0.3053 - val_accuracy: 0.8929\n",
            "Epoch 42/600\n",
            "35/35 [==============================] - 0s 3ms/step - loss: 0.3281 - accuracy: 0.8643 - val_loss: 0.2912 - val_accuracy: 0.8857\n",
            "Epoch 43/600\n",
            "35/35 [==============================] - 0s 4ms/step - loss: 0.3271 - accuracy: 0.8768 - val_loss: 0.2972 - val_accuracy: 0.8786\n",
            "Epoch 44/600\n",
            "35/35 [==============================] - 0s 3ms/step - loss: 0.3263 - accuracy: 0.8696 - val_loss: 0.3163 - val_accuracy: 0.8786\n",
            "Epoch 45/600\n",
            "35/35 [==============================] - 0s 3ms/step - loss: 0.3269 - accuracy: 0.8696 - val_loss: 0.2922 - val_accuracy: 0.8857\n",
            "Epoch 46/600\n",
            "35/35 [==============================] - 0s 4ms/step - loss: 0.3216 - accuracy: 0.8714 - val_loss: 0.3069 - val_accuracy: 0.8786\n",
            "Epoch 47/600\n",
            "35/35 [==============================] - 0s 5ms/step - loss: 0.3224 - accuracy: 0.8750 - val_loss: 0.3016 - val_accuracy: 0.8857\n",
            "Epoch 48/600\n",
            "35/35 [==============================] - 0s 3ms/step - loss: 0.3209 - accuracy: 0.8750 - val_loss: 0.2943 - val_accuracy: 0.8857\n",
            "Epoch 49/600\n",
            "35/35 [==============================] - 0s 3ms/step - loss: 0.3195 - accuracy: 0.8750 - val_loss: 0.2935 - val_accuracy: 0.8786\n",
            "Epoch 50/600\n",
            "35/35 [==============================] - 0s 3ms/step - loss: 0.3200 - accuracy: 0.8732 - val_loss: 0.2963 - val_accuracy: 0.8786\n",
            "Epoch 51/600\n",
            "35/35 [==============================] - 0s 3ms/step - loss: 0.3196 - accuracy: 0.8750 - val_loss: 0.2982 - val_accuracy: 0.8857\n",
            "Epoch 52/600\n",
            "35/35 [==============================] - 0s 4ms/step - loss: 0.3194 - accuracy: 0.8679 - val_loss: 0.2930 - val_accuracy: 0.8857\n",
            "Epoch 53/600\n",
            "35/35 [==============================] - 0s 3ms/step - loss: 0.3218 - accuracy: 0.8661 - val_loss: 0.2963 - val_accuracy: 0.8786\n",
            "Epoch 54/600\n",
            "35/35 [==============================] - 0s 5ms/step - loss: 0.3198 - accuracy: 0.8714 - val_loss: 0.2955 - val_accuracy: 0.8786\n",
            "Epoch 55/600\n",
            "35/35 [==============================] - 0s 3ms/step - loss: 0.3177 - accuracy: 0.8750 - val_loss: 0.2897 - val_accuracy: 0.8714\n",
            "Epoch 56/600\n",
            "35/35 [==============================] - 0s 3ms/step - loss: 0.3186 - accuracy: 0.8768 - val_loss: 0.2830 - val_accuracy: 0.8857\n",
            "Epoch 57/600\n",
            "35/35 [==============================] - 0s 4ms/step - loss: 0.3217 - accuracy: 0.8714 - val_loss: 0.3078 - val_accuracy: 0.8857\n",
            "Epoch 58/600\n",
            "35/35 [==============================] - 0s 3ms/step - loss: 0.3156 - accuracy: 0.8786 - val_loss: 0.2847 - val_accuracy: 0.8786\n",
            "Epoch 59/600\n",
            "35/35 [==============================] - 0s 3ms/step - loss: 0.3159 - accuracy: 0.8804 - val_loss: 0.2999 - val_accuracy: 0.8857\n",
            "Epoch 60/600\n",
            "35/35 [==============================] - 0s 3ms/step - loss: 0.3159 - accuracy: 0.8768 - val_loss: 0.3011 - val_accuracy: 0.8786\n",
            "Epoch 61/600\n",
            "35/35 [==============================] - 0s 4ms/step - loss: 0.3173 - accuracy: 0.8768 - val_loss: 0.2948 - val_accuracy: 0.8786\n",
            "Epoch 62/600\n",
            "35/35 [==============================] - 0s 3ms/step - loss: 0.3147 - accuracy: 0.8750 - val_loss: 0.3023 - val_accuracy: 0.8786\n",
            "Epoch 63/600\n",
            "35/35 [==============================] - 0s 4ms/step - loss: 0.3133 - accuracy: 0.8750 - val_loss: 0.3014 - val_accuracy: 0.8857\n",
            "Epoch 64/600\n",
            "35/35 [==============================] - 0s 5ms/step - loss: 0.3138 - accuracy: 0.8732 - val_loss: 0.3069 - val_accuracy: 0.8786\n",
            "Epoch 65/600\n",
            "35/35 [==============================] - 0s 4ms/step - loss: 0.3162 - accuracy: 0.8768 - val_loss: 0.2857 - val_accuracy: 0.8857\n",
            "Epoch 66/600\n",
            "35/35 [==============================] - 0s 7ms/step - loss: 0.3149 - accuracy: 0.8714 - val_loss: 0.2958 - val_accuracy: 0.8857\n",
            "Epoch 67/600\n",
            "35/35 [==============================] - 0s 4ms/step - loss: 0.3128 - accuracy: 0.8804 - val_loss: 0.2972 - val_accuracy: 0.8857\n",
            "Epoch 68/600\n",
            "35/35 [==============================] - 0s 3ms/step - loss: 0.3128 - accuracy: 0.8714 - val_loss: 0.3008 - val_accuracy: 0.8786\n",
            "Epoch 69/600\n",
            "35/35 [==============================] - 0s 4ms/step - loss: 0.3099 - accuracy: 0.8804 - val_loss: 0.2904 - val_accuracy: 0.8786\n",
            "Epoch 70/600\n",
            "35/35 [==============================] - 0s 3ms/step - loss: 0.3107 - accuracy: 0.8768 - val_loss: 0.2920 - val_accuracy: 0.8786\n",
            "Epoch 71/600\n",
            "35/35 [==============================] - 0s 7ms/step - loss: 0.3133 - accuracy: 0.8750 - val_loss: 0.3019 - val_accuracy: 0.8786\n"
          ]
        },
        {
          "output_type": "execute_result",
          "data": {
            "text/plain": [
              "[<matplotlib.lines.Line2D at 0x7f96e9418e10>]"
            ]
          },
          "metadata": {},
          "execution_count": 7
        },
        {
          "output_type": "display_data",
          "data": {
            "text/plain": [
              "<Figure size 432x288 with 1 Axes>"
            ],
            "image/png": "[encoded data removed]"
          },
          "metadata": {
            "needs_background": "light"
          }
        }
      ]
    },
    {
      "cell_type": "code",
      "source": [
        "from keras.metrics import accuracy\n",
        "#test_size = X_test.shape[0]\n",
        "pred = classifier.predict(X_test)\n",
        "#print(pred)\n",
        "pred_ = np.argmax(pred, axis = 1)\n",
        "#print(pred_)\n",
        "pred_ = l_encode.inverse_transform(pred_)\n",
        "\n",
        "true_y = l_encode.inverse_transform(np.argmax(to_categorical(y_test), axis = 1)[:,1])\n",
        "\n",
        "\n",
        "#for i,j in zip(pred_, true_y):\n",
        "#    print(\"Predicted: {}, True: {}\".format(i, j))\n",
        "\n",
        "cnt = 0\n",
        "cnt_correct = 0\n",
        "\n",
        "print(\"very hard -> easy\")\n",
        "for i in range(len(pred_)):\n",
        "  cnt += 1\n",
        "  if(pred_[i] == true_y[i]):\n",
        "    cnt_correct += 1\n",
        "  if(pred_[i] == 0 and true_y[i] == 3):\n",
        "    for j in range(len(names)):\n",
        "      print(names[j]+\"->\"+str(X_test_copy.iloc[i][names[j]]))\n",
        "    print(\"------------------------------------------------------------------\")\n",
        "  \n",
        "print(f'accuracy: {(cnt_correct/cnt)*100:.2f}%')"
      ],
      "metadata": {
        "colab": {
          "base_uri": "https://localhost:8080/"
        },
        "id": "-WKM6CPTczGd",
        "outputId": "795eb4ba-abbe-4a16-a223-04824d0ee2b1"
      },
      "execution_count": 8,
      "outputs": [
        {
          "output_type": "stream",
          "name": "stdout",
          "text": [
            "very hard -> easy\n",
            "n/m->2.0\n",
            "n->180.0\n",
            "std.dev->175.294418\n",
            "k->154.0\n",
            "------------------------------------------------------------------\n",
            "n/m->2.0\n",
            "n->160.0\n",
            "std.dev->156.741806\n",
            "k->133.0\n",
            "------------------------------------------------------------------\n",
            "n/m->2.0\n",
            "n->140.0\n",
            "std.dev->49.170376\n",
            "k->98.0\n",
            "------------------------------------------------------------------\n",
            "accuracy: 88.57%\n"
          ]
        }
      ]
    },
    {
      "cell_type": "code",
      "source": [
        "print(\"some vhard->vhard\")\n",
        "cnt = 0\n",
        "cnt_correct = 0\n",
        "for i in range(len(pred_)):\n",
        "  cnt += 1\n",
        "  if(pred_[i] == true_y[i]):\n",
        "    cnt_correct += 1\n",
        "  if(pred_[i] == 3 and true_y[i] == 3):\n",
        "    if(X_test_copy.iloc[i]['n/m'] != 2):\n",
        "      continue\n",
        "    for j in range(len(names)):\n",
        "      print(names[j]+\"->\"+str(X_test_copy.iloc[i][names[j]]))\n",
        "    print(\"------------------------------------------------------------------\")"
      ],
      "metadata": {
        "id": "gpgK3SUyiDgG",
        "outputId": "89980e81-064f-442b-adb1-3d45282d78db",
        "colab": {
          "base_uri": "https://localhost:8080/"
        }
      },
      "execution_count": 9,
      "outputs": [
        {
          "output_type": "stream",
          "name": "stdout",
          "text": [
            "some vhard->vhard\n"
          ]
        }
      ]
    },
    {
      "cell_type": "code",
      "source": [
        "from sklearn.metrics import confusion_matrix, ConfusionMatrixDisplay\n",
        "#for i in range(len(pred_)):\n",
        "#  print(true_y[i])\n",
        "#print(confusion_matrix(true_y, pred_, labels=[0, 1, 2, 3]))\n",
        "cm = confusion_matrix(true_y, pred_, labels=[0, 1, 2, 3])\n",
        "cmd = ConfusionMatrixDisplay(cm, display_labels=['easy','moderate', 'hard', 'very hard'])\n",
        "#plt.subplot(1, 2, 1)\n",
        "cmd.plot()\n",
        "print(f'accuracy: {(cnt_correct/cnt)*100:.2f}%')"
      ],
      "metadata": {
        "colab": {
          "base_uri": "https://localhost:8080/",
          "height": 300
        },
        "id": "td3mlxlNxXqF",
        "outputId": "eb26ab32-9670-42e2-d94f-f000edb511fd"
      },
      "execution_count": 10,
      "outputs": [
        {
          "output_type": "stream",
          "name": "stdout",
          "text": [
            "accuracy: 88.57%\n"
          ]
        },
        {
          "output_type": "display_data",
          "data": {
            "text/plain": [
              "<Figure size 432x288 with 2 Axes>"
            ],
            "image/png": "[encoded data removed]"
          },
          "metadata": {
            "needs_background": "light"
          }
        }
      ]
    },
    {
      "cell_type": "code",
      "source": [
        "y_new = np.array(y_new)\n",
        "plt.hist(y_new)\n",
        "#plt.title('0->[0,2000) : 1->[2000,99999]')\n",
        "plt.show()"
      ],
      "metadata": {
        "id": "a_uXCro7BbBx",
        "outputId": "26fa1a79-ce4d-4499-bc59-ec89f1a1eb26",
        "colab": {
          "base_uri": "https://localhost:8080/",
          "height": 265
        }
      },
      "execution_count": 11,
      "outputs": [
        {
          "output_type": "display_data",
          "data": {
            "text/plain": [
              "<Figure size 432x288 with 1 Axes>"
            ],
            "image/png": "[encoded data removed]"
          },
          "metadata": {
            "needs_background": "light"
          }
        }
      ]
    },
    {
      "cell_type": "code",
      "source": [
        "import matplotlib.pyplot as plt \n",
        "from sklearn.preprocessing import LabelBinarizer\n",
        "from sklearn.metrics import roc_curve, auc, roc_auc_score\n",
        "\n",
        "\n",
        "target= ['easy', 'moderate',  'very hard']\n",
        "\n",
        "fig, c_ax = plt.subplots(1,1, figsize = (12, 8))\n",
        "\n",
        "def multiclass_roc_auc_score(y_test, y_pred, average=\"macro\"):\n",
        "    lb = LabelBinarizer()\n",
        "    lb.fit(y_test)\n",
        "    y_test = lb.transform(y_test)\n",
        "    y_pred = lb.transform(y_pred)\n",
        "\n",
        "    for (idx, c_label) in enumerate(target):\n",
        "        fpr, tpr, thresholds = roc_curve(y_test[:,idx].astype(int), y_pred[:,idx])\n",
        "        c_ax.plot(fpr, tpr, label = '%s (AUC:%0.2f)'  % (c_label, auc(fpr, tpr)))\n",
        "    c_ax.plot(fpr, fpr, 'b-', label = 'Random Guessing')\n",
        "    return roc_auc_score(y_test, y_pred, average=average)\n",
        "\n",
        "\n",
        "print('ROC AUC score:', multiclass_roc_auc_score(true_y, pred_))\n",
        "\n",
        "c_ax.legend()\n",
        "c_ax.set_xlabel('False Positive Rate')\n",
        "c_ax.set_ylabel('True Positive Rate')\n",
        "plt.grid()\n",
        "plt.show()"
      ],
      "metadata": {
        "id": "ilN2NeRZ-wOR",
        "outputId": "d643bc21-1cd7-4bee-b433-8b6d361fb77c",
        "colab": {
          "base_uri": "https://localhost:8080/",
          "height": 514
        }
      },
      "execution_count": 12,
      "outputs": [
        {
          "output_type": "stream",
          "name": "stdout",
          "text": [
            "ROC AUC score: 0.7131062951496387\n"
          ]
        },
        {
          "output_type": "display_data",
          "data": {
            "text/plain": [
              "<Figure size 864x576 with 1 Axes>"
            ],
            "image/png": "[encoded data removed]"
          },
          "metadata": {
            "needs_background": "light"
          }
        }
      ]
    }
  ]
}