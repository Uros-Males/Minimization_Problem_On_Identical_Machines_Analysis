{
  "nbformat": 4,
  "nbformat_minor": 0,
  "metadata": {
    "colab": {
      "name": "Neural_Network_Classification.ipynb",
      "provenance": [],
      "authorship_tag": "ABX9TyO7xfbedtSQEPuhaZGRU8yh",
      "include_colab_link": true
    },
    "kernelspec": {
      "name": "python3",
      "display_name": "Python 3"
    },
    "language_info": {
      "name": "python"
    }
  },
  "cells": [
    {
      "cell_type": "markdown",
      "metadata": {
        "id": "view-in-github",
        "colab_type": "text"
      },
      "source": [
        "<a href=\"https://colab.research.google.com/github/Uros-Males/Minimization_Problem_On_Identical_Machines_Analysis/blob/main/4Neural_Network_Multi_Classs_Classification.ipynb\" target=\"_parent\"><img src=\"https://colab.research.google.com/assets/colab-badge.svg\" alt=\"Open In Colab\"/></a>"
      ]
    },
    {
      "cell_type": "code",
      "execution_count": 1,
      "metadata": {
        "colab": {
          "base_uri": "https://localhost:8080/"
        },
        "id": "6u-X4QiVmgm4",
        "outputId": "f2901951-0ccc-4438-9b90-53163fe4ef31"
      },
      "outputs": [
        {
          "output_type": "stream",
          "name": "stdout",
          "text": [
            "8050\n",
            "   subtype  class  indeks    n   m   n/m  (n/m)^2     (n/m)^3       m/n  \\\n",
            "0       12      4       6   36   4  9.00  81.0000  729.000000  0.111111   \n",
            "1       11      5       3   18   3  6.00  36.0000  216.000000  0.166667   \n",
            "2       10      2       2   40   8  5.00  25.0000  125.000000  0.200000   \n",
            "3       11      7       6   90  15  6.00  36.0000  216.000000  0.166667   \n",
            "4        4      5       1  198  72  2.75   7.5625   20.796875  0.363636   \n",
            "\n",
            "    (m/n)^2   (m/n)^3   av.length    std.dev  median  range  min  max    k  \n",
            "0  0.012346  0.001372  103.027779  24.033888   102.0     88   62  150   31  \n",
            "1  0.027778  0.004630   85.722221  41.653759    81.5    131   35  166   18  \n",
            "2  0.040000  0.008000   64.625000  22.914207    68.0     79   21  100   32  \n",
            "3  0.027778  0.004630  378.444458  83.558784   381.5    435  134  569   78  \n",
            "4  0.132231  0.048084  103.702019  48.059044   103.5    227    2  229  114  \n"
          ]
        }
      ],
      "source": [
        "#IN PROGRESS....\n",
        "import pandas as pd\n",
        "import numpy as np\n",
        "import matplotlib.pyplot as plt\n",
        "from sklearn import tree\n",
        "from sklearn.model_selection import train_test_split\n",
        "from sklearn.tree import DecisionTreeRegressor\n",
        "import time\n",
        "import keras\n",
        "\n",
        "df = pd.read_csv('/content/sample_data/C-instances-runtime-analysis.csv')\n",
        "df = df[df['n/m']!=2]\n",
        "print(df.shape[0])\n",
        "#df = df.drop(['inst.name', 'type', 'CPLEXStatus'], axis = 1)\n",
        "#standard_deviations = 3\n",
        "#df = df[df.apply(lambda x: np.abs(x - x.mean()) / x.std() < standard_deviations)\n",
        "#   .all(axis=1)]\n",
        "\n",
        "#print(df.shape[0])\n",
        "\n",
        "#names = ['indeks', 'n', 'n/m', '(n/m)^2', '(n/m)^3', 'm/n', '(m/n)^2',\n",
        "   #      '(m/n)^3', 'av.length', 'std.dev', 'median', 'range', 'min', 'max', 'k']\n",
        "#for i in range(df.shape[0]):\n",
        " # if(df.iloc[i]['n/m'] == 2 and df.iloc[i]['y']==99999):\n",
        "  #  for j in range(len(names)):\n",
        "   #   print(names[j]+\"->\"+str(df.iloc[i][names[j]]))\n",
        "    #print(\"------------------------------------------------------------------\")\n",
        "\n",
        "\n",
        "shuffled = df.sample(frac=1).reset_index()\n",
        "\n",
        "#, 'CPLEXStatus'\n",
        "columns_dont_want = ['y', 'index', 'inst.name','type', 'CPLEXStatus'] #cple\n",
        "select = [x for x in shuffled.columns if x not in columns_dont_want]\n",
        "\n",
        "X = shuffled.loc[:, select]\n",
        "\n",
        "y = shuffled.loc[:,'y']\n",
        "print(X.head())\n",
        "names = ['indeks', 'n', 'n/m', '(n/m)^2', '(n/m)^3', 'm/n', 'av.length', 'std.dev', 'median', 'range', 'min', 'max', 'k']\n",
        "#print(names[1])\n",
        "\n",
        "\n"
      ]
    },
    {
      "cell_type": "code",
      "source": [
        "y_new = []\n",
        "for val in y:\n",
        "  if(val<10):\n",
        "    y_new.append(0)\n",
        "  elif(10 <= val and val <100):\n",
        "    y_new.append(1)\n",
        "  elif(100<=val and val<1000):\n",
        "    y_new.append(2)\n",
        "  else:\n",
        "    y_new.append(3)\n",
        "\n",
        "shuffled['y_new'] = y_new\n",
        "#print(shuffled.head())\n",
        "y_encoded = shuffled.loc[:,'y_new']\n",
        "y_new = np.array(y_new)\n",
        "plt.hist(y_new)\n",
        "plt.show()\n",
        "X_modified = X\n",
        "#X_modified = X.drop(['n/m', '(n/m)^2', '(n/m)^3', 'm/n', '(m/n)^2', '(m/n)^3', 'max', 'av.length'], axis = 1)\n",
        "#print(X_modified.shape[1])"
      ],
      "metadata": {
        "id": "XkPXcbO0riCC",
        "colab": {
          "base_uri": "https://localhost:8080/",
          "height": 265
        },
        "outputId": "4a0f1850-01d9-4fc7-abaa-cbd8cba828aa"
      },
      "execution_count": 2,
      "outputs": [
        {
          "output_type": "display_data",
          "data": {
            "text/plain": [
              "<Figure size 432x288 with 1 Axes>"
            ],
            "image/png": "[encoded data removed]"
          },
          "metadata": {
            "needs_background": "light"
          }
        }
      ]
    },
    {
      "cell_type": "code",
      "source": [
        "from imblearn.over_sampling import RandomOverSampler\n",
        "\n",
        "names = ['n/m', 'max','av.length']\n",
        "X_modified = X.drop([ 'n', 'median', 'range', 'std.dev',  'min','indeks', 'class',  'subtype', '(m/n)^3', '(m/n)^2', '(n/m)^2', '(n/m)^3','m/n','m'], axis = 1)\n",
        "X_modified['n/m'] = X_modified['n/m']\n",
        "print(X_modified.head())\n",
        "\n",
        "oversample = RandomOverSampler(random_state=0)\n",
        "#oversample.fit(X_modified, y_encoded)\n",
        "X_modified, y_encoded = oversample.fit_resample(X_modified, y_encoded)"
      ],
      "metadata": {
        "colab": {
          "base_uri": "https://localhost:8080/"
        },
        "id": "LrtevYk9142O",
        "outputId": "c74e21d1-4b3e-4f0d-b5b1-bc3183430b27"
      },
      "execution_count": 3,
      "outputs": [
        {
          "output_type": "stream",
          "name": "stdout",
          "text": [
            "    n/m   av.length  max    k\n",
            "0  9.00  103.027779  150   31\n",
            "1  6.00   85.722221  166   18\n",
            "2  5.00   64.625000  100   32\n",
            "3  6.00  378.444458  569   78\n",
            "4  2.75  103.702019  229  114\n"
          ]
        }
      ]
    },
    {
      "cell_type": "code",
      "source": [
        "from sklearn.preprocessing import LabelEncoder\n",
        "from keras.utils.np_utils import to_categorical\n",
        "\n",
        "l_encode = LabelEncoder()\n",
        "l_encode.fit(y_encoded)\n",
        "y_encoded = l_encode.transform(y_encoded)\n",
        "y_encoded = to_categorical(y_encoded)\n",
        "y_encoded"
      ],
      "metadata": {
        "colab": {
          "base_uri": "https://localhost:8080/"
        },
        "id": "W2hvUxxE2NWr",
        "outputId": "c42c7c7e-6c75-46dd-8588-19c093ae4493"
      },
      "execution_count": 4,
      "outputs": [
        {
          "output_type": "execute_result",
          "data": {
            "text/plain": [
              "array([[0., 1., 0., 0.],\n",
              "       [1., 0., 0., 0.],\n",
              "       [0., 1., 0., 0.],\n",
              "       ...,\n",
              "       [0., 0., 0., 1.],\n",
              "       [0., 0., 0., 1.],\n",
              "       [0., 0., 0., 1.]], dtype=float32)"
            ]
          },
          "metadata": {},
          "execution_count": 4
        }
      ]
    },
    {
      "cell_type": "code",
      "source": [
        "from sklearn import preprocessing\n",
        "\n",
        "from sklearn.preprocessing import StandardScaler\n",
        "\n",
        "sc = StandardScaler()\n",
        "\n",
        "#X = pd.DataFrame(X, columns=names)\n",
        "#print(X.head())\n",
        "\n",
        "from sklearn.decomposition import PCA\n",
        "\n",
        "#,'PC2','PC3','PC4','PC5','PC6','PC7','PC8\n",
        "#pca = PCA(n_components=9)\n",
        "#pca.fit(X)\n",
        "#X = pca.transform(X)\n",
        "#X = pd.DataFrame(X,columns=['PC1','PC2','PC3','PC4','PC5','PC6','PC7','PC8','PC9'])\n",
        "\n",
        "\n",
        "#from scipy import stats\n",
        "#df[(np.abs(stats.zscore(df)) < 3).all(axis=1)]\n",
        "\n",
        "X_train, X_test, y_train, y_test = train_test_split(X_modified, y_encoded, random_state=0, train_size = 0.83)\n",
        "X_train, X_val, y_train, y_val = train_test_split(X_train, y_train, random_state=0, train_size = 0.83)\n",
        "print(X_train.shape[0])\n",
        "print(X_val.shape[0])\n",
        "print(X_test.shape[0])\n",
        "\n",
        "X_train = sc.fit_transform(X_train)\n",
        "X_test_copy = X_test\n",
        "X_test = sc.transform(X_test)\n",
        "X_val_copy = X_val\n",
        "X_val = sc.transform(X_val)\n"
      ],
      "metadata": {
        "id": "kx4jr-6Qaxpv",
        "outputId": "74da84be-c2d4-4660-f848-6bd173061a9f",
        "colab": {
          "base_uri": "https://localhost:8080/"
        }
      },
      "execution_count": 5,
      "outputs": [
        {
          "output_type": "stream",
          "name": "stdout",
          "text": [
            "8129\n",
            "1665\n",
            "2006\n"
          ]
        }
      ]
    },
    {
      "cell_type": "code",
      "source": [
        "from keras.models import Sequential\n",
        "from keras.layers import Dense, Dropout\n",
        "\n",
        "classifier = Sequential()\n",
        "classifier.add(Dense(4, input_dim = X_modified.shape[1], activation='relu'))\n",
        "#classifier.add(Dense(8, activation = 'relu'))\n",
        "\n",
        "classifier.add(Dense(8, activation = 'relu'))\n",
        "\n",
        "#classifier.add(Dense(32, activation = 'relu'))\n",
        "#classifier.add(Dense(32, activation = 'relu'))\n",
        "#classifier.add(Dense(16, activation = 'relu'))\n",
        "\n",
        "classifier.add(Dense(16, activation='relu'))\n",
        "classifier.add(Dropout(0.5))\n",
        "\n",
        "classifier.add(Dense(8, activation='relu'))\n",
        "\n",
        "#classifier.add(Dense(8, activation='relu'))\n",
        "\n",
        "\n",
        "classifier.add(Dense(4, activation='relu'))\n",
        "\n",
        "classifier.add(Dense(4, activation = 'softmax'))\n",
        "classifier.compile(loss = 'categorical_crossentropy', optimizer = 'adam', metrics = ['accuracy'])\n",
        "classifier.summary()"
      ],
      "metadata": {
        "id": "jRT-grzys8_y",
        "colab": {
          "base_uri": "https://localhost:8080/"
        },
        "outputId": "221ab47a-ea83-4fe6-c682-8cae1412822f"
      },
      "execution_count": 6,
      "outputs": [
        {
          "output_type": "stream",
          "name": "stdout",
          "text": [
            "Model: \"sequential\"\n",
            "_________________________________________________________________\n",
            " Layer (type)                Output Shape              Param #   \n",
            "=================================================================\n",
            " dense (Dense)               (None, 4)                 20        \n",
            "                                                                 \n",
            " dense_1 (Dense)             (None, 8)                 40        \n",
            "                                                                 \n",
            " dense_2 (Dense)             (None, 16)                144       \n",
            "                                                                 \n",
            " dropout (Dropout)           (None, 16)                0         \n",
            "                                                                 \n",
            " dense_3 (Dense)             (None, 8)                 136       \n",
            "                                                                 \n",
            " dense_4 (Dense)             (None, 4)                 36        \n",
            "                                                                 \n",
            " dense_5 (Dense)             (None, 4)                 20        \n",
            "                                                                 \n",
            "=================================================================\n",
            "Total params: 396\n",
            "Trainable params: 396\n",
            "Non-trainable params: 0\n",
            "_________________________________________________________________\n"
          ]
        }
      ]
    },
    {
      "cell_type": "code",
      "source": [
        "#classifier.fit(X_train, y_train, batch_size = 64, epochs = 20, verbose = 1)\n",
        "#scores = classifier.evaluate(X_test, y_test)\n",
        "#for i, m in enumerate(classifier.metrics_names):\n",
        "#    print(\"\\n%s: %.3f\"% (m, scores[i]))\n",
        "#print(X_test_copy.iloc[0]['subtype'])"
      ],
      "metadata": {
        "id": "Mm7RsTBcx2EN"
      },
      "execution_count": 7,
      "outputs": []
    },
    {
      "cell_type": "code",
      "source": [
        "from keras.metrics import accuracy\n",
        "from keras import callbacks\n",
        "earlystopping = callbacks.EarlyStopping(monitor =\"val_loss\", \n",
        "                                        mode =\"min\", patience = 25, \n",
        "                                        restore_best_weights = True)\n",
        "  \n",
        "history = classifier.fit(X_train, y_train, batch_size = 32, \n",
        "                    epochs = 600, validation_data =(X_val, y_val), \n",
        "                    callbacks =[earlystopping])\n",
        "plt.plot(history.history['val_accuracy'])\n",
        "\n"
      ],
      "metadata": {
        "colab": {
          "base_uri": "https://localhost:8080/",
          "height": 1000
        },
        "id": "Sv9aKFPW5KGr",
        "outputId": "05c2185b-feb4-4ba3-abbe-368afd521206"
      },
      "execution_count": 8,
      "outputs": [
        {
          "output_type": "stream",
          "name": "stdout",
          "text": [
            "Epoch 1/600\n",
            "255/255 [==============================] - 2s 3ms/step - loss: 1.3312 - accuracy: 0.3441 - val_loss: 1.1764 - val_accuracy: 0.4913\n",
            "Epoch 2/600\n",
            "255/255 [==============================] - 1s 4ms/step - loss: 1.0365 - accuracy: 0.5769 - val_loss: 0.8740 - val_accuracy: 0.6811\n",
            "Epoch 3/600\n",
            "255/255 [==============================] - 1s 4ms/step - loss: 0.8887 - accuracy: 0.6592 - val_loss: 0.7987 - val_accuracy: 0.7141\n",
            "Epoch 4/600\n",
            "255/255 [==============================] - 1s 4ms/step - loss: 0.8332 - accuracy: 0.6690 - val_loss: 0.7529 - val_accuracy: 0.7129\n",
            "Epoch 5/600\n",
            "255/255 [==============================] - 1s 5ms/step - loss: 0.7868 - accuracy: 0.6947 - val_loss: 0.7520 - val_accuracy: 0.7015\n",
            "Epoch 6/600\n",
            "255/255 [==============================] - 1s 3ms/step - loss: 0.7679 - accuracy: 0.6926 - val_loss: 0.7028 - val_accuracy: 0.7213\n",
            "Epoch 7/600\n",
            "255/255 [==============================] - 1s 5ms/step - loss: 0.7510 - accuracy: 0.6946 - val_loss: 0.6910 - val_accuracy: 0.7339\n",
            "Epoch 8/600\n",
            "255/255 [==============================] - 1s 4ms/step - loss: 0.7283 - accuracy: 0.7089 - val_loss: 0.6753 - val_accuracy: 0.7165\n",
            "Epoch 9/600\n",
            "255/255 [==============================] - 1s 5ms/step - loss: 0.7215 - accuracy: 0.7002 - val_loss: 0.6601 - val_accuracy: 0.7213\n",
            "Epoch 10/600\n",
            "255/255 [==============================] - 1s 4ms/step - loss: 0.7059 - accuracy: 0.7083 - val_loss: 0.6543 - val_accuracy: 0.7189\n",
            "Epoch 11/600\n",
            "255/255 [==============================] - 1s 4ms/step - loss: 0.6965 - accuracy: 0.7076 - val_loss: 0.6495 - val_accuracy: 0.7219\n",
            "Epoch 12/600\n",
            "255/255 [==============================] - 1s 5ms/step - loss: 0.6960 - accuracy: 0.7034 - val_loss: 0.6406 - val_accuracy: 0.7255\n",
            "Epoch 13/600\n",
            "255/255 [==============================] - 1s 5ms/step - loss: 0.6704 - accuracy: 0.7123 - val_loss: 0.6407 - val_accuracy: 0.7255\n",
            "Epoch 14/600\n",
            "255/255 [==============================] - 1s 4ms/step - loss: 0.6782 - accuracy: 0.7125 - val_loss: 0.6290 - val_accuracy: 0.7417\n",
            "Epoch 15/600\n",
            "255/255 [==============================] - 1s 4ms/step - loss: 0.6666 - accuracy: 0.7194 - val_loss: 0.6264 - val_accuracy: 0.7297\n",
            "Epoch 16/600\n",
            "255/255 [==============================] - 1s 5ms/step - loss: 0.6686 - accuracy: 0.7132 - val_loss: 0.6241 - val_accuracy: 0.7285\n",
            "Epoch 17/600\n",
            "255/255 [==============================] - 1s 4ms/step - loss: 0.6574 - accuracy: 0.7211 - val_loss: 0.6189 - val_accuracy: 0.7321\n",
            "Epoch 18/600\n",
            "255/255 [==============================] - 1s 5ms/step - loss: 0.6586 - accuracy: 0.7195 - val_loss: 0.6225 - val_accuracy: 0.7411\n",
            "Epoch 19/600\n",
            "255/255 [==============================] - 1s 5ms/step - loss: 0.6726 - accuracy: 0.7094 - val_loss: 0.6188 - val_accuracy: 0.7339\n",
            "Epoch 20/600\n",
            "255/255 [==============================] - 1s 4ms/step - loss: 0.6503 - accuracy: 0.7196 - val_loss: 0.6150 - val_accuracy: 0.7357\n",
            "Epoch 21/600\n",
            "255/255 [==============================] - 1s 4ms/step - loss: 0.6445 - accuracy: 0.7283 - val_loss: 0.6090 - val_accuracy: 0.7363\n",
            "Epoch 22/600\n",
            "255/255 [==============================] - 1s 6ms/step - loss: 0.6485 - accuracy: 0.7241 - val_loss: 0.6101 - val_accuracy: 0.7339\n",
            "Epoch 23/600\n",
            "255/255 [==============================] - 1s 5ms/step - loss: 0.6350 - accuracy: 0.7303 - val_loss: 0.6109 - val_accuracy: 0.7327\n",
            "Epoch 24/600\n",
            "255/255 [==============================] - 1s 3ms/step - loss: 0.6345 - accuracy: 0.7329 - val_loss: 0.6012 - val_accuracy: 0.7369\n",
            "Epoch 25/600\n",
            "255/255 [==============================] - 1s 2ms/step - loss: 0.6408 - accuracy: 0.7254 - val_loss: 0.5919 - val_accuracy: 0.7363\n",
            "Epoch 26/600\n",
            "255/255 [==============================] - 1s 2ms/step - loss: 0.6283 - accuracy: 0.7289 - val_loss: 0.5977 - val_accuracy: 0.7441\n",
            "Epoch 27/600\n",
            "255/255 [==============================] - 1s 2ms/step - loss: 0.6239 - accuracy: 0.7366 - val_loss: 0.5921 - val_accuracy: 0.7387\n",
            "Epoch 28/600\n",
            "255/255 [==============================] - 1s 2ms/step - loss: 0.6273 - accuracy: 0.7334 - val_loss: 0.5872 - val_accuracy: 0.7303\n",
            "Epoch 29/600\n",
            "255/255 [==============================] - 1s 2ms/step - loss: 0.6188 - accuracy: 0.7343 - val_loss: 0.5868 - val_accuracy: 0.7477\n",
            "Epoch 30/600\n",
            "255/255 [==============================] - 1s 2ms/step - loss: 0.6221 - accuracy: 0.7335 - val_loss: 0.5780 - val_accuracy: 0.7435\n",
            "Epoch 31/600\n",
            "255/255 [==============================] - 1s 2ms/step - loss: 0.6214 - accuracy: 0.7353 - val_loss: 0.5783 - val_accuracy: 0.7447\n",
            "Epoch 32/600\n",
            "255/255 [==============================] - 1s 2ms/step - loss: 0.6148 - accuracy: 0.7367 - val_loss: 0.5793 - val_accuracy: 0.7423\n",
            "Epoch 33/600\n",
            "255/255 [==============================] - 1s 2ms/step - loss: 0.6113 - accuracy: 0.7344 - val_loss: 0.5771 - val_accuracy: 0.7465\n",
            "Epoch 34/600\n",
            "255/255 [==============================] - 1s 2ms/step - loss: 0.6139 - accuracy: 0.7383 - val_loss: 0.5735 - val_accuracy: 0.7399\n",
            "Epoch 35/600\n",
            "255/255 [==============================] - 1s 2ms/step - loss: 0.6208 - accuracy: 0.7334 - val_loss: 0.6107 - val_accuracy: 0.7381\n",
            "Epoch 36/600\n",
            "255/255 [==============================] - 1s 2ms/step - loss: 0.6221 - accuracy: 0.7364 - val_loss: 0.5740 - val_accuracy: 0.7399\n",
            "Epoch 37/600\n",
            "255/255 [==============================] - 1s 2ms/step - loss: 0.6196 - accuracy: 0.7307 - val_loss: 0.5878 - val_accuracy: 0.7429\n",
            "Epoch 38/600\n",
            "255/255 [==============================] - 1s 2ms/step - loss: 0.6033 - accuracy: 0.7354 - val_loss: 0.5660 - val_accuracy: 0.7465\n",
            "Epoch 39/600\n",
            "255/255 [==============================] - 1s 2ms/step - loss: 0.5998 - accuracy: 0.7430 - val_loss: 0.5771 - val_accuracy: 0.7568\n",
            "Epoch 40/600\n",
            "255/255 [==============================] - 1s 2ms/step - loss: 0.6062 - accuracy: 0.7414 - val_loss: 0.5751 - val_accuracy: 0.7526\n",
            "Epoch 41/600\n",
            "255/255 [==============================] - 1s 2ms/step - loss: 0.5991 - accuracy: 0.7418 - val_loss: 0.5627 - val_accuracy: 0.7477\n",
            "Epoch 42/600\n",
            "255/255 [==============================] - 1s 2ms/step - loss: 0.6055 - accuracy: 0.7375 - val_loss: 0.5744 - val_accuracy: 0.7544\n",
            "Epoch 43/600\n",
            "255/255 [==============================] - 1s 2ms/step - loss: 0.6011 - accuracy: 0.7375 - val_loss: 0.5782 - val_accuracy: 0.7526\n",
            "Epoch 44/600\n",
            "255/255 [==============================] - 1s 2ms/step - loss: 0.6009 - accuracy: 0.7386 - val_loss: 0.5644 - val_accuracy: 0.7447\n",
            "Epoch 45/600\n",
            "255/255 [==============================] - 1s 2ms/step - loss: 0.6027 - accuracy: 0.7376 - val_loss: 0.5599 - val_accuracy: 0.7508\n",
            "Epoch 46/600\n",
            "255/255 [==============================] - 1s 2ms/step - loss: 0.5947 - accuracy: 0.7363 - val_loss: 0.5717 - val_accuracy: 0.7387\n",
            "Epoch 47/600\n",
            "255/255 [==============================] - 1s 2ms/step - loss: 0.6013 - accuracy: 0.7353 - val_loss: 0.5686 - val_accuracy: 0.7604\n",
            "Epoch 48/600\n",
            "255/255 [==============================] - 1s 2ms/step - loss: 0.5943 - accuracy: 0.7463 - val_loss: 0.5681 - val_accuracy: 0.7514\n",
            "Epoch 49/600\n",
            "255/255 [==============================] - 1s 2ms/step - loss: 0.5999 - accuracy: 0.7281 - val_loss: 0.5715 - val_accuracy: 0.7556\n",
            "Epoch 50/600\n",
            "255/255 [==============================] - 1s 2ms/step - loss: 0.5884 - accuracy: 0.7406 - val_loss: 0.5780 - val_accuracy: 0.7538\n",
            "Epoch 51/600\n",
            "255/255 [==============================] - 1s 2ms/step - loss: 0.5831 - accuracy: 0.7481 - val_loss: 0.5611 - val_accuracy: 0.7604\n",
            "Epoch 52/600\n",
            "255/255 [==============================] - 1s 2ms/step - loss: 0.5958 - accuracy: 0.7392 - val_loss: 0.5740 - val_accuracy: 0.7526\n",
            "Epoch 53/600\n",
            "255/255 [==============================] - 1s 2ms/step - loss: 0.5917 - accuracy: 0.7404 - val_loss: 0.5607 - val_accuracy: 0.7580\n",
            "Epoch 54/600\n",
            "255/255 [==============================] - 1s 2ms/step - loss: 0.5838 - accuracy: 0.7497 - val_loss: 0.5722 - val_accuracy: 0.7586\n",
            "Epoch 55/600\n",
            "255/255 [==============================] - 1s 2ms/step - loss: 0.5824 - accuracy: 0.7495 - val_loss: 0.5675 - val_accuracy: 0.7441\n",
            "Epoch 56/600\n",
            "255/255 [==============================] - 1s 2ms/step - loss: 0.5789 - accuracy: 0.7486 - val_loss: 0.5638 - val_accuracy: 0.7532\n",
            "Epoch 57/600\n",
            "255/255 [==============================] - 1s 2ms/step - loss: 0.5840 - accuracy: 0.7476 - val_loss: 0.5710 - val_accuracy: 0.7508\n",
            "Epoch 58/600\n",
            "255/255 [==============================] - 1s 2ms/step - loss: 0.5811 - accuracy: 0.7446 - val_loss: 0.5773 - val_accuracy: 0.7550\n",
            "Epoch 59/600\n",
            "255/255 [==============================] - 1s 2ms/step - loss: 0.5716 - accuracy: 0.7452 - val_loss: 0.5860 - val_accuracy: 0.7417\n",
            "Epoch 60/600\n",
            "255/255 [==============================] - 1s 2ms/step - loss: 0.5734 - accuracy: 0.7503 - val_loss: 0.5649 - val_accuracy: 0.7550\n",
            "Epoch 61/600\n",
            "255/255 [==============================] - 1s 2ms/step - loss: 0.5750 - accuracy: 0.7503 - val_loss: 0.5638 - val_accuracy: 0.7514\n",
            "Epoch 62/600\n",
            "255/255 [==============================] - 1s 2ms/step - loss: 0.5748 - accuracy: 0.7486 - val_loss: 0.5664 - val_accuracy: 0.7508\n",
            "Epoch 63/600\n",
            "255/255 [==============================] - 1s 2ms/step - loss: 0.5770 - accuracy: 0.7498 - val_loss: 0.5765 - val_accuracy: 0.7399\n",
            "Epoch 64/600\n",
            "255/255 [==============================] - 1s 2ms/step - loss: 0.5710 - accuracy: 0.7518 - val_loss: 0.5640 - val_accuracy: 0.7495\n",
            "Epoch 65/600\n",
            "255/255 [==============================] - 1s 2ms/step - loss: 0.5723 - accuracy: 0.7543 - val_loss: 0.5648 - val_accuracy: 0.7526\n",
            "Epoch 66/600\n",
            "255/255 [==============================] - 1s 2ms/step - loss: 0.5740 - accuracy: 0.7472 - val_loss: 0.5823 - val_accuracy: 0.7538\n",
            "Epoch 67/600\n",
            "255/255 [==============================] - 1s 2ms/step - loss: 0.5733 - accuracy: 0.7520 - val_loss: 0.5651 - val_accuracy: 0.7489\n",
            "Epoch 68/600\n",
            "255/255 [==============================] - 1s 3ms/step - loss: 0.5710 - accuracy: 0.7478 - val_loss: 0.5610 - val_accuracy: 0.7508\n",
            "Epoch 69/600\n",
            "255/255 [==============================] - 1s 2ms/step - loss: 0.5649 - accuracy: 0.7524 - val_loss: 0.5641 - val_accuracy: 0.7483\n",
            "Epoch 70/600\n",
            "255/255 [==============================] - 1s 3ms/step - loss: 0.5659 - accuracy: 0.7527 - val_loss: 0.5771 - val_accuracy: 0.7441\n"
          ]
        },
        {
          "output_type": "execute_result",
          "data": {
            "text/plain": [
              "[<matplotlib.lines.Line2D at 0x7f169f040310>]"
            ]
          },
          "metadata": {},
          "execution_count": 8
        },
        {
          "output_type": "display_data",
          "data": {
            "text/plain": [
              "<Figure size 432x288 with 1 Axes>"
            ],
            "image/png": "[encoded data removed]"
          },
          "metadata": {
            "needs_background": "light"
          }
        }
      ]
    },
    {
      "cell_type": "code",
      "source": [
        "from keras.metrics import accuracy\n",
        "#test_size = X_test.shape[0]\n",
        "pred = classifier.predict(X_val)\n",
        "#print(pred)\n",
        "pred_ = np.argmax(pred, axis = 1)\n",
        "#print(pred_)\n",
        "pred_ = l_encode.inverse_transform(pred_)\n",
        "\n",
        "true_y = l_encode.inverse_transform(np.argmax(to_categorical(y_val), axis = 1)[:,1])\n",
        "from sklearn.metrics import confusion_matrix, ConfusionMatrixDisplay\n",
        "#for i in range(len(pred_)):\n",
        "#  print(true_y[i])\n",
        "#print(confusion_matrix(true_y, pred_, labels=[0, 1, 2, 3]))\n",
        "cm = confusion_matrix(true_y, pred_, labels=[0, 1, 2, 3])\n",
        "cmd = ConfusionMatrixDisplay(cm, display_labels=['easy','moderate', 'hard', 'very hard'])\n",
        "#plt.subplot(1, 2, 1)\n",
        "cmd.plot()\n",
        "#print(f'accuracy: {(cnt_correct/cnt)*100:.2f}%')\n"
      ],
      "metadata": {
        "id": "lMi7aVVrO4dg",
        "outputId": "e0e271ba-a791-4212-d0f5-b94089693335",
        "colab": {
          "base_uri": "https://localhost:8080/",
          "height": 296
        }
      },
      "execution_count": 9,
      "outputs": [
        {
          "output_type": "execute_result",
          "data": {
            "text/plain": [
              "<sklearn.metrics._plot.confusion_matrix.ConfusionMatrixDisplay at 0x7f1695245c10>"
            ]
          },
          "metadata": {},
          "execution_count": 9
        },
        {
          "output_type": "display_data",
          "data": {
            "text/plain": [
              "<Figure size 432x288 with 2 Axes>"
            ],
            "image/png": "[encoded data removed]"
          },
          "metadata": {
            "needs_background": "light"
          }
        }
      ]
    },
    {
      "cell_type": "code",
      "source": [
        "from keras.metrics import accuracy\n",
        "#test_size = X_test.shape[0]\n",
        "pred = classifier.predict(X_test)\n",
        "#print(pred)\n",
        "pred_ = np.argmax(pred, axis = 1)\n",
        "#print(pred_)\n",
        "pred_ = l_encode.inverse_transform(pred_)\n",
        "\n",
        "true_y = l_encode.inverse_transform(np.argmax(to_categorical(y_test), axis = 1)[:,1])\n",
        "\n",
        "\n",
        "#for i,j in zip(pred_, true_y):\n",
        "#    print(\"Predicted: {}, True: {}\".format(i, j))\n",
        "\n",
        "cnt = 0\n",
        "cnt_correct = 0\n",
        "\n",
        "print(\"very hard -> easy\")\n",
        "for i in range(len(pred_)):\n",
        "  cnt += 1\n",
        "  if(pred_[i] == true_y[i]):\n",
        "    cnt_correct += 1\n",
        " # if(pred_[i] == 0 and true_y[i] == 3):\n",
        "   # for j in range(len(names)):\n",
        "  #    print(names[j]+\"->\"+str(X_test_copy.iloc[i][names[j]]))\n",
        " #   print(\"------------------------------------------------------------------\")\n",
        "  \n",
        "#print(f'accuracy: {(cnt_correct/cnt)*100:.2f}%')"
      ],
      "metadata": {
        "colab": {
          "base_uri": "https://localhost:8080/"
        },
        "id": "-WKM6CPTczGd",
        "outputId": "dbc79dfb-523b-4874-b24d-e9ea5b8a8439"
      },
      "execution_count": 10,
      "outputs": [
        {
          "output_type": "stream",
          "name": "stdout",
          "text": [
            "very hard -> easy\n"
          ]
        }
      ]
    },
    {
      "cell_type": "code",
      "source": [
        "print(\"some vhard->vhard\")\n",
        "cnt = 0\n",
        "cnt_correct = 0\n",
        "for i in range(len(pred_)):\n",
        "  cnt += 1\n",
        "  if(pred_[i] == true_y[i]):\n",
        "    cnt_correct += 1\n",
        "  #if(pred_[i] == 3 and true_y[i] == 3 and cnt<250):\n",
        "   # if(X_test_copy.iloc[i]['n/m'] != 2):\n",
        "    #  continue\n",
        "    #for j in range(len(names)):\n",
        "      #print(names[j]+\"->\"+str(X_test_copy.iloc[i][names[j]]))\n",
        "    #print(\"------------------------------------------------------------------\")"
      ],
      "metadata": {
        "id": "gpgK3SUyiDgG",
        "outputId": "5837537f-590a-4753-8bd0-db008cc12555",
        "colab": {
          "base_uri": "https://localhost:8080/"
        }
      },
      "execution_count": 11,
      "outputs": [
        {
          "output_type": "stream",
          "name": "stdout",
          "text": [
            "some vhard->vhard\n"
          ]
        }
      ]
    },
    {
      "cell_type": "code",
      "source": [
        "from sklearn.metrics import confusion_matrix, ConfusionMatrixDisplay\n",
        "#for i in range(len(pred_)):\n",
        "#  print(true_y[i])\n",
        "#print(confusion_matrix(true_y, pred_, labels=[0, 1, 2, 3]))\n",
        "cm = confusion_matrix(true_y, pred_, labels=[0, 1, 2, 3])\n",
        "cmd = ConfusionMatrixDisplay(cm, display_labels=['easy','moderate', 'hard', 'very hard'])\n",
        "#plt.subplot(1, 2, 1)\n",
        "cmd.plot()\n",
        "print(f'accuracy: {(cnt_correct/cnt)*100:.2f}%')"
      ],
      "metadata": {
        "colab": {
          "base_uri": "https://localhost:8080/",
          "height": 296
        },
        "id": "td3mlxlNxXqF",
        "outputId": "f0f33163-f8bb-47f2-eff0-92558143f738"
      },
      "execution_count": 12,
      "outputs": [
        {
          "output_type": "stream",
          "name": "stdout",
          "text": [
            "accuracy: 77.62%\n"
          ]
        },
        {
          "output_type": "display_data",
          "data": {
            "text/plain": [
              "<Figure size 432x288 with 2 Axes>"
            ],
            "image/png": "[encoded data removed]"
          },
          "metadata": {
            "needs_background": "light"
          }
        }
      ]
    },
    {
      "cell_type": "code",
      "source": [
        "import matplotlib.pyplot as plt \n",
        "from sklearn.preprocessing import LabelBinarizer\n",
        "from sklearn.metrics import roc_curve, auc, roc_auc_score\n",
        "\n",
        "\n",
        "target= ['easy', 'moderate', 'hard', 'very hard']\n",
        "\n",
        "fig, c_ax = plt.subplots(1,1, figsize = (12, 8))\n",
        "\n",
        "def multiclass_roc_auc_score(y_test, y_pred, average=\"macro\"):\n",
        "    lb = LabelBinarizer()\n",
        "    lb.fit(y_test)\n",
        "    y_test = lb.transform(y_test)\n",
        "    y_pred = lb.transform(y_pred)\n",
        "\n",
        "    for (idx, c_label) in enumerate(target):\n",
        "        fpr, tpr, thresholds = roc_curve(y_test[:,idx].astype(int), y_pred[:,idx])\n",
        "        c_ax.plot(fpr, tpr, label = '%s (AUC:%0.2f)'  % (c_label, auc(fpr, tpr)))\n",
        "    c_ax.plot(fpr, fpr, 'b-', label = 'Random Guessing')\n",
        "    return roc_auc_score(y_test, y_pred, average=average)\n",
        "\n",
        "\n",
        "print('ROC AUC score:', multiclass_roc_auc_score(true_y, pred_))\n",
        "\n",
        "c_ax.legend()\n",
        "c_ax.set_xlabel('False Positive Rate')\n",
        "c_ax.set_ylabel('True Positive Rate')\n",
        "plt.grid()\n",
        "plt.show()"
      ],
      "metadata": {
        "id": "ilN2NeRZ-wOR",
        "outputId": "39f72298-a0e8-467d-b544-26c0fc7f505e",
        "colab": {
          "base_uri": "https://localhost:8080/",
          "height": 514
        }
      },
      "execution_count": 13,
      "outputs": [
        {
          "output_type": "stream",
          "name": "stdout",
          "text": [
            "ROC AUC score: 0.8505389928081577\n"
          ]
        },
        {
          "output_type": "display_data",
          "data": {
            "text/plain": [
              "<Figure size 864x576 with 1 Axes>"
            ],
            "image/png": "[encoded data removed]"
          },
          "metadata": {
            "needs_background": "light"
          }
        }
      ]
    }
  ]
}