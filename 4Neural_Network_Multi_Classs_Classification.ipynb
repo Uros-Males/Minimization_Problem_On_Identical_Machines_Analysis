{
  "nbformat": 4,
  "nbformat_minor": 0,
  "metadata": {
    "colab": {
      "name": "Neural_Network_Classification.ipynb",
      "provenance": [],
      "authorship_tag": "ABX9TyMAIJP4incocL6p01D63baL",
      "include_colab_link": true
    },
    "kernelspec": {
      "name": "python3",
      "display_name": "Python 3"
    },
    "language_info": {
      "name": "python"
    }
  },
  "cells": [
    {
      "cell_type": "markdown",
      "metadata": {
        "id": "view-in-github",
        "colab_type": "text"
      },
      "source": [
        "<a href=\"https://colab.research.google.com/github/Uros-Males/Minimization_Problem_On_Identical_Machines_Analysis/blob/main/4Neural_Network_Multi_Classs_Classification.ipynb\" target=\"_parent\"><img src=\"https://colab.research.google.com/assets/colab-badge.svg\" alt=\"Open In Colab\"/></a>"
      ]
    },
    {
      "cell_type": "code",
      "execution_count": 1,
      "metadata": {
        "colab": {
          "base_uri": "https://localhost:8080/"
        },
        "id": "6u-X4QiVmgm4",
        "outputId": "d8623703-eab9-4fb4-867d-4252cf8b2669"
      },
      "outputs": [
        {
          "output_type": "stream",
          "name": "stdout",
          "text": [
            "8750\n",
            "   subtype  class  indeks    n   m    n/m   (n/m)^2      (n/m)^3       m/n  \\\n",
            "0       12      3       6  144  16   9.00   81.0000   729.000000  0.111111   \n",
            "1       12      7      10  144  16   9.00   81.0000   729.000000  0.111111   \n",
            "2        2      6       1  162  72   2.25    5.0625    11.390625  0.444444   \n",
            "3       10      1       9  160  32   5.00   25.0000   125.000000  0.200000   \n",
            "4       13      6       3   60   6  10.00  100.0000  1000.000000  0.100000   \n",
            "\n",
            "    (m/n)^2   (m/n)^3   av.length     std.dev  median  range  min  max    k  \n",
            "0  0.012346  0.001372   73.534721   14.975932    73.0     50   50  100   47  \n",
            "1  0.012346  0.001372  565.701416  141.939270   560.5    727  169  896  125  \n",
            "2  0.197531  0.087791  417.074066  142.215668   406.5    485  163  648  142  \n",
            "3  0.040000  0.008000   50.049999   28.861807    49.0     99    1  100   83  \n",
            "4  0.010000  0.001000  152.866669   49.919079   148.5    176   60  236   48  \n"
          ]
        }
      ],
      "source": [
        "#IN PROGRESS....\n",
        "import pandas as pd\n",
        "import numpy as np\n",
        "import matplotlib.pyplot as plt\n",
        "from sklearn import tree\n",
        "from sklearn.model_selection import train_test_split\n",
        "from sklearn.tree import DecisionTreeRegressor\n",
        "import time\n",
        "import keras\n",
        "\n",
        "df = pd.read_csv('/content/sample_data/C-instances-runtime-analysis.csv')\n",
        "print(df.shape[0])\n",
        "#df = df.drop(['inst.name', 'type', 'CPLEXStatus'], axis = 1)\n",
        "#standard_deviations = 3\n",
        "#df = df[df.apply(lambda x: np.abs(x - x.mean()) / x.std() < standard_deviations)\n",
        "#   .all(axis=1)]\n",
        "\n",
        "#print(df.shape[0])\n",
        "\n",
        "#names = ['indeks', 'n', 'n/m', '(n/m)^2', '(n/m)^3', 'm/n', '(m/n)^2',\n",
        "   #      '(m/n)^3', 'av.length', 'std.dev', 'median', 'range', 'min', 'max', 'k']\n",
        "#for i in range(df.shape[0]):\n",
        " # if(df.iloc[i]['n/m'] == 2 and df.iloc[i]['y']==99999):\n",
        "  #  for j in range(len(names)):\n",
        "   #   print(names[j]+\"->\"+str(df.iloc[i][names[j]]))\n",
        "    #print(\"------------------------------------------------------------------\")\n",
        "\n",
        "\n",
        "shuffled = df.sample(frac=1).reset_index()\n",
        "\n",
        "columns_dont_want = ['y', 'index', 'inst.name','type', 'CPLEXStatus'] #cple\n",
        "select = [x for x in shuffled.columns if x not in columns_dont_want]\n",
        "\n",
        "X = shuffled.loc[:, select]\n",
        "\n",
        "y = shuffled.loc[:,'y']\n",
        "print(X.head())\n",
        "names = ['indeks', 'n', 'n/m', '(n/m)^2', '(n/m)^3', 'm/n', 'av.length', 'std.dev', 'median', 'range', 'min', 'max', 'k']\n",
        "#print(names[1])\n",
        "\n",
        "\n"
      ]
    },
    {
      "cell_type": "code",
      "source": [
        "y_new = []\n",
        "for val in y:\n",
        "  if(val<10):\n",
        "    y_new.append(0)\n",
        "  elif(10 <= val and val <100):\n",
        "    y_new.append(1)\n",
        "  elif(100<=val and val<1000):\n",
        "    y_new.append(2)\n",
        "  else:\n",
        "    y_new.append(3)\n",
        "\n",
        "shuffled['y_new'] = y_new\n",
        "#print(shuffled.head())\n",
        "y_encoded = shuffled.loc[:,'y_new']\n",
        "y_new = np.array(y_new)\n",
        "plt.hist(y_new)\n",
        "plt.show()\n",
        "X_modified = X\n",
        "#X_modified = X.drop(['n/m', '(n/m)^2', '(n/m)^3', 'm/n', '(m/n)^2', '(m/n)^3', 'max', 'av.length'], axis = 1)\n",
        "#print(X_modified.shape[1])"
      ],
      "metadata": {
        "id": "XkPXcbO0riCC",
        "colab": {
          "base_uri": "https://localhost:8080/",
          "height": 265
        },
        "outputId": "2d5128a1-5067-4e46-b5f3-8aedf7a2391a"
      },
      "execution_count": 2,
      "outputs": [
        {
          "output_type": "display_data",
          "data": {
            "text/plain": [
              "<Figure size 432x288 with 1 Axes>"
            ],
            "image/png": "[encoded data removed]"
          },
          "metadata": {
            "needs_background": "light"
          }
        }
      ]
    },
    {
      "cell_type": "code",
      "source": [
        "from sklearn.preprocessing import LabelEncoder\n",
        "from keras.utils.np_utils import to_categorical\n",
        "\n",
        "l_encode = LabelEncoder()\n",
        "l_encode.fit(y_encoded)\n",
        "y_encoded = l_encode.transform(y_encoded)\n",
        "y_encoded = to_categorical(y_encoded)\n",
        "y_encoded"
      ],
      "metadata": {
        "colab": {
          "base_uri": "https://localhost:8080/"
        },
        "id": "W2hvUxxE2NWr",
        "outputId": "13acfa84-b996-4f5e-89fd-c794b36fd976"
      },
      "execution_count": 3,
      "outputs": [
        {
          "output_type": "execute_result",
          "data": {
            "text/plain": [
              "array([[0., 0., 0., 1.],\n",
              "       [0., 0., 0., 1.],\n",
              "       [0., 0., 1., 0.],\n",
              "       ...,\n",
              "       [0., 1., 0., 0.],\n",
              "       [0., 1., 0., 0.],\n",
              "       [0., 1., 0., 0.]], dtype=float32)"
            ]
          },
          "metadata": {},
          "execution_count": 3
        }
      ]
    },
    {
      "cell_type": "code",
      "source": [
        "from sklearn import preprocessing\n",
        "\n",
        "from sklearn.preprocessing import StandardScaler\n",
        "\n",
        "sc = StandardScaler()\n",
        "\n",
        "#X = pd.DataFrame(X, columns=names)\n",
        "#print(X.head())\n",
        "\n",
        "from sklearn.decomposition import PCA\n",
        "\n",
        "#,'PC2','PC3','PC4','PC5','PC6','PC7','PC8\n",
        "#pca = PCA(n_components=9)\n",
        "#pca.fit(X)\n",
        "#X = pca.transform(X)\n",
        "#X = pd.DataFrame(X,columns=['PC1','PC2','PC3','PC4','PC5','PC6','PC7','PC8','PC9'])\n",
        "names = ['n/m', 'n', 'std.dev', 'k']\n",
        "X_modified = X.drop([ 'median', 'range',  'max','av.length', 'min','indeks', 'class',  'subtype', '(m/n)^3', '(m/n)^2', '(n/m)^2', '(n/m)^3','m/n','m'], axis = 1)\n",
        "\n",
        "\n",
        "#from scipy import stats\n",
        "#df[(np.abs(stats.zscore(df)) < 3).all(axis=1)]\n",
        "\n",
        "X_train, X_test, y_train, y_test = train_test_split(X_modified, y_encoded, random_state=0, train_size = 0.83)\n",
        "\n",
        "X_train = sc.fit_transform(X_train)\n",
        "X_test_copy = X_test\n",
        "X_test = sc.transform(X_test)\n"
      ],
      "metadata": {
        "id": "kx4jr-6Qaxpv"
      },
      "execution_count": 4,
      "outputs": []
    },
    {
      "cell_type": "code",
      "source": [
        "from keras.models import Sequential\n",
        "from keras.layers import Dense, Dropout\n",
        "\n",
        "classifier = Sequential()\n",
        "classifier.add(Dense(8, input_dim = X_modified.shape[1], activation='relu'))\n",
        "#classifier.add(Dense(8, activation = 'relu'))\n",
        "\n",
        "classifier.add(Dense(8, activation = 'relu'))\n",
        "\n",
        "#classifier.add(Dense(32, activation = 'relu'))\n",
        "#classifier.add(Dense(32, activation = 'relu'))\n",
        "#classifier.add(Dense(16, activation = 'relu'))\n",
        "\n",
        "classifier.add(Dense(16, activation='relu'))\n",
        "\n",
        "classifier.add(Dense(8, activation='relu'))\n",
        "\n",
        "classifier.add(Dense(4, activation='relu'))\n",
        "\n",
        "classifier.add(Dense(4, activation = 'softmax'))\n",
        "classifier.compile(loss = 'categorical_crossentropy', optimizer = 'adam', metrics = ['accuracy'])\n",
        "classifier.summary()"
      ],
      "metadata": {
        "id": "jRT-grzys8_y",
        "colab": {
          "base_uri": "https://localhost:8080/"
        },
        "outputId": "ef7170a1-aa19-4a4b-cbbd-71b189130980"
      },
      "execution_count": 5,
      "outputs": [
        {
          "output_type": "stream",
          "name": "stdout",
          "text": [
            "Model: \"sequential\"\n",
            "_________________________________________________________________\n",
            " Layer (type)                Output Shape              Param #   \n",
            "=================================================================\n",
            " dense (Dense)               (None, 8)                 40        \n",
            "                                                                 \n",
            " dense_1 (Dense)             (None, 8)                 72        \n",
            "                                                                 \n",
            " dense_2 (Dense)             (None, 16)                144       \n",
            "                                                                 \n",
            " dense_3 (Dense)             (None, 8)                 136       \n",
            "                                                                 \n",
            " dense_4 (Dense)             (None, 4)                 36        \n",
            "                                                                 \n",
            " dense_5 (Dense)             (None, 4)                 20        \n",
            "                                                                 \n",
            "=================================================================\n",
            "Total params: 448\n",
            "Trainable params: 448\n",
            "Non-trainable params: 0\n",
            "_________________________________________________________________\n"
          ]
        }
      ]
    },
    {
      "cell_type": "code",
      "source": [
        "#classifier.fit(X_train, y_train, batch_size = 64, epochs = 20, verbose = 1)\n",
        "#scores = classifier.evaluate(X_test, y_test)\n",
        "#for i, m in enumerate(classifier.metrics_names):\n",
        "#    print(\"\\n%s: %.3f\"% (m, scores[i]))\n",
        "#print(X_test_copy.iloc[0]['subtype'])"
      ],
      "metadata": {
        "id": "Mm7RsTBcx2EN"
      },
      "execution_count": 6,
      "outputs": []
    },
    {
      "cell_type": "code",
      "source": [
        "from keras.metrics import accuracy\n",
        "from keras import callbacks\n",
        "earlystopping = callbacks.EarlyStopping(monitor =\"val_loss\", \n",
        "                                        mode =\"min\", patience = 15, \n",
        "                                        restore_best_weights = True)\n",
        "  \n",
        "history = classifier.fit(X_train, y_train, batch_size = 64, \n",
        "                    epochs = 600, validation_data =(X_test, y_test), \n",
        "                    callbacks =[earlystopping])\n",
        "plt.plot(history.history['val_accuracy'])\n",
        "\n"
      ],
      "metadata": {
        "colab": {
          "base_uri": "https://localhost:8080/",
          "height": 1000
        },
        "id": "Sv9aKFPW5KGr",
        "outputId": "7d645640-9bd4-4c57-960b-63d9c51502df"
      },
      "execution_count": 7,
      "outputs": [
        {
          "output_type": "stream",
          "name": "stdout",
          "text": [
            "Epoch 1/600\n",
            "114/114 [==============================] - 2s 8ms/step - loss: 1.2952 - accuracy: 0.4050 - val_loss: 1.1998 - val_accuracy: 0.5766\n",
            "Epoch 2/600\n",
            "114/114 [==============================] - 1s 5ms/step - loss: 1.0146 - accuracy: 0.6096 - val_loss: 0.8942 - val_accuracy: 0.6391\n",
            "Epoch 3/600\n",
            "114/114 [==============================] - 1s 5ms/step - loss: 0.8127 - accuracy: 0.6651 - val_loss: 0.7890 - val_accuracy: 0.6929\n",
            "Epoch 4/600\n",
            "114/114 [==============================] - 1s 5ms/step - loss: 0.7299 - accuracy: 0.7191 - val_loss: 0.7275 - val_accuracy: 0.7258\n",
            "Epoch 5/600\n",
            "114/114 [==============================] - 0s 4ms/step - loss: 0.6799 - accuracy: 0.7380 - val_loss: 0.6788 - val_accuracy: 0.7372\n",
            "Epoch 6/600\n",
            "114/114 [==============================] - 1s 6ms/step - loss: 0.6442 - accuracy: 0.7462 - val_loss: 0.6452 - val_accuracy: 0.7426\n",
            "Epoch 7/600\n",
            "114/114 [==============================] - 1s 5ms/step - loss: 0.6157 - accuracy: 0.7506 - val_loss: 0.6178 - val_accuracy: 0.7493\n",
            "Epoch 8/600\n",
            "114/114 [==============================] - 1s 5ms/step - loss: 0.5930 - accuracy: 0.7552 - val_loss: 0.5968 - val_accuracy: 0.7473\n",
            "Epoch 9/600\n",
            "114/114 [==============================] - 1s 6ms/step - loss: 0.5752 - accuracy: 0.7618 - val_loss: 0.5832 - val_accuracy: 0.7648\n",
            "Epoch 10/600\n",
            "114/114 [==============================] - 0s 4ms/step - loss: 0.5639 - accuracy: 0.7666 - val_loss: 0.5769 - val_accuracy: 0.7621\n",
            "Epoch 11/600\n",
            "114/114 [==============================] - 0s 4ms/step - loss: 0.5521 - accuracy: 0.7677 - val_loss: 0.5684 - val_accuracy: 0.7560\n",
            "Epoch 12/600\n",
            "114/114 [==============================] - 1s 5ms/step - loss: 0.5438 - accuracy: 0.7742 - val_loss: 0.5553 - val_accuracy: 0.7702\n",
            "Epoch 13/600\n",
            "114/114 [==============================] - 1s 5ms/step - loss: 0.5396 - accuracy: 0.7757 - val_loss: 0.5525 - val_accuracy: 0.7728\n",
            "Epoch 14/600\n",
            "114/114 [==============================] - 0s 4ms/step - loss: 0.5338 - accuracy: 0.7783 - val_loss: 0.5483 - val_accuracy: 0.7769\n",
            "Epoch 15/600\n",
            "114/114 [==============================] - 0s 4ms/step - loss: 0.5312 - accuracy: 0.7784 - val_loss: 0.5479 - val_accuracy: 0.7735\n",
            "Epoch 16/600\n",
            "114/114 [==============================] - 1s 6ms/step - loss: 0.5256 - accuracy: 0.7823 - val_loss: 0.5497 - val_accuracy: 0.7769\n",
            "Epoch 17/600\n",
            "114/114 [==============================] - 0s 4ms/step - loss: 0.5246 - accuracy: 0.7831 - val_loss: 0.5461 - val_accuracy: 0.7823\n",
            "Epoch 18/600\n",
            "114/114 [==============================] - 1s 5ms/step - loss: 0.5235 - accuracy: 0.7819 - val_loss: 0.5405 - val_accuracy: 0.7796\n",
            "Epoch 19/600\n",
            "114/114 [==============================] - 0s 4ms/step - loss: 0.5194 - accuracy: 0.7831 - val_loss: 0.5360 - val_accuracy: 0.7863\n",
            "Epoch 20/600\n",
            "114/114 [==============================] - 0s 4ms/step - loss: 0.5186 - accuracy: 0.7845 - val_loss: 0.5390 - val_accuracy: 0.7796\n",
            "Epoch 21/600\n",
            "114/114 [==============================] - 1s 5ms/step - loss: 0.5151 - accuracy: 0.7861 - val_loss: 0.5321 - val_accuracy: 0.7836\n",
            "Epoch 22/600\n",
            "114/114 [==============================] - 0s 4ms/step - loss: 0.5141 - accuracy: 0.7879 - val_loss: 0.5314 - val_accuracy: 0.7836\n",
            "Epoch 23/600\n",
            "114/114 [==============================] - 1s 5ms/step - loss: 0.5105 - accuracy: 0.7855 - val_loss: 0.5315 - val_accuracy: 0.7863\n",
            "Epoch 24/600\n",
            "114/114 [==============================] - 1s 6ms/step - loss: 0.5089 - accuracy: 0.7871 - val_loss: 0.5404 - val_accuracy: 0.7769\n",
            "Epoch 25/600\n",
            "114/114 [==============================] - 1s 5ms/step - loss: 0.5076 - accuracy: 0.7888 - val_loss: 0.5300 - val_accuracy: 0.7870\n",
            "Epoch 26/600\n",
            "114/114 [==============================] - 1s 6ms/step - loss: 0.5062 - accuracy: 0.7888 - val_loss: 0.5280 - val_accuracy: 0.7836\n",
            "Epoch 27/600\n",
            "114/114 [==============================] - 1s 6ms/step - loss: 0.5038 - accuracy: 0.7906 - val_loss: 0.5311 - val_accuracy: 0.7782\n",
            "Epoch 28/600\n",
            "114/114 [==============================] - 1s 5ms/step - loss: 0.5067 - accuracy: 0.7868 - val_loss: 0.5389 - val_accuracy: 0.7870\n",
            "Epoch 29/600\n",
            "114/114 [==============================] - 0s 4ms/step - loss: 0.5022 - accuracy: 0.7912 - val_loss: 0.5329 - val_accuracy: 0.7870\n",
            "Epoch 30/600\n",
            "114/114 [==============================] - 1s 5ms/step - loss: 0.5018 - accuracy: 0.7884 - val_loss: 0.5259 - val_accuracy: 0.7802\n",
            "Epoch 31/600\n",
            "114/114 [==============================] - 1s 5ms/step - loss: 0.4988 - accuracy: 0.7900 - val_loss: 0.5264 - val_accuracy: 0.7876\n",
            "Epoch 32/600\n",
            "114/114 [==============================] - 0s 4ms/step - loss: 0.4949 - accuracy: 0.7939 - val_loss: 0.5365 - val_accuracy: 0.7836\n",
            "Epoch 33/600\n",
            "114/114 [==============================] - 1s 5ms/step - loss: 0.4982 - accuracy: 0.7893 - val_loss: 0.5365 - val_accuracy: 0.7796\n",
            "Epoch 34/600\n",
            "114/114 [==============================] - 1s 8ms/step - loss: 0.4962 - accuracy: 0.7906 - val_loss: 0.5194 - val_accuracy: 0.7876\n",
            "Epoch 35/600\n",
            "114/114 [==============================] - 1s 7ms/step - loss: 0.4950 - accuracy: 0.7934 - val_loss: 0.5152 - val_accuracy: 0.7876\n",
            "Epoch 36/600\n",
            "114/114 [==============================] - 0s 4ms/step - loss: 0.4934 - accuracy: 0.7947 - val_loss: 0.5203 - val_accuracy: 0.7856\n",
            "Epoch 37/600\n",
            "114/114 [==============================] - 0s 2ms/step - loss: 0.4916 - accuracy: 0.7928 - val_loss: 0.5145 - val_accuracy: 0.7897\n",
            "Epoch 38/600\n",
            "114/114 [==============================] - 0s 2ms/step - loss: 0.4898 - accuracy: 0.7950 - val_loss: 0.5179 - val_accuracy: 0.7897\n",
            "Epoch 39/600\n",
            "114/114 [==============================] - 0s 2ms/step - loss: 0.4937 - accuracy: 0.7908 - val_loss: 0.5255 - val_accuracy: 0.7796\n",
            "Epoch 40/600\n",
            "114/114 [==============================] - 0s 2ms/step - loss: 0.4887 - accuracy: 0.7941 - val_loss: 0.5153 - val_accuracy: 0.7944\n",
            "Epoch 41/600\n",
            "114/114 [==============================] - 0s 2ms/step - loss: 0.4869 - accuracy: 0.7945 - val_loss: 0.5137 - val_accuracy: 0.7897\n",
            "Epoch 42/600\n",
            "114/114 [==============================] - 0s 2ms/step - loss: 0.4872 - accuracy: 0.7941 - val_loss: 0.5084 - val_accuracy: 0.7957\n",
            "Epoch 43/600\n",
            "114/114 [==============================] - 0s 2ms/step - loss: 0.4882 - accuracy: 0.7944 - val_loss: 0.5122 - val_accuracy: 0.7863\n",
            "Epoch 44/600\n",
            "114/114 [==============================] - 0s 2ms/step - loss: 0.4849 - accuracy: 0.7933 - val_loss: 0.5114 - val_accuracy: 0.7863\n",
            "Epoch 45/600\n",
            "114/114 [==============================] - 0s 3ms/step - loss: 0.4820 - accuracy: 0.7945 - val_loss: 0.5138 - val_accuracy: 0.7816\n",
            "Epoch 46/600\n",
            "114/114 [==============================] - 0s 2ms/step - loss: 0.4830 - accuracy: 0.7965 - val_loss: 0.5116 - val_accuracy: 0.7883\n",
            "Epoch 47/600\n",
            "114/114 [==============================] - 0s 2ms/step - loss: 0.4839 - accuracy: 0.7940 - val_loss: 0.5102 - val_accuracy: 0.7897\n",
            "Epoch 48/600\n",
            "114/114 [==============================] - 0s 2ms/step - loss: 0.4814 - accuracy: 0.7948 - val_loss: 0.5061 - val_accuracy: 0.7944\n",
            "Epoch 49/600\n",
            "114/114 [==============================] - 0s 2ms/step - loss: 0.4810 - accuracy: 0.7956 - val_loss: 0.5143 - val_accuracy: 0.7897\n",
            "Epoch 50/600\n",
            "114/114 [==============================] - 0s 2ms/step - loss: 0.4815 - accuracy: 0.7948 - val_loss: 0.5116 - val_accuracy: 0.7829\n",
            "Epoch 51/600\n",
            "114/114 [==============================] - 0s 2ms/step - loss: 0.4773 - accuracy: 0.7921 - val_loss: 0.5080 - val_accuracy: 0.7910\n",
            "Epoch 52/600\n",
            "114/114 [==============================] - 0s 2ms/step - loss: 0.4774 - accuracy: 0.7962 - val_loss: 0.5099 - val_accuracy: 0.7890\n",
            "Epoch 53/600\n",
            "114/114 [==============================] - 0s 2ms/step - loss: 0.4775 - accuracy: 0.7956 - val_loss: 0.5055 - val_accuracy: 0.7903\n",
            "Epoch 54/600\n",
            "114/114 [==============================] - 0s 2ms/step - loss: 0.4750 - accuracy: 0.7974 - val_loss: 0.5089 - val_accuracy: 0.7849\n",
            "Epoch 55/600\n",
            "114/114 [==============================] - 0s 2ms/step - loss: 0.4731 - accuracy: 0.7966 - val_loss: 0.5119 - val_accuracy: 0.7829\n",
            "Epoch 56/600\n",
            "114/114 [==============================] - 0s 3ms/step - loss: 0.4724 - accuracy: 0.7956 - val_loss: 0.5001 - val_accuracy: 0.7977\n",
            "Epoch 57/600\n",
            "114/114 [==============================] - 0s 3ms/step - loss: 0.4708 - accuracy: 0.7994 - val_loss: 0.5059 - val_accuracy: 0.7823\n",
            "Epoch 58/600\n",
            "114/114 [==============================] - 0s 2ms/step - loss: 0.4724 - accuracy: 0.7970 - val_loss: 0.5146 - val_accuracy: 0.7856\n",
            "Epoch 59/600\n",
            "114/114 [==============================] - 0s 2ms/step - loss: 0.4714 - accuracy: 0.7970 - val_loss: 0.5024 - val_accuracy: 0.7870\n",
            "Epoch 60/600\n",
            "114/114 [==============================] - 0s 3ms/step - loss: 0.4700 - accuracy: 0.7995 - val_loss: 0.4994 - val_accuracy: 0.7890\n",
            "Epoch 61/600\n",
            "114/114 [==============================] - 0s 3ms/step - loss: 0.4690 - accuracy: 0.7959 - val_loss: 0.5100 - val_accuracy: 0.7796\n",
            "Epoch 62/600\n",
            "114/114 [==============================] - 0s 2ms/step - loss: 0.4688 - accuracy: 0.7985 - val_loss: 0.5012 - val_accuracy: 0.7957\n",
            "Epoch 63/600\n",
            "114/114 [==============================] - 0s 2ms/step - loss: 0.4680 - accuracy: 0.7947 - val_loss: 0.4934 - val_accuracy: 0.7957\n",
            "Epoch 64/600\n",
            "114/114 [==============================] - 0s 3ms/step - loss: 0.4683 - accuracy: 0.7965 - val_loss: 0.5044 - val_accuracy: 0.7843\n",
            "Epoch 65/600\n",
            "114/114 [==============================] - 0s 2ms/step - loss: 0.4660 - accuracy: 0.8006 - val_loss: 0.4959 - val_accuracy: 0.7903\n",
            "Epoch 66/600\n",
            "114/114 [==============================] - 0s 2ms/step - loss: 0.4688 - accuracy: 0.7976 - val_loss: 0.4917 - val_accuracy: 0.7917\n",
            "Epoch 67/600\n",
            "114/114 [==============================] - 0s 2ms/step - loss: 0.4652 - accuracy: 0.8003 - val_loss: 0.4901 - val_accuracy: 0.7950\n",
            "Epoch 68/600\n",
            "114/114 [==============================] - 0s 3ms/step - loss: 0.4649 - accuracy: 0.8005 - val_loss: 0.4886 - val_accuracy: 0.7944\n",
            "Epoch 69/600\n",
            "114/114 [==============================] - 0s 3ms/step - loss: 0.4644 - accuracy: 0.7992 - val_loss: 0.4938 - val_accuracy: 0.7944\n",
            "Epoch 70/600\n",
            "114/114 [==============================] - 0s 3ms/step - loss: 0.4615 - accuracy: 0.7998 - val_loss: 0.4923 - val_accuracy: 0.7944\n",
            "Epoch 71/600\n",
            "114/114 [==============================] - 0s 2ms/step - loss: 0.4626 - accuracy: 0.8002 - val_loss: 0.4893 - val_accuracy: 0.7897\n",
            "Epoch 72/600\n",
            "114/114 [==============================] - 0s 3ms/step - loss: 0.4622 - accuracy: 0.8029 - val_loss: 0.4962 - val_accuracy: 0.7863\n",
            "Epoch 73/600\n",
            "114/114 [==============================] - 0s 3ms/step - loss: 0.4610 - accuracy: 0.7988 - val_loss: 0.4883 - val_accuracy: 0.7917\n",
            "Epoch 74/600\n",
            "114/114 [==============================] - 0s 3ms/step - loss: 0.4619 - accuracy: 0.7951 - val_loss: 0.5026 - val_accuracy: 0.7782\n",
            "Epoch 75/600\n",
            "114/114 [==============================] - 0s 3ms/step - loss: 0.4618 - accuracy: 0.8012 - val_loss: 0.4873 - val_accuracy: 0.7897\n",
            "Epoch 76/600\n",
            "114/114 [==============================] - 0s 2ms/step - loss: 0.4613 - accuracy: 0.7992 - val_loss: 0.4832 - val_accuracy: 0.7957\n",
            "Epoch 77/600\n",
            "114/114 [==============================] - 0s 3ms/step - loss: 0.4620 - accuracy: 0.7977 - val_loss: 0.4917 - val_accuracy: 0.7923\n",
            "Epoch 78/600\n",
            "114/114 [==============================] - 0s 2ms/step - loss: 0.4589 - accuracy: 0.8010 - val_loss: 0.4877 - val_accuracy: 0.7910\n",
            "Epoch 79/600\n",
            "114/114 [==============================] - 0s 3ms/step - loss: 0.4600 - accuracy: 0.7998 - val_loss: 0.4939 - val_accuracy: 0.7863\n",
            "Epoch 80/600\n",
            "114/114 [==============================] - 0s 3ms/step - loss: 0.4580 - accuracy: 0.7992 - val_loss: 0.4843 - val_accuracy: 0.7917\n",
            "Epoch 81/600\n",
            "114/114 [==============================] - 0s 2ms/step - loss: 0.4585 - accuracy: 0.7987 - val_loss: 0.4884 - val_accuracy: 0.7910\n",
            "Epoch 82/600\n",
            "114/114 [==============================] - 0s 2ms/step - loss: 0.4600 - accuracy: 0.7991 - val_loss: 0.4852 - val_accuracy: 0.7910\n",
            "Epoch 83/600\n",
            "114/114 [==============================] - 0s 2ms/step - loss: 0.4569 - accuracy: 0.8003 - val_loss: 0.4821 - val_accuracy: 0.7883\n",
            "Epoch 84/600\n",
            "114/114 [==============================] - 0s 3ms/step - loss: 0.4582 - accuracy: 0.7995 - val_loss: 0.4806 - val_accuracy: 0.7923\n",
            "Epoch 85/600\n",
            "114/114 [==============================] - 0s 3ms/step - loss: 0.4565 - accuracy: 0.8002 - val_loss: 0.4838 - val_accuracy: 0.7923\n",
            "Epoch 86/600\n",
            "114/114 [==============================] - 0s 2ms/step - loss: 0.4565 - accuracy: 0.8002 - val_loss: 0.4875 - val_accuracy: 0.7970\n",
            "Epoch 87/600\n",
            "114/114 [==============================] - 0s 3ms/step - loss: 0.4575 - accuracy: 0.7984 - val_loss: 0.4827 - val_accuracy: 0.7970\n",
            "Epoch 88/600\n",
            "114/114 [==============================] - 0s 2ms/step - loss: 0.4561 - accuracy: 0.8006 - val_loss: 0.4859 - val_accuracy: 0.7957\n",
            "Epoch 89/600\n",
            "114/114 [==============================] - 0s 2ms/step - loss: 0.4556 - accuracy: 0.8017 - val_loss: 0.4812 - val_accuracy: 0.7923\n",
            "Epoch 90/600\n",
            "114/114 [==============================] - 0s 3ms/step - loss: 0.4550 - accuracy: 0.7988 - val_loss: 0.4950 - val_accuracy: 0.7890\n",
            "Epoch 91/600\n",
            "114/114 [==============================] - 0s 2ms/step - loss: 0.4557 - accuracy: 0.7996 - val_loss: 0.4796 - val_accuracy: 0.7964\n",
            "Epoch 92/600\n",
            "114/114 [==============================] - 0s 3ms/step - loss: 0.4569 - accuracy: 0.8028 - val_loss: 0.4864 - val_accuracy: 0.7937\n",
            "Epoch 93/600\n",
            "114/114 [==============================] - 0s 2ms/step - loss: 0.4538 - accuracy: 0.7999 - val_loss: 0.4817 - val_accuracy: 0.7957\n",
            "Epoch 94/600\n",
            "114/114 [==============================] - 0s 2ms/step - loss: 0.4545 - accuracy: 0.8020 - val_loss: 0.4824 - val_accuracy: 0.7984\n",
            "Epoch 95/600\n",
            "114/114 [==============================] - 0s 2ms/step - loss: 0.4541 - accuracy: 0.8017 - val_loss: 0.4788 - val_accuracy: 0.7970\n",
            "Epoch 96/600\n",
            "114/114 [==============================] - 0s 2ms/step - loss: 0.4528 - accuracy: 0.8020 - val_loss: 0.4845 - val_accuracy: 0.8044\n",
            "Epoch 97/600\n",
            "114/114 [==============================] - 0s 3ms/step - loss: 0.4552 - accuracy: 0.8006 - val_loss: 0.4781 - val_accuracy: 0.7917\n",
            "Epoch 98/600\n",
            "114/114 [==============================] - 0s 2ms/step - loss: 0.4519 - accuracy: 0.8032 - val_loss: 0.4808 - val_accuracy: 0.7917\n",
            "Epoch 99/600\n",
            "114/114 [==============================] - 0s 3ms/step - loss: 0.4537 - accuracy: 0.8010 - val_loss: 0.4835 - val_accuracy: 0.7977\n",
            "Epoch 100/600\n",
            "114/114 [==============================] - 0s 2ms/step - loss: 0.4521 - accuracy: 0.8057 - val_loss: 0.4845 - val_accuracy: 0.7997\n",
            "Epoch 101/600\n",
            "114/114 [==============================] - 0s 3ms/step - loss: 0.4511 - accuracy: 0.8040 - val_loss: 0.4863 - val_accuracy: 0.7930\n",
            "Epoch 102/600\n",
            "114/114 [==============================] - 0s 2ms/step - loss: 0.4522 - accuracy: 0.8017 - val_loss: 0.4845 - val_accuracy: 0.7917\n",
            "Epoch 103/600\n",
            "114/114 [==============================] - 0s 3ms/step - loss: 0.4515 - accuracy: 0.8034 - val_loss: 0.4879 - val_accuracy: 0.8011\n",
            "Epoch 104/600\n",
            "114/114 [==============================] - 0s 3ms/step - loss: 0.4523 - accuracy: 0.8043 - val_loss: 0.4927 - val_accuracy: 0.7917\n",
            "Epoch 105/600\n",
            "114/114 [==============================] - 0s 2ms/step - loss: 0.4485 - accuracy: 0.8065 - val_loss: 0.4866 - val_accuracy: 0.7910\n",
            "Epoch 106/600\n",
            "114/114 [==============================] - 0s 2ms/step - loss: 0.4508 - accuracy: 0.8034 - val_loss: 0.4811 - val_accuracy: 0.7903\n",
            "Epoch 107/600\n",
            "114/114 [==============================] - 0s 2ms/step - loss: 0.4505 - accuracy: 0.8049 - val_loss: 0.4783 - val_accuracy: 0.8017\n",
            "Epoch 108/600\n",
            "114/114 [==============================] - 0s 2ms/step - loss: 0.4482 - accuracy: 0.8065 - val_loss: 0.4823 - val_accuracy: 0.7950\n",
            "Epoch 109/600\n",
            "114/114 [==============================] - 0s 2ms/step - loss: 0.4502 - accuracy: 0.8065 - val_loss: 0.4836 - val_accuracy: 0.7984\n",
            "Epoch 110/600\n",
            "114/114 [==============================] - 0s 2ms/step - loss: 0.4501 - accuracy: 0.8054 - val_loss: 0.4784 - val_accuracy: 0.8024\n",
            "Epoch 111/600\n",
            "114/114 [==============================] - 0s 3ms/step - loss: 0.4501 - accuracy: 0.8035 - val_loss: 0.4833 - val_accuracy: 0.7957\n",
            "Epoch 112/600\n",
            "114/114 [==============================] - 0s 3ms/step - loss: 0.4506 - accuracy: 0.8072 - val_loss: 0.4928 - val_accuracy: 0.7950\n"
          ]
        },
        {
          "output_type": "execute_result",
          "data": {
            "text/plain": [
              "[<matplotlib.lines.Line2D at 0x7fcf0d59a350>]"
            ]
          },
          "metadata": {},
          "execution_count": 7
        },
        {
          "output_type": "display_data",
          "data": {
            "text/plain": [
              "<Figure size 432x288 with 1 Axes>"
            ],
            "image/png": "[encoded data removed]"
          },
          "metadata": {
            "needs_background": "light"
          }
        }
      ]
    },
    {
      "cell_type": "code",
      "source": [
        "from keras.metrics import accuracy\n",
        "#test_size = X_test.shape[0]\n",
        "pred = classifier.predict(X_test)\n",
        "#print(pred)\n",
        "pred_ = np.argmax(pred, axis = 1)\n",
        "#print(pred_)\n",
        "pred_ = l_encode.inverse_transform(pred_)\n",
        "\n",
        "true_y = l_encode.inverse_transform(np.argmax(to_categorical(y_test), axis = 1)[:,1])\n",
        "\n",
        "\n",
        "#for i,j in zip(pred_, true_y):\n",
        "#    print(\"Predicted: {}, True: {}\".format(i, j))\n",
        "\n",
        "cnt = 0\n",
        "cnt_correct = 0\n",
        "\n",
        "print(\"very hard -> easy\")\n",
        "for i in range(len(pred_)):\n",
        "  cnt += 1\n",
        "  if(pred_[i] == true_y[i]):\n",
        "    cnt_correct += 1\n",
        "  if(pred_[i] == 0 and true_y[i] == 3):\n",
        "    for j in range(len(names)):\n",
        "      print(names[j]+\"->\"+str(X_test_copy.iloc[i][names[j]]))\n",
        "    print(\"------------------------------------------------------------------\")\n",
        "  \n",
        "print(f'accuracy: {(cnt_correct/cnt)*100:.2f}%')"
      ],
      "metadata": {
        "colab": {
          "base_uri": "https://localhost:8080/"
        },
        "id": "-WKM6CPTczGd",
        "outputId": "1c4f9797-ad93-4991-96f3-c97f2660fb8f"
      },
      "execution_count": 8,
      "outputs": [
        {
          "output_type": "stream",
          "name": "stdout",
          "text": [
            "n/m->2.0\n",
            "n->80.0\n",
            "std.dev->47.029049\n",
            "k->57.0\n",
            "------------------------------------------------------------------\n",
            "n/m->2.0\n",
            "n->180.0\n",
            "std.dev->50.076527\n",
            "k->112.0\n",
            "------------------------------------------------------------------\n",
            "n/m->2.0\n",
            "n->160.0\n",
            "std.dev->156.741806\n",
            "k->133.0\n",
            "------------------------------------------------------------------\n",
            "n/m->2.0\n",
            "n->100.0\n",
            "std.dev->47.907383\n",
            "k->83.0\n",
            "------------------------------------------------------------------\n",
            "accuracy: 79.17%\n"
          ]
        }
      ]
    },
    {
      "cell_type": "code",
      "source": [
        "print(\"some easy->easy\")\n",
        "cnt = 0\n",
        "cnt_correct = 0\n",
        "for i in range(len(pred_)):\n",
        "  cnt += 1\n",
        "  if(pred_[i] == true_y[i]):\n",
        "    cnt_correct += 1\n",
        "  if(pred_[i] == 0 and true_y[i] == 0 and cnt_correct < 200):\n",
        "    for j in range(len(names)):\n",
        "      print(names[j]+\"->\"+str(X_test_copy.iloc[i][names[j]]))\n",
        "    print(\"------------------------------------------------------------------\")"
      ],
      "metadata": {
        "id": "gpgK3SUyiDgG",
        "outputId": "36c2b24a-5549-4455-a7bd-2b02da38cffc",
        "colab": {
          "base_uri": "https://localhost:8080/"
        }
      },
      "execution_count": 13,
      "outputs": [
        {
          "output_type": "stream",
          "name": "stdout",
          "text": [
            "some easy->easy\n",
            "n/m->2.5\n",
            "n->20.0\n",
            "std.dev->14.314052\n",
            "k->16.0\n",
            "------------------------------------------------------------------\n",
            "n/m->2.75\n",
            "n->22.0\n",
            "std.dev->28.584688\n",
            "k->18.0\n",
            "------------------------------------------------------------------\n",
            "n/m->5.0\n",
            "n->20.0\n",
            "std.dev->15.250196\n",
            "k->18.0\n",
            "------------------------------------------------------------------\n",
            "n/m->4.0\n",
            "n->20.0\n",
            "std.dev->29.877426\n",
            "k->19.0\n",
            "------------------------------------------------------------------\n",
            "n/m->2.25\n",
            "n->36.0\n",
            "std.dev->22.075682\n",
            "k->29.0\n",
            "------------------------------------------------------------------\n",
            "n/m->2.75\n",
            "n->44.0\n",
            "std.dev->17.078909\n",
            "k->32.0\n",
            "------------------------------------------------------------------\n",
            "n/m->2.25\n",
            "n->18.0\n",
            "std.dev->18.160234\n",
            "k->18.0\n",
            "------------------------------------------------------------------\n",
            "n/m->2.75\n",
            "n->44.0\n",
            "std.dev->41.406559\n",
            "k->40.0\n",
            "------------------------------------------------------------------\n",
            "n/m->2.0\n",
            "n->60.0\n",
            "std.dev->15.50778\n",
            "k->35.0\n",
            "------------------------------------------------------------------\n",
            "n/m->2.25\n",
            "n->18.0\n",
            "std.dev->17.574213\n",
            "k->15.0\n",
            "------------------------------------------------------------------\n",
            "n/m->2.0\n",
            "n->160.0\n",
            "std.dev->158.717224\n",
            "k->140.0\n",
            "------------------------------------------------------------------\n",
            "n/m->2.75\n",
            "n->22.0\n",
            "std.dev->14.795577\n",
            "k->18.0\n",
            "------------------------------------------------------------------\n",
            "n/m->2.0\n",
            "n->40.0\n",
            "std.dev->36.178295\n",
            "k->34.0\n",
            "------------------------------------------------------------------\n",
            "n/m->6.0\n",
            "n->18.0\n",
            "std.dev->47.574093\n",
            "k->18.0\n",
            "------------------------------------------------------------------\n",
            "n/m->2.0\n",
            "n->100.0\n",
            "std.dev->27.38612\n",
            "k->62.0\n",
            "------------------------------------------------------------------\n",
            "n/m->3.0\n",
            "n->54.0\n",
            "std.dev->30.364845\n",
            "k->43.0\n",
            "------------------------------------------------------------------\n",
            "n/m->2.5\n",
            "n->20.0\n",
            "std.dev->22.850718\n",
            "k->19.0\n",
            "------------------------------------------------------------------\n",
            "n/m->2.25\n",
            "n->18.0\n",
            "std.dev->41.653759\n",
            "k->18.0\n",
            "------------------------------------------------------------------\n",
            "n/m->4.0\n",
            "n->20.0\n",
            "std.dev->22.233866\n",
            "k->18.0\n",
            "------------------------------------------------------------------\n",
            "n/m->5.0\n",
            "n->20.0\n",
            "std.dev->39.81731\n",
            "k->20.0\n",
            "------------------------------------------------------------------\n",
            "n/m->2.25\n",
            "n->18.0\n",
            "std.dev->12.701321\n",
            "k->16.0\n",
            "------------------------------------------------------------------\n",
            "n/m->2.25\n",
            "n->54.0\n",
            "std.dev->14.242939\n",
            "k->36.0\n",
            "------------------------------------------------------------------\n",
            "n/m->2.0\n",
            "n->40.0\n",
            "std.dev->33.225636\n",
            "k->37.0\n",
            "------------------------------------------------------------------\n",
            "n/m->2.0\n",
            "n->20.0\n",
            "std.dev->20.545904\n",
            "k->17.0\n",
            "------------------------------------------------------------------\n",
            "n/m->2.5\n",
            "n->40.0\n",
            "std.dev->15.438131\n",
            "k->31.0\n",
            "------------------------------------------------------------------\n",
            "n/m->10.0\n",
            "n->20.0\n",
            "std.dev->15.812304\n",
            "k->17.0\n",
            "------------------------------------------------------------------\n",
            "n/m->2.25\n",
            "n->18.0\n",
            "std.dev->15.534486\n",
            "k->16.0\n",
            "------------------------------------------------------------------\n",
            "n/m->9.0\n",
            "n->18.0\n",
            "std.dev->21.485973\n",
            "k->15.0\n",
            "------------------------------------------------------------------\n",
            "n/m->2.0\n",
            "n->100.0\n",
            "std.dev->24.516464\n",
            "k->60.0\n",
            "------------------------------------------------------------------\n",
            "n/m->2.5\n",
            "n->60.0\n",
            "std.dev->23.594288\n",
            "k->46.0\n",
            "------------------------------------------------------------------\n",
            "n/m->2.25\n",
            "n->36.0\n",
            "std.dev->32.024433\n",
            "k->31.0\n",
            "------------------------------------------------------------------\n",
            "n/m->4.5\n",
            "n->18.0\n",
            "std.dev->18.368773\n",
            "k->16.0\n",
            "------------------------------------------------------------------\n",
            "n/m->2.25\n",
            "n->18.0\n",
            "std.dev->15.927224\n",
            "k->13.0\n",
            "------------------------------------------------------------------\n",
            "n/m->2.0\n",
            "n->100.0\n",
            "std.dev->107.570328\n",
            "k->92.0\n",
            "------------------------------------------------------------------\n",
            "n/m->2.0\n",
            "n->80.0\n",
            "std.dev->20.502542\n",
            "k->51.0\n",
            "------------------------------------------------------------------\n",
            "n/m->6.0\n",
            "n->18.0\n",
            "std.dev->13.115998\n",
            "k->14.0\n",
            "------------------------------------------------------------------\n",
            "n/m->3.0\n",
            "n->18.0\n",
            "std.dev->14.852214\n",
            "k->15.0\n",
            "------------------------------------------------------------------\n",
            "n/m->2.75\n",
            "n->44.0\n",
            "std.dev->42.130188\n",
            "k->39.0\n",
            "------------------------------------------------------------------\n",
            "n/m->5.0\n",
            "n->20.0\n",
            "std.dev->48.188747\n",
            "k->19.0\n",
            "------------------------------------------------------------------\n",
            "n/m->2.25\n",
            "n->18.0\n",
            "std.dev->23.904221\n",
            "k->15.0\n",
            "------------------------------------------------------------------\n",
            "n/m->2.25\n",
            "n->72.0\n",
            "std.dev->26.227301\n",
            "k->48.0\n",
            "------------------------------------------------------------------\n",
            "n/m->2.25\n",
            "n->72.0\n",
            "std.dev->28.615467\n",
            "k->47.0\n",
            "------------------------------------------------------------------\n",
            "n/m->3.0\n",
            "n->54.0\n",
            "std.dev->14.995551\n",
            "k->36.0\n",
            "------------------------------------------------------------------\n",
            "n/m->11.0\n",
            "n->22.0\n",
            "std.dev->18.840927\n",
            "k->20.0\n",
            "------------------------------------------------------------------\n",
            "n/m->2.25\n",
            "n->36.0\n",
            "std.dev->37.736965\n",
            "k->29.0\n",
            "------------------------------------------------------------------\n"
          ]
        }
      ]
    },
    {
      "cell_type": "code",
      "source": [
        "from sklearn.metrics import confusion_matrix, ConfusionMatrixDisplay\n",
        "#for i in range(len(pred_)):\n",
        "#  print(true_y[i])\n",
        "#print(confusion_matrix(true_y, pred_, labels=[0, 1, 2, 3]))\n",
        "cm = confusion_matrix(true_y, pred_, labels=[0, 1, 2, 3])\n",
        "cmd = ConfusionMatrixDisplay(cm, display_labels=['easy','moderate', 'hard', 'very hard'])\n",
        "#plt.subplot(1, 2, 1)\n",
        "cmd.plot()\n",
        "print(f'accuracy: {(cnt_correct/cnt)*100:.2f}%')"
      ],
      "metadata": {
        "colab": {
          "base_uri": "https://localhost:8080/",
          "height": 296
        },
        "id": "td3mlxlNxXqF",
        "outputId": "552261cd-0809-4060-af76-1cac72fe44e6"
      },
      "execution_count": 9,
      "outputs": [
        {
          "output_type": "stream",
          "name": "stdout",
          "text": [
            "accuracy: 79.17%\n"
          ]
        },
        {
          "output_type": "display_data",
          "data": {
            "text/plain": [
              "<Figure size 432x288 with 2 Axes>"
            ],
            "image/png": "[encoded data removed]"
          },
          "metadata": {
            "needs_background": "light"
          }
        }
      ]
    },
    {
      "cell_type": "code",
      "source": [
        "y_new = np.array(y_new)\n",
        "plt.hist(y_new)\n",
        "#plt.title('0->[0,2000) : 1->[2000,99999]')\n",
        "plt.show()"
      ],
      "metadata": {
        "id": "a_uXCro7BbBx",
        "outputId": "c774a55d-61b0-411a-d5e8-77817d2b880d",
        "colab": {
          "base_uri": "https://localhost:8080/",
          "height": 265
        }
      },
      "execution_count": 10,
      "outputs": [
        {
          "output_type": "display_data",
          "data": {
            "text/plain": [
              "<Figure size 432x288 with 1 Axes>"
            ],
            "image/png": "[encoded data removed]"
          },
          "metadata": {
            "needs_background": "light"
          }
        }
      ]
    },
    {
      "cell_type": "code",
      "source": [
        "import matplotlib.pyplot as plt \n",
        "from sklearn.preprocessing import LabelBinarizer\n",
        "from sklearn.metrics import roc_curve, auc, roc_auc_score\n",
        "\n",
        "\n",
        "target= ['easy', 'moderate', 'hard', 'very hard']\n",
        "\n",
        "fig, c_ax = plt.subplots(1,1, figsize = (12, 8))\n",
        "\n",
        "def multiclass_roc_auc_score(y_test, y_pred, average=\"macro\"):\n",
        "    lb = LabelBinarizer()\n",
        "    lb.fit(y_test)\n",
        "    y_test = lb.transform(y_test)\n",
        "    y_pred = lb.transform(y_pred)\n",
        "\n",
        "    for (idx, c_label) in enumerate(target):\n",
        "        fpr, tpr, thresholds = roc_curve(y_test[:,idx].astype(int), y_pred[:,idx])\n",
        "        c_ax.plot(fpr, tpr, label = '%s (AUC:%0.2f)'  % (c_label, auc(fpr, tpr)))\n",
        "    c_ax.plot(fpr, fpr, 'b-', label = 'Random Guessing')\n",
        "    return roc_auc_score(y_test, y_pred, average=average)\n",
        "\n",
        "\n",
        "print('ROC AUC score:', multiclass_roc_auc_score(true_y, pred_))\n",
        "\n",
        "c_ax.legend()\n",
        "c_ax.set_xlabel('False Positive Rate')\n",
        "c_ax.set_ylabel('True Positive Rate')\n",
        "plt.grid()\n",
        "plt.show()"
      ],
      "metadata": {
        "id": "ilN2NeRZ-wOR",
        "outputId": "f38a3a51-972e-4cdc-dad8-daadd70dc139",
        "colab": {
          "base_uri": "https://localhost:8080/",
          "height": 514
        }
      },
      "execution_count": 11,
      "outputs": [
        {
          "output_type": "stream",
          "name": "stdout",
          "text": [
            "ROC AUC score: 0.8515209192675557\n"
          ]
        },
        {
          "output_type": "display_data",
          "data": {
            "text/plain": [
              "<Figure size 864x576 with 1 Axes>"
            ],
            "image/png": "[encoded data removed]"
          },
          "metadata": {
            "needs_background": "light"
          }
        }
      ]
    }
  ]
}