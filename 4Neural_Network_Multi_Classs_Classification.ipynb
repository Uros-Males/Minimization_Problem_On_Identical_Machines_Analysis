{
  "nbformat": 4,
  "nbformat_minor": 0,
  "metadata": {
    "colab": {
      "name": "Neural_Network_Classification.ipynb",
      "provenance": [],
      "authorship_tag": "ABX9TyO14v+sa1oNtVNtT6SPOhgb",
      "include_colab_link": true
    },
    "kernelspec": {
      "name": "python3",
      "display_name": "Python 3"
    },
    "language_info": {
      "name": "python"
    }
  },
  "cells": [
    {
      "cell_type": "markdown",
      "metadata": {
        "id": "view-in-github",
        "colab_type": "text"
      },
      "source": [
        "<a href=\"https://colab.research.google.com/github/Uros-Males/Minimization_Problem_On_Identical_Machines_Analysis/blob/main/4Neural_Network_Multi_Classs_Classification.ipynb\" target=\"_parent\"><img src=\"https://colab.research.google.com/assets/colab-badge.svg\" alt=\"Open In Colab\"/></a>"
      ]
    },
    {
      "cell_type": "code",
      "execution_count": 1,
      "metadata": {
        "colab": {
          "base_uri": "https://localhost:8080/"
        },
        "id": "6u-X4QiVmgm4",
        "outputId": "4a122562-ec72-4bd8-b7b1-1d328dab76d1"
      },
      "outputs": [
        {
          "output_type": "stream",
          "name": "stdout",
          "text": [
            "8750\n",
            "   subtype  class  indeks    n   m    n/m   (n/m)^2      (n/m)^3       m/n  \\\n",
            "0       13      5       4  140  14  10.00  100.0000  1000.000000  0.100000   \n",
            "1        4      5      10  198  72   2.75    7.5625    20.796875  0.363636   \n",
            "2       12      6      10  108  12   9.00   81.0000   729.000000  0.111111   \n",
            "3        3      1       3   80  32   2.50    6.2500    15.625000  0.400000   \n",
            "4       10      5       3  100  20   5.00   25.0000   125.000000  0.200000   \n",
            "\n",
            "    (m/n)^2   (m/n)^3   av.length    std.dev  median  range  min  max    k  \n",
            "0  0.010000  0.001000  106.342857  47.798710   109.5    235    4  239   98  \n",
            "1  0.132231  0.048084  102.292931  46.513954    99.5    235    2  237  121  \n",
            "2  0.012346  0.001372  289.944458  90.340347   291.0    320  110  430   92  \n",
            "3  0.160000  0.064000   52.537498  27.908051    51.5     99    1  100   60  \n",
            "4  0.040000  0.008000  106.519997  48.898880   102.0    201    2  203   76  \n"
          ]
        }
      ],
      "source": [
        "#IN PROGRESS....\n",
        "import pandas as pd\n",
        "import numpy as np\n",
        "import matplotlib.pyplot as plt\n",
        "from sklearn import tree\n",
        "from sklearn.model_selection import train_test_split\n",
        "from sklearn.tree import DecisionTreeRegressor\n",
        "import time\n",
        "import keras\n",
        "\n",
        "df = pd.read_csv('/content/sample_data/C-instances-runtime-analysis.csv')\n",
        "print(df.shape[0])\n",
        "#df = df.drop(['inst.name', 'type', 'CPLEXStatus'], axis = 1)\n",
        "#standard_deviations = 3\n",
        "#df = df[df.apply(lambda x: np.abs(x - x.mean()) / x.std() < standard_deviations)\n",
        "#   .all(axis=1)]\n",
        "\n",
        "#print(df.shape[0])\n",
        "\n",
        "#names = ['indeks', 'n', 'n/m', '(n/m)^2', '(n/m)^3', 'm/n', '(m/n)^2',\n",
        "   #      '(m/n)^3', 'av.length', 'std.dev', 'median', 'range', 'min', 'max', 'k']\n",
        "#for i in range(df.shape[0]):\n",
        " # if(df.iloc[i]['n/m'] == 2 and df.iloc[i]['y']==99999):\n",
        "  #  for j in range(len(names)):\n",
        "   #   print(names[j]+\"->\"+str(df.iloc[i][names[j]]))\n",
        "    #print(\"------------------------------------------------------------------\")\n",
        "\n",
        "\n",
        "shuffled = df.sample(frac=1).reset_index()\n",
        "\n",
        "columns_dont_want = ['y', 'index', 'inst.name','type', 'CPLEXStatus'] #cple\n",
        "select = [x for x in shuffled.columns if x not in columns_dont_want]\n",
        "\n",
        "X = shuffled.loc[:, select]\n",
        "\n",
        "y = shuffled.loc[:,'y']\n",
        "print(X.head())\n",
        "names = ['indeks', 'n', 'n/m', '(n/m)^2', '(n/m)^3', 'm/n', 'av.length', 'std.dev', 'median', 'range', 'min', 'max', 'k']\n",
        "#print(names[1])\n",
        "\n",
        "\n"
      ]
    },
    {
      "cell_type": "code",
      "source": [
        "y_new = []\n",
        "for val in y:\n",
        "  if(val<10):\n",
        "    y_new.append(0)\n",
        "  elif(10 <= val and val <100):\n",
        "    y_new.append(1)\n",
        "  elif(100<=val and val<1000):\n",
        "    y_new.append(2)\n",
        "  else:\n",
        "    y_new.append(3)\n",
        "\n",
        "shuffled['y_new'] = y_new\n",
        "#print(shuffled.head())\n",
        "y_encoded = shuffled.loc[:,'y_new']\n",
        "y_new = np.array(y_new)\n",
        "plt.hist(y_new)\n",
        "plt.show()\n",
        "X_modified = X\n",
        "#X_modified = X.drop(['n/m', '(n/m)^2', '(n/m)^3', 'm/n', '(m/n)^2', '(m/n)^3', 'max', 'av.length'], axis = 1)\n",
        "#print(X_modified.shape[1])"
      ],
      "metadata": {
        "id": "XkPXcbO0riCC",
        "colab": {
          "base_uri": "https://localhost:8080/",
          "height": 265
        },
        "outputId": "7e695ce0-98e0-4bbc-f671-0b5a4c262a0a"
      },
      "execution_count": 2,
      "outputs": [
        {
          "output_type": "display_data",
          "data": {
            "text/plain": [
              "<Figure size 432x288 with 1 Axes>"
            ],
            "image/png": "[encoded data removed]"
          },
          "metadata": {
            "needs_background": "light"
          }
        }
      ]
    },
    {
      "cell_type": "code",
      "source": [
        "from sklearn.preprocessing import LabelEncoder\n",
        "from keras.utils.np_utils import to_categorical\n",
        "\n",
        "l_encode = LabelEncoder()\n",
        "l_encode.fit(y_encoded)\n",
        "y_encoded = l_encode.transform(y_encoded)\n",
        "y_encoded = to_categorical(y_encoded)\n",
        "y_encoded"
      ],
      "metadata": {
        "colab": {
          "base_uri": "https://localhost:8080/"
        },
        "id": "W2hvUxxE2NWr",
        "outputId": "3e86dbd3-3cf9-4ace-af4c-9f0c9a3dd323"
      },
      "execution_count": 3,
      "outputs": [
        {
          "output_type": "execute_result",
          "data": {
            "text/plain": [
              "array([[0., 0., 0., 1.],\n",
              "       [0., 1., 0., 0.],\n",
              "       [0., 0., 0., 1.],\n",
              "       ...,\n",
              "       [0., 0., 1., 0.],\n",
              "       [0., 1., 0., 0.],\n",
              "       [1., 0., 0., 0.]], dtype=float32)"
            ]
          },
          "metadata": {},
          "execution_count": 3
        }
      ]
    },
    {
      "cell_type": "code",
      "source": [
        "from sklearn import preprocessing\n",
        "\n",
        "from sklearn.preprocessing import StandardScaler\n",
        "\n",
        "sc = StandardScaler()\n",
        "\n",
        "#X = pd.DataFrame(X, columns=names)\n",
        "#print(X.head())\n",
        "\n",
        "from sklearn.decomposition import PCA\n",
        "\n",
        "#,'PC2','PC3','PC4','PC5','PC6','PC7','PC8\n",
        "#pca = PCA(n_components=9)\n",
        "#pca.fit(X)\n",
        "#X = pca.transform(X)\n",
        "#X = pd.DataFrame(X,columns=['PC1','PC2','PC3','PC4','PC5','PC6','PC7','PC8','PC9'])\n",
        "names = ['n/m', 'n', 'std.dev', 'k']\n",
        "X_modified = X.drop([ 'median', 'range',  'max','av.length', 'min','indeks', 'class',  'subtype', '(m/n)^3', '(m/n)^2', '(n/m)^2', '(n/m)^3','m/n','m'], axis = 1)\n",
        "\n",
        "\n",
        "#from scipy import stats\n",
        "#df[(np.abs(stats.zscore(df)) < 3).all(axis=1)]\n",
        "\n",
        "X_train, X_test, y_train, y_test = train_test_split(X_modified, y_encoded, random_state=0, train_size = 0.83)\n",
        "\n",
        "X_train = sc.fit_transform(X_train)\n",
        "X_test_copy = X_test\n",
        "X_test = sc.transform(X_test)\n"
      ],
      "metadata": {
        "id": "kx4jr-6Qaxpv"
      },
      "execution_count": 4,
      "outputs": []
    },
    {
      "cell_type": "code",
      "source": [
        "from keras.models import Sequential\n",
        "from keras.layers import Dense, Dropout\n",
        "\n",
        "classifier = Sequential()\n",
        "classifier.add(Dense(8, input_dim = X_modified.shape[1], activation='relu'))\n",
        "#classifier.add(Dense(8, activation = 'relu'))\n",
        "\n",
        "classifier.add(Dense(8, activation = 'relu'))\n",
        "\n",
        "#classifier.add(Dense(32, activation = 'relu'))\n",
        "#classifier.add(Dense(32, activation = 'relu'))\n",
        "#classifier.add(Dense(16, activation = 'relu'))\n",
        "\n",
        "classifier.add(Dense(16, activation='relu'))\n",
        "\n",
        "classifier.add(Dense(8, activation='relu'))\n",
        "\n",
        "classifier.add(Dense(4, activation='relu'))\n",
        "\n",
        "classifier.add(Dense(4, activation = 'softmax'))\n",
        "classifier.compile(loss = 'categorical_crossentropy', optimizer = 'adam', metrics = ['accuracy'])\n",
        "classifier.summary()"
      ],
      "metadata": {
        "id": "jRT-grzys8_y",
        "colab": {
          "base_uri": "https://localhost:8080/"
        },
        "outputId": "b7773c4e-aa0d-44ec-e439-f111bce6a105"
      },
      "execution_count": 5,
      "outputs": [
        {
          "output_type": "stream",
          "name": "stdout",
          "text": [
            "Model: \"sequential\"\n",
            "_________________________________________________________________\n",
            " Layer (type)                Output Shape              Param #   \n",
            "=================================================================\n",
            " dense (Dense)               (None, 8)                 40        \n",
            "                                                                 \n",
            " dense_1 (Dense)             (None, 8)                 72        \n",
            "                                                                 \n",
            " dense_2 (Dense)             (None, 16)                144       \n",
            "                                                                 \n",
            " dense_3 (Dense)             (None, 8)                 136       \n",
            "                                                                 \n",
            " dense_4 (Dense)             (None, 4)                 36        \n",
            "                                                                 \n",
            " dense_5 (Dense)             (None, 4)                 20        \n",
            "                                                                 \n",
            "=================================================================\n",
            "Total params: 448\n",
            "Trainable params: 448\n",
            "Non-trainable params: 0\n",
            "_________________________________________________________________\n"
          ]
        }
      ]
    },
    {
      "cell_type": "code",
      "source": [
        "#classifier.fit(X_train, y_train, batch_size = 64, epochs = 20, verbose = 1)\n",
        "#scores = classifier.evaluate(X_test, y_test)\n",
        "#for i, m in enumerate(classifier.metrics_names):\n",
        "#    print(\"\\n%s: %.3f\"% (m, scores[i]))\n",
        "#print(X_test_copy.iloc[0]['subtype'])"
      ],
      "metadata": {
        "id": "Mm7RsTBcx2EN"
      },
      "execution_count": 6,
      "outputs": []
    },
    {
      "cell_type": "code",
      "source": [
        "from keras.metrics import accuracy\n",
        "from keras import callbacks\n",
        "earlystopping = callbacks.EarlyStopping(monitor =\"val_loss\", \n",
        "                                        mode =\"min\", patience = 15, \n",
        "                                        restore_best_weights = True)\n",
        "  \n",
        "history = classifier.fit(X_train, y_train, batch_size = 64, \n",
        "                    epochs = 600, validation_data =(X_test, y_test), \n",
        "                    callbacks =[earlystopping])\n",
        "plt.plot(history.history['val_accuracy'])\n",
        "\n"
      ],
      "metadata": {
        "colab": {
          "base_uri": "https://localhost:8080/",
          "height": 1000
        },
        "id": "Sv9aKFPW5KGr",
        "outputId": "b474dd65-d320-40f3-8c05-e7788552a1f3"
      },
      "execution_count": 7,
      "outputs": [
        {
          "output_type": "stream",
          "name": "stdout",
          "text": [
            "Epoch 1/600\n",
            "114/114 [==============================] - 2s 5ms/step - loss: 1.3304 - accuracy: 0.3529 - val_loss: 1.2253 - val_accuracy: 0.3770\n",
            "Epoch 2/600\n",
            "114/114 [==============================] - 0s 2ms/step - loss: 1.1117 - accuracy: 0.4541 - val_loss: 0.9214 - val_accuracy: 0.5343\n",
            "Epoch 3/600\n",
            "114/114 [==============================] - 0s 3ms/step - loss: 0.8378 - accuracy: 0.6223 - val_loss: 0.6968 - val_accuracy: 0.6983\n",
            "Epoch 4/600\n",
            "114/114 [==============================] - 0s 2ms/step - loss: 0.6854 - accuracy: 0.6988 - val_loss: 0.6027 - val_accuracy: 0.7722\n",
            "Epoch 5/600\n",
            "114/114 [==============================] - 0s 2ms/step - loss: 0.6264 - accuracy: 0.7410 - val_loss: 0.5601 - val_accuracy: 0.7823\n",
            "Epoch 6/600\n",
            "114/114 [==============================] - 0s 3ms/step - loss: 0.5967 - accuracy: 0.7484 - val_loss: 0.5375 - val_accuracy: 0.7856\n",
            "Epoch 7/600\n",
            "114/114 [==============================] - 0s 3ms/step - loss: 0.5813 - accuracy: 0.7527 - val_loss: 0.5287 - val_accuracy: 0.7829\n",
            "Epoch 8/600\n",
            "114/114 [==============================] - 0s 3ms/step - loss: 0.5677 - accuracy: 0.7572 - val_loss: 0.5187 - val_accuracy: 0.7910\n",
            "Epoch 9/600\n",
            "114/114 [==============================] - 0s 3ms/step - loss: 0.5575 - accuracy: 0.7623 - val_loss: 0.5121 - val_accuracy: 0.7823\n",
            "Epoch 10/600\n",
            "114/114 [==============================] - 0s 3ms/step - loss: 0.5502 - accuracy: 0.7654 - val_loss: 0.5087 - val_accuracy: 0.7930\n",
            "Epoch 11/600\n",
            "114/114 [==============================] - 0s 3ms/step - loss: 0.5415 - accuracy: 0.7676 - val_loss: 0.5008 - val_accuracy: 0.7910\n",
            "Epoch 12/600\n",
            "114/114 [==============================] - 0s 3ms/step - loss: 0.5381 - accuracy: 0.7706 - val_loss: 0.5008 - val_accuracy: 0.7876\n",
            "Epoch 13/600\n",
            "114/114 [==============================] - 0s 3ms/step - loss: 0.5332 - accuracy: 0.7720 - val_loss: 0.4921 - val_accuracy: 0.7991\n",
            "Epoch 14/600\n",
            "114/114 [==============================] - 0s 3ms/step - loss: 0.5273 - accuracy: 0.7735 - val_loss: 0.4957 - val_accuracy: 0.7944\n",
            "Epoch 15/600\n",
            "114/114 [==============================] - 0s 2ms/step - loss: 0.5256 - accuracy: 0.7733 - val_loss: 0.4974 - val_accuracy: 0.7903\n",
            "Epoch 16/600\n",
            "114/114 [==============================] - 0s 3ms/step - loss: 0.5203 - accuracy: 0.7769 - val_loss: 0.4831 - val_accuracy: 0.8058\n",
            "Epoch 17/600\n",
            "114/114 [==============================] - 0s 3ms/step - loss: 0.5146 - accuracy: 0.7764 - val_loss: 0.4936 - val_accuracy: 0.7923\n",
            "Epoch 18/600\n",
            "114/114 [==============================] - 0s 3ms/step - loss: 0.5142 - accuracy: 0.7755 - val_loss: 0.4863 - val_accuracy: 0.8024\n",
            "Epoch 19/600\n",
            "114/114 [==============================] - 0s 4ms/step - loss: 0.5101 - accuracy: 0.7795 - val_loss: 0.4756 - val_accuracy: 0.8004\n",
            "Epoch 20/600\n",
            "114/114 [==============================] - 0s 3ms/step - loss: 0.5092 - accuracy: 0.7806 - val_loss: 0.4752 - val_accuracy: 0.8011\n",
            "Epoch 21/600\n",
            "114/114 [==============================] - 0s 2ms/step - loss: 0.5076 - accuracy: 0.7816 - val_loss: 0.4896 - val_accuracy: 0.7917\n",
            "Epoch 22/600\n",
            "114/114 [==============================] - 0s 2ms/step - loss: 0.5055 - accuracy: 0.7817 - val_loss: 0.4791 - val_accuracy: 0.7964\n",
            "Epoch 23/600\n",
            "114/114 [==============================] - 0s 2ms/step - loss: 0.5022 - accuracy: 0.7874 - val_loss: 0.4780 - val_accuracy: 0.7944\n",
            "Epoch 24/600\n",
            "114/114 [==============================] - 0s 3ms/step - loss: 0.5008 - accuracy: 0.7816 - val_loss: 0.4698 - val_accuracy: 0.7997\n",
            "Epoch 25/600\n",
            "114/114 [==============================] - 0s 2ms/step - loss: 0.4990 - accuracy: 0.7850 - val_loss: 0.4717 - val_accuracy: 0.8004\n",
            "Epoch 26/600\n",
            "114/114 [==============================] - 0s 3ms/step - loss: 0.4968 - accuracy: 0.7868 - val_loss: 0.4764 - val_accuracy: 0.7930\n",
            "Epoch 27/600\n",
            "114/114 [==============================] - 0s 3ms/step - loss: 0.4972 - accuracy: 0.7852 - val_loss: 0.4721 - val_accuracy: 0.7991\n",
            "Epoch 28/600\n",
            "114/114 [==============================] - 0s 2ms/step - loss: 0.4935 - accuracy: 0.7886 - val_loss: 0.4684 - val_accuracy: 0.7944\n",
            "Epoch 29/600\n",
            "114/114 [==============================] - 0s 3ms/step - loss: 0.4925 - accuracy: 0.7899 - val_loss: 0.4670 - val_accuracy: 0.8065\n",
            "Epoch 30/600\n",
            "114/114 [==============================] - 0s 3ms/step - loss: 0.4939 - accuracy: 0.7926 - val_loss: 0.4718 - val_accuracy: 0.7957\n",
            "Epoch 31/600\n",
            "114/114 [==============================] - 0s 4ms/step - loss: 0.4916 - accuracy: 0.7879 - val_loss: 0.4690 - val_accuracy: 0.8044\n",
            "Epoch 32/600\n",
            "114/114 [==============================] - 0s 3ms/step - loss: 0.4884 - accuracy: 0.7933 - val_loss: 0.4748 - val_accuracy: 0.8004\n",
            "Epoch 33/600\n",
            "114/114 [==============================] - 0s 3ms/step - loss: 0.4897 - accuracy: 0.7882 - val_loss: 0.4712 - val_accuracy: 0.8011\n",
            "Epoch 34/600\n",
            "114/114 [==============================] - 0s 3ms/step - loss: 0.4922 - accuracy: 0.7888 - val_loss: 0.4617 - val_accuracy: 0.8031\n",
            "Epoch 35/600\n",
            "114/114 [==============================] - 0s 3ms/step - loss: 0.4869 - accuracy: 0.7901 - val_loss: 0.4658 - val_accuracy: 0.7984\n",
            "Epoch 36/600\n",
            "114/114 [==============================] - 0s 3ms/step - loss: 0.4837 - accuracy: 0.7917 - val_loss: 0.4632 - val_accuracy: 0.7991\n",
            "Epoch 37/600\n",
            "114/114 [==============================] - 0s 3ms/step - loss: 0.4837 - accuracy: 0.7958 - val_loss: 0.4664 - val_accuracy: 0.7944\n",
            "Epoch 38/600\n",
            "114/114 [==============================] - 0s 4ms/step - loss: 0.4856 - accuracy: 0.7893 - val_loss: 0.4616 - val_accuracy: 0.8024\n",
            "Epoch 39/600\n",
            "114/114 [==============================] - 1s 6ms/step - loss: 0.4839 - accuracy: 0.7943 - val_loss: 0.4657 - val_accuracy: 0.8071\n",
            "Epoch 40/600\n",
            "114/114 [==============================] - 0s 1ms/step - loss: 0.4828 - accuracy: 0.7923 - val_loss: 0.4596 - val_accuracy: 0.7984\n",
            "Epoch 41/600\n",
            "114/114 [==============================] - 0s 1ms/step - loss: 0.4806 - accuracy: 0.7973 - val_loss: 0.4650 - val_accuracy: 0.8024\n",
            "Epoch 42/600\n",
            "114/114 [==============================] - 0s 1ms/step - loss: 0.4791 - accuracy: 0.7962 - val_loss: 0.4581 - val_accuracy: 0.8065\n",
            "Epoch 43/600\n",
            "114/114 [==============================] - 0s 1ms/step - loss: 0.4786 - accuracy: 0.7944 - val_loss: 0.4617 - val_accuracy: 0.8071\n",
            "Epoch 44/600\n",
            "114/114 [==============================] - 0s 2ms/step - loss: 0.4780 - accuracy: 0.7973 - val_loss: 0.4571 - val_accuracy: 0.7997\n",
            "Epoch 45/600\n",
            "114/114 [==============================] - 0s 1ms/step - loss: 0.4818 - accuracy: 0.7943 - val_loss: 0.4615 - val_accuracy: 0.8011\n",
            "Epoch 46/600\n",
            "114/114 [==============================] - 0s 1ms/step - loss: 0.4768 - accuracy: 0.7958 - val_loss: 0.4571 - val_accuracy: 0.8038\n",
            "Epoch 47/600\n",
            "114/114 [==============================] - 0s 1ms/step - loss: 0.4747 - accuracy: 0.7973 - val_loss: 0.4561 - val_accuracy: 0.8058\n",
            "Epoch 48/600\n",
            "114/114 [==============================] - 0s 1ms/step - loss: 0.4741 - accuracy: 0.7973 - val_loss: 0.4508 - val_accuracy: 0.8071\n",
            "Epoch 49/600\n",
            "114/114 [==============================] - 0s 1ms/step - loss: 0.4776 - accuracy: 0.7956 - val_loss: 0.4590 - val_accuracy: 0.8044\n",
            "Epoch 50/600\n",
            "114/114 [==============================] - 0s 2ms/step - loss: 0.4748 - accuracy: 0.7984 - val_loss: 0.4564 - val_accuracy: 0.8011\n",
            "Epoch 51/600\n",
            "114/114 [==============================] - 0s 1ms/step - loss: 0.4726 - accuracy: 0.7987 - val_loss: 0.4548 - val_accuracy: 0.8051\n",
            "Epoch 52/600\n",
            "114/114 [==============================] - 0s 1ms/step - loss: 0.4729 - accuracy: 0.7969 - val_loss: 0.4620 - val_accuracy: 0.7997\n",
            "Epoch 53/600\n",
            "114/114 [==============================] - 0s 1ms/step - loss: 0.4731 - accuracy: 0.8003 - val_loss: 0.4572 - val_accuracy: 0.8085\n",
            "Epoch 54/600\n",
            "114/114 [==============================] - 0s 1ms/step - loss: 0.4745 - accuracy: 0.7958 - val_loss: 0.4526 - val_accuracy: 0.8024\n",
            "Epoch 55/600\n",
            "114/114 [==============================] - 0s 1ms/step - loss: 0.4707 - accuracy: 0.8012 - val_loss: 0.4654 - val_accuracy: 0.7944\n",
            "Epoch 56/600\n",
            "114/114 [==============================] - 0s 1ms/step - loss: 0.4731 - accuracy: 0.8002 - val_loss: 0.4522 - val_accuracy: 0.8031\n",
            "Epoch 57/600\n",
            "114/114 [==============================] - 0s 1ms/step - loss: 0.4698 - accuracy: 0.8007 - val_loss: 0.4572 - val_accuracy: 0.8058\n",
            "Epoch 58/600\n",
            "114/114 [==============================] - 0s 1ms/step - loss: 0.4678 - accuracy: 0.8012 - val_loss: 0.4499 - val_accuracy: 0.8031\n",
            "Epoch 59/600\n",
            "114/114 [==============================] - 0s 1ms/step - loss: 0.4694 - accuracy: 0.7995 - val_loss: 0.4569 - val_accuracy: 0.8078\n",
            "Epoch 60/600\n",
            "114/114 [==============================] - 0s 1ms/step - loss: 0.4673 - accuracy: 0.8032 - val_loss: 0.4521 - val_accuracy: 0.8085\n",
            "Epoch 61/600\n",
            "114/114 [==============================] - 0s 1ms/step - loss: 0.4684 - accuracy: 0.8013 - val_loss: 0.4507 - val_accuracy: 0.8078\n",
            "Epoch 62/600\n",
            "114/114 [==============================] - 0s 1ms/step - loss: 0.4673 - accuracy: 0.8034 - val_loss: 0.4547 - val_accuracy: 0.8051\n",
            "Epoch 63/600\n",
            "114/114 [==============================] - 0s 1ms/step - loss: 0.4656 - accuracy: 0.8028 - val_loss: 0.4491 - val_accuracy: 0.8058\n",
            "Epoch 64/600\n",
            "114/114 [==============================] - 0s 1ms/step - loss: 0.4678 - accuracy: 0.8035 - val_loss: 0.4533 - val_accuracy: 0.7997\n",
            "Epoch 65/600\n",
            "114/114 [==============================] - 0s 1ms/step - loss: 0.4652 - accuracy: 0.8016 - val_loss: 0.4497 - val_accuracy: 0.7984\n",
            "Epoch 66/600\n",
            "114/114 [==============================] - 0s 1ms/step - loss: 0.4652 - accuracy: 0.8016 - val_loss: 0.4483 - val_accuracy: 0.8065\n",
            "Epoch 67/600\n",
            "114/114 [==============================] - 0s 1ms/step - loss: 0.4662 - accuracy: 0.8016 - val_loss: 0.4506 - val_accuracy: 0.7991\n",
            "Epoch 68/600\n",
            "114/114 [==============================] - 0s 1ms/step - loss: 0.4634 - accuracy: 0.8003 - val_loss: 0.4489 - val_accuracy: 0.8024\n",
            "Epoch 69/600\n",
            "114/114 [==============================] - 0s 1ms/step - loss: 0.4620 - accuracy: 0.8056 - val_loss: 0.4476 - val_accuracy: 0.8085\n",
            "Epoch 70/600\n",
            "114/114 [==============================] - 0s 1ms/step - loss: 0.4637 - accuracy: 0.8014 - val_loss: 0.4495 - val_accuracy: 0.8091\n",
            "Epoch 71/600\n",
            "114/114 [==============================] - 0s 1ms/step - loss: 0.4655 - accuracy: 0.8012 - val_loss: 0.4498 - val_accuracy: 0.8038\n",
            "Epoch 72/600\n",
            "114/114 [==============================] - 0s 1ms/step - loss: 0.4650 - accuracy: 0.8016 - val_loss: 0.4591 - val_accuracy: 0.8065\n",
            "Epoch 73/600\n",
            "114/114 [==============================] - 0s 1ms/step - loss: 0.4660 - accuracy: 0.7996 - val_loss: 0.4504 - val_accuracy: 0.8138\n",
            "Epoch 74/600\n",
            "114/114 [==============================] - 0s 1ms/step - loss: 0.4621 - accuracy: 0.8007 - val_loss: 0.4504 - val_accuracy: 0.8004\n",
            "Epoch 75/600\n",
            "114/114 [==============================] - 0s 1ms/step - loss: 0.4610 - accuracy: 0.8023 - val_loss: 0.4529 - val_accuracy: 0.8091\n",
            "Epoch 76/600\n",
            "114/114 [==============================] - 0s 2ms/step - loss: 0.4607 - accuracy: 0.8056 - val_loss: 0.4456 - val_accuracy: 0.8038\n",
            "Epoch 77/600\n",
            "114/114 [==============================] - 0s 1ms/step - loss: 0.4613 - accuracy: 0.8069 - val_loss: 0.4433 - val_accuracy: 0.8132\n",
            "Epoch 78/600\n",
            "114/114 [==============================] - 0s 1ms/step - loss: 0.4608 - accuracy: 0.8023 - val_loss: 0.4450 - val_accuracy: 0.8138\n",
            "Epoch 79/600\n",
            "114/114 [==============================] - 0s 1ms/step - loss: 0.4578 - accuracy: 0.8056 - val_loss: 0.4426 - val_accuracy: 0.8098\n",
            "Epoch 80/600\n",
            "114/114 [==============================] - 0s 1ms/step - loss: 0.4599 - accuracy: 0.8018 - val_loss: 0.4480 - val_accuracy: 0.8011\n",
            "Epoch 81/600\n",
            "114/114 [==============================] - 0s 1ms/step - loss: 0.4569 - accuracy: 0.8076 - val_loss: 0.4599 - val_accuracy: 0.7970\n",
            "Epoch 82/600\n",
            "114/114 [==============================] - 0s 1ms/step - loss: 0.4578 - accuracy: 0.8046 - val_loss: 0.4424 - val_accuracy: 0.8105\n",
            "Epoch 83/600\n",
            "114/114 [==============================] - 0s 1ms/step - loss: 0.4586 - accuracy: 0.8058 - val_loss: 0.4421 - val_accuracy: 0.8112\n",
            "Epoch 84/600\n",
            "114/114 [==============================] - 0s 1ms/step - loss: 0.4579 - accuracy: 0.8072 - val_loss: 0.4460 - val_accuracy: 0.8125\n",
            "Epoch 85/600\n",
            "114/114 [==============================] - 0s 1ms/step - loss: 0.4578 - accuracy: 0.8071 - val_loss: 0.4438 - val_accuracy: 0.8112\n",
            "Epoch 86/600\n",
            "114/114 [==============================] - 0s 1ms/step - loss: 0.4539 - accuracy: 0.8101 - val_loss: 0.4444 - val_accuracy: 0.8125\n",
            "Epoch 87/600\n",
            "114/114 [==============================] - 0s 1ms/step - loss: 0.4563 - accuracy: 0.8071 - val_loss: 0.4437 - val_accuracy: 0.8091\n",
            "Epoch 88/600\n",
            "114/114 [==============================] - 0s 1ms/step - loss: 0.4543 - accuracy: 0.8080 - val_loss: 0.4475 - val_accuracy: 0.8098\n",
            "Epoch 89/600\n",
            "114/114 [==============================] - 0s 1ms/step - loss: 0.4568 - accuracy: 0.8107 - val_loss: 0.4397 - val_accuracy: 0.8152\n",
            "Epoch 90/600\n",
            "114/114 [==============================] - 0s 1ms/step - loss: 0.4529 - accuracy: 0.8097 - val_loss: 0.4476 - val_accuracy: 0.8112\n",
            "Epoch 91/600\n",
            "114/114 [==============================] - 0s 1ms/step - loss: 0.4554 - accuracy: 0.8063 - val_loss: 0.4398 - val_accuracy: 0.8132\n",
            "Epoch 92/600\n",
            "114/114 [==============================] - 0s 1ms/step - loss: 0.4535 - accuracy: 0.8091 - val_loss: 0.4430 - val_accuracy: 0.8132\n",
            "Epoch 93/600\n",
            "114/114 [==============================] - 0s 1ms/step - loss: 0.4551 - accuracy: 0.8108 - val_loss: 0.4412 - val_accuracy: 0.8044\n",
            "Epoch 94/600\n",
            "114/114 [==============================] - 0s 1ms/step - loss: 0.4544 - accuracy: 0.8080 - val_loss: 0.4408 - val_accuracy: 0.8118\n",
            "Epoch 95/600\n",
            "114/114 [==============================] - 0s 1ms/step - loss: 0.4512 - accuracy: 0.8105 - val_loss: 0.4436 - val_accuracy: 0.8112\n",
            "Epoch 96/600\n",
            "114/114 [==============================] - 0s 1ms/step - loss: 0.4538 - accuracy: 0.8104 - val_loss: 0.4455 - val_accuracy: 0.8132\n",
            "Epoch 97/600\n",
            "114/114 [==============================] - 0s 1ms/step - loss: 0.4583 - accuracy: 0.8080 - val_loss: 0.4383 - val_accuracy: 0.8138\n",
            "Epoch 98/600\n",
            "114/114 [==============================] - 0s 1ms/step - loss: 0.4529 - accuracy: 0.8108 - val_loss: 0.4445 - val_accuracy: 0.8145\n",
            "Epoch 99/600\n",
            "114/114 [==============================] - 0s 1ms/step - loss: 0.4511 - accuracy: 0.8090 - val_loss: 0.4426 - val_accuracy: 0.8118\n",
            "Epoch 100/600\n",
            "114/114 [==============================] - 0s 1ms/step - loss: 0.4521 - accuracy: 0.8094 - val_loss: 0.4408 - val_accuracy: 0.8112\n",
            "Epoch 101/600\n",
            "114/114 [==============================] - 0s 1ms/step - loss: 0.4530 - accuracy: 0.8089 - val_loss: 0.4414 - val_accuracy: 0.8118\n",
            "Epoch 102/600\n",
            "114/114 [==============================] - 0s 1ms/step - loss: 0.4548 - accuracy: 0.8087 - val_loss: 0.4413 - val_accuracy: 0.8145\n",
            "Epoch 103/600\n",
            "114/114 [==============================] - 0s 1ms/step - loss: 0.4528 - accuracy: 0.8118 - val_loss: 0.4401 - val_accuracy: 0.8105\n",
            "Epoch 104/600\n",
            "114/114 [==============================] - 0s 1ms/step - loss: 0.4519 - accuracy: 0.8067 - val_loss: 0.4418 - val_accuracy: 0.8165\n",
            "Epoch 105/600\n",
            "114/114 [==============================] - 0s 1ms/step - loss: 0.4507 - accuracy: 0.8118 - val_loss: 0.4444 - val_accuracy: 0.8091\n",
            "Epoch 106/600\n",
            "114/114 [==============================] - 0s 2ms/step - loss: 0.4489 - accuracy: 0.8135 - val_loss: 0.4372 - val_accuracy: 0.8118\n",
            "Epoch 107/600\n",
            "114/114 [==============================] - 0s 1ms/step - loss: 0.4493 - accuracy: 0.8108 - val_loss: 0.4434 - val_accuracy: 0.8125\n",
            "Epoch 108/600\n",
            "114/114 [==============================] - 0s 1ms/step - loss: 0.4496 - accuracy: 0.8140 - val_loss: 0.4385 - val_accuracy: 0.8145\n",
            "Epoch 109/600\n",
            "114/114 [==============================] - 0s 1ms/step - loss: 0.4494 - accuracy: 0.8112 - val_loss: 0.4436 - val_accuracy: 0.8051\n",
            "Epoch 110/600\n",
            "114/114 [==============================] - 0s 1ms/step - loss: 0.4486 - accuracy: 0.8112 - val_loss: 0.4425 - val_accuracy: 0.8172\n",
            "Epoch 111/600\n",
            "114/114 [==============================] - 0s 1ms/step - loss: 0.4502 - accuracy: 0.8104 - val_loss: 0.4389 - val_accuracy: 0.8112\n",
            "Epoch 112/600\n",
            "114/114 [==============================] - 0s 1ms/step - loss: 0.4490 - accuracy: 0.8101 - val_loss: 0.4344 - val_accuracy: 0.8165\n",
            "Epoch 113/600\n",
            "114/114 [==============================] - 0s 1ms/step - loss: 0.4474 - accuracy: 0.8123 - val_loss: 0.4357 - val_accuracy: 0.8112\n",
            "Epoch 114/600\n",
            "114/114 [==============================] - 0s 1ms/step - loss: 0.4471 - accuracy: 0.8129 - val_loss: 0.4408 - val_accuracy: 0.8145\n",
            "Epoch 115/600\n",
            "114/114 [==============================] - 0s 1ms/step - loss: 0.4461 - accuracy: 0.8115 - val_loss: 0.4435 - val_accuracy: 0.8051\n",
            "Epoch 116/600\n",
            "114/114 [==============================] - 0s 1ms/step - loss: 0.4447 - accuracy: 0.8118 - val_loss: 0.4426 - val_accuracy: 0.8085\n",
            "Epoch 117/600\n",
            "114/114 [==============================] - 0s 1ms/step - loss: 0.4475 - accuracy: 0.8113 - val_loss: 0.4392 - val_accuracy: 0.8105\n",
            "Epoch 118/600\n",
            "114/114 [==============================] - 0s 1ms/step - loss: 0.4462 - accuracy: 0.8080 - val_loss: 0.4379 - val_accuracy: 0.8085\n",
            "Epoch 119/600\n",
            "114/114 [==============================] - 0s 1ms/step - loss: 0.4469 - accuracy: 0.8116 - val_loss: 0.4382 - val_accuracy: 0.8159\n",
            "Epoch 120/600\n",
            "114/114 [==============================] - 0s 1ms/step - loss: 0.4482 - accuracy: 0.8082 - val_loss: 0.4371 - val_accuracy: 0.8065\n",
            "Epoch 121/600\n",
            "114/114 [==============================] - 0s 1ms/step - loss: 0.4445 - accuracy: 0.8147 - val_loss: 0.4360 - val_accuracy: 0.8118\n",
            "Epoch 122/600\n",
            "114/114 [==============================] - 0s 1ms/step - loss: 0.4446 - accuracy: 0.8119 - val_loss: 0.4326 - val_accuracy: 0.8212\n",
            "Epoch 123/600\n",
            "114/114 [==============================] - 0s 1ms/step - loss: 0.4441 - accuracy: 0.8140 - val_loss: 0.4358 - val_accuracy: 0.8185\n",
            "Epoch 124/600\n",
            "114/114 [==============================] - 0s 1ms/step - loss: 0.4455 - accuracy: 0.8123 - val_loss: 0.4373 - val_accuracy: 0.8179\n",
            "Epoch 125/600\n",
            "114/114 [==============================] - 0s 1ms/step - loss: 0.4422 - accuracy: 0.8131 - val_loss: 0.4342 - val_accuracy: 0.8212\n",
            "Epoch 126/600\n",
            "114/114 [==============================] - 0s 1ms/step - loss: 0.4432 - accuracy: 0.8127 - val_loss: 0.4415 - val_accuracy: 0.8085\n",
            "Epoch 127/600\n",
            "114/114 [==============================] - 0s 1ms/step - loss: 0.4449 - accuracy: 0.8119 - val_loss: 0.4355 - val_accuracy: 0.8118\n",
            "Epoch 128/600\n",
            "114/114 [==============================] - 0s 1ms/step - loss: 0.4448 - accuracy: 0.8137 - val_loss: 0.4342 - val_accuracy: 0.8199\n",
            "Epoch 129/600\n",
            "114/114 [==============================] - 0s 1ms/step - loss: 0.4428 - accuracy: 0.8145 - val_loss: 0.4414 - val_accuracy: 0.8159\n",
            "Epoch 130/600\n",
            "114/114 [==============================] - 0s 1ms/step - loss: 0.4436 - accuracy: 0.8124 - val_loss: 0.4344 - val_accuracy: 0.8212\n",
            "Epoch 131/600\n",
            "114/114 [==============================] - 0s 1ms/step - loss: 0.4420 - accuracy: 0.8124 - val_loss: 0.4378 - val_accuracy: 0.8172\n",
            "Epoch 132/600\n",
            "114/114 [==============================] - 0s 1ms/step - loss: 0.4425 - accuracy: 0.8135 - val_loss: 0.4360 - val_accuracy: 0.8065\n",
            "Epoch 133/600\n",
            "114/114 [==============================] - 0s 1ms/step - loss: 0.4417 - accuracy: 0.8100 - val_loss: 0.4357 - val_accuracy: 0.8138\n",
            "Epoch 134/600\n",
            "114/114 [==============================] - 0s 1ms/step - loss: 0.4396 - accuracy: 0.8116 - val_loss: 0.4301 - val_accuracy: 0.8199\n",
            "Epoch 135/600\n",
            "114/114 [==============================] - 0s 1ms/step - loss: 0.4404 - accuracy: 0.8148 - val_loss: 0.4376 - val_accuracy: 0.8125\n",
            "Epoch 136/600\n",
            "114/114 [==============================] - 0s 1ms/step - loss: 0.4402 - accuracy: 0.8116 - val_loss: 0.4436 - val_accuracy: 0.8105\n",
            "Epoch 137/600\n",
            "114/114 [==============================] - 0s 1ms/step - loss: 0.4423 - accuracy: 0.8116 - val_loss: 0.4420 - val_accuracy: 0.8065\n",
            "Epoch 138/600\n",
            "114/114 [==============================] - 0s 1ms/step - loss: 0.4397 - accuracy: 0.8141 - val_loss: 0.4430 - val_accuracy: 0.8051\n",
            "Epoch 139/600\n",
            "114/114 [==============================] - 0s 1ms/step - loss: 0.4404 - accuracy: 0.8119 - val_loss: 0.4325 - val_accuracy: 0.8206\n",
            "Epoch 140/600\n",
            "114/114 [==============================] - 0s 1ms/step - loss: 0.4394 - accuracy: 0.8133 - val_loss: 0.4301 - val_accuracy: 0.8159\n",
            "Epoch 141/600\n",
            "114/114 [==============================] - 0s 1ms/step - loss: 0.4375 - accuracy: 0.8160 - val_loss: 0.4343 - val_accuracy: 0.8159\n",
            "Epoch 142/600\n",
            "114/114 [==============================] - 0s 1ms/step - loss: 0.4399 - accuracy: 0.8134 - val_loss: 0.4328 - val_accuracy: 0.8192\n",
            "Epoch 143/600\n",
            "114/114 [==============================] - 0s 1ms/step - loss: 0.4397 - accuracy: 0.8163 - val_loss: 0.4280 - val_accuracy: 0.8199\n",
            "Epoch 144/600\n",
            "114/114 [==============================] - 0s 1ms/step - loss: 0.4383 - accuracy: 0.8124 - val_loss: 0.4324 - val_accuracy: 0.8185\n",
            "Epoch 145/600\n",
            "114/114 [==============================] - 0s 1ms/step - loss: 0.4413 - accuracy: 0.8131 - val_loss: 0.4290 - val_accuracy: 0.8179\n",
            "Epoch 146/600\n",
            "114/114 [==============================] - 0s 1ms/step - loss: 0.4399 - accuracy: 0.8133 - val_loss: 0.4310 - val_accuracy: 0.8145\n",
            "Epoch 147/600\n",
            "114/114 [==============================] - 0s 1ms/step - loss: 0.4412 - accuracy: 0.8116 - val_loss: 0.4315 - val_accuracy: 0.8132\n",
            "Epoch 148/600\n",
            "114/114 [==============================] - 0s 1ms/step - loss: 0.4376 - accuracy: 0.8137 - val_loss: 0.4300 - val_accuracy: 0.8172\n",
            "Epoch 149/600\n",
            "114/114 [==============================] - 0s 1ms/step - loss: 0.4374 - accuracy: 0.8134 - val_loss: 0.4349 - val_accuracy: 0.8118\n",
            "Epoch 150/600\n",
            "114/114 [==============================] - 0s 1ms/step - loss: 0.4378 - accuracy: 0.8141 - val_loss: 0.4403 - val_accuracy: 0.8192\n",
            "Epoch 151/600\n",
            "114/114 [==============================] - 0s 1ms/step - loss: 0.4372 - accuracy: 0.8129 - val_loss: 0.4297 - val_accuracy: 0.8165\n",
            "Epoch 152/600\n",
            "114/114 [==============================] - 0s 1ms/step - loss: 0.4374 - accuracy: 0.8131 - val_loss: 0.4283 - val_accuracy: 0.8179\n",
            "Epoch 153/600\n",
            "114/114 [==============================] - 0s 1ms/step - loss: 0.4387 - accuracy: 0.8126 - val_loss: 0.4341 - val_accuracy: 0.8159\n",
            "Epoch 154/600\n",
            "114/114 [==============================] - 0s 1ms/step - loss: 0.4353 - accuracy: 0.8140 - val_loss: 0.4345 - val_accuracy: 0.8172\n",
            "Epoch 155/600\n",
            "114/114 [==============================] - 0s 1ms/step - loss: 0.4372 - accuracy: 0.8144 - val_loss: 0.4320 - val_accuracy: 0.8165\n",
            "Epoch 156/600\n",
            "114/114 [==============================] - 0s 1ms/step - loss: 0.4367 - accuracy: 0.8116 - val_loss: 0.4391 - val_accuracy: 0.8152\n",
            "Epoch 157/600\n",
            "114/114 [==============================] - 0s 2ms/step - loss: 0.4370 - accuracy: 0.8116 - val_loss: 0.4291 - val_accuracy: 0.8192\n",
            "Epoch 158/600\n",
            "114/114 [==============================] - 0s 1ms/step - loss: 0.4364 - accuracy: 0.8137 - val_loss: 0.4332 - val_accuracy: 0.8179\n"
          ]
        },
        {
          "output_type": "execute_result",
          "data": {
            "text/plain": [
              "[<matplotlib.lines.Line2D at 0x7f53be365690>]"
            ]
          },
          "metadata": {},
          "execution_count": 7
        },
        {
          "output_type": "display_data",
          "data": {
            "text/plain": [
              "<Figure size 432x288 with 1 Axes>"
            ],
            "image/png": "[encoded data removed]"
          },
          "metadata": {
            "needs_background": "light"
          }
        }
      ]
    },
    {
      "cell_type": "code",
      "source": [
        "from keras.metrics import accuracy\n",
        "#test_size = X_test.shape[0]\n",
        "pred = classifier.predict(X_test)\n",
        "#print(pred)\n",
        "pred_ = np.argmax(pred, axis = 1)\n",
        "#print(pred_)\n",
        "pred_ = l_encode.inverse_transform(pred_)\n",
        "\n",
        "true_y = l_encode.inverse_transform(np.argmax(to_categorical(y_test), axis = 1)[:,1])\n",
        "\n",
        "\n",
        "#for i,j in zip(pred_, true_y):\n",
        "#    print(\"Predicted: {}, True: {}\".format(i, j))\n",
        "\n",
        "cnt = 0\n",
        "cnt_correct = 0\n",
        "\n",
        "print(\"very hard -> easy\")\n",
        "for i in range(len(pred_)):\n",
        "  cnt += 1\n",
        "  if(pred_[i] == true_y[i]):\n",
        "    cnt_correct += 1\n",
        "  if(pred_[i] == 0 and true_y[i] == 3):\n",
        "    for j in range(len(names)):\n",
        "      print(names[j]+\"->\"+str(X_test_copy.iloc[i][names[j]]))\n",
        "    print(\"------------------------------------------------------------------\")\n",
        "  \n",
        "print(f'accuracy: {(cnt_correct/cnt)*100:.2f}%')"
      ],
      "metadata": {
        "colab": {
          "base_uri": "https://localhost:8080/"
        },
        "id": "-WKM6CPTczGd",
        "outputId": "dd2d6065-9bec-45c3-ae4d-3ba275bb2576"
      },
      "execution_count": 8,
      "outputs": [
        {
          "output_type": "stream",
          "name": "stdout",
          "text": [
            "very hard -> easy\n",
            "n/m->2.0\n",
            "n->200.0\n",
            "std.dev->50.574791\n",
            "k->125.0\n",
            "------------------------------------------------------------------\n",
            "n/m->2.0\n",
            "n->180.0\n",
            "std.dev->175.294418\n",
            "k->154.0\n",
            "------------------------------------------------------------------\n",
            "n/m->2.0\n",
            "n->180.0\n",
            "std.dev->50.076527\n",
            "k->112.0\n",
            "------------------------------------------------------------------\n",
            "accuracy: 81.99%\n"
          ]
        }
      ]
    },
    {
      "cell_type": "code",
      "source": [
        "print(\"some vhard->vhard\")\n",
        "cnt = 0\n",
        "cnt_correct = 0\n",
        "for i in range(len(pred_)):\n",
        "  cnt += 1\n",
        "  if(pred_[i] == true_y[i]):\n",
        "    cnt_correct += 1\n",
        "  if(pred_[i] == 3 and true_y[i] == 3):\n",
        "    if(X_test_copy.iloc[i]['n/m'] != 2):\n",
        "      continue\n",
        "    for j in range(len(names)):\n",
        "      print(names[j]+\"->\"+str(X_test_copy.iloc[i][names[j]]))\n",
        "    print(\"------------------------------------------------------------------\")"
      ],
      "metadata": {
        "id": "gpgK3SUyiDgG",
        "outputId": "1fe89ee0-37c0-4327-b1ce-dd95fdca9c8e",
        "colab": {
          "base_uri": "https://localhost:8080/"
        }
      },
      "execution_count": 14,
      "outputs": [
        {
          "output_type": "stream",
          "name": "stdout",
          "text": [
            "some vhard->vhard\n"
          ]
        }
      ]
    },
    {
      "cell_type": "code",
      "source": [
        "from sklearn.metrics import confusion_matrix, ConfusionMatrixDisplay\n",
        "#for i in range(len(pred_)):\n",
        "#  print(true_y[i])\n",
        "#print(confusion_matrix(true_y, pred_, labels=[0, 1, 2, 3]))\n",
        "cm = confusion_matrix(true_y, pred_, labels=[0, 1, 2, 3])\n",
        "cmd = ConfusionMatrixDisplay(cm, display_labels=['easy','moderate', 'hard', 'very hard'])\n",
        "#plt.subplot(1, 2, 1)\n",
        "cmd.plot()\n",
        "print(f'accuracy: {(cnt_correct/cnt)*100:.2f}%')"
      ],
      "metadata": {
        "colab": {
          "base_uri": "https://localhost:8080/",
          "height": 296
        },
        "id": "td3mlxlNxXqF",
        "outputId": "9f04255d-1a3e-4421-fb43-3d09fb6523db"
      },
      "execution_count": 10,
      "outputs": [
        {
          "output_type": "stream",
          "name": "stdout",
          "text": [
            "accuracy: 81.99%\n"
          ]
        },
        {
          "output_type": "display_data",
          "data": {
            "text/plain": [
              "<Figure size 432x288 with 2 Axes>"
            ],
            "image/png": "[encoded data removed]"
          },
          "metadata": {
            "needs_background": "light"
          }
        }
      ]
    },
    {
      "cell_type": "code",
      "source": [
        "y_new = np.array(y_new)\n",
        "plt.hist(y_new)\n",
        "#plt.title('0->[0,2000) : 1->[2000,99999]')\n",
        "plt.show()"
      ],
      "metadata": {
        "id": "a_uXCro7BbBx",
        "outputId": "aee84b92-d365-4730-d9fd-9b6371850a63",
        "colab": {
          "base_uri": "https://localhost:8080/",
          "height": 265
        }
      },
      "execution_count": 11,
      "outputs": [
        {
          "output_type": "display_data",
          "data": {
            "text/plain": [
              "<Figure size 432x288 with 1 Axes>"
            ],
            "image/png": "[encoded data removed]"
          },
          "metadata": {
            "needs_background": "light"
          }
        }
      ]
    },
    {
      "cell_type": "code",
      "source": [
        "import matplotlib.pyplot as plt \n",
        "from sklearn.preprocessing import LabelBinarizer\n",
        "from sklearn.metrics import roc_curve, auc, roc_auc_score\n",
        "\n",
        "\n",
        "target= ['easy', 'moderate', 'hard', 'very hard']\n",
        "\n",
        "fig, c_ax = plt.subplots(1,1, figsize = (12, 8))\n",
        "\n",
        "def multiclass_roc_auc_score(y_test, y_pred, average=\"macro\"):\n",
        "    lb = LabelBinarizer()\n",
        "    lb.fit(y_test)\n",
        "    y_test = lb.transform(y_test)\n",
        "    y_pred = lb.transform(y_pred)\n",
        "\n",
        "    for (idx, c_label) in enumerate(target):\n",
        "        fpr, tpr, thresholds = roc_curve(y_test[:,idx].astype(int), y_pred[:,idx])\n",
        "        c_ax.plot(fpr, tpr, label = '%s (AUC:%0.2f)'  % (c_label, auc(fpr, tpr)))\n",
        "    c_ax.plot(fpr, fpr, 'b-', label = 'Random Guessing')\n",
        "    return roc_auc_score(y_test, y_pred, average=average)\n",
        "\n",
        "\n",
        "print('ROC AUC score:', multiclass_roc_auc_score(true_y, pred_))\n",
        "\n",
        "c_ax.legend()\n",
        "c_ax.set_xlabel('False Positive Rate')\n",
        "c_ax.set_ylabel('True Positive Rate')\n",
        "plt.grid()\n",
        "plt.show()"
      ],
      "metadata": {
        "id": "ilN2NeRZ-wOR",
        "outputId": "2dfa6727-f55c-4d24-9227-87dd22748cfe",
        "colab": {
          "base_uri": "https://localhost:8080/",
          "height": 514
        }
      },
      "execution_count": 12,
      "outputs": [
        {
          "output_type": "stream",
          "name": "stdout",
          "text": [
            "ROC AUC score: 0.8742968618220905\n"
          ]
        },
        {
          "output_type": "display_data",
          "data": {
            "text/plain": [
              "<Figure size 864x576 with 1 Axes>"
            ],
            "image/png": "[encoded data removed]"
          },
          "metadata": {
            "needs_background": "light"
          }
        }
      ]
    }
  ]
}