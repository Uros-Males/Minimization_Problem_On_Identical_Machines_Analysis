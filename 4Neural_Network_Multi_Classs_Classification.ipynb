{
  "nbformat": 4,
  "nbformat_minor": 0,
  "metadata": {
    "colab": {
      "name": "Neural_Network_Classification.ipynb",
      "provenance": [],
      "authorship_tag": "ABX9TyNazV5cuLwQFo6ctcQqALsL",
      "include_colab_link": true
    },
    "kernelspec": {
      "name": "python3",
      "display_name": "Python 3"
    },
    "language_info": {
      "name": "python"
    }
  },
  "cells": [
    {
      "cell_type": "markdown",
      "metadata": {
        "id": "view-in-github",
        "colab_type": "text"
      },
      "source": [
        "<a href=\"https://colab.research.google.com/github/Uros-Males/Minimization_Problem_On_Identical_Machines_Analysis/blob/main/4Neural_Network_Multi_Classs_Classification.ipynb\" target=\"_parent\"><img src=\"https://colab.research.google.com/assets/colab-badge.svg\" alt=\"Open In Colab\"/></a>"
      ]
    },
    {
      "cell_type": "code",
      "execution_count": 1,
      "metadata": {
        "colab": {
          "base_uri": "https://localhost:8080/"
        },
        "id": "6u-X4QiVmgm4",
        "outputId": "308f7aca-f613-492c-e519-d60b5836e168"
      },
      "outputs": [
        {
          "output_type": "stream",
          "name": "stdout",
          "text": [
            "8050\n",
            "   subtype  class  indeks    n   m    n/m   (n/m)^2      (n/m)^3       m/n  \\\n",
            "0        3      4       1  180  72   2.50    6.2500    15.625000  0.400000   \n",
            "1        2      7       1   36  16   2.25    5.0625    11.390625  0.444444   \n",
            "2        4      5       5  132  48   2.75    7.5625    20.796875  0.363636   \n",
            "3       13      7       5   40   4  10.00  100.0000  1000.000000  0.100000   \n",
            "4        9      5       6   54  12   4.50   20.2500    91.125000  0.222222   \n",
            "\n",
            "    (m/n)^2   (m/n)^3   av.length    std.dev  median  range  min  max   k  \n",
            "0  0.160000  0.064000  100.099998  20.167759    99.5    126   35  161  72  \n",
            "1  0.197531  0.087791  143.972229  42.243843   144.5    155   66  221  35  \n",
            "2  0.132231  0.048084  105.484848  45.843826   101.5    261   10  271  87  \n",
            "3  0.010000  0.001000  155.750000  37.168880   156.0    140   77  217  33  \n",
            "4  0.049383  0.010974   96.000000  46.181755    92.5    173   15  188  45  \n"
          ]
        }
      ],
      "source": [
        "#IN PROGRESS....\n",
        "import pandas as pd\n",
        "import numpy as np\n",
        "import matplotlib.pyplot as plt\n",
        "from sklearn import tree\n",
        "from sklearn.model_selection import train_test_split\n",
        "from sklearn.tree import DecisionTreeRegressor\n",
        "import time\n",
        "import keras\n",
        "\n",
        "df = pd.read_csv('/content/sample_data/C-instances-runtime-analysis.csv')\n",
        "df = df[df['n/m']!=2]\n",
        "print(df.shape[0])\n",
        "#df = df.drop(['inst.name', 'type', 'CPLEXStatus'], axis = 1)\n",
        "#standard_deviations = 3\n",
        "#df = df[df.apply(lambda x: np.abs(x - x.mean()) / x.std() < standard_deviations)\n",
        "#   .all(axis=1)]\n",
        "\n",
        "#print(df.shape[0])\n",
        "\n",
        "#names = ['indeks', 'n', 'n/m', '(n/m)^2', '(n/m)^3', 'm/n', '(m/n)^2',\n",
        "   #      '(m/n)^3', 'av.length', 'std.dev', 'median', 'range', 'min', 'max', 'k']\n",
        "#for i in range(df.shape[0]):\n",
        " # if(df.iloc[i]['n/m'] == 2 and df.iloc[i]['y']==99999):\n",
        "  #  for j in range(len(names)):\n",
        "   #   print(names[j]+\"->\"+str(df.iloc[i][names[j]]))\n",
        "    #print(\"------------------------------------------------------------------\")\n",
        "\n",
        "\n",
        "shuffled = df.sample(frac=1).reset_index()\n",
        "\n",
        "columns_dont_want = ['y', 'index', 'inst.name','type', 'CPLEXStatus'] #cple\n",
        "select = [x for x in shuffled.columns if x not in columns_dont_want]\n",
        "\n",
        "X = shuffled.loc[:, select]\n",
        "\n",
        "y = shuffled.loc[:,'y']\n",
        "print(X.head())\n",
        "names = ['indeks', 'n', 'n/m', '(n/m)^2', '(n/m)^3', 'm/n', 'av.length', 'std.dev', 'median', 'range', 'min', 'max', 'k']\n",
        "#print(names[1])\n",
        "\n",
        "\n"
      ]
    },
    {
      "cell_type": "code",
      "source": [
        "y_new = []\n",
        "for val in y:\n",
        "  if(val<10):\n",
        "    y_new.append(0)\n",
        "  elif(10 <= val and val <100):\n",
        "    y_new.append(1)\n",
        "  elif(100<=val and val<1000):\n",
        "    y_new.append(2)\n",
        "  else:\n",
        "    y_new.append(3)\n",
        "\n",
        "shuffled['y_new'] = y_new\n",
        "#print(shuffled.head())\n",
        "y_encoded = shuffled.loc[:,'y_new']\n",
        "y_new = np.array(y_new)\n",
        "plt.hist(y_new)\n",
        "plt.show()\n",
        "X_modified = X\n",
        "#X_modified = X.drop(['n/m', '(n/m)^2', '(n/m)^3', 'm/n', '(m/n)^2', '(m/n)^3', 'max', 'av.length'], axis = 1)\n",
        "#print(X_modified.shape[1])"
      ],
      "metadata": {
        "id": "XkPXcbO0riCC",
        "colab": {
          "base_uri": "https://localhost:8080/",
          "height": 265
        },
        "outputId": "2a6e0a95-4c5c-4bfc-9ad7-50c0677dfd93"
      },
      "execution_count": 2,
      "outputs": [
        {
          "output_type": "display_data",
          "data": {
            "text/plain": [
              "<Figure size 432x288 with 1 Axes>"
            ],
            "image/png": "[encoded data removed]"
          },
          "metadata": {
            "needs_background": "light"
          }
        }
      ]
    },
    {
      "cell_type": "code",
      "source": [
        "from sklearn.preprocessing import LabelEncoder\n",
        "from keras.utils.np_utils import to_categorical\n",
        "\n",
        "l_encode = LabelEncoder()\n",
        "l_encode.fit(y_encoded)\n",
        "y_encoded = l_encode.transform(y_encoded)\n",
        "y_encoded = to_categorical(y_encoded)\n",
        "y_encoded"
      ],
      "metadata": {
        "colab": {
          "base_uri": "https://localhost:8080/"
        },
        "id": "W2hvUxxE2NWr",
        "outputId": "fc5a032b-33d9-4a3d-a906-b1f2e0fb0869"
      },
      "execution_count": 3,
      "outputs": [
        {
          "output_type": "execute_result",
          "data": {
            "text/plain": [
              "array([[0., 1., 0., 0.],\n",
              "       [1., 0., 0., 0.],\n",
              "       [0., 1., 0., 0.],\n",
              "       ...,\n",
              "       [0., 1., 0., 0.],\n",
              "       [0., 0., 1., 0.],\n",
              "       [1., 0., 0., 0.]], dtype=float32)"
            ]
          },
          "metadata": {},
          "execution_count": 3
        }
      ]
    },
    {
      "cell_type": "code",
      "source": [
        "from sklearn import preprocessing\n",
        "\n",
        "from sklearn.preprocessing import StandardScaler\n",
        "\n",
        "sc = StandardScaler()\n",
        "\n",
        "#X = pd.DataFrame(X, columns=names)\n",
        "#print(X.head())\n",
        "\n",
        "from sklearn.decomposition import PCA\n",
        "\n",
        "#,'PC2','PC3','PC4','PC5','PC6','PC7','PC8\n",
        "#pca = PCA(n_components=9)\n",
        "#pca.fit(X)\n",
        "#X = pca.transform(X)\n",
        "#X = pd.DataFrame(X,columns=['PC1','PC2','PC3','PC4','PC5','PC6','PC7','PC8','PC9'])\n",
        "names = ['n/m', 'n', 'std.dev', 'k']\n",
        "X_modified = X.drop([ 'median', 'range',  'max','av.length', 'min','indeks', 'class',  'subtype', '(m/n)^3', '(m/n)^2', '(n/m)^2', '(n/m)^3','m/n','m'], axis = 1)\n",
        "\n",
        "\n",
        "#from scipy import stats\n",
        "#df[(np.abs(stats.zscore(df)) < 3).all(axis=1)]\n",
        "\n",
        "X_train, X_test, y_train, y_test = train_test_split(X_modified, y_encoded, random_state=0, train_size = 0.83)\n",
        "\n",
        "X_train = sc.fit_transform(X_train)\n",
        "X_test_copy = X_test\n",
        "X_test = sc.transform(X_test)\n"
      ],
      "metadata": {
        "id": "kx4jr-6Qaxpv"
      },
      "execution_count": 4,
      "outputs": []
    },
    {
      "cell_type": "code",
      "source": [
        "from keras.models import Sequential\n",
        "from keras.layers import Dense, Dropout\n",
        "\n",
        "classifier = Sequential()\n",
        "classifier.add(Dense(8, input_dim = X_modified.shape[1], activation='relu'))\n",
        "#classifier.add(Dense(8, activation = 'relu'))\n",
        "\n",
        "classifier.add(Dense(8, activation = 'relu'))\n",
        "\n",
        "#classifier.add(Dense(32, activation = 'relu'))\n",
        "#classifier.add(Dense(32, activation = 'relu'))\n",
        "#classifier.add(Dense(16, activation = 'relu'))\n",
        "\n",
        "classifier.add(Dense(16, activation='relu'))\n",
        "\n",
        "classifier.add(Dense(8, activation='relu'))\n",
        "\n",
        "classifier.add(Dense(4, activation='relu'))\n",
        "\n",
        "classifier.add(Dense(4, activation = 'softmax'))\n",
        "classifier.compile(loss = 'categorical_crossentropy', optimizer = 'adam', metrics = ['accuracy'])\n",
        "classifier.summary()"
      ],
      "metadata": {
        "id": "jRT-grzys8_y",
        "colab": {
          "base_uri": "https://localhost:8080/"
        },
        "outputId": "6c315092-41b0-4ce1-e73c-b8d77e99a231"
      },
      "execution_count": 5,
      "outputs": [
        {
          "output_type": "stream",
          "name": "stdout",
          "text": [
            "Model: \"sequential\"\n",
            "_________________________________________________________________\n",
            " Layer (type)                Output Shape              Param #   \n",
            "=================================================================\n",
            " dense (Dense)               (None, 8)                 40        \n",
            "                                                                 \n",
            " dense_1 (Dense)             (None, 8)                 72        \n",
            "                                                                 \n",
            " dense_2 (Dense)             (None, 16)                144       \n",
            "                                                                 \n",
            " dense_3 (Dense)             (None, 8)                 136       \n",
            "                                                                 \n",
            " dense_4 (Dense)             (None, 4)                 36        \n",
            "                                                                 \n",
            " dense_5 (Dense)             (None, 4)                 20        \n",
            "                                                                 \n",
            "=================================================================\n",
            "Total params: 448\n",
            "Trainable params: 448\n",
            "Non-trainable params: 0\n",
            "_________________________________________________________________\n"
          ]
        }
      ]
    },
    {
      "cell_type": "code",
      "source": [
        "#classifier.fit(X_train, y_train, batch_size = 64, epochs = 20, verbose = 1)\n",
        "#scores = classifier.evaluate(X_test, y_test)\n",
        "#for i, m in enumerate(classifier.metrics_names):\n",
        "#    print(\"\\n%s: %.3f\"% (m, scores[i]))\n",
        "#print(X_test_copy.iloc[0]['subtype'])"
      ],
      "metadata": {
        "id": "Mm7RsTBcx2EN"
      },
      "execution_count": 6,
      "outputs": []
    },
    {
      "cell_type": "code",
      "source": [
        "from keras.metrics import accuracy\n",
        "from keras import callbacks\n",
        "earlystopping = callbacks.EarlyStopping(monitor =\"val_loss\", \n",
        "                                        mode =\"min\", patience = 15, \n",
        "                                        restore_best_weights = True)\n",
        "  \n",
        "history = classifier.fit(X_train, y_train, batch_size = 64, \n",
        "                    epochs = 600, validation_data =(X_test, y_test), \n",
        "                    callbacks =[earlystopping])\n",
        "plt.plot(history.history['val_accuracy'])\n",
        "\n"
      ],
      "metadata": {
        "colab": {
          "base_uri": "https://localhost:8080/",
          "height": 1000
        },
        "id": "Sv9aKFPW5KGr",
        "outputId": "57820ddf-a38e-4755-b26a-5c65678d01df"
      },
      "execution_count": 7,
      "outputs": [
        {
          "output_type": "stream",
          "name": "stdout",
          "text": [
            "Epoch 1/600\n",
            "105/105 [==============================] - 1s 3ms/step - loss: 1.2857 - accuracy: 0.4683 - val_loss: 1.1284 - val_accuracy: 0.6077\n",
            "Epoch 2/600\n",
            "105/105 [==============================] - 0s 1ms/step - loss: 1.0285 - accuracy: 0.6243 - val_loss: 0.9405 - val_accuracy: 0.6428\n",
            "Epoch 3/600\n",
            "105/105 [==============================] - 0s 2ms/step - loss: 0.8998 - accuracy: 0.6632 - val_loss: 0.8538 - val_accuracy: 0.6698\n",
            "Epoch 4/600\n",
            "105/105 [==============================] - 0s 2ms/step - loss: 0.8300 - accuracy: 0.6869 - val_loss: 0.7965 - val_accuracy: 0.6925\n",
            "Epoch 5/600\n",
            "105/105 [==============================] - 0s 2ms/step - loss: 0.7833 - accuracy: 0.7038 - val_loss: 0.7589 - val_accuracy: 0.6896\n",
            "Epoch 6/600\n",
            "105/105 [==============================] - 0s 1ms/step - loss: 0.7470 - accuracy: 0.7201 - val_loss: 0.7248 - val_accuracy: 0.7144\n",
            "Epoch 7/600\n",
            "105/105 [==============================] - 0s 1ms/step - loss: 0.7175 - accuracy: 0.7384 - val_loss: 0.6990 - val_accuracy: 0.7312\n",
            "Epoch 8/600\n",
            "105/105 [==============================] - 0s 1ms/step - loss: 0.6941 - accuracy: 0.7426 - val_loss: 0.6770 - val_accuracy: 0.7414\n",
            "Epoch 9/600\n",
            "105/105 [==============================] - 0s 1ms/step - loss: 0.6747 - accuracy: 0.7515 - val_loss: 0.6603 - val_accuracy: 0.7458\n",
            "Epoch 10/600\n",
            "105/105 [==============================] - 0s 1ms/step - loss: 0.6571 - accuracy: 0.7596 - val_loss: 0.6480 - val_accuracy: 0.7465\n",
            "Epoch 11/600\n",
            "105/105 [==============================] - 0s 1ms/step - loss: 0.6421 - accuracy: 0.7626 - val_loss: 0.6310 - val_accuracy: 0.7597\n",
            "Epoch 12/600\n",
            "105/105 [==============================] - 0s 1ms/step - loss: 0.6286 - accuracy: 0.7644 - val_loss: 0.6176 - val_accuracy: 0.7641\n",
            "Epoch 13/600\n",
            "105/105 [==============================] - 0s 1ms/step - loss: 0.6166 - accuracy: 0.7670 - val_loss: 0.6103 - val_accuracy: 0.7560\n",
            "Epoch 14/600\n",
            "105/105 [==============================] - 0s 3ms/step - loss: 0.6076 - accuracy: 0.7680 - val_loss: 0.5964 - val_accuracy: 0.7633\n",
            "Epoch 15/600\n",
            "105/105 [==============================] - 0s 2ms/step - loss: 0.5976 - accuracy: 0.7705 - val_loss: 0.5849 - val_accuracy: 0.7787\n",
            "Epoch 16/600\n",
            "105/105 [==============================] - 0s 2ms/step - loss: 0.5883 - accuracy: 0.7705 - val_loss: 0.5781 - val_accuracy: 0.7750\n",
            "Epoch 17/600\n",
            "105/105 [==============================] - 0s 3ms/step - loss: 0.5804 - accuracy: 0.7726 - val_loss: 0.5694 - val_accuracy: 0.7714\n",
            "Epoch 18/600\n",
            "105/105 [==============================] - 0s 3ms/step - loss: 0.5734 - accuracy: 0.7743 - val_loss: 0.5665 - val_accuracy: 0.7626\n",
            "Epoch 19/600\n",
            "105/105 [==============================] - 0s 2ms/step - loss: 0.5670 - accuracy: 0.7755 - val_loss: 0.5592 - val_accuracy: 0.7692\n",
            "Epoch 20/600\n",
            "105/105 [==============================] - 0s 2ms/step - loss: 0.5604 - accuracy: 0.7800 - val_loss: 0.5552 - val_accuracy: 0.7772\n",
            "Epoch 21/600\n",
            "105/105 [==============================] - 0s 3ms/step - loss: 0.5556 - accuracy: 0.7771 - val_loss: 0.5492 - val_accuracy: 0.7779\n",
            "Epoch 22/600\n",
            "105/105 [==============================] - 0s 4ms/step - loss: 0.5508 - accuracy: 0.7797 - val_loss: 0.5515 - val_accuracy: 0.7641\n",
            "Epoch 23/600\n",
            "105/105 [==============================] - 0s 3ms/step - loss: 0.5482 - accuracy: 0.7779 - val_loss: 0.5461 - val_accuracy: 0.7925\n",
            "Epoch 24/600\n",
            "105/105 [==============================] - 0s 4ms/step - loss: 0.5437 - accuracy: 0.7794 - val_loss: 0.5401 - val_accuracy: 0.7655\n",
            "Epoch 25/600\n",
            "105/105 [==============================] - 0s 3ms/step - loss: 0.5407 - accuracy: 0.7818 - val_loss: 0.5380 - val_accuracy: 0.7684\n",
            "Epoch 26/600\n",
            "105/105 [==============================] - 0s 3ms/step - loss: 0.5367 - accuracy: 0.7804 - val_loss: 0.5307 - val_accuracy: 0.7787\n",
            "Epoch 27/600\n",
            "105/105 [==============================] - 0s 2ms/step - loss: 0.5337 - accuracy: 0.7831 - val_loss: 0.5264 - val_accuracy: 0.7831\n",
            "Epoch 28/600\n",
            "105/105 [==============================] - 0s 3ms/step - loss: 0.5305 - accuracy: 0.7836 - val_loss: 0.5287 - val_accuracy: 0.7736\n",
            "Epoch 29/600\n",
            "105/105 [==============================] - 0s 3ms/step - loss: 0.5301 - accuracy: 0.7827 - val_loss: 0.5194 - val_accuracy: 0.7896\n",
            "Epoch 30/600\n",
            "105/105 [==============================] - 0s 3ms/step - loss: 0.5268 - accuracy: 0.7842 - val_loss: 0.5230 - val_accuracy: 0.7765\n",
            "Epoch 31/600\n",
            "105/105 [==============================] - 0s 3ms/step - loss: 0.5246 - accuracy: 0.7855 - val_loss: 0.5202 - val_accuracy: 0.7823\n",
            "Epoch 32/600\n",
            "105/105 [==============================] - 0s 3ms/step - loss: 0.5221 - accuracy: 0.7824 - val_loss: 0.5164 - val_accuracy: 0.7904\n",
            "Epoch 33/600\n",
            "105/105 [==============================] - 0s 3ms/step - loss: 0.5213 - accuracy: 0.7828 - val_loss: 0.5128 - val_accuracy: 0.7874\n",
            "Epoch 34/600\n",
            "105/105 [==============================] - 0s 3ms/step - loss: 0.5189 - accuracy: 0.7837 - val_loss: 0.5114 - val_accuracy: 0.7845\n",
            "Epoch 35/600\n",
            "105/105 [==============================] - 0s 3ms/step - loss: 0.5177 - accuracy: 0.7869 - val_loss: 0.5125 - val_accuracy: 0.7860\n",
            "Epoch 36/600\n",
            "105/105 [==============================] - 0s 3ms/step - loss: 0.5160 - accuracy: 0.7879 - val_loss: 0.5151 - val_accuracy: 0.7809\n",
            "Epoch 37/600\n",
            "105/105 [==============================] - 0s 3ms/step - loss: 0.5153 - accuracy: 0.7867 - val_loss: 0.5225 - val_accuracy: 0.7743\n",
            "Epoch 38/600\n",
            "105/105 [==============================] - 0s 3ms/step - loss: 0.5152 - accuracy: 0.7857 - val_loss: 0.5149 - val_accuracy: 0.7794\n",
            "Epoch 39/600\n",
            "105/105 [==============================] - 0s 3ms/step - loss: 0.5148 - accuracy: 0.7858 - val_loss: 0.5113 - val_accuracy: 0.7845\n",
            "Epoch 40/600\n",
            "105/105 [==============================] - 0s 3ms/step - loss: 0.5117 - accuracy: 0.7870 - val_loss: 0.5121 - val_accuracy: 0.7809\n",
            "Epoch 41/600\n",
            "105/105 [==============================] - 0s 4ms/step - loss: 0.5109 - accuracy: 0.7848 - val_loss: 0.5042 - val_accuracy: 0.7838\n",
            "Epoch 42/600\n",
            "105/105 [==============================] - 0s 3ms/step - loss: 0.5094 - accuracy: 0.7881 - val_loss: 0.5086 - val_accuracy: 0.7925\n",
            "Epoch 43/600\n",
            "105/105 [==============================] - 0s 3ms/step - loss: 0.5078 - accuracy: 0.7903 - val_loss: 0.5037 - val_accuracy: 0.7838\n",
            "Epoch 44/600\n",
            "105/105 [==============================] - 0s 3ms/step - loss: 0.5065 - accuracy: 0.7916 - val_loss: 0.5027 - val_accuracy: 0.7904\n",
            "Epoch 45/600\n",
            "105/105 [==============================] - 0s 3ms/step - loss: 0.5070 - accuracy: 0.7899 - val_loss: 0.4996 - val_accuracy: 0.7889\n",
            "Epoch 46/600\n",
            "105/105 [==============================] - 0s 3ms/step - loss: 0.5053 - accuracy: 0.7905 - val_loss: 0.5038 - val_accuracy: 0.7867\n",
            "Epoch 47/600\n",
            "105/105 [==============================] - 0s 4ms/step - loss: 0.5055 - accuracy: 0.7884 - val_loss: 0.4997 - val_accuracy: 0.7831\n",
            "Epoch 48/600\n",
            "105/105 [==============================] - 0s 3ms/step - loss: 0.5032 - accuracy: 0.7894 - val_loss: 0.5005 - val_accuracy: 0.7933\n",
            "Epoch 49/600\n",
            "105/105 [==============================] - 0s 3ms/step - loss: 0.5049 - accuracy: 0.7888 - val_loss: 0.5033 - val_accuracy: 0.7750\n",
            "Epoch 50/600\n",
            "105/105 [==============================] - 0s 3ms/step - loss: 0.5021 - accuracy: 0.7888 - val_loss: 0.4989 - val_accuracy: 0.7874\n",
            "Epoch 51/600\n",
            "105/105 [==============================] - 0s 3ms/step - loss: 0.5032 - accuracy: 0.7893 - val_loss: 0.4941 - val_accuracy: 0.7882\n",
            "Epoch 52/600\n",
            "105/105 [==============================] - 0s 3ms/step - loss: 0.5002 - accuracy: 0.7933 - val_loss: 0.4982 - val_accuracy: 0.7831\n",
            "Epoch 53/600\n",
            "105/105 [==============================] - 0s 4ms/step - loss: 0.5015 - accuracy: 0.7884 - val_loss: 0.4946 - val_accuracy: 0.7867\n",
            "Epoch 54/600\n",
            "105/105 [==============================] - 0s 3ms/step - loss: 0.5022 - accuracy: 0.7921 - val_loss: 0.4958 - val_accuracy: 0.7816\n",
            "Epoch 55/600\n",
            "105/105 [==============================] - 0s 3ms/step - loss: 0.5006 - accuracy: 0.7912 - val_loss: 0.4966 - val_accuracy: 0.7867\n",
            "Epoch 56/600\n",
            "105/105 [==============================] - 0s 2ms/step - loss: 0.5007 - accuracy: 0.7916 - val_loss: 0.4964 - val_accuracy: 0.7874\n",
            "Epoch 57/600\n",
            "105/105 [==============================] - 0s 3ms/step - loss: 0.5019 - accuracy: 0.7876 - val_loss: 0.5018 - val_accuracy: 0.7765\n",
            "Epoch 58/600\n",
            "105/105 [==============================] - 0s 2ms/step - loss: 0.4982 - accuracy: 0.7899 - val_loss: 0.4941 - val_accuracy: 0.7845\n",
            "Epoch 59/600\n",
            "105/105 [==============================] - 0s 2ms/step - loss: 0.4978 - accuracy: 0.7903 - val_loss: 0.4938 - val_accuracy: 0.7882\n",
            "Epoch 60/600\n",
            "105/105 [==============================] - 0s 2ms/step - loss: 0.4967 - accuracy: 0.7907 - val_loss: 0.5009 - val_accuracy: 0.7772\n",
            "Epoch 61/600\n",
            "105/105 [==============================] - 0s 2ms/step - loss: 0.4965 - accuracy: 0.7882 - val_loss: 0.4959 - val_accuracy: 0.7933\n",
            "Epoch 62/600\n",
            "105/105 [==============================] - 1s 5ms/step - loss: 0.4950 - accuracy: 0.7927 - val_loss: 0.4951 - val_accuracy: 0.7838\n",
            "Epoch 63/600\n",
            "105/105 [==============================] - 1s 6ms/step - loss: 0.4934 - accuracy: 0.7919 - val_loss: 0.4957 - val_accuracy: 0.7801\n",
            "Epoch 64/600\n",
            "105/105 [==============================] - 0s 3ms/step - loss: 0.4934 - accuracy: 0.7909 - val_loss: 0.4927 - val_accuracy: 0.7852\n",
            "Epoch 65/600\n",
            "105/105 [==============================] - 0s 2ms/step - loss: 0.4920 - accuracy: 0.7931 - val_loss: 0.4918 - val_accuracy: 0.7911\n",
            "Epoch 66/600\n",
            "105/105 [==============================] - 0s 1ms/step - loss: 0.4913 - accuracy: 0.7955 - val_loss: 0.4909 - val_accuracy: 0.7860\n",
            "Epoch 67/600\n",
            "105/105 [==============================] - 0s 2ms/step - loss: 0.4917 - accuracy: 0.7927 - val_loss: 0.4878 - val_accuracy: 0.7882\n",
            "Epoch 68/600\n",
            "105/105 [==============================] - 0s 1ms/step - loss: 0.4914 - accuracy: 0.7933 - val_loss: 0.4895 - val_accuracy: 0.7845\n",
            "Epoch 69/600\n",
            "105/105 [==============================] - 0s 1ms/step - loss: 0.4892 - accuracy: 0.7943 - val_loss: 0.4896 - val_accuracy: 0.7904\n",
            "Epoch 70/600\n",
            "105/105 [==============================] - 0s 1ms/step - loss: 0.4889 - accuracy: 0.7957 - val_loss: 0.4866 - val_accuracy: 0.7896\n",
            "Epoch 71/600\n",
            "105/105 [==============================] - 0s 1ms/step - loss: 0.4887 - accuracy: 0.7946 - val_loss: 0.4859 - val_accuracy: 0.7904\n",
            "Epoch 72/600\n",
            "105/105 [==============================] - 0s 1ms/step - loss: 0.4877 - accuracy: 0.7946 - val_loss: 0.5118 - val_accuracy: 0.7706\n",
            "Epoch 73/600\n",
            "105/105 [==============================] - 0s 1ms/step - loss: 0.4863 - accuracy: 0.7940 - val_loss: 0.4888 - val_accuracy: 0.7896\n",
            "Epoch 74/600\n",
            "105/105 [==============================] - 0s 1ms/step - loss: 0.4878 - accuracy: 0.7927 - val_loss: 0.4902 - val_accuracy: 0.7838\n",
            "Epoch 75/600\n",
            "105/105 [==============================] - 0s 2ms/step - loss: 0.4895 - accuracy: 0.7933 - val_loss: 0.4883 - val_accuracy: 0.7911\n",
            "Epoch 76/600\n",
            "105/105 [==============================] - 0s 2ms/step - loss: 0.4854 - accuracy: 0.7952 - val_loss: 0.4911 - val_accuracy: 0.7816\n",
            "Epoch 77/600\n",
            "105/105 [==============================] - 0s 2ms/step - loss: 0.4840 - accuracy: 0.7955 - val_loss: 0.4807 - val_accuracy: 0.7889\n",
            "Epoch 78/600\n",
            "105/105 [==============================] - 0s 1ms/step - loss: 0.4842 - accuracy: 0.7949 - val_loss: 0.4891 - val_accuracy: 0.7838\n",
            "Epoch 79/600\n",
            "105/105 [==============================] - 0s 1ms/step - loss: 0.4850 - accuracy: 0.7899 - val_loss: 0.4871 - val_accuracy: 0.7889\n",
            "Epoch 80/600\n",
            "105/105 [==============================] - 0s 1ms/step - loss: 0.4818 - accuracy: 0.7951 - val_loss: 0.4858 - val_accuracy: 0.7845\n",
            "Epoch 81/600\n",
            "105/105 [==============================] - 0s 1ms/step - loss: 0.4824 - accuracy: 0.7961 - val_loss: 0.4791 - val_accuracy: 0.7940\n",
            "Epoch 82/600\n",
            "105/105 [==============================] - 0s 1ms/step - loss: 0.4825 - accuracy: 0.7948 - val_loss: 0.4805 - val_accuracy: 0.7896\n",
            "Epoch 83/600\n",
            "105/105 [==============================] - 0s 1ms/step - loss: 0.4803 - accuracy: 0.7945 - val_loss: 0.4775 - val_accuracy: 0.8020\n",
            "Epoch 84/600\n",
            "105/105 [==============================] - 0s 1ms/step - loss: 0.4803 - accuracy: 0.7949 - val_loss: 0.4844 - val_accuracy: 0.7896\n",
            "Epoch 85/600\n",
            "105/105 [==============================] - 0s 1ms/step - loss: 0.4802 - accuracy: 0.7957 - val_loss: 0.4773 - val_accuracy: 0.7947\n",
            "Epoch 86/600\n",
            "105/105 [==============================] - 0s 1ms/step - loss: 0.4806 - accuracy: 0.7954 - val_loss: 0.4748 - val_accuracy: 0.8006\n",
            "Epoch 87/600\n",
            "105/105 [==============================] - 0s 1ms/step - loss: 0.4772 - accuracy: 0.7963 - val_loss: 0.4801 - val_accuracy: 0.7918\n",
            "Epoch 88/600\n",
            "105/105 [==============================] - 0s 1ms/step - loss: 0.4793 - accuracy: 0.7975 - val_loss: 0.4803 - val_accuracy: 0.7933\n",
            "Epoch 89/600\n",
            "105/105 [==============================] - 0s 1ms/step - loss: 0.4783 - accuracy: 0.7969 - val_loss: 0.4757 - val_accuracy: 0.7969\n",
            "Epoch 90/600\n",
            "105/105 [==============================] - 0s 2ms/step - loss: 0.4772 - accuracy: 0.7985 - val_loss: 0.4766 - val_accuracy: 0.7845\n",
            "Epoch 91/600\n",
            "105/105 [==============================] - 0s 2ms/step - loss: 0.4766 - accuracy: 0.7958 - val_loss: 0.4761 - val_accuracy: 0.7845\n",
            "Epoch 92/600\n",
            "105/105 [==============================] - 0s 2ms/step - loss: 0.4753 - accuracy: 0.7958 - val_loss: 0.4756 - val_accuracy: 0.7882\n",
            "Epoch 93/600\n",
            "105/105 [==============================] - 0s 1ms/step - loss: 0.4739 - accuracy: 0.7981 - val_loss: 0.4769 - val_accuracy: 0.7845\n",
            "Epoch 94/600\n",
            "105/105 [==============================] - 0s 1ms/step - loss: 0.4755 - accuracy: 0.7981 - val_loss: 0.4736 - val_accuracy: 0.7925\n",
            "Epoch 95/600\n",
            "105/105 [==============================] - 0s 2ms/step - loss: 0.4724 - accuracy: 0.7978 - val_loss: 0.4861 - val_accuracy: 0.7852\n",
            "Epoch 96/600\n",
            "105/105 [==============================] - 0s 2ms/step - loss: 0.4731 - accuracy: 0.8000 - val_loss: 0.4735 - val_accuracy: 0.7947\n",
            "Epoch 97/600\n",
            "105/105 [==============================] - 0s 1ms/step - loss: 0.4745 - accuracy: 0.7952 - val_loss: 0.4743 - val_accuracy: 0.7911\n",
            "Epoch 98/600\n",
            "105/105 [==============================] - 0s 1ms/step - loss: 0.4726 - accuracy: 0.8000 - val_loss: 0.4754 - val_accuracy: 0.7933\n",
            "Epoch 99/600\n",
            "105/105 [==============================] - 0s 1ms/step - loss: 0.4743 - accuracy: 0.7967 - val_loss: 0.4720 - val_accuracy: 0.7955\n",
            "Epoch 100/600\n",
            "105/105 [==============================] - 0s 1ms/step - loss: 0.4718 - accuracy: 0.7961 - val_loss: 0.4750 - val_accuracy: 0.7918\n",
            "Epoch 101/600\n",
            "105/105 [==============================] - 0s 2ms/step - loss: 0.4702 - accuracy: 0.7975 - val_loss: 0.4685 - val_accuracy: 0.7977\n",
            "Epoch 102/600\n",
            "105/105 [==============================] - 0s 1ms/step - loss: 0.4698 - accuracy: 0.8014 - val_loss: 0.4682 - val_accuracy: 0.7991\n",
            "Epoch 103/600\n",
            "105/105 [==============================] - 0s 1ms/step - loss: 0.4694 - accuracy: 0.8003 - val_loss: 0.4700 - val_accuracy: 0.7977\n",
            "Epoch 104/600\n",
            "105/105 [==============================] - 0s 1ms/step - loss: 0.4707 - accuracy: 0.7984 - val_loss: 0.4682 - val_accuracy: 0.8013\n",
            "Epoch 105/600\n",
            "105/105 [==============================] - 0s 1ms/step - loss: 0.4690 - accuracy: 0.7999 - val_loss: 0.4676 - val_accuracy: 0.7977\n",
            "Epoch 106/600\n",
            "105/105 [==============================] - 0s 2ms/step - loss: 0.4672 - accuracy: 0.8015 - val_loss: 0.4676 - val_accuracy: 0.8020\n",
            "Epoch 107/600\n",
            "105/105 [==============================] - 0s 2ms/step - loss: 0.4679 - accuracy: 0.8021 - val_loss: 0.4776 - val_accuracy: 0.7933\n",
            "Epoch 108/600\n",
            "105/105 [==============================] - 0s 1ms/step - loss: 0.4684 - accuracy: 0.7996 - val_loss: 0.4674 - val_accuracy: 0.8020\n",
            "Epoch 109/600\n",
            "105/105 [==============================] - 0s 1ms/step - loss: 0.4660 - accuracy: 0.8002 - val_loss: 0.4678 - val_accuracy: 0.7969\n",
            "Epoch 110/600\n",
            "105/105 [==============================] - 0s 1ms/step - loss: 0.4658 - accuracy: 0.8002 - val_loss: 0.4726 - val_accuracy: 0.7911\n",
            "Epoch 111/600\n",
            "105/105 [==============================] - 0s 2ms/step - loss: 0.4665 - accuracy: 0.8009 - val_loss: 0.4680 - val_accuracy: 0.7984\n",
            "Epoch 112/600\n",
            "105/105 [==============================] - 0s 1ms/step - loss: 0.4652 - accuracy: 0.8024 - val_loss: 0.4678 - val_accuracy: 0.7947\n",
            "Epoch 113/600\n",
            "105/105 [==============================] - 0s 2ms/step - loss: 0.4648 - accuracy: 0.8032 - val_loss: 0.4653 - val_accuracy: 0.7991\n",
            "Epoch 114/600\n",
            "105/105 [==============================] - 0s 1ms/step - loss: 0.4642 - accuracy: 0.8008 - val_loss: 0.4732 - val_accuracy: 0.7940\n",
            "Epoch 115/600\n",
            "105/105 [==============================] - 0s 2ms/step - loss: 0.4645 - accuracy: 0.8006 - val_loss: 0.4701 - val_accuracy: 0.7977\n",
            "Epoch 116/600\n",
            "105/105 [==============================] - 0s 2ms/step - loss: 0.4638 - accuracy: 0.8018 - val_loss: 0.4654 - val_accuracy: 0.7955\n",
            "Epoch 117/600\n",
            "105/105 [==============================] - 0s 2ms/step - loss: 0.4632 - accuracy: 0.8029 - val_loss: 0.4698 - val_accuracy: 0.7940\n",
            "Epoch 118/600\n",
            "105/105 [==============================] - 0s 2ms/step - loss: 0.4622 - accuracy: 0.8042 - val_loss: 0.4643 - val_accuracy: 0.7999\n",
            "Epoch 119/600\n",
            "105/105 [==============================] - 0s 1ms/step - loss: 0.4617 - accuracy: 0.8041 - val_loss: 0.4661 - val_accuracy: 0.7999\n",
            "Epoch 120/600\n",
            "105/105 [==============================] - 0s 1ms/step - loss: 0.4630 - accuracy: 0.8032 - val_loss: 0.4676 - val_accuracy: 0.7940\n",
            "Epoch 121/600\n",
            "105/105 [==============================] - 0s 2ms/step - loss: 0.4621 - accuracy: 0.8045 - val_loss: 0.4621 - val_accuracy: 0.7984\n",
            "Epoch 122/600\n",
            "105/105 [==============================] - 0s 2ms/step - loss: 0.4624 - accuracy: 0.8045 - val_loss: 0.4618 - val_accuracy: 0.8028\n",
            "Epoch 123/600\n",
            "105/105 [==============================] - 0s 2ms/step - loss: 0.4597 - accuracy: 0.8050 - val_loss: 0.4647 - val_accuracy: 0.7977\n",
            "Epoch 124/600\n",
            "105/105 [==============================] - 0s 1ms/step - loss: 0.4606 - accuracy: 0.8063 - val_loss: 0.4640 - val_accuracy: 0.7955\n",
            "Epoch 125/600\n",
            "105/105 [==============================] - 0s 1ms/step - loss: 0.4595 - accuracy: 0.8026 - val_loss: 0.4622 - val_accuracy: 0.7991\n",
            "Epoch 126/600\n",
            "105/105 [==============================] - 0s 2ms/step - loss: 0.4611 - accuracy: 0.8059 - val_loss: 0.4603 - val_accuracy: 0.7969\n",
            "Epoch 127/600\n",
            "105/105 [==============================] - 0s 1ms/step - loss: 0.4591 - accuracy: 0.8062 - val_loss: 0.4663 - val_accuracy: 0.7911\n",
            "Epoch 128/600\n",
            "105/105 [==============================] - 0s 1ms/step - loss: 0.4593 - accuracy: 0.8035 - val_loss: 0.4615 - val_accuracy: 0.7984\n",
            "Epoch 129/600\n",
            "105/105 [==============================] - 0s 2ms/step - loss: 0.4597 - accuracy: 0.8045 - val_loss: 0.4684 - val_accuracy: 0.7911\n",
            "Epoch 130/600\n",
            "105/105 [==============================] - 0s 1ms/step - loss: 0.4587 - accuracy: 0.8068 - val_loss: 0.4683 - val_accuracy: 0.7918\n",
            "Epoch 131/600\n",
            "105/105 [==============================] - 0s 2ms/step - loss: 0.4579 - accuracy: 0.8050 - val_loss: 0.4609 - val_accuracy: 0.8006\n",
            "Epoch 132/600\n",
            "105/105 [==============================] - 0s 2ms/step - loss: 0.4604 - accuracy: 0.8050 - val_loss: 0.4657 - val_accuracy: 0.7947\n",
            "Epoch 133/600\n",
            "105/105 [==============================] - 0s 1ms/step - loss: 0.4595 - accuracy: 0.8033 - val_loss: 0.4633 - val_accuracy: 0.7984\n",
            "Epoch 134/600\n",
            "105/105 [==============================] - 0s 1ms/step - loss: 0.4582 - accuracy: 0.8053 - val_loss: 0.4581 - val_accuracy: 0.8028\n",
            "Epoch 135/600\n",
            "105/105 [==============================] - 0s 1ms/step - loss: 0.4581 - accuracy: 0.8051 - val_loss: 0.4613 - val_accuracy: 0.7955\n",
            "Epoch 136/600\n",
            "105/105 [==============================] - 0s 1ms/step - loss: 0.4580 - accuracy: 0.8041 - val_loss: 0.4599 - val_accuracy: 0.7969\n",
            "Epoch 137/600\n",
            "105/105 [==============================] - 0s 1ms/step - loss: 0.4571 - accuracy: 0.8063 - val_loss: 0.4647 - val_accuracy: 0.7925\n",
            "Epoch 138/600\n",
            "105/105 [==============================] - 0s 1ms/step - loss: 0.4569 - accuracy: 0.8077 - val_loss: 0.4603 - val_accuracy: 0.7999\n",
            "Epoch 139/600\n",
            "105/105 [==============================] - 0s 2ms/step - loss: 0.4587 - accuracy: 0.8071 - val_loss: 0.4607 - val_accuracy: 0.7911\n",
            "Epoch 140/600\n",
            "105/105 [==============================] - 0s 2ms/step - loss: 0.4559 - accuracy: 0.8057 - val_loss: 0.4571 - val_accuracy: 0.7991\n",
            "Epoch 141/600\n",
            "105/105 [==============================] - 0s 2ms/step - loss: 0.4568 - accuracy: 0.8072 - val_loss: 0.4608 - val_accuracy: 0.7947\n",
            "Epoch 142/600\n",
            "105/105 [==============================] - 0s 2ms/step - loss: 0.4560 - accuracy: 0.8069 - val_loss: 0.4592 - val_accuracy: 0.7955\n",
            "Epoch 143/600\n",
            "105/105 [==============================] - 0s 2ms/step - loss: 0.4577 - accuracy: 0.8044 - val_loss: 0.4615 - val_accuracy: 0.7977\n",
            "Epoch 144/600\n",
            "105/105 [==============================] - 0s 2ms/step - loss: 0.4548 - accuracy: 0.8051 - val_loss: 0.4651 - val_accuracy: 0.7940\n",
            "Epoch 145/600\n",
            "105/105 [==============================] - 0s 1ms/step - loss: 0.4551 - accuracy: 0.8071 - val_loss: 0.4599 - val_accuracy: 0.7955\n",
            "Epoch 146/600\n",
            "105/105 [==============================] - 0s 1ms/step - loss: 0.4561 - accuracy: 0.8050 - val_loss: 0.4574 - val_accuracy: 0.7991\n",
            "Epoch 147/600\n",
            "105/105 [==============================] - 0s 1ms/step - loss: 0.4559 - accuracy: 0.8071 - val_loss: 0.4558 - val_accuracy: 0.8079\n",
            "Epoch 148/600\n",
            "105/105 [==============================] - 0s 1ms/step - loss: 0.4553 - accuracy: 0.8078 - val_loss: 0.4522 - val_accuracy: 0.8035\n",
            "Epoch 149/600\n",
            "105/105 [==============================] - 0s 1ms/step - loss: 0.4562 - accuracy: 0.8060 - val_loss: 0.4591 - val_accuracy: 0.7984\n",
            "Epoch 150/600\n",
            "105/105 [==============================] - 0s 1ms/step - loss: 0.4529 - accuracy: 0.8062 - val_loss: 0.4535 - val_accuracy: 0.8028\n",
            "Epoch 151/600\n",
            "105/105 [==============================] - 0s 2ms/step - loss: 0.4541 - accuracy: 0.8071 - val_loss: 0.4614 - val_accuracy: 0.7969\n",
            "Epoch 152/600\n",
            "105/105 [==============================] - 0s 2ms/step - loss: 0.4559 - accuracy: 0.8050 - val_loss: 0.4543 - val_accuracy: 0.8006\n",
            "Epoch 153/600\n",
            "105/105 [==============================] - 0s 2ms/step - loss: 0.4538 - accuracy: 0.8093 - val_loss: 0.4678 - val_accuracy: 0.7904\n",
            "Epoch 154/600\n",
            "105/105 [==============================] - 0s 2ms/step - loss: 0.4525 - accuracy: 0.8093 - val_loss: 0.4537 - val_accuracy: 0.8028\n",
            "Epoch 155/600\n",
            "105/105 [==============================] - 0s 1ms/step - loss: 0.4533 - accuracy: 0.8078 - val_loss: 0.4558 - val_accuracy: 0.7991\n",
            "Epoch 156/600\n",
            "105/105 [==============================] - 0s 2ms/step - loss: 0.4530 - accuracy: 0.8048 - val_loss: 0.4558 - val_accuracy: 0.8006\n",
            "Epoch 157/600\n",
            "105/105 [==============================] - 0s 1ms/step - loss: 0.4527 - accuracy: 0.8071 - val_loss: 0.4570 - val_accuracy: 0.8006\n",
            "Epoch 158/600\n",
            "105/105 [==============================] - 0s 1ms/step - loss: 0.4528 - accuracy: 0.8111 - val_loss: 0.4561 - val_accuracy: 0.8013\n",
            "Epoch 159/600\n",
            "105/105 [==============================] - 0s 1ms/step - loss: 0.4535 - accuracy: 0.8065 - val_loss: 0.4573 - val_accuracy: 0.7984\n",
            "Epoch 160/600\n",
            "105/105 [==============================] - 0s 1ms/step - loss: 0.4520 - accuracy: 0.8101 - val_loss: 0.4638 - val_accuracy: 0.7977\n",
            "Epoch 161/600\n",
            "105/105 [==============================] - 0s 1ms/step - loss: 0.4522 - accuracy: 0.8075 - val_loss: 0.4590 - val_accuracy: 0.7991\n",
            "Epoch 162/600\n",
            "105/105 [==============================] - 0s 1ms/step - loss: 0.4526 - accuracy: 0.8077 - val_loss: 0.4621 - val_accuracy: 0.7838\n",
            "Epoch 163/600\n",
            "105/105 [==============================] - 0s 1ms/step - loss: 0.4517 - accuracy: 0.8101 - val_loss: 0.4579 - val_accuracy: 0.7977\n"
          ]
        },
        {
          "output_type": "execute_result",
          "data": {
            "text/plain": [
              "[<matplotlib.lines.Line2D at 0x7f6e322d8150>]"
            ]
          },
          "metadata": {},
          "execution_count": 7
        },
        {
          "output_type": "display_data",
          "data": {
            "text/plain": [
              "<Figure size 432x288 with 1 Axes>"
            ],
            "image/png": "[encoded data removed]"
          },
          "metadata": {
            "needs_background": "light"
          }
        }
      ]
    },
    {
      "cell_type": "code",
      "source": [
        "from keras.metrics import accuracy\n",
        "#test_size = X_test.shape[0]\n",
        "pred = classifier.predict(X_test)\n",
        "#print(pred)\n",
        "pred_ = np.argmax(pred, axis = 1)\n",
        "#print(pred_)\n",
        "pred_ = l_encode.inverse_transform(pred_)\n",
        "\n",
        "true_y = l_encode.inverse_transform(np.argmax(to_categorical(y_test), axis = 1)[:,1])\n",
        "\n",
        "\n",
        "#for i,j in zip(pred_, true_y):\n",
        "#    print(\"Predicted: {}, True: {}\".format(i, j))\n",
        "\n",
        "cnt = 0\n",
        "cnt_correct = 0\n",
        "\n",
        "print(\"very hard -> easy\")\n",
        "for i in range(len(pred_)):\n",
        "  cnt += 1\n",
        "  if(pred_[i] == true_y[i]):\n",
        "    cnt_correct += 1\n",
        "  if(pred_[i] == 0 and true_y[i] == 3):\n",
        "    for j in range(len(names)):\n",
        "      print(names[j]+\"->\"+str(X_test_copy.iloc[i][names[j]]))\n",
        "    print(\"------------------------------------------------------------------\")\n",
        "  \n",
        "print(f'accuracy: {(cnt_correct/cnt)*100:.2f}%')"
      ],
      "metadata": {
        "colab": {
          "base_uri": "https://localhost:8080/"
        },
        "id": "-WKM6CPTczGd",
        "outputId": "ddf50162-b92f-48d5-ecf8-221a574d4819"
      },
      "execution_count": 8,
      "outputs": [
        {
          "output_type": "stream",
          "name": "stdout",
          "text": [
            "very hard -> easy\n",
            "accuracy: 80.35%\n"
          ]
        }
      ]
    },
    {
      "cell_type": "code",
      "source": [
        "print(\"some vhard->vhard\")\n",
        "cnt = 0\n",
        "cnt_correct = 0\n",
        "for i in range(len(pred_)):\n",
        "  cnt += 1\n",
        "  if(pred_[i] == true_y[i]):\n",
        "    cnt_correct += 1\n",
        "  if(pred_[i] == 3 and true_y[i] == 3):\n",
        "    if(X_test_copy.iloc[i]['n/m'] != 2):\n",
        "      continue\n",
        "    for j in range(len(names)):\n",
        "      print(names[j]+\"->\"+str(X_test_copy.iloc[i][names[j]]))\n",
        "    print(\"------------------------------------------------------------------\")"
      ],
      "metadata": {
        "id": "gpgK3SUyiDgG",
        "outputId": "13f8da31-fe72-47de-c5ef-751ab6daacfa",
        "colab": {
          "base_uri": "https://localhost:8080/"
        }
      },
      "execution_count": 9,
      "outputs": [
        {
          "output_type": "stream",
          "name": "stdout",
          "text": [
            "some vhard->vhard\n"
          ]
        }
      ]
    },
    {
      "cell_type": "code",
      "source": [
        "from sklearn.metrics import confusion_matrix, ConfusionMatrixDisplay\n",
        "#for i in range(len(pred_)):\n",
        "#  print(true_y[i])\n",
        "#print(confusion_matrix(true_y, pred_, labels=[0, 1, 2, 3]))\n",
        "cm = confusion_matrix(true_y, pred_, labels=[0, 1, 2, 3])\n",
        "cmd = ConfusionMatrixDisplay(cm, display_labels=['easy','moderate', 'hard', 'very hard'])\n",
        "#plt.subplot(1, 2, 1)\n",
        "cmd.plot()\n",
        "print(f'accuracy: {(cnt_correct/cnt)*100:.2f}%')"
      ],
      "metadata": {
        "colab": {
          "base_uri": "https://localhost:8080/",
          "height": 296
        },
        "id": "td3mlxlNxXqF",
        "outputId": "a640595c-8c9c-4b2f-b323-336c19e8d2c1"
      },
      "execution_count": 10,
      "outputs": [
        {
          "output_type": "stream",
          "name": "stdout",
          "text": [
            "accuracy: 80.35%\n"
          ]
        },
        {
          "output_type": "display_data",
          "data": {
            "text/plain": [
              "<Figure size 432x288 with 2 Axes>"
            ],
            "image/png": "[encoded data removed]"
          },
          "metadata": {
            "needs_background": "light"
          }
        }
      ]
    },
    {
      "cell_type": "code",
      "source": [
        "y_new = np.array(y_new)\n",
        "plt.hist(y_new)\n",
        "#plt.title('0->[0,2000) : 1->[2000,99999]')\n",
        "plt.show()"
      ],
      "metadata": {
        "id": "a_uXCro7BbBx",
        "outputId": "2b6f2d93-c704-4d99-ed10-0d205a13f259",
        "colab": {
          "base_uri": "https://localhost:8080/",
          "height": 265
        }
      },
      "execution_count": 11,
      "outputs": [
        {
          "output_type": "display_data",
          "data": {
            "text/plain": [
              "<Figure size 432x288 with 1 Axes>"
            ],
            "image/png": "[encoded data removed]"
          },
          "metadata": {
            "needs_background": "light"
          }
        }
      ]
    },
    {
      "cell_type": "code",
      "source": [
        "import matplotlib.pyplot as plt \n",
        "from sklearn.preprocessing import LabelBinarizer\n",
        "from sklearn.metrics import roc_curve, auc, roc_auc_score\n",
        "\n",
        "\n",
        "target= ['easy', 'moderate', 'hard', 'very hard']\n",
        "\n",
        "fig, c_ax = plt.subplots(1,1, figsize = (12, 8))\n",
        "\n",
        "def multiclass_roc_auc_score(y_test, y_pred, average=\"macro\"):\n",
        "    lb = LabelBinarizer()\n",
        "    lb.fit(y_test)\n",
        "    y_test = lb.transform(y_test)\n",
        "    y_pred = lb.transform(y_pred)\n",
        "\n",
        "    for (idx, c_label) in enumerate(target):\n",
        "        fpr, tpr, thresholds = roc_curve(y_test[:,idx].astype(int), y_pred[:,idx])\n",
        "        c_ax.plot(fpr, tpr, label = '%s (AUC:%0.2f)'  % (c_label, auc(fpr, tpr)))\n",
        "    c_ax.plot(fpr, fpr, 'b-', label = 'Random Guessing')\n",
        "    return roc_auc_score(y_test, y_pred, average=average)\n",
        "\n",
        "\n",
        "print('ROC AUC score:', multiclass_roc_auc_score(true_y, pred_))\n",
        "\n",
        "c_ax.legend()\n",
        "c_ax.set_xlabel('False Positive Rate')\n",
        "c_ax.set_ylabel('True Positive Rate')\n",
        "plt.grid()\n",
        "plt.show()"
      ],
      "metadata": {
        "id": "ilN2NeRZ-wOR",
        "outputId": "0da66848-0741-4831-97f2-cd2a6c0223c7",
        "colab": {
          "base_uri": "https://localhost:8080/",
          "height": 514
        }
      },
      "execution_count": 12,
      "outputs": [
        {
          "output_type": "stream",
          "name": "stdout",
          "text": [
            "ROC AUC score: 0.8625113320635045\n"
          ]
        },
        {
          "output_type": "display_data",
          "data": {
            "text/plain": [
              "<Figure size 864x576 with 1 Axes>"
            ],
            "image/png": "[encoded data removed]"
          },
          "metadata": {
            "needs_background": "light"
          }
        }
      ]
    }
  ]
}