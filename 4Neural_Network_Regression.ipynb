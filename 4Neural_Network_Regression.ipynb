{
  "nbformat": 4,
  "nbformat_minor": 0,
  "metadata": {
    "colab": {
      "name": "Neural_Network_Regression.ipynb",
      "provenance": [],
      "authorship_tag": "ABX9TyNpxTpLsy0pcml5c9SEEfr7",
      "include_colab_link": true
    },
    "kernelspec": {
      "name": "python3",
      "display_name": "Python 3"
    },
    "language_info": {
      "name": "python"
    }
  },
  "cells": [
    {
      "cell_type": "markdown",
      "metadata": {
        "id": "view-in-github",
        "colab_type": "text"
      },
      "source": [
        "<a href=\"https://colab.research.google.com/github/Uros-Males/Minimization_Problem_On_Identical_Machines_Analysis/blob/main/4Neural_Network_Regression.ipynb\" target=\"_parent\"><img src=\"https://colab.research.google.com/assets/colab-badge.svg\" alt=\"Open In Colab\"/></a>"
      ]
    },
    {
      "cell_type": "code",
      "execution_count": 1,
      "metadata": {
        "id": "YiQcuNkDxHUf",
        "colab": {
          "base_uri": "https://localhost:8080/"
        },
        "outputId": "9edd3d6b-b0aa-4d8a-c71a-2f4d5a2f2741"
      },
      "outputs": [
        {
          "output_type": "stream",
          "name": "stdout",
          "text": [
            "8750\n"
          ]
        }
      ],
      "source": [
        "#IN PROGRESS....\n",
        "import pandas as pd\n",
        "import numpy as np\n",
        "import matplotlib.pyplot as plt\n",
        "from sklearn import tree\n",
        "from sklearn.model_selection import train_test_split\n",
        "from sklearn.tree import DecisionTreeRegressor\n",
        "import time\n",
        "\n",
        "df = pd.read_csv('/content/sample_data/C-instances-runtime-analysis.csv')\n",
        "#df = df[df['n/m'] != 2]\n",
        "print(df.shape[0])\n",
        "\n",
        "shuffled = df.sample(frac=1).reset_index()\n",
        "\n",
        "columns_dont_want = ['y', 'index', 'inst.name','type', 'CPLEXStatus']\n",
        "select = [x for x in shuffled.columns if x not in columns_dont_want]\n",
        "\n",
        "X = shuffled.loc[:, select]\n",
        "\n",
        "y = shuffled.loc[:,'y']"
      ]
    },
    {
      "cell_type": "code",
      "source": [
        "X_modified = X.drop([ 'median', 'range', 'k', 'max', 'min','indeks', 'class',  'subtype', '(m/n)^3', '(m/n)^2', '(n/m)^2', '(n/m)^3','m/n','m'], axis = 1)\n",
        "print(X_modified.head())\n",
        "#X_modified = X.drop(['max', 'n/m', '(n/m)^2', '(n/m)^3', 'm/n', '(m/n)^2', '(m/n)^3', 'class', 'av.length'], axis = 1)"
      ],
      "metadata": {
        "id": "Jzlk_oaRyQjm",
        "outputId": "858c77f9-e5e0-4197-b1b3-9f18a5472660",
        "colab": {
          "base_uri": "https://localhost:8080/"
        }
      },
      "execution_count": 2,
      "outputs": [
        {
          "output_type": "stream",
          "name": "stdout",
          "text": [
            "     n    n/m  av.length    std.dev\n",
            "0  200   2.00  58.500000  23.649662\n",
            "1  100   2.00  58.040001  22.296856\n",
            "2  162   2.25  97.962959  21.328800\n",
            "3  198  11.00  63.075756  24.817493\n",
            "4   20   4.00  51.700001  20.287668\n"
          ]
        }
      ]
    },
    {
      "cell_type": "code",
      "source": [
        "from imblearn.over_sampling import RandomOverSampler\n",
        "\n",
        "oversample = RandomOverSampler(random_state=0)\n",
        "X_modified, y = oversample.fit_resample(X_modified, y.astype('int'))\n",
        "print(X_modified.shape[0])\n",
        "\n",
        "tmp = X_modified\n",
        "tmp['y'] = y\n",
        "tmp = tmp.sample(frac = 1).reset_index()\n",
        "y = tmp['y']\n",
        "X_modified = tmp.drop(['y'], axis = 1)"
      ],
      "metadata": {
        "id": "dYfSw6_IUIaC",
        "outputId": "555560ab-5253-4d66-bf1c-19349dd52958",
        "colab": {
          "base_uri": "https://localhost:8080/"
        }
      },
      "execution_count": 3,
      "outputs": [
        {
          "output_type": "stream",
          "name": "stdout",
          "text": [
            "1655304\n"
          ]
        }
      ]
    },
    {
      "cell_type": "code",
      "source": [
        "from collections import Counter\n",
        "\n",
        "counter = Counter(y)\n",
        "print(counter)"
      ],
      "metadata": {
        "id": "DoqOiR_yXsNr",
        "outputId": "f8b0eed7-9243-45c2-f285-63162bda266c",
        "colab": {
          "base_uri": "https://localhost:8080/"
        }
      },
      "execution_count": 4,
      "outputs": [
        {
          "output_type": "stream",
          "name": "stdout",
          "text": [
            "Counter({49: 1416, 168: 1416, 2349: 1416, 1503: 1416, 3371: 1416, 667: 1416, 216: 1416, 620: 1416, 284: 1416, 1165: 1416, 401: 1416, 1117: 1416, 1216: 1416, 663: 1416, 3650: 1416, 2900: 1416, 0: 1416, 291: 1416, 1221: 1416, 123: 1416, 1626: 1416, 301: 1416, 63: 1416, 1098: 1416, 23: 1416, 493: 1416, 2271: 1416, 400: 1416, 59: 1416, 455: 1416, 4100: 1416, 586: 1416, 256: 1416, 275: 1416, 453: 1416, 707: 1416, 1026: 1416, 144: 1416, 708: 1416, 153: 1416, 70: 1416, 154: 1416, 180: 1416, 250: 1416, 1000: 1416, 2358: 1416, 276: 1416, 439: 1416, 1093: 1416, 1248: 1416, 3753: 1416, 239: 1416, 722: 1416, 384: 1416, 621: 1416, 3123: 1416, 1753: 1416, 171: 1416, 942: 1416, 1286: 1416, 3336: 1416, 787: 1416, 38: 1416, 1670: 1416, 1433: 1416, 134: 1416, 863: 1416, 111: 1416, 3517: 1416, 103: 1416, 606: 1416, 1870: 1416, 1532: 1416, 1438: 1416, 758: 1416, 1749: 1416, 28: 1416, 820: 1416, 1092: 1416, 315: 1416, 2126: 1416, 2035: 1416, 1690: 1416, 2684: 1416, 3551: 1416, 73: 1416, 1130: 1416, 128: 1416, 1951: 1416, 573: 1416, 438: 1416, 210: 1416, 35: 1416, 673: 1416, 457: 1416, 2647: 1416, 51: 1416, 243: 1416, 207: 1416, 623: 1416, 121: 1416, 1316: 1416, 480: 1416, 67: 1416, 1798: 1416, 3099: 1416, 218: 1416, 86: 1416, 1464: 1416, 1361: 1416, 2098: 1416, 3044: 1416, 157: 1416, 1717: 1416, 1491: 1416, 539: 1416, 2390: 1416, 318: 1416, 307: 1416, 282: 1416, 1040: 1416, 266: 1416, 2378: 1416, 1005: 1416, 420: 1416, 515: 1416, 892: 1416, 356: 1416, 197: 1416, 138: 1416, 634: 1416, 2374: 1416, 335: 1416, 214: 1416, 1357: 1416, 690: 1416, 1292: 1416, 68: 1416, 355: 1416, 1799: 1416, 41: 1416, 832: 1416, 88: 1416, 173: 1416, 238: 1416, 1194: 1416, 555: 1416, 1180: 1416, 3847: 1416, 775: 1416, 1966: 1416, 100: 1416, 2305: 1416, 187: 1416, 670: 1416, 415: 1416, 1494: 1416, 182: 1416, 125: 1416, 696: 1416, 1519: 1416, 3472: 1416, 309: 1416, 938: 1416, 1003: 1416, 1120: 1416, 676: 1416, 1634: 1416, 1234: 1416, 149: 1416, 3760: 1416, 2353: 1416, 699: 1416, 2430: 1416, 617: 1416, 115: 1416, 642: 1416, 379: 1416, 1527: 1416, 3474: 1416, 1608: 1416, 542: 1416, 101: 1416, 3588: 1416, 172: 1416, 58: 1416, 184: 1416, 1545: 1416, 110: 1416, 377: 1416, 1012: 1416, 53: 1416, 92: 1416, 1245: 1416, 538: 1416, 2199: 1416, 367: 1416, 116: 1416, 240: 1416, 717: 1416, 297: 1416, 2793: 1416, 463: 1416, 396: 1416, 2: 1416, 321: 1416, 411: 1416, 460: 1416, 897: 1416, 108: 1416, 1827: 1416, 137: 1416, 418: 1416, 286: 1416, 580: 1416, 306: 1416, 359: 1416, 3018: 1416, 494: 1416, 526: 1416, 1777: 1416, 232: 1416, 2039: 1416, 259: 1416, 334: 1416, 1909: 1416, 322: 1416, 147: 1416, 1800: 1416, 410: 1416, 85: 1416, 446: 1416, 980: 1416, 339: 1416, 10: 1416, 245: 1416, 112: 1416, 1512: 1416, 1976: 1416, 1760: 1416, 427: 1416, 1022: 1416, 3686: 1416, 2619: 1416, 825: 1416, 969: 1416, 3728: 1416, 2769: 1416, 14: 1416, 244: 1416, 1077: 1416, 2032: 1416, 1805: 1416, 974: 1416, 3726: 1416, 234: 1416, 1677: 1416, 422: 1416, 1210: 1416, 283: 1416, 242: 1416, 1906: 1416, 246: 1416, 1668: 1416, 3404: 1416, 659: 1416, 3704: 1416, 548: 1416, 269: 1416, 469: 1416, 589: 1416, 1099: 1416, 2564: 1416, 65: 1416, 1489: 1416, 456: 1416, 3142: 1416, 1469: 1416, 2577: 1416, 1043: 1416, 4: 1416, 2246: 1416, 2794: 1416, 397: 1416, 1368: 1416, 1449: 1416, 162: 1416, 1920: 1416, 127: 1416, 550: 1416, 398: 1416, 316: 1416, 1502: 1416, 441: 1416, 3398: 1416, 1: 1416, 109: 1416, 674: 1416, 591: 1416, 310: 1416, 2130: 1416, 3330: 1416, 685: 1416, 264: 1416, 2434: 1416, 285: 1416, 3763: 1416, 4249: 1416, 600: 1416, 16: 1416, 403: 1416, 380: 1416, 2306: 1416, 295: 1416, 562: 1416, 3180: 1416, 1291: 1416, 373: 1416, 1529: 1416, 263: 1416, 1940: 1416, 788: 1416, 414: 1416, 612: 1416, 3891: 1416, 2493: 1416, 1236: 1416, 268: 1416, 4164: 1416, 2429: 1416, 1101: 1416, 305: 1416, 1492: 1416, 402: 1416, 1981: 1416, 703: 1416, 1926: 1416, 271: 1416, 738: 1416, 602: 1416, 858: 1416, 2491: 1416, 260: 1416, 984: 1416, 141: 1416, 426: 1416, 385: 1416, 327: 1416, 3161: 1416, 1600: 1416, 487: 1416, 102: 1416, 223: 1416, 4506: 1416, 645: 1416, 2311: 1416, 215: 1416, 809: 1416, 529: 1416, 211: 1416, 213: 1416, 844: 1416, 1074: 1416, 126: 1416, 2514: 1416, 272: 1416, 1651: 1416, 2135: 1416, 208: 1416, 492: 1416, 323: 1416, 1065: 1416, 311: 1416, 1927: 1416, 1305: 1416, 25: 1416, 505: 1416, 928: 1416, 680: 1416, 158: 1416, 450: 1416, 9: 1416, 328: 1416, 496: 1416, 93: 1416, 937: 1416, 249: 1416, 185: 1416, 1431: 1416, 610: 1416, 1052: 1416, 3388: 1416, 177: 1416, 3378: 1416, 3059: 1416, 913: 1416, 3408: 1416, 2511: 1416, 859: 1416, 99999: 1416, 205: 1416, 1252: 1416, 1696: 1416, 188: 1416, 936: 1416, 651: 1416, 98: 1416, 165: 1416, 368: 1416, 3341: 1416, 247: 1416, 2545: 1416, 864: 1416, 584: 1416, 195: 1416, 525: 1416, 3800: 1416, 314: 1416, 4058: 1416, 2926: 1416, 519: 1416, 97: 1416, 930: 1416, 1569: 1416, 91: 1416, 635: 1416, 878: 1416, 1182: 1416, 1662: 1416, 2355: 1416, 1115: 1416, 432: 1416, 512: 1416, 57: 1416, 1427: 1416, 3665: 1416, 378: 1416, 96: 1416, 348: 1416, 329: 1416, 2544: 1416, 19: 1416, 80: 1416, 257: 1416, 2186: 1416, 1196: 1416, 436: 1416, 653: 1416, 287: 1416, 40: 1416, 1478: 1416, 926: 1416, 353: 1416, 1679: 1416, 253: 1416, 1834: 1416, 1276: 1416, 985: 1416, 454: 1416, 2969: 1416, 1280: 1416, 202: 1416, 225: 1416, 151: 1416, 785: 1416, 1762: 1416, 54: 1416, 835: 1416, 1692: 1416, 808: 1416, 1823: 1416, 1164: 1416, 1285: 1416, 2946: 1416, 1447: 1416, 692: 1416, 2770: 1416, 124: 1416, 633: 1416, 2356: 1416, 1080: 1416, 233: 1416, 196: 1416, 1751: 1416, 1659: 1416, 466: 1416, 718: 1416, 354: 1416, 36: 1416, 1574: 1416, 1159: 1416, 226: 1416, 1153: 1416, 572: 1416, 133: 1416, 1094: 1416, 156: 1416, 1051: 1416, 3410: 1416, 1160: 1416, 164: 1416, 764: 1416, 716: 1416, 22: 1416, 395: 1416, 1224: 1416, 254: 1416, 490: 1416, 142: 1416, 130: 1416, 105: 1416, 2361: 1416, 222: 1416, 145: 1416, 1481: 1416, 2348: 1416, 1109: 1416, 78: 1416, 1549: 1416, 1102: 1416, 117: 1416, 528: 1416, 405: 1416, 728: 1416, 996: 1416, 2159: 1416, 71: 1416, 495: 1416, 3629: 1416, 18: 1416, 520: 1416, 491: 1416, 1581: 1416, 262: 1416, 695: 1416, 649: 1416, 770: 1416, 346: 1416, 833: 1416, 369: 1416, 219: 1416, 227: 1416, 50: 1416, 1021: 1416, 3670: 1416, 2860: 1416, 75: 1416, 638: 1416, 473: 1416, 3919: 1416, 2771: 1416, 169: 1416, 3240: 1416, 374: 1416, 1011: 1416, 554: 1416, 448: 1416, 767: 1416, 502: 1416, 206: 1416, 1041: 1416, 42: 1416, 1392: 1416, 94: 1416, 129: 1416, 1323: 1416, 477: 1416, 746: 1416, 119: 1416, 683: 1416, 139: 1416, 444: 1416, 64: 1416, 351: 1416, 3905: 1416, 912: 1416, 1348: 1416, 478: 1416, 83: 1416, 2410: 1416, 826: 1416, 841: 1416, 3624: 1416, 3001: 1416, 2737: 1416, 2582: 1416, 26: 1416, 1140: 1416, 120: 1416, 719: 1416, 199: 1416, 2521: 1416, 1163: 1416, 509: 1416, 527: 1416, 806: 1416, 870: 1416, 2761: 1416, 941: 1416, 860: 1416, 1404: 1416, 2530: 1416, 2275: 1416, 3334: 1416, 2469: 1416, 622: 1416, 3417: 1416, 220: 1416, 977: 1416, 228: 1416, 2081: 1416, 235: 1416, 404: 1416, 302: 1416, 74: 1416, 2587: 1416, 603: 1416, 1859: 1416, 5: 1416, 2168: 1416, 3581: 1416, 1030: 1416, 3444: 1416, 990: 1416, 2336: 1416, 585: 1416, 27: 1416, 55: 1416, 3450: 1416, 15: 1416, 230: 1416, 281: 1416, 2331: 1416, 1971: 1416, 1654: 1416, 1510: 1416, 375: 1416, 3465: 1416, 179: 1416, 2861: 1416, 13: 1416, 1614: 1416, 192: 1416, 1394: 1416, 150: 1416, 2825: 1416, 1374: 1416, 2078: 1416, 3598: 1416, 3734: 1416, 160: 1416, 3518: 1416, 3094: 1416, 834: 1416, 1253: 1416, 2058: 1416, 39: 1416, 1293: 1416, 201: 1416, 3901: 1416, 2681: 1416, 3655: 1416, 1959: 1416, 658: 1416, 140: 1416, 87: 1416, 824: 1416, 1125: 1416, 2486: 1416, 372: 1416, 1045: 1416, 827: 1416, 1167: 1416, 336: 1416, 104: 1416, 313: 1416, 449: 1416, 3885: 1416, 789: 1416, 521: 1416, 390: 1416, 2172: 1416, 435: 1416, 1111: 1416, 1139: 1416, 1671: 1416, 189: 1416, 2151: 1416, 1006: 1416, 851: 1416, 733: 1416, 1732: 1416, 3187: 1416, 4052: 1416, 813: 1416, 21: 1416, 625: 1416, 1415: 1416, 908: 1416, 166: 1416, 2875: 1416, 273: 1416, 889: 1416, 524: 1416, 163: 1416, 349: 1416, 1451: 1416, 113: 1416, 1471: 1416, 3353: 1416, 847: 1416, 975: 1416, 986: 1416, 4030: 1416, 1072: 1416, 183: 1416, 533: 1416, 583: 1416, 2307: 1416, 1470: 1416, 2262: 1416, 2586: 1416, 1776: 1416, 1785: 1416, 1359: 1416, 33: 1416, 1050: 1416, 1363: 1416, 2627: 1416, 500: 1416, 90: 1416, 644: 1416, 2071: 1416, 1577: 1416, 2087: 1416, 734: 1416, 289: 1416, 2291: 1416, 190: 1416, 597: 1416, 324: 1416, 331: 1416, 175: 1416, 1585: 1416, 872: 1416, 511: 1416, 662: 1416, 2945: 1416, 865: 1416, 290: 1416, 1002: 1416, 476: 1416, 3723: 1416, 221: 1416, 320: 1416, 2266: 1416, 2690: 1416, 566: 1416, 1332: 1416, 1056: 1416, 1189: 1416, 1516: 1416, 1170: 1416, 255: 1416, 2133: 1416, 715: 1416, 560: 1416, 2613: 1416, 84: 1416, 303: 1416, 167: 1416, 655: 1416, 1310: 1416, 1474: 1416, 781: 1416, 198: 1416, 956: 1416, 697: 1416, 588: 1416, 409: 1416, 871: 1416, 1075: 1416, 1029: 1416, 2801: 1416, 46: 1416, 209: 1416, 371: 1416, 2113: 1416, 2028: 1416, 319: 1416, 135: 1416, 229: 1416, 982: 1416, 958: 1416, 343: 1416, 159: 1416, 81: 1416, 1353: 1416, 261: 1416, 2558: 1416, 1320: 1416, 747: 1416, 296: 1416, 1571: 1416, 1493: 1416, 522: 1416, 1341: 1416, 280: 1416, 72: 1416, 2621: 1416, 2941: 1416, 1868: 1416, 2043: 1416, 347: 1416, 37: 1416, 186: 1416, 2471: 1416, 3: 1416, 45: 1416, 1016: 1416, 161: 1416, 927: 1416, 1450: 1416, 2080: 1416, 95: 1416, 549: 1416, 1479: 1416, 1235: 1416, 2583: 1416, 2822: 1416, 3292: 1416, 332: 1416, 363: 1416, 48: 1416, 631: 1416, 3130: 1416, 237: 1416, 686: 1416, 855: 1416, 547: 1416, 3162: 1416, 1185: 1416, 1340: 1416, 613: 1416, 893: 1416, 1573: 1416, 569: 1416, 1307: 1416, 1722: 1416, 1294: 1416, 443: 1416, 29: 1416, 44: 1416, 1110: 1416, 2426: 1416, 710: 1416, 52: 1416, 488: 1416, 1145: 1416, 1169: 1416, 563: 1416, 2655: 1416, 1663: 1416, 77: 1416, 1078: 1416, 498: 1416, 62: 1416, 652: 1416, 2797: 1416, 191: 1416, 504: 1416, 3437: 1416, 2972: 1416, 483: 1416, 317: 1416, 357: 1416, 391: 1416, 274: 1416, 2553: 1416, 294: 1416, 1595: 1416, 2396: 1416, 2523: 1416, 1150: 1416, 1262: 1416, 3808: 1416, 143: 1416, 582: 1416, 535: 1416, 1655: 1416, 366: 1416, 2902: 1416, 20: 1416, 69: 1416, 506: 1416, 2362: 1416, 830: 1416, 1035: 1416, 804: 1416, 176: 1416, 1141: 1416, 1988: 1416, 1396: 1416, 472: 1416, 3090: 1416, 1274: 1416, 66: 1416, 790: 1416, 99: 1416, 1788: 1416, 3774: 1416, 869: 1416, 459: 1416, 465: 1416, 2074: 1416, 2744: 1416, 2270: 1416, 146: 1416, 437: 1416, 2668: 1416, 470: 1416, 442: 1416, 429: 1416, 1039: 1416, 1033: 1416, 2919: 1416, 660: 1416, 174: 1416, 817: 1416, 1839: 1416, 2405: 1416, 383: 1416, 1979: 1416, 155: 1416, 2494: 1416, 4013: 1416, 136: 1416, 1422: 1416, 193: 1416, 3320: 1416, 407: 1416, 1047: 1416, 567: 1416, 1053: 1416, 1118: 1416, 416: 1416, 1227: 1416, 3040: 1416, 8: 1416, 3476: 1416, 43: 1416, 771: 1416, 2003: 1416, 626: 1416, 3635: 1416, 501: 1416, 217: 1416, 2831: 1416, 333: 1416, 1100: 1416, 364: 1416, 344: 1416, 299: 1416, 2556: 1416, 2949: 1416, 3277: 1416, 4146: 1416, 430: 1416, 837: 1416, 194: 1416, 2165: 1416, 114: 1416, 382: 1416, 1765: 1416, 178: 1416, 1686: 1416, 751: 1416, 918: 1416, 1975: 1416, 325: 1416, 684: 1416, 1019: 1416, 1660: 1416, 867: 1416, 1146: 1416, 394: 1416, 148: 1416, 3557: 1416, 558: 1416, 904: 1416, 131: 1416, 3803: 1416, 3739: 1416, 760: 1416, 1606: 1416, 267: 1416, 1198: 1416, 79: 1416, 1237: 1416, 3467: 1416, 1580: 1416, 1271: 1416, 4093: 1416, 200: 1416, 392: 1416, 2241: 1416, 279: 1416, 2798: 1416, 389: 1416, 122: 1416, 702: 1416, 47: 1416, 1850: 1416, 842: 1416, 3293: 1416, 919: 1416, 340: 1416, 706: 1416, 704: 1416, 433: 1416, 203: 1416, 1534: 1416, 107: 1416, 76: 1416, 345: 1416, 417: 1416, 1548: 1416, 517: 1416, 60: 1416, 3351: 1416, 352: 1416, 56: 1416, 513: 1416, 534: 1416, 386: 1416, 1847: 1416, 1565: 1416, 2457: 1416, 152: 1416, 1537: 1416, 212: 1416, 34: 1416, 2755: 1416, 669: 1416, 2508: 1416, 2782: 1416, 1203: 1416, 24: 1416, 665: 1416, 277: 1416, 298: 1416, 2510: 1416, 1373: 1416, 1209: 1416, 326: 1416, 362: 1416, 750: 1416, 1277: 1416, 293: 1416, 3727: 1416, 118: 1416, 106: 1416, 486: 1416, 1143: 1416, 939: 1416, 774: 1416, 170: 1416, 1037: 1416, 1459: 1416, 752: 1416, 251: 1416, 181: 1416, 1014: 1416, 1918: 1416, 224: 1416, 1483: 1416, 2010: 1416, 3213: 1416, 6: 1416, 2137: 1416, 61: 1416, 654: 1416, 252: 1416, 341: 1416, 1027: 1416, 32: 1416, 3941: 1416, 3028: 1416, 31: 1416, 744: 1416, 1342: 1416, 810: 1416, 475: 1416, 445: 1416, 1090: 1416, 132: 1416, 748: 1416, 479: 1416, 1290: 1416, 7: 1416, 1945: 1416, 812: 1416, 3623: 1416, 886: 1416, 3441: 1416, 1048: 1416, 428: 1416, 1566: 1416, 694: 1416, 900: 1416, 2313: 1416, 1119: 1416, 425: 1416, 578: 1416, 3316: 1416, 3463: 1416, 204: 1416, 12: 1416, 308: 1416, 1287: 1416, 2182: 1416, 701: 1416, 540: 1416, 709: 1416, 1547: 1416, 1188: 1416, 632: 1416, 955: 1416, 11: 1416, 4096: 1416, 3747: 1416, 616: 1416, 2189: 1416, 1108: 1416, 3005: 1416, 338: 1416, 89: 1416, 461: 1416, 849: 1416, 1709: 1416, 1135: 1416, 934: 1416, 2281: 1416, 278: 1416, 1149: 1416, 2599: 1416, 901: 1416, 2026: 1416, 406: 1416, 248: 1416, 1243: 1416, 2321: 1416, 577: 1416, 1183: 1416, 3855: 1416, 3594: 1416, 360: 1416, 4233: 1416, 17: 1416, 2458: 1416, 82: 1416, 30: 1416, 608: 1416, 866: 1416, 236: 1416, 763: 1416, 312: 1416, 4125: 1416, 531: 1416})\n"
          ]
        }
      ]
    },
    {
      "cell_type": "code",
      "source": [
        "from keras.models import Sequential\n",
        "from keras.layers import Dense ,Dropout,BatchNormalization\n",
        "from keras.layers import Dense\n",
        "from keras.wrappers.scikit_learn import KerasRegressor\n",
        "from sklearn.model_selection import cross_val_score\n",
        "\n",
        "from keras.layers import Activation\n",
        "from keras import backend as K\n",
        "from keras.utils.generic_utils import get_custom_objects\n",
        "\n",
        "import tensorflow\n",
        "from tensorflow import keras \n",
        "\n",
        "\n",
        "def custom_activation(x):\n",
        "    #return K.relu(tensorflow.subtract(x,-1)) - K.relu(tensorflow.subtract(x,1))\n",
        "    return 99999*1/(1+K.exp(-x))\n",
        "\n",
        "get_custom_objects().update({'custom_activation': Activation(custom_activation)})\n",
        "\n",
        "def make_model():\n",
        "    model = Sequential()\n",
        "    \n",
        "    model.add(Dense(8, input_dim=X_modified.shape[1], activation='relu'))\n",
        "    #model.add(Dropout(0.25))\n",
        "    \n",
        "    model.add(Dense(16, activation = 'relu'))\n",
        "    model.add(Dropout(0.1))\n",
        "\n",
        "    #classifier.add(Dense(32, activation = 'relu'))\n",
        "    #classifier.add(Dense(32, activation = 'relu'))\n",
        "    #classifier.add(Dense(16, activation = 'relu'))\n",
        "\n",
        "    #model.add(Dense(32, activation='relu'))\n",
        "\n",
        "    #model.add(Dense(64, activation='relu'))\n",
        "\n",
        "    #model.add(Dense(4, activation='relu'))\n",
        "    \n",
        "    model.add(Dense(1, activation = custom_activation))\n",
        "    #model.add(Activation(custom_activation, name='SpecialActivation'))\n",
        "    model.compile(loss='mean_squared_error', optimizer=tensorflow.keras.optimizers.Adam(clipnorm=1))\n",
        "    #model.compile(loss='mean_squared_error', optimizer='RMSProp')\n",
        "\n",
        "    return model"
      ],
      "metadata": {
        "id": "7_m2qFDRya94"
      },
      "execution_count": 5,
      "outputs": []
    },
    {
      "cell_type": "code",
      "source": [
        "from sklearn import preprocessing\n",
        "\n",
        "from sklearn.preprocessing import StandardScaler\n",
        "\n",
        "sc = StandardScaler()\n",
        "sc2 = StandardScaler()\n",
        "\n",
        "X_train, X_test, y_train, y_test = train_test_split(X_modified, y, random_state=0, train_size = 0.83)\n",
        "#X_train, X_val, y_train, y_val = train_test_split(X_train, y_train, random_state=0, train_size = 0.83)\n",
        "\n",
        "\n",
        "X_train = sc.fit_transform(X_train)\n",
        "X_test = sc.transform(X_test)\n",
        "#X_val = sc.transform(X_val)\n",
        "\n",
        "#y_train = sc2.fit_transform(y_train.values.reshape(-1,1))\n",
        "#y_test = sc2.transform(y_test.values.reshape(-1,1))\n",
        "\n",
        "estimator = KerasRegressor(build_fn=make_model, epochs=10, batch_size=128, verbose=1)\n",
        "\n",
        "#history=estimator.fit(X_train,y_train)\n",
        "from keras.metrics import accuracy\n",
        "from keras import callbacks\n",
        "earlystopping = callbacks.EarlyStopping(monitor =\"val_loss\", \n",
        "                                        mode =\"min\", patience = 5, \n",
        "                                        restore_best_weights = True)\n",
        "  \n",
        "history = estimator.fit(X_train, y_train)\n",
        "#plt.plot(history.history['val_accuracy'])"
      ],
      "metadata": {
        "colab": {
          "base_uri": "https://localhost:8080/"
        },
        "id": "2JHin8gI5ftQ",
        "outputId": "20fc00cb-3512-488a-cb6e-9523aeb504d3"
      },
      "execution_count": 6,
      "outputs": [
        {
          "output_type": "stream",
          "name": "stderr",
          "text": [
            "/usr/local/lib/python3.7/dist-packages/ipykernel_launcher.py:19: DeprecationWarning: KerasRegressor is deprecated, use Sci-Keras (https://github.com/adriangb/scikeras) instead. See https://www.adriangb.com/scikeras/stable/migration.html for help migrating.\n"
          ]
        },
        {
          "output_type": "stream",
          "name": "stdout",
          "text": [
            "Epoch 1/10\n",
            "10734/10734 [==============================] - 43s 4ms/step - loss: 20257168.0000\n",
            "Epoch 2/10\n",
            "10734/10734 [==============================] - 29s 3ms/step - loss: 2910253.5000\n",
            "Epoch 3/10\n",
            "10734/10734 [==============================] - 25s 2ms/step - loss: 1974467.1250\n",
            "Epoch 4/10\n",
            "10734/10734 [==============================] - 27s 2ms/step - loss: 1825397.1250\n",
            "Epoch 5/10\n",
            "10734/10734 [==============================] - 28s 3ms/step - loss: 1827974.6250\n",
            "Epoch 6/10\n",
            "10734/10734 [==============================] - 24s 2ms/step - loss: 1833887.6250\n",
            "Epoch 7/10\n",
            "10734/10734 [==============================] - 25s 2ms/step - loss: 1801803.7500\n",
            "Epoch 8/10\n",
            "10734/10734 [==============================] - 23s 2ms/step - loss: 1736349.0000\n",
            "Epoch 9/10\n",
            "10734/10734 [==============================] - 20s 2ms/step - loss: 1804514.1250\n",
            "Epoch 10/10\n",
            "10734/10734 [==============================] - 20s 2ms/step - loss: 1809079.5000\n"
          ]
        }
      ]
    },
    {
      "cell_type": "code",
      "source": [
        "plt.plot(history.history['loss'])"
      ],
      "metadata": {
        "colab": {
          "base_uri": "https://localhost:8080/",
          "height": 293
        },
        "id": "jG1I_-jh7fu0",
        "outputId": "73055a2e-426c-47ad-959a-7d742711a171"
      },
      "execution_count": 7,
      "outputs": [
        {
          "output_type": "execute_result",
          "data": {
            "text/plain": [
              "[<matplotlib.lines.Line2D at 0x7fb3b2f8e490>]"
            ]
          },
          "metadata": {},
          "execution_count": 7
        },
        {
          "output_type": "display_data",
          "data": {
            "text/plain": [
              "<Figure size 432x288 with 1 Axes>"
            ],
            "image/png": "[encoded data removed]"
          },
          "metadata": {
            "needs_background": "light"
          }
        }
      ]
    },
    {
      "cell_type": "code",
      "source": [
        "#from sklearn.metrics import r2_score\n",
        "#prediction = estimator.predict(X_val)\n",
        "#print(\"r_square score: \", r2_score(y_val,prediction))\n",
        "##y_test = sc2.inverse_transform(y_test.reshape(-1,1))\n",
        "#yy = np.array(y_val)\n",
        "#prediction = sc2.inverse_transform(prediction.reshape(-1,1))\n",
        "#predd = np.array(prediction)\n",
        "#for i in range(len(yy)):\n",
        "#  if(yy[i]-predd[i] > 99000):\n",
        "#    print(\"real value of y_test: \" + str(yy[i]) + \" -> the predict: \" + str(predd[i]))"
      ],
      "metadata": {
        "id": "PnQXNvh3-rVR"
      },
      "execution_count": 8,
      "outputs": []
    },
    {
      "cell_type": "code",
      "source": [
        "#from sklearn.metrics import mean_squared_error\n",
        "#from math import sqrt\n",
        "\n",
        "#print(\"RMSE:\")\n",
        "#sqrt(mean_squared_error(yy, predd)) "
      ],
      "metadata": {
        "id": "OSyzIFK5uzHP"
      },
      "execution_count": 9,
      "outputs": []
    },
    {
      "cell_type": "code",
      "source": [
        "from sklearn.metrics import r2_score\n",
        "prediction = estimator.predict(X_test)\n",
        "print(\"r_square score: \", r2_score(y_test,prediction))\n",
        "#y_test = sc2.inverse_transform(y_test.reshape(-1,1))\n",
        "yy = np.array(y_test)\n",
        "#prediction = sc2.inverse_transform(prediction.reshape(-1,1))\n",
        "predd = np.array(prediction)\n",
        "for i in range(len(yy)):\n",
        "  if(yy[i]-predd[i] > 99000):\n",
        "    print(\"real value of y_test: \" + str(yy[i]) + \" -> the predict: \" + str(predd[i]))"
      ],
      "metadata": {
        "id": "kM0P-0lMSmrp",
        "outputId": "0d8179ac-8029-4294-dc52-11e44444e784",
        "colab": {
          "base_uri": "https://localhost:8080/"
        }
      },
      "execution_count": 10,
      "outputs": [
        {
          "output_type": "stream",
          "name": "stdout",
          "text": [
            "2199/2199 [==============================] - 3s 1ms/step\n",
            "r_square score:  0.8418672800329882\n",
            "real value of y_test: 99999 -> the predict: 51.794567\n",
            "real value of y_test: 99999 -> the predict: 414.052\n",
            "real value of y_test: 99999 -> the predict: 315.6532\n",
            "real value of y_test: 99999 -> the predict: 441.51346\n",
            "real value of y_test: 99999 -> the predict: 828.018\n",
            "real value of y_test: 99999 -> the predict: 524.68243\n",
            "real value of y_test: 99999 -> the predict: 49.76246\n",
            "real value of y_test: 99999 -> the predict: 469.52158\n",
            "real value of y_test: 99999 -> the predict: 295.326\n",
            "real value of y_test: 99999 -> the predict: 825.2675\n",
            "real value of y_test: 99999 -> the predict: 933.7068\n",
            "real value of y_test: 99999 -> the predict: 873.4626\n"
          ]
        }
      ]
    },
    {
      "cell_type": "code",
      "source": [
        "from sklearn.metrics import mean_squared_error\n",
        "from math import sqrt\n",
        "\n",
        "print(\"RMSE:\")\n",
        "sqrt(mean_squared_error(yy, predd)) "
      ],
      "metadata": {
        "id": "ypt_4IhTSpQC",
        "outputId": "8dfba4df-423d-49ea-d4ec-a671d2837708",
        "colab": {
          "base_uri": "https://localhost:8080/"
        }
      },
      "execution_count": 11,
      "outputs": [
        {
          "output_type": "stream",
          "name": "stdout",
          "text": [
            "RMSE:\n"
          ]
        },
        {
          "output_type": "execute_result",
          "data": {
            "text/plain": [
              "1211.0956681974073"
            ]
          },
          "metadata": {},
          "execution_count": 11
        }
      ]
    }
  ]
}