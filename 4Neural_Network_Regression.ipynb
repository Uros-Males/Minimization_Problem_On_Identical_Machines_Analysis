{
  "nbformat": 4,
  "nbformat_minor": 0,
  "metadata": {
    "colab": {
      "name": "Neural_Network_Regression.ipynb",
      "provenance": [],
      "authorship_tag": "ABX9TyNHuea2bd3Y0WdJxq8OaG4t",
      "include_colab_link": true
    },
    "kernelspec": {
      "name": "python3",
      "display_name": "Python 3"
    },
    "language_info": {
      "name": "python"
    }
  },
  "cells": [
    {
      "cell_type": "markdown",
      "metadata": {
        "id": "view-in-github",
        "colab_type": "text"
      },
      "source": [
        "<a href=\"https://colab.research.google.com/github/Uros-Males/Minimization_Problem_On_Identical_Machines_Analysis/blob/main/4Neural_Network_Regression.ipynb\" target=\"_parent\"><img src=\"https://colab.research.google.com/assets/colab-badge.svg\" alt=\"Open In Colab\"/></a>"
      ]
    },
    {
      "cell_type": "code",
      "execution_count": 1,
      "metadata": {
        "id": "YiQcuNkDxHUf",
        "colab": {
          "base_uri": "https://localhost:8080/"
        },
        "outputId": "e8a9bdf7-8894-400a-ca18-c167ec828d80"
      },
      "outputs": [
        {
          "output_type": "stream",
          "name": "stdout",
          "text": [
            "8750\n",
            "4510.0\n"
          ]
        }
      ],
      "source": [
        "#IN PROGRESS....\n",
        "import pandas as pd\n",
        "import numpy as np\n",
        "import matplotlib.pyplot as plt\n",
        "from sklearn import tree\n",
        "from sklearn.model_selection import train_test_split\n",
        "from sklearn.tree import DecisionTreeRegressor\n",
        "import time\n",
        "\n",
        "df = pd.read_csv('/content/sample_data/C-instances-runtime-analysis.csv')\n",
        "for i in range(df.shape[0]):\n",
        "  if(df.iloc[i]['y'] == 99999):\n",
        "    df.loc[i, 'y'] = 4510\n",
        "\n",
        "print(df.shape[0])\n",
        "print(df['y'].max())\n",
        "shuffled = df.sample(frac=1).reset_index()\n",
        "\n",
        "columns_dont_want = ['y', 'index', 'inst.name','type', 'CPLEXStatus']\n",
        "select = [x for x in shuffled.columns if x not in columns_dont_want]\n",
        "\n",
        "X = shuffled.loc[:, select]\n",
        "\n",
        "y = shuffled.loc[:,'y']"
      ]
    },
    {
      "cell_type": "code",
      "source": [
        "X_modified = X.drop([ 'median','max', 'k', 'min', 'range',  'indeks', 'class',  'subtype', '(m/n)^3', '(m/n)^2', '(n/m)^2', '(n/m)^3','m/n','m'], axis = 1)\n",
        "print(X_modified.head())\n",
        "#X_modified = X.drop(['max', 'n/m', '(n/m)^2', '(n/m)^3', 'm/n', '(m/n)^2', '(m/n)^3', 'class', 'av.length'], axis = 1)"
      ],
      "metadata": {
        "id": "Jzlk_oaRyQjm",
        "outputId": "459fc046-7f66-4536-b9c3-c06ff9e40e55",
        "colab": {
          "base_uri": "https://localhost:8080/"
        }
      },
      "execution_count": 2,
      "outputs": [
        {
          "output_type": "stream",
          "name": "stdout",
          "text": [
            "     n   n/m   av.length     std.dev\n",
            "0  120   2.5   60.358334   25.210638\n",
            "1  200   5.0  100.695000   18.155994\n",
            "2  220  11.0  891.086365  216.870728\n",
            "3  120   2.5  101.750000   20.510399\n",
            "4  100   2.5  103.150002   21.509867\n"
          ]
        }
      ]
    },
    {
      "cell_type": "code",
      "source": [
        "from imblearn.over_sampling import RandomOverSampler\n",
        "\n",
        "oversample = RandomOverSampler(random_state=0)\n",
        "X_modified, y = oversample.fit_resample(X_modified, y.astype('int'))\n",
        "print(X_modified.shape[0])\n",
        "\n",
        "from imblearn.over_sampling import SMOTE\n",
        "\n",
        "smote_on_3 = 50\n",
        "#oversample = SMOTE(sampling_strategy={99999:50000})\n",
        "#X_modified, y = oversample.fit_resample(X_modified, y)\n",
        "print(X_modified.shape[0])\n",
        "\n",
        "tmp = X_modified\n",
        "tmp['y'] = y\n",
        "tmp = tmp.sample(frac = 1).reset_index()\n",
        "#y = np.log10(tmp['y']*10)+20\n",
        "y = tmp['y']\n",
        "X_modified = tmp.drop(['y'], axis = 1)\n"
      ],
      "metadata": {
        "id": "dYfSw6_IUIaC",
        "outputId": "c37b724c-9886-4c39-a9c4-0189b5537f45",
        "colab": {
          "base_uri": "https://localhost:8080/"
        }
      },
      "execution_count": 3,
      "outputs": [
        {
          "output_type": "stream",
          "name": "stdout",
          "text": [
            "1655304\n",
            "1655304\n"
          ]
        }
      ]
    },
    {
      "cell_type": "code",
      "source": [
        "from keras.models import Sequential\n",
        "from keras.layers import Dense ,Dropout,BatchNormalization\n",
        "from keras.layers import Dense\n",
        "from keras.wrappers.scikit_learn import KerasRegressor\n",
        "from sklearn.model_selection import cross_val_score\n",
        "\n",
        "from keras.layers import Activation\n",
        "from keras import backend as K\n",
        "from keras.utils.generic_utils import get_custom_objects\n",
        "\n",
        "import tensorflow as tf\n",
        "from tensorflow import keras \n",
        "from tensorflow.python.ops import math_ops\n",
        "\n",
        "\n",
        "def custom_activation(x):\n",
        "    #return K.relu(tensorflow.subtract(x,-1)) - K.relu(tensorflow.subtract(x,3.5))\n",
        "    return 4510*1/(1+K.exp(-x))\n",
        "\n",
        "def custom_mse(y_true, y_pred):\n",
        "  loss = K.square(tf.cast(y_pred, tf.float32) - tf.cast(y_true, tf.float32))  # (batch_size, 2)\n",
        "  \n",
        "  vec = []\n",
        "  for i in range(128):\n",
        "    if(y_true[i]<10):\n",
        "      vec.append(100.0)\n",
        "    elif(y_true[i]>=10 and y_true[i]<100):\n",
        "      vec.append(50.0)\n",
        "    elif(y_true[i]>=100 and y_true[i]<1000):\n",
        "      vec.append(1.0)\n",
        "    else:\n",
        "      vec.append(1.0)\n",
        "  \n",
        "    # multiplying the values with weights along batch dimension\n",
        "  vec = np.array(vec)\n",
        "  loss = loss * vec.transpose()       # (batch_size, 2)\n",
        "                \n",
        "  loss = K.sum(loss, axis=1)        # (batch_size,)\n",
        "    \n",
        "  return loss\n",
        "\n",
        "get_custom_objects().update({'custom_activation': Activation(custom_activation)})\n",
        "\n",
        "def make_model():\n",
        "    model = Sequential()\n",
        "    \n",
        "    model.add(Dense(8, input_dim=X_modified.shape[1], activation='relu'))\n",
        "    #model.add(Dropout(0.25))\n",
        "    \n",
        "    model.add(Dense(32, activation = 'relu'))\n",
        "    model.add(Dropout(0.1))\n",
        "\n",
        "    #classifier.add(Dense(32, activation = 'relu'))\n",
        "    #classifier.add(Dense(32, activation = 'relu'))\n",
        "    #classifier.add(Dense(16, activation = 'relu'))\n",
        "\n",
        "    #model.add(Dense(32, activation='relu'))\n",
        "\n",
        "    #model.add(Dense(64, activation='relu'))\n",
        "\n",
        "    #model.add(Dense(8, activation='relu'))\n",
        "    \n",
        "    model.add(Dense(1, activation = 'relu'))\n",
        "    #model.add(Activation(custom_activation, name='SpecialActivation'))\n",
        "    #model.compile(loss='mean_squared_error', optimizer=tensorflow.keras.optimizers.Adam(clipnorm=1))\n",
        "    #model.compile(loss='mean_squared_error', optimizer='RMSProp')\n",
        "    model.compile(loss='mean_squared_error', optimizer='Adam')\n",
        "    return model"
      ],
      "metadata": {
        "id": "7_m2qFDRya94"
      },
      "execution_count": 4,
      "outputs": []
    },
    {
      "cell_type": "code",
      "source": [
        "from sklearn import preprocessing\n",
        "\n",
        "from sklearn.preprocessing import StandardScaler\n",
        "\n",
        "sc = StandardScaler()\n",
        "sc2 = StandardScaler()\n",
        "\n",
        "X_train, X_test, y_train, y_test = train_test_split(X_modified, y, random_state=0, train_size = 0.83)\n",
        "#X_train, X_val, y_train, y_val = train_test_split(X_train, y_train, random_state=0, train_size = 0.83)\n",
        "\n",
        "\n",
        "X_train = sc.fit_transform(X_train)\n",
        "X_test_copy = X_test\n",
        "X_test = sc.transform(X_test)\n",
        "#X_val = sc.transform(X_val)\n",
        "\n",
        "#y_train = sc2.fit_transform(y_train.values.reshape(-1,1))\n",
        "#y_test = sc2.transform(y_test.values.reshape(-1,1))\n",
        "\n",
        "estimator = KerasRegressor(build_fn=make_model, epochs=20, batch_size=128, verbose=1)\n",
        "\n",
        "#history=estimator.fit(X_train,y_train)\n",
        "from keras.metrics import accuracy\n",
        "from keras import callbacks\n",
        "earlystopping = callbacks.EarlyStopping(monitor =\"val_loss\", \n",
        "                                        mode =\"min\", patience = 5, \n",
        "                                        restore_best_weights = True)\n",
        "  \n",
        "history = estimator.fit(X_train, y_train, shuffle = True)\n",
        "#plt.plot(history.history['val_accuracy'])"
      ],
      "metadata": {
        "colab": {
          "base_uri": "https://localhost:8080/"
        },
        "id": "2JHin8gI5ftQ",
        "outputId": "d42b424b-8438-4416-fc6c-a5bfc84e5246"
      },
      "execution_count": 5,
      "outputs": [
        {
          "output_type": "stream",
          "name": "stderr",
          "text": [
            "/usr/local/lib/python3.7/dist-packages/ipykernel_launcher.py:20: DeprecationWarning: KerasRegressor is deprecated, use Sci-Keras (https://github.com/adriangb/scikeras) instead. See https://www.adriangb.com/scikeras/stable/migration.html for help migrating.\n"
          ]
        },
        {
          "output_type": "stream",
          "name": "stdout",
          "text": [
            "Epoch 1/20\n",
            "10734/10734 [==============================] - 30s 3ms/step - loss: 212408.8594\n",
            "Epoch 2/20\n",
            "10734/10734 [==============================] - 18s 2ms/step - loss: 32438.5938\n",
            "Epoch 3/20\n",
            "10734/10734 [==============================] - 19s 2ms/step - loss: 30812.6367\n",
            "Epoch 4/20\n",
            "10734/10734 [==============================] - 18s 2ms/step - loss: 29103.6973\n",
            "Epoch 5/20\n",
            "10734/10734 [==============================] - 21s 2ms/step - loss: 28162.5391\n",
            "Epoch 6/20\n",
            "10734/10734 [==============================] - 19s 2ms/step - loss: 27581.1914\n",
            "Epoch 7/20\n",
            "10734/10734 [==============================] - 18s 2ms/step - loss: 27018.3672\n",
            "Epoch 8/20\n",
            "10734/10734 [==============================] - 18s 2ms/step - loss: 26489.0078\n",
            "Epoch 9/20\n",
            "10734/10734 [==============================] - 18s 2ms/step - loss: 26075.3887\n",
            "Epoch 10/20\n",
            "10734/10734 [==============================] - 18s 2ms/step - loss: 25553.3379\n",
            "Epoch 11/20\n",
            "10734/10734 [==============================] - 18s 2ms/step - loss: 24942.6914\n",
            "Epoch 12/20\n",
            "10734/10734 [==============================] - 18s 2ms/step - loss: 24397.8359\n",
            "Epoch 13/20\n",
            "10734/10734 [==============================] - 19s 2ms/step - loss: 23969.2422\n",
            "Epoch 14/20\n",
            "10734/10734 [==============================] - 19s 2ms/step - loss: 23464.6367\n",
            "Epoch 15/20\n",
            "10734/10734 [==============================] - 18s 2ms/step - loss: 22913.9941\n",
            "Epoch 16/20\n",
            "10734/10734 [==============================] - 18s 2ms/step - loss: 21859.3027\n",
            "Epoch 17/20\n",
            "10734/10734 [==============================] - 18s 2ms/step - loss: 20886.8047\n",
            "Epoch 18/20\n",
            "10734/10734 [==============================] - 19s 2ms/step - loss: 20012.1758\n",
            "Epoch 19/20\n",
            "10734/10734 [==============================] - 19s 2ms/step - loss: 19254.4043\n",
            "Epoch 20/20\n",
            "10734/10734 [==============================] - 19s 2ms/step - loss: 18709.7637\n"
          ]
        }
      ]
    },
    {
      "cell_type": "code",
      "source": [
        "from sklearn.metrics import r2_score\n",
        "prediction = estimator.predict(X_test)\n",
        "print(\"r_square score: \", r2_score(y_test,prediction))\n",
        "#y_test = sc2.inverse_transform(y_test.reshape(-1,1))\n",
        "yy = np.array(y_test)\n",
        "#yy = np.power(yy, 10)/10\n",
        "#prediction = sc2.inverse_transform(prediction.reshape(-1,1))\n",
        "predd = np.array(prediction)\n",
        "#predd = np.power(predd, 10)/10\n",
        "\n",
        "from sklearn.metrics import mean_squared_error\n",
        "from math import sqrt\n",
        "\n",
        "print(\"RMSE:\")\n",
        "sqrt(mean_squared_error(yy, predd)) "
      ],
      "metadata": {
        "colab": {
          "base_uri": "https://localhost:8080/"
        },
        "id": "1kAlOPDY73hM",
        "outputId": "ef8f995e-7f54-4ffd-e1d0-9ea9d63843d7"
      },
      "execution_count": 6,
      "outputs": [
        {
          "output_type": "stream",
          "name": "stdout",
          "text": [
            "2199/2199 [==============================] - 3s 1ms/step\n",
            "r_square score:  0.9941858141170221\n",
            "RMSE:\n"
          ]
        },
        {
          "output_type": "execute_result",
          "data": {
            "text/plain": [
              "80.93947963339431"
            ]
          },
          "metadata": {},
          "execution_count": 6
        }
      ]
    },
    {
      "cell_type": "code",
      "source": [
        "plt.title('Distribution of RMSE')\n",
        "\n",
        "plt.scatter(yy, predd)"
      ],
      "metadata": {
        "id": "BDgVRLTgabsh",
        "outputId": "08eafcd8-8dc0-4957-b2eb-965df2790eed",
        "colab": {
          "base_uri": "https://localhost:8080/",
          "height": 298
        }
      },
      "execution_count": 7,
      "outputs": [
        {
          "output_type": "execute_result",
          "data": {
            "text/plain": [
              "<matplotlib.collections.PathCollection at 0x7f13800a9590>"
            ]
          },
          "metadata": {},
          "execution_count": 7
        },
        {
          "output_type": "display_data",
          "data": {
            "text/plain": [
              "<Figure size 432x288 with 1 Axes>"
            ],
            "image/png": "[encoded data removed]"
          },
          "metadata": {
            "needs_background": "light"
          }
        }
      ]
    },
    {
      "cell_type": "code",
      "source": [
        "yy_temp = []\n",
        "predd_temp = []\n",
        "\n",
        "for i in range(len(yy)):\n",
        "  if(yy[i]<10):\n",
        "    yy_temp.append(yy[i])\n",
        "    predd_temp.append(predd[i])\n",
        "\n",
        "plt.title('Predicted vs True values for problems in range [0, 10] sec.')\n",
        "plt.xlabel('True')\n",
        "plt.ylabel('Predicted')\n",
        "\n",
        "plt.scatter(yy_temp, predd_temp)\n",
        "#plt.ylim([0, 100])"
      ],
      "metadata": {
        "id": "RZLlyeL-bKWR",
        "outputId": "4b751274-c0d9-4210-8edc-80ce683bdf29",
        "colab": {
          "base_uri": "https://localhost:8080/",
          "height": 312
        }
      },
      "execution_count": 8,
      "outputs": [
        {
          "output_type": "execute_result",
          "data": {
            "text/plain": [
              "<matplotlib.collections.PathCollection at 0x7f1380028710>"
            ]
          },
          "metadata": {},
          "execution_count": 8
        },
        {
          "output_type": "display_data",
          "data": {
            "text/plain": [
              "<Figure size 432x288 with 1 Axes>"
            ],
            "image/png": "[encoded data removed]"
          },
          "metadata": {
            "needs_background": "light"
          }
        }
      ]
    },
    {
      "cell_type": "code",
      "source": [
        "yy_temp = []\n",
        "predd_temp = []\n",
        "\n",
        "for i in range(len(yy)):\n",
        "  if(yy[i]>=10 and yy[i]<1000):\n",
        "    yy_temp.append(yy[i])\n",
        "    predd_temp.append(predd[i])\n",
        "\n",
        "plt.title('Predicted vs True values for problems in range [10, 1000] sec.')\n",
        "plt.xlabel('True')\n",
        "plt.ylabel('Predicted')\n",
        "\n",
        "plt.scatter(yy_temp, predd_temp)"
      ],
      "metadata": {
        "id": "vVKuUJqzd-PR",
        "outputId": "43883d6f-64d3-4ebd-9615-3a2149b54f8b",
        "colab": {
          "base_uri": "https://localhost:8080/",
          "height": 312
        }
      },
      "execution_count": 14,
      "outputs": [
        {
          "output_type": "execute_result",
          "data": {
            "text/plain": [
              "<matplotlib.collections.PathCollection at 0x7f137c437410>"
            ]
          },
          "metadata": {},
          "execution_count": 14
        },
        {
          "output_type": "display_data",
          "data": {
            "text/plain": [
              "<Figure size 432x288 with 1 Axes>"
            ],
            "image/png": "[encoded data removed]"
          },
          "metadata": {
            "needs_background": "light"
          }
        }
      ]
    },
    {
      "cell_type": "code",
      "source": [
        "yy_temp = []\n",
        "predd_temp = []\n",
        "\n",
        "for i in range(len(yy)):\n",
        "  if(yy[i]>=100 and yy[i]<1000):\n",
        "    yy_temp.append(yy[i])\n",
        "    predd_temp.append(predd[i])\n",
        "\n",
        "plt.scatter(yy_temp, predd_temp)"
      ],
      "metadata": {
        "id": "yivEWoQZeHQ0",
        "outputId": "7371fabc-1bb4-42ae-d227-6719077edf0a",
        "colab": {
          "base_uri": "https://localhost:8080/",
          "height": 282
        }
      },
      "execution_count": 10,
      "outputs": [
        {
          "output_type": "execute_result",
          "data": {
            "text/plain": [
              "<matplotlib.collections.PathCollection at 0x7f13812cbf90>"
            ]
          },
          "metadata": {},
          "execution_count": 10
        },
        {
          "output_type": "display_data",
          "data": {
            "text/plain": [
              "<Figure size 432x288 with 1 Axes>"
            ],
            "image/png": "[encoded data removed]"
          },
          "metadata": {
            "needs_background": "light"
          }
        }
      ]
    },
    {
      "cell_type": "code",
      "source": [
        "yy_temp = []\n",
        "predd_temp = []\n",
        "\n",
        "for i in range(len(yy)):\n",
        "  if(yy[i]>=1000):\n",
        "    yy_temp.append(yy[i])\n",
        "    predd_temp.append(predd[i])\n",
        "\n",
        "plt.scatter(yy_temp, predd_temp)"
      ],
      "metadata": {
        "id": "Vv-AOTHGeNhI",
        "outputId": "dcfa338a-085f-49e8-bf56-dbef064e0711",
        "colab": {
          "base_uri": "https://localhost:8080/",
          "height": 282
        }
      },
      "execution_count": 11,
      "outputs": [
        {
          "output_type": "execute_result",
          "data": {
            "text/plain": [
              "<matplotlib.collections.PathCollection at 0x7f1381152bd0>"
            ]
          },
          "metadata": {},
          "execution_count": 11
        },
        {
          "output_type": "display_data",
          "data": {
            "text/plain": [
              "<Figure size 432x288 with 1 Axes>"
            ],
            "image/png": "[encoded data removed]"
          },
          "metadata": {
            "needs_background": "light"
          }
        }
      ]
    }
  ]
}