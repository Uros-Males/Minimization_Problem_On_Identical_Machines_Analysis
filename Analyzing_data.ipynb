{
  "nbformat": 4,
  "nbformat_minor": 0,
  "metadata": {
    "colab": {
      "name": "Analyzing_data.ipynb",
      "provenance": [],
      "authorship_tag": "ABX9TyNwYFWYQvUaDcEE70GMEq/C",
      "include_colab_link": true
    },
    "kernelspec": {
      "name": "python3",
      "display_name": "Python 3"
    },
    "language_info": {
      "name": "python"
    }
  },
  "cells": [
    {
      "cell_type": "markdown",
      "metadata": {
        "id": "view-in-github",
        "colab_type": "text"
      },
      "source": [
        "<a href=\"https://colab.research.google.com/github/Uros-Males/Minimization_Problem_On_Identical_Machines_Analysis/blob/main/Analyzing_data.ipynb\" target=\"_parent\"><img src=\"https://colab.research.google.com/assets/colab-badge.svg\" alt=\"Open In Colab\"/></a>"
      ]
    },
    {
      "cell_type": "code",
      "execution_count": 1,
      "metadata": {
        "id": "ol-tTjMEwIKX"
      },
      "outputs": [],
      "source": [
        "#IN PROGRESS....\n",
        "import pandas as pd\n",
        "import numpy as np\n",
        "import matplotlib.pyplot as plt\n",
        "from sklearn import tree\n",
        "from sklearn.model_selection import train_test_split\n",
        "from sklearn.tree import DecisionTreeRegressor\n",
        "import time\n",
        "\n",
        "df = pd.read_csv('/content/sample_data/C-instances-runtime-analysis.csv')\n",
        "\n",
        "shuffled = df.sample(frac=1).reset_index()\n",
        "\n",
        "columns_dont_want = ['y', 'index', 'inst.name', 'CPLEXStatus','type']\n",
        "select = [x for x in shuffled.columns if x not in columns_dont_want]\n",
        "\n",
        "X = shuffled.loc[:, select]\n",
        "\n",
        "y = shuffled.loc[:,'y']\n"
      ]
    },
    {
      "cell_type": "code",
      "source": [
        "X['m/n'] = X['m/n'].apply(lambda x: x*100000)\n",
        "X['(m/n)^2'] = X['(m/n)^2'].apply(lambda x: x*100000)\n",
        "X['(m/n)^3'] = X['(m/n)^3'].apply(lambda x: x*100000)\n"
      ],
      "metadata": {
        "id": "ZbDAnlffaSiS"
      },
      "execution_count": 23,
      "outputs": []
    },
    {
      "cell_type": "code",
      "source": [
        "from sklearn.ensemble import RandomForestClassifier\n",
        "model = RandomForestClassifier(n_estimators = 50)\n",
        "model.fit(X.astype('int'), y.astype('int'))\n",
        "importances = model.feature_importances_\n",
        "\n",
        "sorted_indices = np.argsort(importances)[::-1]\n",
        " \n",
        "feat_labels = df.columns[1:]\n",
        "\n",
        "fig = plt.figure(figsize = (20, 5))\n",
        "plt.title('Feature Importance')\n",
        "plt.bar(range(X.shape[1]), importances[sorted_indices], align='center')\n",
        "plt.xticks(range(X.shape[1]), X.columns[sorted_indices])\n",
        "plt.tight_layout()\n",
        "plt.show()"
      ],
      "metadata": {
        "colab": {
          "base_uri": "https://localhost:8080/",
          "height": 306
        },
        "id": "WxhRcv4tqld_",
        "outputId": "78e6ea84-9831-42b3-9b13-a40c4aeb12a5"
      },
      "execution_count": 2,
      "outputs": [
        {
          "output_type": "display_data",
          "data": {
            "text/plain": [
              "<Figure size 1440x360 with 1 Axes>"
            ],
            "image/png": "[encoded data removed]"
          },
          "metadata": {
            "needs_background": "light"
          }
        }
      ]
    },
    {
      "cell_type": "code",
      "source": [
        "from sklearn import linear_model\n",
        "from sklearn.preprocessing import PolynomialFeatures\n",
        "\n",
        "r2_list = []\n",
        "r2_list2 = []\n",
        "r2_list3 = []\n",
        "t = np.linspace(0.5, 0.95, 20)\n",
        "\n",
        "start_time = time.time()\n",
        "\n",
        "for i in t:\n",
        "  reg = linear_model.LinearRegression()\n",
        "  X_train, X_test, y_train, y_test = train_test_split(X, y, random_state=0, train_size = i)\n",
        "  reg.fit(X_train, y_train)\n",
        "  r2_list.append(reg.score(X_test, y_test))\n",
        "\n",
        "  reg2 = DecisionTreeRegressor(max_depth = 5, random_state=0); \n",
        "  X_train, X_test, y_train, y_test = train_test_split(X, y, random_state=0, train_size = i)\n",
        "  reg2.fit(X_train, y_train)\n",
        "  r2_list2.append(reg2.score(X_test, y_test))\n",
        "\n",
        "  poly_reg = PolynomialFeatures(degree=3)\n",
        "  X_train, X_test, y_train, y_test = train_test_split(X, y, random_state=0, train_size = i)\n",
        "  X_poly_train = poly_reg.fit_transform(X_train)\n",
        "  pol_reg = linear_model.LinearRegression()\n",
        "  pol_reg.fit(X_poly_train, y_train)\n",
        "  X_poly_test = poly_reg.fit_transform(X_test)\n",
        "  r2_list3.append(pol_reg.score(X_poly_test, y_test))\n",
        "\n",
        "\n",
        "plt.plot(t,r2_list,t,r2_list2,t,r2_list3)\n",
        "plt.legend([\"LinReg\", \"DecTreeReg\", \"PolyReg\"])\n",
        "plt.xlabel(\"Train2DataPercent\")\n",
        "plt.ylabel(\"TestSetPrecision\")\n",
        "plt.title(\"Finding best train to test ratio\")\n",
        "plt.grid()\n",
        "elapsed_time = time.time() - start_time\n",
        "print(elapsed_time)"
      ],
      "metadata": {
        "id": "4omyVVGv_4VD"
      },
      "execution_count": null,
      "outputs": []
    },
    {
      "cell_type": "code",
      "source": [
        "left = 0.8\n",
        "right = 0.9\n",
        "r2_list = np.array(r2_list)\n",
        "r2_list2 = np.array(r2_list2)\n",
        "r2_list3 = np.array(r2_list3)\n",
        "prod_list = np.multiply(r2_list, r2_list2, r2_list3)\n",
        "#plt.plot(t,prod_list)\n",
        "a= np.max(prod_list[np.multiply(t>0.8, t<0.9)])\n",
        "print(t[prod_list == a])"
      ],
      "metadata": {
        "id": "z6E5JAhjrPL5"
      },
      "execution_count": null,
      "outputs": []
    },
    {
      "cell_type": "code",
      "source": [
        "from statsmodels.stats.outliers_influence import variance_inflation_factor\n",
        "\n",
        "def vif_scores(df):\n",
        "    VIF_Scores = pd.DataFrame()\n",
        "    VIF_Scores[\"Independent Features\"] = df.columns\n",
        "    VIF_Scores[\"VIF Scores\"] = [variance_inflation_factor(df.values,i) for i in range(df.shape[1])]\n",
        "    return VIF_Scores\n",
        "\n",
        "vif_scores(X).round(1)\n"
      ],
      "metadata": {
        "id": "p9Mm3DEdNMQl"
      },
      "execution_count": null,
      "outputs": []
    },
    {
      "cell_type": "code",
      "source": [
        "X_modified = X.drop(['max', 'n/m', '(n/m)^2', '(n/m)^3', 'm/n', '(m/n)^2', '(m/n)^3', 'class', 'av.length'], axis = 1)\n",
        "vif_scores(X_modified).round(1)"
      ],
      "metadata": {
        "id": "TTPQ1GhcSGiT"
      },
      "execution_count": null,
      "outputs": []
    },
    {
      "cell_type": "code",
      "source": [
        "r2_list = []\n",
        "r2_list2 = []\n",
        "r2_list3 = []\n",
        "t = np.linspace(0.5, 0.95, 20)\n",
        "\n",
        "start_time = time.time()\n",
        "\n",
        "for i in t:\n",
        "  reg = linear_model.LinearRegression()\n",
        "  X_train, X_test, y_train, y_test = train_test_split(X_modified, y, random_state=0, train_size = i)\n",
        "  reg.fit(X_train, y_train)\n",
        "  r2_list.append(reg.score(X_test, y_test))\n",
        "\n",
        "  reg2 = DecisionTreeRegressor(max_depth = 5, random_state=0); \n",
        "  X_train, X_test, y_train, y_test = train_test_split(X_modified, y, random_state=0, train_size = i)\n",
        "  reg2.fit(X_train, y_train)\n",
        "  r2_list2.append(reg2.score(X_test, y_test))\n",
        "\n",
        "  poly_reg = PolynomialFeatures(degree=3)\n",
        "  X_train, X_test, y_train, y_test = train_test_split(X_modified, y, random_state=0, train_size = i)\n",
        "  X_poly_train = poly_reg.fit_transform(X_train)\n",
        "  pol_reg = linear_model.LinearRegression()\n",
        "  pol_reg.fit(X_poly_train, y_train)\n",
        "  X_poly_test = poly_reg.fit_transform(X_test)\n",
        "  r2_list3.append(pol_reg.score(X_poly_test, y_test))\n",
        "\n",
        "\n",
        "\n",
        "plt.plot(t,r2_list,t,r2_list2,t,r2_list3)\n",
        "plt.legend([\"LinReg\", \"DecTreeReg\", \"PolyReg\"])\n",
        "plt.xlabel(\"Train2DataPercent\")\n",
        "plt.ylabel(\"TestSetPrecision\")\n",
        "plt.title(\"Finding best train to test ratio in modified dataset\")\n",
        "plt.grid()\n",
        "elapsed_time = time.time() - start_time\n",
        "print(elapsed_time)"
      ],
      "metadata": {
        "id": "nOZOvjm7eGzi"
      },
      "execution_count": null,
      "outputs": []
    },
    {
      "cell_type": "code",
      "source": [
        "from sklearn.ensemble import RandomForestClassifier\n",
        "model = RandomForestClassifier(n_estimators = 20)\n",
        "model.fit(X_modified.astype('int'), y.astype('int'))\n",
        "importances = model.feature_importances_\n",
        "\n",
        "coll = [col for col in X_modified.columns]\n",
        "\n",
        "fig = plt.figure(figsize = (20, 5))\n",
        "plt.bar(coll, importances)"
      ],
      "metadata": {
        "id": "ptm85Q3T0F7h"
      },
      "execution_count": null,
      "outputs": []
    }
  ]
}