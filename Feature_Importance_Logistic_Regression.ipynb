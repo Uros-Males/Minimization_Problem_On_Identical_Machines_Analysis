{
  "nbformat": 4,
  "nbformat_minor": 0,
  "metadata": {
    "colab": {
      "name": "Neural_Network_Regression.ipynb",
      "provenance": [],
      "authorship_tag": "ABX9TyNDC/0YZl6Mkm5d1n/rgnO4",
      "include_colab_link": true
    },
    "kernelspec": {
      "name": "python3",
      "display_name": "Python 3"
    },
    "language_info": {
      "name": "python"
    }
  },
  "cells": [
    {
      "cell_type": "markdown",
      "metadata": {
        "id": "view-in-github",
        "colab_type": "text"
      },
      "source": [
        "<a href=\"https://colab.research.google.com/github/Uros-Males/Minimization_Problem_On_Identical_Machines_Analysis/blob/main/Feature_Importance_Logistic_Regression.ipynb\" target=\"_parent\"><img src=\"https://colab.research.google.com/assets/colab-badge.svg\" alt=\"Open In Colab\"/></a>"
      ]
    },
    {
      "cell_type": "code",
      "execution_count": 1,
      "metadata": {
        "id": "YiQcuNkDxHUf",
        "colab": {
          "base_uri": "https://localhost:8080/"
        },
        "outputId": "a64be7dc-e318-42ff-d86e-ff982aeace66"
      },
      "outputs": [
        {
          "output_type": "stream",
          "name": "stdout",
          "text": [
            "8750\n"
          ]
        }
      ],
      "source": [
        "#IN PROGRESS....\n",
        "import pandas as pd\n",
        "import numpy as np\n",
        "import matplotlib.pyplot as plt\n",
        "from sklearn import tree\n",
        "from sklearn.model_selection import train_test_split\n",
        "from sklearn.tree import DecisionTreeRegressor\n",
        "import time\n",
        "\n",
        "df = pd.read_csv('/content/sample_data/C-instances-runtime-analysis.csv')\n",
        "#df = df[df['n/m']!=2]\n",
        "\n",
        "print(df.shape[0])\n",
        "\n",
        "shuffled = df.sample(frac=1).reset_index()\n",
        "\n",
        "columns_dont_want = ['y', 'index', 'inst.name','type', 'CPLEXStatus']\n",
        "select = [x for x in shuffled.columns if x not in columns_dont_want]\n",
        "\n",
        "X = shuffled.loc[:, select]\n",
        "\n",
        "y = shuffled.loc[:,'y']"
      ]
    },
    {
      "cell_type": "code",
      "source": [
        "X_modified = X.drop(['indeks','range', 'subtype'], axis=1)\n",
        "y_new = []\n",
        "for val in y:\n",
        "  if(val<10):\n",
        "    y_new.append(0)\n",
        "  elif(10 <= val and val <100):\n",
        "    y_new.append(1)\n",
        "  elif(100<=val and val<1000):\n",
        "    y_new.append(2)\n",
        "  else:\n",
        "    y_new.append(3)\n",
        "\n",
        "shuffled['y_new'] = y_new\n",
        "#print(shuffled.head())\n",
        "y_encoded = shuffled.loc[:,'y_new']\n",
        "y_new = np.array(y_new)\n",
        "print(X_modified.head())\n",
        "#X_modified = X.drop(['max', 'n/m', '(n/m)^2', '(n/m)^3', 'm/n', '(m/n)^2', '(m/n)^3', 'class', 'av.length'], axis = 1)"
      ],
      "metadata": {
        "id": "Jzlk_oaRyQjm",
        "outputId": "e7950473-df01-4d00-b365-3323455bf775",
        "colab": {
          "base_uri": "https://localhost:8080/"
        }
      },
      "execution_count": 2,
      "outputs": [
        {
          "output_type": "stream",
          "name": "stdout",
          "text": [
            "   class    n   m    n/m   (n/m)^2      (n/m)^3       m/n   (m/n)^2   (m/n)^3  \\\n",
            "0      6  198  18  11.00  121.0000  1331.000000  0.090909  0.008264  0.000751   \n",
            "1      6  120  24   5.00   25.0000   125.000000  0.200000  0.040000  0.008000   \n",
            "2      2  162  72   2.25    5.0625    11.390625  0.444444  0.197531  0.087791   \n",
            "3      1   18   6   3.00    9.0000    27.000000  0.333333  0.111111  0.037037   \n",
            "4      1  160  64   2.50    6.2500    15.625000  0.400000  0.160000  0.064000   \n",
            "\n",
            "    av.length     std.dev  median  min  max    k  \n",
            "0  507.494965  164.243591   503.5  202  792  173  \n",
            "1  296.791656   99.447289   304.0  122  480  102  \n",
            "2   58.728394   22.805967    55.0   20  100   70  \n",
            "3   45.444443   31.704931    43.5    3   96   18  \n",
            "4   50.049999   28.861807    49.0    1  100   83  \n"
          ]
        }
      ]
    },
    {
      "cell_type": "code",
      "source": [
        "from imblearn.over_sampling import RandomOverSampler\n",
        "oversample = RandomOverSampler(random_state=0)\n",
        "#oversample.fit(X_modified, y_encoded)\n",
        "X_modified, y_encoded = oversample.fit_resample(X_modified, y_encoded)\n",
        "\n",
        "from sklearn.preprocessing import LabelEncoder\n",
        "from keras.utils.np_utils import to_categorical\n",
        "\n",
        "l_encode = LabelEncoder()\n",
        "l_encode.fit(y_encoded)\n",
        "y_encoded = l_encode.transform(y_encoded)\n",
        "y_encoded = to_categorical(y_encoded)\n",
        "y_encoded\n",
        "\n",
        "\n",
        "y_new = []\n",
        "for val in y_encoded:\n",
        "  if(val[0]==1):\n",
        "    y_new.append(0)\n",
        "  elif(val[1]==1):\n",
        "    y_new.append(1)\n",
        "  elif(val[2]==1):\n",
        "    y_new.append(2)\n",
        "  else:\n",
        "    y_new.append(3)\n"
      ],
      "metadata": {
        "id": "8fss7ob9uTEP"
      },
      "execution_count": 3,
      "outputs": []
    },
    {
      "cell_type": "code",
      "source": [
        "from sklearn import preprocessing\n",
        "\n",
        "from sklearn.preprocessing import StandardScaler\n",
        "\n",
        "sc = StandardScaler()\n",
        "\n",
        "#X_train, X_test, y_train, y_test = train_test_split(X_modified, y, random_state=0, train_size = 0.83)\n",
        "\n",
        "#X_train = sc.fit_transform(X_train)\n",
        "#X_test = sc.transform(X_test)\n",
        "\n",
        "X_copy = X_modified\n",
        "X_modified = sc.fit_transform(X_modified)\n",
        "\n",
        "from sklearn.linear_model import LogisticRegression\n",
        "model = LogisticRegression()\n",
        "model.fit(X_modified, y_new)\n",
        "\n",
        "importances = model.coef_[0]\n",
        "importances = abs(importances)\n",
        "\n",
        "importances = (importances-np.min(importances))/np.ptp(importances)\n",
        "\n",
        "sorted_indices = np.argsort(importances)[::-1]\n",
        "feat_labels = X_copy.columns[1:]\n",
        "\n",
        "print(importances)\n",
        "\n",
        "plt.figure(figsize=(15, 8))\n",
        "plt.title('Feature Importance')\n",
        "plt.bar(range(X_copy.shape[1]), importances[sorted_indices], align='center')\n",
        "plt.xticks(range(X_copy.shape[1]), X_copy.columns[sorted_indices])\n",
        "plt.tight_layout()\n",
        "plt.show()\n"
      ],
      "metadata": {
        "id": "2JHin8gI5ftQ",
        "outputId": "b69e91ff-8df7-43fe-fb00-6dca748c84b6",
        "colab": {
          "base_uri": "https://localhost:8080/",
          "height": 776
        }
      },
      "execution_count": 4,
      "outputs": [
        {
          "output_type": "stream",
          "name": "stderr",
          "text": [
            "/usr/local/lib/python3.7/dist-packages/sklearn/linear_model/_logistic.py:818: ConvergenceWarning: lbfgs failed to converge (status=1):\n",
            "STOP: TOTAL NO. of ITERATIONS REACHED LIMIT.\n",
            "\n",
            "Increase the number of iterations (max_iter) or scale the data as shown in:\n",
            "    https://scikit-learn.org/stable/modules/preprocessing.html\n",
            "Please also refer to the documentation for alternative solver options:\n",
            "    https://scikit-learn.org/stable/modules/linear_model.html#logistic-regression\n",
            "  extra_warning_msg=_LOGISTIC_SOLVER_CONVERGENCE_MSG,\n"
          ]
        },
        {
          "output_type": "stream",
          "name": "stdout",
          "text": [
            "[0.08989191 1.         0.6624299  0.12312437 0.04954942 0.0862523\n",
            " 0.01972728 0.0569463  0.04024178 0.         0.12694393 0.01347218\n",
            " 0.03167852 0.12814329 0.03061157]\n"
          ]
        },
        {
          "output_type": "display_data",
          "data": {
            "text/plain": [
              "<Figure size 1080x576 with 1 Axes>"
            ],
            "image/png": "[encoded data removed]"
          },
          "metadata": {
            "needs_background": "light"
          }
        }
      ]
    }
  ]
}