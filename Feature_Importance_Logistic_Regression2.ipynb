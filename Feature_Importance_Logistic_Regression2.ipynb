{
  "nbformat": 4,
  "nbformat_minor": 0,
  "metadata": {
    "colab": {
      "name": "Neural_Network_Regression.ipynb",
      "provenance": [],
      "authorship_tag": "ABX9TyMud/4R51J5wxZjq6TeHii4",
      "include_colab_link": true
    },
    "kernelspec": {
      "name": "python3",
      "display_name": "Python 3"
    },
    "language_info": {
      "name": "python"
    }
  },
  "cells": [
    {
      "cell_type": "markdown",
      "metadata": {
        "id": "view-in-github",
        "colab_type": "text"
      },
      "source": [
        "<a href=\"https://colab.research.google.com/github/Uros-Males/Minimization_Problem_On_Identical_Machines_Analysis/blob/main/Feature_Importance_Logistic_Regression2.ipynb\" target=\"_parent\"><img src=\"https://colab.research.google.com/assets/colab-badge.svg\" alt=\"Open In Colab\"/></a>"
      ]
    },
    {
      "cell_type": "code",
      "execution_count": 1,
      "metadata": {
        "id": "YiQcuNkDxHUf",
        "colab": {
          "base_uri": "https://localhost:8080/"
        },
        "outputId": "71ded1a5-c22a-4a48-8683-f8a0fa1022d9"
      },
      "outputs": [
        {
          "output_type": "stream",
          "name": "stdout",
          "text": [
            "700\n"
          ]
        }
      ],
      "source": [
        "#IN PROGRESS....\n",
        "import pandas as pd\n",
        "import numpy as np\n",
        "import matplotlib.pyplot as plt\n",
        "from sklearn import tree\n",
        "from sklearn.model_selection import train_test_split\n",
        "from sklearn.tree import DecisionTreeRegressor\n",
        "import time\n",
        "\n",
        "df = pd.read_csv('/content/sample_data/C-instances-runtime-analysis.csv')\n",
        "df = df[df['n/m']==2]\n",
        "\n",
        "print(df.shape[0])\n",
        "\n",
        "shuffled = df.sample(frac=1).reset_index()\n",
        "\n",
        "columns_dont_want = ['y', 'index', 'inst.name','type', 'CPLEXStatus']\n",
        "select = [x for x in shuffled.columns if x not in columns_dont_want]\n",
        "\n",
        "X = shuffled.loc[:, select]\n",
        "\n",
        "y = shuffled.loc[:,'y']"
      ]
    },
    {
      "cell_type": "code",
      "source": [
        "X_modified = X.drop(['indeks','range', 'subtype'], axis=1)\n",
        "y_new = []\n",
        "for val in y:\n",
        "  if(val<10):\n",
        "    y_new.append(0)\n",
        "  elif(10 <= val and val <100):\n",
        "    y_new.append(1)\n",
        "  elif(100<=val and val<1000):\n",
        "    y_new.append(2)\n",
        "  else:\n",
        "    y_new.append(3)\n",
        "\n",
        "shuffled['y_new'] = y_new\n",
        "#print(shuffled.head())\n",
        "y_encoded = shuffled.loc[:,'y_new']\n",
        "y_new = np.array(y_new)\n",
        "print(X_modified.head())\n",
        "#X_modified = X.drop(['max', 'n/m', '(n/m)^2', '(n/m)^3', 'm/n', '(m/n)^2', '(m/n)^3', 'class', 'av.length'], axis = 1)"
      ],
      "metadata": {
        "id": "Jzlk_oaRyQjm",
        "outputId": "19a54ed0-40e3-4d86-a52b-3116723fdcf1",
        "colab": {
          "base_uri": "https://localhost:8080/"
        }
      },
      "execution_count": 2,
      "outputs": [
        {
          "output_type": "stream",
          "name": "stdout",
          "text": [
            "   class    n   m  n/m  (n/m)^2  (n/m)^3  m/n  (m/n)^2  (m/n)^3  av.length  \\\n",
            "0      1  100  50  2.0      4.0      8.0  0.5     0.25    0.125  52.730000   \n",
            "1      1   80  40  2.0      4.0      8.0  0.5     0.25    0.125  54.037498   \n",
            "2      2   60  30  2.0      4.0      8.0  0.5     0.25    0.125  56.883335   \n",
            "3      7   20  10  2.0      4.0      8.0  0.5     0.25    0.125  85.449997   \n",
            "4      2   20  10  2.0      4.0      8.0  0.5     0.25    0.125  55.349998   \n",
            "\n",
            "     std.dev  median  min  max   k  \n",
            "0  29.015100    53.0    2   98  61  \n",
            "1  30.850988    63.0    2   99  52  \n",
            "2  23.682283    62.5   20  100  42  \n",
            "3  20.828814    90.0   42  111  17  \n",
            "4  20.396788    55.0   21   98  17  \n"
          ]
        }
      ]
    },
    {
      "cell_type": "code",
      "source": [
        "from imblearn.over_sampling import RandomOverSampler\n",
        "oversample = RandomOverSampler(random_state=0)\n",
        "#oversample.fit(X_modified, y_encoded)\n",
        "X_modified, y_encoded = oversample.fit_resample(X_modified, y_encoded)\n",
        "\n",
        "from sklearn.preprocessing import LabelEncoder\n",
        "from keras.utils.np_utils import to_categorical\n",
        "\n",
        "l_encode = LabelEncoder()\n",
        "l_encode.fit(y_encoded)\n",
        "y_encoded = l_encode.transform(y_encoded)\n",
        "y_encoded = to_categorical(y_encoded)\n",
        "y_encoded\n",
        "\n",
        "\n",
        "y_new = []\n",
        "for val in y_encoded:\n",
        "  if(val[0]==1):\n",
        "    y_new.append(0)\n",
        "  elif(val[1]==1):\n",
        "    y_new.append(1)\n",
        "  elif(val[2]==1):\n",
        "    y_new.append(2)\n",
        "  else:\n",
        "    y_new.append(3)\n"
      ],
      "metadata": {
        "id": "8fss7ob9uTEP"
      },
      "execution_count": 3,
      "outputs": []
    },
    {
      "cell_type": "code",
      "source": [
        "from sklearn import preprocessing\n",
        "\n",
        "from sklearn.preprocessing import StandardScaler\n",
        "\n",
        "sc = StandardScaler()\n",
        "\n",
        "#X_train, X_test, y_train, y_test = train_test_split(X_modified, y, random_state=0, train_size = 0.83)\n",
        "\n",
        "#X_train = sc.fit_transform(X_train)\n",
        "#X_test = sc.transform(X_test)\n",
        "\n",
        "X_copy = X_modified\n",
        "X_modified = sc.fit_transform(X_modified)\n",
        "\n",
        "from sklearn.linear_model import LogisticRegression\n",
        "model = LogisticRegression()\n",
        "model.fit(X_modified, y_new)\n",
        "\n",
        "importances = model.coef_[0]\n",
        "importances = abs(importances)\n",
        "\n",
        "importances = (importances-np.min(importances))/np.ptp(importances)\n",
        "\n",
        "sorted_indices = np.argsort(importances)[::-1]\n",
        "feat_labels = X_copy.columns[1:]\n",
        "\n",
        "print(importances)\n",
        "\n",
        "plt.figure(figsize=(15, 8))\n",
        "plt.title('Feature Importance')\n",
        "plt.bar(range(X_copy.shape[1]), importances[sorted_indices], align='center')\n",
        "plt.xticks(range(X_copy.shape[1]), X_copy.columns[sorted_indices])\n",
        "plt.tight_layout()\n",
        "plt.show()\n"
      ],
      "metadata": {
        "id": "2JHin8gI5ftQ",
        "outputId": "2a63bb9d-3c1e-44a9-b71d-54b169b0ac9c",
        "colab": {
          "base_uri": "https://localhost:8080/",
          "height": 776
        }
      },
      "execution_count": 4,
      "outputs": [
        {
          "output_type": "stream",
          "name": "stderr",
          "text": [
            "/usr/local/lib/python3.7/dist-packages/sklearn/linear_model/_logistic.py:818: ConvergenceWarning: lbfgs failed to converge (status=1):\n",
            "STOP: TOTAL NO. of ITERATIONS REACHED LIMIT.\n",
            "\n",
            "Increase the number of iterations (max_iter) or scale the data as shown in:\n",
            "    https://scikit-learn.org/stable/modules/preprocessing.html\n",
            "Please also refer to the documentation for alternative solver options:\n",
            "    https://scikit-learn.org/stable/modules/linear_model.html#logistic-regression\n",
            "  extra_warning_msg=_LOGISTIC_SOLVER_CONVERGENCE_MSG,\n"
          ]
        },
        {
          "output_type": "stream",
          "name": "stdout",
          "text": [
            "[0.00278284 0.13912653 0.13912653 0.         0.         0.\n",
            " 0.         0.         0.         1.         0.32401091 0.17694\n",
            " 0.20457624 0.55786094 0.07596514]\n"
          ]
        },
        {
          "output_type": "display_data",
          "data": {
            "text/plain": [
              "<Figure size 1080x576 with 1 Axes>"
            ],
            "image/png": "[encoded data removed]"
          },
          "metadata": {
            "needs_background": "light"
          }
        }
      ]
    }
  ]
}