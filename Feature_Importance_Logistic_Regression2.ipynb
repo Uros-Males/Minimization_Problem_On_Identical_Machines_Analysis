{
  "nbformat": 4,
  "nbformat_minor": 0,
  "metadata": {
    "colab": {
      "name": "Neural_Network_Regression.ipynb",
      "provenance": [],
      "authorship_tag": "ABX9TyP7yfKKIHYFKRQ3yMZJZZ+3",
      "include_colab_link": true
    },
    "kernelspec": {
      "name": "python3",
      "display_name": "Python 3"
    },
    "language_info": {
      "name": "python"
    }
  },
  "cells": [
    {
      "cell_type": "markdown",
      "metadata": {
        "id": "view-in-github",
        "colab_type": "text"
      },
      "source": [
        "<a href=\"https://colab.research.google.com/github/Uros-Males/Minimization_Problem_On_Identical_Machines_Analysis/blob/main/Feature_Importance_Logistic_Regression2.ipynb\" target=\"_parent\"><img src=\"https://colab.research.google.com/assets/colab-badge.svg\" alt=\"Open In Colab\"/></a>"
      ]
    },
    {
      "cell_type": "code",
      "execution_count": 1,
      "metadata": {
        "id": "YiQcuNkDxHUf",
        "colab": {
          "base_uri": "https://localhost:8080/"
        },
        "outputId": "b5e8f33f-10db-4200-cdfd-fca7c8cace95"
      },
      "outputs": [
        {
          "output_type": "stream",
          "name": "stdout",
          "text": [
            "700\n"
          ]
        }
      ],
      "source": [
        "#IN PROGRESS....\n",
        "import pandas as pd\n",
        "import numpy as np\n",
        "import matplotlib.pyplot as plt\n",
        "from sklearn import tree\n",
        "from sklearn.model_selection import train_test_split\n",
        "from sklearn.tree import DecisionTreeRegressor\n",
        "import time\n",
        "\n",
        "df = pd.read_csv('/content/sample_data/C-instances-runtime-analysis.csv')\n",
        "df = df[df['n/m']==2]\n",
        "#df = df[df['y'] <= 10 or df['y']>1000]\n",
        "\n",
        "print(df.shape[0])\n",
        "\n",
        "shuffled = df.sample(frac=1).reset_index()\n",
        "\n",
        "columns_dont_want = ['y', 'index', 'inst.name','type', 'CPLEXStatus']\n",
        "select = [x for x in shuffled.columns if x not in columns_dont_want]\n",
        "\n",
        "X = shuffled.loc[:, select]\n",
        "\n",
        "y = shuffled.loc[:,'y']"
      ]
    },
    {
      "cell_type": "code",
      "source": [
        "X_modified = X.drop(['indeks','range', 'subtype'], axis=1)\n",
        "y_new = []\n",
        "for val in y:\n",
        "  if(val<10):\n",
        "    y_new.append(0)\n",
        "  elif(10 <= val and val <100):\n",
        "    y_new.append(1)\n",
        "  elif(100<=val and val<1000):\n",
        "    y_new.append(2)\n",
        "  else:\n",
        "    y_new.append(3)\n",
        "\n",
        "\n",
        "shuffled['y_new'] = y_new\n",
        "\n",
        "shuffled = shuffled[shuffled['y_new'] != 1]\n",
        "shuffled = shuffled[shuffled['y_new'] != 2]\n",
        "\n",
        "X = shuffled.loc[:, select]\n",
        "X_modified = X.drop(['indeks','range', 'subtype'], axis=1)\n",
        "\n",
        "#print(shuffled.head())\n",
        "y_encoded = shuffled.loc[:,'y_new']\n",
        "y_new = np.array(y_new)\n",
        "print(X_modified.head())\n",
        "#X_modified = X.drop(['max', 'n/m', '(n/m)^2', '(n/m)^3', 'm/n', '(m/n)^2', '(m/n)^3', 'class', 'av.length'], axis = 1)"
      ],
      "metadata": {
        "id": "Jzlk_oaRyQjm",
        "outputId": "384705d4-24d9-4ba1-fa3c-2ce725c13ad3",
        "colab": {
          "base_uri": "https://localhost:8080/"
        }
      },
      "execution_count": 2,
      "outputs": [
        {
          "output_type": "stream",
          "name": "stdout",
          "text": [
            "   class    n    m  n/m  (n/m)^2  (n/m)^3  m/n  (m/n)^2  (m/n)^3   av.length  \\\n",
            "0      5   20   10  2.0      4.0      8.0  0.5     0.25    0.125  106.650002   \n",
            "1      4  120   60  2.0      4.0      8.0  0.5     0.25    0.125   96.116669   \n",
            "2      7   80   40  2.0      4.0      8.0  0.5     0.25    0.125  329.737488   \n",
            "3      7   80   40  2.0      4.0      8.0  0.5     0.25    0.125  325.674988   \n",
            "4      7  200  100  2.0      4.0      8.0  0.5     0.25    0.125  821.250000   \n",
            "\n",
            "      std.dev  median  min   max    k  \n",
            "0   46.684017   109.0   22   186   19  \n",
            "1   21.736847    95.0   41   148   64  \n",
            "2   74.819901   328.5  129   533   68  \n",
            "3   89.525291   320.0  140   593   70  \n",
            "4  195.515594   834.5  256  1271  179  \n"
          ]
        }
      ]
    },
    {
      "cell_type": "code",
      "source": [
        "from imblearn.over_sampling import SMOTE\n",
        "\n",
        "smote_on_3 = 50\n",
        "oversample = SMOTE(sampling_strategy={0:6000, 3:6000})\n",
        "X_modified, y_encoded = oversample.fit_resample(X_modified, y_encoded)\n",
        "from collections import Counter\n",
        "\n",
        "from sklearn.preprocessing import LabelEncoder\n",
        "from keras.utils.np_utils import to_categorical\n",
        "\n",
        "l_encode = LabelEncoder()\n",
        "l_encode.fit(y_encoded)\n",
        "y_encoded = l_encode.transform(y_encoded)\n",
        "y_encoded = to_categorical(y_encoded)\n",
        "y_encoded\n",
        "\n",
        "\n",
        "y_new = []\n",
        "for val in y_encoded:\n",
        "  if(val[0]==1):\n",
        "    y_new.append(0)\n",
        "  elif(val[1]==1):\n",
        "    y_new.append(1)\n",
        "  elif(val[2]==1):\n",
        "    y_new.append(2)\n",
        "  else:\n",
        "    y_new.append(3)\n"
      ],
      "metadata": {
        "id": "8fss7ob9uTEP",
        "outputId": "fab4f6e1-06ae-4754-fb40-3ea79503bce1",
        "colab": {
          "base_uri": "https://localhost:8080/"
        }
      },
      "execution_count": 3,
      "outputs": [
        {
          "output_type": "stream",
          "name": "stderr",
          "text": [
            "/usr/local/lib/python3.7/dist-packages/imblearn/utils/_validation.py:300: UserWarning: After over-sampling, the number of samples (6000) in class 0 will be larger than the number of samples in the majority class (class #0 -> 509)\n",
            "  f\"After over-sampling, the number of samples ({n_samples})\"\n",
            "/usr/local/lib/python3.7/dist-packages/imblearn/utils/_validation.py:300: UserWarning: After over-sampling, the number of samples (6000) in class 3 will be larger than the number of samples in the majority class (class #0 -> 509)\n",
            "  f\"After over-sampling, the number of samples ({n_samples})\"\n"
          ]
        }
      ]
    },
    {
      "cell_type": "code",
      "source": [
        "from sklearn import preprocessing\n",
        "\n",
        "from sklearn.preprocessing import StandardScaler\n",
        "\n",
        "sc = StandardScaler()\n",
        "\n",
        "#X_train, X_test, y_train, y_test = train_test_split(X_modified, y, random_state=0, train_size = 0.83)\n",
        "\n",
        "#X_train = sc.fit_transform(X_train)\n",
        "#X_test = sc.transform(X_test)\n",
        "\n",
        "X_copy = X_modified\n",
        "X_modified = sc.fit_transform(X_modified)\n",
        "\n",
        "from sklearn.linear_model import LogisticRegression\n",
        "model = LogisticRegression()\n",
        "model.fit(X_modified, y_new)\n",
        "\n",
        "importances = model.coef_[0]\n",
        "importances = abs(importances)\n",
        "\n",
        "importances = (importances-np.min(importances))/np.ptp(importances)\n",
        "\n",
        "sorted_indices = np.argsort(importances)[::-1]\n",
        "feat_labels = X_copy.columns[1:]\n",
        "\n",
        "print(importances)\n",
        "\n",
        "plt.figure(figsize=(15, 8))\n",
        "plt.title('Feature Importance')\n",
        "plt.bar(range(X_copy.shape[1]), importances[sorted_indices], align='center')\n",
        "plt.xticks(range(X_copy.shape[1]), X_copy.columns[sorted_indices])\n",
        "plt.tight_layout()\n",
        "plt.show()\n"
      ],
      "metadata": {
        "id": "2JHin8gI5ftQ",
        "outputId": "971308ed-1d76-455c-ec0f-0c33e35370a9",
        "colab": {
          "base_uri": "https://localhost:8080/",
          "height": 776
        }
      },
      "execution_count": 4,
      "outputs": [
        {
          "output_type": "stream",
          "name": "stderr",
          "text": [
            "/usr/local/lib/python3.7/dist-packages/sklearn/linear_model/_logistic.py:818: ConvergenceWarning: lbfgs failed to converge (status=1):\n",
            "STOP: TOTAL NO. of ITERATIONS REACHED LIMIT.\n",
            "\n",
            "Increase the number of iterations (max_iter) or scale the data as shown in:\n",
            "    https://scikit-learn.org/stable/modules/preprocessing.html\n",
            "Please also refer to the documentation for alternative solver options:\n",
            "    https://scikit-learn.org/stable/modules/linear_model.html#logistic-regression\n",
            "  extra_warning_msg=_LOGISTIC_SOLVER_CONVERGENCE_MSG,\n"
          ]
        },
        {
          "output_type": "stream",
          "name": "stdout",
          "text": [
            "[0.01335665 0.22473523 0.25671666 0.         0.         0.\n",
            " 0.         0.         0.         1.         0.033843   0.27692309\n",
            " 0.03943861 0.65549594 0.06817076]\n"
          ]
        },
        {
          "output_type": "display_data",
          "data": {
            "text/plain": [
              "<Figure size 1080x576 with 1 Axes>"
            ],
            "image/png": "[encoded data removed]"
          },
          "metadata": {
            "needs_background": "light"
          }
        }
      ]
    }
  ]
}