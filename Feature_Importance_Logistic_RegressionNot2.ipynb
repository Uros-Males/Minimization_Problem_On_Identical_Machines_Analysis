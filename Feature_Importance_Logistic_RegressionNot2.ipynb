{
  "nbformat": 4,
  "nbformat_minor": 0,
  "metadata": {
    "colab": {
      "name": "Neural_Network_Regression.ipynb",
      "provenance": [],
      "authorship_tag": "ABX9TyP1tlAVmOoK2IC14FNisT7A",
      "include_colab_link": true
    },
    "kernelspec": {
      "name": "python3",
      "display_name": "Python 3"
    },
    "language_info": {
      "name": "python"
    }
  },
  "cells": [
    {
      "cell_type": "markdown",
      "metadata": {
        "id": "view-in-github",
        "colab_type": "text"
      },
      "source": [
        "<a href=\"https://colab.research.google.com/github/Uros-Males/Minimization_Problem_On_Identical_Machines_Analysis/blob/main/Feature_Importance_Logistic_RegressionNot2.ipynb\" target=\"_parent\"><img src=\"https://colab.research.google.com/assets/colab-badge.svg\" alt=\"Open In Colab\"/></a>"
      ]
    },
    {
      "cell_type": "code",
      "execution_count": 1,
      "metadata": {
        "id": "YiQcuNkDxHUf",
        "colab": {
          "base_uri": "https://localhost:8080/"
        },
        "outputId": "a8c92fc0-4eac-4de7-896d-97f2fb780e55"
      },
      "outputs": [
        {
          "output_type": "stream",
          "name": "stdout",
          "text": [
            "8050\n"
          ]
        }
      ],
      "source": [
        "#IN PROGRESS....\n",
        "import pandas as pd\n",
        "import numpy as np\n",
        "import matplotlib.pyplot as plt\n",
        "from sklearn import tree\n",
        "from sklearn.model_selection import train_test_split\n",
        "from sklearn.tree import DecisionTreeRegressor\n",
        "import time\n",
        "\n",
        "df = pd.read_csv('/content/sample_data/C-instances-runtime-analysis.csv')\n",
        "df = df[df['n/m']!=2]\n",
        "\n",
        "print(df.shape[0])\n",
        "\n",
        "shuffled = df.sample(frac=1).reset_index()\n",
        "\n",
        "columns_dont_want = ['y', 'index', 'inst.name','type', 'CPLEXStatus']\n",
        "select = [x for x in shuffled.columns if x not in columns_dont_want]\n",
        "\n",
        "X = shuffled.loc[:, select]\n",
        "\n",
        "y = shuffled.loc[:,'y']"
      ]
    },
    {
      "cell_type": "code",
      "source": [
        "X_modified = X.drop(['indeks','range', 'subtype'], axis=1)\n",
        "y_new = []\n",
        "for val in y:\n",
        "  if(val<10):\n",
        "    y_new.append(0)\n",
        "  elif(10 <= val and val <100):\n",
        "    y_new.append(1)\n",
        "  elif(100<=val and val<1000):\n",
        "    y_new.append(2)\n",
        "  else:\n",
        "    y_new.append(3)\n",
        "\n",
        "shuffled['y_new'] = y_new\n",
        "#print(shuffled.head())\n",
        "y_encoded = shuffled.loc[:,'y_new']\n",
        "y_new = np.array(y_new)\n",
        "print(X_modified.head())\n",
        "#X_modified = X.drop(['max', 'n/m', '(n/m)^2', '(n/m)^3', 'm/n', '(m/n)^2', '(m/n)^3', 'class', 'av.length'], axis = 1)"
      ],
      "metadata": {
        "id": "Jzlk_oaRyQjm",
        "outputId": "819ea4ce-062e-42a5-d326-32c0547cc813",
        "colab": {
          "base_uri": "https://localhost:8080/"
        }
      },
      "execution_count": 2,
      "outputs": [
        {
          "output_type": "stream",
          "name": "stdout",
          "text": [
            "   class    n   m   n/m  (n/m)^2  (n/m)^3       m/n   (m/n)^2   (m/n)^3  \\\n",
            "0      4  220  20  11.0    121.0   1331.0  0.090909  0.008264  0.000751   \n",
            "1      3   72   8   9.0     81.0    729.0  0.111111  0.012346  0.001372   \n",
            "2      3   40   8   5.0     25.0    125.0  0.200000  0.040000  0.008000   \n",
            "3      2   54   6   9.0     81.0    729.0  0.111111  0.012346  0.001372   \n",
            "4      4  176  16  11.0    121.0   1331.0  0.090909  0.008264  0.000751   \n",
            "\n",
            "    av.length    std.dev  median  min  max   k  \n",
            "0   99.599998  19.333504    98.5   56  151  80  \n",
            "1   73.305557  14.002654    74.0   50  100  39  \n",
            "2   76.199997  14.449203    80.0   51   99  27  \n",
            "3   57.851852  24.469007    57.5   21   96  43  \n",
            "4  101.977272  21.397984   102.5   52  159  79  \n"
          ]
        }
      ]
    },
    {
      "cell_type": "code",
      "source": [
        "from sklearn.preprocessing import LabelEncoder\n",
        "from keras.utils.np_utils import to_categorical\n",
        "\n",
        "l_encode = LabelEncoder()\n",
        "l_encode.fit(y_encoded)\n",
        "y_encoded = l_encode.transform(y_encoded)\n",
        "y_encoded = to_categorical(y_encoded)\n",
        "y_encoded"
      ],
      "metadata": {
        "id": "8fss7ob9uTEP",
        "outputId": "24f8a370-0c46-46cb-efe7-ef8e8671e51a",
        "colab": {
          "base_uri": "https://localhost:8080/"
        }
      },
      "execution_count": 3,
      "outputs": [
        {
          "output_type": "execute_result",
          "data": {
            "text/plain": [
              "array([[0., 0., 0., 1.],\n",
              "       [0., 1., 0., 0.],\n",
              "       [1., 0., 0., 0.],\n",
              "       ...,\n",
              "       [1., 0., 0., 0.],\n",
              "       [0., 1., 0., 0.],\n",
              "       [0., 0., 1., 0.]], dtype=float32)"
            ]
          },
          "metadata": {},
          "execution_count": 3
        }
      ]
    },
    {
      "cell_type": "code",
      "source": [
        "from sklearn import preprocessing\n",
        "\n",
        "from sklearn.preprocessing import StandardScaler\n",
        "\n",
        "sc = StandardScaler()\n",
        "\n",
        "#X_train, X_test, y_train, y_test = train_test_split(X_modified, y, random_state=0, train_size = 0.83)\n",
        "\n",
        "#X_train = sc.fit_transform(X_train)\n",
        "#X_test = sc.transform(X_test)\n",
        "\n",
        "X_copy = X_modified\n",
        "X_modified = sc.fit_transform(X_modified)\n",
        "\n",
        "from sklearn.linear_model import LogisticRegression\n",
        "model = LogisticRegression()\n",
        "model.fit(X_modified, y_new)\n",
        "\n",
        "importances = model.coef_[0]\n",
        "importances = abs(importances)\n",
        "\n",
        "importances = (importances-np.min(importances))/np.ptp(importances)\n",
        "\n",
        "sorted_indices = np.argsort(importances)[::-1]\n",
        "feat_labels = X_copy.columns[1:]\n",
        "\n",
        "print(importances)\n",
        "\n",
        "plt.figure(figsize=(15, 8))\n",
        "plt.title('Feature Importance')\n",
        "plt.bar(range(X_copy.shape[1]), importances[sorted_indices], align='center')\n",
        "plt.xticks(range(X_copy.shape[1]), X_copy.columns[sorted_indices])\n",
        "plt.tight_layout()\n",
        "plt.show()\n"
      ],
      "metadata": {
        "id": "2JHin8gI5ftQ",
        "outputId": "92dbf9f0-a6f3-47ff-db4d-1c0c4c2a5d28",
        "colab": {
          "base_uri": "https://localhost:8080/",
          "height": 776
        }
      },
      "execution_count": 4,
      "outputs": [
        {
          "output_type": "stream",
          "name": "stderr",
          "text": [
            "/usr/local/lib/python3.7/dist-packages/sklearn/linear_model/_logistic.py:818: ConvergenceWarning: lbfgs failed to converge (status=1):\n",
            "STOP: TOTAL NO. of ITERATIONS REACHED LIMIT.\n",
            "\n",
            "Increase the number of iterations (max_iter) or scale the data as shown in:\n",
            "    https://scikit-learn.org/stable/modules/preprocessing.html\n",
            "Please also refer to the documentation for alternative solver options:\n",
            "    https://scikit-learn.org/stable/modules/linear_model.html#logistic-regression\n",
            "  extra_warning_msg=_LOGISTIC_SOLVER_CONVERGENCE_MSG,\n"
          ]
        },
        {
          "output_type": "stream",
          "name": "stdout",
          "text": [
            "[0.04837807 1.         0.50979689 0.10134118 0.         0.06579394\n",
            " 0.06015326 0.00195642 0.00982777 0.0279557  0.22541373 0.0575372\n",
            " 0.0964458  0.30506246 0.13560654]\n"
          ]
        },
        {
          "output_type": "display_data",
          "data": {
            "text/plain": [
              "<Figure size 1080x576 with 1 Axes>"
            ],
            "image/png": "[encoded data removed]"
          },
          "metadata": {
            "needs_background": "light"
          }
        }
      ]
    }
  ]
}