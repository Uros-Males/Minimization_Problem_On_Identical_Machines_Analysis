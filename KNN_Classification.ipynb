{
  "nbformat": 4,
  "nbformat_minor": 0,
  "metadata": {
    "colab": {
      "provenance": [],
      "authorship_tag": "ABX9TyOg3ZSiUV4u93mfIWhiWOaw",
      "include_colab_link": true
    },
    "kernelspec": {
      "name": "python3",
      "display_name": "Python 3"
    },
    "language_info": {
      "name": "python"
    }
  },
  "cells": [
    {
      "cell_type": "markdown",
      "metadata": {
        "id": "view-in-github",
        "colab_type": "text"
      },
      "source": [
        "<a href=\"https://colab.research.google.com/github/Uros-Males/Minimization_Problem_On_Identical_Machines_Analysis/blob/main/KNN_Classification.ipynb\" target=\"_parent\"><img src=\"https://colab.research.google.com/assets/colab-badge.svg\" alt=\"Open In Colab\"/></a>"
      ]
    },
    {
      "cell_type": "code",
      "execution_count": 1,
      "metadata": {
        "colab": {
          "base_uri": "https://localhost:8080/"
        },
        "id": "fe228iXByiqt",
        "outputId": "183596d9-76ec-46da-eff3-08a30aa93c8e"
      },
      "outputs": [
        {
          "output_type": "stream",
          "name": "stdout",
          "text": [
            "8750\n",
            "   subtype  class  indeks    n   m   n/m  (n/m)^2     (n/m)^3       m/n  \\\n",
            "0        2      7       5  162  72  2.25   5.0625   11.390625  0.444444   \n",
            "1       10      7       3   20   4  5.00  25.0000  125.000000  0.200000   \n",
            "2        3      4       9  160  64  2.50   6.2500   15.625000  0.400000   \n",
            "3       12      5       6   90  10  9.00  81.0000  729.000000  0.111111   \n",
            "4        2      7       3  180  80  2.25   5.0625   11.390625  0.444444   \n",
            "\n",
            "    (m/n)^2   (m/n)^3   av.length     std.dev  median  range  min   max    k  \n",
            "0  0.197531  0.087791  640.228394  163.237473   646.0    871  208  1079  144  \n",
            "1  0.040000  0.008000   85.449997   20.828814    90.0     69   42   111   17  \n",
            "2  0.160000  0.064000   98.631248   19.575890   102.0     96   46   142   69  \n",
            "3  0.012346  0.001372   94.111115   40.053181    93.0    210    1   211   70  \n",
            "4  0.197531  0.087792  699.244446  179.917664   686.5   1076  205  1281  154  \n"
          ]
        }
      ],
      "source": [
        "#IN PROGRESS....\n",
        "import pandas as pd\n",
        "import numpy as np\n",
        "import matplotlib.pyplot as plt\n",
        "from sklearn import tree\n",
        "from sklearn.model_selection import train_test_split\n",
        "from sklearn.tree import DecisionTreeRegressor\n",
        "import time\n",
        "import keras\n",
        "\n",
        "df = pd.read_csv('/content/sample_data/C-instances-runtime-analysis.csv')\n",
        "print(df.shape[0])\n",
        "\n",
        "shuffled = df.sample(frac=1).reset_index()\n",
        "\n",
        "columns_dont_want = ['y', 'index', 'inst.name','type', 'CPLEXStatus'] #cple\n",
        "select = [x for x in shuffled.columns if x not in columns_dont_want]\n",
        "\n",
        "X = shuffled.loc[:, select]\n",
        "\n",
        "y = shuffled.loc[:,'y']\n",
        "print(X.head())\n",
        "names = ['indeks', 'n', 'n/m', '(n/m)^2', '(n/m)^3', 'm/n', '(m/n)^2',\n",
        "         '(m/n)^3', 'av.length', 'std.dev', 'median', 'range', 'min', 'max', 'k']\n",
        "#print(names[1])\n"
      ]
    },
    {
      "cell_type": "code",
      "source": [
        "y_new = []\n",
        "for val in y:\n",
        "  if(val<10):\n",
        "    y_new.append(0)\n",
        "  elif(10 <= val and val <100):\n",
        "    y_new.append(1)\n",
        "  elif(100<=val and val<1000):\n",
        "    y_new.append(2)\n",
        "  else:\n",
        "    y_new.append(3)\n",
        "\n",
        "shuffled['y_new'] = y_new\n",
        "\n",
        "from sklearn import preprocessing\n",
        "\n",
        "from sklearn.preprocessing import StandardScaler\n",
        "\n",
        "sc = StandardScaler()\n",
        "\n",
        "X_modified = X.drop(['class', 'm', 'subtype'], axis = 1)\n",
        "\n",
        "\n",
        "X_train, X_test, y_train, y_test = train_test_split(X_modified, y_new, random_state=0, train_size = 0.83)\n",
        "\n",
        "X_train = sc.fit_transform(X_train)\n",
        "X_test_copy = X_test\n",
        "X_test = sc.transform(X_test)\n",
        "\n",
        "from sklearn.neighbors import KNeighborsClassifier\n",
        "\n",
        "\n",
        "neighbors = np.arange(1, 80)\n",
        "train_accuracy = np.empty(len(neighbors))\n",
        "test_accuracy = np.empty(len(neighbors))\n",
        "  \n",
        "for i, k in enumerate(neighbors):\n",
        "    knn = KNeighborsClassifier(n_neighbors=k)\n",
        "    knn.fit(X_train, y_train)\n",
        "      \n",
        "    train_accuracy[i] = knn.score(X_train, y_train)\n",
        "    test_accuracy[i] = knn.score(X_test, y_test)\n",
        "  \n",
        "plt.plot(neighbors, test_accuracy, label = 'Testing dataset Accuracy')\n",
        "plt.plot(neighbors, train_accuracy, label = 'Training dataset Accuracy')\n",
        "  \n",
        "plt.legend()\n",
        "plt.xlabel('n_neighbors')\n",
        "plt.ylabel('Accuracy')\n",
        "plt.grid(True)\n",
        "plt.show()\n",
        "  \n"
      ],
      "metadata": {
        "colab": {
          "base_uri": "https://localhost:8080/",
          "height": 280
        },
        "id": "oLLrpAOPyqpr",
        "outputId": "e860d8d4-12b9-40c3-9ca3-72036291a51d"
      },
      "execution_count": 2,
      "outputs": [
        {
          "output_type": "display_data",
          "data": {
            "text/plain": [
              "<Figure size 432x288 with 1 Axes>"
            ],
            "image/png": "[encoded data removed]"
          },
          "metadata": {
            "needs_background": "light"
          }
        }
      ]
    },
    {
      "cell_type": "code",
      "source": [
        "knn = KNeighborsClassifier(n_neighbors=38)\n",
        "  \n",
        "knn.fit(X_train, y_train)\n",
        "pred_ = knn.predict(X_test)\n",
        "cnt = 0\n",
        "cnt_correct = 0\n",
        "\n",
        "for i in range(len(pred_)):\n",
        "  cnt += 1\n",
        "  if(pred_[i] == y_test[i]):\n",
        "    cnt_correct += 1\n",
        "  if(pred_[i] == 0 and y_test[i]== 3):\n",
        "    #print(X_test[i])\n",
        "    for j in range(len(names)):\n",
        "      print(names[j]+\"->\"+str(X_test_copy.iloc[i][names[j]]))\n",
        "    print(\"------------------------------------------------------------------\")\n",
        "  \n",
        "print(f'accuracy: {(cnt_correct/cnt)*100:.2f}%')"
      ],
      "metadata": {
        "colab": {
          "base_uri": "https://localhost:8080/"
        },
        "id": "pSrsg0x_0ea2",
        "outputId": "533d0aca-92ab-4dc9-919f-e166d8cb4a05"
      },
      "execution_count": 5,
      "outputs": [
        {
          "output_type": "stream",
          "name": "stdout",
          "text": [
            "indeks->2.0\n",
            "n->120.0\n",
            "n/m->2.0\n",
            "(n/m)^2->4.0\n",
            "(n/m)^3->8.0\n",
            "m/n->0.5\n",
            "(m/n)^2->0.25\n",
            "(m/n)^3->0.125\n",
            "av.length->99.625\n",
            "std.dev->48.803493\n",
            "median->100.0\n",
            "range->253.0\n",
            "min->6.0\n",
            "max->259.0\n",
            "k->93.0\n",
            "------------------------------------------------------------------\n",
            "indeks->6.0\n",
            "n->200.0\n",
            "n/m->2.0\n",
            "(n/m)^2->4.0\n",
            "(n/m)^3->8.0\n",
            "m/n->0.5\n",
            "(m/n)^2->0.25\n",
            "(m/n)^3->0.125\n",
            "av.length->101.815002\n",
            "std.dev->50.574791\n",
            "median->99.0\n",
            "range->264.0\n",
            "min->7.0\n",
            "max->271.0\n",
            "k->125.0\n",
            "------------------------------------------------------------------\n",
            "indeks->10.0\n",
            "n->160.0\n",
            "n/m->2.0\n",
            "(n/m)^2->4.0\n",
            "(n/m)^3->8.0\n",
            "m/n->0.5\n",
            "(m/n)^2->0.25\n",
            "(m/n)^3->0.125\n",
            "av.length->103.606247\n",
            "std.dev->48.652172\n",
            "median->101.5\n",
            "range->257.0\n",
            "min->6.0\n",
            "max->263.0\n",
            "k->115.0\n",
            "------------------------------------------------------------------\n",
            "accuracy: 80.85%\n"
          ]
        }
      ]
    },
    {
      "cell_type": "code",
      "source": [
        "from sklearn.metrics import confusion_matrix, ConfusionMatrixDisplay\n",
        "#for i in range(len(pred_)):\n",
        "#  print(true_y[i])\n",
        "#print(confusion_matrix(true_y, pred_, labels=[0, 1, 2, 3]))\n",
        "cm = confusion_matrix(y_test, pred_, labels=[0, 1, 2, 3])\n",
        "cmd = ConfusionMatrixDisplay(cm, display_labels=['easy','moderate', 'hard', 'very hard'])\n",
        "#plt.subplot(1, 2, 1)\n",
        "cmd.plot()\n",
        "print(f'accuracy: {(cnt_correct/cnt)*100:.2f}%')"
      ],
      "metadata": {
        "colab": {
          "base_uri": "https://localhost:8080/",
          "height": 296
        },
        "id": "UPNZ5AGd0K7J",
        "outputId": "d057867d-658a-49ae-fe1c-9b7efd2fc621"
      },
      "execution_count": 6,
      "outputs": [
        {
          "output_type": "stream",
          "name": "stdout",
          "text": [
            "accuracy: 80.85%\n"
          ]
        },
        {
          "output_type": "display_data",
          "data": {
            "text/plain": [
              "<Figure size 432x288 with 2 Axes>"
            ],
            "image/png": "[encoded data removed]"
          },
          "metadata": {
            "needs_background": "light"
          }
        }
      ]
    }
  ]
}