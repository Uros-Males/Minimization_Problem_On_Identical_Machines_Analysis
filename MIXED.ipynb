{
  "nbformat": 4,
  "nbformat_minor": 0,
  "metadata": {
    "colab": {
      "provenance": [],
      "authorship_tag": "ABX9TyOIDKYyb9eAgkbOUBA05Zka",
      "include_colab_link": true
    },
    "kernelspec": {
      "name": "python3",
      "display_name": "Python 3"
    },
    "language_info": {
      "name": "python"
    }
  },
  "cells": [
    {
      "cell_type": "markdown",
      "metadata": {
        "id": "view-in-github",
        "colab_type": "text"
      },
      "source": [
        "<a href=\"https://colab.research.google.com/github/Uros-Males/Minimization_Problem_On_Identical_Machines_Analysis/blob/main/MIXED.ipynb\" target=\"_parent\"><img src=\"https://colab.research.google.com/assets/colab-badge.svg\" alt=\"Open In Colab\"/></a>"
      ]
    },
    {
      "cell_type": "code",
      "execution_count": 1,
      "metadata": {
        "id": "uhGfHQpt3BFR"
      },
      "outputs": [],
      "source": [
        "#IN PROGRESS....\n",
        "import pandas as pd\n",
        "import numpy as np\n",
        "import matplotlib.pyplot as plt\n",
        "from sklearn import tree\n",
        "from sklearn.model_selection import train_test_split\n",
        "from sklearn.tree import DecisionTreeRegressor\n",
        "import time\n",
        "import keras\n",
        "\n",
        "df = pd.read_csv('/content/sample_data/C-instances-runtime-analysis.csv')\n",
        "shuffled = df.sample(frac=1).reset_index()\n",
        "\n",
        "columns_dont_want = ['y', 'index', 'inst.name','type', 'CPLEXStatus'] \n",
        "select = [x for x in shuffled.columns if x not in columns_dont_want]\n",
        "\n",
        "X = shuffled.loc[:, select]\n",
        "\n",
        "y_cp = shuffled.loc[:,'CPLEXStatus']"
      ]
    },
    {
      "cell_type": "code",
      "source": [
        "from imblearn.over_sampling import RandomOverSampler\n",
        "\n",
        "names = [ 'av.length','max','std.dev', 'n', 'm']\n",
        "X_modified = X.drop([ 'k', 'n/m', 'median', 'range',   'min','indeks', 'class',  'subtype', '(m/n)^3', '(m/n)^2', '(n/m)^2', '(n/m)^3','m/n'], axis = 1)\n",
        "#_modified['n/m'] = X_modified['n/m']\n",
        "print(X_modified.head())\n",
        "\n",
        "oversample = RandomOverSampler(random_state=0)\n",
        "#oversample.fit(X_modified, y_encoded)\n",
        "X_modified, y_cp = oversample.fit_resample(X_modified, y_cp)"
      ],
      "metadata": {
        "colab": {
          "base_uri": "https://localhost:8080/"
        },
        "id": "g0KVPiuP3xfb",
        "outputId": "3de54590-9c47-485e-bdbb-c5ed78a53f5d"
      },
      "execution_count": 2,
      "outputs": [
        {
          "output_type": "stream",
          "name": "stdout",
          "text": [
            "     n   m   av.length     std.dev   max\n",
            "0  132  48  101.159088   20.604170   142\n",
            "1   22   2  102.181816   24.102236   150\n",
            "2  140  56   74.778572   14.369768   100\n",
            "3  198  44  811.631287  183.575378  1306\n",
            "4   18   2   45.222221   15.611292    69\n"
          ]
        }
      ]
    },
    {
      "cell_type": "code",
      "source": [
        "from sklearn import preprocessing\n",
        "\n",
        "from sklearn.preprocessing import StandardScaler\n",
        "\n",
        "sc = StandardScaler()\n",
        "\n",
        "X_train, X_test, y_train, y_test = train_test_split(X_modified, y_cp, random_state=0, train_size = 0.83)\n",
        "X_train, X_val, y_train, y_val = train_test_split(X_train, y_train, random_state=0, train_size = 0.83)\n",
        "print(X_train.shape[0])\n",
        "print(X_val.shape[0])\n",
        "print(X_test.shape[0])\n",
        "\n",
        "X_train = sc.fit_transform(X_train)\n",
        "X_test_copy = X_test\n",
        "X_test = sc.transform(X_test)\n",
        "X_val_copy = X_val\n",
        "X_val = sc.transform(X_val)"
      ],
      "metadata": {
        "colab": {
          "base_uri": "https://localhost:8080/"
        },
        "id": "k52bp1Dw4Ivd",
        "outputId": "0608ff63-d9fb-45ca-bc16-681820678cb9"
      },
      "execution_count": 3,
      "outputs": [
        {
          "output_type": "stream",
          "name": "stdout",
          "text": [
            "10104\n",
            "2070\n",
            "2494\n"
          ]
        }
      ]
    },
    {
      "cell_type": "code",
      "source": [
        "from keras.models import Sequential\n",
        "from keras.layers import Dense, Dropout\n",
        "\n",
        "classifier = Sequential()\n",
        "classifier.add(Dense(4, input_dim = X_modified.shape[1], activation='relu'))\n",
        "\n",
        "classifier.add(Dense(8, activation = 'relu'))\n",
        "\n",
        "classifier.add(Dense(32, activation='relu'))\n",
        "classifier.add(Dropout(0.5))\n",
        "\n",
        "classifier.add(Dense(8, activation='relu'))\n",
        "\n",
        "classifier.add(Dense(4, activation='relu'))\n",
        "classifier.add(Dense(1, activation = 'sigmoid'))\n",
        "classifier.compile(loss = 'binary_crossentropy', optimizer = 'adam', metrics = ['binary_accuracy'])"
      ],
      "metadata": {
        "id": "9ofIiKdl4bAk"
      },
      "execution_count": 4,
      "outputs": []
    },
    {
      "cell_type": "code",
      "source": [
        "from keras.metrics import accuracy\n",
        "from keras import callbacks\n",
        "earlystopping = callbacks.EarlyStopping(monitor =\"val_loss\", \n",
        "                                        mode =\"min\", patience = 5, \n",
        "                                        restore_best_weights = True)\n",
        "  \n",
        "history = classifier.fit(X_train, y_train, batch_size = 25, \n",
        "                    epochs = 600, validation_data =(X_val, y_val), \n",
        "                    callbacks =[earlystopping])\n",
        "plt.plot(history.history['binary_accuracy'])"
      ],
      "metadata": {
        "colab": {
          "base_uri": "https://localhost:8080/",
          "height": 1000
        },
        "id": "nHcBr2RS40vk",
        "outputId": "3f4924a6-1b0c-49f0-aef5-694a07e0ee06"
      },
      "execution_count": 5,
      "outputs": [
        {
          "output_type": "stream",
          "name": "stdout",
          "text": [
            "Epoch 1/600\n",
            "405/405 [==============================] - 3s 5ms/step - loss: 0.3794 - binary_accuracy: 0.8627 - val_loss: 0.1714 - val_binary_accuracy: 0.9377\n",
            "Epoch 2/600\n",
            "405/405 [==============================] - 1s 4ms/step - loss: 0.1894 - binary_accuracy: 0.9357 - val_loss: 0.1546 - val_binary_accuracy: 0.9396\n",
            "Epoch 3/600\n",
            "405/405 [==============================] - 1s 4ms/step - loss: 0.1771 - binary_accuracy: 0.9404 - val_loss: 0.1435 - val_binary_accuracy: 0.9454\n",
            "Epoch 4/600\n",
            "405/405 [==============================] - 2s 4ms/step - loss: 0.1667 - binary_accuracy: 0.9399 - val_loss: 0.1367 - val_binary_accuracy: 0.9507\n",
            "Epoch 5/600\n",
            "405/405 [==============================] - 2s 4ms/step - loss: 0.1552 - binary_accuracy: 0.9413 - val_loss: 0.1311 - val_binary_accuracy: 0.9507\n",
            "Epoch 6/600\n",
            "405/405 [==============================] - 1s 3ms/step - loss: 0.1511 - binary_accuracy: 0.9416 - val_loss: 0.1276 - val_binary_accuracy: 0.9517\n",
            "Epoch 7/600\n",
            "405/405 [==============================] - 2s 4ms/step - loss: 0.1462 - binary_accuracy: 0.9426 - val_loss: 0.1255 - val_binary_accuracy: 0.9507\n",
            "Epoch 8/600\n",
            "405/405 [==============================] - 2s 4ms/step - loss: 0.1434 - binary_accuracy: 0.9427 - val_loss: 0.1216 - val_binary_accuracy: 0.9512\n",
            "Epoch 9/600\n",
            "405/405 [==============================] - 2s 4ms/step - loss: 0.1374 - binary_accuracy: 0.9425 - val_loss: 0.1208 - val_binary_accuracy: 0.9536\n",
            "Epoch 10/600\n",
            "405/405 [==============================] - 1s 3ms/step - loss: 0.1378 - binary_accuracy: 0.9433 - val_loss: 0.1194 - val_binary_accuracy: 0.9541\n",
            "Epoch 11/600\n",
            "405/405 [==============================] - 1s 3ms/step - loss: 0.1343 - binary_accuracy: 0.9448 - val_loss: 0.1170 - val_binary_accuracy: 0.9517\n",
            "Epoch 12/600\n",
            "405/405 [==============================] - 2s 4ms/step - loss: 0.1332 - binary_accuracy: 0.9464 - val_loss: 0.1192 - val_binary_accuracy: 0.9517\n",
            "Epoch 13/600\n",
            "405/405 [==============================] - 1s 3ms/step - loss: 0.1313 - binary_accuracy: 0.9455 - val_loss: 0.1159 - val_binary_accuracy: 0.9527\n",
            "Epoch 14/600\n",
            "405/405 [==============================] - 2s 5ms/step - loss: 0.1297 - binary_accuracy: 0.9459 - val_loss: 0.1132 - val_binary_accuracy: 0.9541\n",
            "Epoch 15/600\n",
            "405/405 [==============================] - 1s 2ms/step - loss: 0.1269 - binary_accuracy: 0.9465 - val_loss: 0.1138 - val_binary_accuracy: 0.9541\n",
            "Epoch 16/600\n",
            "405/405 [==============================] - 1s 2ms/step - loss: 0.1279 - binary_accuracy: 0.9462 - val_loss: 0.1159 - val_binary_accuracy: 0.9560\n",
            "Epoch 17/600\n",
            "405/405 [==============================] - 1s 2ms/step - loss: 0.1267 - binary_accuracy: 0.9469 - val_loss: 0.1116 - val_binary_accuracy: 0.9556\n",
            "Epoch 18/600\n",
            "405/405 [==============================] - 1s 2ms/step - loss: 0.1258 - binary_accuracy: 0.9477 - val_loss: 0.1101 - val_binary_accuracy: 0.9560\n",
            "Epoch 19/600\n",
            "405/405 [==============================] - 1s 2ms/step - loss: 0.1253 - binary_accuracy: 0.9489 - val_loss: 0.1113 - val_binary_accuracy: 0.9541\n",
            "Epoch 20/600\n",
            "405/405 [==============================] - 1s 2ms/step - loss: 0.1226 - binary_accuracy: 0.9495 - val_loss: 0.1132 - val_binary_accuracy: 0.9556\n",
            "Epoch 21/600\n",
            "405/405 [==============================] - 1s 2ms/step - loss: 0.1209 - binary_accuracy: 0.9506 - val_loss: 0.1107 - val_binary_accuracy: 0.9585\n",
            "Epoch 22/600\n",
            "405/405 [==============================] - 1s 2ms/step - loss: 0.1220 - binary_accuracy: 0.9488 - val_loss: 0.1089 - val_binary_accuracy: 0.9580\n",
            "Epoch 23/600\n",
            "405/405 [==============================] - 1s 2ms/step - loss: 0.1208 - binary_accuracy: 0.9517 - val_loss: 0.1091 - val_binary_accuracy: 0.9546\n",
            "Epoch 24/600\n",
            "405/405 [==============================] - 1s 2ms/step - loss: 0.1193 - binary_accuracy: 0.9510 - val_loss: 0.1065 - val_binary_accuracy: 0.9565\n",
            "Epoch 25/600\n",
            "405/405 [==============================] - 1s 2ms/step - loss: 0.1166 - binary_accuracy: 0.9524 - val_loss: 0.1067 - val_binary_accuracy: 0.9604\n",
            "Epoch 26/600\n",
            "405/405 [==============================] - 1s 2ms/step - loss: 0.1163 - binary_accuracy: 0.9523 - val_loss: 0.1061 - val_binary_accuracy: 0.9585\n",
            "Epoch 27/600\n",
            "405/405 [==============================] - 1s 2ms/step - loss: 0.1157 - binary_accuracy: 0.9538 - val_loss: 0.1083 - val_binary_accuracy: 0.9594\n",
            "Epoch 28/600\n",
            "405/405 [==============================] - 1s 2ms/step - loss: 0.1152 - binary_accuracy: 0.9548 - val_loss: 0.1037 - val_binary_accuracy: 0.9589\n",
            "Epoch 29/600\n",
            "405/405 [==============================] - 1s 2ms/step - loss: 0.1121 - binary_accuracy: 0.9547 - val_loss: 0.1039 - val_binary_accuracy: 0.9614\n",
            "Epoch 30/600\n",
            "405/405 [==============================] - 1s 2ms/step - loss: 0.1116 - binary_accuracy: 0.9546 - val_loss: 0.1040 - val_binary_accuracy: 0.9565\n",
            "Epoch 31/600\n",
            "405/405 [==============================] - 1s 2ms/step - loss: 0.1093 - binary_accuracy: 0.9543 - val_loss: 0.1021 - val_binary_accuracy: 0.9618\n",
            "Epoch 32/600\n",
            "405/405 [==============================] - 1s 2ms/step - loss: 0.1091 - binary_accuracy: 0.9562 - val_loss: 0.0993 - val_binary_accuracy: 0.9633\n",
            "Epoch 33/600\n",
            "405/405 [==============================] - 1s 2ms/step - loss: 0.1080 - binary_accuracy: 0.9567 - val_loss: 0.0993 - val_binary_accuracy: 0.9618\n",
            "Epoch 34/600\n",
            "405/405 [==============================] - 1s 2ms/step - loss: 0.1090 - binary_accuracy: 0.9565 - val_loss: 0.0994 - val_binary_accuracy: 0.9623\n",
            "Epoch 35/600\n",
            "405/405 [==============================] - 1s 2ms/step - loss: 0.1074 - binary_accuracy: 0.9591 - val_loss: 0.0967 - val_binary_accuracy: 0.9638\n",
            "Epoch 36/600\n",
            "405/405 [==============================] - 1s 2ms/step - loss: 0.1067 - binary_accuracy: 0.9573 - val_loss: 0.0977 - val_binary_accuracy: 0.9614\n",
            "Epoch 37/600\n",
            "405/405 [==============================] - 1s 2ms/step - loss: 0.1044 - binary_accuracy: 0.9576 - val_loss: 0.0994 - val_binary_accuracy: 0.9604\n",
            "Epoch 38/600\n",
            "405/405 [==============================] - 1s 2ms/step - loss: 0.1028 - binary_accuracy: 0.9581 - val_loss: 0.0954 - val_binary_accuracy: 0.9609\n",
            "Epoch 39/600\n",
            "405/405 [==============================] - 1s 2ms/step - loss: 0.1032 - binary_accuracy: 0.9576 - val_loss: 0.0953 - val_binary_accuracy: 0.9628\n",
            "Epoch 40/600\n",
            "405/405 [==============================] - 1s 2ms/step - loss: 0.1022 - binary_accuracy: 0.9570 - val_loss: 0.0935 - val_binary_accuracy: 0.9652\n",
            "Epoch 41/600\n",
            "405/405 [==============================] - 1s 2ms/step - loss: 0.1014 - binary_accuracy: 0.9586 - val_loss: 0.0940 - val_binary_accuracy: 0.9628\n",
            "Epoch 42/600\n",
            "405/405 [==============================] - 1s 2ms/step - loss: 0.1023 - binary_accuracy: 0.9582 - val_loss: 0.0958 - val_binary_accuracy: 0.9604\n",
            "Epoch 43/600\n",
            "405/405 [==============================] - 1s 2ms/step - loss: 0.1035 - binary_accuracy: 0.9591 - val_loss: 0.0942 - val_binary_accuracy: 0.9638\n",
            "Epoch 44/600\n",
            "405/405 [==============================] - 1s 2ms/step - loss: 0.0983 - binary_accuracy: 0.9594 - val_loss: 0.0912 - val_binary_accuracy: 0.9638\n",
            "Epoch 45/600\n",
            "405/405 [==============================] - 1s 2ms/step - loss: 0.0979 - binary_accuracy: 0.9616 - val_loss: 0.0928 - val_binary_accuracy: 0.9652\n",
            "Epoch 46/600\n",
            "405/405 [==============================] - 1s 2ms/step - loss: 0.0990 - binary_accuracy: 0.9607 - val_loss: 0.0942 - val_binary_accuracy: 0.9633\n",
            "Epoch 47/600\n",
            "405/405 [==============================] - 1s 2ms/step - loss: 0.0959 - binary_accuracy: 0.9618 - val_loss: 0.0877 - val_binary_accuracy: 0.9671\n",
            "Epoch 48/600\n",
            "405/405 [==============================] - 1s 2ms/step - loss: 0.0963 - binary_accuracy: 0.9607 - val_loss: 0.0886 - val_binary_accuracy: 0.9681\n",
            "Epoch 49/600\n",
            "405/405 [==============================] - 1s 2ms/step - loss: 0.0976 - binary_accuracy: 0.9615 - val_loss: 0.0897 - val_binary_accuracy: 0.9667\n",
            "Epoch 50/600\n",
            "405/405 [==============================] - 1s 2ms/step - loss: 0.0942 - binary_accuracy: 0.9625 - val_loss: 0.0895 - val_binary_accuracy: 0.9676\n",
            "Epoch 51/600\n",
            "405/405 [==============================] - 1s 2ms/step - loss: 0.0948 - binary_accuracy: 0.9631 - val_loss: 0.0884 - val_binary_accuracy: 0.9686\n",
            "Epoch 52/600\n",
            "405/405 [==============================] - 1s 2ms/step - loss: 0.0934 - binary_accuracy: 0.9638 - val_loss: 0.0856 - val_binary_accuracy: 0.9671\n",
            "Epoch 53/600\n",
            "405/405 [==============================] - 1s 2ms/step - loss: 0.0936 - binary_accuracy: 0.9640 - val_loss: 0.0850 - val_binary_accuracy: 0.9710\n",
            "Epoch 54/600\n",
            "405/405 [==============================] - 1s 2ms/step - loss: 0.0924 - binary_accuracy: 0.9652 - val_loss: 0.0855 - val_binary_accuracy: 0.9691\n",
            "Epoch 55/600\n",
            "405/405 [==============================] - 1s 2ms/step - loss: 0.0925 - binary_accuracy: 0.9650 - val_loss: 0.0933 - val_binary_accuracy: 0.9647\n",
            "Epoch 56/600\n",
            "405/405 [==============================] - 1s 2ms/step - loss: 0.0926 - binary_accuracy: 0.9646 - val_loss: 0.0866 - val_binary_accuracy: 0.9662\n",
            "Epoch 57/600\n",
            "405/405 [==============================] - 1s 2ms/step - loss: 0.0912 - binary_accuracy: 0.9655 - val_loss: 0.0854 - val_binary_accuracy: 0.9686\n",
            "Epoch 58/600\n",
            "405/405 [==============================] - 1s 2ms/step - loss: 0.0923 - binary_accuracy: 0.9649 - val_loss: 0.0858 - val_binary_accuracy: 0.9671\n"
          ]
        },
        {
          "output_type": "execute_result",
          "data": {
            "text/plain": [
              "[<matplotlib.lines.Line2D at 0x7fa8a5a32690>]"
            ]
          },
          "metadata": {},
          "execution_count": 5
        },
        {
          "output_type": "display_data",
          "data": {
            "text/plain": [
              "<Figure size 432x288 with 1 Axes>"
            ],
            "image/png": "[encoded data removed]"
          },
          "metadata": {
            "needs_background": "light"
          }
        }
      ]
    },
    {
      "cell_type": "code",
      "source": [
        "from keras.metrics import accuracy\n",
        "pred = classifier.predict(X_val)\n",
        "for i in range(len(pred)):\n",
        "  if(pred[i][0]>0.9):\n",
        "    pred[i] = 1\n",
        "  else:\n",
        "    pred[i]=0\n",
        "\n",
        "from sklearn.metrics import confusion_matrix, ConfusionMatrixDisplay\n",
        "\n",
        "cm = confusion_matrix(y_val, pred, labels=[0, 1])\n",
        "cmd = ConfusionMatrixDisplay(cm, display_labels=['not solved', 'solved'])\n",
        "cmd.plot()"
      ],
      "metadata": {
        "colab": {
          "base_uri": "https://localhost:8080/",
          "height": 296
        },
        "id": "p1Q6-Xv35dRh",
        "outputId": "2a9905fe-80d6-438d-df41-304f78d0b690"
      },
      "execution_count": 6,
      "outputs": [
        {
          "output_type": "execute_result",
          "data": {
            "text/plain": [
              "<sklearn.metrics._plot.confusion_matrix.ConfusionMatrixDisplay at 0x7fa8a999cbd0>"
            ]
          },
          "metadata": {},
          "execution_count": 6
        },
        {
          "output_type": "display_data",
          "data": {
            "text/plain": [
              "<Figure size 432x288 with 2 Axes>"
            ],
            "image/png": "[encoded data removed]"
          },
          "metadata": {
            "needs_background": "light"
          }
        }
      ]
    },
    {
      "cell_type": "code",
      "source": [
        "from keras.metrics import accuracy\n",
        "pred = classifier.predict(X_test)\n",
        "for i in range(len(pred)):\n",
        "  if(pred[i][0]>0.9):\n",
        "    pred[i] = 1\n",
        "  else:\n",
        "    pred[i]=0\n",
        "\n",
        "from sklearn.metrics import confusion_matrix, ConfusionMatrixDisplay\n",
        "\n",
        "cm = confusion_matrix(y_test, pred, labels=[0, 1])\n",
        "cmd = ConfusionMatrixDisplay(cm, display_labels=['not solved', 'solved'])\n",
        "cmd.plot()"
      ],
      "metadata": {
        "colab": {
          "base_uri": "https://localhost:8080/",
          "height": 296
        },
        "id": "op4336uA5qAD",
        "outputId": "b795e026-7c0e-4701-f838-86681e0da437"
      },
      "execution_count": 7,
      "outputs": [
        {
          "output_type": "execute_result",
          "data": {
            "text/plain": [
              "<sklearn.metrics._plot.confusion_matrix.ConfusionMatrixDisplay at 0x7fa8a59e48d0>"
            ]
          },
          "metadata": {},
          "execution_count": 7
        },
        {
          "output_type": "display_data",
          "data": {
            "text/plain": [
              "<Figure size 432x288 with 2 Axes>"
            ],
            "image/png": "[encoded data removed]"
          },
          "metadata": {
            "needs_background": "light"
          }
        }
      ]
    },
    {
      "cell_type": "code",
      "source": [
        "df = pd.read_csv('/content/sample_data/C-instances-runtime-analysis.csv')\n",
        "#df = df[df['n/m']!=2]\n",
        "\n",
        "shuffled = df.sample(frac=1).reset_index()\n",
        "\n",
        "columns_dont_want = ['y', 'index', 'inst.name','type', 'CPLEXStatus'] \n",
        "select = [x for x in shuffled.columns if x not in columns_dont_want]\n",
        "\n",
        "X = shuffled.loc[:, select]\n",
        "\n",
        "y = shuffled.loc[:,'y']\n",
        "print(X.head())"
      ],
      "metadata": {
        "colab": {
          "base_uri": "https://localhost:8080/"
        },
        "id": "akW0H0ux53q3",
        "outputId": "9e612493-0862-4030-8beb-a2030154fb39"
      },
      "execution_count": 8,
      "outputs": [
        {
          "output_type": "stream",
          "name": "stdout",
          "text": [
            "   subtype  class  indeks    n   m    n/m   (n/m)^2      (n/m)^3       m/n  \\\n",
            "0       11      4      10   54   9   6.00   36.0000   216.000000  0.166667   \n",
            "1        4      1       5   22   8   2.75    7.5625    20.796875  0.363636   \n",
            "2       13      4      10  200  20  10.00  100.0000  1000.000000  0.100000   \n",
            "3        2      6       9   36  16   2.25    5.0625    11.390625  0.444444   \n",
            "4        9      4       3   72  16   4.50   20.2500    91.125000  0.222222   \n",
            "\n",
            "    (m/n)^2   (m/n)^3   av.length    std.dev  median  range  min  max   k  \n",
            "0  0.027778  0.004630  102.907410  19.859192   103.5     80   62  142  38  \n",
            "1  0.132231  0.048084   39.045456  23.935385    38.5     82    5   87  21  \n",
            "2  0.010000  0.001000   99.264999  20.517794    99.0    104   42  146  75  \n",
            "3  0.197531  0.087791   87.527779  29.969969    88.5    102   36  138  30  \n",
            "4  0.049383  0.010974   99.652779  18.667709   100.0     81   63  144  43  \n"
          ]
        }
      ]
    },
    {
      "cell_type": "code",
      "source": [
        "y_new = []\n",
        "for val in y:\n",
        "  if(val<10):\n",
        "    y_new.append(0)\n",
        "  elif(10 <= val and val <100):\n",
        "    y_new.append(1)\n",
        "  elif(100<=val and val<1000):\n",
        "    y_new.append(2)\n",
        "  else:\n",
        "    y_new.append(3)\n",
        "\n",
        "shuffled['y_new'] = y_new\n",
        "y_encoded = shuffled.loc[:,'y_new']\n",
        "y_new = np.array(y_new)\n",
        "\n",
        "X_modified = X"
      ],
      "metadata": {
        "id": "9aB7Ge0A65Th"
      },
      "execution_count": 9,
      "outputs": []
    },
    {
      "cell_type": "code",
      "source": [
        "from imblearn.over_sampling import RandomOverSampler\n",
        "\n",
        "names = [ 'av.length','max','std.dev', 'n', 'm']\n",
        "X_modified = X.drop([ 'k', 'n/m', 'median', 'range',   'min','indeks', 'class',  'subtype', '(m/n)^3', '(m/n)^2', '(n/m)^2', '(n/m)^3','m/n'], axis = 1)\n",
        "print(X_modified.head())\n",
        "\n",
        "oversample = RandomOverSampler(random_state=0)\n",
        "#oversample.fit(X_modified, y_encoded)\n",
        "X_modified, y_encoded = oversample.fit_resample(X_modified, y_encoded)"
      ],
      "metadata": {
        "colab": {
          "base_uri": "https://localhost:8080/"
        },
        "id": "Vec_YdUF7Bdv",
        "outputId": "7d4b8068-1645-4fef-ef79-0b81eea72384"
      },
      "execution_count": 10,
      "outputs": [
        {
          "output_type": "stream",
          "name": "stdout",
          "text": [
            "     n   m   av.length    std.dev  max\n",
            "0   54   9  102.907410  19.859192  142\n",
            "1   22   8   39.045456  23.935385   87\n",
            "2  200  20   99.264999  20.517794  146\n",
            "3   36  16   87.527779  29.969969  138\n",
            "4   72  16   99.652779  18.667709  144\n"
          ]
        }
      ]
    },
    {
      "cell_type": "code",
      "source": [
        "from sklearn.preprocessing import LabelEncoder\n",
        "from keras.utils.np_utils import to_categorical\n",
        "\n",
        "l_encode = LabelEncoder()\n",
        "l_encode.fit(y_encoded)\n",
        "y_encoded = l_encode.transform(y_encoded)\n",
        "y_encoded = to_categorical(y_encoded)"
      ],
      "metadata": {
        "id": "pCEWLSvK7yNm"
      },
      "execution_count": 11,
      "outputs": []
    },
    {
      "cell_type": "code",
      "source": [
        "from sklearn import preprocessing\n",
        "\n",
        "from sklearn.preprocessing import StandardScaler\n",
        "\n",
        "sc = StandardScaler()\n",
        "\n",
        "X_train, X_test, y_train, y_test = train_test_split(X_modified, y_encoded, random_state=0, train_size = 0.9)\n",
        "X_train, X_val, y_train, y_val = train_test_split(X_train, y_train, random_state=0, train_size = 0.9)\n",
        "print(X_train.shape[0])\n",
        "print(X_val.shape[0])\n",
        "print(X_test.shape[0])\n",
        "\n",
        "X_train = sc.fit_transform(X_train)\n",
        "X_test_copy = X_test\n",
        "X_test = sc.transform(X_test)\n",
        "X_val_copy = X_val\n",
        "X_val = sc.transform(X_val)"
      ],
      "metadata": {
        "colab": {
          "base_uri": "https://localhost:8080/"
        },
        "id": "hOgSvK8F77nu",
        "outputId": "c38b62e1-8bfe-4229-b2c9-b7e791b34b2e"
      },
      "execution_count": 12,
      "outputs": [
        {
          "output_type": "stream",
          "name": "stdout",
          "text": [
            "10121\n",
            "1125\n",
            "1250\n"
          ]
        }
      ]
    },
    {
      "cell_type": "code",
      "source": [
        "pred = classifier.predict(X_train)\n",
        "for i in range(len(pred)):\n",
        "  if(pred[i][0]>0.2):\n",
        "    pred[i] = 1\n",
        "  else:\n",
        "    pred[i]=0\n",
        "X_train = pd.DataFrame(X_train, columns = names)\n",
        "X_train['CPLEX'] = pred"
      ],
      "metadata": {
        "id": "3K_O6goP_LTC"
      },
      "execution_count": 13,
      "outputs": []
    },
    {
      "cell_type": "code",
      "source": [
        "pred = classifier.predict(X_val)\n",
        "for i in range(len(pred)):\n",
        "  if(pred[i][0]>0.2):\n",
        "    pred[i] = 1\n",
        "  else:\n",
        "    pred[i]=0\n",
        "X_val = pd.DataFrame(X_val, columns = names)\n",
        "X_val['CPLEX'] = pred"
      ],
      "metadata": {
        "id": "0M9Qv0hW_8b7"
      },
      "execution_count": 14,
      "outputs": []
    },
    {
      "cell_type": "code",
      "source": [
        "pred = classifier.predict(X_test)\n",
        "for i in range(len(pred)):\n",
        "  if(pred[i][0]>0.2):\n",
        "    pred[i] = 1\n",
        "  else:\n",
        "    pred[i]=0\n",
        "X_test = pd.DataFrame(X_test, columns = names)\n",
        "X_test['CPLEX'] = pred\n",
        "print(X_test.head())"
      ],
      "metadata": {
        "colab": {
          "base_uri": "https://localhost:8080/"
        },
        "id": "zuB_pNOz_-yC",
        "outputId": "bf8ef685-45e6-45ef-e44a-5f8a1e8026e8"
      },
      "execution_count": 15,
      "outputs": [
        {
          "output_type": "stream",
          "name": "stdout",
          "text": [
            "   av.length       max   std.dev         n         m  CPLEX\n",
            "0   1.467268 -0.456408 -0.658397 -0.474348 -0.607941    0.0\n",
            "1   0.823191  0.172313 -0.586185 -0.585939 -0.607941    1.0\n",
            "2   0.857089  1.968660 -0.382955 -0.057951 -0.191279    1.0\n",
            "3   1.162179  1.968660  3.111856  2.593288  3.230814    0.0\n",
            "4   1.501167  0.531583 -0.366847 -0.016749 -0.023931    0.0\n"
          ]
        }
      ]
    },
    {
      "cell_type": "code",
      "source": [
        "from keras.models import Sequential\n",
        "from keras.layers import Dense, Dropout\n",
        "\n",
        "classifier2 = Sequential()\n",
        "classifier2.add(Dense(4, input_dim = X_modified.shape[1]+1, activation='relu'))\n",
        "\n",
        "classifier2.add(Dense(8, activation = 'relu'))\n",
        "\n",
        "\n",
        "classifier2.add(Dense(64, activation='relu'))\n",
        "classifier2.add(Dropout(0.5))\n",
        "\n",
        "classifier2.add(Dense(8, activation='relu'))\n",
        "\n",
        "classifier2.add(Dense(4, activation='relu'))\n",
        "\n",
        "classifier2.add(Dense(4, activation = 'softmax'))\n",
        "classifier2.compile(loss = 'categorical_crossentropy', optimizer = 'adam', metrics = ['accuracy'])"
      ],
      "metadata": {
        "id": "oeQ6KkuR8NxX"
      },
      "execution_count": 16,
      "outputs": []
    },
    {
      "cell_type": "code",
      "source": [
        "from keras.metrics import accuracy\n",
        "from keras import callbacks\n",
        "earlystopping = callbacks.EarlyStopping(monitor =\"val_loss\", \n",
        "                                        mode =\"min\", patience = 12, \n",
        "                                        restore_best_weights = True)\n",
        "  \n",
        "history = classifier2.fit(X_train, y_train, batch_size = 32, \n",
        "                    epochs = 600, validation_data =(X_val, y_val), \n",
        "                    callbacks =[earlystopping])\n",
        "plt.plot(history.history['val_accuracy'])"
      ],
      "metadata": {
        "colab": {
          "base_uri": "https://localhost:8080/",
          "height": 1000
        },
        "id": "NqMJJV_f8p6i",
        "outputId": "9bfcb568-dee6-48f9-f4fb-ad9663ed357c"
      },
      "execution_count": 17,
      "outputs": [
        {
          "output_type": "stream",
          "name": "stdout",
          "text": [
            "Epoch 1/600\n",
            "317/317 [==============================] - 1s 3ms/step - loss: 1.2057 - accuracy: 0.4284 - val_loss: 0.9885 - val_accuracy: 0.5991\n",
            "Epoch 2/600\n",
            "317/317 [==============================] - 1s 2ms/step - loss: 0.9102 - accuracy: 0.6265 - val_loss: 0.8054 - val_accuracy: 0.6916\n",
            "Epoch 3/600\n",
            "317/317 [==============================] - 1s 2ms/step - loss: 0.7787 - accuracy: 0.6795 - val_loss: 0.7136 - val_accuracy: 0.7262\n",
            "Epoch 4/600\n",
            "317/317 [==============================] - 1s 2ms/step - loss: 0.6913 - accuracy: 0.7038 - val_loss: 0.6068 - val_accuracy: 0.7404\n",
            "Epoch 5/600\n",
            "317/317 [==============================] - 1s 2ms/step - loss: 0.6292 - accuracy: 0.7341 - val_loss: 0.5685 - val_accuracy: 0.7591\n",
            "Epoch 6/600\n",
            "317/317 [==============================] - 1s 2ms/step - loss: 0.6028 - accuracy: 0.7437 - val_loss: 0.5571 - val_accuracy: 0.7707\n",
            "Epoch 7/600\n",
            "317/317 [==============================] - 1s 2ms/step - loss: 0.5869 - accuracy: 0.7535 - val_loss: 0.5494 - val_accuracy: 0.7742\n",
            "Epoch 8/600\n",
            "317/317 [==============================] - 1s 2ms/step - loss: 0.5754 - accuracy: 0.7581 - val_loss: 0.5425 - val_accuracy: 0.7787\n",
            "Epoch 9/600\n",
            "317/317 [==============================] - 1s 2ms/step - loss: 0.5701 - accuracy: 0.7667 - val_loss: 0.5342 - val_accuracy: 0.7822\n",
            "Epoch 10/600\n",
            "317/317 [==============================] - 1s 2ms/step - loss: 0.5658 - accuracy: 0.7623 - val_loss: 0.5362 - val_accuracy: 0.7787\n",
            "Epoch 11/600\n",
            "317/317 [==============================] - 1s 2ms/step - loss: 0.5548 - accuracy: 0.7676 - val_loss: 0.5485 - val_accuracy: 0.7778\n",
            "Epoch 12/600\n",
            "317/317 [==============================] - 1s 2ms/step - loss: 0.5556 - accuracy: 0.7733 - val_loss: 0.5220 - val_accuracy: 0.7929\n",
            "Epoch 13/600\n",
            "317/317 [==============================] - 1s 2ms/step - loss: 0.5555 - accuracy: 0.7692 - val_loss: 0.5148 - val_accuracy: 0.7893\n",
            "Epoch 14/600\n",
            "317/317 [==============================] - 1s 2ms/step - loss: 0.5437 - accuracy: 0.7780 - val_loss: 0.5260 - val_accuracy: 0.7751\n",
            "Epoch 15/600\n",
            "317/317 [==============================] - 1s 2ms/step - loss: 0.5474 - accuracy: 0.7763 - val_loss: 0.5173 - val_accuracy: 0.7902\n",
            "Epoch 16/600\n",
            "317/317 [==============================] - 1s 2ms/step - loss: 0.5425 - accuracy: 0.7763 - val_loss: 0.5112 - val_accuracy: 0.7938\n",
            "Epoch 17/600\n",
            "317/317 [==============================] - 1s 2ms/step - loss: 0.5432 - accuracy: 0.7776 - val_loss: 0.5083 - val_accuracy: 0.7956\n",
            "Epoch 18/600\n",
            "317/317 [==============================] - 1s 2ms/step - loss: 0.5368 - accuracy: 0.7820 - val_loss: 0.5068 - val_accuracy: 0.7849\n",
            "Epoch 19/600\n",
            "317/317 [==============================] - 1s 2ms/step - loss: 0.5419 - accuracy: 0.7771 - val_loss: 0.5330 - val_accuracy: 0.7840\n",
            "Epoch 20/600\n",
            "317/317 [==============================] - 1s 2ms/step - loss: 0.5333 - accuracy: 0.7835 - val_loss: 0.5116 - val_accuracy: 0.7902\n",
            "Epoch 21/600\n",
            "317/317 [==============================] - 1s 2ms/step - loss: 0.5310 - accuracy: 0.7860 - val_loss: 0.5056 - val_accuracy: 0.8027\n",
            "Epoch 22/600\n",
            "317/317 [==============================] - 1s 2ms/step - loss: 0.5292 - accuracy: 0.7808 - val_loss: 0.5044 - val_accuracy: 0.8000\n",
            "Epoch 23/600\n",
            "317/317 [==============================] - 1s 2ms/step - loss: 0.5263 - accuracy: 0.7842 - val_loss: 0.4986 - val_accuracy: 0.7884\n",
            "Epoch 24/600\n",
            "317/317 [==============================] - 1s 2ms/step - loss: 0.5309 - accuracy: 0.7814 - val_loss: 0.4981 - val_accuracy: 0.8009\n",
            "Epoch 25/600\n",
            "317/317 [==============================] - 1s 2ms/step - loss: 0.5274 - accuracy: 0.7849 - val_loss: 0.5045 - val_accuracy: 0.7982\n",
            "Epoch 26/600\n",
            "317/317 [==============================] - 1s 2ms/step - loss: 0.5296 - accuracy: 0.7853 - val_loss: 0.5053 - val_accuracy: 0.7884\n",
            "Epoch 27/600\n",
            "317/317 [==============================] - 1s 2ms/step - loss: 0.5269 - accuracy: 0.7810 - val_loss: 0.4954 - val_accuracy: 0.7947\n",
            "Epoch 28/600\n",
            "317/317 [==============================] - 1s 2ms/step - loss: 0.5211 - accuracy: 0.7877 - val_loss: 0.4938 - val_accuracy: 0.8000\n",
            "Epoch 29/600\n",
            "317/317 [==============================] - 1s 2ms/step - loss: 0.5236 - accuracy: 0.7833 - val_loss: 0.4940 - val_accuracy: 0.8053\n",
            "Epoch 30/600\n",
            "317/317 [==============================] - 1s 2ms/step - loss: 0.5192 - accuracy: 0.7851 - val_loss: 0.5049 - val_accuracy: 0.7902\n",
            "Epoch 31/600\n",
            "317/317 [==============================] - 1s 2ms/step - loss: 0.5201 - accuracy: 0.7853 - val_loss: 0.4949 - val_accuracy: 0.7947\n",
            "Epoch 32/600\n",
            "317/317 [==============================] - 1s 2ms/step - loss: 0.5174 - accuracy: 0.7878 - val_loss: 0.4909 - val_accuracy: 0.7982\n",
            "Epoch 33/600\n",
            "317/317 [==============================] - 1s 2ms/step - loss: 0.5192 - accuracy: 0.7885 - val_loss: 0.4864 - val_accuracy: 0.8053\n",
            "Epoch 34/600\n",
            "317/317 [==============================] - 1s 2ms/step - loss: 0.5142 - accuracy: 0.7866 - val_loss: 0.4913 - val_accuracy: 0.8044\n",
            "Epoch 35/600\n",
            "317/317 [==============================] - 1s 2ms/step - loss: 0.5171 - accuracy: 0.7896 - val_loss: 0.5038 - val_accuracy: 0.7920\n",
            "Epoch 36/600\n",
            "317/317 [==============================] - 1s 2ms/step - loss: 0.5187 - accuracy: 0.7902 - val_loss: 0.5005 - val_accuracy: 0.8018\n",
            "Epoch 37/600\n",
            "317/317 [==============================] - 1s 2ms/step - loss: 0.5118 - accuracy: 0.7906 - val_loss: 0.4904 - val_accuracy: 0.7938\n",
            "Epoch 38/600\n",
            "317/317 [==============================] - 1s 2ms/step - loss: 0.5146 - accuracy: 0.7876 - val_loss: 0.4852 - val_accuracy: 0.8027\n",
            "Epoch 39/600\n",
            "317/317 [==============================] - 1s 2ms/step - loss: 0.5169 - accuracy: 0.7873 - val_loss: 0.4845 - val_accuracy: 0.8000\n",
            "Epoch 40/600\n",
            "317/317 [==============================] - 1s 2ms/step - loss: 0.5189 - accuracy: 0.7876 - val_loss: 0.4895 - val_accuracy: 0.7911\n",
            "Epoch 41/600\n",
            "317/317 [==============================] - 1s 2ms/step - loss: 0.5123 - accuracy: 0.7903 - val_loss: 0.4885 - val_accuracy: 0.7876\n",
            "Epoch 42/600\n",
            "317/317 [==============================] - 1s 2ms/step - loss: 0.5156 - accuracy: 0.7895 - val_loss: 0.4792 - val_accuracy: 0.8036\n",
            "Epoch 43/600\n",
            "317/317 [==============================] - 1s 2ms/step - loss: 0.5143 - accuracy: 0.7899 - val_loss: 0.4917 - val_accuracy: 0.8018\n",
            "Epoch 44/600\n",
            "317/317 [==============================] - 1s 2ms/step - loss: 0.5110 - accuracy: 0.7923 - val_loss: 0.4856 - val_accuracy: 0.7973\n",
            "Epoch 45/600\n",
            "317/317 [==============================] - 1s 2ms/step - loss: 0.5107 - accuracy: 0.7910 - val_loss: 0.4825 - val_accuracy: 0.8080\n",
            "Epoch 46/600\n",
            "317/317 [==============================] - 1s 2ms/step - loss: 0.5096 - accuracy: 0.7957 - val_loss: 0.4959 - val_accuracy: 0.7938\n",
            "Epoch 47/600\n",
            "317/317 [==============================] - 1s 2ms/step - loss: 0.5117 - accuracy: 0.7953 - val_loss: 0.4766 - val_accuracy: 0.8036\n",
            "Epoch 48/600\n",
            "317/317 [==============================] - 1s 2ms/step - loss: 0.5082 - accuracy: 0.7901 - val_loss: 0.4799 - val_accuracy: 0.8071\n",
            "Epoch 49/600\n",
            "317/317 [==============================] - 1s 2ms/step - loss: 0.5102 - accuracy: 0.7927 - val_loss: 0.4767 - val_accuracy: 0.8071\n",
            "Epoch 50/600\n",
            "317/317 [==============================] - 1s 2ms/step - loss: 0.5070 - accuracy: 0.7937 - val_loss: 0.4765 - val_accuracy: 0.8080\n",
            "Epoch 51/600\n",
            "317/317 [==============================] - 1s 2ms/step - loss: 0.5120 - accuracy: 0.7914 - val_loss: 0.4776 - val_accuracy: 0.8071\n",
            "Epoch 52/600\n",
            "317/317 [==============================] - 1s 2ms/step - loss: 0.5043 - accuracy: 0.7939 - val_loss: 0.4830 - val_accuracy: 0.8036\n",
            "Epoch 53/600\n",
            "317/317 [==============================] - 1s 2ms/step - loss: 0.5089 - accuracy: 0.7891 - val_loss: 0.4820 - val_accuracy: 0.8018\n",
            "Epoch 54/600\n",
            "317/317 [==============================] - 1s 2ms/step - loss: 0.5043 - accuracy: 0.7957 - val_loss: 0.4825 - val_accuracy: 0.7973\n",
            "Epoch 55/600\n",
            "317/317 [==============================] - 1s 2ms/step - loss: 0.5073 - accuracy: 0.7911 - val_loss: 0.4800 - val_accuracy: 0.8080\n",
            "Epoch 56/600\n",
            "317/317 [==============================] - 1s 2ms/step - loss: 0.5052 - accuracy: 0.7957 - val_loss: 0.4816 - val_accuracy: 0.8018\n",
            "Epoch 57/600\n",
            "317/317 [==============================] - 1s 3ms/step - loss: 0.5055 - accuracy: 0.7942 - val_loss: 0.4798 - val_accuracy: 0.8071\n",
            "Epoch 58/600\n",
            "317/317 [==============================] - 1s 3ms/step - loss: 0.5031 - accuracy: 0.7955 - val_loss: 0.4764 - val_accuracy: 0.8000\n",
            "Epoch 59/600\n",
            "317/317 [==============================] - 1s 4ms/step - loss: 0.5047 - accuracy: 0.7966 - val_loss: 0.4878 - val_accuracy: 0.8027\n",
            "Epoch 60/600\n",
            "317/317 [==============================] - 1s 4ms/step - loss: 0.5038 - accuracy: 0.7943 - val_loss: 0.4757 - val_accuracy: 0.8044\n",
            "Epoch 61/600\n",
            "317/317 [==============================] - 1s 2ms/step - loss: 0.5067 - accuracy: 0.7944 - val_loss: 0.4811 - val_accuracy: 0.7964\n",
            "Epoch 62/600\n",
            "317/317 [==============================] - 1s 2ms/step - loss: 0.5104 - accuracy: 0.7931 - val_loss: 0.4787 - val_accuracy: 0.8053\n",
            "Epoch 63/600\n",
            "317/317 [==============================] - 1s 2ms/step - loss: 0.5046 - accuracy: 0.7963 - val_loss: 0.4796 - val_accuracy: 0.8071\n",
            "Epoch 64/600\n",
            "317/317 [==============================] - 1s 2ms/step - loss: 0.5029 - accuracy: 0.7992 - val_loss: 0.4815 - val_accuracy: 0.8116\n",
            "Epoch 65/600\n",
            "317/317 [==============================] - 1s 2ms/step - loss: 0.5031 - accuracy: 0.7938 - val_loss: 0.4897 - val_accuracy: 0.7982\n",
            "Epoch 66/600\n",
            "317/317 [==============================] - 1s 2ms/step - loss: 0.5005 - accuracy: 0.8035 - val_loss: 0.4823 - val_accuracy: 0.8036\n",
            "Epoch 67/600\n",
            "317/317 [==============================] - 1s 2ms/step - loss: 0.5042 - accuracy: 0.7977 - val_loss: 0.4801 - val_accuracy: 0.8036\n",
            "Epoch 68/600\n",
            "317/317 [==============================] - 1s 2ms/step - loss: 0.5062 - accuracy: 0.7960 - val_loss: 0.4887 - val_accuracy: 0.8009\n",
            "Epoch 69/600\n",
            "317/317 [==============================] - 1s 2ms/step - loss: 0.5006 - accuracy: 0.7988 - val_loss: 0.4721 - val_accuracy: 0.8080\n",
            "Epoch 70/600\n",
            "317/317 [==============================] - 1s 2ms/step - loss: 0.5021 - accuracy: 0.7984 - val_loss: 0.4792 - val_accuracy: 0.8116\n",
            "Epoch 71/600\n",
            "317/317 [==============================] - 1s 2ms/step - loss: 0.5050 - accuracy: 0.7955 - val_loss: 0.4903 - val_accuracy: 0.8018\n",
            "Epoch 72/600\n",
            "317/317 [==============================] - 1s 2ms/step - loss: 0.5034 - accuracy: 0.7937 - val_loss: 0.4784 - val_accuracy: 0.8133\n",
            "Epoch 73/600\n",
            "317/317 [==============================] - 1s 2ms/step - loss: 0.5010 - accuracy: 0.7998 - val_loss: 0.4834 - val_accuracy: 0.8000\n",
            "Epoch 74/600\n",
            "317/317 [==============================] - 1s 2ms/step - loss: 0.4987 - accuracy: 0.7990 - val_loss: 0.4798 - val_accuracy: 0.8000\n",
            "Epoch 75/600\n",
            "317/317 [==============================] - 1s 2ms/step - loss: 0.5033 - accuracy: 0.7959 - val_loss: 0.4727 - val_accuracy: 0.8116\n",
            "Epoch 76/600\n",
            "317/317 [==============================] - 1s 2ms/step - loss: 0.5009 - accuracy: 0.7973 - val_loss: 0.4746 - val_accuracy: 0.8000\n",
            "Epoch 77/600\n",
            "317/317 [==============================] - 1s 2ms/step - loss: 0.4996 - accuracy: 0.7953 - val_loss: 0.4807 - val_accuracy: 0.8036\n",
            "Epoch 78/600\n",
            "317/317 [==============================] - 1s 2ms/step - loss: 0.4981 - accuracy: 0.7986 - val_loss: 0.4863 - val_accuracy: 0.7973\n",
            "Epoch 79/600\n",
            "317/317 [==============================] - 1s 2ms/step - loss: 0.5000 - accuracy: 0.7936 - val_loss: 0.4771 - val_accuracy: 0.7938\n",
            "Epoch 80/600\n",
            "317/317 [==============================] - 1s 2ms/step - loss: 0.5011 - accuracy: 0.7988 - val_loss: 0.4719 - val_accuracy: 0.8089\n",
            "Epoch 81/600\n",
            "317/317 [==============================] - 1s 2ms/step - loss: 0.4970 - accuracy: 0.7985 - val_loss: 0.4747 - val_accuracy: 0.8044\n",
            "Epoch 82/600\n",
            "317/317 [==============================] - 1s 2ms/step - loss: 0.5016 - accuracy: 0.7983 - val_loss: 0.4773 - val_accuracy: 0.7893\n",
            "Epoch 83/600\n",
            "317/317 [==============================] - 1s 2ms/step - loss: 0.4965 - accuracy: 0.7995 - val_loss: 0.4693 - val_accuracy: 0.8080\n",
            "Epoch 84/600\n",
            "317/317 [==============================] - 1s 2ms/step - loss: 0.4992 - accuracy: 0.7976 - val_loss: 0.4683 - val_accuracy: 0.8151\n",
            "Epoch 85/600\n",
            "317/317 [==============================] - 1s 2ms/step - loss: 0.4895 - accuracy: 0.8038 - val_loss: 0.4930 - val_accuracy: 0.7840\n",
            "Epoch 86/600\n",
            "317/317 [==============================] - 1s 2ms/step - loss: 0.5003 - accuracy: 0.7938 - val_loss: 0.4792 - val_accuracy: 0.8000\n",
            "Epoch 87/600\n",
            "317/317 [==============================] - 1s 2ms/step - loss: 0.4990 - accuracy: 0.8003 - val_loss: 0.4780 - val_accuracy: 0.8036\n",
            "Epoch 88/600\n",
            "317/317 [==============================] - 1s 2ms/step - loss: 0.4984 - accuracy: 0.7950 - val_loss: 0.4788 - val_accuracy: 0.8044\n",
            "Epoch 89/600\n",
            "317/317 [==============================] - 1s 2ms/step - loss: 0.4909 - accuracy: 0.8024 - val_loss: 0.4762 - val_accuracy: 0.8107\n",
            "Epoch 90/600\n",
            "317/317 [==============================] - 1s 2ms/step - loss: 0.4977 - accuracy: 0.7990 - val_loss: 0.4707 - val_accuracy: 0.8089\n",
            "Epoch 91/600\n",
            "317/317 [==============================] - 1s 2ms/step - loss: 0.4938 - accuracy: 0.7962 - val_loss: 0.4805 - val_accuracy: 0.8027\n",
            "Epoch 92/600\n",
            "317/317 [==============================] - 1s 2ms/step - loss: 0.4965 - accuracy: 0.7965 - val_loss: 0.4792 - val_accuracy: 0.8009\n",
            "Epoch 93/600\n",
            "317/317 [==============================] - 1s 2ms/step - loss: 0.5040 - accuracy: 0.8011 - val_loss: 0.4817 - val_accuracy: 0.7947\n",
            "Epoch 94/600\n",
            "317/317 [==============================] - 1s 2ms/step - loss: 0.4967 - accuracy: 0.7976 - val_loss: 0.4686 - val_accuracy: 0.8044\n",
            "Epoch 95/600\n",
            "317/317 [==============================] - 1s 2ms/step - loss: 0.4967 - accuracy: 0.7988 - val_loss: 0.4804 - val_accuracy: 0.8009\n",
            "Epoch 96/600\n",
            "317/317 [==============================] - 1s 2ms/step - loss: 0.4957 - accuracy: 0.8007 - val_loss: 0.4750 - val_accuracy: 0.8116\n"
          ]
        },
        {
          "output_type": "execute_result",
          "data": {
            "text/plain": [
              "[<matplotlib.lines.Line2D at 0x7fa8a2f54d50>]"
            ]
          },
          "metadata": {},
          "execution_count": 17
        },
        {
          "output_type": "display_data",
          "data": {
            "text/plain": [
              "<Figure size 432x288 with 1 Axes>"
            ],
            "image/png": "[encoded data removed]"
          },
          "metadata": {
            "needs_background": "light"
          }
        }
      ]
    },
    {
      "cell_type": "code",
      "source": [
        "from keras.metrics import accuracy\n",
        "pred = classifier2.predict(X_val)\n",
        "pred_ = np.argmax(pred, axis = 1)\n",
        "pred_ = l_encode.inverse_transform(pred_)\n",
        "\n",
        "true_y = l_encode.inverse_transform(np.argmax(to_categorical(y_val), axis = 1)[:,1])\n",
        "from sklearn.metrics import confusion_matrix, ConfusionMatrixDisplay\n",
        "\n",
        "cm = confusion_matrix(true_y, pred_, labels=[0, 1, 2, 3])\n",
        "cmd = ConfusionMatrixDisplay(cm, display_labels=['easy','moderate', 'hard', 'very hard'])\n",
        "cmd.plot()"
      ],
      "metadata": {
        "colab": {
          "base_uri": "https://localhost:8080/",
          "height": 296
        },
        "id": "ER_QFvHcAYTa",
        "outputId": "077b950e-5e2a-42c7-ba5e-022e7a2a4452"
      },
      "execution_count": 18,
      "outputs": [
        {
          "output_type": "execute_result",
          "data": {
            "text/plain": [
              "<sklearn.metrics._plot.confusion_matrix.ConfusionMatrixDisplay at 0x7fa8a2ea1e10>"
            ]
          },
          "metadata": {},
          "execution_count": 18
        },
        {
          "output_type": "display_data",
          "data": {
            "text/plain": [
              "<Figure size 432x288 with 2 Axes>"
            ],
            "image/png": "[encoded data removed]"
          },
          "metadata": {
            "needs_background": "light"
          }
        }
      ]
    },
    {
      "cell_type": "code",
      "source": [
        "from keras.metrics import accuracy\n",
        "pred = classifier2.predict(X_test)\n",
        "pred_ = np.argmax(pred, axis = 1)\n",
        "pred_ = l_encode.inverse_transform(pred_)\n",
        "\n",
        "true_y = l_encode.inverse_transform(np.argmax(to_categorical(y_test), axis = 1)[:,1])\n",
        "from sklearn.metrics import confusion_matrix, ConfusionMatrixDisplay\n",
        "\n",
        "cm = confusion_matrix(true_y, pred_, labels=[0, 1, 2, 3])\n",
        "cmd = ConfusionMatrixDisplay(cm, display_labels=['easy','moderate', 'hard', 'very hard'])\n",
        "cmd.plot()"
      ],
      "metadata": {
        "colab": {
          "base_uri": "https://localhost:8080/",
          "height": 296
        },
        "id": "mIwrP839An3W",
        "outputId": "f4fcdbb1-2206-4547-b1c6-b0bc09d67509"
      },
      "execution_count": 19,
      "outputs": [
        {
          "output_type": "execute_result",
          "data": {
            "text/plain": [
              "<sklearn.metrics._plot.confusion_matrix.ConfusionMatrixDisplay at 0x7fa8a2ef9190>"
            ]
          },
          "metadata": {},
          "execution_count": 19
        },
        {
          "output_type": "display_data",
          "data": {
            "text/plain": [
              "<Figure size 432x288 with 2 Axes>"
            ],
            "image/png": "[encoded data removed]"
          },
          "metadata": {
            "needs_background": "light"
          }
        }
      ]
    },
    {
      "cell_type": "code",
      "source": [
        "import matplotlib.pyplot as plt \n",
        "from sklearn.preprocessing import LabelBinarizer\n",
        "from sklearn.metrics import roc_curve, auc, roc_auc_score\n",
        "\n",
        "\n",
        "target= ['easy', 'moderate', 'hard', 'very hard']\n",
        "\n",
        "fig, c_ax = plt.subplots(1,1, figsize = (12, 8))\n",
        "\n",
        "def multiclass_roc_auc_score(y_test, y_pred, average=\"macro\"):\n",
        "    lb = LabelBinarizer()\n",
        "    lb.fit(y_test)\n",
        "    y_test = lb.transform(y_test)\n",
        "    y_pred = lb.transform(y_pred)\n",
        "\n",
        "    for (idx, c_label) in enumerate(target):\n",
        "        fpr, tpr, thresholds = roc_curve(y_test[:,idx].astype(int), y_pred[:,idx])\n",
        "        c_ax.plot(fpr, tpr, label = '%s (AUC:%0.2f)'  % (c_label, auc(fpr, tpr)))\n",
        "    c_ax.plot(fpr, fpr, 'b-', label = 'Random Guessing')\n",
        "    return roc_auc_score(y_test, y_pred, average=average)\n",
        "\n",
        "\n",
        "print('ROC AUC score:', multiclass_roc_auc_score(true_y, pred_))\n",
        "\n",
        "c_ax.legend()\n",
        "c_ax.set_xlabel('False Positive Rate')\n",
        "c_ax.set_ylabel('True Positive Rate')\n",
        "plt.grid()\n",
        "plt.show()"
      ],
      "metadata": {
        "colab": {
          "base_uri": "https://localhost:8080/",
          "height": 514
        },
        "id": "-TBNrPliA5qt",
        "outputId": "907362f1-6b8a-4420-c9a3-1564b69d3e49"
      },
      "execution_count": 20,
      "outputs": [
        {
          "output_type": "stream",
          "name": "stdout",
          "text": [
            "ROC AUC score: 0.8905279607827778\n"
          ]
        },
        {
          "output_type": "display_data",
          "data": {
            "text/plain": [
              "<Figure size 864x576 with 1 Axes>"
            ],
            "image/png": "[encoded data removed]"
          },
          "metadata": {
            "needs_background": "light"
          }
        }
      ]
    }
  ]
}