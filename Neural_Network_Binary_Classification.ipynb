{
  "nbformat": 4,
  "nbformat_minor": 0,
  "metadata": {
    "colab": {
      "name": "Neural_Network_Classification.ipynb",
      "provenance": [],
      "authorship_tag": "ABX9TyNIHILInC2Q+e6gl2A7J7XY",
      "include_colab_link": true
    },
    "kernelspec": {
      "name": "python3",
      "display_name": "Python 3"
    },
    "language_info": {
      "name": "python"
    }
  },
  "cells": [
    {
      "cell_type": "markdown",
      "metadata": {
        "id": "view-in-github",
        "colab_type": "text"
      },
      "source": [
        "<a href=\"https://colab.research.google.com/github/Uros-Males/Minimization_Problem_On_Identical_Machines_Analysis/blob/main/Neural_Network_Binary_Classification.ipynb\" target=\"_parent\"><img src=\"https://colab.research.google.com/assets/colab-badge.svg\" alt=\"Open In Colab\"/></a>"
      ]
    },
    {
      "cell_type": "code",
      "execution_count": 1,
      "metadata": {
        "colab": {
          "base_uri": "https://localhost:8080/"
        },
        "id": "6u-X4QiVmgm4",
        "outputId": "f9f1234f-ee83-4a9d-cc7b-ef89c0081af9"
      },
      "outputs": [
        {
          "output_type": "stream",
          "name": "stdout",
          "text": [
            "8750\n"
          ]
        }
      ],
      "source": [
        "#IN PROGRESS....\n",
        "import pandas as pd\n",
        "import numpy as np\n",
        "import matplotlib.pyplot as plt\n",
        "from sklearn import tree\n",
        "from sklearn.model_selection import train_test_split\n",
        "from sklearn.tree import DecisionTreeRegressor\n",
        "import time\n",
        "import keras\n",
        "\n",
        "df = pd.read_csv('/content/sample_data/C-instances-runtime-analysis.csv')\n",
        "print(df.shape[0])\n",
        "\n",
        "shuffled = df.sample(frac=1).reset_index()\n",
        "\n",
        "columns_dont_want = ['y', 'index', 'inst.name','type', 'CPLEXStatus'] #cple\n",
        "select = [x for x in shuffled.columns if x not in columns_dont_want]\n",
        "\n",
        "X = shuffled.loc[:, select]\n",
        "\n",
        "y = shuffled.loc[:,'y']\n",
        "\n"
      ]
    },
    {
      "cell_type": "code",
      "source": [
        "y_new = []\n",
        "for val in y:\n",
        "  if(val<120):\n",
        "    y_new.append(0)\n",
        "  #elif(10 <= val and val <100):\n",
        "   # y_new.append(1)\n",
        "  #elif(100<=val and val<1000):\n",
        "   # y_new.append(2)\n",
        "  else:\n",
        "    y_new.append(1)\n",
        "\n",
        "shuffled['y_new'] = y_new\n",
        "#print(shuffled.head())\n",
        "y_encoded = shuffled.loc[:,'y_new']\n",
        "y_new = np.array(y_new)\n",
        "plt.hist(y_new)\n",
        "plt.show()\n",
        "X_modified = X\n",
        "#X_modified = X.drop(['n/m', '(n/m)^2', '(n/m)^3', 'm/n', '(m/n)^2', '(m/n)^3', 'max', 'av.length'], axis = 1)\n",
        "#print(X_modified.shape[1])"
      ],
      "metadata": {
        "id": "XkPXcbO0riCC",
        "colab": {
          "base_uri": "https://localhost:8080/",
          "height": 265
        },
        "outputId": "19c1e846-be11-4957-f4a1-1781f925eaa3"
      },
      "execution_count": 2,
      "outputs": [
        {
          "output_type": "display_data",
          "data": {
            "text/plain": [
              "<Figure size 432x288 with 1 Axes>"
            ],
            "image/png": "[encoded data removed]"
          },
          "metadata": {
            "needs_background": "light"
          }
        }
      ]
    },
    {
      "cell_type": "code",
      "source": [
        "from sklearn.preprocessing import LabelEncoder\n",
        "from keras.utils.np_utils import to_categorical\n",
        "\n",
        "l_encode = LabelEncoder()\n",
        "l_encode.fit(y_encoded)\n",
        "y_encoded = l_encode.transform(y_encoded)\n",
        "y_encoded = to_categorical(y_encoded)\n",
        "y_encoded"
      ],
      "metadata": {
        "colab": {
          "base_uri": "https://localhost:8080/"
        },
        "id": "W2hvUxxE2NWr",
        "outputId": "f8afc610-a82e-4aa4-9c79-69b23d914115"
      },
      "execution_count": 3,
      "outputs": [
        {
          "output_type": "execute_result",
          "data": {
            "text/plain": [
              "array([[0., 1.],\n",
              "       [1., 0.],\n",
              "       [1., 0.],\n",
              "       ...,\n",
              "       [1., 0.],\n",
              "       [1., 0.],\n",
              "       [0., 1.]], dtype=float32)"
            ]
          },
          "metadata": {},
          "execution_count": 3
        }
      ]
    },
    {
      "cell_type": "code",
      "source": [
        "from keras.models import Sequential\n",
        "from keras.layers import Dense, Dropout\n",
        "\n",
        "classifier = Sequential()\n",
        "classifier.add(Dense(8, input_dim = X_modified.shape[1], activation='relu'))\n",
        "#classifier.add(Dense(8, activation = 'relu'))\n",
        "\n",
        "classifier.add(Dense(16, activation = 'relu'))\n",
        "\n",
        "#classifier.add(Dense(32, activation = 'relu'))\n",
        "#classifier.add(Dense(32, activation = 'relu'))\n",
        "#classifier.add(Dense(16, activation = 'relu'))\n",
        "\n",
        "classifier.add(Dense(32, activation='relu'))\n",
        "\n",
        "classifier.add(Dense(64, activation='relu'))\n",
        "\n",
        "classifier.add(Dense(16, activation='relu'))\n",
        "\n",
        "classifier.add(Dense(2, activation = 'softmax'))\n",
        "classifier.compile(loss = 'categorical_crossentropy', optimizer = 'adam', metrics = ['accuracy'])\n",
        "classifier.summary()"
      ],
      "metadata": {
        "id": "jRT-grzys8_y",
        "colab": {
          "base_uri": "https://localhost:8080/"
        },
        "outputId": "45e93742-5893-4b14-f1b0-31d82957eb6e"
      },
      "execution_count": 4,
      "outputs": [
        {
          "output_type": "stream",
          "name": "stdout",
          "text": [
            "Model: \"sequential\"\n",
            "_________________________________________________________________\n",
            " Layer (type)                Output Shape              Param #   \n",
            "=================================================================\n",
            " dense (Dense)               (None, 8)                 152       \n",
            "                                                                 \n",
            " dense_1 (Dense)             (None, 16)                144       \n",
            "                                                                 \n",
            " dense_2 (Dense)             (None, 32)                544       \n",
            "                                                                 \n",
            " dense_3 (Dense)             (None, 64)                2112      \n",
            "                                                                 \n",
            " dense_4 (Dense)             (None, 16)                1040      \n",
            "                                                                 \n",
            " dense_5 (Dense)             (None, 2)                 34        \n",
            "                                                                 \n",
            "=================================================================\n",
            "Total params: 4,026\n",
            "Trainable params: 4,026\n",
            "Non-trainable params: 0\n",
            "_________________________________________________________________\n"
          ]
        }
      ]
    },
    {
      "cell_type": "code",
      "source": [
        "from sklearn.preprocessing import MinMaxScaler\n",
        "scaler =  MinMaxScaler()\n",
        "\n",
        "X_train, X_test, y_train, y_test = train_test_split(X_modified, y_encoded, random_state=0, train_size = 0.83)\n",
        "\n",
        "X_train = scaler.fit_transform(X_train)\n",
        "X_test = scaler.fit_transform(X_test)"
      ],
      "metadata": {
        "id": "gWTX6M2mxxPD"
      },
      "execution_count": 5,
      "outputs": []
    },
    {
      "cell_type": "code",
      "source": [
        "#classifier.fit(X_train, y_train, batch_size = 64, epochs = 20, verbose = 1)\n",
        "#scores = classifier.evaluate(X_test, y_test)\n",
        "#for i, m in enumerate(classifier.metrics_names):\n",
        "#    print(\"\\n%s: %.3f\"% (m, scores[i]))\n"
      ],
      "metadata": {
        "id": "Mm7RsTBcx2EN"
      },
      "execution_count": 6,
      "outputs": []
    },
    {
      "cell_type": "code",
      "source": [
        "from keras.metrics import accuracy\n",
        "from keras import callbacks\n",
        "earlystopping = callbacks.EarlyStopping(monitor =\"val_loss\", \n",
        "                                        mode =\"min\", patience = 5, \n",
        "                                        restore_best_weights = True)\n",
        "  \n",
        "history = classifier.fit(X_train, y_train, batch_size = 16, \n",
        "                    epochs = 600, validation_data =(X_test, y_test), \n",
        "                    callbacks =[earlystopping])\n",
        "plt.plot(history.history['val_accuracy'])\n",
        "\n"
      ],
      "metadata": {
        "colab": {
          "base_uri": "https://localhost:8080/",
          "height": 1000
        },
        "id": "Sv9aKFPW5KGr",
        "outputId": "b77da64c-c6cb-4aba-a2e8-c83aee3b91b1"
      },
      "execution_count": 7,
      "outputs": [
        {
          "output_type": "stream",
          "name": "stdout",
          "text": [
            "Epoch 1/600\n",
            "454/454 [==============================] - 4s 6ms/step - loss: 0.2977 - accuracy: 0.8706 - val_loss: 0.2351 - val_accuracy: 0.8978\n",
            "Epoch 2/600\n",
            "454/454 [==============================] - 2s 5ms/step - loss: 0.2212 - accuracy: 0.9047 - val_loss: 0.2416 - val_accuracy: 0.9066\n",
            "Epoch 3/600\n",
            "454/454 [==============================] - 2s 5ms/step - loss: 0.2136 - accuracy: 0.9055 - val_loss: 0.2273 - val_accuracy: 0.9120\n",
            "Epoch 4/600\n",
            "454/454 [==============================] - 2s 5ms/step - loss: 0.2095 - accuracy: 0.9091 - val_loss: 0.2221 - val_accuracy: 0.9086\n",
            "Epoch 5/600\n",
            "454/454 [==============================] - 3s 6ms/step - loss: 0.2074 - accuracy: 0.9120 - val_loss: 0.2202 - val_accuracy: 0.9079\n",
            "Epoch 6/600\n",
            "454/454 [==============================] - 2s 4ms/step - loss: 0.2034 - accuracy: 0.9117 - val_loss: 0.2480 - val_accuracy: 0.8797\n",
            "Epoch 7/600\n",
            "454/454 [==============================] - 2s 5ms/step - loss: 0.2022 - accuracy: 0.9127 - val_loss: 0.2228 - val_accuracy: 0.9073\n",
            "Epoch 8/600\n",
            "454/454 [==============================] - 3s 6ms/step - loss: 0.2005 - accuracy: 0.9110 - val_loss: 0.2194 - val_accuracy: 0.9106\n",
            "Epoch 9/600\n",
            "454/454 [==============================] - 2s 5ms/step - loss: 0.2001 - accuracy: 0.9098 - val_loss: 0.2184 - val_accuracy: 0.9086\n",
            "Epoch 10/600\n",
            "454/454 [==============================] - 2s 4ms/step - loss: 0.1982 - accuracy: 0.9113 - val_loss: 0.2126 - val_accuracy: 0.9113\n",
            "Epoch 11/600\n",
            "454/454 [==============================] - 1s 2ms/step - loss: 0.1987 - accuracy: 0.9124 - val_loss: 0.2146 - val_accuracy: 0.9086\n",
            "Epoch 12/600\n",
            "454/454 [==============================] - 1s 2ms/step - loss: 0.1988 - accuracy: 0.9127 - val_loss: 0.2109 - val_accuracy: 0.9120\n",
            "Epoch 13/600\n",
            "454/454 [==============================] - 1s 2ms/step - loss: 0.1970 - accuracy: 0.9108 - val_loss: 0.2154 - val_accuracy: 0.9099\n",
            "Epoch 14/600\n",
            "454/454 [==============================] - 1s 2ms/step - loss: 0.1958 - accuracy: 0.9146 - val_loss: 0.2199 - val_accuracy: 0.9093\n",
            "Epoch 15/600\n",
            "454/454 [==============================] - 1s 2ms/step - loss: 0.1956 - accuracy: 0.9139 - val_loss: 0.2059 - val_accuracy: 0.9126\n",
            "Epoch 16/600\n",
            "454/454 [==============================] - 1s 2ms/step - loss: 0.1946 - accuracy: 0.9146 - val_loss: 0.2046 - val_accuracy: 0.9093\n",
            "Epoch 17/600\n",
            "454/454 [==============================] - 1s 2ms/step - loss: 0.1935 - accuracy: 0.9121 - val_loss: 0.2094 - val_accuracy: 0.9113\n",
            "Epoch 18/600\n",
            "454/454 [==============================] - 1s 2ms/step - loss: 0.1933 - accuracy: 0.9150 - val_loss: 0.2025 - val_accuracy: 0.9140\n",
            "Epoch 19/600\n",
            "454/454 [==============================] - 1s 2ms/step - loss: 0.1945 - accuracy: 0.9148 - val_loss: 0.2011 - val_accuracy: 0.9126\n",
            "Epoch 20/600\n",
            "454/454 [==============================] - 1s 2ms/step - loss: 0.1916 - accuracy: 0.9120 - val_loss: 0.2267 - val_accuracy: 0.9126\n",
            "Epoch 21/600\n",
            "454/454 [==============================] - 1s 2ms/step - loss: 0.1916 - accuracy: 0.9155 - val_loss: 0.2025 - val_accuracy: 0.9113\n",
            "Epoch 22/600\n",
            "454/454 [==============================] - 1s 2ms/step - loss: 0.1898 - accuracy: 0.9146 - val_loss: 0.2128 - val_accuracy: 0.9160\n",
            "Epoch 23/600\n",
            "454/454 [==============================] - 1s 2ms/step - loss: 0.1915 - accuracy: 0.9110 - val_loss: 0.2104 - val_accuracy: 0.9120\n",
            "Epoch 24/600\n",
            "454/454 [==============================] - 1s 2ms/step - loss: 0.1919 - accuracy: 0.9143 - val_loss: 0.2088 - val_accuracy: 0.9086\n"
          ]
        },
        {
          "output_type": "execute_result",
          "data": {
            "text/plain": [
              "[<matplotlib.lines.Line2D at 0x7fe25b1b1710>]"
            ]
          },
          "metadata": {},
          "execution_count": 7
        },
        {
          "output_type": "display_data",
          "data": {
            "text/plain": [
              "<Figure size 432x288 with 1 Axes>"
            ],
            "image/png": "[encoded data removed]"
          },
          "metadata": {
            "needs_background": "light"
          }
        }
      ]
    },
    {
      "cell_type": "code",
      "source": [
        "from keras.metrics import accuracy\n",
        "#test_size = X_test.shape[0]\n",
        "pred = classifier.predict(X_test)\n",
        "#print(pred)\n",
        "pred_ = np.argmax(pred, axis = 1)\n",
        "#print(pred_)\n",
        "pred_ = l_encode.inverse_transform(pred_)\n",
        "\n",
        "true_y = l_encode.inverse_transform(np.argmax(to_categorical(y_test), axis = 1)[:,1])\n",
        "\n",
        "#for i,j in zip(pred_, true_y):\n",
        "#    print(\"Predicted: {}, True: {}\".format(i, j))\n",
        "\n",
        "cnt = 0\n",
        "cnt_correct = 0\n",
        "\n",
        "for i in range(len(pred_)):\n",
        "  cnt += 1\n",
        "  if(pred_[i] == true_y[i]):\n",
        "    cnt_correct += 1\n",
        "\n",
        "print(f'accuracy: {(cnt_correct/cnt)*100:.2f}%')"
      ],
      "metadata": {
        "colab": {
          "base_uri": "https://localhost:8080/"
        },
        "id": "-WKM6CPTczGd",
        "outputId": "f2f19e6c-d6e9-4054-dfe9-aa09d3a88475"
      },
      "execution_count": 8,
      "outputs": [
        {
          "output_type": "stream",
          "name": "stdout",
          "text": [
            "accuracy: 91.26%\n"
          ]
        }
      ]
    },
    {
      "cell_type": "code",
      "source": [
        "from sklearn.metrics import confusion_matrix, ConfusionMatrixDisplay\n",
        "#for i in range(len(pred_)):\n",
        "#  print(true_y[i])\n",
        "#print(confusion_matrix(true_y, pred_, labels=[0, 1, 2, 3]))\n",
        "cm = confusion_matrix(true_y, pred_, labels=[0, 1])\n",
        "cmd = ConfusionMatrixDisplay(cm, display_labels=['easy','hard'])\n",
        "#plt.subplot(1, 2, 1)\n",
        "cmd.plot()\n",
        "print(f'accuracy: {(cnt_correct/cnt)*100:.2f}%')"
      ],
      "metadata": {
        "colab": {
          "base_uri": "https://localhost:8080/",
          "height": 296
        },
        "id": "td3mlxlNxXqF",
        "outputId": "2e7f4eac-da9d-46c7-8c7e-ed15af4f1f67"
      },
      "execution_count": 9,
      "outputs": [
        {
          "output_type": "stream",
          "name": "stdout",
          "text": [
            "accuracy: 91.26%\n"
          ]
        },
        {
          "output_type": "display_data",
          "data": {
            "text/plain": [
              "<Figure size 432x288 with 2 Axes>"
            ],
            "image/png": "[encoded data removed]"
          },
          "metadata": {
            "needs_background": "light"
          }
        }
      ]
    },
    {
      "cell_type": "code",
      "source": [
        "y_new = np.array(y_new)\n",
        "plt.hist(y_new)\n",
        "plt.title('0->[0,120) : 1->[120,99999]')\n",
        "plt.show()"
      ],
      "metadata": {
        "id": "a_uXCro7BbBx",
        "outputId": "a5759d8f-49b1-4224-de8e-28a22e87dd3b",
        "colab": {
          "base_uri": "https://localhost:8080/",
          "height": 281
        }
      },
      "execution_count": 10,
      "outputs": [
        {
          "output_type": "display_data",
          "data": {
            "text/plain": [
              "<Figure size 432x288 with 1 Axes>"
            ],
            "image/png": "[encoded data removed]"
          },
          "metadata": {
            "needs_background": "light"
          }
        }
      ]
    },
    {
      "cell_type": "code",
      "source": [
        "from sklearn import metrics\n",
        "fpr, tpr, _ = metrics.roc_curve(true_y, pred_)\n",
        "auc = metrics.roc_auc_score(true_y, pred_)\n",
        "plt.plot(fpr, tpr, label = \"AUC=\"+str(auc))\n",
        "plt.ylabel('True Positive Rate')\n",
        "plt.xlabel('False Positive Rate')\n",
        "plt.legend(loc=4)\n",
        "plt.show()"
      ],
      "metadata": {
        "id": "SgZHX90s5yOQ",
        "outputId": "9487391c-6218-4992-9737-b7e1467a0a03",
        "colab": {
          "base_uri": "https://localhost:8080/",
          "height": 279
        }
      },
      "execution_count": 14,
      "outputs": [
        {
          "output_type": "display_data",
          "data": {
            "text/plain": [
              "<Figure size 432x288 with 1 Axes>"
            ],
            "image/png": "[encoded data removed]"
          },
          "metadata": {
            "needs_background": "light"
          }
        }
      ]
    }
  ]
}