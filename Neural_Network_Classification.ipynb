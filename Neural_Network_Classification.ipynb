{
  "nbformat": 4,
  "nbformat_minor": 0,
  "metadata": {
    "colab": {
      "name": "Neural_Network_Classification.ipynb",
      "provenance": [],
      "authorship_tag": "ABX9TyOPzmz95IOT8AjMAv0GgfZt",
      "include_colab_link": true
    },
    "kernelspec": {
      "name": "python3",
      "display_name": "Python 3"
    },
    "language_info": {
      "name": "python"
    }
  },
  "cells": [
    {
      "cell_type": "markdown",
      "metadata": {
        "id": "view-in-github",
        "colab_type": "text"
      },
      "source": [
        "<a href=\"https://colab.research.google.com/github/Uros-Males/Minimization_Problem_On_Identical_Machines_Analysis/blob/main/Neural_Network_Classification.ipynb\" target=\"_parent\"><img src=\"https://colab.research.google.com/assets/colab-badge.svg\" alt=\"Open In Colab\"/></a>"
      ]
    },
    {
      "cell_type": "code",
      "execution_count": 1,
      "metadata": {
        "colab": {
          "base_uri": "https://localhost:8080/"
        },
        "id": "6u-X4QiVmgm4",
        "outputId": "1c0e66f0-f0c2-4b0c-ee6e-953cd6364394"
      },
      "outputs": [
        {
          "output_type": "stream",
          "name": "stdout",
          "text": [
            "8750\n"
          ]
        }
      ],
      "source": [
        "#IN PROGRESS....\n",
        "import pandas as pd\n",
        "import numpy as np\n",
        "import matplotlib.pyplot as plt\n",
        "from sklearn import tree\n",
        "from sklearn.model_selection import train_test_split\n",
        "from sklearn.tree import DecisionTreeRegressor\n",
        "import time\n",
        "import keras\n",
        "\n",
        "df = pd.read_csv('/content/sample_data/C-instances-runtime-analysis.csv')\n",
        "print(df.shape[0])\n",
        "\n",
        "shuffled = df.sample(frac=1).reset_index()\n",
        "\n",
        "columns_dont_want = ['y', 'index', 'inst.name','type'] #cple\n",
        "select = [x for x in shuffled.columns if x not in columns_dont_want]\n",
        "\n",
        "X = shuffled.loc[:, select]\n",
        "\n",
        "y = shuffled.loc[:,'y']\n",
        "\n"
      ]
    },
    {
      "cell_type": "code",
      "source": [
        "y_new = []\n",
        "for val in y:\n",
        "  if(val<10):\n",
        "    y_new.append(0)\n",
        "  elif(10 <= val and val <100):\n",
        "    y_new.append(1)\n",
        "  elif(100<=val and val<1000):\n",
        "    y_new.append(2)\n",
        "  else:\n",
        "    y_new.append(3)\n",
        "\n",
        "shuffled['y_new'] = y_new\n",
        "#print(shuffled.head())\n",
        "y_encoded = shuffled.loc[:,'y_new']\n",
        "y_new = np.array(y_new)\n",
        "plt.hist(y_new)\n",
        "plt.show()\n",
        "#X_modified = X\n",
        "X_modified = X.drop(['n/m', '(n/m)^2', '(n/m)^3', 'm/n', '(m/n)^2', '(m/n)^3', 'class', 'max', 'av.length'], axis = 1)\n",
        "#print(X_modified.shape[1])"
      ],
      "metadata": {
        "id": "XkPXcbO0riCC",
        "colab": {
          "base_uri": "https://localhost:8080/",
          "height": 265
        },
        "outputId": "74bbc7f2-1a6b-40ac-ac0a-bfe4286c8c44"
      },
      "execution_count": 2,
      "outputs": [
        {
          "output_type": "display_data",
          "data": {
            "text/plain": [
              "<Figure size 432x288 with 1 Axes>"
            ],
            "image/png": "[encoded data removed]"
          },
          "metadata": {
            "needs_background": "light"
          }
        }
      ]
    },
    {
      "cell_type": "code",
      "source": [
        "from sklearn.preprocessing import LabelEncoder\n",
        "from keras.utils.np_utils import to_categorical\n",
        "\n",
        "l_encode = LabelEncoder()\n",
        "l_encode.fit(y_encoded)\n",
        "y_encoded = l_encode.transform(y_encoded)\n",
        "y_encoded = to_categorical(y_encoded)\n",
        "y_encoded"
      ],
      "metadata": {
        "colab": {
          "base_uri": "https://localhost:8080/"
        },
        "id": "W2hvUxxE2NWr",
        "outputId": "4a822468-bdc3-4b68-e188-cdfba88c04d8"
      },
      "execution_count": 3,
      "outputs": [
        {
          "output_type": "execute_result",
          "data": {
            "text/plain": [
              "array([[0., 1., 0., 0.],\n",
              "       [0., 1., 0., 0.],\n",
              "       [1., 0., 0., 0.],\n",
              "       ...,\n",
              "       [0., 1., 0., 0.],\n",
              "       [0., 0., 1., 0.],\n",
              "       [0., 1., 0., 0.]], dtype=float32)"
            ]
          },
          "metadata": {},
          "execution_count": 3
        }
      ]
    },
    {
      "cell_type": "code",
      "source": [
        "from keras.models import Sequential\n",
        "from keras.layers import Dense, Dropout\n",
        "\n",
        "classifier = Sequential()\n",
        "classifier.add(Dense(8, input_dim = X_modified.shape[1], activation='relu'))\n",
        "#classifier.add(Dense(8, activation = 'relu'))\n",
        "\n",
        "classifier.add(Dense(16, activation = 'relu'))\n",
        "#classifier.add(Dropout(0.25))\n",
        "#classifier.add(Dense(32, activation = 'relu'))\n",
        "#classifier.add(Dense(32, activation = 'relu'))\n",
        "#classifier.add(Dense(16, activation = 'relu'))\n",
        "\n",
        "classifier.add(Dense(8, activation = 'relu'))\n",
        "\n",
        "classifier.add(Dense(4, activation = 'softmax'))\n",
        "classifier.compile(loss = 'categorical_crossentropy', optimizer = 'adam', metrics = ['accuracy'])\n",
        "classifier.summary()"
      ],
      "metadata": {
        "id": "jRT-grzys8_y",
        "colab": {
          "base_uri": "https://localhost:8080/"
        },
        "outputId": "12d8f257-c9d8-456c-c93a-e986e54c2a74"
      },
      "execution_count": 4,
      "outputs": [
        {
          "output_type": "stream",
          "name": "stdout",
          "text": [
            "Model: \"sequential\"\n",
            "_________________________________________________________________\n",
            " Layer (type)                Output Shape              Param #   \n",
            "=================================================================\n",
            " dense (Dense)               (None, 8)                 88        \n",
            "                                                                 \n",
            " dense_1 (Dense)             (None, 16)                144       \n",
            "                                                                 \n",
            " dense_2 (Dense)             (None, 8)                 136       \n",
            "                                                                 \n",
            " dense_3 (Dense)             (None, 4)                 36        \n",
            "                                                                 \n",
            "=================================================================\n",
            "Total params: 404\n",
            "Trainable params: 404\n",
            "Non-trainable params: 0\n",
            "_________________________________________________________________\n"
          ]
        }
      ]
    },
    {
      "cell_type": "code",
      "source": [
        "from sklearn.preprocessing import MinMaxScaler\n",
        "scaler =  MinMaxScaler()\n",
        "\n",
        "X_train, X_test, y_train, y_test = train_test_split(X_modified, y_encoded, random_state=0, train_size = 0.8)\n",
        "\n",
        "X_train = scaler.fit_transform(X_train)\n",
        "X_test = scaler.fit_transform(X_test)"
      ],
      "metadata": {
        "id": "gWTX6M2mxxPD"
      },
      "execution_count": 5,
      "outputs": []
    },
    {
      "cell_type": "code",
      "source": [
        "#classifier.fit(X_train, y_train, batch_size = 64, epochs = 20, verbose = 1)\n",
        "#scores = classifier.evaluate(X_test, y_test)\n",
        "#for i, m in enumerate(classifier.metrics_names):\n",
        "#    print(\"\\n%s: %.3f\"% (m, scores[i]))\n"
      ],
      "metadata": {
        "id": "Mm7RsTBcx2EN"
      },
      "execution_count": 6,
      "outputs": []
    },
    {
      "cell_type": "code",
      "source": [
        "from keras.metrics import accuracy\n",
        "from keras import callbacks\n",
        "earlystopping = callbacks.EarlyStopping(monitor =\"val_loss\", \n",
        "                                        mode =\"min\", patience = 25, \n",
        "                                        restore_best_weights = True)\n",
        "  \n",
        "history = classifier.fit(X_train, y_train, batch_size = 16, \n",
        "                    epochs = 300, validation_data =(X_test, y_test), \n",
        "                    callbacks =[earlystopping])\n",
        "plt.plot(history.history['val_accuracy'])\n",
        "\n"
      ],
      "metadata": {
        "colab": {
          "base_uri": "https://localhost:8080/",
          "height": 1000
        },
        "id": "Sv9aKFPW5KGr",
        "outputId": "5a712d7a-c278-4371-a5dd-b46f5572c9e3"
      },
      "execution_count": 7,
      "outputs": [
        {
          "output_type": "stream",
          "name": "stdout",
          "text": [
            "Epoch 1/300\n",
            "438/438 [==============================] - 4s 5ms/step - loss: 1.0471 - accuracy: 0.5137 - val_loss: 0.7412 - val_accuracy: 0.6286\n",
            "Epoch 2/300\n",
            "438/438 [==============================] - 2s 4ms/step - loss: 0.6558 - accuracy: 0.7294 - val_loss: 0.5736 - val_accuracy: 0.7537\n",
            "Epoch 3/300\n",
            "438/438 [==============================] - 2s 5ms/step - loss: 0.5553 - accuracy: 0.7621 - val_loss: 0.5078 - val_accuracy: 0.7737\n",
            "Epoch 4/300\n",
            "438/438 [==============================] - 2s 4ms/step - loss: 0.5143 - accuracy: 0.7677 - val_loss: 0.4819 - val_accuracy: 0.7800\n",
            "Epoch 5/300\n",
            "438/438 [==============================] - 3s 6ms/step - loss: 0.4938 - accuracy: 0.7763 - val_loss: 0.4692 - val_accuracy: 0.7863\n",
            "Epoch 6/300\n",
            "438/438 [==============================] - 2s 4ms/step - loss: 0.4791 - accuracy: 0.7857 - val_loss: 0.4589 - val_accuracy: 0.7863\n",
            "Epoch 7/300\n",
            "438/438 [==============================] - 2s 5ms/step - loss: 0.4715 - accuracy: 0.7864 - val_loss: 0.4436 - val_accuracy: 0.7960\n",
            "Epoch 8/300\n",
            "438/438 [==============================] - 2s 4ms/step - loss: 0.4630 - accuracy: 0.7887 - val_loss: 0.4399 - val_accuracy: 0.7954\n",
            "Epoch 9/300\n",
            "438/438 [==============================] - 2s 6ms/step - loss: 0.4592 - accuracy: 0.7940 - val_loss: 0.4434 - val_accuracy: 0.8046\n",
            "Epoch 10/300\n",
            "438/438 [==============================] - 2s 5ms/step - loss: 0.4557 - accuracy: 0.7931 - val_loss: 0.4407 - val_accuracy: 0.7931\n",
            "Epoch 11/300\n",
            "438/438 [==============================] - 2s 5ms/step - loss: 0.4498 - accuracy: 0.8024 - val_loss: 0.4305 - val_accuracy: 0.7989\n",
            "Epoch 12/300\n",
            "438/438 [==============================] - 1s 2ms/step - loss: 0.4482 - accuracy: 0.8007 - val_loss: 0.4306 - val_accuracy: 0.7971\n",
            "Epoch 13/300\n",
            "438/438 [==============================] - 1s 2ms/step - loss: 0.4462 - accuracy: 0.8019 - val_loss: 0.4220 - val_accuracy: 0.8137\n",
            "Epoch 14/300\n",
            "438/438 [==============================] - 1s 2ms/step - loss: 0.4442 - accuracy: 0.8020 - val_loss: 0.4211 - val_accuracy: 0.7989\n",
            "Epoch 15/300\n",
            "438/438 [==============================] - 1s 3ms/step - loss: 0.4408 - accuracy: 0.7996 - val_loss: 0.4179 - val_accuracy: 0.8103\n",
            "Epoch 16/300\n",
            "438/438 [==============================] - 1s 2ms/step - loss: 0.4409 - accuracy: 0.8036 - val_loss: 0.4170 - val_accuracy: 0.8160\n",
            "Epoch 17/300\n",
            "438/438 [==============================] - 1s 2ms/step - loss: 0.4381 - accuracy: 0.8026 - val_loss: 0.4143 - val_accuracy: 0.8091\n",
            "Epoch 18/300\n",
            "438/438 [==============================] - 2s 4ms/step - loss: 0.4340 - accuracy: 0.8036 - val_loss: 0.4096 - val_accuracy: 0.8114\n",
            "Epoch 19/300\n",
            "438/438 [==============================] - 1s 2ms/step - loss: 0.4335 - accuracy: 0.8037 - val_loss: 0.4176 - val_accuracy: 0.8074\n",
            "Epoch 20/300\n",
            "438/438 [==============================] - 1s 2ms/step - loss: 0.4332 - accuracy: 0.7991 - val_loss: 0.4055 - val_accuracy: 0.8166\n",
            "Epoch 21/300\n",
            "438/438 [==============================] - 1s 2ms/step - loss: 0.4297 - accuracy: 0.8064 - val_loss: 0.4262 - val_accuracy: 0.8046\n",
            "Epoch 22/300\n",
            "438/438 [==============================] - 1s 2ms/step - loss: 0.4306 - accuracy: 0.8074 - val_loss: 0.4193 - val_accuracy: 0.8000\n",
            "Epoch 23/300\n",
            "438/438 [==============================] - 1s 2ms/step - loss: 0.4271 - accuracy: 0.8059 - val_loss: 0.4052 - val_accuracy: 0.8120\n",
            "Epoch 24/300\n",
            "438/438 [==============================] - 1s 2ms/step - loss: 0.4258 - accuracy: 0.8056 - val_loss: 0.4086 - val_accuracy: 0.8131\n",
            "Epoch 25/300\n",
            "438/438 [==============================] - 1s 2ms/step - loss: 0.4260 - accuracy: 0.8004 - val_loss: 0.4023 - val_accuracy: 0.8103\n",
            "Epoch 26/300\n",
            "438/438 [==============================] - 1s 3ms/step - loss: 0.4229 - accuracy: 0.8033 - val_loss: 0.4045 - val_accuracy: 0.8086\n",
            "Epoch 27/300\n",
            "438/438 [==============================] - 1s 2ms/step - loss: 0.4232 - accuracy: 0.8061 - val_loss: 0.4061 - val_accuracy: 0.8143\n",
            "Epoch 28/300\n",
            "438/438 [==============================] - 1s 2ms/step - loss: 0.4225 - accuracy: 0.8073 - val_loss: 0.3937 - val_accuracy: 0.8160\n",
            "Epoch 29/300\n",
            "438/438 [==============================] - 1s 2ms/step - loss: 0.4201 - accuracy: 0.8073 - val_loss: 0.4075 - val_accuracy: 0.7949\n",
            "Epoch 30/300\n",
            "438/438 [==============================] - 1s 2ms/step - loss: 0.4223 - accuracy: 0.8067 - val_loss: 0.3997 - val_accuracy: 0.8171\n",
            "Epoch 31/300\n",
            "438/438 [==============================] - 1s 3ms/step - loss: 0.4199 - accuracy: 0.8050 - val_loss: 0.4017 - val_accuracy: 0.8091\n",
            "Epoch 32/300\n",
            "438/438 [==============================] - 1s 2ms/step - loss: 0.4183 - accuracy: 0.8076 - val_loss: 0.3922 - val_accuracy: 0.8183\n",
            "Epoch 33/300\n",
            "438/438 [==============================] - 1s 3ms/step - loss: 0.4178 - accuracy: 0.8057 - val_loss: 0.4102 - val_accuracy: 0.8057\n",
            "Epoch 34/300\n",
            "438/438 [==============================] - 1s 2ms/step - loss: 0.4167 - accuracy: 0.8080 - val_loss: 0.3906 - val_accuracy: 0.8171\n",
            "Epoch 35/300\n",
            "438/438 [==============================] - 1s 2ms/step - loss: 0.4161 - accuracy: 0.8054 - val_loss: 0.3931 - val_accuracy: 0.8143\n",
            "Epoch 36/300\n",
            "438/438 [==============================] - 1s 2ms/step - loss: 0.4171 - accuracy: 0.8059 - val_loss: 0.3929 - val_accuracy: 0.8120\n",
            "Epoch 37/300\n",
            "438/438 [==============================] - 1s 2ms/step - loss: 0.4140 - accuracy: 0.8071 - val_loss: 0.3923 - val_accuracy: 0.8137\n",
            "Epoch 38/300\n",
            "438/438 [==============================] - 1s 2ms/step - loss: 0.4152 - accuracy: 0.8066 - val_loss: 0.3941 - val_accuracy: 0.8183\n",
            "Epoch 39/300\n",
            "438/438 [==============================] - 1s 3ms/step - loss: 0.4141 - accuracy: 0.8071 - val_loss: 0.3925 - val_accuracy: 0.8223\n",
            "Epoch 40/300\n",
            "438/438 [==============================] - 1s 2ms/step - loss: 0.4149 - accuracy: 0.8080 - val_loss: 0.3887 - val_accuracy: 0.8143\n",
            "Epoch 41/300\n",
            "438/438 [==============================] - 1s 3ms/step - loss: 0.4128 - accuracy: 0.8087 - val_loss: 0.4226 - val_accuracy: 0.7971\n",
            "Epoch 42/300\n",
            "438/438 [==============================] - 1s 2ms/step - loss: 0.4122 - accuracy: 0.8096 - val_loss: 0.3864 - val_accuracy: 0.8194\n",
            "Epoch 43/300\n",
            "438/438 [==============================] - 1s 2ms/step - loss: 0.4114 - accuracy: 0.8049 - val_loss: 0.3851 - val_accuracy: 0.8183\n",
            "Epoch 44/300\n",
            "438/438 [==============================] - 1s 2ms/step - loss: 0.4134 - accuracy: 0.8083 - val_loss: 0.3897 - val_accuracy: 0.8194\n",
            "Epoch 45/300\n",
            "438/438 [==============================] - 1s 2ms/step - loss: 0.4118 - accuracy: 0.8069 - val_loss: 0.3859 - val_accuracy: 0.8131\n",
            "Epoch 46/300\n",
            "438/438 [==============================] - 1s 2ms/step - loss: 0.4097 - accuracy: 0.8061 - val_loss: 0.3905 - val_accuracy: 0.8097\n",
            "Epoch 47/300\n",
            "438/438 [==============================] - 1s 2ms/step - loss: 0.4133 - accuracy: 0.8066 - val_loss: 0.3906 - val_accuracy: 0.8171\n",
            "Epoch 48/300\n",
            "438/438 [==============================] - 1s 2ms/step - loss: 0.4095 - accuracy: 0.8087 - val_loss: 0.3914 - val_accuracy: 0.8120\n",
            "Epoch 49/300\n",
            "438/438 [==============================] - 1s 2ms/step - loss: 0.4093 - accuracy: 0.8083 - val_loss: 0.3876 - val_accuracy: 0.8137\n",
            "Epoch 50/300\n",
            "438/438 [==============================] - 1s 2ms/step - loss: 0.4082 - accuracy: 0.8054 - val_loss: 0.3849 - val_accuracy: 0.8240\n",
            "Epoch 51/300\n",
            "438/438 [==============================] - 1s 2ms/step - loss: 0.4093 - accuracy: 0.8126 - val_loss: 0.3847 - val_accuracy: 0.8280\n",
            "Epoch 52/300\n",
            "438/438 [==============================] - 1s 2ms/step - loss: 0.4109 - accuracy: 0.8079 - val_loss: 0.3875 - val_accuracy: 0.8109\n",
            "Epoch 53/300\n",
            "438/438 [==============================] - 1s 2ms/step - loss: 0.4073 - accuracy: 0.8094 - val_loss: 0.3854 - val_accuracy: 0.8269\n",
            "Epoch 54/300\n",
            "438/438 [==============================] - 1s 2ms/step - loss: 0.4063 - accuracy: 0.8119 - val_loss: 0.3824 - val_accuracy: 0.8200\n",
            "Epoch 55/300\n",
            "438/438 [==============================] - 1s 2ms/step - loss: 0.4064 - accuracy: 0.8059 - val_loss: 0.3779 - val_accuracy: 0.8291\n",
            "Epoch 56/300\n",
            "438/438 [==============================] - 1s 2ms/step - loss: 0.4087 - accuracy: 0.8099 - val_loss: 0.4103 - val_accuracy: 0.8126\n",
            "Epoch 57/300\n",
            "438/438 [==============================] - 1s 2ms/step - loss: 0.4067 - accuracy: 0.8079 - val_loss: 0.3785 - val_accuracy: 0.8269\n",
            "Epoch 58/300\n",
            "438/438 [==============================] - 1s 2ms/step - loss: 0.4060 - accuracy: 0.8120 - val_loss: 0.3929 - val_accuracy: 0.8017\n",
            "Epoch 59/300\n",
            "438/438 [==============================] - 1s 2ms/step - loss: 0.4063 - accuracy: 0.8116 - val_loss: 0.3787 - val_accuracy: 0.8229\n",
            "Epoch 60/300\n",
            "438/438 [==============================] - 1s 2ms/step - loss: 0.4068 - accuracy: 0.8074 - val_loss: 0.3802 - val_accuracy: 0.8200\n",
            "Epoch 61/300\n",
            "438/438 [==============================] - 1s 2ms/step - loss: 0.4043 - accuracy: 0.8116 - val_loss: 0.3847 - val_accuracy: 0.8154\n",
            "Epoch 62/300\n",
            "438/438 [==============================] - 1s 2ms/step - loss: 0.4051 - accuracy: 0.8087 - val_loss: 0.3858 - val_accuracy: 0.8183\n",
            "Epoch 63/300\n",
            "438/438 [==============================] - 1s 2ms/step - loss: 0.4053 - accuracy: 0.8100 - val_loss: 0.3806 - val_accuracy: 0.8194\n",
            "Epoch 64/300\n",
            "438/438 [==============================] - 1s 2ms/step - loss: 0.4030 - accuracy: 0.8104 - val_loss: 0.4033 - val_accuracy: 0.8029\n",
            "Epoch 65/300\n",
            "438/438 [==============================] - 1s 2ms/step - loss: 0.4049 - accuracy: 0.8087 - val_loss: 0.3799 - val_accuracy: 0.8206\n",
            "Epoch 66/300\n",
            "438/438 [==============================] - 1s 2ms/step - loss: 0.4041 - accuracy: 0.8103 - val_loss: 0.3798 - val_accuracy: 0.8217\n",
            "Epoch 67/300\n",
            "438/438 [==============================] - 1s 2ms/step - loss: 0.4012 - accuracy: 0.8114 - val_loss: 0.3804 - val_accuracy: 0.8206\n",
            "Epoch 68/300\n",
            "438/438 [==============================] - 1s 2ms/step - loss: 0.4029 - accuracy: 0.8103 - val_loss: 0.3933 - val_accuracy: 0.8097\n",
            "Epoch 69/300\n",
            "438/438 [==============================] - 1s 2ms/step - loss: 0.4045 - accuracy: 0.8096 - val_loss: 0.3785 - val_accuracy: 0.8206\n",
            "Epoch 70/300\n",
            "438/438 [==============================] - 1s 2ms/step - loss: 0.4017 - accuracy: 0.8116 - val_loss: 0.3753 - val_accuracy: 0.8217\n",
            "Epoch 71/300\n",
            "438/438 [==============================] - 1s 2ms/step - loss: 0.4017 - accuracy: 0.8101 - val_loss: 0.3776 - val_accuracy: 0.8309\n",
            "Epoch 72/300\n",
            "438/438 [==============================] - 1s 2ms/step - loss: 0.4002 - accuracy: 0.8106 - val_loss: 0.3784 - val_accuracy: 0.8211\n",
            "Epoch 73/300\n",
            "438/438 [==============================] - 1s 2ms/step - loss: 0.3996 - accuracy: 0.8096 - val_loss: 0.3761 - val_accuracy: 0.8223\n",
            "Epoch 74/300\n",
            "438/438 [==============================] - 1s 2ms/step - loss: 0.4010 - accuracy: 0.8090 - val_loss: 0.3825 - val_accuracy: 0.8206\n",
            "Epoch 75/300\n",
            "438/438 [==============================] - 1s 2ms/step - loss: 0.3994 - accuracy: 0.8110 - val_loss: 0.3803 - val_accuracy: 0.8206\n",
            "Epoch 76/300\n",
            "438/438 [==============================] - 1s 2ms/step - loss: 0.4001 - accuracy: 0.8091 - val_loss: 0.3716 - val_accuracy: 0.8257\n",
            "Epoch 77/300\n",
            "438/438 [==============================] - 1s 2ms/step - loss: 0.3990 - accuracy: 0.8091 - val_loss: 0.3790 - val_accuracy: 0.8263\n",
            "Epoch 78/300\n",
            "438/438 [==============================] - 1s 2ms/step - loss: 0.3990 - accuracy: 0.8084 - val_loss: 0.3711 - val_accuracy: 0.8246\n",
            "Epoch 79/300\n",
            "438/438 [==============================] - 1s 2ms/step - loss: 0.3989 - accuracy: 0.8120 - val_loss: 0.3736 - val_accuracy: 0.8234\n",
            "Epoch 80/300\n",
            "438/438 [==============================] - 1s 2ms/step - loss: 0.4008 - accuracy: 0.8103 - val_loss: 0.3826 - val_accuracy: 0.8211\n",
            "Epoch 81/300\n",
            "438/438 [==============================] - 1s 2ms/step - loss: 0.3996 - accuracy: 0.8109 - val_loss: 0.3780 - val_accuracy: 0.8217\n",
            "Epoch 82/300\n",
            "438/438 [==============================] - 1s 3ms/step - loss: 0.3974 - accuracy: 0.8120 - val_loss: 0.3909 - val_accuracy: 0.8189\n",
            "Epoch 83/300\n",
            "438/438 [==============================] - 1s 2ms/step - loss: 0.3978 - accuracy: 0.8106 - val_loss: 0.3829 - val_accuracy: 0.8206\n",
            "Epoch 84/300\n",
            "438/438 [==============================] - 1s 2ms/step - loss: 0.3976 - accuracy: 0.8117 - val_loss: 0.3760 - val_accuracy: 0.8200\n",
            "Epoch 85/300\n",
            "438/438 [==============================] - 1s 2ms/step - loss: 0.3960 - accuracy: 0.8130 - val_loss: 0.3742 - val_accuracy: 0.8240\n",
            "Epoch 86/300\n",
            "438/438 [==============================] - 1s 2ms/step - loss: 0.3972 - accuracy: 0.8111 - val_loss: 0.3713 - val_accuracy: 0.8337\n",
            "Epoch 87/300\n",
            "438/438 [==============================] - 1s 2ms/step - loss: 0.3955 - accuracy: 0.8111 - val_loss: 0.3713 - val_accuracy: 0.8251\n",
            "Epoch 88/300\n",
            "438/438 [==============================] - 1s 2ms/step - loss: 0.3955 - accuracy: 0.8164 - val_loss: 0.3755 - val_accuracy: 0.8194\n",
            "Epoch 89/300\n",
            "438/438 [==============================] - 1s 2ms/step - loss: 0.3966 - accuracy: 0.8136 - val_loss: 0.3698 - val_accuracy: 0.8320\n",
            "Epoch 90/300\n",
            "438/438 [==============================] - 1s 3ms/step - loss: 0.3950 - accuracy: 0.8109 - val_loss: 0.3715 - val_accuracy: 0.8246\n",
            "Epoch 91/300\n",
            "438/438 [==============================] - 1s 2ms/step - loss: 0.3934 - accuracy: 0.8159 - val_loss: 0.3815 - val_accuracy: 0.8200\n",
            "Epoch 92/300\n",
            "438/438 [==============================] - 1s 2ms/step - loss: 0.3959 - accuracy: 0.8126 - val_loss: 0.3699 - val_accuracy: 0.8240\n",
            "Epoch 93/300\n",
            "438/438 [==============================] - 1s 2ms/step - loss: 0.3939 - accuracy: 0.8127 - val_loss: 0.3771 - val_accuracy: 0.8320\n",
            "Epoch 94/300\n",
            "438/438 [==============================] - 1s 2ms/step - loss: 0.3926 - accuracy: 0.8153 - val_loss: 0.3767 - val_accuracy: 0.8234\n",
            "Epoch 95/300\n",
            "438/438 [==============================] - 1s 2ms/step - loss: 0.3915 - accuracy: 0.8140 - val_loss: 0.3670 - val_accuracy: 0.8320\n",
            "Epoch 96/300\n",
            "438/438 [==============================] - 1s 2ms/step - loss: 0.3953 - accuracy: 0.8113 - val_loss: 0.3741 - val_accuracy: 0.8297\n",
            "Epoch 97/300\n",
            "438/438 [==============================] - 1s 2ms/step - loss: 0.3921 - accuracy: 0.8141 - val_loss: 0.3715 - val_accuracy: 0.8240\n",
            "Epoch 98/300\n",
            "438/438 [==============================] - 1s 2ms/step - loss: 0.3926 - accuracy: 0.8154 - val_loss: 0.3763 - val_accuracy: 0.8189\n",
            "Epoch 99/300\n",
            "438/438 [==============================] - 1s 2ms/step - loss: 0.3934 - accuracy: 0.8150 - val_loss: 0.3847 - val_accuracy: 0.8109\n",
            "Epoch 100/300\n",
            "438/438 [==============================] - 1s 2ms/step - loss: 0.3919 - accuracy: 0.8120 - val_loss: 0.3710 - val_accuracy: 0.8257\n",
            "Epoch 101/300\n",
            "438/438 [==============================] - 1s 2ms/step - loss: 0.3927 - accuracy: 0.8131 - val_loss: 0.3715 - val_accuracy: 0.8291\n",
            "Epoch 102/300\n",
            "438/438 [==============================] - 1s 2ms/step - loss: 0.3904 - accuracy: 0.8171 - val_loss: 0.3769 - val_accuracy: 0.8246\n",
            "Epoch 103/300\n",
            "438/438 [==============================] - 1s 2ms/step - loss: 0.3935 - accuracy: 0.8141 - val_loss: 0.3648 - val_accuracy: 0.8337\n",
            "Epoch 104/300\n",
            "438/438 [==============================] - 1s 2ms/step - loss: 0.3912 - accuracy: 0.8123 - val_loss: 0.3729 - val_accuracy: 0.8223\n",
            "Epoch 105/300\n",
            "438/438 [==============================] - 2s 4ms/step - loss: 0.3904 - accuracy: 0.8139 - val_loss: 0.3691 - val_accuracy: 0.8234\n",
            "Epoch 106/300\n",
            "438/438 [==============================] - 2s 5ms/step - loss: 0.3921 - accuracy: 0.8149 - val_loss: 0.3707 - val_accuracy: 0.8223\n",
            "Epoch 107/300\n",
            "438/438 [==============================] - 1s 3ms/step - loss: 0.3893 - accuracy: 0.8141 - val_loss: 0.3731 - val_accuracy: 0.8246\n",
            "Epoch 108/300\n",
            "438/438 [==============================] - 1s 2ms/step - loss: 0.3918 - accuracy: 0.8107 - val_loss: 0.3775 - val_accuracy: 0.8251\n",
            "Epoch 109/300\n",
            "438/438 [==============================] - 1s 2ms/step - loss: 0.3902 - accuracy: 0.8151 - val_loss: 0.3647 - val_accuracy: 0.8280\n",
            "Epoch 110/300\n",
            "438/438 [==============================] - 1s 3ms/step - loss: 0.3915 - accuracy: 0.8157 - val_loss: 0.3691 - val_accuracy: 0.8251\n",
            "Epoch 111/300\n",
            "438/438 [==============================] - 1s 2ms/step - loss: 0.3884 - accuracy: 0.8154 - val_loss: 0.3724 - val_accuracy: 0.8183\n",
            "Epoch 112/300\n",
            "438/438 [==============================] - 1s 2ms/step - loss: 0.3924 - accuracy: 0.8167 - val_loss: 0.3705 - val_accuracy: 0.8246\n",
            "Epoch 113/300\n",
            "438/438 [==============================] - 1s 3ms/step - loss: 0.3881 - accuracy: 0.8129 - val_loss: 0.3749 - val_accuracy: 0.8183\n",
            "Epoch 114/300\n",
            "438/438 [==============================] - 1s 2ms/step - loss: 0.3889 - accuracy: 0.8143 - val_loss: 0.3724 - val_accuracy: 0.8229\n",
            "Epoch 115/300\n",
            "438/438 [==============================] - 1s 3ms/step - loss: 0.3918 - accuracy: 0.8109 - val_loss: 0.3772 - val_accuracy: 0.8194\n",
            "Epoch 116/300\n",
            "438/438 [==============================] - 1s 2ms/step - loss: 0.3890 - accuracy: 0.8173 - val_loss: 0.3717 - val_accuracy: 0.8251\n",
            "Epoch 117/300\n",
            "438/438 [==============================] - 1s 2ms/step - loss: 0.3879 - accuracy: 0.8170 - val_loss: 0.3740 - val_accuracy: 0.8251\n",
            "Epoch 118/300\n",
            "438/438 [==============================] - 1s 3ms/step - loss: 0.3884 - accuracy: 0.8171 - val_loss: 0.3664 - val_accuracy: 0.8343\n",
            "Epoch 119/300\n",
            "438/438 [==============================] - 1s 2ms/step - loss: 0.3878 - accuracy: 0.8143 - val_loss: 0.3696 - val_accuracy: 0.8217\n",
            "Epoch 120/300\n",
            "438/438 [==============================] - 1s 2ms/step - loss: 0.3877 - accuracy: 0.8156 - val_loss: 0.3704 - val_accuracy: 0.8240\n",
            "Epoch 121/300\n",
            "438/438 [==============================] - 1s 2ms/step - loss: 0.3875 - accuracy: 0.8179 - val_loss: 0.3747 - val_accuracy: 0.8331\n",
            "Epoch 122/300\n",
            "438/438 [==============================] - 1s 2ms/step - loss: 0.3888 - accuracy: 0.8141 - val_loss: 0.3893 - val_accuracy: 0.8126\n",
            "Epoch 123/300\n",
            "438/438 [==============================] - 1s 2ms/step - loss: 0.3875 - accuracy: 0.8171 - val_loss: 0.3753 - val_accuracy: 0.8246\n",
            "Epoch 124/300\n",
            "438/438 [==============================] - 1s 2ms/step - loss: 0.3879 - accuracy: 0.8159 - val_loss: 0.3678 - val_accuracy: 0.8303\n",
            "Epoch 125/300\n",
            "438/438 [==============================] - 1s 2ms/step - loss: 0.3887 - accuracy: 0.8177 - val_loss: 0.3725 - val_accuracy: 0.8217\n",
            "Epoch 126/300\n",
            "438/438 [==============================] - 1s 2ms/step - loss: 0.3880 - accuracy: 0.8171 - val_loss: 0.3698 - val_accuracy: 0.8320\n",
            "Epoch 127/300\n",
            "438/438 [==============================] - 1s 2ms/step - loss: 0.3869 - accuracy: 0.8173 - val_loss: 0.3694 - val_accuracy: 0.8274\n",
            "Epoch 128/300\n",
            "438/438 [==============================] - 1s 2ms/step - loss: 0.3894 - accuracy: 0.8140 - val_loss: 0.3696 - val_accuracy: 0.8240\n",
            "Epoch 129/300\n",
            "438/438 [==============================] - 1s 2ms/step - loss: 0.3875 - accuracy: 0.8179 - val_loss: 0.3769 - val_accuracy: 0.8223\n",
            "Epoch 130/300\n",
            "438/438 [==============================] - 1s 3ms/step - loss: 0.3868 - accuracy: 0.8163 - val_loss: 0.3842 - val_accuracy: 0.8154\n",
            "Epoch 131/300\n",
            "438/438 [==============================] - 1s 2ms/step - loss: 0.3864 - accuracy: 0.8130 - val_loss: 0.3681 - val_accuracy: 0.8263\n",
            "Epoch 132/300\n",
            "438/438 [==============================] - 1s 3ms/step - loss: 0.3873 - accuracy: 0.8164 - val_loss: 0.3638 - val_accuracy: 0.8314\n",
            "Epoch 133/300\n",
            "438/438 [==============================] - 2s 4ms/step - loss: 0.3869 - accuracy: 0.8169 - val_loss: 0.3677 - val_accuracy: 0.8229\n",
            "Epoch 134/300\n",
            "438/438 [==============================] - 1s 2ms/step - loss: 0.3859 - accuracy: 0.8206 - val_loss: 0.3728 - val_accuracy: 0.8246\n",
            "Epoch 135/300\n",
            "438/438 [==============================] - 1s 2ms/step - loss: 0.3874 - accuracy: 0.8171 - val_loss: 0.3664 - val_accuracy: 0.8274\n",
            "Epoch 136/300\n",
            "438/438 [==============================] - 1s 2ms/step - loss: 0.3859 - accuracy: 0.8191 - val_loss: 0.3714 - val_accuracy: 0.8194\n",
            "Epoch 137/300\n",
            "438/438 [==============================] - 1s 3ms/step - loss: 0.3860 - accuracy: 0.8164 - val_loss: 0.3733 - val_accuracy: 0.8194\n",
            "Epoch 138/300\n",
            "438/438 [==============================] - 1s 2ms/step - loss: 0.3892 - accuracy: 0.8181 - val_loss: 0.3723 - val_accuracy: 0.8143\n",
            "Epoch 139/300\n",
            "438/438 [==============================] - 1s 2ms/step - loss: 0.3877 - accuracy: 0.8141 - val_loss: 0.3636 - val_accuracy: 0.8326\n",
            "Epoch 140/300\n",
            "438/438 [==============================] - 1s 2ms/step - loss: 0.3877 - accuracy: 0.8154 - val_loss: 0.3671 - val_accuracy: 0.8280\n",
            "Epoch 141/300\n",
            "438/438 [==============================] - 1s 3ms/step - loss: 0.3862 - accuracy: 0.8200 - val_loss: 0.3677 - val_accuracy: 0.8297\n",
            "Epoch 142/300\n",
            "438/438 [==============================] - 1s 2ms/step - loss: 0.3867 - accuracy: 0.8181 - val_loss: 0.3721 - val_accuracy: 0.8263\n",
            "Epoch 143/300\n",
            "438/438 [==============================] - 1s 2ms/step - loss: 0.3859 - accuracy: 0.8160 - val_loss: 0.3679 - val_accuracy: 0.8223\n",
            "Epoch 144/300\n",
            "438/438 [==============================] - 1s 2ms/step - loss: 0.3889 - accuracy: 0.8137 - val_loss: 0.3805 - val_accuracy: 0.8200\n",
            "Epoch 145/300\n",
            "438/438 [==============================] - 1s 3ms/step - loss: 0.3870 - accuracy: 0.8164 - val_loss: 0.3714 - val_accuracy: 0.8240\n",
            "Epoch 146/300\n",
            "438/438 [==============================] - 1s 3ms/step - loss: 0.3837 - accuracy: 0.8179 - val_loss: 0.3758 - val_accuracy: 0.8234\n",
            "Epoch 147/300\n",
            "438/438 [==============================] - 1s 2ms/step - loss: 0.3858 - accuracy: 0.8194 - val_loss: 0.3670 - val_accuracy: 0.8286\n",
            "Epoch 148/300\n",
            "438/438 [==============================] - 1s 2ms/step - loss: 0.3840 - accuracy: 0.8176 - val_loss: 0.3671 - val_accuracy: 0.8326\n",
            "Epoch 149/300\n",
            "438/438 [==============================] - 1s 2ms/step - loss: 0.3841 - accuracy: 0.8170 - val_loss: 0.3838 - val_accuracy: 0.8223\n",
            "Epoch 150/300\n",
            "438/438 [==============================] - 1s 3ms/step - loss: 0.3858 - accuracy: 0.8176 - val_loss: 0.3667 - val_accuracy: 0.8251\n",
            "Epoch 151/300\n",
            "438/438 [==============================] - 1s 2ms/step - loss: 0.3840 - accuracy: 0.8199 - val_loss: 0.3672 - val_accuracy: 0.8286\n",
            "Epoch 152/300\n",
            "438/438 [==============================] - 1s 2ms/step - loss: 0.3836 - accuracy: 0.8173 - val_loss: 0.3711 - val_accuracy: 0.8189\n",
            "Epoch 153/300\n",
            "438/438 [==============================] - 1s 2ms/step - loss: 0.3846 - accuracy: 0.8177 - val_loss: 0.3706 - val_accuracy: 0.8269\n",
            "Epoch 154/300\n",
            "438/438 [==============================] - 1s 2ms/step - loss: 0.3860 - accuracy: 0.8171 - val_loss: 0.3738 - val_accuracy: 0.8223\n",
            "Epoch 155/300\n",
            "438/438 [==============================] - 1s 3ms/step - loss: 0.3836 - accuracy: 0.8191 - val_loss: 0.3708 - val_accuracy: 0.8211\n",
            "Epoch 156/300\n",
            "438/438 [==============================] - 1s 2ms/step - loss: 0.3852 - accuracy: 0.8200 - val_loss: 0.3732 - val_accuracy: 0.8251\n",
            "Epoch 157/300\n",
            "438/438 [==============================] - 1s 2ms/step - loss: 0.3852 - accuracy: 0.8166 - val_loss: 0.3673 - val_accuracy: 0.8274\n",
            "Epoch 158/300\n",
            "438/438 [==============================] - 1s 2ms/step - loss: 0.3841 - accuracy: 0.8184 - val_loss: 0.3688 - val_accuracy: 0.8291\n",
            "Epoch 159/300\n",
            "438/438 [==============================] - 1s 3ms/step - loss: 0.3842 - accuracy: 0.8193 - val_loss: 0.3745 - val_accuracy: 0.8257\n",
            "Epoch 160/300\n",
            "438/438 [==============================] - 1s 2ms/step - loss: 0.3841 - accuracy: 0.8196 - val_loss: 0.3644 - val_accuracy: 0.8303\n",
            "Epoch 161/300\n",
            "438/438 [==============================] - 1s 2ms/step - loss: 0.3853 - accuracy: 0.8167 - val_loss: 0.3670 - val_accuracy: 0.8314\n",
            "Epoch 162/300\n",
            "438/438 [==============================] - 1s 2ms/step - loss: 0.3858 - accuracy: 0.8160 - val_loss: 0.3708 - val_accuracy: 0.8183\n",
            "Epoch 163/300\n",
            "438/438 [==============================] - 1s 2ms/step - loss: 0.3830 - accuracy: 0.8163 - val_loss: 0.3660 - val_accuracy: 0.8269\n",
            "Epoch 164/300\n",
            "438/438 [==============================] - 1s 3ms/step - loss: 0.3836 - accuracy: 0.8177 - val_loss: 0.3644 - val_accuracy: 0.8331\n"
          ]
        },
        {
          "output_type": "execute_result",
          "data": {
            "text/plain": [
              "[<matplotlib.lines.Line2D at 0x7f5286195f10>]"
            ]
          },
          "metadata": {},
          "execution_count": 7
        },
        {
          "output_type": "display_data",
          "data": {
            "text/plain": [
              "<Figure size 432x288 with 1 Axes>"
            ],
            "image/png": "[encoded data removed]"
          },
          "metadata": {
            "needs_background": "light"
          }
        }
      ]
    },
    {
      "cell_type": "code",
      "source": [
        "from keras.metrics import accuracy\n",
        "#test_size = X_test.shape[0]\n",
        "pred = classifier.predict(X_test)\n",
        "#print(pred)\n",
        "pred_ = np.argmax(pred, axis = 1)\n",
        "#print(pred_)\n",
        "pred_ = l_encode.inverse_transform(pred_)\n",
        "\n",
        "true_y = l_encode.inverse_transform(np.argmax(to_categorical(y_test), axis = 1)[:,1])\n",
        "\n",
        "#for i,j in zip(pred_, true_y):\n",
        "#    print(\"Predicted: {}, True: {}\".format(i, j))\n",
        "\n",
        "cnt = 0\n",
        "cnt_correct = 0\n",
        "\n",
        "for i in range(len(pred_)):\n",
        "  cnt += 1\n",
        "  if(pred_[i] == true_y[i]):\n",
        "    cnt_correct += 1\n",
        "\n",
        "print(f'accuracy: {(cnt_correct/cnt)*100:.2f}%')"
      ],
      "metadata": {
        "colab": {
          "base_uri": "https://localhost:8080/"
        },
        "id": "-WKM6CPTczGd",
        "outputId": "46a2e69a-1b7f-4a5a-ef12-4a3eaa9e4445"
      },
      "execution_count": 8,
      "outputs": [
        {
          "output_type": "stream",
          "name": "stdout",
          "text": [
            "accuracy: 83.26%\n"
          ]
        }
      ]
    },
    {
      "cell_type": "code",
      "source": [
        "from sklearn.metrics import confusion_matrix, ConfusionMatrixDisplay\n",
        "#for i in range(len(pred_)):\n",
        "#  print(true_y[i])\n",
        "#print(confusion_matrix(true_y, pred_, labels=[0, 1, 2, 3]))\n",
        "cm = confusion_matrix(true_y, pred_, labels=[0, 1, 2, 3])\n",
        "cmd = ConfusionMatrixDisplay(cm, display_labels=['easy','moderate', 'hard', 'very hard'])\n",
        "#plt.subplot(1, 2, 1)\n",
        "cmd.plot()\n",
        "print(f'accuracy: {(cnt_correct/cnt)*100:.2f}%')"
      ],
      "metadata": {
        "colab": {
          "base_uri": "https://localhost:8080/",
          "height": 296
        },
        "id": "td3mlxlNxXqF",
        "outputId": "10e54394-146d-4fbd-c700-303010f0b8d3"
      },
      "execution_count": 9,
      "outputs": [
        {
          "output_type": "stream",
          "name": "stdout",
          "text": [
            "accuracy: 83.26%\n"
          ]
        },
        {
          "output_type": "display_data",
          "data": {
            "text/plain": [
              "<Figure size 432x288 with 2 Axes>"
            ],
            "image/png": "[encoded data removed]"
          },
          "metadata": {
            "needs_background": "light"
          }
        }
      ]
    },
    {
      "cell_type": "code",
      "source": [
        "y_new = np.array(y_new)\n",
        "plt.hist(y_new)\n",
        "#plt.title('0->[0,2000) : 1->[2000,99999]')\n",
        "plt.show()"
      ],
      "metadata": {
        "id": "a_uXCro7BbBx",
        "outputId": "53903815-894c-4562-e7d6-2b3d88e8c2da",
        "colab": {
          "base_uri": "https://localhost:8080/",
          "height": 265
        }
      },
      "execution_count": 10,
      "outputs": [
        {
          "output_type": "display_data",
          "data": {
            "text/plain": [
              "<Figure size 432x288 with 1 Axes>"
            ],
            "image/png": "[encoded data removed]"
          },
          "metadata": {
            "needs_background": "light"
          }
        }
      ]
    }
  ]
}