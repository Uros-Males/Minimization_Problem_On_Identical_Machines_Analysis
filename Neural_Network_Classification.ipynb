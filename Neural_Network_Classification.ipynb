{
  "nbformat": 4,
  "nbformat_minor": 0,
  "metadata": {
    "colab": {
      "name": "Neural_Network_Classification.ipynb",
      "provenance": [],
      "authorship_tag": "ABX9TyNDcykyRmD/9EMRtqoFBiyE",
      "include_colab_link": true
    },
    "kernelspec": {
      "name": "python3",
      "display_name": "Python 3"
    },
    "language_info": {
      "name": "python"
    }
  },
  "cells": [
    {
      "cell_type": "markdown",
      "metadata": {
        "id": "view-in-github",
        "colab_type": "text"
      },
      "source": [
        "<a href=\"https://colab.research.google.com/github/Uros-Males/Minimization_Problem_On_Identical_Machines_Analysis/blob/main/Neural_Network_Classification.ipynb\" target=\"_parent\"><img src=\"https://colab.research.google.com/assets/colab-badge.svg\" alt=\"Open In Colab\"/></a>"
      ]
    },
    {
      "cell_type": "code",
      "execution_count": 1,
      "metadata": {
        "colab": {
          "base_uri": "https://localhost:8080/"
        },
        "id": "6u-X4QiVmgm4",
        "outputId": "8b4af27d-7f23-4f43-9a8d-cec3c0769979"
      },
      "outputs": [
        {
          "output_type": "stream",
          "name": "stdout",
          "text": [
            "8750\n"
          ]
        }
      ],
      "source": [
        "#IN PROGRESS....\n",
        "import pandas as pd\n",
        "import numpy as np\n",
        "import matplotlib.pyplot as plt\n",
        "from sklearn import tree\n",
        "from sklearn.model_selection import train_test_split\n",
        "from sklearn.tree import DecisionTreeRegressor\n",
        "import time\n",
        "import keras\n",
        "\n",
        "df = pd.read_csv('/content/sample_data/C-instances-runtime-analysis.csv')\n",
        "print(df.shape[0])\n",
        "\n",
        "shuffled = df.sample(frac=1).reset_index()\n",
        "\n",
        "columns_dont_want = ['y', 'index', 'inst.name', 'CPLEXStatus','type']\n",
        "select = [x for x in shuffled.columns if x not in columns_dont_want]\n",
        "\n",
        "X = shuffled.loc[:, select]\n",
        "\n",
        "y = shuffled.loc[:,'y']\n",
        "\n"
      ]
    },
    {
      "cell_type": "code",
      "source": [
        "y_new = []\n",
        "for val in y:\n",
        "  if(val<2000):\n",
        "    y_new.append(0)\n",
        "  #elif(20 <= val and val <2000):\n",
        "   # y_new.append(1)\n",
        "  #elif(100<=val and val<1000):\n",
        "    #y_new.append(2)\n",
        "  else:\n",
        "    y_new.append(1)\n",
        "\n",
        "shuffled['y_new'] = y_new\n",
        "#print(shuffled.head())\n",
        "y_encoded = shuffled.loc[:,'y_new']\n",
        "y_new = np.array(y_new)\n",
        "plt.hist(y_new)\n",
        "plt.show()\n",
        "X_modified = X.drop(['n/m', '(n/m)^2', '(n/m)^3', 'm/n', '(m/n)^2', '(m/n)^3', 'class', 'max', 'av.length'], axis = 1)\n",
        "#print(X_modified.shape[1])"
      ],
      "metadata": {
        "id": "XkPXcbO0riCC",
        "colab": {
          "base_uri": "https://localhost:8080/",
          "height": 265
        },
        "outputId": "5273f10d-b5d3-4281-dfb5-d391b4550dae"
      },
      "execution_count": 2,
      "outputs": [
        {
          "output_type": "display_data",
          "data": {
            "text/plain": [
              "<Figure size 432x288 with 1 Axes>"
            ],
            "image/png": "[encoded data removed]"
          },
          "metadata": {
            "needs_background": "light"
          }
        }
      ]
    },
    {
      "cell_type": "code",
      "source": [
        "from sklearn.preprocessing import LabelEncoder\n",
        "from keras.utils.np_utils import to_categorical\n",
        "\n",
        "l_encode = LabelEncoder()\n",
        "l_encode.fit(y_encoded)\n",
        "y_encoded = l_encode.transform(y_encoded)\n",
        "y_encoded = to_categorical(y_encoded)\n",
        "y_encoded"
      ],
      "metadata": {
        "colab": {
          "base_uri": "https://localhost:8080/"
        },
        "id": "W2hvUxxE2NWr",
        "outputId": "8f2813dd-8b47-4ba2-d12d-f13a9a30bb76"
      },
      "execution_count": 3,
      "outputs": [
        {
          "output_type": "execute_result",
          "data": {
            "text/plain": [
              "array([[1., 0.],\n",
              "       [1., 0.],\n",
              "       [1., 0.],\n",
              "       ...,\n",
              "       [1., 0.],\n",
              "       [1., 0.],\n",
              "       [1., 0.]], dtype=float32)"
            ]
          },
          "metadata": {},
          "execution_count": 3
        }
      ]
    },
    {
      "cell_type": "code",
      "source": [
        "from keras.models import Sequential\n",
        "from keras.layers import Dense, Dropout\n",
        "\n",
        "classifier = Sequential()\n",
        "classifier.add(Dense(8, input_dim = X_modified.shape[1], activation='relu'))\n",
        "#classifier.add(Dense(8, activation = 'relu'))\n",
        "\n",
        "classifier.add(Dense(16, activation = 'relu'))\n",
        "#classifier.add(Dropout(0.25))\n",
        "#classifier.add(Dense(32, activation = 'relu'))\n",
        "#classifier.add(Dense(32, activation = 'relu'))\n",
        "#classifier.add(Dense(16, activation = 'relu'))\n",
        "\n",
        "classifier.add(Dense(8, activation = 'relu'))\n",
        "\n",
        "classifier.add(Dense(2, activation = 'softmax'))\n",
        "classifier.compile(loss = 'binary_crossentropy', optimizer = 'adam', metrics = ['accuracy'])\n",
        "classifier.summary()"
      ],
      "metadata": {
        "id": "jRT-grzys8_y",
        "colab": {
          "base_uri": "https://localhost:8080/"
        },
        "outputId": "446c025d-f0bc-41a2-f668-e80f2803054a"
      },
      "execution_count": 4,
      "outputs": [
        {
          "output_type": "stream",
          "name": "stdout",
          "text": [
            "Model: \"sequential\"\n",
            "_________________________________________________________________\n",
            " Layer (type)                Output Shape              Param #   \n",
            "=================================================================\n",
            " dense (Dense)               (None, 8)                 80        \n",
            "                                                                 \n",
            " dense_1 (Dense)             (None, 16)                144       \n",
            "                                                                 \n",
            " dense_2 (Dense)             (None, 8)                 136       \n",
            "                                                                 \n",
            " dense_3 (Dense)             (None, 2)                 18        \n",
            "                                                                 \n",
            "=================================================================\n",
            "Total params: 378\n",
            "Trainable params: 378\n",
            "Non-trainable params: 0\n",
            "_________________________________________________________________\n"
          ]
        }
      ]
    },
    {
      "cell_type": "code",
      "source": [
        "from sklearn.preprocessing import MinMaxScaler\n",
        "scaler =  MinMaxScaler()\n",
        "\n",
        "X_train, X_test, y_train, y_test = train_test_split(X_modified, y_encoded, random_state=0, train_size = 0.8)\n",
        "\n",
        "X_train = scaler.fit_transform(X_train)\n",
        "X_test = scaler.fit_transform(X_test)"
      ],
      "metadata": {
        "id": "gWTX6M2mxxPD"
      },
      "execution_count": 5,
      "outputs": []
    },
    {
      "cell_type": "code",
      "source": [
        "#classifier.fit(X_train, y_train, batch_size = 64, epochs = 20, verbose = 1)\n",
        "#scores = classifier.evaluate(X_test, y_test)\n",
        "#for i, m in enumerate(classifier.metrics_names):\n",
        "#    print(\"\\n%s: %.3f\"% (m, scores[i]))\n"
      ],
      "metadata": {
        "id": "Mm7RsTBcx2EN"
      },
      "execution_count": 6,
      "outputs": []
    },
    {
      "cell_type": "code",
      "source": [
        "from keras.metrics import accuracy\n",
        "from keras import callbacks\n",
        "earlystopping = callbacks.EarlyStopping(monitor =\"val_loss\", \n",
        "                                        mode =\"min\", patience = 25, \n",
        "                                        restore_best_weights = True)\n",
        "  \n",
        "history = classifier.fit(X_train, y_train, batch_size = 16, \n",
        "                    epochs = 300, validation_data =(X_test, y_test), \n",
        "                    callbacks =[earlystopping])\n",
        "plt.plot(history.history['val_accuracy'])\n",
        "\n"
      ],
      "metadata": {
        "colab": {
          "base_uri": "https://localhost:8080/",
          "height": 1000
        },
        "id": "Sv9aKFPW5KGr",
        "outputId": "5f9fdd4e-4e5a-4307-aebd-6cb29a85d7b0"
      },
      "execution_count": 7,
      "outputs": [
        {
          "output_type": "stream",
          "name": "stdout",
          "text": [
            "Epoch 1/300\n",
            "438/438 [==============================] - 4s 6ms/step - loss: 0.4052 - accuracy: 0.8431 - val_loss: 0.2177 - val_accuracy: 0.9206\n",
            "Epoch 2/300\n",
            "438/438 [==============================] - 2s 4ms/step - loss: 0.1723 - accuracy: 0.9283 - val_loss: 0.1565 - val_accuracy: 0.9354\n",
            "Epoch 3/300\n",
            "438/438 [==============================] - 2s 5ms/step - loss: 0.1392 - accuracy: 0.9430 - val_loss: 0.1398 - val_accuracy: 0.9423\n",
            "Epoch 4/300\n",
            "438/438 [==============================] - 2s 5ms/step - loss: 0.1302 - accuracy: 0.9451 - val_loss: 0.1360 - val_accuracy: 0.9474\n",
            "Epoch 5/300\n",
            "438/438 [==============================] - 2s 5ms/step - loss: 0.1277 - accuracy: 0.9480 - val_loss: 0.1408 - val_accuracy: 0.9411\n",
            "Epoch 6/300\n",
            "438/438 [==============================] - 2s 5ms/step - loss: 0.1234 - accuracy: 0.9491 - val_loss: 0.1332 - val_accuracy: 0.9440\n",
            "Epoch 7/300\n",
            "438/438 [==============================] - 2s 5ms/step - loss: 0.1225 - accuracy: 0.9497 - val_loss: 0.1310 - val_accuracy: 0.9446\n",
            "Epoch 8/300\n",
            "438/438 [==============================] - 2s 5ms/step - loss: 0.1222 - accuracy: 0.9477 - val_loss: 0.1284 - val_accuracy: 0.9457\n",
            "Epoch 9/300\n",
            "438/438 [==============================] - 2s 4ms/step - loss: 0.1214 - accuracy: 0.9486 - val_loss: 0.1370 - val_accuracy: 0.9446\n",
            "Epoch 10/300\n",
            "438/438 [==============================] - 2s 5ms/step - loss: 0.1210 - accuracy: 0.9477 - val_loss: 0.1289 - val_accuracy: 0.9446\n",
            "Epoch 11/300\n",
            "438/438 [==============================] - 1s 2ms/step - loss: 0.1192 - accuracy: 0.9493 - val_loss: 0.1287 - val_accuracy: 0.9417\n",
            "Epoch 12/300\n",
            "438/438 [==============================] - 1s 2ms/step - loss: 0.1180 - accuracy: 0.9493 - val_loss: 0.1253 - val_accuracy: 0.9463\n",
            "Epoch 13/300\n",
            "438/438 [==============================] - 1s 2ms/step - loss: 0.1177 - accuracy: 0.9517 - val_loss: 0.1246 - val_accuracy: 0.9440\n",
            "Epoch 14/300\n",
            "438/438 [==============================] - 1s 2ms/step - loss: 0.1160 - accuracy: 0.9510 - val_loss: 0.1201 - val_accuracy: 0.9480\n",
            "Epoch 15/300\n",
            "438/438 [==============================] - 1s 2ms/step - loss: 0.1154 - accuracy: 0.9524 - val_loss: 0.1319 - val_accuracy: 0.9389\n",
            "Epoch 16/300\n",
            "438/438 [==============================] - 1s 2ms/step - loss: 0.1154 - accuracy: 0.9499 - val_loss: 0.1262 - val_accuracy: 0.9440\n",
            "Epoch 17/300\n",
            "438/438 [==============================] - 1s 2ms/step - loss: 0.1148 - accuracy: 0.9513 - val_loss: 0.1194 - val_accuracy: 0.9480\n",
            "Epoch 18/300\n",
            "438/438 [==============================] - 1s 2ms/step - loss: 0.1144 - accuracy: 0.9513 - val_loss: 0.1166 - val_accuracy: 0.9480\n",
            "Epoch 19/300\n",
            "438/438 [==============================] - 1s 2ms/step - loss: 0.1127 - accuracy: 0.9526 - val_loss: 0.1204 - val_accuracy: 0.9469\n",
            "Epoch 20/300\n",
            "438/438 [==============================] - 1s 2ms/step - loss: 0.1103 - accuracy: 0.9536 - val_loss: 0.1220 - val_accuracy: 0.9469\n",
            "Epoch 21/300\n",
            "438/438 [==============================] - 1s 2ms/step - loss: 0.1089 - accuracy: 0.9550 - val_loss: 0.1236 - val_accuracy: 0.9463\n",
            "Epoch 22/300\n",
            "438/438 [==============================] - 1s 2ms/step - loss: 0.1080 - accuracy: 0.9553 - val_loss: 0.1135 - val_accuracy: 0.9480\n",
            "Epoch 23/300\n",
            "438/438 [==============================] - 1s 2ms/step - loss: 0.1088 - accuracy: 0.9539 - val_loss: 0.1271 - val_accuracy: 0.9434\n",
            "Epoch 24/300\n",
            "438/438 [==============================] - 1s 2ms/step - loss: 0.1063 - accuracy: 0.9561 - val_loss: 0.1168 - val_accuracy: 0.9486\n",
            "Epoch 25/300\n",
            "438/438 [==============================] - 1s 2ms/step - loss: 0.1070 - accuracy: 0.9569 - val_loss: 0.1126 - val_accuracy: 0.9497\n",
            "Epoch 26/300\n",
            "438/438 [==============================] - 1s 2ms/step - loss: 0.1055 - accuracy: 0.9567 - val_loss: 0.1231 - val_accuracy: 0.9434\n",
            "Epoch 27/300\n",
            "438/438 [==============================] - 1s 3ms/step - loss: 0.1056 - accuracy: 0.9557 - val_loss: 0.1157 - val_accuracy: 0.9486\n",
            "Epoch 28/300\n",
            "438/438 [==============================] - 1s 2ms/step - loss: 0.1044 - accuracy: 0.9566 - val_loss: 0.1152 - val_accuracy: 0.9469\n",
            "Epoch 29/300\n",
            "438/438 [==============================] - 1s 2ms/step - loss: 0.1035 - accuracy: 0.9576 - val_loss: 0.1314 - val_accuracy: 0.9451\n",
            "Epoch 30/300\n",
            "438/438 [==============================] - 1s 2ms/step - loss: 0.1036 - accuracy: 0.9567 - val_loss: 0.1245 - val_accuracy: 0.9469\n",
            "Epoch 31/300\n",
            "438/438 [==============================] - 1s 2ms/step - loss: 0.1042 - accuracy: 0.9566 - val_loss: 0.1107 - val_accuracy: 0.9509\n",
            "Epoch 32/300\n",
            "438/438 [==============================] - 1s 2ms/step - loss: 0.1033 - accuracy: 0.9574 - val_loss: 0.1090 - val_accuracy: 0.9543\n",
            "Epoch 33/300\n",
            "438/438 [==============================] - 1s 2ms/step - loss: 0.1024 - accuracy: 0.9574 - val_loss: 0.1115 - val_accuracy: 0.9509\n",
            "Epoch 34/300\n",
            "438/438 [==============================] - 1s 2ms/step - loss: 0.1010 - accuracy: 0.9584 - val_loss: 0.1147 - val_accuracy: 0.9509\n",
            "Epoch 35/300\n",
            "438/438 [==============================] - 1s 2ms/step - loss: 0.1028 - accuracy: 0.9574 - val_loss: 0.1114 - val_accuracy: 0.9503\n",
            "Epoch 36/300\n",
            "438/438 [==============================] - 1s 2ms/step - loss: 0.1016 - accuracy: 0.9581 - val_loss: 0.1097 - val_accuracy: 0.9520\n",
            "Epoch 37/300\n",
            "438/438 [==============================] - 1s 2ms/step - loss: 0.1011 - accuracy: 0.9577 - val_loss: 0.1165 - val_accuracy: 0.9480\n",
            "Epoch 38/300\n",
            "438/438 [==============================] - 1s 2ms/step - loss: 0.1021 - accuracy: 0.9579 - val_loss: 0.1085 - val_accuracy: 0.9531\n",
            "Epoch 39/300\n",
            "438/438 [==============================] - 1s 2ms/step - loss: 0.1017 - accuracy: 0.9581 - val_loss: 0.1142 - val_accuracy: 0.9486\n",
            "Epoch 40/300\n",
            "438/438 [==============================] - 1s 2ms/step - loss: 0.1009 - accuracy: 0.9579 - val_loss: 0.1120 - val_accuracy: 0.9486\n",
            "Epoch 41/300\n",
            "438/438 [==============================] - 1s 2ms/step - loss: 0.1012 - accuracy: 0.9563 - val_loss: 0.1102 - val_accuracy: 0.9509\n",
            "Epoch 42/300\n",
            "438/438 [==============================] - 1s 2ms/step - loss: 0.1004 - accuracy: 0.9600 - val_loss: 0.1067 - val_accuracy: 0.9509\n",
            "Epoch 43/300\n",
            "438/438 [==============================] - 1s 2ms/step - loss: 0.1008 - accuracy: 0.9579 - val_loss: 0.1099 - val_accuracy: 0.9537\n",
            "Epoch 44/300\n",
            "438/438 [==============================] - 1s 2ms/step - loss: 0.0990 - accuracy: 0.9600 - val_loss: 0.1205 - val_accuracy: 0.9469\n",
            "Epoch 45/300\n",
            "438/438 [==============================] - 1s 2ms/step - loss: 0.1007 - accuracy: 0.9581 - val_loss: 0.1156 - val_accuracy: 0.9491\n",
            "Epoch 46/300\n",
            "438/438 [==============================] - 1s 2ms/step - loss: 0.1000 - accuracy: 0.9589 - val_loss: 0.1153 - val_accuracy: 0.9491\n",
            "Epoch 47/300\n",
            "438/438 [==============================] - 1s 2ms/step - loss: 0.0991 - accuracy: 0.9590 - val_loss: 0.1097 - val_accuracy: 0.9503\n",
            "Epoch 48/300\n",
            "438/438 [==============================] - 1s 2ms/step - loss: 0.0996 - accuracy: 0.9584 - val_loss: 0.1295 - val_accuracy: 0.9457\n",
            "Epoch 49/300\n",
            "438/438 [==============================] - 1s 2ms/step - loss: 0.0998 - accuracy: 0.9591 - val_loss: 0.1098 - val_accuracy: 0.9526\n",
            "Epoch 50/300\n",
            "438/438 [==============================] - 1s 2ms/step - loss: 0.0997 - accuracy: 0.9593 - val_loss: 0.1249 - val_accuracy: 0.9451\n",
            "Epoch 51/300\n",
            "438/438 [==============================] - 1s 2ms/step - loss: 0.0984 - accuracy: 0.9607 - val_loss: 0.1056 - val_accuracy: 0.9543\n",
            "Epoch 52/300\n",
            "438/438 [==============================] - 1s 2ms/step - loss: 0.0969 - accuracy: 0.9593 - val_loss: 0.1264 - val_accuracy: 0.9469\n",
            "Epoch 53/300\n",
            "438/438 [==============================] - 1s 2ms/step - loss: 0.0990 - accuracy: 0.9587 - val_loss: 0.1087 - val_accuracy: 0.9526\n",
            "Epoch 54/300\n",
            "438/438 [==============================] - 1s 2ms/step - loss: 0.0982 - accuracy: 0.9591 - val_loss: 0.1121 - val_accuracy: 0.9509\n",
            "Epoch 55/300\n",
            "438/438 [==============================] - 1s 2ms/step - loss: 0.0989 - accuracy: 0.9594 - val_loss: 0.1146 - val_accuracy: 0.9480\n",
            "Epoch 56/300\n",
            "438/438 [==============================] - 1s 2ms/step - loss: 0.0982 - accuracy: 0.9603 - val_loss: 0.1093 - val_accuracy: 0.9503\n",
            "Epoch 57/300\n",
            "438/438 [==============================] - 1s 2ms/step - loss: 0.0985 - accuracy: 0.9593 - val_loss: 0.1064 - val_accuracy: 0.9503\n",
            "Epoch 58/300\n",
            "438/438 [==============================] - 1s 2ms/step - loss: 0.0989 - accuracy: 0.9590 - val_loss: 0.1221 - val_accuracy: 0.9480\n",
            "Epoch 59/300\n",
            "438/438 [==============================] - 1s 2ms/step - loss: 0.0976 - accuracy: 0.9580 - val_loss: 0.1170 - val_accuracy: 0.9486\n",
            "Epoch 60/300\n",
            "438/438 [==============================] - 1s 2ms/step - loss: 0.0978 - accuracy: 0.9601 - val_loss: 0.1107 - val_accuracy: 0.9503\n",
            "Epoch 61/300\n",
            "438/438 [==============================] - 1s 2ms/step - loss: 0.0987 - accuracy: 0.9586 - val_loss: 0.1050 - val_accuracy: 0.9509\n",
            "Epoch 62/300\n",
            "438/438 [==============================] - 1s 2ms/step - loss: 0.0976 - accuracy: 0.9591 - val_loss: 0.1082 - val_accuracy: 0.9509\n",
            "Epoch 63/300\n",
            "438/438 [==============================] - 1s 2ms/step - loss: 0.0965 - accuracy: 0.9586 - val_loss: 0.1215 - val_accuracy: 0.9480\n",
            "Epoch 64/300\n",
            "438/438 [==============================] - 1s 2ms/step - loss: 0.0967 - accuracy: 0.9601 - val_loss: 0.1045 - val_accuracy: 0.9566\n",
            "Epoch 65/300\n",
            "438/438 [==============================] - 1s 2ms/step - loss: 0.0977 - accuracy: 0.9599 - val_loss: 0.1102 - val_accuracy: 0.9520\n",
            "Epoch 66/300\n",
            "438/438 [==============================] - 1s 2ms/step - loss: 0.0975 - accuracy: 0.9604 - val_loss: 0.1034 - val_accuracy: 0.9537\n",
            "Epoch 67/300\n",
            "438/438 [==============================] - 1s 2ms/step - loss: 0.0979 - accuracy: 0.9597 - val_loss: 0.1043 - val_accuracy: 0.9514\n",
            "Epoch 68/300\n",
            "438/438 [==============================] - 1s 2ms/step - loss: 0.0972 - accuracy: 0.9597 - val_loss: 0.1042 - val_accuracy: 0.9503\n",
            "Epoch 69/300\n",
            "438/438 [==============================] - 1s 2ms/step - loss: 0.0966 - accuracy: 0.9586 - val_loss: 0.1113 - val_accuracy: 0.9497\n",
            "Epoch 70/300\n",
            "438/438 [==============================] - 1s 2ms/step - loss: 0.0971 - accuracy: 0.9594 - val_loss: 0.1123 - val_accuracy: 0.9497\n",
            "Epoch 71/300\n",
            "438/438 [==============================] - 1s 2ms/step - loss: 0.0967 - accuracy: 0.9613 - val_loss: 0.1268 - val_accuracy: 0.9429\n",
            "Epoch 72/300\n",
            "438/438 [==============================] - 1s 2ms/step - loss: 0.0962 - accuracy: 0.9607 - val_loss: 0.1183 - val_accuracy: 0.9486\n",
            "Epoch 73/300\n",
            "438/438 [==============================] - 1s 2ms/step - loss: 0.0976 - accuracy: 0.9586 - val_loss: 0.1061 - val_accuracy: 0.9531\n",
            "Epoch 74/300\n",
            "438/438 [==============================] - 2s 4ms/step - loss: 0.0957 - accuracy: 0.9591 - val_loss: 0.1111 - val_accuracy: 0.9491\n",
            "Epoch 75/300\n",
            "438/438 [==============================] - 1s 3ms/step - loss: 0.0956 - accuracy: 0.9606 - val_loss: 0.1102 - val_accuracy: 0.9526\n",
            "Epoch 76/300\n",
            "438/438 [==============================] - 1s 2ms/step - loss: 0.0955 - accuracy: 0.9616 - val_loss: 0.1024 - val_accuracy: 0.9543\n",
            "Epoch 77/300\n",
            "438/438 [==============================] - 1s 2ms/step - loss: 0.0953 - accuracy: 0.9597 - val_loss: 0.1070 - val_accuracy: 0.9509\n",
            "Epoch 78/300\n",
            "438/438 [==============================] - 1s 2ms/step - loss: 0.0963 - accuracy: 0.9591 - val_loss: 0.1026 - val_accuracy: 0.9520\n",
            "Epoch 79/300\n",
            "438/438 [==============================] - 1s 2ms/step - loss: 0.0949 - accuracy: 0.9590 - val_loss: 0.1159 - val_accuracy: 0.9486\n",
            "Epoch 80/300\n",
            "438/438 [==============================] - 1s 2ms/step - loss: 0.0945 - accuracy: 0.9583 - val_loss: 0.1051 - val_accuracy: 0.9497\n",
            "Epoch 81/300\n",
            "438/438 [==============================] - 1s 2ms/step - loss: 0.0947 - accuracy: 0.9603 - val_loss: 0.1085 - val_accuracy: 0.9491\n",
            "Epoch 82/300\n",
            "438/438 [==============================] - 1s 2ms/step - loss: 0.0943 - accuracy: 0.9619 - val_loss: 0.1096 - val_accuracy: 0.9526\n",
            "Epoch 83/300\n",
            "438/438 [==============================] - 1s 2ms/step - loss: 0.0955 - accuracy: 0.9594 - val_loss: 0.1042 - val_accuracy: 0.9549\n",
            "Epoch 84/300\n",
            "438/438 [==============================] - 1s 2ms/step - loss: 0.0953 - accuracy: 0.9599 - val_loss: 0.1102 - val_accuracy: 0.9474\n",
            "Epoch 85/300\n",
            "438/438 [==============================] - 1s 2ms/step - loss: 0.0944 - accuracy: 0.9600 - val_loss: 0.1046 - val_accuracy: 0.9560\n",
            "Epoch 86/300\n",
            "438/438 [==============================] - 1s 2ms/step - loss: 0.0936 - accuracy: 0.9619 - val_loss: 0.1127 - val_accuracy: 0.9520\n",
            "Epoch 87/300\n",
            "438/438 [==============================] - 1s 2ms/step - loss: 0.0943 - accuracy: 0.9591 - val_loss: 0.1186 - val_accuracy: 0.9509\n",
            "Epoch 88/300\n",
            "438/438 [==============================] - 1s 2ms/step - loss: 0.0950 - accuracy: 0.9614 - val_loss: 0.1088 - val_accuracy: 0.9503\n",
            "Epoch 89/300\n",
            "438/438 [==============================] - 1s 2ms/step - loss: 0.0937 - accuracy: 0.9629 - val_loss: 0.1100 - val_accuracy: 0.9497\n",
            "Epoch 90/300\n",
            "438/438 [==============================] - 1s 2ms/step - loss: 0.0933 - accuracy: 0.9607 - val_loss: 0.1097 - val_accuracy: 0.9531\n",
            "Epoch 91/300\n",
            "438/438 [==============================] - 1s 2ms/step - loss: 0.0958 - accuracy: 0.9616 - val_loss: 0.1023 - val_accuracy: 0.9514\n",
            "Epoch 92/300\n",
            "438/438 [==============================] - 1s 2ms/step - loss: 0.0958 - accuracy: 0.9601 - val_loss: 0.1027 - val_accuracy: 0.9520\n",
            "Epoch 93/300\n",
            "438/438 [==============================] - 1s 2ms/step - loss: 0.0945 - accuracy: 0.9604 - val_loss: 0.1024 - val_accuracy: 0.9537\n",
            "Epoch 94/300\n",
            "438/438 [==============================] - 1s 2ms/step - loss: 0.0936 - accuracy: 0.9604 - val_loss: 0.1080 - val_accuracy: 0.9520\n",
            "Epoch 95/300\n",
            "438/438 [==============================] - 1s 2ms/step - loss: 0.0944 - accuracy: 0.9577 - val_loss: 0.1060 - val_accuracy: 0.9486\n",
            "Epoch 96/300\n",
            "438/438 [==============================] - 1s 2ms/step - loss: 0.0947 - accuracy: 0.9617 - val_loss: 0.1039 - val_accuracy: 0.9486\n",
            "Epoch 97/300\n",
            "438/438 [==============================] - 1s 2ms/step - loss: 0.0949 - accuracy: 0.9594 - val_loss: 0.1039 - val_accuracy: 0.9520\n",
            "Epoch 98/300\n",
            "438/438 [==============================] - 1s 2ms/step - loss: 0.0937 - accuracy: 0.9596 - val_loss: 0.1052 - val_accuracy: 0.9520\n",
            "Epoch 99/300\n",
            "438/438 [==============================] - 1s 2ms/step - loss: 0.0921 - accuracy: 0.9630 - val_loss: 0.1092 - val_accuracy: 0.9497\n",
            "Epoch 100/300\n",
            "438/438 [==============================] - 1s 2ms/step - loss: 0.0931 - accuracy: 0.9604 - val_loss: 0.1158 - val_accuracy: 0.9491\n",
            "Epoch 101/300\n",
            "438/438 [==============================] - 1s 2ms/step - loss: 0.0936 - accuracy: 0.9593 - val_loss: 0.1108 - val_accuracy: 0.9509\n",
            "Epoch 102/300\n",
            "438/438 [==============================] - 1s 2ms/step - loss: 0.0940 - accuracy: 0.9617 - val_loss: 0.1181 - val_accuracy: 0.9451\n",
            "Epoch 103/300\n",
            "438/438 [==============================] - 1s 2ms/step - loss: 0.0936 - accuracy: 0.9610 - val_loss: 0.1002 - val_accuracy: 0.9549\n",
            "Epoch 104/300\n",
            "438/438 [==============================] - 1s 2ms/step - loss: 0.0933 - accuracy: 0.9607 - val_loss: 0.1027 - val_accuracy: 0.9543\n",
            "Epoch 105/300\n",
            "438/438 [==============================] - 2s 4ms/step - loss: 0.0930 - accuracy: 0.9624 - val_loss: 0.1026 - val_accuracy: 0.9549\n",
            "Epoch 106/300\n",
            "438/438 [==============================] - 1s 2ms/step - loss: 0.0947 - accuracy: 0.9580 - val_loss: 0.1220 - val_accuracy: 0.9474\n",
            "Epoch 107/300\n",
            "438/438 [==============================] - 1s 2ms/step - loss: 0.0941 - accuracy: 0.9609 - val_loss: 0.1249 - val_accuracy: 0.9480\n",
            "Epoch 108/300\n",
            "438/438 [==============================] - 1s 3ms/step - loss: 0.0934 - accuracy: 0.9597 - val_loss: 0.1073 - val_accuracy: 0.9520\n",
            "Epoch 109/300\n",
            "438/438 [==============================] - 1s 3ms/step - loss: 0.0925 - accuracy: 0.9613 - val_loss: 0.1259 - val_accuracy: 0.9440\n",
            "Epoch 110/300\n",
            "438/438 [==============================] - 1s 2ms/step - loss: 0.0935 - accuracy: 0.9616 - val_loss: 0.1139 - val_accuracy: 0.9520\n",
            "Epoch 111/300\n",
            "438/438 [==============================] - 1s 2ms/step - loss: 0.0927 - accuracy: 0.9604 - val_loss: 0.0989 - val_accuracy: 0.9554\n",
            "Epoch 112/300\n",
            "438/438 [==============================] - 1s 2ms/step - loss: 0.0927 - accuracy: 0.9604 - val_loss: 0.0997 - val_accuracy: 0.9554\n",
            "Epoch 113/300\n",
            "438/438 [==============================] - 1s 2ms/step - loss: 0.0916 - accuracy: 0.9597 - val_loss: 0.1086 - val_accuracy: 0.9509\n",
            "Epoch 114/300\n",
            "438/438 [==============================] - 1s 2ms/step - loss: 0.0934 - accuracy: 0.9604 - val_loss: 0.1044 - val_accuracy: 0.9543\n",
            "Epoch 115/300\n",
            "438/438 [==============================] - 1s 2ms/step - loss: 0.0925 - accuracy: 0.9604 - val_loss: 0.1045 - val_accuracy: 0.9531\n",
            "Epoch 116/300\n",
            "438/438 [==============================] - 1s 2ms/step - loss: 0.0921 - accuracy: 0.9617 - val_loss: 0.0996 - val_accuracy: 0.9566\n",
            "Epoch 117/300\n",
            "438/438 [==============================] - 1s 2ms/step - loss: 0.0935 - accuracy: 0.9610 - val_loss: 0.0991 - val_accuracy: 0.9583\n",
            "Epoch 118/300\n",
            "438/438 [==============================] - 1s 2ms/step - loss: 0.0928 - accuracy: 0.9610 - val_loss: 0.1015 - val_accuracy: 0.9560\n",
            "Epoch 119/300\n",
            "438/438 [==============================] - 1s 2ms/step - loss: 0.0935 - accuracy: 0.9600 - val_loss: 0.1004 - val_accuracy: 0.9554\n",
            "Epoch 120/300\n",
            "438/438 [==============================] - 1s 2ms/step - loss: 0.0913 - accuracy: 0.9617 - val_loss: 0.1083 - val_accuracy: 0.9543\n",
            "Epoch 121/300\n",
            "438/438 [==============================] - 1s 2ms/step - loss: 0.0926 - accuracy: 0.9629 - val_loss: 0.1044 - val_accuracy: 0.9531\n",
            "Epoch 122/300\n",
            "438/438 [==============================] - 1s 2ms/step - loss: 0.0931 - accuracy: 0.9616 - val_loss: 0.1024 - val_accuracy: 0.9497\n",
            "Epoch 123/300\n",
            "438/438 [==============================] - 1s 2ms/step - loss: 0.0930 - accuracy: 0.9606 - val_loss: 0.0994 - val_accuracy: 0.9531\n",
            "Epoch 124/300\n",
            "438/438 [==============================] - 1s 2ms/step - loss: 0.0922 - accuracy: 0.9617 - val_loss: 0.1003 - val_accuracy: 0.9560\n",
            "Epoch 125/300\n",
            "438/438 [==============================] - 1s 2ms/step - loss: 0.0926 - accuracy: 0.9613 - val_loss: 0.1148 - val_accuracy: 0.9514\n",
            "Epoch 126/300\n",
            "438/438 [==============================] - 1s 2ms/step - loss: 0.0937 - accuracy: 0.9591 - val_loss: 0.1075 - val_accuracy: 0.9554\n",
            "Epoch 127/300\n",
            "438/438 [==============================] - 1s 2ms/step - loss: 0.0919 - accuracy: 0.9626 - val_loss: 0.1047 - val_accuracy: 0.9543\n",
            "Epoch 128/300\n",
            "438/438 [==============================] - 1s 2ms/step - loss: 0.0918 - accuracy: 0.9620 - val_loss: 0.1036 - val_accuracy: 0.9509\n",
            "Epoch 129/300\n",
            "438/438 [==============================] - 1s 2ms/step - loss: 0.0924 - accuracy: 0.9623 - val_loss: 0.1072 - val_accuracy: 0.9531\n",
            "Epoch 130/300\n",
            "438/438 [==============================] - 1s 2ms/step - loss: 0.0914 - accuracy: 0.9621 - val_loss: 0.0998 - val_accuracy: 0.9526\n",
            "Epoch 131/300\n",
            "438/438 [==============================] - 1s 2ms/step - loss: 0.0909 - accuracy: 0.9619 - val_loss: 0.0989 - val_accuracy: 0.9571\n",
            "Epoch 132/300\n",
            "438/438 [==============================] - 1s 2ms/step - loss: 0.0908 - accuracy: 0.9614 - val_loss: 0.0988 - val_accuracy: 0.9543\n",
            "Epoch 133/300\n",
            "438/438 [==============================] - 1s 2ms/step - loss: 0.0922 - accuracy: 0.9624 - val_loss: 0.1067 - val_accuracy: 0.9537\n",
            "Epoch 134/300\n",
            "438/438 [==============================] - 1s 2ms/step - loss: 0.0902 - accuracy: 0.9634 - val_loss: 0.1002 - val_accuracy: 0.9526\n",
            "Epoch 135/300\n",
            "438/438 [==============================] - 1s 2ms/step - loss: 0.0923 - accuracy: 0.9616 - val_loss: 0.1174 - val_accuracy: 0.9503\n",
            "Epoch 136/300\n",
            "438/438 [==============================] - 1s 2ms/step - loss: 0.0921 - accuracy: 0.9617 - val_loss: 0.1240 - val_accuracy: 0.9440\n",
            "Epoch 137/300\n",
            "438/438 [==============================] - 2s 4ms/step - loss: 0.0913 - accuracy: 0.9641 - val_loss: 0.0983 - val_accuracy: 0.9560\n",
            "Epoch 138/300\n",
            "438/438 [==============================] - 2s 4ms/step - loss: 0.0916 - accuracy: 0.9614 - val_loss: 0.1099 - val_accuracy: 0.9509\n",
            "Epoch 139/300\n",
            "438/438 [==============================] - 1s 2ms/step - loss: 0.0925 - accuracy: 0.9609 - val_loss: 0.1069 - val_accuracy: 0.9526\n",
            "Epoch 140/300\n",
            "438/438 [==============================] - 1s 2ms/step - loss: 0.0913 - accuracy: 0.9616 - val_loss: 0.1013 - val_accuracy: 0.9514\n",
            "Epoch 141/300\n",
            "438/438 [==============================] - 1s 2ms/step - loss: 0.0922 - accuracy: 0.9603 - val_loss: 0.1042 - val_accuracy: 0.9480\n",
            "Epoch 142/300\n",
            "438/438 [==============================] - 1s 2ms/step - loss: 0.0931 - accuracy: 0.9609 - val_loss: 0.1024 - val_accuracy: 0.9543\n",
            "Epoch 143/300\n",
            "438/438 [==============================] - 1s 2ms/step - loss: 0.0906 - accuracy: 0.9620 - val_loss: 0.1031 - val_accuracy: 0.9509\n",
            "Epoch 144/300\n",
            "438/438 [==============================] - 1s 2ms/step - loss: 0.0914 - accuracy: 0.9617 - val_loss: 0.0995 - val_accuracy: 0.9571\n",
            "Epoch 145/300\n",
            "438/438 [==============================] - 1s 2ms/step - loss: 0.0913 - accuracy: 0.9626 - val_loss: 0.1226 - val_accuracy: 0.9469\n",
            "Epoch 146/300\n",
            "438/438 [==============================] - 1s 2ms/step - loss: 0.0920 - accuracy: 0.9624 - val_loss: 0.1015 - val_accuracy: 0.9514\n",
            "Epoch 147/300\n",
            "438/438 [==============================] - 1s 2ms/step - loss: 0.0923 - accuracy: 0.9617 - val_loss: 0.0997 - val_accuracy: 0.9554\n",
            "Epoch 148/300\n",
            "438/438 [==============================] - 1s 2ms/step - loss: 0.0917 - accuracy: 0.9620 - val_loss: 0.0987 - val_accuracy: 0.9526\n",
            "Epoch 149/300\n",
            "438/438 [==============================] - 1s 2ms/step - loss: 0.0906 - accuracy: 0.9617 - val_loss: 0.1008 - val_accuracy: 0.9543\n",
            "Epoch 150/300\n",
            "438/438 [==============================] - 1s 2ms/step - loss: 0.0907 - accuracy: 0.9616 - val_loss: 0.1108 - val_accuracy: 0.9531\n",
            "Epoch 151/300\n",
            "438/438 [==============================] - 1s 2ms/step - loss: 0.0913 - accuracy: 0.9621 - val_loss: 0.1159 - val_accuracy: 0.9514\n",
            "Epoch 152/300\n",
            "438/438 [==============================] - 1s 2ms/step - loss: 0.0916 - accuracy: 0.9630 - val_loss: 0.1143 - val_accuracy: 0.9491\n",
            "Epoch 153/300\n",
            "438/438 [==============================] - 1s 2ms/step - loss: 0.0914 - accuracy: 0.9620 - val_loss: 0.1040 - val_accuracy: 0.9537\n",
            "Epoch 154/300\n",
            "438/438 [==============================] - 1s 2ms/step - loss: 0.0909 - accuracy: 0.9636 - val_loss: 0.1114 - val_accuracy: 0.9503\n",
            "Epoch 155/300\n",
            "438/438 [==============================] - 1s 2ms/step - loss: 0.0904 - accuracy: 0.9613 - val_loss: 0.1292 - val_accuracy: 0.9440\n",
            "Epoch 156/300\n",
            "438/438 [==============================] - 1s 2ms/step - loss: 0.0904 - accuracy: 0.9609 - val_loss: 0.1139 - val_accuracy: 0.9497\n",
            "Epoch 157/300\n",
            "438/438 [==============================] - 1s 2ms/step - loss: 0.0924 - accuracy: 0.9621 - val_loss: 0.1023 - val_accuracy: 0.9549\n",
            "Epoch 158/300\n",
            "438/438 [==============================] - 1s 2ms/step - loss: 0.0905 - accuracy: 0.9619 - val_loss: 0.1054 - val_accuracy: 0.9526\n",
            "Epoch 159/300\n",
            "438/438 [==============================] - 1s 2ms/step - loss: 0.0907 - accuracy: 0.9613 - val_loss: 0.1217 - val_accuracy: 0.9469\n",
            "Epoch 160/300\n",
            "438/438 [==============================] - 1s 2ms/step - loss: 0.0893 - accuracy: 0.9616 - val_loss: 0.1154 - val_accuracy: 0.9480\n",
            "Epoch 161/300\n",
            "438/438 [==============================] - 1s 2ms/step - loss: 0.0907 - accuracy: 0.9626 - val_loss: 0.1004 - val_accuracy: 0.9520\n",
            "Epoch 162/300\n",
            "438/438 [==============================] - 1s 2ms/step - loss: 0.0906 - accuracy: 0.9617 - val_loss: 0.1097 - val_accuracy: 0.9509\n"
          ]
        },
        {
          "output_type": "execute_result",
          "data": {
            "text/plain": [
              "[<matplotlib.lines.Line2D at 0x7f0518d3bc10>]"
            ]
          },
          "metadata": {},
          "execution_count": 7
        },
        {
          "output_type": "display_data",
          "data": {
            "text/plain": [
              "<Figure size 432x288 with 1 Axes>"
            ],
            "image/png": "[encoded data removed]"
          },
          "metadata": {
            "needs_background": "light"
          }
        }
      ]
    },
    {
      "cell_type": "code",
      "source": [
        "from keras.metrics import accuracy\n",
        "#test_size = X_test.shape[0]\n",
        "pred = classifier.predict(X_test)\n",
        "#print(pred)\n",
        "pred_ = np.argmax(pred, axis = 1)\n",
        "#print(pred_)\n",
        "pred_ = l_encode.inverse_transform(pred_)\n",
        "\n",
        "true_y = l_encode.inverse_transform(np.argmax(to_categorical(y_test), axis = 1)[:,1])\n",
        "\n",
        "#for i,j in zip(pred_, true_y):\n",
        "#    print(\"Predicted: {}, True: {}\".format(i, j))\n",
        "\n",
        "cnt = 0\n",
        "cnt_correct = 0\n",
        "\n",
        "for i in range(len(pred_)):\n",
        "  cnt += 1\n",
        "  if(pred_[i] == true_y[i]):\n",
        "    cnt_correct += 1\n",
        "\n",
        "print(f'accuracy: {(cnt_correct/cnt)*100:.2f}%')"
      ],
      "metadata": {
        "colab": {
          "base_uri": "https://localhost:8080/"
        },
        "id": "-WKM6CPTczGd",
        "outputId": "94340e3a-fa6e-4946-d12a-95147d4a01d5"
      },
      "execution_count": 8,
      "outputs": [
        {
          "output_type": "stream",
          "name": "stdout",
          "text": [
            "accuracy: 95.60%\n"
          ]
        }
      ]
    },
    {
      "cell_type": "code",
      "source": [
        "from sklearn.metrics import confusion_matrix, ConfusionMatrixDisplay\n",
        "#for i in range(len(pred_)):\n",
        "#  print(true_y[i])\n",
        "#print(confusion_matrix(true_y, pred_, labels=[0, 1, 2, 3]))\n",
        "cm = confusion_matrix(true_y, pred_, labels=[0, 1])\n",
        "cmd = ConfusionMatrixDisplay(cm, display_labels=['easy', 'hard'])\n",
        "#plt.subplot(1, 2, 1)\n",
        "cmd.plot()\n",
        "print(f'accuracy: {(cnt_correct/cnt)*100:.2f}%')"
      ],
      "metadata": {
        "colab": {
          "base_uri": "https://localhost:8080/",
          "height": 300
        },
        "id": "td3mlxlNxXqF",
        "outputId": "6aeb2f7b-c6a1-4b19-b3be-5edee1914301"
      },
      "execution_count": 9,
      "outputs": [
        {
          "output_type": "stream",
          "name": "stdout",
          "text": [
            "accuracy: 95.60%\n"
          ]
        },
        {
          "output_type": "display_data",
          "data": {
            "text/plain": [
              "<Figure size 432x288 with 2 Axes>"
            ],
            "image/png": "[encoded data removed]"
          },
          "metadata": {
            "needs_background": "light"
          }
        }
      ]
    },
    {
      "cell_type": "code",
      "source": [
        "y_new = np.array(y_new)\n",
        "plt.hist(y_new)\n",
        "plt.title('0->[0,2000) : 1->[2000,99999]')\n",
        "plt.show()"
      ],
      "metadata": {
        "id": "a_uXCro7BbBx",
        "outputId": "0afbd7af-bbc5-45ca-b7b3-024189d90023",
        "colab": {
          "base_uri": "https://localhost:8080/",
          "height": 281
        }
      },
      "execution_count": 10,
      "outputs": [
        {
          "output_type": "display_data",
          "data": {
            "text/plain": [
              "<Figure size 432x288 with 1 Axes>"
            ],
            "image/png": "[encoded data removed]"
          },
          "metadata": {
            "needs_background": "light"
          }
        }
      ]
    }
  ]
}