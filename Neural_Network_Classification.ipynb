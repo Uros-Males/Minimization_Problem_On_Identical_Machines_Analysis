{
  "nbformat": 4,
  "nbformat_minor": 0,
  "metadata": {
    "colab": {
      "name": "Neural_Network_Classification.ipynb",
      "provenance": [],
      "authorship_tag": "ABX9TyPWYQf7uvlkLMwdTGfY6rij",
      "include_colab_link": true
    },
    "kernelspec": {
      "name": "python3",
      "display_name": "Python 3"
    },
    "language_info": {
      "name": "python"
    }
  },
  "cells": [
    {
      "cell_type": "markdown",
      "metadata": {
        "id": "view-in-github",
        "colab_type": "text"
      },
      "source": [
        "<a href=\"https://colab.research.google.com/github/Uros-Males/Minimization_Problem_On_Identical_Machines_Analysis/blob/main/Neural_Network_Classification.ipynb\" target=\"_parent\"><img src=\"https://colab.research.google.com/assets/colab-badge.svg\" alt=\"Open In Colab\"/></a>"
      ]
    },
    {
      "cell_type": "code",
      "execution_count": 1,
      "metadata": {
        "colab": {
          "base_uri": "https://localhost:8080/"
        },
        "id": "6u-X4QiVmgm4",
        "outputId": "adc235cf-c0ba-4749-f616-3abbf14933c7"
      },
      "outputs": [
        {
          "output_type": "stream",
          "name": "stdout",
          "text": [
            "8750\n"
          ]
        }
      ],
      "source": [
        "#IN PROGRESS....\n",
        "import pandas as pd\n",
        "import numpy as np\n",
        "import matplotlib.pyplot as plt\n",
        "from sklearn import tree\n",
        "from sklearn.model_selection import train_test_split\n",
        "from sklearn.tree import DecisionTreeRegressor\n",
        "import time\n",
        "import keras\n",
        "\n",
        "df = pd.read_csv('/content/sample_data/C-instances-runtime-analysis.csv')\n",
        "print(df.shape[0])\n",
        "\n",
        "shuffled = df.sample(frac=1).reset_index()\n",
        "\n",
        "columns_dont_want = ['y', 'index', 'inst.name', 'CPLEXStatus','type']\n",
        "select = [x for x in shuffled.columns if x not in columns_dont_want]\n",
        "\n",
        "X = shuffled.loc[:, select]\n",
        "\n",
        "y = shuffled.loc[:,'y']\n",
        "\n"
      ]
    },
    {
      "cell_type": "code",
      "source": [
        "y_new = []\n",
        "for val in y:\n",
        "  if(val<10):\n",
        "    y_new.append(0)\n",
        "  elif(10 <= val and val <100):\n",
        "    y_new.append(1)\n",
        "  elif(100<=val and val<1000):\n",
        "    y_new.append(2)\n",
        "  else:\n",
        "    y_new.append(3)\n",
        "\n",
        "shuffled['y_new'] = y_new\n",
        "#print(shuffled.head())\n",
        "y_encoded = shuffled.loc[:,'y_new']\n",
        "y_new = np.array(y_new)\n",
        "plt.hist(y_new)\n",
        "plt.show()\n",
        "X_modified = X.drop(['n/m', '(n/m)^2', '(n/m)^3', 'm/n', '(m/n)^2', '(m/n)^3', 'class', 'max', 'av.length'], axis = 1)\n",
        "#print(X_modified.shape[1])"
      ],
      "metadata": {
        "id": "XkPXcbO0riCC",
        "colab": {
          "base_uri": "https://localhost:8080/",
          "height": 265
        },
        "outputId": "a61cc452-3503-4d99-e826-ac811e2cf881"
      },
      "execution_count": 2,
      "outputs": [
        {
          "output_type": "display_data",
          "data": {
            "text/plain": [
              "<Figure size 432x288 with 1 Axes>"
            ],
            "image/png": "[encoded data removed]"
          },
          "metadata": {
            "needs_background": "light"
          }
        }
      ]
    },
    {
      "cell_type": "code",
      "source": [
        "from sklearn.preprocessing import LabelEncoder\n",
        "from keras.utils.np_utils import to_categorical\n",
        "\n",
        "l_encode = LabelEncoder()\n",
        "l_encode.fit(y_encoded)\n",
        "y_encoded = l_encode.transform(y_encoded)\n",
        "y_encoded = to_categorical(y_encoded)\n",
        "y_encoded"
      ],
      "metadata": {
        "colab": {
          "base_uri": "https://localhost:8080/"
        },
        "id": "W2hvUxxE2NWr",
        "outputId": "e7c9db4b-76bf-4943-934b-a2b93218ad23"
      },
      "execution_count": 3,
      "outputs": [
        {
          "output_type": "execute_result",
          "data": {
            "text/plain": [
              "array([[1., 0., 0., 0.],\n",
              "       [0., 0., 0., 1.],\n",
              "       [0., 0., 0., 1.],\n",
              "       ...,\n",
              "       [0., 0., 0., 1.],\n",
              "       [1., 0., 0., 0.],\n",
              "       [0., 0., 1., 0.]], dtype=float32)"
            ]
          },
          "metadata": {},
          "execution_count": 3
        }
      ]
    },
    {
      "cell_type": "code",
      "source": [
        "from keras.models import Sequential\n",
        "from keras.layers import Dense, Dropout\n",
        "\n",
        "classifier = Sequential()\n",
        "classifier.add(Dense(8, input_dim = X_modified.shape[1], activation='relu'))\n",
        "#classifier.add(Dense(8, activation = 'relu'))\n",
        "\n",
        "classifier.add(Dense(16, activation = 'relu'))\n",
        "#classifier.add(Dropout(0.25))\n",
        "\n",
        "classifier.add(Dense(8, activation = 'relu'))\n",
        "\n",
        "classifier.add(Dense(4, activation = 'softmax'))\n",
        "classifier.compile(loss = 'categorical_crossentropy', optimizer = 'adam', metrics = ['accuracy'])\n",
        "classifier.summary()"
      ],
      "metadata": {
        "id": "jRT-grzys8_y",
        "colab": {
          "base_uri": "https://localhost:8080/"
        },
        "outputId": "118fde8c-1f3f-47dd-f7f6-875ec8f91cc4"
      },
      "execution_count": 4,
      "outputs": [
        {
          "output_type": "stream",
          "name": "stdout",
          "text": [
            "Model: \"sequential\"\n",
            "_________________________________________________________________\n",
            " Layer (type)                Output Shape              Param #   \n",
            "=================================================================\n",
            " dense (Dense)               (None, 8)                 80        \n",
            "                                                                 \n",
            " dense_1 (Dense)             (None, 16)                144       \n",
            "                                                                 \n",
            " dense_2 (Dense)             (None, 8)                 136       \n",
            "                                                                 \n",
            " dense_3 (Dense)             (None, 4)                 36        \n",
            "                                                                 \n",
            "=================================================================\n",
            "Total params: 396\n",
            "Trainable params: 396\n",
            "Non-trainable params: 0\n",
            "_________________________________________________________________\n"
          ]
        }
      ]
    },
    {
      "cell_type": "code",
      "source": [
        "from sklearn.preprocessing import MinMaxScaler\n",
        "scaler =  MinMaxScaler()\n",
        "\n",
        "X_train, X_test, y_train, y_test = train_test_split(X_modified, y_encoded, random_state=0, train_size = 0.85)\n",
        "\n",
        "X_train = scaler.fit_transform(X_train)\n",
        "X_test = scaler.fit_transform(X_test)"
      ],
      "metadata": {
        "id": "gWTX6M2mxxPD"
      },
      "execution_count": 5,
      "outputs": []
    },
    {
      "cell_type": "code",
      "source": [
        "#classifier.fit(X_train, y_train, batch_size = 64, epochs = 20, verbose = 1)\n",
        "#scores = classifier.evaluate(X_test, y_test)\n",
        "#for i, m in enumerate(classifier.metrics_names):\n",
        "#    print(\"\\n%s: %.3f\"% (m, scores[i]))\n"
      ],
      "metadata": {
        "id": "Mm7RsTBcx2EN"
      },
      "execution_count": 6,
      "outputs": []
    },
    {
      "cell_type": "code",
      "source": [
        "from keras.metrics import accuracy\n",
        "from keras import callbacks\n",
        "earlystopping = callbacks.EarlyStopping(monitor =\"val_loss\", \n",
        "                                        mode =\"min\", patience = 8, \n",
        "                                        restore_best_weights = True)\n",
        "  \n",
        "history = classifier.fit(X_train, y_train, batch_size = 16, \n",
        "                    epochs = 300, validation_data =(X_test, y_test), \n",
        "                    callbacks =[earlystopping])\n",
        "plt.plot(history.history['val_accuracy'])\n",
        "\n"
      ],
      "metadata": {
        "colab": {
          "base_uri": "https://localhost:8080/",
          "height": 1000
        },
        "id": "Sv9aKFPW5KGr",
        "outputId": "d32dde45-63e7-4fa2-c359-3396e9eb9e33"
      },
      "execution_count": 7,
      "outputs": [
        {
          "output_type": "stream",
          "name": "stdout",
          "text": [
            "Epoch 1/300\n",
            "465/465 [==============================] - 3s 4ms/step - loss: 1.1646 - accuracy: 0.4818 - val_loss: 0.9549 - val_accuracy: 0.6215\n",
            "Epoch 2/300\n",
            "465/465 [==============================] - 1s 3ms/step - loss: 0.7219 - accuracy: 0.7230 - val_loss: 0.6341 - val_accuracy: 0.7403\n",
            "Epoch 3/300\n",
            "465/465 [==============================] - 2s 3ms/step - loss: 0.5569 - accuracy: 0.7734 - val_loss: 0.5599 - val_accuracy: 0.7723\n",
            "Epoch 4/300\n",
            "465/465 [==============================] - 2s 4ms/step - loss: 0.5206 - accuracy: 0.7779 - val_loss: 0.5356 - val_accuracy: 0.7845\n",
            "Epoch 5/300\n",
            "465/465 [==============================] - 1s 3ms/step - loss: 0.5028 - accuracy: 0.7851 - val_loss: 0.5346 - val_accuracy: 0.7768\n",
            "Epoch 6/300\n",
            "465/465 [==============================] - 2s 4ms/step - loss: 0.4951 - accuracy: 0.7866 - val_loss: 0.5224 - val_accuracy: 0.7837\n",
            "Epoch 7/300\n",
            "465/465 [==============================] - 2s 4ms/step - loss: 0.4875 - accuracy: 0.7905 - val_loss: 0.5156 - val_accuracy: 0.7883\n",
            "Epoch 8/300\n",
            "465/465 [==============================] - 2s 3ms/step - loss: 0.4847 - accuracy: 0.7909 - val_loss: 0.5148 - val_accuracy: 0.7852\n",
            "Epoch 9/300\n",
            "465/465 [==============================] - 1s 3ms/step - loss: 0.4818 - accuracy: 0.7914 - val_loss: 0.5099 - val_accuracy: 0.7921\n",
            "Epoch 10/300\n",
            "465/465 [==============================] - 1s 3ms/step - loss: 0.4793 - accuracy: 0.7941 - val_loss: 0.5133 - val_accuracy: 0.7845\n",
            "Epoch 11/300\n",
            "465/465 [==============================] - 2s 3ms/step - loss: 0.4762 - accuracy: 0.7939 - val_loss: 0.5138 - val_accuracy: 0.7860\n",
            "Epoch 12/300\n",
            "465/465 [==============================] - 2s 4ms/step - loss: 0.4760 - accuracy: 0.7956 - val_loss: 0.5028 - val_accuracy: 0.7951\n",
            "Epoch 13/300\n",
            "465/465 [==============================] - 2s 3ms/step - loss: 0.4720 - accuracy: 0.7962 - val_loss: 0.5001 - val_accuracy: 0.7906\n",
            "Epoch 14/300\n",
            "465/465 [==============================] - 2s 3ms/step - loss: 0.4690 - accuracy: 0.7975 - val_loss: 0.4950 - val_accuracy: 0.7936\n",
            "Epoch 15/300\n",
            "465/465 [==============================] - 1s 2ms/step - loss: 0.4677 - accuracy: 0.7983 - val_loss: 0.4976 - val_accuracy: 0.7936\n",
            "Epoch 16/300\n",
            "465/465 [==============================] - 1s 2ms/step - loss: 0.4682 - accuracy: 0.7963 - val_loss: 0.4974 - val_accuracy: 0.7951\n",
            "Epoch 17/300\n",
            "465/465 [==============================] - 1s 2ms/step - loss: 0.4646 - accuracy: 0.7991 - val_loss: 0.4883 - val_accuracy: 0.7913\n",
            "Epoch 18/300\n",
            "465/465 [==============================] - 1s 2ms/step - loss: 0.4620 - accuracy: 0.8010 - val_loss: 0.4872 - val_accuracy: 0.7936\n",
            "Epoch 19/300\n",
            "465/465 [==============================] - 1s 2ms/step - loss: 0.4599 - accuracy: 0.8011 - val_loss: 0.4941 - val_accuracy: 0.7974\n",
            "Epoch 20/300\n",
            "465/465 [==============================] - 1s 2ms/step - loss: 0.4576 - accuracy: 0.8029 - val_loss: 0.4889 - val_accuracy: 0.8035\n",
            "Epoch 21/300\n",
            "465/465 [==============================] - 1s 2ms/step - loss: 0.4560 - accuracy: 0.7992 - val_loss: 0.4824 - val_accuracy: 0.8035\n",
            "Epoch 22/300\n",
            "465/465 [==============================] - 1s 2ms/step - loss: 0.4530 - accuracy: 0.8034 - val_loss: 0.4810 - val_accuracy: 0.8050\n",
            "Epoch 23/300\n",
            "465/465 [==============================] - 1s 2ms/step - loss: 0.4500 - accuracy: 0.8072 - val_loss: 0.4728 - val_accuracy: 0.8043\n",
            "Epoch 24/300\n",
            "465/465 [==============================] - 1s 2ms/step - loss: 0.4494 - accuracy: 0.8052 - val_loss: 0.4737 - val_accuracy: 0.8073\n",
            "Epoch 25/300\n",
            "465/465 [==============================] - 1s 2ms/step - loss: 0.4448 - accuracy: 0.8045 - val_loss: 0.4796 - val_accuracy: 0.7928\n",
            "Epoch 26/300\n",
            "465/465 [==============================] - 1s 2ms/step - loss: 0.4443 - accuracy: 0.8034 - val_loss: 0.4663 - val_accuracy: 0.8020\n",
            "Epoch 27/300\n",
            "465/465 [==============================] - 1s 2ms/step - loss: 0.4431 - accuracy: 0.8080 - val_loss: 0.4668 - val_accuracy: 0.7951\n",
            "Epoch 28/300\n",
            "465/465 [==============================] - 1s 2ms/step - loss: 0.4405 - accuracy: 0.8053 - val_loss: 0.4754 - val_accuracy: 0.7997\n",
            "Epoch 29/300\n",
            "465/465 [==============================] - 1s 2ms/step - loss: 0.4367 - accuracy: 0.8070 - val_loss: 0.4641 - val_accuracy: 0.8058\n",
            "Epoch 30/300\n",
            "465/465 [==============================] - 1s 2ms/step - loss: 0.4360 - accuracy: 0.8081 - val_loss: 0.4592 - val_accuracy: 0.8065\n",
            "Epoch 31/300\n",
            "465/465 [==============================] - 1s 2ms/step - loss: 0.4363 - accuracy: 0.8057 - val_loss: 0.4622 - val_accuracy: 0.8104\n",
            "Epoch 32/300\n",
            "465/465 [==============================] - 1s 2ms/step - loss: 0.4342 - accuracy: 0.8107 - val_loss: 0.4560 - val_accuracy: 0.7997\n",
            "Epoch 33/300\n",
            "465/465 [==============================] - 1s 2ms/step - loss: 0.4324 - accuracy: 0.8101 - val_loss: 0.4610 - val_accuracy: 0.7951\n",
            "Epoch 34/300\n",
            "465/465 [==============================] - 1s 2ms/step - loss: 0.4318 - accuracy: 0.8088 - val_loss: 0.4513 - val_accuracy: 0.8027\n",
            "Epoch 35/300\n",
            "465/465 [==============================] - 1s 2ms/step - loss: 0.4313 - accuracy: 0.8097 - val_loss: 0.4623 - val_accuracy: 0.8111\n",
            "Epoch 36/300\n",
            "465/465 [==============================] - 1s 2ms/step - loss: 0.4289 - accuracy: 0.8084 - val_loss: 0.4501 - val_accuracy: 0.8157\n",
            "Epoch 37/300\n",
            "465/465 [==============================] - 1s 2ms/step - loss: 0.4266 - accuracy: 0.8134 - val_loss: 0.4472 - val_accuracy: 0.8058\n",
            "Epoch 38/300\n",
            "465/465 [==============================] - 1s 2ms/step - loss: 0.4284 - accuracy: 0.8089 - val_loss: 0.4471 - val_accuracy: 0.8065\n",
            "Epoch 39/300\n",
            "465/465 [==============================] - 1s 2ms/step - loss: 0.4266 - accuracy: 0.8130 - val_loss: 0.4466 - val_accuracy: 0.8081\n",
            "Epoch 40/300\n",
            "465/465 [==============================] - 1s 2ms/step - loss: 0.4249 - accuracy: 0.8134 - val_loss: 0.4529 - val_accuracy: 0.8126\n",
            "Epoch 41/300\n",
            "465/465 [==============================] - 1s 2ms/step - loss: 0.4261 - accuracy: 0.8124 - val_loss: 0.4419 - val_accuracy: 0.8096\n",
            "Epoch 42/300\n",
            "465/465 [==============================] - 1s 2ms/step - loss: 0.4261 - accuracy: 0.8111 - val_loss: 0.4435 - val_accuracy: 0.8104\n",
            "Epoch 43/300\n",
            "465/465 [==============================] - 1s 2ms/step - loss: 0.4253 - accuracy: 0.8084 - val_loss: 0.4511 - val_accuracy: 0.8104\n",
            "Epoch 44/300\n",
            "465/465 [==============================] - 1s 2ms/step - loss: 0.4250 - accuracy: 0.8116 - val_loss: 0.4427 - val_accuracy: 0.8081\n",
            "Epoch 45/300\n",
            "465/465 [==============================] - 1s 2ms/step - loss: 0.4245 - accuracy: 0.8119 - val_loss: 0.4601 - val_accuracy: 0.8065\n",
            "Epoch 46/300\n",
            "465/465 [==============================] - 1s 2ms/step - loss: 0.4226 - accuracy: 0.8140 - val_loss: 0.4400 - val_accuracy: 0.8043\n",
            "Epoch 47/300\n",
            "465/465 [==============================] - 1s 2ms/step - loss: 0.4211 - accuracy: 0.8134 - val_loss: 0.4468 - val_accuracy: 0.7928\n",
            "Epoch 48/300\n",
            "465/465 [==============================] - 1s 2ms/step - loss: 0.4235 - accuracy: 0.8084 - val_loss: 0.4416 - val_accuracy: 0.8104\n",
            "Epoch 49/300\n",
            "465/465 [==============================] - 1s 2ms/step - loss: 0.4218 - accuracy: 0.8144 - val_loss: 0.4339 - val_accuracy: 0.8096\n",
            "Epoch 50/300\n",
            "465/465 [==============================] - 1s 2ms/step - loss: 0.4233 - accuracy: 0.8101 - val_loss: 0.4367 - val_accuracy: 0.8157\n",
            "Epoch 51/300\n",
            "465/465 [==============================] - 1s 2ms/step - loss: 0.4183 - accuracy: 0.8107 - val_loss: 0.4407 - val_accuracy: 0.8104\n",
            "Epoch 52/300\n",
            "465/465 [==============================] - 1s 3ms/step - loss: 0.4209 - accuracy: 0.8103 - val_loss: 0.4375 - val_accuracy: 0.8111\n",
            "Epoch 53/300\n",
            "465/465 [==============================] - 1s 2ms/step - loss: 0.4186 - accuracy: 0.8157 - val_loss: 0.4345 - val_accuracy: 0.8119\n",
            "Epoch 54/300\n",
            "465/465 [==============================] - 1s 2ms/step - loss: 0.4199 - accuracy: 0.8130 - val_loss: 0.4420 - val_accuracy: 0.8157\n",
            "Epoch 55/300\n",
            "465/465 [==============================] - 1s 2ms/step - loss: 0.4220 - accuracy: 0.8076 - val_loss: 0.4406 - val_accuracy: 0.8073\n",
            "Epoch 56/300\n",
            "465/465 [==============================] - 1s 2ms/step - loss: 0.4203 - accuracy: 0.8104 - val_loss: 0.4299 - val_accuracy: 0.8111\n",
            "Epoch 57/300\n",
            "465/465 [==============================] - 1s 2ms/step - loss: 0.4185 - accuracy: 0.8101 - val_loss: 0.4332 - val_accuracy: 0.8187\n",
            "Epoch 58/300\n",
            "465/465 [==============================] - 1s 2ms/step - loss: 0.4184 - accuracy: 0.8134 - val_loss: 0.4328 - val_accuracy: 0.8111\n",
            "Epoch 59/300\n",
            "465/465 [==============================] - 1s 2ms/step - loss: 0.4168 - accuracy: 0.8159 - val_loss: 0.4365 - val_accuracy: 0.8172\n",
            "Epoch 60/300\n",
            "465/465 [==============================] - 1s 2ms/step - loss: 0.4165 - accuracy: 0.8130 - val_loss: 0.4368 - val_accuracy: 0.8172\n",
            "Epoch 61/300\n",
            "465/465 [==============================] - 1s 2ms/step - loss: 0.4147 - accuracy: 0.8157 - val_loss: 0.4300 - val_accuracy: 0.8081\n",
            "Epoch 62/300\n",
            "465/465 [==============================] - 1s 2ms/step - loss: 0.4179 - accuracy: 0.8128 - val_loss: 0.4345 - val_accuracy: 0.8172\n",
            "Epoch 63/300\n",
            "465/465 [==============================] - 1s 2ms/step - loss: 0.4144 - accuracy: 0.8143 - val_loss: 0.4385 - val_accuracy: 0.8119\n",
            "Epoch 64/300\n",
            "465/465 [==============================] - 1s 2ms/step - loss: 0.4150 - accuracy: 0.8134 - val_loss: 0.4363 - val_accuracy: 0.8119\n"
          ]
        },
        {
          "output_type": "execute_result",
          "data": {
            "text/plain": [
              "[<matplotlib.lines.Line2D at 0x7fb2b6f34190>]"
            ]
          },
          "metadata": {},
          "execution_count": 7
        },
        {
          "output_type": "display_data",
          "data": {
            "text/plain": [
              "<Figure size 432x288 with 1 Axes>"
            ],
            "image/png": "[encoded data removed]"
          },
          "metadata": {
            "needs_background": "light"
          }
        }
      ]
    },
    {
      "cell_type": "code",
      "source": [
        "from keras.metrics import accuracy\n",
        "#test_size = X_test.shape[0]\n",
        "pred = classifier.predict(X_test)\n",
        "#print(pred)\n",
        "pred_ = np.argmax(pred, axis = 1)\n",
        "#print(pred_)\n",
        "pred_ = l_encode.inverse_transform(pred_)\n",
        "\n",
        "true_y = l_encode.inverse_transform(np.argmax(to_categorical(y_test), axis = 1)[:,1])\n",
        "\n",
        "#for i,j in zip(pred_, true_y):\n",
        "#    print(\"Predicted: {}, True: {}\".format(i, j))\n",
        "\n",
        "cnt = 0\n",
        "cnt_correct = 0\n",
        "\n",
        "for i in range(len(pred_)):\n",
        "  cnt += 1\n",
        "  if(pred_[i] == true_y[i]):\n",
        "    cnt_correct += 1\n",
        "\n",
        "print(f'accuracy: {(cnt_correct/cnt)*100:.2f}%')"
      ],
      "metadata": {
        "colab": {
          "base_uri": "https://localhost:8080/"
        },
        "id": "-WKM6CPTczGd",
        "outputId": "cfe86fa7-5328-42b0-8291-1c1e22970d27"
      },
      "execution_count": 8,
      "outputs": [
        {
          "output_type": "stream",
          "name": "stdout",
          "text": [
            "accuracy: 81.11%\n"
          ]
        }
      ]
    }
  ]
}