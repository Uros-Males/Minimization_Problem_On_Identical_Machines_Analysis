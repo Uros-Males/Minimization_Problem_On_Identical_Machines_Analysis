{
  "nbformat": 4,
  "nbformat_minor": 0,
  "metadata": {
    "colab": {
      "name": "Neural_Network_Classification.ipynb",
      "provenance": [],
      "authorship_tag": "ABX9TyNZ8fiv4qnHz2DMHy0j/MG2",
      "include_colab_link": true
    },
    "kernelspec": {
      "name": "python3",
      "display_name": "Python 3"
    },
    "language_info": {
      "name": "python"
    }
  },
  "cells": [
    {
      "cell_type": "markdown",
      "metadata": {
        "id": "view-in-github",
        "colab_type": "text"
      },
      "source": [
        "<a href=\"https://colab.research.google.com/github/Uros-Males/Minimization_Problem_On_Identical_Machines_Analysis/blob/main/Neural_Network_Classification.ipynb\" target=\"_parent\"><img src=\"https://colab.research.google.com/assets/colab-badge.svg\" alt=\"Open In Colab\"/></a>"
      ]
    },
    {
      "cell_type": "code",
      "execution_count": 1,
      "metadata": {
        "colab": {
          "base_uri": "https://localhost:8080/"
        },
        "id": "6u-X4QiVmgm4",
        "outputId": "11164bf5-9924-4975-bfa7-2e3d07ed972b"
      },
      "outputs": [
        {
          "output_type": "stream",
          "name": "stdout",
          "text": [
            "8750\n"
          ]
        }
      ],
      "source": [
        "#IN PROGRESS....\n",
        "import pandas as pd\n",
        "import numpy as np\n",
        "import matplotlib.pyplot as plt\n",
        "from sklearn import tree\n",
        "from sklearn.model_selection import train_test_split\n",
        "from sklearn.tree import DecisionTreeRegressor\n",
        "import time\n",
        "import keras\n",
        "\n",
        "df = pd.read_csv('/content/sample_data/C-instances-runtime-analysis.csv')\n",
        "print(df.shape[0])\n",
        "\n",
        "shuffled = df.sample(frac=1).reset_index()\n",
        "\n",
        "columns_dont_want = ['y', 'index', 'inst.name','type', 'CPLEXStatus'] #cple\n",
        "select = [x for x in shuffled.columns if x not in columns_dont_want]\n",
        "\n",
        "X = shuffled.loc[:, select]\n",
        "\n",
        "y = shuffled.loc[:,'y']\n",
        "\n"
      ]
    },
    {
      "cell_type": "code",
      "source": [
        "y_new = []\n",
        "for val in y:\n",
        "  if(val<10):\n",
        "    y_new.append(0)\n",
        "  elif(10 <= val and val <100):\n",
        "    y_new.append(1)\n",
        "  elif(100<=val and val<1000):\n",
        "    y_new.append(2)\n",
        "  else:\n",
        "    y_new.append(3)\n",
        "\n",
        "shuffled['y_new'] = y_new\n",
        "#print(shuffled.head())\n",
        "y_encoded = shuffled.loc[:,'y_new']\n",
        "y_new = np.array(y_new)\n",
        "plt.hist(y_new)\n",
        "plt.show()\n",
        "X_modified = X\n",
        "#X_modified = X.drop(['n/m', '(n/m)^2', '(n/m)^3', 'm/n', '(m/n)^2', '(m/n)^3', 'max', 'av.length'], axis = 1)\n",
        "#print(X_modified.shape[1])"
      ],
      "metadata": {
        "id": "XkPXcbO0riCC",
        "colab": {
          "base_uri": "https://localhost:8080/",
          "height": 265
        },
        "outputId": "bdfc8436-2a9f-4b52-9078-3db9fa442ada"
      },
      "execution_count": 2,
      "outputs": [
        {
          "output_type": "display_data",
          "data": {
            "text/plain": [
              "<Figure size 432x288 with 1 Axes>"
            ],
            "image/png": "[encoded data removed]"
          },
          "metadata": {
            "needs_background": "light"
          }
        }
      ]
    },
    {
      "cell_type": "code",
      "source": [
        "from sklearn.preprocessing import LabelEncoder\n",
        "from keras.utils.np_utils import to_categorical\n",
        "\n",
        "l_encode = LabelEncoder()\n",
        "l_encode.fit(y_encoded)\n",
        "y_encoded = l_encode.transform(y_encoded)\n",
        "y_encoded = to_categorical(y_encoded)\n",
        "y_encoded"
      ],
      "metadata": {
        "colab": {
          "base_uri": "https://localhost:8080/"
        },
        "id": "W2hvUxxE2NWr",
        "outputId": "73e9a2ba-1246-4c3b-9c35-fc5138f6b0d9"
      },
      "execution_count": 3,
      "outputs": [
        {
          "output_type": "execute_result",
          "data": {
            "text/plain": [
              "array([[1., 0., 0., 0.],\n",
              "       [0., 1., 0., 0.],\n",
              "       [0., 0., 0., 1.],\n",
              "       ...,\n",
              "       [0., 1., 0., 0.],\n",
              "       [0., 0., 1., 0.],\n",
              "       [0., 1., 0., 0.]], dtype=float32)"
            ]
          },
          "metadata": {},
          "execution_count": 3
        }
      ]
    },
    {
      "cell_type": "code",
      "source": [
        "from keras.models import Sequential\n",
        "from keras.layers import Dense, Dropout\n",
        "\n",
        "classifier = Sequential()\n",
        "classifier.add(Dense(8, input_dim = X_modified.shape[1], activation='relu'))\n",
        "#classifier.add(Dense(8, activation = 'relu'))\n",
        "\n",
        "classifier.add(Dense(16, activation = 'relu'))\n",
        "\n",
        "#classifier.add(Dense(32, activation = 'relu'))\n",
        "#classifier.add(Dense(32, activation = 'relu'))\n",
        "#classifier.add(Dense(16, activation = 'relu'))\n",
        "\n",
        "classifier.add(Dense(32, activation='relu'))\n",
        "\n",
        "classifier.add(Dense(64, activation='relu'))\n",
        "\n",
        "classifier.add(Dense(16, activation='relu'))\n",
        "\n",
        "classifier.add(Dense(4, activation = 'softmax'))\n",
        "classifier.compile(loss = 'categorical_crossentropy', optimizer = 'adam', metrics = ['accuracy'])\n",
        "classifier.summary()"
      ],
      "metadata": {
        "id": "jRT-grzys8_y",
        "colab": {
          "base_uri": "https://localhost:8080/"
        },
        "outputId": "777b89aa-73cf-48d8-e482-4617388c1da1"
      },
      "execution_count": 4,
      "outputs": [
        {
          "output_type": "stream",
          "name": "stdout",
          "text": [
            "Model: \"sequential\"\n",
            "_________________________________________________________________\n",
            " Layer (type)                Output Shape              Param #   \n",
            "=================================================================\n",
            " dense (Dense)               (None, 8)                 152       \n",
            "                                                                 \n",
            " dense_1 (Dense)             (None, 16)                144       \n",
            "                                                                 \n",
            " dense_2 (Dense)             (None, 32)                544       \n",
            "                                                                 \n",
            " dense_3 (Dense)             (None, 64)                2112      \n",
            "                                                                 \n",
            " dense_4 (Dense)             (None, 16)                1040      \n",
            "                                                                 \n",
            " dense_5 (Dense)             (None, 4)                 68        \n",
            "                                                                 \n",
            "=================================================================\n",
            "Total params: 4,060\n",
            "Trainable params: 4,060\n",
            "Non-trainable params: 0\n",
            "_________________________________________________________________\n"
          ]
        }
      ]
    },
    {
      "cell_type": "code",
      "source": [
        "from sklearn.preprocessing import MinMaxScaler\n",
        "scaler =  MinMaxScaler()\n",
        "\n",
        "X_train, X_test, y_train, y_test = train_test_split(X_modified, y_encoded, random_state=0, train_size = 0.83)\n",
        "\n",
        "X_train = scaler.fit_transform(X_train)\n",
        "X_test = scaler.fit_transform(X_test)"
      ],
      "metadata": {
        "id": "gWTX6M2mxxPD"
      },
      "execution_count": 5,
      "outputs": []
    },
    {
      "cell_type": "code",
      "source": [
        "#classifier.fit(X_train, y_train, batch_size = 64, epochs = 20, verbose = 1)\n",
        "#scores = classifier.evaluate(X_test, y_test)\n",
        "#for i, m in enumerate(classifier.metrics_names):\n",
        "#    print(\"\\n%s: %.3f\"% (m, scores[i]))\n"
      ],
      "metadata": {
        "id": "Mm7RsTBcx2EN"
      },
      "execution_count": 6,
      "outputs": []
    },
    {
      "cell_type": "code",
      "source": [
        "from keras.metrics import accuracy\n",
        "from keras import callbacks\n",
        "earlystopping = callbacks.EarlyStopping(monitor =\"val_loss\", \n",
        "                                        mode =\"min\", patience = 15, \n",
        "                                        restore_best_weights = True)\n",
        "  \n",
        "history = classifier.fit(X_train, y_train, batch_size = 16, \n",
        "                    epochs = 600, validation_data =(X_test, y_test), \n",
        "                    callbacks =[earlystopping])\n",
        "plt.plot(history.history['val_accuracy'])\n",
        "\n"
      ],
      "metadata": {
        "colab": {
          "base_uri": "https://localhost:8080/",
          "height": 1000
        },
        "id": "Sv9aKFPW5KGr",
        "outputId": "a49d8c71-19df-49cc-a7f5-55052d31c574"
      },
      "execution_count": 7,
      "outputs": [
        {
          "output_type": "stream",
          "name": "stdout",
          "text": [
            "Epoch 1/600\n",
            "454/454 [==============================] - 5s 8ms/step - loss: 0.7756 - accuracy: 0.6807 - val_loss: 0.5373 - val_accuracy: 0.7735\n",
            "Epoch 2/600\n",
            "454/454 [==============================] - 3s 6ms/step - loss: 0.5457 - accuracy: 0.7837 - val_loss: 0.5175 - val_accuracy: 0.7776\n",
            "Epoch 3/600\n",
            "454/454 [==============================] - 3s 6ms/step - loss: 0.5165 - accuracy: 0.7841 - val_loss: 0.4721 - val_accuracy: 0.7964\n",
            "Epoch 4/600\n",
            "454/454 [==============================] - 3s 6ms/step - loss: 0.4981 - accuracy: 0.7917 - val_loss: 0.4597 - val_accuracy: 0.7950\n",
            "Epoch 5/600\n",
            "454/454 [==============================] - 2s 5ms/step - loss: 0.4836 - accuracy: 0.7968 - val_loss: 0.4476 - val_accuracy: 0.8065\n",
            "Epoch 6/600\n",
            "454/454 [==============================] - 3s 6ms/step - loss: 0.4769 - accuracy: 0.7936 - val_loss: 0.4575 - val_accuracy: 0.8011\n",
            "Epoch 7/600\n",
            "454/454 [==============================] - 3s 7ms/step - loss: 0.4704 - accuracy: 0.8047 - val_loss: 0.4849 - val_accuracy: 0.7789\n",
            "Epoch 8/600\n",
            "454/454 [==============================] - 2s 5ms/step - loss: 0.4573 - accuracy: 0.8043 - val_loss: 0.4391 - val_accuracy: 0.8105\n",
            "Epoch 9/600\n",
            "454/454 [==============================] - 2s 5ms/step - loss: 0.4545 - accuracy: 0.8027 - val_loss: 0.4299 - val_accuracy: 0.8118\n",
            "Epoch 10/600\n",
            "454/454 [==============================] - 1s 3ms/step - loss: 0.4473 - accuracy: 0.8097 - val_loss: 0.4233 - val_accuracy: 0.8105\n",
            "Epoch 11/600\n",
            "454/454 [==============================] - 1s 3ms/step - loss: 0.4415 - accuracy: 0.8094 - val_loss: 0.4377 - val_accuracy: 0.7937\n",
            "Epoch 12/600\n",
            "454/454 [==============================] - 1s 3ms/step - loss: 0.4379 - accuracy: 0.8120 - val_loss: 0.4251 - val_accuracy: 0.8071\n",
            "Epoch 13/600\n",
            "454/454 [==============================] - 1s 2ms/step - loss: 0.4312 - accuracy: 0.8151 - val_loss: 0.4295 - val_accuracy: 0.7997\n",
            "Epoch 14/600\n",
            "454/454 [==============================] - 1s 2ms/step - loss: 0.4304 - accuracy: 0.8122 - val_loss: 0.4138 - val_accuracy: 0.8078\n",
            "Epoch 15/600\n",
            "454/454 [==============================] - 1s 2ms/step - loss: 0.4249 - accuracy: 0.8131 - val_loss: 0.4198 - val_accuracy: 0.7957\n",
            "Epoch 16/600\n",
            "454/454 [==============================] - 1s 3ms/step - loss: 0.4241 - accuracy: 0.8158 - val_loss: 0.4026 - val_accuracy: 0.8212\n",
            "Epoch 17/600\n",
            "454/454 [==============================] - 1s 3ms/step - loss: 0.4239 - accuracy: 0.8153 - val_loss: 0.4156 - val_accuracy: 0.8138\n",
            "Epoch 18/600\n",
            "454/454 [==============================] - 1s 3ms/step - loss: 0.4185 - accuracy: 0.8207 - val_loss: 0.4098 - val_accuracy: 0.8091\n",
            "Epoch 19/600\n",
            "454/454 [==============================] - 1s 3ms/step - loss: 0.4198 - accuracy: 0.8160 - val_loss: 0.4107 - val_accuracy: 0.8152\n",
            "Epoch 20/600\n",
            "454/454 [==============================] - 1s 3ms/step - loss: 0.4164 - accuracy: 0.8207 - val_loss: 0.3999 - val_accuracy: 0.8199\n",
            "Epoch 21/600\n",
            "454/454 [==============================] - 1s 3ms/step - loss: 0.4149 - accuracy: 0.8191 - val_loss: 0.4052 - val_accuracy: 0.8118\n",
            "Epoch 22/600\n",
            "454/454 [==============================] - 1s 3ms/step - loss: 0.4115 - accuracy: 0.8203 - val_loss: 0.3950 - val_accuracy: 0.8212\n",
            "Epoch 23/600\n",
            "454/454 [==============================] - 1s 3ms/step - loss: 0.4109 - accuracy: 0.8177 - val_loss: 0.4043 - val_accuracy: 0.8206\n",
            "Epoch 24/600\n",
            "454/454 [==============================] - 1s 3ms/step - loss: 0.4130 - accuracy: 0.8195 - val_loss: 0.3970 - val_accuracy: 0.8219\n",
            "Epoch 25/600\n",
            "454/454 [==============================] - 1s 3ms/step - loss: 0.4104 - accuracy: 0.8202 - val_loss: 0.3912 - val_accuracy: 0.8233\n",
            "Epoch 26/600\n",
            "454/454 [==============================] - 1s 3ms/step - loss: 0.4071 - accuracy: 0.8221 - val_loss: 0.3954 - val_accuracy: 0.8286\n",
            "Epoch 27/600\n",
            "454/454 [==============================] - 1s 3ms/step - loss: 0.4062 - accuracy: 0.8191 - val_loss: 0.3977 - val_accuracy: 0.8152\n",
            "Epoch 28/600\n",
            "454/454 [==============================] - 1s 2ms/step - loss: 0.4041 - accuracy: 0.8225 - val_loss: 0.3859 - val_accuracy: 0.8259\n",
            "Epoch 29/600\n",
            "454/454 [==============================] - 1s 3ms/step - loss: 0.4032 - accuracy: 0.8235 - val_loss: 0.3813 - val_accuracy: 0.8387\n",
            "Epoch 30/600\n",
            "454/454 [==============================] - 1s 2ms/step - loss: 0.4032 - accuracy: 0.8253 - val_loss: 0.3906 - val_accuracy: 0.8259\n",
            "Epoch 31/600\n",
            "454/454 [==============================] - 1s 3ms/step - loss: 0.4029 - accuracy: 0.8244 - val_loss: 0.3897 - val_accuracy: 0.8159\n",
            "Epoch 32/600\n",
            "454/454 [==============================] - 1s 3ms/step - loss: 0.4023 - accuracy: 0.8246 - val_loss: 0.4175 - val_accuracy: 0.8091\n",
            "Epoch 33/600\n",
            "454/454 [==============================] - 1s 3ms/step - loss: 0.4004 - accuracy: 0.8225 - val_loss: 0.3950 - val_accuracy: 0.8192\n",
            "Epoch 34/600\n",
            "454/454 [==============================] - 1s 2ms/step - loss: 0.3981 - accuracy: 0.8255 - val_loss: 0.3949 - val_accuracy: 0.8219\n",
            "Epoch 35/600\n",
            "454/454 [==============================] - 1s 3ms/step - loss: 0.4009 - accuracy: 0.8207 - val_loss: 0.3892 - val_accuracy: 0.8280\n",
            "Epoch 36/600\n",
            "454/454 [==============================] - 1s 3ms/step - loss: 0.3969 - accuracy: 0.8268 - val_loss: 0.3844 - val_accuracy: 0.8300\n",
            "Epoch 37/600\n",
            "454/454 [==============================] - 1s 3ms/step - loss: 0.3983 - accuracy: 0.8247 - val_loss: 0.3831 - val_accuracy: 0.8280\n",
            "Epoch 38/600\n",
            "454/454 [==============================] - 1s 3ms/step - loss: 0.3949 - accuracy: 0.8288 - val_loss: 0.3857 - val_accuracy: 0.8273\n",
            "Epoch 39/600\n",
            "454/454 [==============================] - 1s 3ms/step - loss: 0.3965 - accuracy: 0.8301 - val_loss: 0.3813 - val_accuracy: 0.8246\n",
            "Epoch 40/600\n",
            "454/454 [==============================] - 1s 3ms/step - loss: 0.3962 - accuracy: 0.8226 - val_loss: 0.4079 - val_accuracy: 0.8112\n",
            "Epoch 41/600\n",
            "454/454 [==============================] - 1s 3ms/step - loss: 0.3961 - accuracy: 0.8233 - val_loss: 0.4084 - val_accuracy: 0.8192\n",
            "Epoch 42/600\n",
            "454/454 [==============================] - 1s 3ms/step - loss: 0.3947 - accuracy: 0.8255 - val_loss: 0.3841 - val_accuracy: 0.8273\n",
            "Epoch 43/600\n",
            "454/454 [==============================] - 1s 3ms/step - loss: 0.3909 - accuracy: 0.8279 - val_loss: 0.3973 - val_accuracy: 0.8286\n",
            "Epoch 44/600\n",
            "454/454 [==============================] - 1s 3ms/step - loss: 0.3907 - accuracy: 0.8257 - val_loss: 0.3782 - val_accuracy: 0.8313\n",
            "Epoch 45/600\n",
            "454/454 [==============================] - 1s 3ms/step - loss: 0.3953 - accuracy: 0.8236 - val_loss: 0.3795 - val_accuracy: 0.8280\n",
            "Epoch 46/600\n",
            "454/454 [==============================] - 2s 4ms/step - loss: 0.3939 - accuracy: 0.8269 - val_loss: 0.3941 - val_accuracy: 0.8239\n",
            "Epoch 47/600\n",
            "454/454 [==============================] - 2s 4ms/step - loss: 0.3914 - accuracy: 0.8266 - val_loss: 0.3781 - val_accuracy: 0.8280\n",
            "Epoch 48/600\n",
            "454/454 [==============================] - 1s 3ms/step - loss: 0.3887 - accuracy: 0.8306 - val_loss: 0.3812 - val_accuracy: 0.8286\n",
            "Epoch 49/600\n",
            "454/454 [==============================] - 1s 3ms/step - loss: 0.3896 - accuracy: 0.8254 - val_loss: 0.3730 - val_accuracy: 0.8306\n",
            "Epoch 50/600\n",
            "454/454 [==============================] - 1s 3ms/step - loss: 0.3887 - accuracy: 0.8326 - val_loss: 0.3725 - val_accuracy: 0.8306\n",
            "Epoch 51/600\n",
            "454/454 [==============================] - 1s 3ms/step - loss: 0.3894 - accuracy: 0.8275 - val_loss: 0.3897 - val_accuracy: 0.8219\n",
            "Epoch 52/600\n",
            "454/454 [==============================] - 1s 3ms/step - loss: 0.3875 - accuracy: 0.8284 - val_loss: 0.3771 - val_accuracy: 0.8259\n",
            "Epoch 53/600\n",
            "454/454 [==============================] - 1s 3ms/step - loss: 0.3879 - accuracy: 0.8298 - val_loss: 0.3698 - val_accuracy: 0.8320\n",
            "Epoch 54/600\n",
            "454/454 [==============================] - 1s 3ms/step - loss: 0.3870 - accuracy: 0.8309 - val_loss: 0.3823 - val_accuracy: 0.8259\n",
            "Epoch 55/600\n",
            "454/454 [==============================] - 1s 3ms/step - loss: 0.3862 - accuracy: 0.8306 - val_loss: 0.3834 - val_accuracy: 0.8306\n",
            "Epoch 56/600\n",
            "454/454 [==============================] - 1s 3ms/step - loss: 0.3876 - accuracy: 0.8275 - val_loss: 0.3809 - val_accuracy: 0.8340\n",
            "Epoch 57/600\n",
            "454/454 [==============================] - 1s 3ms/step - loss: 0.3864 - accuracy: 0.8299 - val_loss: 0.3730 - val_accuracy: 0.8273\n",
            "Epoch 58/600\n",
            "454/454 [==============================] - 1s 3ms/step - loss: 0.3883 - accuracy: 0.8298 - val_loss: 0.3783 - val_accuracy: 0.8280\n",
            "Epoch 59/600\n",
            "454/454 [==============================] - 1s 3ms/step - loss: 0.3853 - accuracy: 0.8302 - val_loss: 0.3743 - val_accuracy: 0.8327\n",
            "Epoch 60/600\n",
            "454/454 [==============================] - 1s 3ms/step - loss: 0.3876 - accuracy: 0.8266 - val_loss: 0.3688 - val_accuracy: 0.8394\n",
            "Epoch 61/600\n",
            "454/454 [==============================] - 1s 3ms/step - loss: 0.3865 - accuracy: 0.8299 - val_loss: 0.3730 - val_accuracy: 0.8253\n",
            "Epoch 62/600\n",
            "454/454 [==============================] - 1s 3ms/step - loss: 0.3887 - accuracy: 0.8268 - val_loss: 0.3736 - val_accuracy: 0.8340\n",
            "Epoch 63/600\n",
            "454/454 [==============================] - 1s 3ms/step - loss: 0.3827 - accuracy: 0.8288 - val_loss: 0.3922 - val_accuracy: 0.8212\n",
            "Epoch 64/600\n",
            "454/454 [==============================] - 1s 2ms/step - loss: 0.3846 - accuracy: 0.8291 - val_loss: 0.3778 - val_accuracy: 0.8353\n",
            "Epoch 65/600\n",
            "454/454 [==============================] - 1s 3ms/step - loss: 0.3832 - accuracy: 0.8320 - val_loss: 0.4247 - val_accuracy: 0.8065\n",
            "Epoch 66/600\n",
            "454/454 [==============================] - 1s 3ms/step - loss: 0.3831 - accuracy: 0.8273 - val_loss: 0.3763 - val_accuracy: 0.8253\n",
            "Epoch 67/600\n",
            "454/454 [==============================] - 1s 3ms/step - loss: 0.3816 - accuracy: 0.8320 - val_loss: 0.3699 - val_accuracy: 0.8387\n",
            "Epoch 68/600\n",
            "454/454 [==============================] - 1s 3ms/step - loss: 0.3832 - accuracy: 0.8309 - val_loss: 0.3757 - val_accuracy: 0.8293\n",
            "Epoch 69/600\n",
            "454/454 [==============================] - 1s 3ms/step - loss: 0.3809 - accuracy: 0.8328 - val_loss: 0.3888 - val_accuracy: 0.8219\n",
            "Epoch 70/600\n",
            "454/454 [==============================] - 1s 3ms/step - loss: 0.3815 - accuracy: 0.8315 - val_loss: 0.3751 - val_accuracy: 0.8239\n",
            "Epoch 71/600\n",
            "454/454 [==============================] - 1s 3ms/step - loss: 0.3799 - accuracy: 0.8308 - val_loss: 0.3857 - val_accuracy: 0.8293\n",
            "Epoch 72/600\n",
            "454/454 [==============================] - 1s 3ms/step - loss: 0.3781 - accuracy: 0.8297 - val_loss: 0.3682 - val_accuracy: 0.8367\n",
            "Epoch 73/600\n",
            "454/454 [==============================] - 1s 3ms/step - loss: 0.3792 - accuracy: 0.8348 - val_loss: 0.3777 - val_accuracy: 0.8246\n",
            "Epoch 74/600\n",
            "454/454 [==============================] - 1s 3ms/step - loss: 0.3794 - accuracy: 0.8345 - val_loss: 0.3968 - val_accuracy: 0.8132\n",
            "Epoch 75/600\n",
            "454/454 [==============================] - 1s 3ms/step - loss: 0.3799 - accuracy: 0.8326 - val_loss: 0.3778 - val_accuracy: 0.8266\n",
            "Epoch 76/600\n",
            "454/454 [==============================] - 1s 3ms/step - loss: 0.3788 - accuracy: 0.8270 - val_loss: 0.4148 - val_accuracy: 0.8280\n",
            "Epoch 77/600\n",
            "454/454 [==============================] - 1s 3ms/step - loss: 0.3774 - accuracy: 0.8303 - val_loss: 0.3883 - val_accuracy: 0.8306\n",
            "Epoch 78/600\n",
            "454/454 [==============================] - 1s 3ms/step - loss: 0.3774 - accuracy: 0.8290 - val_loss: 0.3964 - val_accuracy: 0.8286\n",
            "Epoch 79/600\n",
            "454/454 [==============================] - 1s 3ms/step - loss: 0.3764 - accuracy: 0.8308 - val_loss: 0.3697 - val_accuracy: 0.8327\n",
            "Epoch 80/600\n",
            "454/454 [==============================] - 1s 3ms/step - loss: 0.3819 - accuracy: 0.8308 - val_loss: 0.3740 - val_accuracy: 0.8233\n",
            "Epoch 81/600\n",
            "454/454 [==============================] - 1s 2ms/step - loss: 0.3782 - accuracy: 0.8331 - val_loss: 0.3700 - val_accuracy: 0.8266\n",
            "Epoch 82/600\n",
            "454/454 [==============================] - 1s 3ms/step - loss: 0.3794 - accuracy: 0.8321 - val_loss: 0.3826 - val_accuracy: 0.8273\n",
            "Epoch 83/600\n",
            "454/454 [==============================] - 1s 3ms/step - loss: 0.3765 - accuracy: 0.8349 - val_loss: 0.3692 - val_accuracy: 0.8293\n",
            "Epoch 84/600\n",
            "454/454 [==============================] - 1s 3ms/step - loss: 0.3783 - accuracy: 0.8309 - val_loss: 0.3759 - val_accuracy: 0.8313\n",
            "Epoch 85/600\n",
            "454/454 [==============================] - 1s 3ms/step - loss: 0.3743 - accuracy: 0.8321 - val_loss: 0.3717 - val_accuracy: 0.8300\n",
            "Epoch 86/600\n",
            "454/454 [==============================] - 1s 3ms/step - loss: 0.3729 - accuracy: 0.8359 - val_loss: 0.4110 - val_accuracy: 0.8058\n",
            "Epoch 87/600\n",
            "454/454 [==============================] - 1s 3ms/step - loss: 0.3755 - accuracy: 0.8306 - val_loss: 0.3643 - val_accuracy: 0.8340\n",
            "Epoch 88/600\n",
            "454/454 [==============================] - 1s 3ms/step - loss: 0.3741 - accuracy: 0.8327 - val_loss: 0.3872 - val_accuracy: 0.8286\n",
            "Epoch 89/600\n",
            "454/454 [==============================] - 2s 4ms/step - loss: 0.3754 - accuracy: 0.8313 - val_loss: 0.3788 - val_accuracy: 0.8286\n",
            "Epoch 90/600\n",
            "454/454 [==============================] - 1s 3ms/step - loss: 0.3770 - accuracy: 0.8317 - val_loss: 0.3735 - val_accuracy: 0.8380\n",
            "Epoch 91/600\n",
            "454/454 [==============================] - 1s 3ms/step - loss: 0.3743 - accuracy: 0.8331 - val_loss: 0.3690 - val_accuracy: 0.8333\n",
            "Epoch 92/600\n",
            "454/454 [==============================] - 1s 3ms/step - loss: 0.3739 - accuracy: 0.8342 - val_loss: 0.3636 - val_accuracy: 0.8286\n",
            "Epoch 93/600\n",
            "454/454 [==============================] - 1s 3ms/step - loss: 0.3733 - accuracy: 0.8326 - val_loss: 0.3755 - val_accuracy: 0.8293\n",
            "Epoch 94/600\n",
            "454/454 [==============================] - 1s 3ms/step - loss: 0.3742 - accuracy: 0.8327 - val_loss: 0.3803 - val_accuracy: 0.8266\n",
            "Epoch 95/600\n",
            "454/454 [==============================] - 1s 3ms/step - loss: 0.3747 - accuracy: 0.8335 - val_loss: 0.3784 - val_accuracy: 0.8273\n",
            "Epoch 96/600\n",
            "454/454 [==============================] - 1s 3ms/step - loss: 0.3731 - accuracy: 0.8328 - val_loss: 0.3765 - val_accuracy: 0.8374\n",
            "Epoch 97/600\n",
            "454/454 [==============================] - 3s 6ms/step - loss: 0.3739 - accuracy: 0.8330 - val_loss: 0.3712 - val_accuracy: 0.8259\n",
            "Epoch 98/600\n",
            "454/454 [==============================] - 1s 3ms/step - loss: 0.3738 - accuracy: 0.8348 - val_loss: 0.3675 - val_accuracy: 0.8293\n",
            "Epoch 99/600\n",
            "454/454 [==============================] - 1s 3ms/step - loss: 0.3686 - accuracy: 0.8352 - val_loss: 0.3645 - val_accuracy: 0.8300\n",
            "Epoch 100/600\n",
            "454/454 [==============================] - 1s 3ms/step - loss: 0.3695 - accuracy: 0.8353 - val_loss: 0.3755 - val_accuracy: 0.8340\n",
            "Epoch 101/600\n",
            "454/454 [==============================] - 1s 3ms/step - loss: 0.3690 - accuracy: 0.8335 - val_loss: 0.3884 - val_accuracy: 0.8233\n",
            "Epoch 102/600\n",
            "454/454 [==============================] - 1s 3ms/step - loss: 0.3706 - accuracy: 0.8331 - val_loss: 0.3690 - val_accuracy: 0.8387\n",
            "Epoch 103/600\n",
            "454/454 [==============================] - 1s 3ms/step - loss: 0.3714 - accuracy: 0.8354 - val_loss: 0.3656 - val_accuracy: 0.8286\n",
            "Epoch 104/600\n",
            "454/454 [==============================] - 1s 3ms/step - loss: 0.3726 - accuracy: 0.8328 - val_loss: 0.3738 - val_accuracy: 0.8233\n",
            "Epoch 105/600\n",
            "454/454 [==============================] - 1s 3ms/step - loss: 0.3707 - accuracy: 0.8334 - val_loss: 0.3652 - val_accuracy: 0.8448\n",
            "Epoch 106/600\n",
            "454/454 [==============================] - 1s 3ms/step - loss: 0.3688 - accuracy: 0.8341 - val_loss: 0.3621 - val_accuracy: 0.8300\n",
            "Epoch 107/600\n",
            "454/454 [==============================] - 1s 3ms/step - loss: 0.3680 - accuracy: 0.8353 - val_loss: 0.3794 - val_accuracy: 0.8306\n",
            "Epoch 108/600\n",
            "454/454 [==============================] - 1s 3ms/step - loss: 0.3685 - accuracy: 0.8315 - val_loss: 0.3715 - val_accuracy: 0.8353\n",
            "Epoch 109/600\n",
            "454/454 [==============================] - 1s 3ms/step - loss: 0.3687 - accuracy: 0.8341 - val_loss: 0.3762 - val_accuracy: 0.8246\n",
            "Epoch 110/600\n",
            "454/454 [==============================] - 1s 3ms/step - loss: 0.3695 - accuracy: 0.8337 - val_loss: 0.3715 - val_accuracy: 0.8293\n",
            "Epoch 111/600\n",
            "454/454 [==============================] - 1s 3ms/step - loss: 0.3659 - accuracy: 0.8374 - val_loss: 0.3695 - val_accuracy: 0.8293\n",
            "Epoch 112/600\n",
            "454/454 [==============================] - 1s 3ms/step - loss: 0.3677 - accuracy: 0.8345 - val_loss: 0.3914 - val_accuracy: 0.8246\n",
            "Epoch 113/600\n",
            "454/454 [==============================] - 1s 3ms/step - loss: 0.3668 - accuracy: 0.8364 - val_loss: 0.3678 - val_accuracy: 0.8286\n",
            "Epoch 114/600\n",
            "454/454 [==============================] - 1s 3ms/step - loss: 0.3653 - accuracy: 0.8381 - val_loss: 0.3906 - val_accuracy: 0.8199\n",
            "Epoch 115/600\n",
            "454/454 [==============================] - 1s 3ms/step - loss: 0.3674 - accuracy: 0.8361 - val_loss: 0.3728 - val_accuracy: 0.8333\n",
            "Epoch 116/600\n",
            "454/454 [==============================] - 1s 3ms/step - loss: 0.3657 - accuracy: 0.8367 - val_loss: 0.3878 - val_accuracy: 0.8253\n",
            "Epoch 117/600\n",
            "454/454 [==============================] - 1s 3ms/step - loss: 0.3651 - accuracy: 0.8356 - val_loss: 0.3619 - val_accuracy: 0.8353\n",
            "Epoch 118/600\n",
            "454/454 [==============================] - 1s 3ms/step - loss: 0.3657 - accuracy: 0.8374 - val_loss: 0.3703 - val_accuracy: 0.8246\n",
            "Epoch 119/600\n",
            "454/454 [==============================] - 1s 3ms/step - loss: 0.3661 - accuracy: 0.8374 - val_loss: 0.3814 - val_accuracy: 0.8280\n",
            "Epoch 120/600\n",
            "454/454 [==============================] - 1s 3ms/step - loss: 0.3667 - accuracy: 0.8348 - val_loss: 0.3701 - val_accuracy: 0.8347\n",
            "Epoch 121/600\n",
            "454/454 [==============================] - 1s 3ms/step - loss: 0.3646 - accuracy: 0.8346 - val_loss: 0.3772 - val_accuracy: 0.8313\n",
            "Epoch 122/600\n",
            "454/454 [==============================] - 1s 3ms/step - loss: 0.3621 - accuracy: 0.8371 - val_loss: 0.3706 - val_accuracy: 0.8266\n",
            "Epoch 123/600\n",
            "454/454 [==============================] - 1s 3ms/step - loss: 0.3674 - accuracy: 0.8320 - val_loss: 0.3675 - val_accuracy: 0.8327\n",
            "Epoch 124/600\n",
            "454/454 [==============================] - 1s 3ms/step - loss: 0.3639 - accuracy: 0.8365 - val_loss: 0.3620 - val_accuracy: 0.8327\n",
            "Epoch 125/600\n",
            "454/454 [==============================] - 1s 3ms/step - loss: 0.3621 - accuracy: 0.8400 - val_loss: 0.3670 - val_accuracy: 0.8313\n",
            "Epoch 126/600\n",
            "454/454 [==============================] - 1s 3ms/step - loss: 0.3632 - accuracy: 0.8319 - val_loss: 0.3786 - val_accuracy: 0.8259\n",
            "Epoch 127/600\n",
            "454/454 [==============================] - 1s 3ms/step - loss: 0.3644 - accuracy: 0.8324 - val_loss: 0.3776 - val_accuracy: 0.8259\n",
            "Epoch 128/600\n",
            "454/454 [==============================] - 1s 3ms/step - loss: 0.3664 - accuracy: 0.8365 - val_loss: 0.3786 - val_accuracy: 0.8246\n",
            "Epoch 129/600\n",
            "454/454 [==============================] - 1s 3ms/step - loss: 0.3619 - accuracy: 0.8308 - val_loss: 0.3667 - val_accuracy: 0.8306\n",
            "Epoch 130/600\n",
            "454/454 [==============================] - 1s 3ms/step - loss: 0.3630 - accuracy: 0.8381 - val_loss: 0.3657 - val_accuracy: 0.8293\n",
            "Epoch 131/600\n",
            "454/454 [==============================] - 1s 3ms/step - loss: 0.3640 - accuracy: 0.8356 - val_loss: 0.3953 - val_accuracy: 0.8226\n",
            "Epoch 132/600\n",
            "454/454 [==============================] - 1s 3ms/step - loss: 0.3622 - accuracy: 0.8389 - val_loss: 0.3679 - val_accuracy: 0.8306\n"
          ]
        },
        {
          "output_type": "execute_result",
          "data": {
            "text/plain": [
              "[<matplotlib.lines.Line2D at 0x7f258c2d5850>]"
            ]
          },
          "metadata": {},
          "execution_count": 7
        },
        {
          "output_type": "display_data",
          "data": {
            "text/plain": [
              "<Figure size 432x288 with 1 Axes>"
            ],
            "image/png": "[encoded data removed]"
          },
          "metadata": {
            "needs_background": "light"
          }
        }
      ]
    },
    {
      "cell_type": "code",
      "source": [
        "from keras.metrics import accuracy\n",
        "#test_size = X_test.shape[0]\n",
        "pred = classifier.predict(X_test)\n",
        "#print(pred)\n",
        "pred_ = np.argmax(pred, axis = 1)\n",
        "#print(pred_)\n",
        "pred_ = l_encode.inverse_transform(pred_)\n",
        "\n",
        "true_y = l_encode.inverse_transform(np.argmax(to_categorical(y_test), axis = 1)[:,1])\n",
        "\n",
        "#for i,j in zip(pred_, true_y):\n",
        "#    print(\"Predicted: {}, True: {}\".format(i, j))\n",
        "\n",
        "cnt = 0\n",
        "cnt_correct = 0\n",
        "\n",
        "for i in range(len(pred_)):\n",
        "  cnt += 1\n",
        "  if(pred_[i] == true_y[i]):\n",
        "    cnt_correct += 1\n",
        "\n",
        "print(f'accuracy: {(cnt_correct/cnt)*100:.2f}%')"
      ],
      "metadata": {
        "colab": {
          "base_uri": "https://localhost:8080/"
        },
        "id": "-WKM6CPTczGd",
        "outputId": "1c88ecd0-04a1-4939-917a-57c05eaf84fc"
      },
      "execution_count": 8,
      "outputs": [
        {
          "output_type": "stream",
          "name": "stdout",
          "text": [
            "accuracy: 83.53%\n"
          ]
        }
      ]
    },
    {
      "cell_type": "code",
      "source": [
        "from sklearn.metrics import confusion_matrix, ConfusionMatrixDisplay\n",
        "#for i in range(len(pred_)):\n",
        "#  print(true_y[i])\n",
        "#print(confusion_matrix(true_y, pred_, labels=[0, 1, 2, 3]))\n",
        "cm = confusion_matrix(true_y, pred_, labels=[0, 1, 2, 3])\n",
        "cmd = ConfusionMatrixDisplay(cm, display_labels=['easy','moderate', 'hard', 'very hard'])\n",
        "#plt.subplot(1, 2, 1)\n",
        "cmd.plot()\n",
        "print(f'accuracy: {(cnt_correct/cnt)*100:.2f}%')"
      ],
      "metadata": {
        "colab": {
          "base_uri": "https://localhost:8080/",
          "height": 296
        },
        "id": "td3mlxlNxXqF",
        "outputId": "6bb430c0-144a-49b3-8f5c-cedd80a2a91b"
      },
      "execution_count": 9,
      "outputs": [
        {
          "output_type": "stream",
          "name": "stdout",
          "text": [
            "accuracy: 83.53%\n"
          ]
        },
        {
          "output_type": "display_data",
          "data": {
            "text/plain": [
              "<Figure size 432x288 with 2 Axes>"
            ],
            "image/png": "[encoded data removed]"
          },
          "metadata": {
            "needs_background": "light"
          }
        }
      ]
    },
    {
      "cell_type": "code",
      "source": [
        "y_new = np.array(y_new)\n",
        "plt.hist(y_new)\n",
        "#plt.title('0->[0,2000) : 1->[2000,99999]')\n",
        "plt.show()"
      ],
      "metadata": {
        "id": "a_uXCro7BbBx",
        "outputId": "d5aad275-2450-4fbf-a66e-b4cc25e6d666",
        "colab": {
          "base_uri": "https://localhost:8080/",
          "height": 265
        }
      },
      "execution_count": 10,
      "outputs": [
        {
          "output_type": "display_data",
          "data": {
            "text/plain": [
              "<Figure size 432x288 with 1 Axes>"
            ],
            "image/png": "[encoded data removed]"
          },
          "metadata": {
            "needs_background": "light"
          }
        }
      ]
    }
  ]
}