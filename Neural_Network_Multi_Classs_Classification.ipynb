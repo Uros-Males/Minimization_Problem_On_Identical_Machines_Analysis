{
  "nbformat": 4,
  "nbformat_minor": 0,
  "metadata": {
    "colab": {
      "name": "Neural_Network_Classification.ipynb",
      "provenance": [],
      "authorship_tag": "ABX9TyOKqnc/sO5lLsAG+aWj1Tsr",
      "include_colab_link": true
    },
    "kernelspec": {
      "name": "python3",
      "display_name": "Python 3"
    },
    "language_info": {
      "name": "python"
    }
  },
  "cells": [
    {
      "cell_type": "markdown",
      "metadata": {
        "id": "view-in-github",
        "colab_type": "text"
      },
      "source": [
        "<a href=\"https://colab.research.google.com/github/Uros-Males/Minimization_Problem_On_Identical_Machines_Analysis/blob/main/Neural_Network_Multi_Classs_Classification.ipynb\" target=\"_parent\"><img src=\"https://colab.research.google.com/assets/colab-badge.svg\" alt=\"Open In Colab\"/></a>"
      ]
    },
    {
      "cell_type": "code",
      "execution_count": 1,
      "metadata": {
        "colab": {
          "base_uri": "https://localhost:8080/"
        },
        "id": "6u-X4QiVmgm4",
        "outputId": "d9a15af8-4cb7-442a-a696-ba0813a6b366"
      },
      "outputs": [
        {
          "output_type": "stream",
          "name": "stdout",
          "text": [
            "8750\n",
            "   subtype  class  indeks    n   m    n/m   (n/m)^2      (n/m)^3       m/n  \\\n",
            "0       10      2       2  160  32   5.00   25.0000   125.000000  0.200000   \n",
            "1        2      4       6  162  72   2.25    5.0625    11.390625  0.444444   \n",
            "2        2      6       6   18   8   2.25    5.0625    11.390625  0.444444   \n",
            "3       12      7       5   54   6   9.00   81.0000   729.000000  0.111111   \n",
            "4       13      3       6   40   4  10.00  100.0000  1000.000000  0.100000   \n",
            "\n",
            "    (m/n)^2   (m/n)^3   av.length    std.dev  median  range  min  max   k  \n",
            "0  0.040000  0.008000   62.906250  23.806276    64.0     80   20  100  70  \n",
            "1  0.197531  0.087791   98.265434  19.603458    98.0     95   49  144  70  \n",
            "2  0.197531  0.087791   49.277779  17.077007    54.0     51   21   72  15  \n",
            "3  0.012346  0.001372  216.796295  61.581478   224.0    272   66  338  48  \n",
            "4  0.010000  0.001000   74.750000  11.885674    73.0     46   53   99  29  \n"
          ]
        }
      ],
      "source": [
        "#IN PROGRESS....\n",
        "import pandas as pd\n",
        "import numpy as np\n",
        "import matplotlib.pyplot as plt\n",
        "from sklearn import tree\n",
        "from sklearn.model_selection import train_test_split\n",
        "from sklearn.tree import DecisionTreeRegressor\n",
        "import time\n",
        "import keras\n",
        "\n",
        "df = pd.read_csv('/content/sample_data/C-instances-runtime-analysis.csv')\n",
        "print(df.shape[0])\n",
        "#df = df.drop(['inst.name', 'type', 'CPLEXStatus'], axis = 1)\n",
        "#standard_deviations = 3\n",
        "#df = df[df.apply(lambda x: np.abs(x - x.mean()) / x.std() < standard_deviations)\n",
        "#   .all(axis=1)]\n",
        "\n",
        "#print(df.shape[0])\n",
        "\n",
        "#names = ['indeks', 'n', 'n/m', '(n/m)^2', '(n/m)^3', 'm/n', '(m/n)^2',\n",
        "   #      '(m/n)^3', 'av.length', 'std.dev', 'median', 'range', 'min', 'max', 'k']\n",
        "#for i in range(df.shape[0]):\n",
        " # if(df.iloc[i]['n/m'] == 2 and df.iloc[i]['y']==99999):\n",
        "  #  for j in range(len(names)):\n",
        "   #   print(names[j]+\"->\"+str(df.iloc[i][names[j]]))\n",
        "    #print(\"------------------------------------------------------------------\")\n",
        "\n",
        "\n",
        "shuffled = df.sample(frac=1).reset_index()\n",
        "\n",
        "columns_dont_want = ['y', 'index', 'inst.name','type', 'CPLEXStatus'] #cple\n",
        "select = [x for x in shuffled.columns if x not in columns_dont_want]\n",
        "\n",
        "X = shuffled.loc[:, select]\n",
        "\n",
        "y = shuffled.loc[:,'y']\n",
        "print(X.head())\n",
        "names = ['indeks', 'n', 'n/m', '(n/m)^2', '(n/m)^3', 'm/n', 'av.length', 'std.dev', 'median', 'range', 'min', 'max', 'k']\n",
        "#print(names[1])\n",
        "\n",
        "\n"
      ]
    },
    {
      "cell_type": "code",
      "source": [
        "y_new = []\n",
        "for val in y:\n",
        "  if(val<10):\n",
        "    y_new.append(0)\n",
        "  elif(10 <= val and val <100):\n",
        "    y_new.append(1)\n",
        "  elif(100<=val and val<1000):\n",
        "    y_new.append(2)\n",
        "  else:\n",
        "    y_new.append(3)\n",
        "\n",
        "shuffled['y_new'] = y_new\n",
        "#print(shuffled.head())\n",
        "y_encoded = shuffled.loc[:,'y_new']\n",
        "y_new = np.array(y_new)\n",
        "plt.hist(y_new)\n",
        "plt.show()\n",
        "X_modified = X\n",
        "#X_modified = X.drop(['n/m', '(n/m)^2', '(n/m)^3', 'm/n', '(m/n)^2', '(m/n)^3', 'max', 'av.length'], axis = 1)\n",
        "#print(X_modified.shape[1])"
      ],
      "metadata": {
        "id": "XkPXcbO0riCC",
        "colab": {
          "base_uri": "https://localhost:8080/",
          "height": 265
        },
        "outputId": "4d96d544-c625-4cab-fc61-e668318b599f"
      },
      "execution_count": 2,
      "outputs": [
        {
          "output_type": "display_data",
          "data": {
            "text/plain": [
              "<Figure size 432x288 with 1 Axes>"
            ],
            "image/png": "[encoded data removed]"
          },
          "metadata": {
            "needs_background": "light"
          }
        }
      ]
    },
    {
      "cell_type": "code",
      "source": [
        "from sklearn.preprocessing import LabelEncoder\n",
        "from keras.utils.np_utils import to_categorical\n",
        "\n",
        "l_encode = LabelEncoder()\n",
        "l_encode.fit(y_encoded)\n",
        "y_encoded = l_encode.transform(y_encoded)\n",
        "y_encoded = to_categorical(y_encoded)\n",
        "y_encoded"
      ],
      "metadata": {
        "colab": {
          "base_uri": "https://localhost:8080/"
        },
        "id": "W2hvUxxE2NWr",
        "outputId": "3cc85396-e7f7-4dd4-f461-183443f4cfc7"
      },
      "execution_count": 3,
      "outputs": [
        {
          "output_type": "execute_result",
          "data": {
            "text/plain": [
              "array([[0., 0., 1., 0.],\n",
              "       [0., 1., 0., 0.],\n",
              "       [1., 0., 0., 0.],\n",
              "       ...,\n",
              "       [1., 0., 0., 0.],\n",
              "       [0., 1., 0., 0.],\n",
              "       [0., 0., 0., 1.]], dtype=float32)"
            ]
          },
          "metadata": {},
          "execution_count": 3
        }
      ]
    },
    {
      "cell_type": "code",
      "source": [
        "from sklearn import preprocessing\n",
        "\n",
        "from sklearn.preprocessing import StandardScaler\n",
        "\n",
        "sc = StandardScaler()\n",
        "\n",
        "#X = pd.DataFrame(X, columns=names)\n",
        "#print(X.head())\n",
        "\n",
        "from sklearn.decomposition import PCA\n",
        "\n",
        "#,'PC2','PC3','PC4','PC5','PC6','PC7','PC8\n",
        "#pca = PCA(n_components=9)\n",
        "#pca.fit(X)\n",
        "#X = pca.transform(X)\n",
        "#X = pd.DataFrame(X,columns=['PC1','PC2','PC3','PC4','PC5','PC6','PC7','PC8','PC9'])\n",
        "names = [ 'n', 'm', 'av.length', 'std.dev', 'median', 'range',  'max', 'k']\n",
        "X_modified = X.drop(['n/m', 'min','indeks', 'class',  'subtype', '(m/n)^3', '(m/n)^2', '(n/m)^2', '(n/m)^3','m/n'], axis = 1)\n",
        "\n",
        "\n",
        "#from scipy import stats\n",
        "#df[(np.abs(stats.zscore(df)) < 3).all(axis=1)]\n",
        "\n",
        "X_train, X_test, y_train, y_test = train_test_split(X_modified, y_encoded, random_state=0, train_size = 0.83)\n",
        "\n",
        "X_train = sc.fit_transform(X_train)\n",
        "X_test_copy = X_test\n",
        "X_test = sc.transform(X_test)\n"
      ],
      "metadata": {
        "id": "kx4jr-6Qaxpv"
      },
      "execution_count": 4,
      "outputs": []
    },
    {
      "cell_type": "code",
      "source": [
        "from keras.models import Sequential\n",
        "from keras.layers import Dense, Dropout\n",
        "\n",
        "classifier = Sequential()\n",
        "classifier.add(Dense(8, input_dim = X_modified.shape[1], activation='relu'))\n",
        "#classifier.add(Dense(8, activation = 'relu'))\n",
        "\n",
        "classifier.add(Dense(8, activation = 'relu'))\n",
        "\n",
        "#classifier.add(Dense(32, activation = 'relu'))\n",
        "#classifier.add(Dense(32, activation = 'relu'))\n",
        "#classifier.add(Dense(16, activation = 'relu'))\n",
        "\n",
        "classifier.add(Dense(16, activation='relu'))\n",
        "\n",
        "classifier.add(Dense(8, activation='relu'))\n",
        "\n",
        "classifier.add(Dense(4, activation='relu'))\n",
        "\n",
        "classifier.add(Dense(4, activation = 'softmax'))\n",
        "classifier.compile(loss = 'categorical_crossentropy', optimizer = 'adam', metrics = ['accuracy'])\n",
        "classifier.summary()"
      ],
      "metadata": {
        "id": "jRT-grzys8_y",
        "colab": {
          "base_uri": "https://localhost:8080/"
        },
        "outputId": "300b3685-3d16-419b-be4b-95cf27906f3e"
      },
      "execution_count": 5,
      "outputs": [
        {
          "output_type": "stream",
          "name": "stdout",
          "text": [
            "Model: \"sequential\"\n",
            "_________________________________________________________________\n",
            " Layer (type)                Output Shape              Param #   \n",
            "=================================================================\n",
            " dense (Dense)               (None, 8)                 72        \n",
            "                                                                 \n",
            " dense_1 (Dense)             (None, 8)                 72        \n",
            "                                                                 \n",
            " dense_2 (Dense)             (None, 16)                144       \n",
            "                                                                 \n",
            " dense_3 (Dense)             (None, 8)                 136       \n",
            "                                                                 \n",
            " dense_4 (Dense)             (None, 4)                 36        \n",
            "                                                                 \n",
            " dense_5 (Dense)             (None, 4)                 20        \n",
            "                                                                 \n",
            "=================================================================\n",
            "Total params: 480\n",
            "Trainable params: 480\n",
            "Non-trainable params: 0\n",
            "_________________________________________________________________\n"
          ]
        }
      ]
    },
    {
      "cell_type": "code",
      "source": [
        "#classifier.fit(X_train, y_train, batch_size = 64, epochs = 20, verbose = 1)\n",
        "#scores = classifier.evaluate(X_test, y_test)\n",
        "#for i, m in enumerate(classifier.metrics_names):\n",
        "#    print(\"\\n%s: %.3f\"% (m, scores[i]))\n",
        "#print(X_test_copy.iloc[0]['subtype'])"
      ],
      "metadata": {
        "id": "Mm7RsTBcx2EN"
      },
      "execution_count": 6,
      "outputs": []
    },
    {
      "cell_type": "code",
      "source": [
        "from keras.metrics import accuracy\n",
        "from keras import callbacks\n",
        "earlystopping = callbacks.EarlyStopping(monitor =\"val_loss\", \n",
        "                                        mode =\"min\", patience = 15, \n",
        "                                        restore_best_weights = True)\n",
        "  \n",
        "history = classifier.fit(X_train, y_train, batch_size = 64, \n",
        "                    epochs = 600, validation_data =(X_test, y_test), \n",
        "                    callbacks =[earlystopping])\n",
        "plt.plot(history.history['val_accuracy'])\n",
        "\n"
      ],
      "metadata": {
        "colab": {
          "base_uri": "https://localhost:8080/",
          "height": 1000
        },
        "id": "Sv9aKFPW5KGr",
        "outputId": "e8450fb0-fbec-4ba6-98dc-f0893df8a2c1"
      },
      "execution_count": 7,
      "outputs": [
        {
          "output_type": "stream",
          "name": "stdout",
          "text": [
            "Epoch 1/600\n",
            "114/114 [==============================] - 2s 8ms/step - loss: 1.2720 - accuracy: 0.3684 - val_loss: 1.1221 - val_accuracy: 0.4483\n",
            "Epoch 2/600\n",
            "114/114 [==============================] - 1s 4ms/step - loss: 1.0567 - accuracy: 0.5845 - val_loss: 0.9525 - val_accuracy: 0.6767\n",
            "Epoch 3/600\n",
            "114/114 [==============================] - 1s 6ms/step - loss: 0.9365 - accuracy: 0.6712 - val_loss: 0.8531 - val_accuracy: 0.7117\n",
            "Epoch 4/600\n",
            "114/114 [==============================] - 0s 4ms/step - loss: 0.8381 - accuracy: 0.7013 - val_loss: 0.7779 - val_accuracy: 0.7426\n",
            "Epoch 5/600\n",
            "114/114 [==============================] - 1s 5ms/step - loss: 0.7717 - accuracy: 0.7291 - val_loss: 0.7278 - val_accuracy: 0.7527\n",
            "Epoch 6/600\n",
            "114/114 [==============================] - 1s 5ms/step - loss: 0.7312 - accuracy: 0.7469 - val_loss: 0.6894 - val_accuracy: 0.7769\n",
            "Epoch 7/600\n",
            "114/114 [==============================] - 1s 5ms/step - loss: 0.6934 - accuracy: 0.7582 - val_loss: 0.6597 - val_accuracy: 0.7883\n",
            "Epoch 8/600\n",
            "114/114 [==============================] - 1s 5ms/step - loss: 0.6604 - accuracy: 0.7659 - val_loss: 0.6258 - val_accuracy: 0.8044\n",
            "Epoch 9/600\n",
            "114/114 [==============================] - 1s 5ms/step - loss: 0.6350 - accuracy: 0.7764 - val_loss: 0.6086 - val_accuracy: 0.8058\n",
            "Epoch 10/600\n",
            "114/114 [==============================] - 1s 6ms/step - loss: 0.6149 - accuracy: 0.7802 - val_loss: 0.5881 - val_accuracy: 0.8132\n",
            "Epoch 11/600\n",
            "114/114 [==============================] - 1s 7ms/step - loss: 0.5953 - accuracy: 0.7870 - val_loss: 0.5683 - val_accuracy: 0.8071\n",
            "Epoch 12/600\n",
            "114/114 [==============================] - 1s 7ms/step - loss: 0.5788 - accuracy: 0.7910 - val_loss: 0.5602 - val_accuracy: 0.8165\n",
            "Epoch 13/600\n",
            "114/114 [==============================] - 1s 4ms/step - loss: 0.5681 - accuracy: 0.7945 - val_loss: 0.5462 - val_accuracy: 0.8152\n",
            "Epoch 14/600\n",
            "114/114 [==============================] - 1s 5ms/step - loss: 0.5563 - accuracy: 0.7950 - val_loss: 0.5301 - val_accuracy: 0.8138\n",
            "Epoch 15/600\n",
            "114/114 [==============================] - 1s 5ms/step - loss: 0.5441 - accuracy: 0.7966 - val_loss: 0.5231 - val_accuracy: 0.8172\n",
            "Epoch 16/600\n",
            "114/114 [==============================] - 0s 4ms/step - loss: 0.5344 - accuracy: 0.7990 - val_loss: 0.5085 - val_accuracy: 0.8078\n",
            "Epoch 17/600\n",
            "114/114 [==============================] - 1s 5ms/step - loss: 0.5251 - accuracy: 0.8014 - val_loss: 0.5108 - val_accuracy: 0.7930\n",
            "Epoch 18/600\n",
            "114/114 [==============================] - 1s 6ms/step - loss: 0.5175 - accuracy: 0.7972 - val_loss: 0.5011 - val_accuracy: 0.8206\n",
            "Epoch 19/600\n",
            "114/114 [==============================] - 1s 5ms/step - loss: 0.5121 - accuracy: 0.7973 - val_loss: 0.4897 - val_accuracy: 0.8172\n",
            "Epoch 20/600\n",
            "114/114 [==============================] - 1s 5ms/step - loss: 0.5029 - accuracy: 0.8009 - val_loss: 0.4815 - val_accuracy: 0.8165\n",
            "Epoch 21/600\n",
            "114/114 [==============================] - 1s 6ms/step - loss: 0.4975 - accuracy: 0.8038 - val_loss: 0.4907 - val_accuracy: 0.8165\n",
            "Epoch 22/600\n",
            "114/114 [==============================] - 1s 6ms/step - loss: 0.4957 - accuracy: 0.8005 - val_loss: 0.4769 - val_accuracy: 0.8179\n",
            "Epoch 23/600\n",
            "114/114 [==============================] - 1s 5ms/step - loss: 0.4895 - accuracy: 0.7996 - val_loss: 0.4803 - val_accuracy: 0.8145\n",
            "Epoch 24/600\n",
            "114/114 [==============================] - 1s 4ms/step - loss: 0.4843 - accuracy: 0.8049 - val_loss: 0.4689 - val_accuracy: 0.8179\n",
            "Epoch 25/600\n",
            "114/114 [==============================] - 1s 5ms/step - loss: 0.4821 - accuracy: 0.8045 - val_loss: 0.4621 - val_accuracy: 0.8118\n",
            "Epoch 26/600\n",
            "114/114 [==============================] - 1s 6ms/step - loss: 0.4764 - accuracy: 0.8049 - val_loss: 0.4608 - val_accuracy: 0.8138\n",
            "Epoch 27/600\n",
            "114/114 [==============================] - 0s 4ms/step - loss: 0.4732 - accuracy: 0.8079 - val_loss: 0.4637 - val_accuracy: 0.8152\n",
            "Epoch 28/600\n",
            "114/114 [==============================] - 1s 6ms/step - loss: 0.4718 - accuracy: 0.8074 - val_loss: 0.4529 - val_accuracy: 0.8138\n",
            "Epoch 29/600\n",
            "114/114 [==============================] - 1s 5ms/step - loss: 0.4675 - accuracy: 0.8080 - val_loss: 0.4501 - val_accuracy: 0.8165\n",
            "Epoch 30/600\n",
            "114/114 [==============================] - 1s 5ms/step - loss: 0.4669 - accuracy: 0.8071 - val_loss: 0.4450 - val_accuracy: 0.8233\n",
            "Epoch 31/600\n",
            "114/114 [==============================] - 1s 6ms/step - loss: 0.4627 - accuracy: 0.8082 - val_loss: 0.4452 - val_accuracy: 0.8132\n",
            "Epoch 32/600\n",
            "114/114 [==============================] - 1s 8ms/step - loss: 0.4627 - accuracy: 0.8074 - val_loss: 0.4450 - val_accuracy: 0.8185\n",
            "Epoch 33/600\n",
            "114/114 [==============================] - 1s 4ms/step - loss: 0.4603 - accuracy: 0.8086 - val_loss: 0.4388 - val_accuracy: 0.8159\n",
            "Epoch 34/600\n",
            "114/114 [==============================] - 1s 6ms/step - loss: 0.4563 - accuracy: 0.8104 - val_loss: 0.4365 - val_accuracy: 0.8185\n",
            "Epoch 35/600\n",
            "114/114 [==============================] - 0s 4ms/step - loss: 0.4538 - accuracy: 0.8122 - val_loss: 0.4353 - val_accuracy: 0.8098\n",
            "Epoch 36/600\n",
            "114/114 [==============================] - 1s 5ms/step - loss: 0.4508 - accuracy: 0.8094 - val_loss: 0.4341 - val_accuracy: 0.8199\n",
            "Epoch 37/600\n",
            "114/114 [==============================] - 1s 7ms/step - loss: 0.4525 - accuracy: 0.8094 - val_loss: 0.4465 - val_accuracy: 0.8212\n",
            "Epoch 38/600\n",
            "114/114 [==============================] - 1s 10ms/step - loss: 0.4473 - accuracy: 0.8124 - val_loss: 0.4309 - val_accuracy: 0.8199\n",
            "Epoch 39/600\n",
            "114/114 [==============================] - 1s 5ms/step - loss: 0.4493 - accuracy: 0.8122 - val_loss: 0.4250 - val_accuracy: 0.8212\n",
            "Epoch 40/600\n",
            "114/114 [==============================] - 0s 3ms/step - loss: 0.4456 - accuracy: 0.8104 - val_loss: 0.4291 - val_accuracy: 0.8138\n",
            "Epoch 41/600\n",
            "114/114 [==============================] - 0s 2ms/step - loss: 0.4445 - accuracy: 0.8097 - val_loss: 0.4299 - val_accuracy: 0.8233\n",
            "Epoch 42/600\n",
            "114/114 [==============================] - 0s 2ms/step - loss: 0.4404 - accuracy: 0.8159 - val_loss: 0.4238 - val_accuracy: 0.8233\n",
            "Epoch 43/600\n",
            "114/114 [==============================] - 0s 3ms/step - loss: 0.4438 - accuracy: 0.8091 - val_loss: 0.4206 - val_accuracy: 0.8233\n",
            "Epoch 44/600\n",
            "114/114 [==============================] - 0s 2ms/step - loss: 0.4400 - accuracy: 0.8120 - val_loss: 0.4225 - val_accuracy: 0.8138\n",
            "Epoch 45/600\n",
            "114/114 [==============================] - 0s 3ms/step - loss: 0.4395 - accuracy: 0.8101 - val_loss: 0.4172 - val_accuracy: 0.8219\n",
            "Epoch 46/600\n",
            "114/114 [==============================] - 0s 2ms/step - loss: 0.4374 - accuracy: 0.8152 - val_loss: 0.4185 - val_accuracy: 0.8159\n",
            "Epoch 47/600\n",
            "114/114 [==============================] - 0s 3ms/step - loss: 0.4384 - accuracy: 0.8120 - val_loss: 0.4191 - val_accuracy: 0.8239\n",
            "Epoch 48/600\n",
            "114/114 [==============================] - 0s 2ms/step - loss: 0.4351 - accuracy: 0.8120 - val_loss: 0.4135 - val_accuracy: 0.8179\n",
            "Epoch 49/600\n",
            "114/114 [==============================] - 0s 2ms/step - loss: 0.4339 - accuracy: 0.8109 - val_loss: 0.4206 - val_accuracy: 0.8152\n",
            "Epoch 50/600\n",
            "114/114 [==============================] - 0s 2ms/step - loss: 0.4359 - accuracy: 0.8148 - val_loss: 0.4148 - val_accuracy: 0.8112\n",
            "Epoch 51/600\n",
            "114/114 [==============================] - 0s 2ms/step - loss: 0.4328 - accuracy: 0.8137 - val_loss: 0.4230 - val_accuracy: 0.8152\n",
            "Epoch 52/600\n",
            "114/114 [==============================] - 0s 2ms/step - loss: 0.4319 - accuracy: 0.8152 - val_loss: 0.4169 - val_accuracy: 0.8172\n",
            "Epoch 53/600\n",
            "114/114 [==============================] - 0s 2ms/step - loss: 0.4306 - accuracy: 0.8113 - val_loss: 0.4126 - val_accuracy: 0.8118\n",
            "Epoch 54/600\n",
            "114/114 [==============================] - 0s 2ms/step - loss: 0.4305 - accuracy: 0.8134 - val_loss: 0.4163 - val_accuracy: 0.8172\n",
            "Epoch 55/600\n",
            "114/114 [==============================] - 0s 3ms/step - loss: 0.4295 - accuracy: 0.8142 - val_loss: 0.4210 - val_accuracy: 0.8280\n",
            "Epoch 56/600\n",
            "114/114 [==============================] - 0s 3ms/step - loss: 0.4277 - accuracy: 0.8162 - val_loss: 0.4126 - val_accuracy: 0.8306\n",
            "Epoch 57/600\n",
            "114/114 [==============================] - 0s 3ms/step - loss: 0.4275 - accuracy: 0.8138 - val_loss: 0.4110 - val_accuracy: 0.8280\n",
            "Epoch 58/600\n",
            "114/114 [==============================] - 0s 3ms/step - loss: 0.4310 - accuracy: 0.8124 - val_loss: 0.4074 - val_accuracy: 0.8206\n",
            "Epoch 59/600\n",
            "114/114 [==============================] - 0s 2ms/step - loss: 0.4249 - accuracy: 0.8166 - val_loss: 0.4120 - val_accuracy: 0.8273\n",
            "Epoch 60/600\n",
            "114/114 [==============================] - 0s 2ms/step - loss: 0.4251 - accuracy: 0.8170 - val_loss: 0.4032 - val_accuracy: 0.8219\n",
            "Epoch 61/600\n",
            "114/114 [==============================] - 0s 2ms/step - loss: 0.4248 - accuracy: 0.8158 - val_loss: 0.4039 - val_accuracy: 0.8233\n",
            "Epoch 62/600\n",
            "114/114 [==============================] - 0s 2ms/step - loss: 0.4239 - accuracy: 0.8181 - val_loss: 0.4006 - val_accuracy: 0.8266\n",
            "Epoch 63/600\n",
            "114/114 [==============================] - 0s 2ms/step - loss: 0.4246 - accuracy: 0.8164 - val_loss: 0.4029 - val_accuracy: 0.8219\n",
            "Epoch 64/600\n",
            "114/114 [==============================] - 0s 2ms/step - loss: 0.4273 - accuracy: 0.8130 - val_loss: 0.4054 - val_accuracy: 0.8192\n",
            "Epoch 65/600\n",
            "114/114 [==============================] - 0s 3ms/step - loss: 0.4219 - accuracy: 0.8184 - val_loss: 0.3986 - val_accuracy: 0.8300\n",
            "Epoch 66/600\n",
            "114/114 [==============================] - 0s 2ms/step - loss: 0.4228 - accuracy: 0.8180 - val_loss: 0.4018 - val_accuracy: 0.8306\n",
            "Epoch 67/600\n",
            "114/114 [==============================] - 0s 2ms/step - loss: 0.4205 - accuracy: 0.8189 - val_loss: 0.4047 - val_accuracy: 0.8192\n",
            "Epoch 68/600\n",
            "114/114 [==============================] - 0s 2ms/step - loss: 0.4214 - accuracy: 0.8192 - val_loss: 0.3999 - val_accuracy: 0.8300\n",
            "Epoch 69/600\n",
            "114/114 [==============================] - 0s 2ms/step - loss: 0.4204 - accuracy: 0.8171 - val_loss: 0.4037 - val_accuracy: 0.8313\n",
            "Epoch 70/600\n",
            "114/114 [==============================] - 0s 2ms/step - loss: 0.4245 - accuracy: 0.8206 - val_loss: 0.3969 - val_accuracy: 0.8374\n",
            "Epoch 71/600\n",
            "114/114 [==============================] - 0s 2ms/step - loss: 0.4216 - accuracy: 0.8159 - val_loss: 0.4064 - val_accuracy: 0.8212\n",
            "Epoch 72/600\n",
            "114/114 [==============================] - 0s 2ms/step - loss: 0.4199 - accuracy: 0.8197 - val_loss: 0.4188 - val_accuracy: 0.8118\n",
            "Epoch 73/600\n",
            "114/114 [==============================] - 0s 2ms/step - loss: 0.4209 - accuracy: 0.8178 - val_loss: 0.4101 - val_accuracy: 0.8199\n",
            "Epoch 74/600\n",
            "114/114 [==============================] - 0s 3ms/step - loss: 0.4192 - accuracy: 0.8173 - val_loss: 0.3979 - val_accuracy: 0.8233\n",
            "Epoch 75/600\n",
            "114/114 [==============================] - 0s 2ms/step - loss: 0.4208 - accuracy: 0.8169 - val_loss: 0.4014 - val_accuracy: 0.8360\n",
            "Epoch 76/600\n",
            "114/114 [==============================] - 0s 2ms/step - loss: 0.4163 - accuracy: 0.8207 - val_loss: 0.3977 - val_accuracy: 0.8273\n",
            "Epoch 77/600\n",
            "114/114 [==============================] - 0s 3ms/step - loss: 0.4170 - accuracy: 0.8197 - val_loss: 0.4029 - val_accuracy: 0.8320\n",
            "Epoch 78/600\n",
            "114/114 [==============================] - 0s 2ms/step - loss: 0.4182 - accuracy: 0.8186 - val_loss: 0.3950 - val_accuracy: 0.8306\n",
            "Epoch 79/600\n",
            "114/114 [==============================] - 0s 3ms/step - loss: 0.4170 - accuracy: 0.8173 - val_loss: 0.3953 - val_accuracy: 0.8253\n",
            "Epoch 80/600\n",
            "114/114 [==============================] - 0s 2ms/step - loss: 0.4185 - accuracy: 0.8173 - val_loss: 0.3970 - val_accuracy: 0.8293\n",
            "Epoch 81/600\n",
            "114/114 [==============================] - 0s 2ms/step - loss: 0.4167 - accuracy: 0.8217 - val_loss: 0.3921 - val_accuracy: 0.8300\n",
            "Epoch 82/600\n",
            "114/114 [==============================] - 0s 2ms/step - loss: 0.4170 - accuracy: 0.8155 - val_loss: 0.3995 - val_accuracy: 0.8280\n",
            "Epoch 83/600\n",
            "114/114 [==============================] - 0s 3ms/step - loss: 0.4150 - accuracy: 0.8213 - val_loss: 0.3974 - val_accuracy: 0.8306\n",
            "Epoch 84/600\n",
            "114/114 [==============================] - 0s 3ms/step - loss: 0.4130 - accuracy: 0.8195 - val_loss: 0.3947 - val_accuracy: 0.8333\n",
            "Epoch 85/600\n",
            "114/114 [==============================] - 0s 2ms/step - loss: 0.4178 - accuracy: 0.8181 - val_loss: 0.3907 - val_accuracy: 0.8333\n",
            "Epoch 86/600\n",
            "114/114 [==============================] - 0s 2ms/step - loss: 0.4133 - accuracy: 0.8213 - val_loss: 0.3893 - val_accuracy: 0.8293\n",
            "Epoch 87/600\n",
            "114/114 [==============================] - 0s 3ms/step - loss: 0.4163 - accuracy: 0.8193 - val_loss: 0.3935 - val_accuracy: 0.8306\n",
            "Epoch 88/600\n",
            "114/114 [==============================] - 0s 2ms/step - loss: 0.4130 - accuracy: 0.8229 - val_loss: 0.3917 - val_accuracy: 0.8246\n",
            "Epoch 89/600\n",
            "114/114 [==============================] - 0s 3ms/step - loss: 0.4150 - accuracy: 0.8184 - val_loss: 0.3922 - val_accuracy: 0.8374\n",
            "Epoch 90/600\n",
            "114/114 [==============================] - 0s 2ms/step - loss: 0.4167 - accuracy: 0.8166 - val_loss: 0.3925 - val_accuracy: 0.8320\n",
            "Epoch 91/600\n",
            "114/114 [==============================] - 0s 3ms/step - loss: 0.4148 - accuracy: 0.8166 - val_loss: 0.3909 - val_accuracy: 0.8374\n",
            "Epoch 92/600\n",
            "114/114 [==============================] - 0s 2ms/step - loss: 0.4132 - accuracy: 0.8199 - val_loss: 0.3957 - val_accuracy: 0.8340\n",
            "Epoch 93/600\n",
            "114/114 [==============================] - 0s 2ms/step - loss: 0.4141 - accuracy: 0.8203 - val_loss: 0.3932 - val_accuracy: 0.8340\n",
            "Epoch 94/600\n",
            "114/114 [==============================] - 0s 2ms/step - loss: 0.4116 - accuracy: 0.8237 - val_loss: 0.3905 - val_accuracy: 0.8286\n",
            "Epoch 95/600\n",
            "114/114 [==============================] - 0s 3ms/step - loss: 0.4103 - accuracy: 0.8243 - val_loss: 0.3913 - val_accuracy: 0.8407\n",
            "Epoch 96/600\n",
            "114/114 [==============================] - 0s 2ms/step - loss: 0.4114 - accuracy: 0.8210 - val_loss: 0.3917 - val_accuracy: 0.8360\n",
            "Epoch 97/600\n",
            "114/114 [==============================] - 0s 3ms/step - loss: 0.4123 - accuracy: 0.8204 - val_loss: 0.3977 - val_accuracy: 0.8394\n",
            "Epoch 98/600\n",
            "114/114 [==============================] - 0s 2ms/step - loss: 0.4114 - accuracy: 0.8233 - val_loss: 0.3935 - val_accuracy: 0.8367\n",
            "Epoch 99/600\n",
            "114/114 [==============================] - 0s 3ms/step - loss: 0.4122 - accuracy: 0.8197 - val_loss: 0.4008 - val_accuracy: 0.8246\n",
            "Epoch 100/600\n",
            "114/114 [==============================] - 0s 2ms/step - loss: 0.4119 - accuracy: 0.8196 - val_loss: 0.3897 - val_accuracy: 0.8374\n",
            "Epoch 101/600\n",
            "114/114 [==============================] - 0s 2ms/step - loss: 0.4148 - accuracy: 0.8210 - val_loss: 0.3941 - val_accuracy: 0.8306\n"
          ]
        },
        {
          "output_type": "execute_result",
          "data": {
            "text/plain": [
              "[<matplotlib.lines.Line2D at 0x7f35f1d58450>]"
            ]
          },
          "metadata": {},
          "execution_count": 7
        },
        {
          "output_type": "display_data",
          "data": {
            "text/plain": [
              "<Figure size 432x288 with 1 Axes>"
            ],
            "image/png": "[encoded data removed]"
          },
          "metadata": {
            "needs_background": "light"
          }
        }
      ]
    },
    {
      "cell_type": "code",
      "source": [
        "from keras.metrics import accuracy\n",
        "#test_size = X_test.shape[0]\n",
        "pred = classifier.predict(X_test)\n",
        "#print(pred)\n",
        "pred_ = np.argmax(pred, axis = 1)\n",
        "#print(pred_)\n",
        "pred_ = l_encode.inverse_transform(pred_)\n",
        "\n",
        "true_y = l_encode.inverse_transform(np.argmax(to_categorical(y_test), axis = 1)[:,1])\n",
        "\n",
        "\n",
        "#for i,j in zip(pred_, true_y):\n",
        "#    print(\"Predicted: {}, True: {}\".format(i, j))\n",
        "\n",
        "cnt = 0\n",
        "cnt_correct = 0\n",
        "\n",
        "for i in range(len(pred_)):\n",
        "  cnt += 1\n",
        "  if(pred_[i] == true_y[i]):\n",
        "    cnt_correct += 1\n",
        "  if(pred_[i] == 0 and true_y[i] == 3):\n",
        "    for j in range(len(names)):\n",
        "      print(names[j]+\"->\"+str(X_test_copy.iloc[i][names[j]]))\n",
        "    print(\"------------------------------------------------------------------\")\n",
        "  \n",
        "print(f'accuracy: {(cnt_correct/cnt)*100:.2f}%')"
      ],
      "metadata": {
        "colab": {
          "base_uri": "https://localhost:8080/"
        },
        "id": "-WKM6CPTczGd",
        "outputId": "c33d04ac-78ff-43a9-a067-a86184b628a5"
      },
      "execution_count": 8,
      "outputs": [
        {
          "output_type": "stream",
          "name": "stdout",
          "text": [
            "n->80.0\n",
            "m->40.0\n",
            "av.length->106.9375\n",
            "std.dev->48.509495\n",
            "median->105.5\n",
            "range->252.0\n",
            "max->268.0\n",
            "k->66.0\n",
            "------------------------------------------------------------------\n",
            "n->160.0\n",
            "m->80.0\n",
            "av.length->102.606247\n",
            "std.dev->46.929787\n",
            "median->100.5\n",
            "range->261.0\n",
            "max->271.0\n",
            "k->100.0\n",
            "------------------------------------------------------------------\n",
            "n->100.0\n",
            "m->50.0\n",
            "av.length->96.209999\n",
            "std.dev->47.907383\n",
            "median->102.0\n",
            "range->241.0\n",
            "max->245.0\n",
            "k->83.0\n",
            "------------------------------------------------------------------\n",
            "accuracy: 82.93%\n"
          ]
        }
      ]
    },
    {
      "cell_type": "code",
      "source": [
        "from sklearn.metrics import confusion_matrix, ConfusionMatrixDisplay\n",
        "#for i in range(len(pred_)):\n",
        "#  print(true_y[i])\n",
        "#print(confusion_matrix(true_y, pred_, labels=[0, 1, 2, 3]))\n",
        "cm = confusion_matrix(true_y, pred_, labels=[0, 1, 2, 3])\n",
        "cmd = ConfusionMatrixDisplay(cm, display_labels=['easy','moderate', 'hard', 'very hard'])\n",
        "#plt.subplot(1, 2, 1)\n",
        "cmd.plot()\n",
        "print(f'accuracy: {(cnt_correct/cnt)*100:.2f}%')"
      ],
      "metadata": {
        "colab": {
          "base_uri": "https://localhost:8080/",
          "height": 296
        },
        "id": "td3mlxlNxXqF",
        "outputId": "c05ce3da-ef1e-4eec-c6ab-a66a13149a65"
      },
      "execution_count": 9,
      "outputs": [
        {
          "output_type": "stream",
          "name": "stdout",
          "text": [
            "accuracy: 82.93%\n"
          ]
        },
        {
          "output_type": "display_data",
          "data": {
            "text/plain": [
              "<Figure size 432x288 with 2 Axes>"
            ],
            "image/png": "[encoded data removed]"
          },
          "metadata": {
            "needs_background": "light"
          }
        }
      ]
    },
    {
      "cell_type": "code",
      "source": [
        "y_new = np.array(y_new)\n",
        "plt.hist(y_new)\n",
        "#plt.title('0->[0,2000) : 1->[2000,99999]')\n",
        "plt.show()"
      ],
      "metadata": {
        "id": "a_uXCro7BbBx",
        "outputId": "6de090c6-fcd8-4922-e6f4-270ed8e2dce2",
        "colab": {
          "base_uri": "https://localhost:8080/",
          "height": 265
        }
      },
      "execution_count": 10,
      "outputs": [
        {
          "output_type": "display_data",
          "data": {
            "text/plain": [
              "<Figure size 432x288 with 1 Axes>"
            ],
            "image/png": "[encoded data removed]"
          },
          "metadata": {
            "needs_background": "light"
          }
        }
      ]
    },
    {
      "cell_type": "code",
      "source": [
        "import matplotlib.pyplot as plt \n",
        "from sklearn.preprocessing import LabelBinarizer\n",
        "from sklearn.metrics import roc_curve, auc, roc_auc_score\n",
        "\n",
        "\n",
        "target= ['easy', 'moderate', 'hard', 'very hard']\n",
        "\n",
        "fig, c_ax = plt.subplots(1,1, figsize = (12, 8))\n",
        "\n",
        "def multiclass_roc_auc_score(y_test, y_pred, average=\"macro\"):\n",
        "    lb = LabelBinarizer()\n",
        "    lb.fit(y_test)\n",
        "    y_test = lb.transform(y_test)\n",
        "    y_pred = lb.transform(y_pred)\n",
        "\n",
        "    for (idx, c_label) in enumerate(target):\n",
        "        fpr, tpr, thresholds = roc_curve(y_test[:,idx].astype(int), y_pred[:,idx])\n",
        "        c_ax.plot(fpr, tpr, label = '%s (AUC:%0.2f)'  % (c_label, auc(fpr, tpr)))\n",
        "    c_ax.plot(fpr, fpr, 'b-', label = 'Random Guessing')\n",
        "    return roc_auc_score(y_test, y_pred, average=average)\n",
        "\n",
        "\n",
        "print('ROC AUC score:', multiclass_roc_auc_score(true_y, pred_))\n",
        "\n",
        "c_ax.legend()\n",
        "c_ax.set_xlabel('False Positive Rate')\n",
        "c_ax.set_ylabel('True Positive Rate')\n",
        "plt.grid()\n",
        "plt.show()"
      ],
      "metadata": {
        "id": "ilN2NeRZ-wOR",
        "outputId": "cde70ece-93b0-41fd-eabf-0d3c3601c5f9",
        "colab": {
          "base_uri": "https://localhost:8080/",
          "height": 514
        }
      },
      "execution_count": 11,
      "outputs": [
        {
          "output_type": "stream",
          "name": "stdout",
          "text": [
            "ROC AUC score: 0.8824979861121912\n"
          ]
        },
        {
          "output_type": "display_data",
          "data": {
            "text/plain": [
              "<Figure size 864x576 with 1 Axes>"
            ],
            "image/png": "[encoded data removed]"
          },
          "metadata": {
            "needs_background": "light"
          }
        }
      ]
    }
  ]
}