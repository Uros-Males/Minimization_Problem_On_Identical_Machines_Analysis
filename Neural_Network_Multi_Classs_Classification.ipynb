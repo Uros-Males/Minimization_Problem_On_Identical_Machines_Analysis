{
  "nbformat": 4,
  "nbformat_minor": 0,
  "metadata": {
    "colab": {
      "name": "Neural_Network_Classification.ipynb",
      "provenance": [],
      "authorship_tag": "ABX9TyMuF1ICDeGm34iGTHWp1f5Q",
      "include_colab_link": true
    },
    "kernelspec": {
      "name": "python3",
      "display_name": "Python 3"
    },
    "language_info": {
      "name": "python"
    }
  },
  "cells": [
    {
      "cell_type": "markdown",
      "metadata": {
        "id": "view-in-github",
        "colab_type": "text"
      },
      "source": [
        "<a href=\"https://colab.research.google.com/github/Uros-Males/Minimization_Problem_On_Identical_Machines_Analysis/blob/main/Neural_Network_Multi_Classs_Classification.ipynb\" target=\"_parent\"><img src=\"https://colab.research.google.com/assets/colab-badge.svg\" alt=\"Open In Colab\"/></a>"
      ]
    },
    {
      "cell_type": "code",
      "execution_count": 1,
      "metadata": {
        "colab": {
          "base_uri": "https://localhost:8080/"
        },
        "id": "6u-X4QiVmgm4",
        "outputId": "8efae36a-850c-4e65-ab07-9c7719d87c78"
      },
      "outputs": [
        {
          "output_type": "stream",
          "name": "stdout",
          "text": [
            "8750\n",
            "   subtype  class  indeks    n   m   n/m  (n/m)^2   (n/m)^3       m/n  \\\n",
            "0        1      3       4  100  50   2.0     4.00     8.000  0.500000   \n",
            "1       11      4       2   54   9   6.0    36.00   216.000  0.166667   \n",
            "2       13      5       5   80   8  10.0   100.00  1000.000  0.100000   \n",
            "3        8      3       9   20   5   4.0    16.00    64.000  0.250000   \n",
            "4        3      3       1   20   8   2.5     6.25    15.625  0.400000   \n",
            "\n",
            "    (m/n)^2   (m/n)^3   av.length    std.dev  median  range  min  max   k  \n",
            "0  0.250000  0.125000   78.550003  14.426668    79.5     49   51  100  44  \n",
            "1  0.027778  0.004630  100.444443  19.172178   103.0    100   52  152  36  \n",
            "2  0.010000  0.001000  106.612503  53.127857   100.5    249    6  255  68  \n",
            "3  0.062500  0.015625   74.550003  13.343538    78.0     47   51   98  17  \n",
            "4  0.160000  0.064000   81.650002  15.661804    89.0     48   51   99  16  \n"
          ]
        }
      ],
      "source": [
        "#IN PROGRESS....\n",
        "import pandas as pd\n",
        "import numpy as np\n",
        "import matplotlib.pyplot as plt\n",
        "from sklearn import tree\n",
        "from sklearn.model_selection import train_test_split\n",
        "from sklearn.tree import DecisionTreeRegressor\n",
        "import time\n",
        "import keras\n",
        "\n",
        "df = pd.read_csv('/content/sample_data/C-instances-runtime-analysis.csv')\n",
        "print(df.shape[0])\n",
        "\n",
        "shuffled = df.sample(frac=1).reset_index()\n",
        "\n",
        "columns_dont_want = ['y', 'index', 'inst.name','type', 'CPLEXStatus'] #cple\n",
        "select = [x for x in shuffled.columns if x not in columns_dont_want]\n",
        "\n",
        "X = shuffled.loc[:, select]\n",
        "\n",
        "y = shuffled.loc[:,'y']\n",
        "print(X.head())\n",
        "names = ['subtype', 'class', 'indeks', 'n', 'm', 'n/m', '(n/m)^2', '(n/m)^3', 'm/n', '(m/n)^2',\n",
        "         '(m/n)^3', 'av.length', 'std.dev', 'median', 'range', 'min', 'max', 'k']\n",
        "#print(names[1])\n",
        "\n",
        "\n"
      ]
    },
    {
      "cell_type": "code",
      "source": [
        "y_new = []\n",
        "for val in y:\n",
        "  if(val<10):\n",
        "    y_new.append(0)\n",
        "  elif(10 <= val and val <100):\n",
        "    y_new.append(1)\n",
        "  elif(100<=val and val<1000):\n",
        "    y_new.append(2)\n",
        "  else:\n",
        "    y_new.append(3)\n",
        "\n",
        "shuffled['y_new'] = y_new\n",
        "#print(shuffled.head())\n",
        "y_encoded = shuffled.loc[:,'y_new']\n",
        "y_new = np.array(y_new)\n",
        "plt.hist(y_new)\n",
        "plt.show()\n",
        "X_modified = X\n",
        "#X_modified = X.drop(['n/m', '(n/m)^2', '(n/m)^3', 'm/n', '(m/n)^2', '(m/n)^3', 'max', 'av.length'], axis = 1)\n",
        "#print(X_modified.shape[1])"
      ],
      "metadata": {
        "id": "XkPXcbO0riCC",
        "colab": {
          "base_uri": "https://localhost:8080/",
          "height": 265
        },
        "outputId": "a865d71e-7dc4-448e-86a7-fbceb5c28a2b"
      },
      "execution_count": 2,
      "outputs": [
        {
          "output_type": "display_data",
          "data": {
            "text/plain": [
              "<Figure size 432x288 with 1 Axes>"
            ],
            "image/png": "[encoded data removed]"
          },
          "metadata": {
            "needs_background": "light"
          }
        }
      ]
    },
    {
      "cell_type": "code",
      "source": [
        "from sklearn.preprocessing import LabelEncoder\n",
        "from keras.utils.np_utils import to_categorical\n",
        "\n",
        "l_encode = LabelEncoder()\n",
        "l_encode.fit(y_encoded)\n",
        "y_encoded = l_encode.transform(y_encoded)\n",
        "y_encoded = to_categorical(y_encoded)\n",
        "y_encoded"
      ],
      "metadata": {
        "colab": {
          "base_uri": "https://localhost:8080/"
        },
        "id": "W2hvUxxE2NWr",
        "outputId": "01daeeb3-8023-46c4-e445-33f3c320a207"
      },
      "execution_count": 3,
      "outputs": [
        {
          "output_type": "execute_result",
          "data": {
            "text/plain": [
              "array([[1., 0., 0., 0.],\n",
              "       [0., 0., 1., 0.],\n",
              "       [0., 0., 0., 1.],\n",
              "       ...,\n",
              "       [0., 0., 1., 0.],\n",
              "       [0., 1., 0., 0.],\n",
              "       [0., 0., 0., 1.]], dtype=float32)"
            ]
          },
          "metadata": {},
          "execution_count": 3
        }
      ]
    },
    {
      "cell_type": "code",
      "source": [
        "from keras.models import Sequential\n",
        "from keras.layers import Dense, Dropout\n",
        "\n",
        "classifier = Sequential()\n",
        "classifier.add(Dense(8, input_dim = 9, activation='relu'))\n",
        "#classifier.add(Dense(8, activation = 'relu'))\n",
        "\n",
        "classifier.add(Dense(16, activation = 'relu'))\n",
        "\n",
        "#classifier.add(Dense(32, activation = 'relu'))\n",
        "#classifier.add(Dense(32, activation = 'relu'))\n",
        "#classifier.add(Dense(16, activation = 'relu'))\n",
        "\n",
        "classifier.add(Dense(32, activation='relu'))\n",
        "\n",
        "classifier.add(Dense(64, activation='relu'))\n",
        "\n",
        "classifier.add(Dense(16, activation='relu'))\n",
        "\n",
        "classifier.add(Dense(4, activation = 'softmax'))\n",
        "classifier.compile(loss = 'categorical_crossentropy', optimizer = 'adam', metrics = ['accuracy'])\n",
        "classifier.summary()"
      ],
      "metadata": {
        "id": "jRT-grzys8_y",
        "colab": {
          "base_uri": "https://localhost:8080/"
        },
        "outputId": "51dae1a1-5dfb-4393-de52-1b30072c0294"
      },
      "execution_count": 4,
      "outputs": [
        {
          "output_type": "stream",
          "name": "stdout",
          "text": [
            "Model: \"sequential\"\n",
            "_________________________________________________________________\n",
            " Layer (type)                Output Shape              Param #   \n",
            "=================================================================\n",
            " dense (Dense)               (None, 8)                 80        \n",
            "                                                                 \n",
            " dense_1 (Dense)             (None, 16)                144       \n",
            "                                                                 \n",
            " dense_2 (Dense)             (None, 32)                544       \n",
            "                                                                 \n",
            " dense_3 (Dense)             (None, 64)                2112      \n",
            "                                                                 \n",
            " dense_4 (Dense)             (None, 16)                1040      \n",
            "                                                                 \n",
            " dense_5 (Dense)             (None, 4)                 68        \n",
            "                                                                 \n",
            "=================================================================\n",
            "Total params: 3,988\n",
            "Trainable params: 3,988\n",
            "Non-trainable params: 0\n",
            "_________________________________________________________________\n"
          ]
        }
      ]
    },
    {
      "cell_type": "code",
      "source": [
        "from sklearn import preprocessing\n",
        "\n",
        "X = preprocessing.normalize(X)\n",
        "X = pd.DataFrame(X, columns=names)\n",
        "print(X.head())\n",
        "\n",
        "from sklearn.decomposition import PCA\n",
        "\n",
        "#,'PC2','PC3','PC4','PC5','PC6','PC7','PC8\n",
        "pca = PCA(n_components=9)\n",
        "pca.fit(X)\n",
        "X = pca.transform(X)\n",
        "X = pd.DataFrame(X,columns=['PC1','PC2','PC3','PC4','PC5','PC6','PC7','PC8','PC9'])\n",
        "X_modified = X\n",
        "\n",
        "X_train, X_test, y_train, y_test = train_test_split(X_modified, y_encoded, random_state=0, train_size = 0.83)\n",
        "\n",
        "\n"
      ],
      "metadata": {
        "id": "gWTX6M2mxxPD",
        "outputId": "5d799a08-4833-4ef5-9d0b-cbf1e7c17b6e",
        "colab": {
          "base_uri": "https://localhost:8080/"
        }
      },
      "execution_count": 5,
      "outputs": [
        {
          "output_type": "stream",
          "name": "stdout",
          "text": [
            "    subtype     class    indeks         n         m       n/m   (n/m)^2  \\\n",
            "0  0.004865  0.014596  0.019461  0.486523  0.243261  0.009730  0.019461   \n",
            "1  0.033273  0.012099  0.006050  0.163340  0.027223  0.018149  0.108893   \n",
            "2  0.012004  0.004617  0.004617  0.073873  0.007387  0.009234  0.092341   \n",
            "3  0.045097  0.016911  0.050734  0.112741  0.028185  0.022548  0.090193   \n",
            "4  0.017159  0.017159  0.005720  0.114393  0.045757  0.014299  0.035748   \n",
            "\n",
            "    (n/m)^3       m/n   (m/n)^2       (m/n)^3  av.length   std.dev    median  \\\n",
            "0  0.038922  0.002433  0.001216  6.081533e-04   0.382164  0.070189  0.386785   \n",
            "1  0.653360  0.000504  0.000084  1.400488e-05   0.303826  0.057992  0.311556   \n",
            "2  0.923413  0.000092  0.000009  9.234126e-07   0.098447  0.049059  0.092803   \n",
            "3  0.360772  0.001409  0.000352  8.807911e-05   0.420243  0.075218  0.439691   \n",
            "4  0.089369  0.002288  0.000915  3.660571e-04   0.467009  0.089580  0.509048   \n",
            "\n",
            "      range       min       max         k  \n",
            "0  0.238396  0.248127  0.486523  0.214070  \n",
            "1  0.302481  0.157290  0.459772  0.108893  \n",
            "2  0.229930  0.005540  0.235470  0.062792  \n",
            "3  0.264942  0.287490  0.552432  0.095830  \n",
            "4  0.274543  0.291702  0.566245  0.091514  \n"
          ]
        }
      ]
    },
    {
      "cell_type": "code",
      "source": [
        "#classifier.fit(X_train, y_train, batch_size = 64, epochs = 20, verbose = 1)\n",
        "#scores = classifier.evaluate(X_test, y_test)\n",
        "#for i, m in enumerate(classifier.metrics_names):\n",
        "#    print(\"\\n%s: %.3f\"% (m, scores[i]))\n",
        "#print(X_test_copy.iloc[0]['subtype'])"
      ],
      "metadata": {
        "id": "Mm7RsTBcx2EN"
      },
      "execution_count": 6,
      "outputs": []
    },
    {
      "cell_type": "code",
      "source": [
        "from keras.metrics import accuracy\n",
        "from keras import callbacks\n",
        "earlystopping = callbacks.EarlyStopping(monitor =\"val_loss\", \n",
        "                                        mode =\"min\", patience = 20, \n",
        "                                        restore_best_weights = True)\n",
        "  \n",
        "history = classifier.fit(X_train, y_train, batch_size = 16, \n",
        "                    epochs = 600, validation_data =(X_test, y_test), \n",
        "                    callbacks =[earlystopping])\n",
        "plt.plot(history.history['val_accuracy'])\n",
        "\n"
      ],
      "metadata": {
        "colab": {
          "base_uri": "https://localhost:8080/",
          "height": 1000
        },
        "id": "Sv9aKFPW5KGr",
        "outputId": "003e7b7d-9fbe-4d6c-b634-d17d63f71ff7"
      },
      "execution_count": 7,
      "outputs": [
        {
          "output_type": "stream",
          "name": "stdout",
          "text": [
            "Epoch 1/600\n",
            "454/454 [==============================] - 5s 9ms/step - loss: 1.1371 - accuracy: 0.4938 - val_loss: 1.0273 - val_accuracy: 0.5538\n",
            "Epoch 2/600\n",
            "454/454 [==============================] - 4s 8ms/step - loss: 0.8517 - accuracy: 0.6234 - val_loss: 0.7413 - val_accuracy: 0.6841\n",
            "Epoch 3/600\n",
            "454/454 [==============================] - 3s 7ms/step - loss: 0.6433 - accuracy: 0.7247 - val_loss: 0.6483 - val_accuracy: 0.7211\n",
            "Epoch 4/600\n",
            "454/454 [==============================] - 3s 7ms/step - loss: 0.5823 - accuracy: 0.7525 - val_loss: 0.6600 - val_accuracy: 0.7077\n",
            "Epoch 5/600\n",
            "454/454 [==============================] - 3s 6ms/step - loss: 0.5572 - accuracy: 0.7592 - val_loss: 0.6026 - val_accuracy: 0.7399\n",
            "Epoch 6/600\n",
            "454/454 [==============================] - 3s 7ms/step - loss: 0.5508 - accuracy: 0.7620 - val_loss: 0.6111 - val_accuracy: 0.7466\n",
            "Epoch 7/600\n",
            "454/454 [==============================] - 4s 8ms/step - loss: 0.5413 - accuracy: 0.7659 - val_loss: 0.6162 - val_accuracy: 0.7298\n",
            "Epoch 8/600\n",
            "454/454 [==============================] - 3s 6ms/step - loss: 0.5258 - accuracy: 0.7688 - val_loss: 0.5748 - val_accuracy: 0.7695\n",
            "Epoch 9/600\n",
            "454/454 [==============================] - 1s 3ms/step - loss: 0.5261 - accuracy: 0.7699 - val_loss: 0.5675 - val_accuracy: 0.7728\n",
            "Epoch 10/600\n",
            "454/454 [==============================] - 1s 3ms/step - loss: 0.5198 - accuracy: 0.7743 - val_loss: 0.5585 - val_accuracy: 0.7641\n",
            "Epoch 11/600\n",
            "454/454 [==============================] - 1s 2ms/step - loss: 0.5186 - accuracy: 0.7728 - val_loss: 0.5546 - val_accuracy: 0.7695\n",
            "Epoch 12/600\n",
            "454/454 [==============================] - 1s 3ms/step - loss: 0.5081 - accuracy: 0.7819 - val_loss: 0.5578 - val_accuracy: 0.7823\n",
            "Epoch 13/600\n",
            "454/454 [==============================] - 1s 2ms/step - loss: 0.5098 - accuracy: 0.7788 - val_loss: 0.5588 - val_accuracy: 0.7668\n",
            "Epoch 14/600\n",
            "454/454 [==============================] - 1s 3ms/step - loss: 0.5146 - accuracy: 0.7742 - val_loss: 0.5640 - val_accuracy: 0.7594\n",
            "Epoch 15/600\n",
            "454/454 [==============================] - 1s 3ms/step - loss: 0.5086 - accuracy: 0.7771 - val_loss: 0.5562 - val_accuracy: 0.7802\n",
            "Epoch 16/600\n",
            "454/454 [==============================] - 1s 3ms/step - loss: 0.5041 - accuracy: 0.7791 - val_loss: 0.5753 - val_accuracy: 0.7641\n",
            "Epoch 17/600\n",
            "454/454 [==============================] - 1s 3ms/step - loss: 0.5082 - accuracy: 0.7812 - val_loss: 0.5398 - val_accuracy: 0.7802\n",
            "Epoch 18/600\n",
            "454/454 [==============================] - 1s 3ms/step - loss: 0.5015 - accuracy: 0.7860 - val_loss: 0.5609 - val_accuracy: 0.7554\n",
            "Epoch 19/600\n",
            "454/454 [==============================] - 1s 3ms/step - loss: 0.4985 - accuracy: 0.7806 - val_loss: 0.5424 - val_accuracy: 0.7708\n",
            "Epoch 20/600\n",
            "454/454 [==============================] - 1s 3ms/step - loss: 0.4982 - accuracy: 0.7820 - val_loss: 0.5343 - val_accuracy: 0.7782\n",
            "Epoch 21/600\n",
            "454/454 [==============================] - 1s 3ms/step - loss: 0.4968 - accuracy: 0.7833 - val_loss: 0.5385 - val_accuracy: 0.7789\n",
            "Epoch 22/600\n",
            "454/454 [==============================] - 1s 3ms/step - loss: 0.4943 - accuracy: 0.7822 - val_loss: 0.5503 - val_accuracy: 0.7648\n",
            "Epoch 23/600\n",
            "454/454 [==============================] - 1s 3ms/step - loss: 0.4928 - accuracy: 0.7855 - val_loss: 0.5896 - val_accuracy: 0.7413\n",
            "Epoch 24/600\n",
            "454/454 [==============================] - 1s 3ms/step - loss: 0.4991 - accuracy: 0.7797 - val_loss: 0.5534 - val_accuracy: 0.7708\n",
            "Epoch 25/600\n",
            "454/454 [==============================] - 1s 3ms/step - loss: 0.4934 - accuracy: 0.7846 - val_loss: 0.5445 - val_accuracy: 0.7695\n",
            "Epoch 26/600\n",
            "454/454 [==============================] - 1s 3ms/step - loss: 0.4856 - accuracy: 0.7864 - val_loss: 0.5914 - val_accuracy: 0.7614\n",
            "Epoch 27/600\n",
            "454/454 [==============================] - 1s 3ms/step - loss: 0.4872 - accuracy: 0.7889 - val_loss: 0.5396 - val_accuracy: 0.7843\n",
            "Epoch 28/600\n",
            "454/454 [==============================] - 1s 3ms/step - loss: 0.4873 - accuracy: 0.7877 - val_loss: 0.5788 - val_accuracy: 0.7708\n",
            "Epoch 29/600\n",
            "454/454 [==============================] - 1s 3ms/step - loss: 0.4885 - accuracy: 0.7842 - val_loss: 0.5748 - val_accuracy: 0.7513\n",
            "Epoch 30/600\n",
            "454/454 [==============================] - 1s 3ms/step - loss: 0.4873 - accuracy: 0.7874 - val_loss: 0.5190 - val_accuracy: 0.7782\n",
            "Epoch 31/600\n",
            "454/454 [==============================] - 1s 3ms/step - loss: 0.4806 - accuracy: 0.7874 - val_loss: 0.5410 - val_accuracy: 0.7728\n",
            "Epoch 32/600\n",
            "454/454 [==============================] - 1s 3ms/step - loss: 0.4835 - accuracy: 0.7904 - val_loss: 0.5489 - val_accuracy: 0.7796\n",
            "Epoch 33/600\n",
            "454/454 [==============================] - 1s 3ms/step - loss: 0.4844 - accuracy: 0.7906 - val_loss: 0.5509 - val_accuracy: 0.7715\n",
            "Epoch 34/600\n",
            "454/454 [==============================] - 1s 3ms/step - loss: 0.4812 - accuracy: 0.7868 - val_loss: 0.5350 - val_accuracy: 0.7695\n",
            "Epoch 35/600\n",
            "454/454 [==============================] - 1s 3ms/step - loss: 0.4820 - accuracy: 0.7882 - val_loss: 0.5419 - val_accuracy: 0.7856\n",
            "Epoch 36/600\n",
            "454/454 [==============================] - 1s 3ms/step - loss: 0.4758 - accuracy: 0.7928 - val_loss: 0.5206 - val_accuracy: 0.7876\n",
            "Epoch 37/600\n",
            "454/454 [==============================] - 1s 3ms/step - loss: 0.4835 - accuracy: 0.7861 - val_loss: 0.5262 - val_accuracy: 0.7802\n",
            "Epoch 38/600\n",
            "454/454 [==============================] - 1s 3ms/step - loss: 0.4797 - accuracy: 0.7886 - val_loss: 0.5250 - val_accuracy: 0.7829\n",
            "Epoch 39/600\n",
            "454/454 [==============================] - 1s 3ms/step - loss: 0.4819 - accuracy: 0.7892 - val_loss: 0.5177 - val_accuracy: 0.7883\n",
            "Epoch 40/600\n",
            "454/454 [==============================] - 2s 3ms/step - loss: 0.4763 - accuracy: 0.7900 - val_loss: 0.5337 - val_accuracy: 0.7796\n",
            "Epoch 41/600\n",
            "454/454 [==============================] - 2s 3ms/step - loss: 0.4776 - accuracy: 0.7893 - val_loss: 0.5410 - val_accuracy: 0.7782\n",
            "Epoch 42/600\n",
            "454/454 [==============================] - 1s 3ms/step - loss: 0.4768 - accuracy: 0.7911 - val_loss: 0.5144 - val_accuracy: 0.7957\n",
            "Epoch 43/600\n",
            "454/454 [==============================] - 1s 3ms/step - loss: 0.4773 - accuracy: 0.7918 - val_loss: 0.5174 - val_accuracy: 0.7789\n",
            "Epoch 44/600\n",
            "454/454 [==============================] - 1s 3ms/step - loss: 0.4761 - accuracy: 0.7886 - val_loss: 0.5120 - val_accuracy: 0.7944\n",
            "Epoch 45/600\n",
            "454/454 [==============================] - 1s 3ms/step - loss: 0.4704 - accuracy: 0.7988 - val_loss: 0.5242 - val_accuracy: 0.7796\n",
            "Epoch 46/600\n",
            "454/454 [==============================] - 1s 2ms/step - loss: 0.4822 - accuracy: 0.7906 - val_loss: 0.5307 - val_accuracy: 0.7836\n",
            "Epoch 47/600\n",
            "454/454 [==============================] - 1s 3ms/step - loss: 0.4722 - accuracy: 0.7911 - val_loss: 0.5804 - val_accuracy: 0.7520\n",
            "Epoch 48/600\n",
            "454/454 [==============================] - 1s 3ms/step - loss: 0.4706 - accuracy: 0.7914 - val_loss: 0.5323 - val_accuracy: 0.7816\n",
            "Epoch 49/600\n",
            "454/454 [==============================] - 1s 3ms/step - loss: 0.4725 - accuracy: 0.7918 - val_loss: 0.5475 - val_accuracy: 0.7648\n",
            "Epoch 50/600\n",
            "454/454 [==============================] - 1s 3ms/step - loss: 0.4725 - accuracy: 0.7952 - val_loss: 0.5393 - val_accuracy: 0.7762\n",
            "Epoch 51/600\n",
            "454/454 [==============================] - 1s 3ms/step - loss: 0.4674 - accuracy: 0.7952 - val_loss: 0.5226 - val_accuracy: 0.7849\n",
            "Epoch 52/600\n",
            "454/454 [==============================] - 1s 3ms/step - loss: 0.4705 - accuracy: 0.7943 - val_loss: 0.5067 - val_accuracy: 0.7950\n",
            "Epoch 53/600\n",
            "454/454 [==============================] - 1s 3ms/step - loss: 0.4670 - accuracy: 0.7939 - val_loss: 0.5115 - val_accuracy: 0.7876\n",
            "Epoch 54/600\n",
            "454/454 [==============================] - 1s 3ms/step - loss: 0.4673 - accuracy: 0.7929 - val_loss: 0.5085 - val_accuracy: 0.7849\n",
            "Epoch 55/600\n",
            "454/454 [==============================] - 1s 3ms/step - loss: 0.4706 - accuracy: 0.7889 - val_loss: 0.5050 - val_accuracy: 0.8011\n",
            "Epoch 56/600\n",
            "454/454 [==============================] - 1s 3ms/step - loss: 0.4675 - accuracy: 0.7996 - val_loss: 0.5235 - val_accuracy: 0.7776\n",
            "Epoch 57/600\n",
            "454/454 [==============================] - 1s 3ms/step - loss: 0.4643 - accuracy: 0.7958 - val_loss: 0.5123 - val_accuracy: 0.7829\n",
            "Epoch 58/600\n",
            "454/454 [==============================] - 1s 3ms/step - loss: 0.4696 - accuracy: 0.7952 - val_loss: 0.5138 - val_accuracy: 0.7910\n",
            "Epoch 59/600\n",
            "454/454 [==============================] - 1s 3ms/step - loss: 0.4701 - accuracy: 0.7972 - val_loss: 0.5114 - val_accuracy: 0.7903\n",
            "Epoch 60/600\n",
            "454/454 [==============================] - 2s 4ms/step - loss: 0.4625 - accuracy: 0.7961 - val_loss: 0.5082 - val_accuracy: 0.7917\n",
            "Epoch 61/600\n",
            "454/454 [==============================] - 1s 3ms/step - loss: 0.4650 - accuracy: 0.7954 - val_loss: 0.5059 - val_accuracy: 0.7937\n",
            "Epoch 62/600\n",
            "454/454 [==============================] - 2s 3ms/step - loss: 0.4652 - accuracy: 0.7979 - val_loss: 0.5196 - val_accuracy: 0.7809\n",
            "Epoch 63/600\n",
            "454/454 [==============================] - 1s 3ms/step - loss: 0.4683 - accuracy: 0.7933 - val_loss: 0.5198 - val_accuracy: 0.7782\n",
            "Epoch 64/600\n",
            "454/454 [==============================] - 1s 3ms/step - loss: 0.4599 - accuracy: 0.7951 - val_loss: 0.5207 - val_accuracy: 0.7890\n",
            "Epoch 65/600\n",
            "454/454 [==============================] - 1s 3ms/step - loss: 0.4610 - accuracy: 0.7950 - val_loss: 0.5247 - val_accuracy: 0.7722\n",
            "Epoch 66/600\n",
            "454/454 [==============================] - 1s 3ms/step - loss: 0.4614 - accuracy: 0.7959 - val_loss: 0.5130 - val_accuracy: 0.7957\n",
            "Epoch 67/600\n",
            "454/454 [==============================] - 1s 3ms/step - loss: 0.4633 - accuracy: 0.7985 - val_loss: 0.5269 - val_accuracy: 0.7890\n",
            "Epoch 68/600\n",
            "454/454 [==============================] - 1s 3ms/step - loss: 0.4604 - accuracy: 0.7968 - val_loss: 0.5147 - val_accuracy: 0.7796\n",
            "Epoch 69/600\n",
            "454/454 [==============================] - 1s 3ms/step - loss: 0.4620 - accuracy: 0.7937 - val_loss: 0.5224 - val_accuracy: 0.7802\n",
            "Epoch 70/600\n",
            "454/454 [==============================] - 1s 3ms/step - loss: 0.4627 - accuracy: 0.7940 - val_loss: 0.5029 - val_accuracy: 0.8004\n",
            "Epoch 71/600\n",
            "454/454 [==============================] - 1s 3ms/step - loss: 0.4656 - accuracy: 0.7925 - val_loss: 0.5376 - val_accuracy: 0.7829\n",
            "Epoch 72/600\n",
            "454/454 [==============================] - 1s 3ms/step - loss: 0.4598 - accuracy: 0.7996 - val_loss: 0.4970 - val_accuracy: 0.8017\n",
            "Epoch 73/600\n",
            "454/454 [==============================] - 1s 3ms/step - loss: 0.4562 - accuracy: 0.7987 - val_loss: 0.5341 - val_accuracy: 0.7715\n",
            "Epoch 74/600\n",
            "454/454 [==============================] - 2s 3ms/step - loss: 0.4585 - accuracy: 0.7980 - val_loss: 0.5272 - val_accuracy: 0.7762\n",
            "Epoch 75/600\n",
            "454/454 [==============================] - 1s 3ms/step - loss: 0.4593 - accuracy: 0.7921 - val_loss: 0.5032 - val_accuracy: 0.7930\n",
            "Epoch 76/600\n",
            "454/454 [==============================] - 1s 3ms/step - loss: 0.4552 - accuracy: 0.7969 - val_loss: 0.5224 - val_accuracy: 0.7742\n",
            "Epoch 77/600\n",
            "454/454 [==============================] - 1s 3ms/step - loss: 0.4558 - accuracy: 0.7977 - val_loss: 0.4958 - val_accuracy: 0.7910\n",
            "Epoch 78/600\n",
            "454/454 [==============================] - 1s 3ms/step - loss: 0.4533 - accuracy: 0.7999 - val_loss: 0.4959 - val_accuracy: 0.7917\n",
            "Epoch 79/600\n",
            "454/454 [==============================] - 2s 5ms/step - loss: 0.4533 - accuracy: 0.7980 - val_loss: 0.5245 - val_accuracy: 0.7903\n",
            "Epoch 80/600\n",
            "454/454 [==============================] - 1s 3ms/step - loss: 0.4567 - accuracy: 0.7990 - val_loss: 0.5116 - val_accuracy: 0.7849\n",
            "Epoch 81/600\n",
            "454/454 [==============================] - 2s 3ms/step - loss: 0.4561 - accuracy: 0.7977 - val_loss: 0.5066 - val_accuracy: 0.7930\n",
            "Epoch 82/600\n",
            "454/454 [==============================] - 1s 3ms/step - loss: 0.4572 - accuracy: 0.7968 - val_loss: 0.5382 - val_accuracy: 0.7769\n",
            "Epoch 83/600\n",
            "454/454 [==============================] - 1s 3ms/step - loss: 0.4528 - accuracy: 0.7996 - val_loss: 0.5248 - val_accuracy: 0.7843\n",
            "Epoch 84/600\n",
            "454/454 [==============================] - 1s 3ms/step - loss: 0.4493 - accuracy: 0.8031 - val_loss: 0.5075 - val_accuracy: 0.7856\n",
            "Epoch 85/600\n",
            "454/454 [==============================] - 1s 3ms/step - loss: 0.4570 - accuracy: 0.7977 - val_loss: 0.5316 - val_accuracy: 0.7708\n",
            "Epoch 86/600\n",
            "454/454 [==============================] - 1s 3ms/step - loss: 0.4475 - accuracy: 0.8018 - val_loss: 0.4996 - val_accuracy: 0.7984\n",
            "Epoch 87/600\n",
            "454/454 [==============================] - 1s 3ms/step - loss: 0.4500 - accuracy: 0.7981 - val_loss: 0.5188 - val_accuracy: 0.7897\n",
            "Epoch 88/600\n",
            "454/454 [==============================] - 2s 3ms/step - loss: 0.4499 - accuracy: 0.8016 - val_loss: 0.5589 - val_accuracy: 0.7641\n",
            "Epoch 89/600\n",
            "454/454 [==============================] - 2s 5ms/step - loss: 0.4502 - accuracy: 0.8014 - val_loss: 0.5013 - val_accuracy: 0.7903\n",
            "Epoch 90/600\n",
            "454/454 [==============================] - 1s 3ms/step - loss: 0.4517 - accuracy: 0.7999 - val_loss: 0.4966 - val_accuracy: 0.7917\n",
            "Epoch 91/600\n",
            "454/454 [==============================] - 1s 3ms/step - loss: 0.4492 - accuracy: 0.7992 - val_loss: 0.4964 - val_accuracy: 0.7876\n",
            "Epoch 92/600\n",
            "454/454 [==============================] - 1s 3ms/step - loss: 0.4477 - accuracy: 0.8009 - val_loss: 0.5314 - val_accuracy: 0.7802\n",
            "Epoch 93/600\n",
            "454/454 [==============================] - 1s 3ms/step - loss: 0.4513 - accuracy: 0.8031 - val_loss: 0.5030 - val_accuracy: 0.7984\n",
            "Epoch 94/600\n",
            "454/454 [==============================] - 1s 3ms/step - loss: 0.4550 - accuracy: 0.7922 - val_loss: 0.5030 - val_accuracy: 0.7903\n",
            "Epoch 95/600\n",
            "454/454 [==============================] - 1s 3ms/step - loss: 0.4465 - accuracy: 0.8036 - val_loss: 0.5299 - val_accuracy: 0.7809\n",
            "Epoch 96/600\n",
            "454/454 [==============================] - 1s 3ms/step - loss: 0.4493 - accuracy: 0.8052 - val_loss: 0.4984 - val_accuracy: 0.7977\n",
            "Epoch 97/600\n",
            "454/454 [==============================] - 1s 3ms/step - loss: 0.4466 - accuracy: 0.7976 - val_loss: 0.5160 - val_accuracy: 0.7802\n"
          ]
        },
        {
          "output_type": "execute_result",
          "data": {
            "text/plain": [
              "[<matplotlib.lines.Line2D at 0x7ff6eed4ce50>]"
            ]
          },
          "metadata": {},
          "execution_count": 7
        },
        {
          "output_type": "display_data",
          "data": {
            "text/plain": [
              "<Figure size 432x288 with 1 Axes>"
            ],
            "image/png": "[encoded data removed]"
          },
          "metadata": {
            "needs_background": "light"
          }
        }
      ]
    },
    {
      "cell_type": "code",
      "source": [
        "from keras.metrics import accuracy\n",
        "#test_size = X_test.shape[0]\n",
        "pred = classifier.predict(X_test)\n",
        "#print(pred)\n",
        "pred_ = np.argmax(pred, axis = 1)\n",
        "#print(pred_)\n",
        "pred_ = l_encode.inverse_transform(pred_)\n",
        "\n",
        "true_y = l_encode.inverse_transform(np.argmax(to_categorical(y_test), axis = 1)[:,1])\n",
        "\n",
        "\n",
        "#for i,j in zip(pred_, true_y):\n",
        "#    print(\"Predicted: {}, True: {}\".format(i, j))\n",
        "\n",
        "cnt = 0\n",
        "cnt_correct = 0\n",
        "\n",
        "for i in range(len(pred_)):\n",
        "  cnt += 1\n",
        "  if(pred_[i] == true_y[i]):\n",
        "    cnt_correct += 1\n",
        "  \n",
        "print(f'accuracy: {(cnt_correct/cnt)*100:.2f}%')"
      ],
      "metadata": {
        "colab": {
          "base_uri": "https://localhost:8080/"
        },
        "id": "-WKM6CPTczGd",
        "outputId": "324f8939-4fd6-4f13-bf05-604ea6c54081"
      },
      "execution_count": 8,
      "outputs": [
        {
          "output_type": "stream",
          "name": "stdout",
          "text": [
            "accuracy: 79.10%\n"
          ]
        }
      ]
    },
    {
      "cell_type": "code",
      "source": [
        "from sklearn.metrics import confusion_matrix, ConfusionMatrixDisplay\n",
        "#for i in range(len(pred_)):\n",
        "#  print(true_y[i])\n",
        "#print(confusion_matrix(true_y, pred_, labels=[0, 1, 2, 3]))\n",
        "cm = confusion_matrix(true_y, pred_, labels=[0, 1, 2, 3])\n",
        "cmd = ConfusionMatrixDisplay(cm, display_labels=['easy','moderate', 'hard', 'very hard'])\n",
        "#plt.subplot(1, 2, 1)\n",
        "cmd.plot()\n",
        "print(f'accuracy: {(cnt_correct/cnt)*100:.2f}%')"
      ],
      "metadata": {
        "colab": {
          "base_uri": "https://localhost:8080/",
          "height": 296
        },
        "id": "td3mlxlNxXqF",
        "outputId": "4e4744b6-b5cf-4360-a34a-940c1a808459"
      },
      "execution_count": 9,
      "outputs": [
        {
          "output_type": "stream",
          "name": "stdout",
          "text": [
            "accuracy: 79.10%\n"
          ]
        },
        {
          "output_type": "display_data",
          "data": {
            "text/plain": [
              "<Figure size 432x288 with 2 Axes>"
            ],
            "image/png": "[encoded data removed]"
          },
          "metadata": {
            "needs_background": "light"
          }
        }
      ]
    },
    {
      "cell_type": "code",
      "source": [
        "y_new = np.array(y_new)\n",
        "plt.hist(y_new)\n",
        "#plt.title('0->[0,2000) : 1->[2000,99999]')\n",
        "plt.show()"
      ],
      "metadata": {
        "id": "a_uXCro7BbBx",
        "outputId": "0063db96-b071-41a0-bc22-47d7907ae796",
        "colab": {
          "base_uri": "https://localhost:8080/",
          "height": 265
        }
      },
      "execution_count": 10,
      "outputs": [
        {
          "output_type": "display_data",
          "data": {
            "text/plain": [
              "<Figure size 432x288 with 1 Axes>"
            ],
            "image/png": "[encoded data removed]"
          },
          "metadata": {
            "needs_background": "light"
          }
        }
      ]
    },
    {
      "cell_type": "code",
      "source": [
        "import matplotlib.pyplot as plt \n",
        "from sklearn.preprocessing import LabelBinarizer\n",
        "from sklearn.metrics import roc_curve, auc, roc_auc_score\n",
        "\n",
        "\n",
        "target= ['easy', 'moderate', 'hard', 'very hard']\n",
        "\n",
        "fig, c_ax = plt.subplots(1,1, figsize = (12, 8))\n",
        "\n",
        "def multiclass_roc_auc_score(y_test, y_pred, average=\"macro\"):\n",
        "    lb = LabelBinarizer()\n",
        "    lb.fit(y_test)\n",
        "    y_test = lb.transform(y_test)\n",
        "    y_pred = lb.transform(y_pred)\n",
        "\n",
        "    for (idx, c_label) in enumerate(target):\n",
        "        fpr, tpr, thresholds = roc_curve(y_test[:,idx].astype(int), y_pred[:,idx])\n",
        "        c_ax.plot(fpr, tpr, label = '%s (AUC:%0.2f)'  % (c_label, auc(fpr, tpr)))\n",
        "    c_ax.plot(fpr, fpr, 'b-', label = 'Random Guessing')\n",
        "    return roc_auc_score(y_test, y_pred, average=average)\n",
        "\n",
        "\n",
        "print('ROC AUC score:', multiclass_roc_auc_score(true_y, pred_))\n",
        "\n",
        "c_ax.legend()\n",
        "c_ax.set_xlabel('False Positive Rate')\n",
        "c_ax.set_ylabel('True Positive Rate')\n",
        "plt.grid()\n",
        "plt.show()"
      ],
      "metadata": {
        "id": "ilN2NeRZ-wOR",
        "outputId": "c3f05ef1-6f3e-4afd-ff15-139f631768a7",
        "colab": {
          "base_uri": "https://localhost:8080/",
          "height": 514
        }
      },
      "execution_count": 11,
      "outputs": [
        {
          "output_type": "stream",
          "name": "stdout",
          "text": [
            "ROC AUC score: 0.8558575426551313\n"
          ]
        },
        {
          "output_type": "display_data",
          "data": {
            "text/plain": [
              "<Figure size 864x576 with 1 Axes>"
            ],
            "image/png": "[encoded data removed]"
          },
          "metadata": {
            "needs_background": "light"
          }
        }
      ]
    }
  ]
}