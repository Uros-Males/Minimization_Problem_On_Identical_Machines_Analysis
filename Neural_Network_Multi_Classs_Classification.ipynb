{
  "nbformat": 4,
  "nbformat_minor": 0,
  "metadata": {
    "colab": {
      "name": "Neural_Network_Classification.ipynb",
      "provenance": [],
      "authorship_tag": "ABX9TyMcHx/j2BRCeAiq3oIqP/7O",
      "include_colab_link": true
    },
    "kernelspec": {
      "name": "python3",
      "display_name": "Python 3"
    },
    "language_info": {
      "name": "python"
    }
  },
  "cells": [
    {
      "cell_type": "markdown",
      "metadata": {
        "id": "view-in-github",
        "colab_type": "text"
      },
      "source": [
        "<a href=\"https://colab.research.google.com/github/Uros-Males/Minimization_Problem_On_Identical_Machines_Analysis/blob/main/Neural_Network_Multi_Classs_Classification.ipynb\" target=\"_parent\"><img src=\"https://colab.research.google.com/assets/colab-badge.svg\" alt=\"Open In Colab\"/></a>"
      ]
    },
    {
      "cell_type": "code",
      "execution_count": 1,
      "metadata": {
        "colab": {
          "base_uri": "https://localhost:8080/"
        },
        "id": "6u-X4QiVmgm4",
        "outputId": "a873e33a-e91d-49f8-dc8d-413829af9147"
      },
      "outputs": [
        {
          "output_type": "stream",
          "name": "stdout",
          "text": [
            "8750\n",
            "   subtype  class  indeks    n   m    n/m   (n/m)^2      (n/m)^3       m/n  \\\n",
            "0       14      6       5  154  14  11.00  121.0000  1331.000000  0.090909   \n",
            "1        2      7       1  180  80   2.25    5.0625    11.390625  0.444444   \n",
            "2       12      1       4   18   2   9.00   81.0000   729.000000  0.111111   \n",
            "3       12      2       1  144  16   9.00   81.0000   729.000000  0.111111   \n",
            "4       11      1       2   36   6   6.00   36.0000   216.000000  0.166667   \n",
            "\n",
            "    (m/n)^2   (m/n)^3   av.length     std.dev  median  range  min   max    k  \n",
            "0  0.008264  0.000751  382.525970  124.042793   376.0    456  154   610  127  \n",
            "1  0.197531  0.087792  722.922241  179.622742   708.5    867  314  1181  159  \n",
            "2  0.012346  0.001372   44.833332   24.770121    43.0     85    6    91   17  \n",
            "3  0.012346  0.001372   60.944443   23.889540    60.0     80   20   100   62  \n",
            "4  0.027778  0.004630   57.055557   33.466354    59.0     98    1    99   32  \n"
          ]
        }
      ],
      "source": [
        "#IN PROGRESS....\n",
        "import pandas as pd\n",
        "import numpy as np\n",
        "import matplotlib.pyplot as plt\n",
        "from sklearn import tree\n",
        "from sklearn.model_selection import train_test_split\n",
        "from sklearn.tree import DecisionTreeRegressor\n",
        "import time\n",
        "import keras\n",
        "\n",
        "df = pd.read_csv('/content/sample_data/C-instances-runtime-analysis.csv')\n",
        "print(df.shape[0])\n",
        "#df = df.drop(['inst.name', 'type', 'CPLEXStatus'], axis = 1)\n",
        "#standard_deviations = 3\n",
        "#df = df[df.apply(lambda x: np.abs(x - x.mean()) / x.std() < standard_deviations)\n",
        "#   .all(axis=1)]\n",
        "\n",
        "#print(df.shape[0])\n",
        "\n",
        "#names = ['indeks', 'n', 'n/m', '(n/m)^2', '(n/m)^3', 'm/n', '(m/n)^2',\n",
        "   #      '(m/n)^3', 'av.length', 'std.dev', 'median', 'range', 'min', 'max', 'k']\n",
        "#for i in range(df.shape[0]):\n",
        " # if(df.iloc[i]['n/m'] == 2 and df.iloc[i]['y']==99999):\n",
        "  #  for j in range(len(names)):\n",
        "   #   print(names[j]+\"->\"+str(df.iloc[i][names[j]]))\n",
        "    #print(\"------------------------------------------------------------------\")\n",
        "\n",
        "\n",
        "shuffled = df.sample(frac=1).reset_index()\n",
        "\n",
        "columns_dont_want = ['y', 'index', 'inst.name','type', 'CPLEXStatus'] #cple\n",
        "select = [x for x in shuffled.columns if x not in columns_dont_want]\n",
        "\n",
        "X = shuffled.loc[:, select]\n",
        "\n",
        "y = shuffled.loc[:,'y']\n",
        "print(X.head())\n",
        "names = ['indeks', 'n', 'n/m', '(n/m)^2', '(n/m)^3', 'm/n', 'av.length', 'std.dev', 'median', 'range', 'min', 'max', 'k']\n",
        "#print(names[1])\n",
        "\n",
        "\n"
      ]
    },
    {
      "cell_type": "code",
      "source": [
        "y_new = []\n",
        "for val in y:\n",
        "  if(val<10):\n",
        "    y_new.append(0)\n",
        "  elif(10 <= val and val <100):\n",
        "    y_new.append(1)\n",
        "  elif(100<=val and val<1000):\n",
        "    y_new.append(2)\n",
        "  else:\n",
        "    y_new.append(3)\n",
        "\n",
        "shuffled['y_new'] = y_new\n",
        "#print(shuffled.head())\n",
        "y_encoded = shuffled.loc[:,'y_new']\n",
        "y_new = np.array(y_new)\n",
        "plt.hist(y_new)\n",
        "plt.show()\n",
        "X_modified = X\n",
        "#X_modified = X.drop(['n/m', '(n/m)^2', '(n/m)^3', 'm/n', '(m/n)^2', '(m/n)^3', 'max', 'av.length'], axis = 1)\n",
        "#print(X_modified.shape[1])"
      ],
      "metadata": {
        "id": "XkPXcbO0riCC",
        "colab": {
          "base_uri": "https://localhost:8080/",
          "height": 265
        },
        "outputId": "19514336-ea52-46f3-fd3a-39eed88918f3"
      },
      "execution_count": 2,
      "outputs": [
        {
          "output_type": "display_data",
          "data": {
            "text/plain": [
              "<Figure size 432x288 with 1 Axes>"
            ],
            "image/png": "[encoded data removed]"
          },
          "metadata": {
            "needs_background": "light"
          }
        }
      ]
    },
    {
      "cell_type": "code",
      "source": [
        "from sklearn.preprocessing import LabelEncoder\n",
        "from keras.utils.np_utils import to_categorical\n",
        "\n",
        "l_encode = LabelEncoder()\n",
        "l_encode.fit(y_encoded)\n",
        "y_encoded = l_encode.transform(y_encoded)\n",
        "y_encoded = to_categorical(y_encoded)\n",
        "y_encoded"
      ],
      "metadata": {
        "colab": {
          "base_uri": "https://localhost:8080/"
        },
        "id": "W2hvUxxE2NWr",
        "outputId": "572df6bb-ce02-434f-edfb-13ce2081c715"
      },
      "execution_count": 3,
      "outputs": [
        {
          "output_type": "execute_result",
          "data": {
            "text/plain": [
              "array([[0., 0., 0., 1.],\n",
              "       [0., 0., 1., 0.],\n",
              "       [1., 0., 0., 0.],\n",
              "       ...,\n",
              "       [0., 0., 0., 1.],\n",
              "       [0., 1., 0., 0.],\n",
              "       [0., 1., 0., 0.]], dtype=float32)"
            ]
          },
          "metadata": {},
          "execution_count": 3
        }
      ]
    },
    {
      "cell_type": "code",
      "source": [
        "from sklearn import preprocessing\n",
        "\n",
        "from sklearn.preprocessing import StandardScaler\n",
        "\n",
        "sc = StandardScaler()\n",
        "\n",
        "#X = pd.DataFrame(X, columns=names)\n",
        "#print(X.head())\n",
        "\n",
        "from sklearn.decomposition import PCA\n",
        "\n",
        "#,'PC2','PC3','PC4','PC5','PC6','PC7','PC8\n",
        "#pca = PCA(n_components=9)\n",
        "#pca.fit(X)\n",
        "#X = pca.transform(X)\n",
        "#X = pd.DataFrame(X,columns=['PC1','PC2','PC3','PC4','PC5','PC6','PC7','PC8','PC9'])\n",
        "X_modified = X.drop(['class', 'm', 'subtype', '(m/n)^3', '(m/n)^2'], axis = 1)\n",
        "\n",
        "\n",
        "#from scipy import stats\n",
        "#df[(np.abs(stats.zscore(df)) < 3).all(axis=1)]\n",
        "\n",
        "X_train, X_test, y_train, y_test = train_test_split(X_modified, y_encoded, random_state=0, train_size = 0.83)\n",
        "\n",
        "X_train = sc.fit_transform(X_train)\n",
        "X_test_copy = X_test\n",
        "X_test = sc.transform(X_test)\n"
      ],
      "metadata": {
        "id": "kx4jr-6Qaxpv"
      },
      "execution_count": 4,
      "outputs": []
    },
    {
      "cell_type": "code",
      "source": [
        "from keras.models import Sequential\n",
        "from keras.layers import Dense, Dropout\n",
        "\n",
        "classifier = Sequential()\n",
        "classifier.add(Dense(8, input_dim = X_modified.shape[1], activation='relu'))\n",
        "#classifier.add(Dense(8, activation = 'relu'))\n",
        "\n",
        "classifier.add(Dense(16, activation = 'relu'))\n",
        "\n",
        "#classifier.add(Dense(32, activation = 'relu'))\n",
        "#classifier.add(Dense(32, activation = 'relu'))\n",
        "#classifier.add(Dense(16, activation = 'relu'))\n",
        "\n",
        "classifier.add(Dense(32, activation='relu'))\n",
        "\n",
        "classifier.add(Dense(64, activation='relu'))\n",
        "\n",
        "classifier.add(Dense(16, activation='relu'))\n",
        "\n",
        "classifier.add(Dense(4, activation = 'softmax'))\n",
        "classifier.compile(loss = 'categorical_crossentropy', optimizer = 'adam', metrics = ['accuracy'])\n",
        "classifier.summary()"
      ],
      "metadata": {
        "id": "jRT-grzys8_y",
        "colab": {
          "base_uri": "https://localhost:8080/"
        },
        "outputId": "004de7d2-fdcb-4a6a-a744-f57622b555e6"
      },
      "execution_count": 5,
      "outputs": [
        {
          "output_type": "stream",
          "name": "stdout",
          "text": [
            "Model: \"sequential\"\n",
            "_________________________________________________________________\n",
            " Layer (type)                Output Shape              Param #   \n",
            "=================================================================\n",
            " dense (Dense)               (None, 8)                 112       \n",
            "                                                                 \n",
            " dense_1 (Dense)             (None, 16)                144       \n",
            "                                                                 \n",
            " dense_2 (Dense)             (None, 32)                544       \n",
            "                                                                 \n",
            " dense_3 (Dense)             (None, 64)                2112      \n",
            "                                                                 \n",
            " dense_4 (Dense)             (None, 16)                1040      \n",
            "                                                                 \n",
            " dense_5 (Dense)             (None, 4)                 68        \n",
            "                                                                 \n",
            "=================================================================\n",
            "Total params: 4,020\n",
            "Trainable params: 4,020\n",
            "Non-trainable params: 0\n",
            "_________________________________________________________________\n"
          ]
        }
      ]
    },
    {
      "cell_type": "code",
      "source": [
        "#classifier.fit(X_train, y_train, batch_size = 64, epochs = 20, verbose = 1)\n",
        "#scores = classifier.evaluate(X_test, y_test)\n",
        "#for i, m in enumerate(classifier.metrics_names):\n",
        "#    print(\"\\n%s: %.3f\"% (m, scores[i]))\n",
        "#print(X_test_copy.iloc[0]['subtype'])"
      ],
      "metadata": {
        "id": "Mm7RsTBcx2EN"
      },
      "execution_count": 6,
      "outputs": []
    },
    {
      "cell_type": "code",
      "source": [
        "from keras.metrics import accuracy\n",
        "from keras import callbacks\n",
        "earlystopping = callbacks.EarlyStopping(monitor =\"val_loss\", \n",
        "                                        mode =\"min\", patience = 30, \n",
        "                                        restore_best_weights = True)\n",
        "  \n",
        "history = classifier.fit(X_train, y_train, batch_size = 128, \n",
        "                    epochs = 600, validation_data =(X_test, y_test), \n",
        "                    callbacks =[earlystopping])\n",
        "plt.plot(history.history['val_accuracy'])\n",
        "\n"
      ],
      "metadata": {
        "colab": {
          "base_uri": "https://localhost:8080/",
          "height": 1000
        },
        "id": "Sv9aKFPW5KGr",
        "outputId": "f31e14fb-98df-4519-d4cf-9bb513f40615"
      },
      "execution_count": 7,
      "outputs": [
        {
          "output_type": "stream",
          "name": "stdout",
          "text": [
            "Epoch 1/600\n",
            "57/57 [==============================] - 1s 12ms/step - loss: 1.2231 - accuracy: 0.5008 - val_loss: 1.0107 - val_accuracy: 0.5477\n",
            "Epoch 2/600\n",
            "57/57 [==============================] - 0s 6ms/step - loss: 0.8321 - accuracy: 0.6432 - val_loss: 0.6678 - val_accuracy: 0.7258\n",
            "Epoch 3/600\n",
            "57/57 [==============================] - 0s 6ms/step - loss: 0.6252 - accuracy: 0.7380 - val_loss: 0.5789 - val_accuracy: 0.7520\n",
            "Epoch 4/600\n",
            "57/57 [==============================] - 0s 7ms/step - loss: 0.5736 - accuracy: 0.7592 - val_loss: 0.5363 - val_accuracy: 0.7661\n",
            "Epoch 5/600\n",
            "57/57 [==============================] - 0s 7ms/step - loss: 0.5428 - accuracy: 0.7717 - val_loss: 0.5217 - val_accuracy: 0.7722\n",
            "Epoch 6/600\n",
            "57/57 [==============================] - 0s 6ms/step - loss: 0.5222 - accuracy: 0.7728 - val_loss: 0.5077 - val_accuracy: 0.7708\n",
            "Epoch 7/600\n",
            "57/57 [==============================] - 0s 6ms/step - loss: 0.5085 - accuracy: 0.7798 - val_loss: 0.4929 - val_accuracy: 0.7836\n",
            "Epoch 8/600\n",
            "57/57 [==============================] - 0s 8ms/step - loss: 0.4985 - accuracy: 0.7855 - val_loss: 0.5225 - val_accuracy: 0.7715\n",
            "Epoch 9/600\n",
            "57/57 [==============================] - 0s 6ms/step - loss: 0.4965 - accuracy: 0.7804 - val_loss: 0.4846 - val_accuracy: 0.7796\n",
            "Epoch 10/600\n",
            "57/57 [==============================] - 0s 6ms/step - loss: 0.4823 - accuracy: 0.7921 - val_loss: 0.4765 - val_accuracy: 0.7876\n",
            "Epoch 11/600\n",
            "57/57 [==============================] - 1s 9ms/step - loss: 0.4791 - accuracy: 0.7917 - val_loss: 0.4828 - val_accuracy: 0.7903\n",
            "Epoch 12/600\n",
            "57/57 [==============================] - 0s 6ms/step - loss: 0.4737 - accuracy: 0.7911 - val_loss: 0.4716 - val_accuracy: 0.7863\n",
            "Epoch 13/600\n",
            "57/57 [==============================] - 0s 7ms/step - loss: 0.4729 - accuracy: 0.7917 - val_loss: 0.4760 - val_accuracy: 0.7883\n",
            "Epoch 14/600\n",
            "57/57 [==============================] - 0s 7ms/step - loss: 0.4652 - accuracy: 0.7952 - val_loss: 0.4731 - val_accuracy: 0.7870\n",
            "Epoch 15/600\n",
            "57/57 [==============================] - 0s 5ms/step - loss: 0.4645 - accuracy: 0.7963 - val_loss: 0.4674 - val_accuracy: 0.8004\n",
            "Epoch 16/600\n",
            "57/57 [==============================] - 0s 6ms/step - loss: 0.4591 - accuracy: 0.8016 - val_loss: 0.4520 - val_accuracy: 0.7957\n",
            "Epoch 17/600\n",
            "57/57 [==============================] - 0s 6ms/step - loss: 0.4562 - accuracy: 0.8016 - val_loss: 0.4513 - val_accuracy: 0.7970\n",
            "Epoch 18/600\n",
            "57/57 [==============================] - 0s 6ms/step - loss: 0.4512 - accuracy: 0.8042 - val_loss: 0.4515 - val_accuracy: 0.7937\n",
            "Epoch 19/600\n",
            "57/57 [==============================] - 0s 7ms/step - loss: 0.4471 - accuracy: 0.8057 - val_loss: 0.4520 - val_accuracy: 0.8017\n",
            "Epoch 20/600\n",
            "57/57 [==============================] - 0s 6ms/step - loss: 0.4447 - accuracy: 0.8056 - val_loss: 0.4464 - val_accuracy: 0.8024\n",
            "Epoch 21/600\n",
            "57/57 [==============================] - 0s 7ms/step - loss: 0.4418 - accuracy: 0.8076 - val_loss: 0.4492 - val_accuracy: 0.7944\n",
            "Epoch 22/600\n",
            "57/57 [==============================] - 0s 6ms/step - loss: 0.4392 - accuracy: 0.8060 - val_loss: 0.4545 - val_accuracy: 0.8017\n",
            "Epoch 23/600\n",
            "57/57 [==============================] - 0s 7ms/step - loss: 0.4372 - accuracy: 0.8080 - val_loss: 0.4419 - val_accuracy: 0.8031\n",
            "Epoch 24/600\n",
            "57/57 [==============================] - 0s 7ms/step - loss: 0.4364 - accuracy: 0.8109 - val_loss: 0.4324 - val_accuracy: 0.8071\n",
            "Epoch 25/600\n",
            "57/57 [==============================] - 0s 7ms/step - loss: 0.4328 - accuracy: 0.8100 - val_loss: 0.4464 - val_accuracy: 0.8071\n",
            "Epoch 26/600\n",
            "57/57 [==============================] - 0s 6ms/step - loss: 0.4322 - accuracy: 0.8147 - val_loss: 0.4390 - val_accuracy: 0.8125\n",
            "Epoch 27/600\n",
            "57/57 [==============================] - 0s 6ms/step - loss: 0.4276 - accuracy: 0.8140 - val_loss: 0.4310 - val_accuracy: 0.8125\n",
            "Epoch 28/600\n",
            "57/57 [==============================] - 0s 7ms/step - loss: 0.4270 - accuracy: 0.8158 - val_loss: 0.4328 - val_accuracy: 0.8132\n",
            "Epoch 29/600\n",
            "57/57 [==============================] - 0s 6ms/step - loss: 0.4241 - accuracy: 0.8159 - val_loss: 0.4294 - val_accuracy: 0.8165\n",
            "Epoch 30/600\n",
            "57/57 [==============================] - 0s 8ms/step - loss: 0.4222 - accuracy: 0.8193 - val_loss: 0.4318 - val_accuracy: 0.8159\n",
            "Epoch 31/600\n",
            "57/57 [==============================] - 0s 7ms/step - loss: 0.4245 - accuracy: 0.8151 - val_loss: 0.4333 - val_accuracy: 0.8172\n",
            "Epoch 32/600\n",
            "57/57 [==============================] - 0s 7ms/step - loss: 0.4204 - accuracy: 0.8202 - val_loss: 0.4328 - val_accuracy: 0.8125\n",
            "Epoch 33/600\n",
            "57/57 [==============================] - 0s 6ms/step - loss: 0.4237 - accuracy: 0.8145 - val_loss: 0.4427 - val_accuracy: 0.8132\n",
            "Epoch 34/600\n",
            "57/57 [==============================] - 0s 6ms/step - loss: 0.4222 - accuracy: 0.8155 - val_loss: 0.4223 - val_accuracy: 0.8125\n",
            "Epoch 35/600\n",
            "57/57 [==============================] - 0s 6ms/step - loss: 0.4170 - accuracy: 0.8196 - val_loss: 0.4313 - val_accuracy: 0.8185\n",
            "Epoch 36/600\n",
            "57/57 [==============================] - 0s 6ms/step - loss: 0.4135 - accuracy: 0.8191 - val_loss: 0.4419 - val_accuracy: 0.8152\n",
            "Epoch 37/600\n",
            "57/57 [==============================] - 0s 8ms/step - loss: 0.4200 - accuracy: 0.8178 - val_loss: 0.4266 - val_accuracy: 0.8165\n",
            "Epoch 38/600\n",
            "57/57 [==============================] - 0s 7ms/step - loss: 0.4167 - accuracy: 0.8186 - val_loss: 0.4188 - val_accuracy: 0.8105\n",
            "Epoch 39/600\n",
            "57/57 [==============================] - 0s 7ms/step - loss: 0.4137 - accuracy: 0.8211 - val_loss: 0.4225 - val_accuracy: 0.8105\n",
            "Epoch 40/600\n",
            "57/57 [==============================] - 0s 7ms/step - loss: 0.4130 - accuracy: 0.8189 - val_loss: 0.4170 - val_accuracy: 0.8219\n",
            "Epoch 41/600\n",
            "57/57 [==============================] - 0s 5ms/step - loss: 0.4089 - accuracy: 0.8218 - val_loss: 0.4220 - val_accuracy: 0.8185\n",
            "Epoch 42/600\n",
            "57/57 [==============================] - 0s 6ms/step - loss: 0.4098 - accuracy: 0.8229 - val_loss: 0.4192 - val_accuracy: 0.8239\n",
            "Epoch 43/600\n",
            "57/57 [==============================] - 0s 7ms/step - loss: 0.4064 - accuracy: 0.8222 - val_loss: 0.4155 - val_accuracy: 0.8199\n",
            "Epoch 44/600\n",
            "57/57 [==============================] - 0s 6ms/step - loss: 0.4079 - accuracy: 0.8225 - val_loss: 0.4142 - val_accuracy: 0.8239\n",
            "Epoch 45/600\n",
            "57/57 [==============================] - 0s 6ms/step - loss: 0.4086 - accuracy: 0.8197 - val_loss: 0.4233 - val_accuracy: 0.8159\n",
            "Epoch 46/600\n",
            "57/57 [==============================] - 0s 7ms/step - loss: 0.4054 - accuracy: 0.8228 - val_loss: 0.4154 - val_accuracy: 0.8246\n",
            "Epoch 47/600\n",
            "57/57 [==============================] - 0s 8ms/step - loss: 0.4030 - accuracy: 0.8233 - val_loss: 0.4126 - val_accuracy: 0.8199\n",
            "Epoch 48/600\n",
            "57/57 [==============================] - 0s 7ms/step - loss: 0.4043 - accuracy: 0.8224 - val_loss: 0.4183 - val_accuracy: 0.8206\n",
            "Epoch 49/600\n",
            "57/57 [==============================] - 0s 7ms/step - loss: 0.4006 - accuracy: 0.8232 - val_loss: 0.4434 - val_accuracy: 0.8078\n",
            "Epoch 50/600\n",
            "57/57 [==============================] - 0s 6ms/step - loss: 0.4061 - accuracy: 0.8215 - val_loss: 0.4349 - val_accuracy: 0.8125\n",
            "Epoch 51/600\n",
            "57/57 [==============================] - 0s 7ms/step - loss: 0.4014 - accuracy: 0.8237 - val_loss: 0.4148 - val_accuracy: 0.8226\n",
            "Epoch 52/600\n",
            "57/57 [==============================] - 0s 8ms/step - loss: 0.4047 - accuracy: 0.8236 - val_loss: 0.4108 - val_accuracy: 0.8280\n",
            "Epoch 53/600\n",
            "57/57 [==============================] - 0s 6ms/step - loss: 0.4009 - accuracy: 0.8215 - val_loss: 0.4090 - val_accuracy: 0.8246\n",
            "Epoch 54/600\n",
            "57/57 [==============================] - 0s 7ms/step - loss: 0.3973 - accuracy: 0.8262 - val_loss: 0.4212 - val_accuracy: 0.8159\n",
            "Epoch 55/600\n",
            "57/57 [==============================] - 0s 6ms/step - loss: 0.4006 - accuracy: 0.8255 - val_loss: 0.4193 - val_accuracy: 0.8259\n",
            "Epoch 56/600\n",
            "57/57 [==============================] - 0s 6ms/step - loss: 0.3980 - accuracy: 0.8251 - val_loss: 0.4246 - val_accuracy: 0.8152\n",
            "Epoch 57/600\n",
            "57/57 [==============================] - 0s 5ms/step - loss: 0.3957 - accuracy: 0.8254 - val_loss: 0.4122 - val_accuracy: 0.8226\n",
            "Epoch 58/600\n",
            "57/57 [==============================] - 0s 6ms/step - loss: 0.3953 - accuracy: 0.8244 - val_loss: 0.4104 - val_accuracy: 0.8212\n",
            "Epoch 59/600\n",
            "57/57 [==============================] - 0s 7ms/step - loss: 0.3966 - accuracy: 0.8265 - val_loss: 0.4017 - val_accuracy: 0.8280\n",
            "Epoch 60/600\n",
            "57/57 [==============================] - 0s 6ms/step - loss: 0.3924 - accuracy: 0.8257 - val_loss: 0.4117 - val_accuracy: 0.8199\n",
            "Epoch 61/600\n",
            "57/57 [==============================] - 0s 6ms/step - loss: 0.3947 - accuracy: 0.8264 - val_loss: 0.4083 - val_accuracy: 0.8212\n",
            "Epoch 62/600\n",
            "57/57 [==============================] - 0s 7ms/step - loss: 0.4021 - accuracy: 0.8237 - val_loss: 0.4186 - val_accuracy: 0.8125\n",
            "Epoch 63/600\n",
            "57/57 [==============================] - 0s 8ms/step - loss: 0.3944 - accuracy: 0.8264 - val_loss: 0.4054 - val_accuracy: 0.8226\n",
            "Epoch 64/600\n",
            "57/57 [==============================] - 0s 8ms/step - loss: 0.3923 - accuracy: 0.8281 - val_loss: 0.4140 - val_accuracy: 0.8172\n",
            "Epoch 65/600\n",
            "57/57 [==============================] - 1s 10ms/step - loss: 0.3949 - accuracy: 0.8275 - val_loss: 0.4121 - val_accuracy: 0.8239\n",
            "Epoch 66/600\n",
            "57/57 [==============================] - 0s 8ms/step - loss: 0.3904 - accuracy: 0.8253 - val_loss: 0.4127 - val_accuracy: 0.8185\n",
            "Epoch 67/600\n",
            "57/57 [==============================] - 0s 7ms/step - loss: 0.3888 - accuracy: 0.8291 - val_loss: 0.4033 - val_accuracy: 0.8273\n",
            "Epoch 68/600\n",
            "57/57 [==============================] - 0s 7ms/step - loss: 0.3886 - accuracy: 0.8302 - val_loss: 0.4243 - val_accuracy: 0.8172\n",
            "Epoch 69/600\n",
            "57/57 [==============================] - 0s 6ms/step - loss: 0.3917 - accuracy: 0.8280 - val_loss: 0.4126 - val_accuracy: 0.8273\n",
            "Epoch 70/600\n",
            "57/57 [==============================] - 0s 3ms/step - loss: 0.3897 - accuracy: 0.8292 - val_loss: 0.4029 - val_accuracy: 0.8266\n",
            "Epoch 71/600\n",
            "57/57 [==============================] - 0s 3ms/step - loss: 0.3858 - accuracy: 0.8276 - val_loss: 0.4030 - val_accuracy: 0.8226\n",
            "Epoch 72/600\n",
            "57/57 [==============================] - 0s 3ms/step - loss: 0.3883 - accuracy: 0.8279 - val_loss: 0.3989 - val_accuracy: 0.8306\n",
            "Epoch 73/600\n",
            "57/57 [==============================] - 0s 3ms/step - loss: 0.3855 - accuracy: 0.8292 - val_loss: 0.3977 - val_accuracy: 0.8233\n",
            "Epoch 74/600\n",
            "57/57 [==============================] - 0s 3ms/step - loss: 0.3875 - accuracy: 0.8269 - val_loss: 0.4047 - val_accuracy: 0.8185\n",
            "Epoch 75/600\n",
            "57/57 [==============================] - 0s 3ms/step - loss: 0.3883 - accuracy: 0.8308 - val_loss: 0.4011 - val_accuracy: 0.8199\n",
            "Epoch 76/600\n",
            "57/57 [==============================] - 0s 3ms/step - loss: 0.3859 - accuracy: 0.8251 - val_loss: 0.3976 - val_accuracy: 0.8239\n",
            "Epoch 77/600\n",
            "57/57 [==============================] - 0s 3ms/step - loss: 0.3860 - accuracy: 0.8290 - val_loss: 0.4019 - val_accuracy: 0.8273\n",
            "Epoch 78/600\n",
            "57/57 [==============================] - 0s 3ms/step - loss: 0.3870 - accuracy: 0.8312 - val_loss: 0.4020 - val_accuracy: 0.8253\n",
            "Epoch 79/600\n",
            "57/57 [==============================] - 0s 3ms/step - loss: 0.3844 - accuracy: 0.8287 - val_loss: 0.3996 - val_accuracy: 0.8313\n",
            "Epoch 80/600\n",
            "57/57 [==============================] - 0s 3ms/step - loss: 0.3840 - accuracy: 0.8302 - val_loss: 0.4048 - val_accuracy: 0.8266\n",
            "Epoch 81/600\n",
            "57/57 [==============================] - 0s 3ms/step - loss: 0.3844 - accuracy: 0.8316 - val_loss: 0.4041 - val_accuracy: 0.8259\n",
            "Epoch 82/600\n",
            "57/57 [==============================] - 0s 3ms/step - loss: 0.3845 - accuracy: 0.8305 - val_loss: 0.3976 - val_accuracy: 0.8293\n",
            "Epoch 83/600\n",
            "57/57 [==============================] - 0s 3ms/step - loss: 0.3818 - accuracy: 0.8315 - val_loss: 0.3944 - val_accuracy: 0.8239\n",
            "Epoch 84/600\n",
            "57/57 [==============================] - 0s 3ms/step - loss: 0.3833 - accuracy: 0.8327 - val_loss: 0.4035 - val_accuracy: 0.8206\n",
            "Epoch 85/600\n",
            "57/57 [==============================] - 0s 3ms/step - loss: 0.3835 - accuracy: 0.8262 - val_loss: 0.3988 - val_accuracy: 0.8179\n",
            "Epoch 86/600\n",
            "57/57 [==============================] - 0s 3ms/step - loss: 0.3824 - accuracy: 0.8335 - val_loss: 0.4092 - val_accuracy: 0.8145\n",
            "Epoch 87/600\n",
            "57/57 [==============================] - 0s 3ms/step - loss: 0.3815 - accuracy: 0.8305 - val_loss: 0.3979 - val_accuracy: 0.8300\n",
            "Epoch 88/600\n",
            "57/57 [==============================] - 0s 3ms/step - loss: 0.3787 - accuracy: 0.8299 - val_loss: 0.4015 - val_accuracy: 0.8185\n",
            "Epoch 89/600\n",
            "57/57 [==============================] - 0s 3ms/step - loss: 0.3822 - accuracy: 0.8297 - val_loss: 0.3920 - val_accuracy: 0.8293\n",
            "Epoch 90/600\n",
            "57/57 [==============================] - 0s 3ms/step - loss: 0.3780 - accuracy: 0.8321 - val_loss: 0.3883 - val_accuracy: 0.8266\n",
            "Epoch 91/600\n",
            "57/57 [==============================] - 0s 3ms/step - loss: 0.3769 - accuracy: 0.8327 - val_loss: 0.3916 - val_accuracy: 0.8266\n",
            "Epoch 92/600\n",
            "57/57 [==============================] - 0s 3ms/step - loss: 0.3819 - accuracy: 0.8309 - val_loss: 0.4091 - val_accuracy: 0.8185\n",
            "Epoch 93/600\n",
            "57/57 [==============================] - 0s 3ms/step - loss: 0.3776 - accuracy: 0.8320 - val_loss: 0.3935 - val_accuracy: 0.8300\n",
            "Epoch 94/600\n",
            "57/57 [==============================] - 0s 3ms/step - loss: 0.3772 - accuracy: 0.8316 - val_loss: 0.3901 - val_accuracy: 0.8273\n",
            "Epoch 95/600\n",
            "57/57 [==============================] - 0s 3ms/step - loss: 0.3745 - accuracy: 0.8334 - val_loss: 0.3894 - val_accuracy: 0.8313\n",
            "Epoch 96/600\n",
            "57/57 [==============================] - 0s 3ms/step - loss: 0.3799 - accuracy: 0.8321 - val_loss: 0.3939 - val_accuracy: 0.8340\n",
            "Epoch 97/600\n",
            "57/57 [==============================] - 0s 3ms/step - loss: 0.3766 - accuracy: 0.8334 - val_loss: 0.3956 - val_accuracy: 0.8327\n",
            "Epoch 98/600\n",
            "57/57 [==============================] - 0s 3ms/step - loss: 0.3770 - accuracy: 0.8332 - val_loss: 0.3884 - val_accuracy: 0.8273\n",
            "Epoch 99/600\n",
            "57/57 [==============================] - 0s 3ms/step - loss: 0.3732 - accuracy: 0.8364 - val_loss: 0.3884 - val_accuracy: 0.8273\n",
            "Epoch 100/600\n",
            "57/57 [==============================] - 0s 4ms/step - loss: 0.3809 - accuracy: 0.8298 - val_loss: 0.3927 - val_accuracy: 0.8206\n",
            "Epoch 101/600\n",
            "57/57 [==============================] - 0s 3ms/step - loss: 0.3774 - accuracy: 0.8308 - val_loss: 0.3904 - val_accuracy: 0.8306\n",
            "Epoch 102/600\n",
            "57/57 [==============================] - 0s 3ms/step - loss: 0.3754 - accuracy: 0.8334 - val_loss: 0.3872 - val_accuracy: 0.8306\n",
            "Epoch 103/600\n",
            "57/57 [==============================] - 0s 3ms/step - loss: 0.3753 - accuracy: 0.8335 - val_loss: 0.3921 - val_accuracy: 0.8253\n",
            "Epoch 104/600\n",
            "57/57 [==============================] - 0s 3ms/step - loss: 0.3730 - accuracy: 0.8342 - val_loss: 0.3910 - val_accuracy: 0.8246\n",
            "Epoch 105/600\n",
            "57/57 [==============================] - 0s 3ms/step - loss: 0.3763 - accuracy: 0.8349 - val_loss: 0.3895 - val_accuracy: 0.8353\n",
            "Epoch 106/600\n",
            "57/57 [==============================] - 0s 3ms/step - loss: 0.3743 - accuracy: 0.8328 - val_loss: 0.3872 - val_accuracy: 0.8333\n",
            "Epoch 107/600\n",
            "57/57 [==============================] - 0s 3ms/step - loss: 0.3744 - accuracy: 0.8323 - val_loss: 0.3969 - val_accuracy: 0.8286\n",
            "Epoch 108/600\n",
            "57/57 [==============================] - 0s 3ms/step - loss: 0.3741 - accuracy: 0.8302 - val_loss: 0.4003 - val_accuracy: 0.8266\n",
            "Epoch 109/600\n",
            "57/57 [==============================] - 0s 3ms/step - loss: 0.3693 - accuracy: 0.8343 - val_loss: 0.4007 - val_accuracy: 0.8266\n",
            "Epoch 110/600\n",
            "57/57 [==============================] - 0s 3ms/step - loss: 0.3717 - accuracy: 0.8354 - val_loss: 0.3863 - val_accuracy: 0.8333\n",
            "Epoch 111/600\n",
            "57/57 [==============================] - 0s 3ms/step - loss: 0.3724 - accuracy: 0.8332 - val_loss: 0.3922 - val_accuracy: 0.8313\n",
            "Epoch 112/600\n",
            "57/57 [==============================] - 0s 3ms/step - loss: 0.3710 - accuracy: 0.8338 - val_loss: 0.3864 - val_accuracy: 0.8333\n",
            "Epoch 113/600\n",
            "57/57 [==============================] - 0s 3ms/step - loss: 0.3708 - accuracy: 0.8324 - val_loss: 0.3886 - val_accuracy: 0.8300\n",
            "Epoch 114/600\n",
            "57/57 [==============================] - 0s 3ms/step - loss: 0.3703 - accuracy: 0.8326 - val_loss: 0.3931 - val_accuracy: 0.8306\n",
            "Epoch 115/600\n",
            "57/57 [==============================] - 0s 3ms/step - loss: 0.3702 - accuracy: 0.8334 - val_loss: 0.3967 - val_accuracy: 0.8239\n",
            "Epoch 116/600\n",
            "57/57 [==============================] - 0s 3ms/step - loss: 0.3694 - accuracy: 0.8353 - val_loss: 0.3900 - val_accuracy: 0.8306\n",
            "Epoch 117/600\n",
            "57/57 [==============================] - 0s 4ms/step - loss: 0.3694 - accuracy: 0.8346 - val_loss: 0.4054 - val_accuracy: 0.8246\n",
            "Epoch 118/600\n",
            "57/57 [==============================] - 0s 3ms/step - loss: 0.3729 - accuracy: 0.8313 - val_loss: 0.3876 - val_accuracy: 0.8286\n",
            "Epoch 119/600\n",
            "57/57 [==============================] - 0s 3ms/step - loss: 0.3672 - accuracy: 0.8349 - val_loss: 0.3872 - val_accuracy: 0.8293\n",
            "Epoch 120/600\n",
            "57/57 [==============================] - 0s 3ms/step - loss: 0.3718 - accuracy: 0.8297 - val_loss: 0.4101 - val_accuracy: 0.8239\n",
            "Epoch 121/600\n",
            "57/57 [==============================] - 0s 3ms/step - loss: 0.3706 - accuracy: 0.8338 - val_loss: 0.3850 - val_accuracy: 0.8313\n",
            "Epoch 122/600\n",
            "57/57 [==============================] - 0s 3ms/step - loss: 0.3667 - accuracy: 0.8353 - val_loss: 0.3982 - val_accuracy: 0.8340\n",
            "Epoch 123/600\n",
            "57/57 [==============================] - 0s 3ms/step - loss: 0.3718 - accuracy: 0.8328 - val_loss: 0.3847 - val_accuracy: 0.8300\n",
            "Epoch 124/600\n",
            "57/57 [==============================] - 0s 3ms/step - loss: 0.3668 - accuracy: 0.8353 - val_loss: 0.3972 - val_accuracy: 0.8280\n",
            "Epoch 125/600\n",
            "57/57 [==============================] - 0s 3ms/step - loss: 0.3692 - accuracy: 0.8339 - val_loss: 0.3837 - val_accuracy: 0.8280\n",
            "Epoch 126/600\n",
            "57/57 [==============================] - 0s 3ms/step - loss: 0.3648 - accuracy: 0.8354 - val_loss: 0.3906 - val_accuracy: 0.8280\n",
            "Epoch 127/600\n",
            "57/57 [==============================] - 0s 3ms/step - loss: 0.3654 - accuracy: 0.8364 - val_loss: 0.3960 - val_accuracy: 0.8219\n",
            "Epoch 128/600\n",
            "57/57 [==============================] - 0s 3ms/step - loss: 0.3662 - accuracy: 0.8324 - val_loss: 0.3864 - val_accuracy: 0.8286\n",
            "Epoch 129/600\n",
            "57/57 [==============================] - 0s 3ms/step - loss: 0.3644 - accuracy: 0.8357 - val_loss: 0.3967 - val_accuracy: 0.8253\n",
            "Epoch 130/600\n",
            "57/57 [==============================] - 0s 3ms/step - loss: 0.3689 - accuracy: 0.8342 - val_loss: 0.3992 - val_accuracy: 0.8280\n",
            "Epoch 131/600\n",
            "57/57 [==============================] - 0s 3ms/step - loss: 0.3646 - accuracy: 0.8363 - val_loss: 0.3854 - val_accuracy: 0.8320\n",
            "Epoch 132/600\n",
            "57/57 [==============================] - 0s 3ms/step - loss: 0.3649 - accuracy: 0.8359 - val_loss: 0.3939 - val_accuracy: 0.8233\n",
            "Epoch 133/600\n",
            "57/57 [==============================] - 0s 3ms/step - loss: 0.3653 - accuracy: 0.8348 - val_loss: 0.3844 - val_accuracy: 0.8340\n",
            "Epoch 134/600\n",
            "57/57 [==============================] - 0s 3ms/step - loss: 0.3703 - accuracy: 0.8363 - val_loss: 0.3872 - val_accuracy: 0.8320\n",
            "Epoch 135/600\n",
            "57/57 [==============================] - 0s 3ms/step - loss: 0.3667 - accuracy: 0.8342 - val_loss: 0.3911 - val_accuracy: 0.8273\n",
            "Epoch 136/600\n",
            "57/57 [==============================] - 0s 3ms/step - loss: 0.3664 - accuracy: 0.8360 - val_loss: 0.3865 - val_accuracy: 0.8313\n",
            "Epoch 137/600\n",
            "57/57 [==============================] - 0s 3ms/step - loss: 0.3657 - accuracy: 0.8357 - val_loss: 0.3858 - val_accuracy: 0.8233\n",
            "Epoch 138/600\n",
            "57/57 [==============================] - 0s 3ms/step - loss: 0.3643 - accuracy: 0.8372 - val_loss: 0.3876 - val_accuracy: 0.8259\n",
            "Epoch 139/600\n",
            "57/57 [==============================] - 0s 3ms/step - loss: 0.3637 - accuracy: 0.8356 - val_loss: 0.3881 - val_accuracy: 0.8293\n",
            "Epoch 140/600\n",
            "57/57 [==============================] - 0s 3ms/step - loss: 0.3628 - accuracy: 0.8339 - val_loss: 0.3877 - val_accuracy: 0.8313\n",
            "Epoch 141/600\n",
            "57/57 [==============================] - 0s 3ms/step - loss: 0.3652 - accuracy: 0.8346 - val_loss: 0.3794 - val_accuracy: 0.8320\n",
            "Epoch 142/600\n",
            "57/57 [==============================] - 0s 3ms/step - loss: 0.3646 - accuracy: 0.8372 - val_loss: 0.3906 - val_accuracy: 0.8293\n",
            "Epoch 143/600\n",
            "57/57 [==============================] - 0s 4ms/step - loss: 0.3604 - accuracy: 0.8374 - val_loss: 0.3879 - val_accuracy: 0.8313\n",
            "Epoch 144/600\n",
            "57/57 [==============================] - 0s 3ms/step - loss: 0.3635 - accuracy: 0.8357 - val_loss: 0.3949 - val_accuracy: 0.8266\n",
            "Epoch 145/600\n",
            "57/57 [==============================] - 0s 3ms/step - loss: 0.3654 - accuracy: 0.8341 - val_loss: 0.3829 - val_accuracy: 0.8273\n",
            "Epoch 146/600\n",
            "57/57 [==============================] - 0s 3ms/step - loss: 0.3634 - accuracy: 0.8364 - val_loss: 0.3858 - val_accuracy: 0.8246\n",
            "Epoch 147/600\n",
            "57/57 [==============================] - 0s 3ms/step - loss: 0.3631 - accuracy: 0.8385 - val_loss: 0.3866 - val_accuracy: 0.8300\n",
            "Epoch 148/600\n",
            "57/57 [==============================] - 0s 3ms/step - loss: 0.3610 - accuracy: 0.8357 - val_loss: 0.3817 - val_accuracy: 0.8320\n",
            "Epoch 149/600\n",
            "57/57 [==============================] - 0s 3ms/step - loss: 0.3657 - accuracy: 0.8349 - val_loss: 0.3832 - val_accuracy: 0.8306\n",
            "Epoch 150/600\n",
            "57/57 [==============================] - 0s 3ms/step - loss: 0.3614 - accuracy: 0.8364 - val_loss: 0.3856 - val_accuracy: 0.8306\n",
            "Epoch 151/600\n",
            "57/57 [==============================] - 0s 3ms/step - loss: 0.3612 - accuracy: 0.8363 - val_loss: 0.3846 - val_accuracy: 0.8340\n",
            "Epoch 152/600\n",
            "57/57 [==============================] - 0s 3ms/step - loss: 0.3618 - accuracy: 0.8376 - val_loss: 0.3867 - val_accuracy: 0.8300\n",
            "Epoch 153/600\n",
            "57/57 [==============================] - 0s 3ms/step - loss: 0.3629 - accuracy: 0.8378 - val_loss: 0.3843 - val_accuracy: 0.8273\n",
            "Epoch 154/600\n",
            "57/57 [==============================] - 0s 3ms/step - loss: 0.3596 - accuracy: 0.8353 - val_loss: 0.3897 - val_accuracy: 0.8306\n",
            "Epoch 155/600\n",
            "57/57 [==============================] - 0s 3ms/step - loss: 0.3612 - accuracy: 0.8383 - val_loss: 0.3848 - val_accuracy: 0.8313\n",
            "Epoch 156/600\n",
            "57/57 [==============================] - 0s 3ms/step - loss: 0.3608 - accuracy: 0.8349 - val_loss: 0.3822 - val_accuracy: 0.8273\n",
            "Epoch 157/600\n",
            "57/57 [==============================] - 0s 3ms/step - loss: 0.3636 - accuracy: 0.8328 - val_loss: 0.3879 - val_accuracy: 0.8313\n",
            "Epoch 158/600\n",
            "57/57 [==============================] - 0s 3ms/step - loss: 0.3603 - accuracy: 0.8393 - val_loss: 0.3904 - val_accuracy: 0.8280\n",
            "Epoch 159/600\n",
            "57/57 [==============================] - 0s 3ms/step - loss: 0.3618 - accuracy: 0.8401 - val_loss: 0.3867 - val_accuracy: 0.8273\n",
            "Epoch 160/600\n",
            "57/57 [==============================] - 0s 3ms/step - loss: 0.3625 - accuracy: 0.8330 - val_loss: 0.3819 - val_accuracy: 0.8259\n",
            "Epoch 161/600\n",
            "57/57 [==============================] - 0s 3ms/step - loss: 0.3593 - accuracy: 0.8376 - val_loss: 0.3869 - val_accuracy: 0.8293\n",
            "Epoch 162/600\n",
            "57/57 [==============================] - 0s 3ms/step - loss: 0.3633 - accuracy: 0.8367 - val_loss: 0.3895 - val_accuracy: 0.8239\n",
            "Epoch 163/600\n",
            "57/57 [==============================] - 0s 3ms/step - loss: 0.3613 - accuracy: 0.8365 - val_loss: 0.3843 - val_accuracy: 0.8280\n",
            "Epoch 164/600\n",
            "57/57 [==============================] - 0s 3ms/step - loss: 0.3589 - accuracy: 0.8376 - val_loss: 0.3968 - val_accuracy: 0.8199\n",
            "Epoch 165/600\n",
            "57/57 [==============================] - 0s 3ms/step - loss: 0.3605 - accuracy: 0.8371 - val_loss: 0.3834 - val_accuracy: 0.8367\n",
            "Epoch 166/600\n",
            "57/57 [==============================] - 0s 4ms/step - loss: 0.3578 - accuracy: 0.8360 - val_loss: 0.3899 - val_accuracy: 0.8313\n",
            "Epoch 167/600\n",
            "57/57 [==============================] - 0s 3ms/step - loss: 0.3576 - accuracy: 0.8370 - val_loss: 0.3823 - val_accuracy: 0.8273\n",
            "Epoch 168/600\n",
            "57/57 [==============================] - 0s 3ms/step - loss: 0.3647 - accuracy: 0.8368 - val_loss: 0.3809 - val_accuracy: 0.8239\n",
            "Epoch 169/600\n",
            "57/57 [==============================] - 0s 3ms/step - loss: 0.3622 - accuracy: 0.8383 - val_loss: 0.3860 - val_accuracy: 0.8286\n",
            "Epoch 170/600\n",
            "57/57 [==============================] - 0s 4ms/step - loss: 0.3570 - accuracy: 0.8376 - val_loss: 0.3850 - val_accuracy: 0.8286\n",
            "Epoch 171/600\n",
            "57/57 [==============================] - 0s 3ms/step - loss: 0.3606 - accuracy: 0.8374 - val_loss: 0.3936 - val_accuracy: 0.8333\n"
          ]
        },
        {
          "output_type": "execute_result",
          "data": {
            "text/plain": [
              "[<matplotlib.lines.Line2D at 0x7fc02c5bea90>]"
            ]
          },
          "metadata": {},
          "execution_count": 7
        },
        {
          "output_type": "display_data",
          "data": {
            "text/plain": [
              "<Figure size 432x288 with 1 Axes>"
            ],
            "image/png": "[encoded data removed]"
          },
          "metadata": {
            "needs_background": "light"
          }
        }
      ]
    },
    {
      "cell_type": "code",
      "source": [
        "from keras.metrics import accuracy\n",
        "#test_size = X_test.shape[0]\n",
        "pred = classifier.predict(X_test)\n",
        "#print(pred)\n",
        "pred_ = np.argmax(pred, axis = 1)\n",
        "#print(pred_)\n",
        "pred_ = l_encode.inverse_transform(pred_)\n",
        "\n",
        "true_y = l_encode.inverse_transform(np.argmax(to_categorical(y_test), axis = 1)[:,1])\n",
        "\n",
        "\n",
        "#for i,j in zip(pred_, true_y):\n",
        "#    print(\"Predicted: {}, True: {}\".format(i, j))\n",
        "\n",
        "cnt = 0\n",
        "cnt_correct = 0\n",
        "\n",
        "for i in range(len(pred_)):\n",
        "  cnt += 1\n",
        "  if(pred_[i] == true_y[i]):\n",
        "    cnt_correct += 1\n",
        "  if(pred_[i] == 0 and true_y[i] == 3):\n",
        "    for j in range(len(names)):\n",
        "      print(names[j]+\"->\"+str(X_test_copy.iloc[i][names[j]]))\n",
        "    print(\"------------------------------------------------------------------\")\n",
        "  \n",
        "print(f'accuracy: {(cnt_correct/cnt)*100:.2f}%')"
      ],
      "metadata": {
        "colab": {
          "base_uri": "https://localhost:8080/"
        },
        "id": "-WKM6CPTczGd",
        "outputId": "b7c3277f-f63c-4505-9ed5-86d6f422c59f"
      },
      "execution_count": 8,
      "outputs": [
        {
          "output_type": "stream",
          "name": "stdout",
          "text": [
            "indeks->8.0\n",
            "n->140.0\n",
            "n/m->2.0\n",
            "(n/m)^2->4.0\n",
            "(n/m)^3->8.0\n",
            "m/n->0.5\n",
            "av.length->547.578552\n",
            "std.dev->137.977631\n",
            "median->530.0\n",
            "range->681.0\n",
            "min->236.0\n",
            "max->917.0\n",
            "k->121.0\n",
            "------------------------------------------------------------------\n",
            "indeks->1.0\n",
            "n->80.0\n",
            "n/m->2.0\n",
            "(n/m)^2->4.0\n",
            "(n/m)^3->8.0\n",
            "m/n->0.5\n",
            "av.length->106.9375\n",
            "std.dev->48.509495\n",
            "median->105.5\n",
            "range->252.0\n",
            "min->16.0\n",
            "max->268.0\n",
            "k->66.0\n",
            "------------------------------------------------------------------\n",
            "indeks->9.0\n",
            "n->162.0\n",
            "n/m->2.25\n",
            "(n/m)^2->5.0625\n",
            "(n/m)^3->11.390625\n",
            "m/n->0.444444\n",
            "av.length->96.0\n",
            "std.dev->46.045078\n",
            "median->98.0\n",
            "range->266.0\n",
            "min->5.0\n",
            "max->271.0\n",
            "k->110.0\n",
            "------------------------------------------------------------------\n",
            "accuracy: 83.20%\n"
          ]
        }
      ]
    },
    {
      "cell_type": "code",
      "source": [
        "from sklearn.metrics import confusion_matrix, ConfusionMatrixDisplay\n",
        "#for i in range(len(pred_)):\n",
        "#  print(true_y[i])\n",
        "#print(confusion_matrix(true_y, pred_, labels=[0, 1, 2, 3]))\n",
        "cm = confusion_matrix(true_y, pred_, labels=[0, 1, 2, 3])\n",
        "cmd = ConfusionMatrixDisplay(cm, display_labels=['easy','moderate', 'hard', 'very hard'])\n",
        "#plt.subplot(1, 2, 1)\n",
        "cmd.plot()\n",
        "print(f'accuracy: {(cnt_correct/cnt)*100:.2f}%')"
      ],
      "metadata": {
        "colab": {
          "base_uri": "https://localhost:8080/",
          "height": 296
        },
        "id": "td3mlxlNxXqF",
        "outputId": "1f1b7261-7f6a-419b-de64-60beee921916"
      },
      "execution_count": 9,
      "outputs": [
        {
          "output_type": "stream",
          "name": "stdout",
          "text": [
            "accuracy: 83.20%\n"
          ]
        },
        {
          "output_type": "display_data",
          "data": {
            "text/plain": [
              "<Figure size 432x288 with 2 Axes>"
            ],
            "image/png": "[encoded data removed]"
          },
          "metadata": {
            "needs_background": "light"
          }
        }
      ]
    },
    {
      "cell_type": "code",
      "source": [
        "y_new = np.array(y_new)\n",
        "plt.hist(y_new)\n",
        "#plt.title('0->[0,2000) : 1->[2000,99999]')\n",
        "plt.show()"
      ],
      "metadata": {
        "id": "a_uXCro7BbBx",
        "outputId": "8bbd414c-33c0-46e4-9f69-48c02a6d5a51",
        "colab": {
          "base_uri": "https://localhost:8080/",
          "height": 265
        }
      },
      "execution_count": 10,
      "outputs": [
        {
          "output_type": "display_data",
          "data": {
            "text/plain": [
              "<Figure size 432x288 with 1 Axes>"
            ],
            "image/png": "[encoded data removed]"
          },
          "metadata": {
            "needs_background": "light"
          }
        }
      ]
    },
    {
      "cell_type": "code",
      "source": [
        "import matplotlib.pyplot as plt \n",
        "from sklearn.preprocessing import LabelBinarizer\n",
        "from sklearn.metrics import roc_curve, auc, roc_auc_score\n",
        "\n",
        "\n",
        "target= ['easy', 'moderate', 'hard', 'very hard']\n",
        "\n",
        "fig, c_ax = plt.subplots(1,1, figsize = (12, 8))\n",
        "\n",
        "def multiclass_roc_auc_score(y_test, y_pred, average=\"macro\"):\n",
        "    lb = LabelBinarizer()\n",
        "    lb.fit(y_test)\n",
        "    y_test = lb.transform(y_test)\n",
        "    y_pred = lb.transform(y_pred)\n",
        "\n",
        "    for (idx, c_label) in enumerate(target):\n",
        "        fpr, tpr, thresholds = roc_curve(y_test[:,idx].astype(int), y_pred[:,idx])\n",
        "        c_ax.plot(fpr, tpr, label = '%s (AUC:%0.2f)'  % (c_label, auc(fpr, tpr)))\n",
        "    c_ax.plot(fpr, fpr, 'b-', label = 'Random Guessing')\n",
        "    return roc_auc_score(y_test, y_pred, average=average)\n",
        "\n",
        "\n",
        "print('ROC AUC score:', multiclass_roc_auc_score(true_y, pred_))\n",
        "\n",
        "c_ax.legend()\n",
        "c_ax.set_xlabel('False Positive Rate')\n",
        "c_ax.set_ylabel('True Positive Rate')\n",
        "plt.grid()\n",
        "plt.show()"
      ],
      "metadata": {
        "id": "ilN2NeRZ-wOR",
        "outputId": "513a2857-f74c-4a11-b7fd-cc4bc0095b25",
        "colab": {
          "base_uri": "https://localhost:8080/",
          "height": 514
        }
      },
      "execution_count": 11,
      "outputs": [
        {
          "output_type": "stream",
          "name": "stdout",
          "text": [
            "ROC AUC score: 0.8812796134741654\n"
          ]
        },
        {
          "output_type": "display_data",
          "data": {
            "text/plain": [
              "<Figure size 864x576 with 1 Axes>"
            ],
            "image/png": "[encoded data removed]"
          },
          "metadata": {
            "needs_background": "light"
          }
        }
      ]
    }
  ]
}