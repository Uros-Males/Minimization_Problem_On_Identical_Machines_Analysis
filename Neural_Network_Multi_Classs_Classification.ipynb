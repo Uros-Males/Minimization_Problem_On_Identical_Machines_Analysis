{
  "nbformat": 4,
  "nbformat_minor": 0,
  "metadata": {
    "colab": {
      "name": "Neural_Network_Classification.ipynb",
      "provenance": [],
      "authorship_tag": "ABX9TyPsBzZl/bMMIWQzmRGwCIxq",
      "include_colab_link": true
    },
    "kernelspec": {
      "name": "python3",
      "display_name": "Python 3"
    },
    "language_info": {
      "name": "python"
    }
  },
  "cells": [
    {
      "cell_type": "markdown",
      "metadata": {
        "id": "view-in-github",
        "colab_type": "text"
      },
      "source": [
        "<a href=\"https://colab.research.google.com/github/Uros-Males/Minimization_Problem_On_Identical_Machines_Analysis/blob/main/Neural_Network_Multi_Classs_Classification.ipynb\" target=\"_parent\"><img src=\"https://colab.research.google.com/assets/colab-badge.svg\" alt=\"Open In Colab\"/></a>"
      ]
    },
    {
      "cell_type": "code",
      "execution_count": 1,
      "metadata": {
        "colab": {
          "base_uri": "https://localhost:8080/"
        },
        "id": "6u-X4QiVmgm4",
        "outputId": "f0ccf745-9020-40ce-d73e-3877e4c2b0e5"
      },
      "outputs": [
        {
          "output_type": "stream",
          "name": "stdout",
          "text": [
            "8750\n",
            "   subtype  class  indeks    n   m    n/m   (n/m)^2      (n/m)^3       m/n  \\\n",
            "0       10      1       6   20   4   5.00   25.0000   125.000000  0.200000   \n",
            "1        2      4       5   54  24   2.25    5.0625    11.390625  0.444444   \n",
            "2       13      2       2  120  12  10.00  100.0000  1000.000000  0.100000   \n",
            "3       11      7       6   36   6   6.00   36.0000   216.000000  0.166667   \n",
            "4       11      1       8   54   9   6.00   36.0000   216.000000  0.166667   \n",
            "\n",
            "    (m/n)^2   (m/n)^3   av.length    std.dev  median  range  min  max   k  \n",
            "0  0.040000  0.008000   48.049999  29.297882    52.5     93    5   98  18  \n",
            "1  0.197531  0.087791   99.407410  19.328850   102.0     90   54  144  34  \n",
            "2  0.010000  0.001000   62.508335  21.840906    64.0     79   21  100  66  \n",
            "3  0.027778  0.004630  138.055557  34.602184   137.0    139   53  192  31  \n",
            "4  0.027778  0.004630   50.481480  31.006231    56.5     98    1   99  39  \n"
          ]
        }
      ],
      "source": [
        "#IN PROGRESS....\n",
        "import pandas as pd\n",
        "import numpy as np\n",
        "import matplotlib.pyplot as plt\n",
        "from sklearn import tree\n",
        "from sklearn.model_selection import train_test_split\n",
        "from sklearn.tree import DecisionTreeRegressor\n",
        "import time\n",
        "import keras\n",
        "\n",
        "df = pd.read_csv('/content/sample_data/C-instances-runtime-analysis.csv')\n",
        "print(df.shape[0])\n",
        "\n",
        "shuffled = df.sample(frac=1).reset_index()\n",
        "\n",
        "columns_dont_want = ['y', 'index', 'inst.name','type', 'CPLEXStatus'] #cple\n",
        "select = [x for x in shuffled.columns if x not in columns_dont_want]\n",
        "\n",
        "X = shuffled.loc[:, select]\n",
        "\n",
        "y = shuffled.loc[:,'y']\n",
        "print(X.head())\n",
        "names = ['subtype', 'class', 'indeks', 'n', 'm', 'n/m', '(n/m)^2', '(n/m)^3', 'm/n', '(m/n)^2',\n",
        "         '(m/n)^3', 'av.length', 'std.dev', 'median', 'range', 'min', 'max', 'k']\n",
        "#print(names[1])\n",
        "\n",
        "\n"
      ]
    },
    {
      "cell_type": "code",
      "source": [
        "y_new = []\n",
        "for val in y:\n",
        "  if(val<10):\n",
        "    y_new.append(0)\n",
        "  elif(10 <= val and val <100):\n",
        "    y_new.append(1)\n",
        "  elif(100<=val and val<1000):\n",
        "    y_new.append(2)\n",
        "  else:\n",
        "    y_new.append(3)\n",
        "\n",
        "shuffled['y_new'] = y_new\n",
        "#print(shuffled.head())\n",
        "y_encoded = shuffled.loc[:,'y_new']\n",
        "y_new = np.array(y_new)\n",
        "plt.hist(y_new)\n",
        "plt.show()\n",
        "X_modified = X\n",
        "#X_modified = X.drop(['n/m', '(n/m)^2', '(n/m)^3', 'm/n', '(m/n)^2', '(m/n)^3', 'max', 'av.length'], axis = 1)\n",
        "#print(X_modified.shape[1])"
      ],
      "metadata": {
        "id": "XkPXcbO0riCC",
        "colab": {
          "base_uri": "https://localhost:8080/",
          "height": 265
        },
        "outputId": "8ae872c1-17a4-4044-d4af-034f8daed403"
      },
      "execution_count": 2,
      "outputs": [
        {
          "output_type": "display_data",
          "data": {
            "text/plain": [
              "<Figure size 432x288 with 1 Axes>"
            ],
            "image/png": "[encoded data removed]"
          },
          "metadata": {
            "needs_background": "light"
          }
        }
      ]
    },
    {
      "cell_type": "code",
      "source": [
        "from sklearn.preprocessing import LabelEncoder\n",
        "from keras.utils.np_utils import to_categorical\n",
        "\n",
        "l_encode = LabelEncoder()\n",
        "l_encode.fit(y_encoded)\n",
        "y_encoded = l_encode.transform(y_encoded)\n",
        "y_encoded = to_categorical(y_encoded)\n",
        "y_encoded"
      ],
      "metadata": {
        "colab": {
          "base_uri": "https://localhost:8080/"
        },
        "id": "W2hvUxxE2NWr",
        "outputId": "a9e08bb5-abe5-4ab2-f500-4c98762499b2"
      },
      "execution_count": 3,
      "outputs": [
        {
          "output_type": "execute_result",
          "data": {
            "text/plain": [
              "array([[1., 0., 0., 0.],\n",
              "       [1., 0., 0., 0.],\n",
              "       [0., 0., 1., 0.],\n",
              "       ...,\n",
              "       [0., 0., 0., 1.],\n",
              "       [0., 0., 0., 1.],\n",
              "       [0., 1., 0., 0.]], dtype=float32)"
            ]
          },
          "metadata": {},
          "execution_count": 3
        }
      ]
    },
    {
      "cell_type": "code",
      "source": [
        "from sklearn import preprocessing\n",
        "\n",
        "from sklearn.preprocessing import StandardScaler\n",
        "\n",
        "sc = StandardScaler()\n",
        "\n",
        "#X = pd.DataFrame(X, columns=names)\n",
        "#print(X.head())\n",
        "\n",
        "from sklearn.decomposition import PCA\n",
        "\n",
        "#,'PC2','PC3','PC4','PC5','PC6','PC7','PC8\n",
        "#pca = PCA(n_components=9)\n",
        "#pca.fit(X)\n",
        "#X = pca.transform(X)\n",
        "#X = pd.DataFrame(X,columns=['PC1','PC2','PC3','PC4','PC5','PC6','PC7','PC8','PC9'])\n",
        "X_modified = X.drop(['class', 'm', 'subtype'], axis = 1)\n",
        "\n",
        "X_train, X_test, y_train, y_test = train_test_split(X_modified, y_encoded, random_state=0, train_size = 0.83)\n",
        "\n",
        "X_train = sc.fit_transform(X_train)\n",
        "X_test = sc.transform(X_test)\n"
      ],
      "metadata": {
        "id": "kx4jr-6Qaxpv"
      },
      "execution_count": 4,
      "outputs": []
    },
    {
      "cell_type": "code",
      "source": [
        "from keras.models import Sequential\n",
        "from keras.layers import Dense, Dropout\n",
        "\n",
        "classifier = Sequential()\n",
        "classifier.add(Dense(8, input_dim = X_modified.shape[1], activation='relu'))\n",
        "#classifier.add(Dense(8, activation = 'relu'))\n",
        "\n",
        "classifier.add(Dense(16, activation = 'relu'))\n",
        "\n",
        "#classifier.add(Dense(32, activation = 'relu'))\n",
        "#classifier.add(Dense(32, activation = 'relu'))\n",
        "#classifier.add(Dense(16, activation = 'relu'))\n",
        "\n",
        "classifier.add(Dense(32, activation='relu'))\n",
        "\n",
        "classifier.add(Dense(64, activation='relu'))\n",
        "\n",
        "classifier.add(Dense(16, activation='relu'))\n",
        "\n",
        "classifier.add(Dense(4, activation = 'softmax'))\n",
        "classifier.compile(loss = 'categorical_crossentropy', optimizer = 'adam', metrics = ['accuracy'])\n",
        "classifier.summary()"
      ],
      "metadata": {
        "id": "jRT-grzys8_y",
        "colab": {
          "base_uri": "https://localhost:8080/"
        },
        "outputId": "9b27303d-26e7-431e-cbd8-48fc10a9628d"
      },
      "execution_count": 5,
      "outputs": [
        {
          "output_type": "stream",
          "name": "stdout",
          "text": [
            "Model: \"sequential\"\n",
            "_________________________________________________________________\n",
            " Layer (type)                Output Shape              Param #   \n",
            "=================================================================\n",
            " dense (Dense)               (None, 8)                 128       \n",
            "                                                                 \n",
            " dense_1 (Dense)             (None, 16)                144       \n",
            "                                                                 \n",
            " dense_2 (Dense)             (None, 32)                544       \n",
            "                                                                 \n",
            " dense_3 (Dense)             (None, 64)                2112      \n",
            "                                                                 \n",
            " dense_4 (Dense)             (None, 16)                1040      \n",
            "                                                                 \n",
            " dense_5 (Dense)             (None, 4)                 68        \n",
            "                                                                 \n",
            "=================================================================\n",
            "Total params: 4,036\n",
            "Trainable params: 4,036\n",
            "Non-trainable params: 0\n",
            "_________________________________________________________________\n"
          ]
        }
      ]
    },
    {
      "cell_type": "code",
      "source": [
        "#classifier.fit(X_train, y_train, batch_size = 64, epochs = 20, verbose = 1)\n",
        "#scores = classifier.evaluate(X_test, y_test)\n",
        "#for i, m in enumerate(classifier.metrics_names):\n",
        "#    print(\"\\n%s: %.3f\"% (m, scores[i]))\n",
        "#print(X_test_copy.iloc[0]['subtype'])"
      ],
      "metadata": {
        "id": "Mm7RsTBcx2EN"
      },
      "execution_count": 6,
      "outputs": []
    },
    {
      "cell_type": "code",
      "source": [
        "from keras.metrics import accuracy\n",
        "from keras import callbacks\n",
        "earlystopping = callbacks.EarlyStopping(monitor =\"val_loss\", \n",
        "                                        mode =\"min\", patience = 25, \n",
        "                                        restore_best_weights = True)\n",
        "  \n",
        "history = classifier.fit(X_train, y_train, batch_size = 128, \n",
        "                    epochs = 600, validation_data =(X_test, y_test), \n",
        "                    callbacks =[earlystopping])\n",
        "plt.plot(history.history['val_accuracy'])\n",
        "\n"
      ],
      "metadata": {
        "colab": {
          "base_uri": "https://localhost:8080/",
          "height": 1000
        },
        "id": "Sv9aKFPW5KGr",
        "outputId": "ef56a64f-ed6b-4ffb-a009-6439eb836e37"
      },
      "execution_count": 7,
      "outputs": [
        {
          "output_type": "stream",
          "name": "stdout",
          "text": [
            "Epoch 1/600\n",
            "57/57 [==============================] - 1s 12ms/step - loss: 1.1889 - accuracy: 0.4639 - val_loss: 0.8947 - val_accuracy: 0.6492\n",
            "Epoch 2/600\n",
            "57/57 [==============================] - 0s 7ms/step - loss: 0.6952 - accuracy: 0.7105 - val_loss: 0.5773 - val_accuracy: 0.7547\n",
            "Epoch 3/600\n",
            "57/57 [==============================] - 0s 8ms/step - loss: 0.5426 - accuracy: 0.7641 - val_loss: 0.5194 - val_accuracy: 0.7655\n",
            "Epoch 4/600\n",
            "57/57 [==============================] - 0s 7ms/step - loss: 0.5006 - accuracy: 0.7848 - val_loss: 0.4891 - val_accuracy: 0.7964\n",
            "Epoch 5/600\n",
            "57/57 [==============================] - 0s 7ms/step - loss: 0.4809 - accuracy: 0.7950 - val_loss: 0.4782 - val_accuracy: 0.8024\n",
            "Epoch 6/600\n",
            "57/57 [==============================] - 0s 8ms/step - loss: 0.4710 - accuracy: 0.7996 - val_loss: 0.4697 - val_accuracy: 0.7903\n",
            "Epoch 7/600\n",
            "57/57 [==============================] - 1s 10ms/step - loss: 0.4611 - accuracy: 0.8032 - val_loss: 0.4619 - val_accuracy: 0.7897\n",
            "Epoch 8/600\n",
            "57/57 [==============================] - 0s 8ms/step - loss: 0.4550 - accuracy: 0.8050 - val_loss: 0.4563 - val_accuracy: 0.8044\n",
            "Epoch 9/600\n",
            "57/57 [==============================] - 1s 9ms/step - loss: 0.4530 - accuracy: 0.8046 - val_loss: 0.4648 - val_accuracy: 0.7930\n",
            "Epoch 10/600\n",
            "57/57 [==============================] - 0s 6ms/step - loss: 0.4441 - accuracy: 0.8124 - val_loss: 0.4485 - val_accuracy: 0.8017\n",
            "Epoch 11/600\n",
            "57/57 [==============================] - 0s 6ms/step - loss: 0.4441 - accuracy: 0.8078 - val_loss: 0.4480 - val_accuracy: 0.8058\n",
            "Epoch 12/600\n",
            "57/57 [==============================] - 0s 6ms/step - loss: 0.4401 - accuracy: 0.8101 - val_loss: 0.4439 - val_accuracy: 0.8065\n",
            "Epoch 13/600\n",
            "57/57 [==============================] - 0s 7ms/step - loss: 0.4350 - accuracy: 0.8126 - val_loss: 0.4439 - val_accuracy: 0.8051\n",
            "Epoch 14/600\n",
            "57/57 [==============================] - 0s 5ms/step - loss: 0.4318 - accuracy: 0.8162 - val_loss: 0.4390 - val_accuracy: 0.8065\n",
            "Epoch 15/600\n",
            "57/57 [==============================] - 0s 8ms/step - loss: 0.4296 - accuracy: 0.8135 - val_loss: 0.4401 - val_accuracy: 0.8118\n",
            "Epoch 16/600\n",
            "57/57 [==============================] - 1s 9ms/step - loss: 0.4289 - accuracy: 0.8193 - val_loss: 0.4333 - val_accuracy: 0.8017\n",
            "Epoch 17/600\n",
            "57/57 [==============================] - 0s 7ms/step - loss: 0.4276 - accuracy: 0.8174 - val_loss: 0.4319 - val_accuracy: 0.8105\n",
            "Epoch 18/600\n",
            "57/57 [==============================] - 0s 8ms/step - loss: 0.4197 - accuracy: 0.8211 - val_loss: 0.4307 - val_accuracy: 0.8051\n",
            "Epoch 19/600\n",
            "57/57 [==============================] - 0s 8ms/step - loss: 0.4194 - accuracy: 0.8196 - val_loss: 0.4341 - val_accuracy: 0.8071\n",
            "Epoch 20/600\n",
            "57/57 [==============================] - 1s 10ms/step - loss: 0.4215 - accuracy: 0.8206 - val_loss: 0.4265 - val_accuracy: 0.8071\n",
            "Epoch 21/600\n",
            "57/57 [==============================] - 0s 8ms/step - loss: 0.4142 - accuracy: 0.8208 - val_loss: 0.4243 - val_accuracy: 0.8118\n",
            "Epoch 22/600\n",
            "57/57 [==============================] - 0s 9ms/step - loss: 0.4140 - accuracy: 0.8243 - val_loss: 0.4408 - val_accuracy: 0.8112\n",
            "Epoch 23/600\n",
            "57/57 [==============================] - 0s 7ms/step - loss: 0.4115 - accuracy: 0.8213 - val_loss: 0.4296 - val_accuracy: 0.8098\n",
            "Epoch 24/600\n",
            "57/57 [==============================] - 0s 8ms/step - loss: 0.4095 - accuracy: 0.8244 - val_loss: 0.4255 - val_accuracy: 0.8044\n",
            "Epoch 25/600\n",
            "57/57 [==============================] - 0s 8ms/step - loss: 0.4095 - accuracy: 0.8222 - val_loss: 0.4181 - val_accuracy: 0.8071\n",
            "Epoch 26/600\n",
            "57/57 [==============================] - 0s 8ms/step - loss: 0.4063 - accuracy: 0.8251 - val_loss: 0.4197 - val_accuracy: 0.8058\n",
            "Epoch 27/600\n",
            "57/57 [==============================] - 0s 8ms/step - loss: 0.4032 - accuracy: 0.8242 - val_loss: 0.4138 - val_accuracy: 0.8085\n",
            "Epoch 28/600\n",
            "57/57 [==============================] - 0s 8ms/step - loss: 0.4055 - accuracy: 0.8257 - val_loss: 0.4188 - val_accuracy: 0.8071\n",
            "Epoch 29/600\n",
            "57/57 [==============================] - 1s 9ms/step - loss: 0.4043 - accuracy: 0.8224 - val_loss: 0.4214 - val_accuracy: 0.8044\n",
            "Epoch 30/600\n",
            "57/57 [==============================] - 0s 8ms/step - loss: 0.4018 - accuracy: 0.8248 - val_loss: 0.4246 - val_accuracy: 0.8118\n",
            "Epoch 31/600\n",
            "57/57 [==============================] - 0s 8ms/step - loss: 0.4008 - accuracy: 0.8243 - val_loss: 0.4089 - val_accuracy: 0.8138\n",
            "Epoch 32/600\n",
            "57/57 [==============================] - 0s 8ms/step - loss: 0.3978 - accuracy: 0.8269 - val_loss: 0.4106 - val_accuracy: 0.8152\n",
            "Epoch 33/600\n",
            "57/57 [==============================] - 1s 9ms/step - loss: 0.3992 - accuracy: 0.8253 - val_loss: 0.4097 - val_accuracy: 0.8179\n",
            "Epoch 34/600\n",
            "57/57 [==============================] - 0s 6ms/step - loss: 0.3957 - accuracy: 0.8279 - val_loss: 0.4103 - val_accuracy: 0.8065\n",
            "Epoch 35/600\n",
            "57/57 [==============================] - 0s 7ms/step - loss: 0.3941 - accuracy: 0.8277 - val_loss: 0.4114 - val_accuracy: 0.8091\n",
            "Epoch 36/600\n",
            "57/57 [==============================] - 0s 8ms/step - loss: 0.3944 - accuracy: 0.8275 - val_loss: 0.4042 - val_accuracy: 0.8065\n",
            "Epoch 37/600\n",
            "57/57 [==============================] - 0s 7ms/step - loss: 0.3956 - accuracy: 0.8259 - val_loss: 0.4050 - val_accuracy: 0.8125\n",
            "Epoch 38/600\n",
            "57/57 [==============================] - 1s 9ms/step - loss: 0.3921 - accuracy: 0.8279 - val_loss: 0.4101 - val_accuracy: 0.8212\n",
            "Epoch 39/600\n",
            "57/57 [==============================] - 0s 6ms/step - loss: 0.3916 - accuracy: 0.8277 - val_loss: 0.4033 - val_accuracy: 0.8159\n",
            "Epoch 40/600\n",
            "57/57 [==============================] - 0s 7ms/step - loss: 0.3909 - accuracy: 0.8301 - val_loss: 0.4047 - val_accuracy: 0.8132\n",
            "Epoch 41/600\n",
            "57/57 [==============================] - 0s 7ms/step - loss: 0.3880 - accuracy: 0.8308 - val_loss: 0.4059 - val_accuracy: 0.8192\n",
            "Epoch 42/600\n",
            "57/57 [==============================] - 0s 7ms/step - loss: 0.3919 - accuracy: 0.8262 - val_loss: 0.4055 - val_accuracy: 0.8185\n",
            "Epoch 43/600\n",
            "57/57 [==============================] - 0s 8ms/step - loss: 0.3860 - accuracy: 0.8310 - val_loss: 0.4019 - val_accuracy: 0.8185\n",
            "Epoch 44/600\n",
            "57/57 [==============================] - 0s 8ms/step - loss: 0.3879 - accuracy: 0.8281 - val_loss: 0.4032 - val_accuracy: 0.8159\n",
            "Epoch 45/600\n",
            "57/57 [==============================] - 1s 12ms/step - loss: 0.3882 - accuracy: 0.8291 - val_loss: 0.3989 - val_accuracy: 0.8192\n",
            "Epoch 46/600\n",
            "57/57 [==============================] - 0s 7ms/step - loss: 0.3903 - accuracy: 0.8258 - val_loss: 0.3997 - val_accuracy: 0.8132\n",
            "Epoch 47/600\n",
            "57/57 [==============================] - 0s 7ms/step - loss: 0.3879 - accuracy: 0.8288 - val_loss: 0.4037 - val_accuracy: 0.8172\n",
            "Epoch 48/600\n",
            "57/57 [==============================] - 0s 6ms/step - loss: 0.3869 - accuracy: 0.8264 - val_loss: 0.4039 - val_accuracy: 0.8212\n",
            "Epoch 49/600\n",
            "57/57 [==============================] - 0s 7ms/step - loss: 0.3847 - accuracy: 0.8292 - val_loss: 0.4135 - val_accuracy: 0.8219\n",
            "Epoch 50/600\n",
            "57/57 [==============================] - 0s 8ms/step - loss: 0.3861 - accuracy: 0.8288 - val_loss: 0.3996 - val_accuracy: 0.8125\n",
            "Epoch 51/600\n",
            "57/57 [==============================] - 0s 6ms/step - loss: 0.3857 - accuracy: 0.8273 - val_loss: 0.3996 - val_accuracy: 0.8132\n",
            "Epoch 52/600\n",
            "57/57 [==============================] - 1s 13ms/step - loss: 0.3818 - accuracy: 0.8302 - val_loss: 0.4011 - val_accuracy: 0.8138\n",
            "Epoch 53/600\n",
            "57/57 [==============================] - 1s 10ms/step - loss: 0.3819 - accuracy: 0.8338 - val_loss: 0.3947 - val_accuracy: 0.8138\n",
            "Epoch 54/600\n",
            "57/57 [==============================] - 0s 6ms/step - loss: 0.3810 - accuracy: 0.8328 - val_loss: 0.3986 - val_accuracy: 0.8233\n",
            "Epoch 55/600\n",
            "57/57 [==============================] - 0s 6ms/step - loss: 0.3818 - accuracy: 0.8283 - val_loss: 0.4002 - val_accuracy: 0.8192\n",
            "Epoch 56/600\n",
            "57/57 [==============================] - 1s 10ms/step - loss: 0.3865 - accuracy: 0.8310 - val_loss: 0.3947 - val_accuracy: 0.8185\n",
            "Epoch 57/600\n",
            "57/57 [==============================] - 1s 9ms/step - loss: 0.3807 - accuracy: 0.8317 - val_loss: 0.3996 - val_accuracy: 0.8253\n",
            "Epoch 58/600\n",
            "57/57 [==============================] - 0s 3ms/step - loss: 0.3840 - accuracy: 0.8299 - val_loss: 0.3981 - val_accuracy: 0.8212\n",
            "Epoch 59/600\n",
            "57/57 [==============================] - 0s 3ms/step - loss: 0.3801 - accuracy: 0.8306 - val_loss: 0.3992 - val_accuracy: 0.8206\n",
            "Epoch 60/600\n",
            "57/57 [==============================] - 0s 3ms/step - loss: 0.3773 - accuracy: 0.8298 - val_loss: 0.4021 - val_accuracy: 0.8212\n",
            "Epoch 61/600\n",
            "57/57 [==============================] - 0s 3ms/step - loss: 0.3800 - accuracy: 0.8305 - val_loss: 0.3992 - val_accuracy: 0.8085\n",
            "Epoch 62/600\n",
            "57/57 [==============================] - 0s 4ms/step - loss: 0.3782 - accuracy: 0.8315 - val_loss: 0.3923 - val_accuracy: 0.8226\n",
            "Epoch 63/600\n",
            "57/57 [==============================] - 0s 3ms/step - loss: 0.3776 - accuracy: 0.8305 - val_loss: 0.3989 - val_accuracy: 0.8159\n",
            "Epoch 64/600\n",
            "57/57 [==============================] - 0s 3ms/step - loss: 0.3788 - accuracy: 0.8301 - val_loss: 0.3941 - val_accuracy: 0.8239\n",
            "Epoch 65/600\n",
            "57/57 [==============================] - 0s 3ms/step - loss: 0.3776 - accuracy: 0.8309 - val_loss: 0.3973 - val_accuracy: 0.8172\n",
            "Epoch 66/600\n",
            "57/57 [==============================] - 0s 3ms/step - loss: 0.3755 - accuracy: 0.8330 - val_loss: 0.4029 - val_accuracy: 0.8239\n",
            "Epoch 67/600\n",
            "57/57 [==============================] - 0s 4ms/step - loss: 0.3764 - accuracy: 0.8280 - val_loss: 0.3890 - val_accuracy: 0.8246\n",
            "Epoch 68/600\n",
            "57/57 [==============================] - 0s 4ms/step - loss: 0.3742 - accuracy: 0.8301 - val_loss: 0.3972 - val_accuracy: 0.8253\n",
            "Epoch 69/600\n",
            "57/57 [==============================] - 0s 3ms/step - loss: 0.3781 - accuracy: 0.8299 - val_loss: 0.3949 - val_accuracy: 0.8219\n",
            "Epoch 70/600\n",
            "57/57 [==============================] - 0s 4ms/step - loss: 0.3783 - accuracy: 0.8279 - val_loss: 0.3974 - val_accuracy: 0.8185\n",
            "Epoch 71/600\n",
            "57/57 [==============================] - 0s 3ms/step - loss: 0.3747 - accuracy: 0.8316 - val_loss: 0.3855 - val_accuracy: 0.8233\n",
            "Epoch 72/600\n",
            "57/57 [==============================] - 0s 5ms/step - loss: 0.3724 - accuracy: 0.8338 - val_loss: 0.3939 - val_accuracy: 0.8259\n",
            "Epoch 73/600\n",
            "57/57 [==============================] - 0s 4ms/step - loss: 0.3761 - accuracy: 0.8284 - val_loss: 0.3921 - val_accuracy: 0.8273\n",
            "Epoch 74/600\n",
            "57/57 [==============================] - 0s 4ms/step - loss: 0.3747 - accuracy: 0.8305 - val_loss: 0.3904 - val_accuracy: 0.8159\n",
            "Epoch 75/600\n",
            "57/57 [==============================] - 0s 5ms/step - loss: 0.3717 - accuracy: 0.8343 - val_loss: 0.4023 - val_accuracy: 0.8098\n",
            "Epoch 76/600\n",
            "57/57 [==============================] - 0s 4ms/step - loss: 0.3715 - accuracy: 0.8303 - val_loss: 0.3982 - val_accuracy: 0.8233\n",
            "Epoch 77/600\n",
            "57/57 [==============================] - 0s 3ms/step - loss: 0.3753 - accuracy: 0.8298 - val_loss: 0.4082 - val_accuracy: 0.8226\n",
            "Epoch 78/600\n",
            "57/57 [==============================] - 0s 4ms/step - loss: 0.3741 - accuracy: 0.8352 - val_loss: 0.3882 - val_accuracy: 0.8266\n",
            "Epoch 79/600\n",
            "57/57 [==============================] - 0s 3ms/step - loss: 0.3709 - accuracy: 0.8341 - val_loss: 0.3896 - val_accuracy: 0.8165\n",
            "Epoch 80/600\n",
            "57/57 [==============================] - 0s 4ms/step - loss: 0.3714 - accuracy: 0.8319 - val_loss: 0.3858 - val_accuracy: 0.8266\n",
            "Epoch 81/600\n",
            "57/57 [==============================] - 0s 4ms/step - loss: 0.3722 - accuracy: 0.8312 - val_loss: 0.3873 - val_accuracy: 0.8199\n",
            "Epoch 82/600\n",
            "57/57 [==============================] - 0s 4ms/step - loss: 0.3725 - accuracy: 0.8331 - val_loss: 0.3865 - val_accuracy: 0.8192\n",
            "Epoch 83/600\n",
            "57/57 [==============================] - 0s 3ms/step - loss: 0.3718 - accuracy: 0.8341 - val_loss: 0.3958 - val_accuracy: 0.8300\n",
            "Epoch 84/600\n",
            "57/57 [==============================] - 0s 4ms/step - loss: 0.3739 - accuracy: 0.8310 - val_loss: 0.3953 - val_accuracy: 0.8165\n",
            "Epoch 85/600\n",
            "57/57 [==============================] - 0s 3ms/step - loss: 0.3695 - accuracy: 0.8348 - val_loss: 0.3828 - val_accuracy: 0.8233\n",
            "Epoch 86/600\n",
            "57/57 [==============================] - 0s 4ms/step - loss: 0.3719 - accuracy: 0.8343 - val_loss: 0.3896 - val_accuracy: 0.8233\n",
            "Epoch 87/600\n",
            "57/57 [==============================] - 0s 3ms/step - loss: 0.3709 - accuracy: 0.8328 - val_loss: 0.3891 - val_accuracy: 0.8159\n",
            "Epoch 88/600\n",
            "57/57 [==============================] - 0s 4ms/step - loss: 0.3704 - accuracy: 0.8294 - val_loss: 0.3949 - val_accuracy: 0.8259\n",
            "Epoch 89/600\n",
            "57/57 [==============================] - 0s 3ms/step - loss: 0.3668 - accuracy: 0.8368 - val_loss: 0.3877 - val_accuracy: 0.8219\n",
            "Epoch 90/600\n",
            "57/57 [==============================] - 0s 4ms/step - loss: 0.3705 - accuracy: 0.8349 - val_loss: 0.3919 - val_accuracy: 0.8212\n",
            "Epoch 91/600\n",
            "57/57 [==============================] - 0s 4ms/step - loss: 0.3702 - accuracy: 0.8334 - val_loss: 0.3868 - val_accuracy: 0.8280\n",
            "Epoch 92/600\n",
            "57/57 [==============================] - 0s 4ms/step - loss: 0.3674 - accuracy: 0.8323 - val_loss: 0.3939 - val_accuracy: 0.8219\n",
            "Epoch 93/600\n",
            "57/57 [==============================] - 0s 4ms/step - loss: 0.3670 - accuracy: 0.8338 - val_loss: 0.3895 - val_accuracy: 0.8273\n",
            "Epoch 94/600\n",
            "57/57 [==============================] - 0s 3ms/step - loss: 0.3659 - accuracy: 0.8317 - val_loss: 0.3893 - val_accuracy: 0.8132\n",
            "Epoch 95/600\n",
            "57/57 [==============================] - 0s 4ms/step - loss: 0.3703 - accuracy: 0.8313 - val_loss: 0.3941 - val_accuracy: 0.8165\n",
            "Epoch 96/600\n",
            "57/57 [==============================] - 0s 4ms/step - loss: 0.3664 - accuracy: 0.8338 - val_loss: 0.3932 - val_accuracy: 0.8259\n",
            "Epoch 97/600\n",
            "57/57 [==============================] - 0s 4ms/step - loss: 0.3660 - accuracy: 0.8331 - val_loss: 0.3868 - val_accuracy: 0.8286\n",
            "Epoch 98/600\n",
            "57/57 [==============================] - 0s 4ms/step - loss: 0.3673 - accuracy: 0.8337 - val_loss: 0.3862 - val_accuracy: 0.8266\n",
            "Epoch 99/600\n",
            "57/57 [==============================] - 0s 3ms/step - loss: 0.3643 - accuracy: 0.8359 - val_loss: 0.3867 - val_accuracy: 0.8165\n",
            "Epoch 100/600\n",
            "57/57 [==============================] - 0s 4ms/step - loss: 0.3644 - accuracy: 0.8359 - val_loss: 0.3832 - val_accuracy: 0.8233\n",
            "Epoch 101/600\n",
            "57/57 [==============================] - 0s 4ms/step - loss: 0.3651 - accuracy: 0.8321 - val_loss: 0.3906 - val_accuracy: 0.8112\n",
            "Epoch 102/600\n",
            "57/57 [==============================] - 0s 3ms/step - loss: 0.3643 - accuracy: 0.8370 - val_loss: 0.3857 - val_accuracy: 0.8138\n",
            "Epoch 103/600\n",
            "57/57 [==============================] - 0s 4ms/step - loss: 0.3636 - accuracy: 0.8353 - val_loss: 0.3887 - val_accuracy: 0.8273\n",
            "Epoch 104/600\n",
            "57/57 [==============================] - 0s 4ms/step - loss: 0.3646 - accuracy: 0.8365 - val_loss: 0.3900 - val_accuracy: 0.8212\n",
            "Epoch 105/600\n",
            "57/57 [==============================] - 0s 4ms/step - loss: 0.3656 - accuracy: 0.8328 - val_loss: 0.3895 - val_accuracy: 0.8226\n",
            "Epoch 106/600\n",
            "57/57 [==============================] - 0s 3ms/step - loss: 0.3636 - accuracy: 0.8353 - val_loss: 0.3833 - val_accuracy: 0.8226\n",
            "Epoch 107/600\n",
            "57/57 [==============================] - 0s 3ms/step - loss: 0.3649 - accuracy: 0.8341 - val_loss: 0.3881 - val_accuracy: 0.8212\n",
            "Epoch 108/600\n",
            "57/57 [==============================] - 0s 3ms/step - loss: 0.3668 - accuracy: 0.8354 - val_loss: 0.3903 - val_accuracy: 0.8179\n",
            "Epoch 109/600\n",
            "57/57 [==============================] - 0s 3ms/step - loss: 0.3613 - accuracy: 0.8370 - val_loss: 0.3874 - val_accuracy: 0.8185\n",
            "Epoch 110/600\n",
            "57/57 [==============================] - 0s 4ms/step - loss: 0.3670 - accuracy: 0.8313 - val_loss: 0.3951 - val_accuracy: 0.8206\n"
          ]
        },
        {
          "output_type": "execute_result",
          "data": {
            "text/plain": [
              "[<matplotlib.lines.Line2D at 0x7fcff87c30d0>]"
            ]
          },
          "metadata": {},
          "execution_count": 7
        },
        {
          "output_type": "display_data",
          "data": {
            "text/plain": [
              "<Figure size 432x288 with 1 Axes>"
            ],
            "image/png": "[encoded data removed]"
          },
          "metadata": {
            "needs_background": "light"
          }
        }
      ]
    },
    {
      "cell_type": "code",
      "source": [
        "from keras.metrics import accuracy\n",
        "#test_size = X_test.shape[0]\n",
        "pred = classifier.predict(X_test)\n",
        "#print(pred)\n",
        "pred_ = np.argmax(pred, axis = 1)\n",
        "#print(pred_)\n",
        "pred_ = l_encode.inverse_transform(pred_)\n",
        "\n",
        "true_y = l_encode.inverse_transform(np.argmax(to_categorical(y_test), axis = 1)[:,1])\n",
        "\n",
        "\n",
        "#for i,j in zip(pred_, true_y):\n",
        "#    print(\"Predicted: {}, True: {}\".format(i, j))\n",
        "\n",
        "cnt = 0\n",
        "cnt_correct = 0\n",
        "\n",
        "for i in range(len(pred_)):\n",
        "  cnt += 1\n",
        "  if(pred_[i] == true_y[i]):\n",
        "    cnt_correct += 1\n",
        "  \n",
        "print(f'accuracy: {(cnt_correct/cnt)*100:.2f}%')"
      ],
      "metadata": {
        "colab": {
          "base_uri": "https://localhost:8080/"
        },
        "id": "-WKM6CPTczGd",
        "outputId": "d6685e03-db6a-49c2-ee8c-03bc361811b9"
      },
      "execution_count": 8,
      "outputs": [
        {
          "output_type": "stream",
          "name": "stdout",
          "text": [
            "accuracy: 82.33%\n"
          ]
        }
      ]
    },
    {
      "cell_type": "code",
      "source": [
        "from sklearn.metrics import confusion_matrix, ConfusionMatrixDisplay\n",
        "#for i in range(len(pred_)):\n",
        "#  print(true_y[i])\n",
        "#print(confusion_matrix(true_y, pred_, labels=[0, 1, 2, 3]))\n",
        "cm = confusion_matrix(true_y, pred_, labels=[0, 1, 2, 3])\n",
        "cmd = ConfusionMatrixDisplay(cm, display_labels=['easy','moderate', 'hard', 'very hard'])\n",
        "#plt.subplot(1, 2, 1)\n",
        "cmd.plot()\n",
        "print(f'accuracy: {(cnt_correct/cnt)*100:.2f}%')"
      ],
      "metadata": {
        "colab": {
          "base_uri": "https://localhost:8080/",
          "height": 296
        },
        "id": "td3mlxlNxXqF",
        "outputId": "c6a269b2-1297-496e-8bcb-e9a3e13461a2"
      },
      "execution_count": 9,
      "outputs": [
        {
          "output_type": "stream",
          "name": "stdout",
          "text": [
            "accuracy: 82.33%\n"
          ]
        },
        {
          "output_type": "display_data",
          "data": {
            "text/plain": [
              "<Figure size 432x288 with 2 Axes>"
            ],
            "image/png": "[encoded data removed]"
          },
          "metadata": {
            "needs_background": "light"
          }
        }
      ]
    },
    {
      "cell_type": "code",
      "source": [
        "y_new = np.array(y_new)\n",
        "plt.hist(y_new)\n",
        "#plt.title('0->[0,2000) : 1->[2000,99999]')\n",
        "plt.show()"
      ],
      "metadata": {
        "id": "a_uXCro7BbBx",
        "outputId": "9cde313f-de1c-4e25-98c1-7eeed373fd56",
        "colab": {
          "base_uri": "https://localhost:8080/",
          "height": 265
        }
      },
      "execution_count": 10,
      "outputs": [
        {
          "output_type": "display_data",
          "data": {
            "text/plain": [
              "<Figure size 432x288 with 1 Axes>"
            ],
            "image/png": "[encoded data removed]"
          },
          "metadata": {
            "needs_background": "light"
          }
        }
      ]
    },
    {
      "cell_type": "code",
      "source": [
        "import matplotlib.pyplot as plt \n",
        "from sklearn.preprocessing import LabelBinarizer\n",
        "from sklearn.metrics import roc_curve, auc, roc_auc_score\n",
        "\n",
        "\n",
        "target= ['easy', 'moderate', 'hard', 'very hard']\n",
        "\n",
        "fig, c_ax = plt.subplots(1,1, figsize = (12, 8))\n",
        "\n",
        "def multiclass_roc_auc_score(y_test, y_pred, average=\"macro\"):\n",
        "    lb = LabelBinarizer()\n",
        "    lb.fit(y_test)\n",
        "    y_test = lb.transform(y_test)\n",
        "    y_pred = lb.transform(y_pred)\n",
        "\n",
        "    for (idx, c_label) in enumerate(target):\n",
        "        fpr, tpr, thresholds = roc_curve(y_test[:,idx].astype(int), y_pred[:,idx])\n",
        "        c_ax.plot(fpr, tpr, label = '%s (AUC:%0.2f)'  % (c_label, auc(fpr, tpr)))\n",
        "    c_ax.plot(fpr, fpr, 'b-', label = 'Random Guessing')\n",
        "    return roc_auc_score(y_test, y_pred, average=average)\n",
        "\n",
        "\n",
        "print('ROC AUC score:', multiclass_roc_auc_score(true_y, pred_))\n",
        "\n",
        "c_ax.legend()\n",
        "c_ax.set_xlabel('False Positive Rate')\n",
        "c_ax.set_ylabel('True Positive Rate')\n",
        "plt.grid()\n",
        "plt.show()"
      ],
      "metadata": {
        "id": "ilN2NeRZ-wOR",
        "outputId": "9534d812-cceb-4505-cce3-015d358d1487",
        "colab": {
          "base_uri": "https://localhost:8080/",
          "height": 514
        }
      },
      "execution_count": 11,
      "outputs": [
        {
          "output_type": "stream",
          "name": "stdout",
          "text": [
            "ROC AUC score: 0.8774269027100907\n"
          ]
        },
        {
          "output_type": "display_data",
          "data": {
            "text/plain": [
              "<Figure size 864x576 with 1 Axes>"
            ],
            "image/png": "[encoded data removed]"
          },
          "metadata": {
            "needs_background": "light"
          }
        }
      ]
    }
  ]
}