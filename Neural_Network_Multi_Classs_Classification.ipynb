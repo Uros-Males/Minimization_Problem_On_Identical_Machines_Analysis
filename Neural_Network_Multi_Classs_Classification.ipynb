{
  "nbformat": 4,
  "nbformat_minor": 0,
  "metadata": {
    "colab": {
      "name": "Neural_Network_Classification.ipynb",
      "provenance": [],
      "authorship_tag": "ABX9TyNrDbzrJFWSAOOpLOhOUByS",
      "include_colab_link": true
    },
    "kernelspec": {
      "name": "python3",
      "display_name": "Python 3"
    },
    "language_info": {
      "name": "python"
    }
  },
  "cells": [
    {
      "cell_type": "markdown",
      "metadata": {
        "id": "view-in-github",
        "colab_type": "text"
      },
      "source": [
        "<a href=\"https://colab.research.google.com/github/Uros-Males/Minimization_Problem_On_Identical_Machines_Analysis/blob/main/Neural_Network_Multi_Classs_Classification.ipynb\" target=\"_parent\"><img src=\"https://colab.research.google.com/assets/colab-badge.svg\" alt=\"Open In Colab\"/></a>"
      ]
    },
    {
      "cell_type": "code",
      "execution_count": 1,
      "metadata": {
        "colab": {
          "base_uri": "https://localhost:8080/"
        },
        "id": "6u-X4QiVmgm4",
        "outputId": "c98cc3c0-025a-4bbe-8c12-06fd0e4138b8"
      },
      "outputs": [
        {
          "output_type": "stream",
          "name": "stdout",
          "text": [
            "8750\n",
            "   subtype  class  indeks    n   m    n/m   (n/m)^2      (n/m)^3       m/n  \\\n",
            "0        4      1       6  220  80   2.75    7.5625    20.796875  0.363636   \n",
            "1       13      1       1  100  10  10.00  100.0000  1000.000000  0.100000   \n",
            "2       13      1       1   60   6  10.00  100.0000  1000.000000  0.100000   \n",
            "3        4      2       5   88  32   2.75    7.5625    20.796875  0.363636   \n",
            "4       11      6       4  180  30   6.00   36.0000   216.000000  0.166667   \n",
            "\n",
            "    (m/n)^2   (m/n)^3   av.length     std.dev  median  range  min  max    k  \n",
            "0  0.132231  0.048084   52.309090   28.644171    55.0     99    1  100   88  \n",
            "1  0.010000  0.001000   52.730000   29.015100    53.0     96    2   98   61  \n",
            "2  0.010000  0.001000   51.766666   29.513783    54.0     98    1   99   49  \n",
            "3  0.132231  0.048084   63.352272   21.150820    63.0     79   21  100   50  \n",
            "4  0.027778  0.004630  445.627777  145.289276   450.0    521  181  702  151  \n"
          ]
        }
      ],
      "source": [
        "#IN PROGRESS....\n",
        "import pandas as pd\n",
        "import numpy as np\n",
        "import matplotlib.pyplot as plt\n",
        "from sklearn import tree\n",
        "from sklearn.model_selection import train_test_split\n",
        "from sklearn.tree import DecisionTreeRegressor\n",
        "import time\n",
        "import keras\n",
        "\n",
        "df = pd.read_csv('/content/sample_data/C-instances-runtime-analysis.csv')\n",
        "print(df.shape[0])\n",
        "\n",
        "shuffled = df.sample(frac=1).reset_index()\n",
        "\n",
        "columns_dont_want = ['y', 'index', 'inst.name','type', 'CPLEXStatus'] #cple\n",
        "select = [x for x in shuffled.columns if x not in columns_dont_want]\n",
        "\n",
        "X = shuffled.loc[:, select]\n",
        "\n",
        "y = shuffled.loc[:,'y']\n",
        "print(X.head())\n",
        "names = ['subtype', 'class', 'indeks', 'n', 'm', 'n/m', '(n/m)^2', '(n/m)^3', 'm/n', '(m/n)^2',\n",
        "         '(m/n)^3', 'av.length', 'std.dev', 'median', 'range', 'min', 'max', 'k']\n",
        "#print(names[1])\n",
        "\n"
      ]
    },
    {
      "cell_type": "code",
      "source": [
        "y_new = []\n",
        "for val in y:\n",
        "  if(val<10):\n",
        "    y_new.append(0)\n",
        "  elif(10 <= val and val <100):\n",
        "    y_new.append(1)\n",
        "  elif(100<=val and val<1000):\n",
        "    y_new.append(2)\n",
        "  else:\n",
        "    y_new.append(3)\n",
        "\n",
        "shuffled['y_new'] = y_new\n",
        "#print(shuffled.head())\n",
        "y_encoded = shuffled.loc[:,'y_new']\n",
        "y_new = np.array(y_new)\n",
        "plt.hist(y_new)\n",
        "plt.show()\n",
        "X_modified = X\n",
        "#X_modified = X.drop(['n/m', '(n/m)^2', '(n/m)^3', 'm/n', '(m/n)^2', '(m/n)^3', 'max', 'av.length'], axis = 1)\n",
        "#print(X_modified.shape[1])"
      ],
      "metadata": {
        "id": "XkPXcbO0riCC",
        "colab": {
          "base_uri": "https://localhost:8080/",
          "height": 265
        },
        "outputId": "97760d20-f41e-445e-f57f-c749821146a1"
      },
      "execution_count": 2,
      "outputs": [
        {
          "output_type": "display_data",
          "data": {
            "text/plain": [
              "<Figure size 432x288 with 1 Axes>"
            ],
            "image/png": "[encoded data removed]"
          },
          "metadata": {
            "needs_background": "light"
          }
        }
      ]
    },
    {
      "cell_type": "code",
      "source": [
        "from sklearn.preprocessing import LabelEncoder\n",
        "from keras.utils.np_utils import to_categorical\n",
        "\n",
        "l_encode = LabelEncoder()\n",
        "l_encode.fit(y_encoded)\n",
        "y_encoded = l_encode.transform(y_encoded)\n",
        "y_encoded = to_categorical(y_encoded)\n",
        "y_encoded"
      ],
      "metadata": {
        "colab": {
          "base_uri": "https://localhost:8080/"
        },
        "id": "W2hvUxxE2NWr",
        "outputId": "5dd4df72-e15e-43ac-d5e2-8c1ee74a41fe"
      },
      "execution_count": 3,
      "outputs": [
        {
          "output_type": "execute_result",
          "data": {
            "text/plain": [
              "array([[0., 1., 0., 0.],\n",
              "       [0., 0., 1., 0.],\n",
              "       [0., 0., 1., 0.],\n",
              "       ...,\n",
              "       [0., 1., 0., 0.],\n",
              "       [0., 1., 0., 0.],\n",
              "       [0., 0., 0., 1.]], dtype=float32)"
            ]
          },
          "metadata": {},
          "execution_count": 3
        }
      ]
    },
    {
      "cell_type": "code",
      "source": [
        "from keras.models import Sequential\n",
        "from keras.layers import Dense, Dropout\n",
        "\n",
        "classifier = Sequential()\n",
        "classifier.add(Dense(8, input_dim = X_modified.shape[1], activation='relu'))\n",
        "#classifier.add(Dense(8, activation = 'relu'))\n",
        "\n",
        "classifier.add(Dense(16, activation = 'relu'))\n",
        "\n",
        "#classifier.add(Dense(32, activation = 'relu'))\n",
        "#classifier.add(Dense(32, activation = 'relu'))\n",
        "#classifier.add(Dense(16, activation = 'relu'))\n",
        "\n",
        "classifier.add(Dense(32, activation='relu'))\n",
        "\n",
        "classifier.add(Dense(64, activation='relu'))\n",
        "\n",
        "classifier.add(Dense(16, activation='relu'))\n",
        "\n",
        "classifier.add(Dense(4, activation = 'softmax'))\n",
        "classifier.compile(loss = 'categorical_crossentropy', optimizer = 'adam', metrics = ['accuracy'])\n",
        "classifier.summary()"
      ],
      "metadata": {
        "id": "jRT-grzys8_y",
        "colab": {
          "base_uri": "https://localhost:8080/"
        },
        "outputId": "71f52ad5-83c4-4877-b3d7-1cdcd9509318"
      },
      "execution_count": 4,
      "outputs": [
        {
          "output_type": "stream",
          "name": "stdout",
          "text": [
            "Model: \"sequential\"\n",
            "_________________________________________________________________\n",
            " Layer (type)                Output Shape              Param #   \n",
            "=================================================================\n",
            " dense (Dense)               (None, 8)                 152       \n",
            "                                                                 \n",
            " dense_1 (Dense)             (None, 16)                144       \n",
            "                                                                 \n",
            " dense_2 (Dense)             (None, 32)                544       \n",
            "                                                                 \n",
            " dense_3 (Dense)             (None, 64)                2112      \n",
            "                                                                 \n",
            " dense_4 (Dense)             (None, 16)                1040      \n",
            "                                                                 \n",
            " dense_5 (Dense)             (None, 4)                 68        \n",
            "                                                                 \n",
            "=================================================================\n",
            "Total params: 4,060\n",
            "Trainable params: 4,060\n",
            "Non-trainable params: 0\n",
            "_________________________________________________________________\n"
          ]
        }
      ]
    },
    {
      "cell_type": "code",
      "source": [
        "from sklearn.preprocessing import MinMaxScaler\n",
        "scaler =  MinMaxScaler()\n",
        "\n",
        "X_train, X_test, y_train, y_test = train_test_split(X_modified, y_encoded, random_state=0, train_size = 0.83)\n",
        "\n",
        "X_train = scaler.fit_transform(X_train)\n",
        "X_test_copy = X_test\n",
        "print(X_test_copy.head(10))\n",
        "X_test = scaler.fit_transform(X_test)"
      ],
      "metadata": {
        "id": "gWTX6M2mxxPD",
        "outputId": "481f73ed-b9fb-41f5-cbb3-de781b469989",
        "colab": {
          "base_uri": "https://localhost:8080/"
        }
      },
      "execution_count": 12,
      "outputs": [
        {
          "output_type": "stream",
          "name": "stdout",
          "text": [
            "      subtype  class  indeks    n   m    n/m   (n/m)^2      (n/m)^3       m/n  \\\n",
            "7057        8      6       6  120  30   4.00   16.0000    64.000000  0.250000   \n",
            "1638        9      1       6   72  16   4.50   20.2500    91.125000  0.222222   \n",
            "277        14      3       5   44   4  11.00  121.0000  1331.000000  0.090909   \n",
            "5546       13      2       5   60   6  10.00  100.0000  1000.000000  0.100000   \n",
            "2570        4      3       3   22   8   2.75    7.5625    20.796875  0.363636   \n",
            "7621        3      3       3  160  64   2.50    6.2500    15.625000  0.400000   \n",
            "4318       14      1       4  132  12  11.00  121.0000  1331.000000  0.090909   \n",
            "1995        3      1       1  160  64   2.50    6.2500    15.625000  0.400000   \n",
            "2260       14      3       6   66   6  11.00  121.0000  1331.000000  0.090909   \n",
            "3814       12      6       2  198  22   9.00   81.0000   729.000000  0.111111   \n",
            "\n",
            "       (m/n)^2   (m/n)^3   av.length     std.dev  median  range  min  max    k  \n",
            "7057  0.062500  0.015625  296.191681  111.699722   310.5    353  121  474  103  \n",
            "1638  0.049383  0.010974   56.569443   30.690102    61.5     96    4  100   55  \n",
            "277   0.008264  0.000751   71.454544   14.192127    71.0     49   50   99   31  \n",
            "5546  0.010000  0.001000   65.633331   24.628744    70.5     79   20   99   43  \n",
            "2570  0.132231  0.048084   71.363640   14.795577    72.5     47   50   97   18  \n",
            "7621  0.160000  0.064000   74.793747   15.111367    75.0     50   50  100   47  \n",
            "4318  0.008264  0.000751   47.848484   29.050758    45.5     99    1  100   76  \n",
            "1995  0.160000  0.064000   51.718750   28.483274    52.0     99    1  100   75  \n",
            "2260  0.008264  0.000751   75.984848   14.685937    78.0     50   50  100   41  \n",
            "3814  0.012346  0.001372  522.272705  165.772598   527.5    588  203  791  169  \n"
          ]
        }
      ]
    },
    {
      "cell_type": "code",
      "source": [
        "#classifier.fit(X_train, y_train, batch_size = 64, epochs = 20, verbose = 1)\n",
        "#scores = classifier.evaluate(X_test, y_test)\n",
        "#for i, m in enumerate(classifier.metrics_names):\n",
        "#    print(\"\\n%s: %.3f\"% (m, scores[i]))\n",
        "print(X_test_copy.iloc[0]['subtype'])"
      ],
      "metadata": {
        "id": "Mm7RsTBcx2EN",
        "outputId": "23bb5056-d77a-4c37-a607-291a84913360",
        "colab": {
          "base_uri": "https://localhost:8080/"
        }
      },
      "execution_count": 6,
      "outputs": [
        {
          "output_type": "stream",
          "name": "stdout",
          "text": [
            "8.0\n"
          ]
        }
      ]
    },
    {
      "cell_type": "code",
      "source": [
        "from keras.metrics import accuracy\n",
        "from keras import callbacks\n",
        "earlystopping = callbacks.EarlyStopping(monitor =\"val_loss\", \n",
        "                                        mode =\"min\", patience = 15, \n",
        "                                        restore_best_weights = True)\n",
        "  \n",
        "history = classifier.fit(X_train, y_train, batch_size = 16, \n",
        "                    epochs = 600, validation_data =(X_test, y_test), \n",
        "                    callbacks =[earlystopping])\n",
        "plt.plot(history.history['val_accuracy'])\n",
        "\n"
      ],
      "metadata": {
        "colab": {
          "base_uri": "https://localhost:8080/",
          "height": 1000
        },
        "id": "Sv9aKFPW5KGr",
        "outputId": "d6c4572b-5982-4a6e-fad0-fc194a9ea011"
      },
      "execution_count": 7,
      "outputs": [
        {
          "output_type": "stream",
          "name": "stdout",
          "text": [
            "Epoch 1/600\n",
            "454/454 [==============================] - 2s 3ms/step - loss: 0.7940 - accuracy: 0.6673 - val_loss: 0.5529 - val_accuracy: 0.7634\n",
            "Epoch 2/600\n",
            "454/454 [==============================] - 1s 2ms/step - loss: 0.5279 - accuracy: 0.7838 - val_loss: 0.4864 - val_accuracy: 0.7977\n",
            "Epoch 3/600\n",
            "454/454 [==============================] - 1s 3ms/step - loss: 0.4896 - accuracy: 0.7933 - val_loss: 0.4528 - val_accuracy: 0.8071\n",
            "Epoch 4/600\n",
            "454/454 [==============================] - 1s 3ms/step - loss: 0.4712 - accuracy: 0.8003 - val_loss: 0.4574 - val_accuracy: 0.8112\n",
            "Epoch 5/600\n",
            "454/454 [==============================] - 1s 3ms/step - loss: 0.4612 - accuracy: 0.8017 - val_loss: 0.4298 - val_accuracy: 0.8152\n",
            "Epoch 6/600\n",
            "454/454 [==============================] - 1s 3ms/step - loss: 0.4536 - accuracy: 0.8053 - val_loss: 0.4567 - val_accuracy: 0.8085\n",
            "Epoch 7/600\n",
            "454/454 [==============================] - 1s 2ms/step - loss: 0.4501 - accuracy: 0.8054 - val_loss: 0.4435 - val_accuracy: 0.8118\n",
            "Epoch 8/600\n",
            "454/454 [==============================] - 1s 3ms/step - loss: 0.4467 - accuracy: 0.8075 - val_loss: 0.4174 - val_accuracy: 0.8266\n",
            "Epoch 9/600\n",
            "454/454 [==============================] - 1s 3ms/step - loss: 0.4430 - accuracy: 0.8065 - val_loss: 0.4140 - val_accuracy: 0.8179\n",
            "Epoch 10/600\n",
            "454/454 [==============================] - 1s 3ms/step - loss: 0.4372 - accuracy: 0.8101 - val_loss: 0.4197 - val_accuracy: 0.8199\n",
            "Epoch 11/600\n",
            "454/454 [==============================] - 1s 3ms/step - loss: 0.4359 - accuracy: 0.8118 - val_loss: 0.4184 - val_accuracy: 0.8159\n",
            "Epoch 12/600\n",
            "454/454 [==============================] - 2s 4ms/step - loss: 0.4297 - accuracy: 0.8134 - val_loss: 0.4080 - val_accuracy: 0.8172\n",
            "Epoch 13/600\n",
            "454/454 [==============================] - 1s 3ms/step - loss: 0.4312 - accuracy: 0.8100 - val_loss: 0.4738 - val_accuracy: 0.7843\n",
            "Epoch 14/600\n",
            "454/454 [==============================] - 1s 2ms/step - loss: 0.4294 - accuracy: 0.8163 - val_loss: 0.4519 - val_accuracy: 0.7950\n",
            "Epoch 15/600\n",
            "454/454 [==============================] - 1s 1ms/step - loss: 0.4286 - accuracy: 0.8119 - val_loss: 0.3993 - val_accuracy: 0.8246\n",
            "Epoch 16/600\n",
            "454/454 [==============================] - 1s 2ms/step - loss: 0.4186 - accuracy: 0.8135 - val_loss: 0.3973 - val_accuracy: 0.8185\n",
            "Epoch 17/600\n",
            "454/454 [==============================] - 1s 2ms/step - loss: 0.4216 - accuracy: 0.8144 - val_loss: 0.4336 - val_accuracy: 0.8118\n",
            "Epoch 18/600\n",
            "454/454 [==============================] - 1s 1ms/step - loss: 0.4231 - accuracy: 0.8149 - val_loss: 0.3955 - val_accuracy: 0.8179\n",
            "Epoch 19/600\n",
            "454/454 [==============================] - 1s 2ms/step - loss: 0.4166 - accuracy: 0.8140 - val_loss: 0.3873 - val_accuracy: 0.8313\n",
            "Epoch 20/600\n",
            "454/454 [==============================] - 1s 2ms/step - loss: 0.4166 - accuracy: 0.8178 - val_loss: 0.4079 - val_accuracy: 0.8199\n",
            "Epoch 21/600\n",
            "454/454 [==============================] - 1s 1ms/step - loss: 0.4120 - accuracy: 0.8197 - val_loss: 0.3975 - val_accuracy: 0.8226\n",
            "Epoch 22/600\n",
            "454/454 [==============================] - 1s 1ms/step - loss: 0.4104 - accuracy: 0.8186 - val_loss: 0.3973 - val_accuracy: 0.8199\n",
            "Epoch 23/600\n",
            "454/454 [==============================] - 1s 2ms/step - loss: 0.4085 - accuracy: 0.8191 - val_loss: 0.4214 - val_accuracy: 0.8152\n",
            "Epoch 24/600\n",
            "454/454 [==============================] - 1s 1ms/step - loss: 0.4070 - accuracy: 0.8239 - val_loss: 0.3928 - val_accuracy: 0.8253\n",
            "Epoch 25/600\n",
            "454/454 [==============================] - 1s 1ms/step - loss: 0.4102 - accuracy: 0.8207 - val_loss: 0.3994 - val_accuracy: 0.8172\n",
            "Epoch 26/600\n",
            "454/454 [==============================] - 1s 2ms/step - loss: 0.4069 - accuracy: 0.8224 - val_loss: 0.3870 - val_accuracy: 0.8246\n",
            "Epoch 27/600\n",
            "454/454 [==============================] - 1s 1ms/step - loss: 0.4102 - accuracy: 0.8199 - val_loss: 0.3847 - val_accuracy: 0.8347\n",
            "Epoch 28/600\n",
            "454/454 [==============================] - 1s 1ms/step - loss: 0.4053 - accuracy: 0.8221 - val_loss: 0.4358 - val_accuracy: 0.8004\n",
            "Epoch 29/600\n",
            "454/454 [==============================] - 1s 2ms/step - loss: 0.4044 - accuracy: 0.8211 - val_loss: 0.3923 - val_accuracy: 0.8125\n",
            "Epoch 30/600\n",
            "454/454 [==============================] - 1s 1ms/step - loss: 0.4039 - accuracy: 0.8215 - val_loss: 0.4147 - val_accuracy: 0.8152\n",
            "Epoch 31/600\n",
            "454/454 [==============================] - 1s 1ms/step - loss: 0.4042 - accuracy: 0.8235 - val_loss: 0.3920 - val_accuracy: 0.8199\n",
            "Epoch 32/600\n",
            "454/454 [==============================] - 1s 1ms/step - loss: 0.4017 - accuracy: 0.8211 - val_loss: 0.3976 - val_accuracy: 0.8192\n",
            "Epoch 33/600\n",
            "454/454 [==============================] - 1s 1ms/step - loss: 0.4001 - accuracy: 0.8222 - val_loss: 0.3875 - val_accuracy: 0.8300\n",
            "Epoch 34/600\n",
            "454/454 [==============================] - 1s 1ms/step - loss: 0.4024 - accuracy: 0.8229 - val_loss: 0.3715 - val_accuracy: 0.8306\n",
            "Epoch 35/600\n",
            "454/454 [==============================] - 1s 1ms/step - loss: 0.4017 - accuracy: 0.8180 - val_loss: 0.3711 - val_accuracy: 0.8313\n",
            "Epoch 36/600\n",
            "454/454 [==============================] - 1s 1ms/step - loss: 0.3979 - accuracy: 0.8217 - val_loss: 0.3681 - val_accuracy: 0.8374\n",
            "Epoch 37/600\n",
            "454/454 [==============================] - 1s 1ms/step - loss: 0.4010 - accuracy: 0.8226 - val_loss: 0.3831 - val_accuracy: 0.8286\n",
            "Epoch 38/600\n",
            "454/454 [==============================] - 1s 1ms/step - loss: 0.4052 - accuracy: 0.8219 - val_loss: 0.3729 - val_accuracy: 0.8360\n",
            "Epoch 39/600\n",
            "454/454 [==============================] - 1s 1ms/step - loss: 0.3988 - accuracy: 0.8239 - val_loss: 0.3842 - val_accuracy: 0.8286\n",
            "Epoch 40/600\n",
            "454/454 [==============================] - 1s 1ms/step - loss: 0.4017 - accuracy: 0.8243 - val_loss: 0.3917 - val_accuracy: 0.8233\n",
            "Epoch 41/600\n",
            "454/454 [==============================] - 1s 1ms/step - loss: 0.3990 - accuracy: 0.8196 - val_loss: 0.3867 - val_accuracy: 0.8246\n",
            "Epoch 42/600\n",
            "454/454 [==============================] - 1s 2ms/step - loss: 0.3960 - accuracy: 0.8239 - val_loss: 0.3810 - val_accuracy: 0.8286\n",
            "Epoch 43/600\n",
            "454/454 [==============================] - 1s 1ms/step - loss: 0.3983 - accuracy: 0.8199 - val_loss: 0.3913 - val_accuracy: 0.8192\n",
            "Epoch 44/600\n",
            "454/454 [==============================] - 1s 2ms/step - loss: 0.3940 - accuracy: 0.8219 - val_loss: 0.3928 - val_accuracy: 0.8280\n",
            "Epoch 45/600\n",
            "454/454 [==============================] - 1s 1ms/step - loss: 0.3975 - accuracy: 0.8232 - val_loss: 0.3883 - val_accuracy: 0.8313\n",
            "Epoch 46/600\n",
            "454/454 [==============================] - 1s 2ms/step - loss: 0.3987 - accuracy: 0.8229 - val_loss: 0.3755 - val_accuracy: 0.8300\n",
            "Epoch 47/600\n",
            "454/454 [==============================] - 1s 1ms/step - loss: 0.3951 - accuracy: 0.8247 - val_loss: 0.3769 - val_accuracy: 0.8293\n",
            "Epoch 48/600\n",
            "454/454 [==============================] - 1s 2ms/step - loss: 0.3946 - accuracy: 0.8262 - val_loss: 0.3835 - val_accuracy: 0.8266\n",
            "Epoch 49/600\n",
            "454/454 [==============================] - 1s 1ms/step - loss: 0.3959 - accuracy: 0.8254 - val_loss: 0.3742 - val_accuracy: 0.8320\n",
            "Epoch 50/600\n",
            "454/454 [==============================] - 1s 1ms/step - loss: 0.3926 - accuracy: 0.8295 - val_loss: 0.3908 - val_accuracy: 0.8300\n",
            "Epoch 51/600\n",
            "454/454 [==============================] - 1s 1ms/step - loss: 0.3929 - accuracy: 0.8226 - val_loss: 0.3677 - val_accuracy: 0.8320\n",
            "Epoch 52/600\n",
            "454/454 [==============================] - 1s 1ms/step - loss: 0.3927 - accuracy: 0.8287 - val_loss: 0.3925 - val_accuracy: 0.8259\n",
            "Epoch 53/600\n",
            "454/454 [==============================] - 1s 2ms/step - loss: 0.3916 - accuracy: 0.8277 - val_loss: 0.3779 - val_accuracy: 0.8266\n",
            "Epoch 54/600\n",
            "454/454 [==============================] - 1s 1ms/step - loss: 0.3963 - accuracy: 0.8246 - val_loss: 0.3680 - val_accuracy: 0.8401\n",
            "Epoch 55/600\n",
            "454/454 [==============================] - 1s 2ms/step - loss: 0.3924 - accuracy: 0.8242 - val_loss: 0.3839 - val_accuracy: 0.8293\n",
            "Epoch 56/600\n",
            "454/454 [==============================] - 1s 1ms/step - loss: 0.3949 - accuracy: 0.8253 - val_loss: 0.3777 - val_accuracy: 0.8293\n",
            "Epoch 57/600\n",
            "454/454 [==============================] - 1s 1ms/step - loss: 0.3949 - accuracy: 0.8221 - val_loss: 0.3754 - val_accuracy: 0.8347\n",
            "Epoch 58/600\n",
            "454/454 [==============================] - 1s 1ms/step - loss: 0.3924 - accuracy: 0.8237 - val_loss: 0.4116 - val_accuracy: 0.8179\n",
            "Epoch 59/600\n",
            "454/454 [==============================] - 1s 2ms/step - loss: 0.3946 - accuracy: 0.8254 - val_loss: 0.3775 - val_accuracy: 0.8286\n",
            "Epoch 60/600\n",
            "454/454 [==============================] - 1s 1ms/step - loss: 0.3931 - accuracy: 0.8243 - val_loss: 0.3662 - val_accuracy: 0.8347\n",
            "Epoch 61/600\n",
            "454/454 [==============================] - 1s 1ms/step - loss: 0.3916 - accuracy: 0.8253 - val_loss: 0.3838 - val_accuracy: 0.8313\n",
            "Epoch 62/600\n",
            "454/454 [==============================] - 1s 2ms/step - loss: 0.3904 - accuracy: 0.8286 - val_loss: 0.3736 - val_accuracy: 0.8340\n",
            "Epoch 63/600\n",
            "454/454 [==============================] - 1s 1ms/step - loss: 0.3901 - accuracy: 0.8250 - val_loss: 0.3702 - val_accuracy: 0.8387\n",
            "Epoch 64/600\n",
            "454/454 [==============================] - 1s 1ms/step - loss: 0.3890 - accuracy: 0.8281 - val_loss: 0.3870 - val_accuracy: 0.8266\n",
            "Epoch 65/600\n",
            "454/454 [==============================] - 1s 1ms/step - loss: 0.3889 - accuracy: 0.8273 - val_loss: 0.3695 - val_accuracy: 0.8353\n",
            "Epoch 66/600\n",
            "454/454 [==============================] - 1s 1ms/step - loss: 0.3886 - accuracy: 0.8308 - val_loss: 0.3766 - val_accuracy: 0.8360\n",
            "Epoch 67/600\n",
            "454/454 [==============================] - 1s 1ms/step - loss: 0.3886 - accuracy: 0.8250 - val_loss: 0.3865 - val_accuracy: 0.8280\n",
            "Epoch 68/600\n",
            "454/454 [==============================] - 1s 1ms/step - loss: 0.3864 - accuracy: 0.8301 - val_loss: 0.3745 - val_accuracy: 0.8293\n",
            "Epoch 69/600\n",
            "454/454 [==============================] - 1s 2ms/step - loss: 0.3896 - accuracy: 0.8279 - val_loss: 0.3670 - val_accuracy: 0.8306\n",
            "Epoch 70/600\n",
            "454/454 [==============================] - 1s 1ms/step - loss: 0.3869 - accuracy: 0.8294 - val_loss: 0.3731 - val_accuracy: 0.8353\n",
            "Epoch 71/600\n",
            "454/454 [==============================] - 1s 1ms/step - loss: 0.3904 - accuracy: 0.8302 - val_loss: 0.3772 - val_accuracy: 0.8233\n",
            "Epoch 72/600\n",
            "454/454 [==============================] - 1s 1ms/step - loss: 0.3875 - accuracy: 0.8292 - val_loss: 0.3736 - val_accuracy: 0.8394\n",
            "Epoch 73/600\n",
            "454/454 [==============================] - 1s 1ms/step - loss: 0.3873 - accuracy: 0.8269 - val_loss: 0.3703 - val_accuracy: 0.8374\n",
            "Epoch 74/600\n",
            "454/454 [==============================] - 1s 1ms/step - loss: 0.3866 - accuracy: 0.8284 - val_loss: 0.3873 - val_accuracy: 0.8246\n",
            "Epoch 75/600\n",
            "454/454 [==============================] - 1s 1ms/step - loss: 0.3893 - accuracy: 0.8319 - val_loss: 0.3834 - val_accuracy: 0.8280\n"
          ]
        },
        {
          "output_type": "execute_result",
          "data": {
            "text/plain": [
              "[<matplotlib.lines.Line2D at 0x7f23b3dffc10>]"
            ]
          },
          "metadata": {},
          "execution_count": 7
        },
        {
          "output_type": "display_data",
          "data": {
            "text/plain": [
              "<Figure size 432x288 with 1 Axes>"
            ],
            "image/png": "[encoded data removed]"
          },
          "metadata": {
            "needs_background": "light"
          }
        }
      ]
    },
    {
      "cell_type": "code",
      "source": [
        "from keras.metrics import accuracy\n",
        "#test_size = X_test.shape[0]\n",
        "pred = classifier.predict(X_test)\n",
        "#print(pred)\n",
        "pred_ = np.argmax(pred, axis = 1)\n",
        "#print(pred_)\n",
        "pred_ = l_encode.inverse_transform(pred_)\n",
        "\n",
        "true_y = l_encode.inverse_transform(np.argmax(to_categorical(y_test), axis = 1)[:,1])\n",
        "\n",
        "\n",
        "#for i,j in zip(pred_, true_y):\n",
        "#    print(\"Predicted: {}, True: {}\".format(i, j))\n",
        "\n",
        "cnt = 0\n",
        "cnt_correct = 0\n",
        "\n",
        "for i in range(len(pred_)):\n",
        "  cnt += 1\n",
        "  if(pred_[i] == true_y[i]):\n",
        "    cnt_correct += 1\n",
        "  if(pred_[i] == 0 and true_y[i]== 3):\n",
        "    #print(X_test[i])\n",
        "    for j in range(len(names)):\n",
        "      print(names[j]+\"->\"+str(X_test_copy.iloc[i][names[j]]))\n",
        "    print(\"------------------------------------------------------------------\")\n",
        "\n",
        "print(f'accuracy: {(cnt_correct/cnt)*100:.2f}%')"
      ],
      "metadata": {
        "colab": {
          "base_uri": "https://localhost:8080/"
        },
        "id": "-WKM6CPTczGd",
        "outputId": "a27a0048-4b1f-426f-9a41-64e285c71f0e"
      },
      "execution_count": 8,
      "outputs": [
        {
          "output_type": "stream",
          "name": "stdout",
          "text": [
            "subtype->1.0\n",
            "class->5.0\n",
            "indeks->9.0\n",
            "n->140.0\n",
            "m->70.0\n",
            "n/m->2.0\n",
            "(n/m)^2->4.0\n",
            "(n/m)^3->8.0\n",
            "m/n->0.5\n",
            "(m/n)^2->0.25\n",
            "(m/n)^3->0.125\n",
            "av.length->110.692856\n",
            "std.dev->49.170376\n",
            "median->108.0\n",
            "range->284.0\n",
            "min->3.0\n",
            "max->287.0\n",
            "k->98.0\n",
            "------------------------------------------------------------------\n",
            "subtype->1.0\n",
            "class->5.0\n",
            "indeks->6.0\n",
            "n->200.0\n",
            "m->100.0\n",
            "n/m->2.0\n",
            "(n/m)^2->4.0\n",
            "(n/m)^3->8.0\n",
            "m/n->0.5\n",
            "(m/n)^2->0.25\n",
            "(m/n)^3->0.125\n",
            "av.length->101.815002\n",
            "std.dev->50.574791\n",
            "median->99.0\n",
            "range->264.0\n",
            "min->7.0\n",
            "max->271.0\n",
            "k->125.0\n",
            "------------------------------------------------------------------\n",
            "subtype->1.0\n",
            "class->7.0\n",
            "indeks->10.0\n",
            "n->180.0\n",
            "m->90.0\n",
            "n/m->2.0\n",
            "(n/m)^2->4.0\n",
            "(n/m)^3->8.0\n",
            "m/n->0.5\n",
            "(m/n)^2->0.25\n",
            "(m/n)^3->0.125\n",
            "av.length->706.877808\n",
            "std.dev->175.294418\n",
            "median->749.5\n",
            "range->848.0\n",
            "min->256.0\n",
            "max->1104.0\n",
            "k->154.0\n",
            "------------------------------------------------------------------\n",
            "accuracy: 83.47%\n"
          ]
        }
      ]
    },
    {
      "cell_type": "code",
      "source": [
        "from sklearn.metrics import confusion_matrix, ConfusionMatrixDisplay\n",
        "#for i in range(len(pred_)):\n",
        "#  print(true_y[i])\n",
        "#print(confusion_matrix(true_y, pred_, labels=[0, 1, 2, 3]))\n",
        "cm = confusion_matrix(true_y, pred_, labels=[0, 1, 2, 3])\n",
        "cmd = ConfusionMatrixDisplay(cm, display_labels=['easy','moderate', 'hard', 'very hard'])\n",
        "#plt.subplot(1, 2, 1)\n",
        "cmd.plot()\n",
        "print(f'accuracy: {(cnt_correct/cnt)*100:.2f}%')"
      ],
      "metadata": {
        "colab": {
          "base_uri": "https://localhost:8080/",
          "height": 296
        },
        "id": "td3mlxlNxXqF",
        "outputId": "bfb2b553-43ce-46b2-850f-45f57cf0a39d"
      },
      "execution_count": 9,
      "outputs": [
        {
          "output_type": "stream",
          "name": "stdout",
          "text": [
            "accuracy: 83.47%\n"
          ]
        },
        {
          "output_type": "display_data",
          "data": {
            "text/plain": [
              "<Figure size 432x288 with 2 Axes>"
            ],
            "image/png": "[encoded data removed]"
          },
          "metadata": {
            "needs_background": "light"
          }
        }
      ]
    },
    {
      "cell_type": "code",
      "source": [
        "y_new = np.array(y_new)\n",
        "plt.hist(y_new)\n",
        "#plt.title('0->[0,2000) : 1->[2000,99999]')\n",
        "plt.show()"
      ],
      "metadata": {
        "id": "a_uXCro7BbBx",
        "outputId": "a280e57f-f340-48af-c276-79997e862216",
        "colab": {
          "base_uri": "https://localhost:8080/",
          "height": 265
        }
      },
      "execution_count": 10,
      "outputs": [
        {
          "output_type": "display_data",
          "data": {
            "text/plain": [
              "<Figure size 432x288 with 1 Axes>"
            ],
            "image/png": "[encoded data removed]"
          },
          "metadata": {
            "needs_background": "light"
          }
        }
      ]
    },
    {
      "cell_type": "code",
      "source": [
        "import matplotlib.pyplot as plt \n",
        "from sklearn.preprocessing import LabelBinarizer\n",
        "from sklearn.metrics import roc_curve, auc, roc_auc_score\n",
        "\n",
        "\n",
        "target= ['easy', 'moderate', 'hard', 'very hard']\n",
        "\n",
        "fig, c_ax = plt.subplots(1,1, figsize = (12, 8))\n",
        "\n",
        "def multiclass_roc_auc_score(y_test, y_pred, average=\"macro\"):\n",
        "    lb = LabelBinarizer()\n",
        "    lb.fit(y_test)\n",
        "    y_test = lb.transform(y_test)\n",
        "    y_pred = lb.transform(y_pred)\n",
        "\n",
        "    for (idx, c_label) in enumerate(target):\n",
        "        fpr, tpr, thresholds = roc_curve(y_test[:,idx].astype(int), y_pred[:,idx])\n",
        "        c_ax.plot(fpr, tpr, label = '%s (AUC:%0.2f)'  % (c_label, auc(fpr, tpr)))\n",
        "    c_ax.plot(fpr, fpr, 'b-', label = 'Random Guessing')\n",
        "    return roc_auc_score(y_test, y_pred, average=average)\n",
        "\n",
        "\n",
        "print('ROC AUC score:', multiclass_roc_auc_score(true_y, pred_))\n",
        "\n",
        "c_ax.legend()\n",
        "c_ax.set_xlabel('False Positive Rate')\n",
        "c_ax.set_ylabel('True Positive Rate')\n",
        "plt.grid()\n",
        "plt.show()"
      ],
      "metadata": {
        "id": "ilN2NeRZ-wOR",
        "outputId": "1cab6057-8e17-4ccc-e326-fff13b36f400",
        "colab": {
          "base_uri": "https://localhost:8080/",
          "height": 514
        }
      },
      "execution_count": 11,
      "outputs": [
        {
          "output_type": "stream",
          "name": "stdout",
          "text": [
            "ROC AUC score: 0.8819063395197881\n"
          ]
        },
        {
          "output_type": "display_data",
          "data": {
            "text/plain": [
              "<Figure size 864x576 with 1 Axes>"
            ],
            "image/png": "[encoded data removed]"
          },
          "metadata": {
            "needs_background": "light"
          }
        }
      ]
    }
  ]
}