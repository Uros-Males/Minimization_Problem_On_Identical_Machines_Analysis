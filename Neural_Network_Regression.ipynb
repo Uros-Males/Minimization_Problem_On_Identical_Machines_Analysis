{
  "nbformat": 4,
  "nbformat_minor": 0,
  "metadata": {
    "colab": {
      "name": "Neural_Network_Regression.ipynb",
      "provenance": [],
      "authorship_tag": "ABX9TyN1iFfIF/XbgrtYmQ1qjnyV",
      "include_colab_link": true
    },
    "kernelspec": {
      "name": "python3",
      "display_name": "Python 3"
    },
    "language_info": {
      "name": "python"
    }
  },
  "cells": [
    {
      "cell_type": "markdown",
      "metadata": {
        "id": "view-in-github",
        "colab_type": "text"
      },
      "source": [
        "<a href=\"https://colab.research.google.com/github/Uros-Males/Minimization_Problem_On_Identical_Machines_Analysis/blob/main/Neural_Network_Regression.ipynb\" target=\"_parent\"><img src=\"https://colab.research.google.com/assets/colab-badge.svg\" alt=\"Open In Colab\"/></a>"
      ]
    },
    {
      "cell_type": "code",
      "execution_count": 1,
      "metadata": {
        "id": "YiQcuNkDxHUf",
        "colab": {
          "base_uri": "https://localhost:8080/"
        },
        "outputId": "b2037fae-8465-4049-c789-278a84ec64f5"
      },
      "outputs": [
        {
          "output_type": "stream",
          "name": "stdout",
          "text": [
            "8750\n"
          ]
        }
      ],
      "source": [
        "#IN PROGRESS....\n",
        "import pandas as pd\n",
        "import numpy as np\n",
        "import matplotlib.pyplot as plt\n",
        "from sklearn import tree\n",
        "from sklearn.model_selection import train_test_split\n",
        "from sklearn.tree import DecisionTreeRegressor\n",
        "import time\n",
        "\n",
        "df = pd.read_csv('/content/sample_data/C-instances-runtime-analysis.csv')\n",
        "print(df.shape[0])\n",
        "\n",
        "shuffled = df.sample(frac=1).reset_index()\n",
        "\n",
        "columns_dont_want = ['y', 'index', 'inst.name', 'CPLEXStatus','type']\n",
        "select = [x for x in shuffled.columns if x not in columns_dont_want]\n",
        "\n",
        "X = shuffled.loc[:, select]\n",
        "\n",
        "y = shuffled.loc[:,'y']"
      ]
    },
    {
      "cell_type": "code",
      "source": [
        "X_modified = X.drop(['max', 'n/m', '(n/m)^2', '(n/m)^3', 'm/n', '(m/n)^2', '(m/n)^3', 'class', 'av.length'], axis = 1)"
      ],
      "metadata": {
        "id": "Jzlk_oaRyQjm"
      },
      "execution_count": 2,
      "outputs": []
    },
    {
      "cell_type": "code",
      "source": [
        "from keras.models import Sequential\n",
        "from keras.layers import Dense ,Dropout,BatchNormalization\n",
        "from keras.layers import Dense\n",
        "from keras.wrappers.scikit_learn import KerasRegressor\n",
        "from sklearn.model_selection import cross_val_score\n",
        "\n",
        "from keras.layers import Activation\n",
        "from keras import backend as K\n",
        "from keras.utils.generic_utils import get_custom_objects\n",
        "\n",
        "import tensorflow\n",
        "from tensorflow import keras \n",
        "\n",
        "\n",
        "def custom_activation(x):\n",
        "    return 99999*1/(1+K.exp(-x))\n",
        "\n",
        "get_custom_objects().update({'custom_activation': Activation(custom_activation)})\n",
        "\n",
        "def make_model():\n",
        "    model = Sequential()\n",
        "    \n",
        "    model.add(Dense(8, input_dim=X_modified.shape[1], activation='relu'))\n",
        "    #model.add(Dropout(0.25))\n",
        "    \n",
        "    \n",
        "    model.add(Dense(16, activation='relu'))\n",
        "    #model.add(Dropout(0.25))\n",
        "\n",
        "    model.add(Dense(8, activation='relu'))\n",
        "    #model.add(Dropout(0.15))\n",
        "    \n",
        "    model.add(Dense(4, activation='relu'))\n",
        "    \n",
        "    model.add(Dense(1, activation = custom_activation))\n",
        "    #model.add(Activation(custom_activation, name='SpecialActivation'))\n",
        "    model.compile(loss='mean_squared_error', optimizer=tensorflow.keras.optimizers.Adam(clipnorm=1))\n",
        "    return model"
      ],
      "metadata": {
        "id": "7_m2qFDRya94"
      },
      "execution_count": 3,
      "outputs": []
    },
    {
      "cell_type": "code",
      "source": [
        "from sklearn.preprocessing import MinMaxScaler\n",
        "scaler =  MinMaxScaler()\n",
        "\n",
        "X_train, X_test, y_train, y_test = train_test_split(X_modified, y, random_state=0, train_size = 0.83)\n",
        "\n",
        "X_train = scaler.fit_transform(X_train)\n",
        "X_test = scaler.fit_transform(X_test)\n",
        "\n",
        "estimator = KerasRegressor(build_fn=make_model, epochs=300, batch_size=32, verbose=1)\n",
        "\n",
        "#history=estimator.fit(X_train,y_train)\n",
        "from keras.metrics import accuracy\n",
        "from keras import callbacks\n",
        "earlystopping = callbacks.EarlyStopping(monitor =\"val_loss\", \n",
        "                                        mode =\"min\", patience = 25, \n",
        "                                        restore_best_weights = True)\n",
        "  \n",
        "history = estimator.fit(X_train, y_train, validation_data =(X_test, y_test), \n",
        "                    callbacks =[earlystopping])\n",
        "#plt.plot(history.history['val_accuracy'])"
      ],
      "metadata": {
        "colab": {
          "base_uri": "https://localhost:8080/"
        },
        "id": "2JHin8gI5ftQ",
        "outputId": "2cacf2f4-b359-44bf-fac3-7c71699fdea4"
      },
      "execution_count": 4,
      "outputs": [
        {
          "output_type": "stream",
          "name": "stderr",
          "text": [
            "/usr/local/lib/python3.7/dist-packages/ipykernel_launcher.py:9: DeprecationWarning: KerasRegressor is deprecated, use Sci-Keras (https://github.com/adriangb/scikeras) instead. See https://www.adriangb.com/scikeras/stable/migration.html for help migrating.\n",
            "  if __name__ == '__main__':\n"
          ]
        },
        {
          "output_type": "stream",
          "name": "stdout",
          "text": [
            "Epoch 1/300\n",
            "227/227 [==============================] - 3s 5ms/step - loss: 1683202048.0000 - val_loss: 1074517248.0000\n",
            "Epoch 2/300\n",
            "227/227 [==============================] - 1s 5ms/step - loss: 746123072.0000 - val_loss: 458605696.0000\n",
            "Epoch 3/300\n",
            "227/227 [==============================] - 1s 5ms/step - loss: 368785664.0000 - val_loss: 352326944.0000\n",
            "Epoch 4/300\n",
            "227/227 [==============================] - 1s 5ms/step - loss: 323032512.0000 - val_loss: 332866624.0000\n",
            "Epoch 5/300\n",
            "227/227 [==============================] - 1s 5ms/step - loss: 310608672.0000 - val_loss: 302472448.0000\n",
            "Epoch 6/300\n",
            "227/227 [==============================] - 1s 5ms/step - loss: 309160480.0000 - val_loss: 364430400.0000\n",
            "Epoch 7/300\n",
            "227/227 [==============================] - 1s 5ms/step - loss: 309781088.0000 - val_loss: 296250624.0000\n",
            "Epoch 8/300\n",
            "227/227 [==============================] - 1s 5ms/step - loss: 300615904.0000 - val_loss: 323432352.0000\n",
            "Epoch 9/300\n",
            "227/227 [==============================] - 1s 5ms/step - loss: 291855680.0000 - val_loss: 327958976.0000\n",
            "Epoch 10/300\n",
            "227/227 [==============================] - 1s 5ms/step - loss: 300236640.0000 - val_loss: 314869312.0000\n",
            "Epoch 11/300\n",
            "227/227 [==============================] - 1s 6ms/step - loss: 298833088.0000 - val_loss: 320471904.0000\n",
            "Epoch 12/300\n",
            "227/227 [==============================] - 1s 6ms/step - loss: 295541856.0000 - val_loss: 295751648.0000\n",
            "Epoch 13/300\n",
            "227/227 [==============================] - 1s 5ms/step - loss: 292858080.0000 - val_loss: 305712928.0000\n",
            "Epoch 14/300\n",
            "227/227 [==============================] - 1s 5ms/step - loss: 293114720.0000 - val_loss: 295747360.0000\n",
            "Epoch 15/300\n",
            "227/227 [==============================] - 1s 5ms/step - loss: 284759744.0000 - val_loss: 307324512.0000\n",
            "Epoch 16/300\n",
            "227/227 [==============================] - 1s 4ms/step - loss: 282502784.0000 - val_loss: 284237568.0000\n",
            "Epoch 17/300\n",
            "227/227 [==============================] - 1s 5ms/step - loss: 281912928.0000 - val_loss: 275494176.0000\n",
            "Epoch 18/300\n",
            "227/227 [==============================] - 1s 6ms/step - loss: 282205280.0000 - val_loss: 314648384.0000\n",
            "Epoch 19/300\n",
            "227/227 [==============================] - 1s 5ms/step - loss: 291216800.0000 - val_loss: 311084512.0000\n",
            "Epoch 20/300\n",
            "227/227 [==============================] - 1s 2ms/step - loss: 276852320.0000 - val_loss: 268803136.0000\n",
            "Epoch 21/300\n",
            "227/227 [==============================] - 1s 2ms/step - loss: 271401600.0000 - val_loss: 267224256.0000\n",
            "Epoch 22/300\n",
            "227/227 [==============================] - 1s 2ms/step - loss: 269085312.0000 - val_loss: 293743232.0000\n",
            "Epoch 23/300\n",
            "227/227 [==============================] - 1s 2ms/step - loss: 276592448.0000 - val_loss: 261175120.0000\n",
            "Epoch 24/300\n",
            "227/227 [==============================] - 1s 2ms/step - loss: 260161136.0000 - val_loss: 273955072.0000\n",
            "Epoch 25/300\n",
            "227/227 [==============================] - 1s 2ms/step - loss: 266567616.0000 - val_loss: 331748096.0000\n",
            "Epoch 26/300\n",
            "227/227 [==============================] - 1s 2ms/step - loss: 261412512.0000 - val_loss: 247842192.0000\n",
            "Epoch 27/300\n",
            "227/227 [==============================] - 1s 2ms/step - loss: 257035072.0000 - val_loss: 314902080.0000\n",
            "Epoch 28/300\n",
            "227/227 [==============================] - 1s 2ms/step - loss: 260841424.0000 - val_loss: 236172608.0000\n",
            "Epoch 29/300\n",
            "227/227 [==============================] - 1s 2ms/step - loss: 262890816.0000 - val_loss: 250515104.0000\n",
            "Epoch 30/300\n",
            "227/227 [==============================] - 1s 3ms/step - loss: 253208608.0000 - val_loss: 239801072.0000\n",
            "Epoch 31/300\n",
            "227/227 [==============================] - 1s 2ms/step - loss: 247608832.0000 - val_loss: 255176896.0000\n",
            "Epoch 32/300\n",
            "227/227 [==============================] - 1s 2ms/step - loss: 246749360.0000 - val_loss: 227223536.0000\n",
            "Epoch 33/300\n",
            "227/227 [==============================] - 1s 2ms/step - loss: 234745824.0000 - val_loss: 227348240.0000\n",
            "Epoch 34/300\n",
            "227/227 [==============================] - 1s 2ms/step - loss: 246209712.0000 - val_loss: 252951504.0000\n",
            "Epoch 35/300\n",
            "227/227 [==============================] - 1s 2ms/step - loss: 234410128.0000 - val_loss: 239816944.0000\n",
            "Epoch 36/300\n",
            "227/227 [==============================] - 1s 2ms/step - loss: 245005248.0000 - val_loss: 222920992.0000\n",
            "Epoch 37/300\n",
            "227/227 [==============================] - 1s 2ms/step - loss: 234449872.0000 - val_loss: 294010176.0000\n",
            "Epoch 38/300\n",
            "227/227 [==============================] - 1s 2ms/step - loss: 246684144.0000 - val_loss: 222186240.0000\n",
            "Epoch 39/300\n",
            "227/227 [==============================] - 1s 2ms/step - loss: 234416912.0000 - val_loss: 216888272.0000\n",
            "Epoch 40/300\n",
            "227/227 [==============================] - 1s 2ms/step - loss: 227493152.0000 - val_loss: 232913728.0000\n",
            "Epoch 41/300\n",
            "227/227 [==============================] - 1s 2ms/step - loss: 233034480.0000 - val_loss: 217521888.0000\n",
            "Epoch 42/300\n",
            "227/227 [==============================] - 1s 2ms/step - loss: 236348016.0000 - val_loss: 217009520.0000\n",
            "Epoch 43/300\n",
            "227/227 [==============================] - 1s 2ms/step - loss: 240746224.0000 - val_loss: 258362800.0000\n",
            "Epoch 44/300\n",
            "227/227 [==============================] - 1s 2ms/step - loss: 246832336.0000 - val_loss: 216644512.0000\n",
            "Epoch 45/300\n",
            "227/227 [==============================] - 1s 2ms/step - loss: 229072016.0000 - val_loss: 246515984.0000\n",
            "Epoch 46/300\n",
            "227/227 [==============================] - 1s 2ms/step - loss: 236323792.0000 - val_loss: 238493824.0000\n",
            "Epoch 47/300\n",
            "227/227 [==============================] - 1s 2ms/step - loss: 258167360.0000 - val_loss: 235746080.0000\n",
            "Epoch 48/300\n",
            "227/227 [==============================] - 1s 2ms/step - loss: 232400464.0000 - val_loss: 261603856.0000\n",
            "Epoch 49/300\n",
            "227/227 [==============================] - 1s 2ms/step - loss: 240830704.0000 - val_loss: 280323552.0000\n",
            "Epoch 50/300\n",
            "227/227 [==============================] - 1s 2ms/step - loss: 247368080.0000 - val_loss: 234918832.0000\n",
            "Epoch 51/300\n",
            "227/227 [==============================] - 1s 2ms/step - loss: 236155968.0000 - val_loss: 225522896.0000\n",
            "Epoch 52/300\n",
            "227/227 [==============================] - 1s 2ms/step - loss: 248291328.0000 - val_loss: 248869920.0000\n",
            "Epoch 53/300\n",
            "227/227 [==============================] - 1s 2ms/step - loss: 231071904.0000 - val_loss: 232296048.0000\n",
            "Epoch 54/300\n",
            "227/227 [==============================] - 1s 2ms/step - loss: 242491088.0000 - val_loss: 244267472.0000\n",
            "Epoch 55/300\n",
            "227/227 [==============================] - 1s 2ms/step - loss: 233343024.0000 - val_loss: 247463664.0000\n",
            "Epoch 56/300\n",
            "227/227 [==============================] - 1s 2ms/step - loss: 234555968.0000 - val_loss: 252560752.0000\n",
            "Epoch 57/300\n",
            "227/227 [==============================] - 1s 2ms/step - loss: 240925872.0000 - val_loss: 258988096.0000\n",
            "Epoch 58/300\n",
            "227/227 [==============================] - 1s 2ms/step - loss: 233738672.0000 - val_loss: 227654336.0000\n",
            "Epoch 59/300\n",
            "227/227 [==============================] - 1s 2ms/step - loss: 233125888.0000 - val_loss: 248037904.0000\n",
            "Epoch 60/300\n",
            "227/227 [==============================] - 1s 2ms/step - loss: 237623712.0000 - val_loss: 231546336.0000\n",
            "Epoch 61/300\n",
            "227/227 [==============================] - 1s 2ms/step - loss: 224311824.0000 - val_loss: 256693568.0000\n",
            "Epoch 62/300\n",
            "227/227 [==============================] - 1s 2ms/step - loss: 239018992.0000 - val_loss: 224199824.0000\n",
            "Epoch 63/300\n",
            "227/227 [==============================] - 1s 2ms/step - loss: 232747264.0000 - val_loss: 273304160.0000\n",
            "Epoch 64/300\n",
            "227/227 [==============================] - 1s 2ms/step - loss: 242332336.0000 - val_loss: 247003552.0000\n",
            "Epoch 65/300\n",
            "227/227 [==============================] - 1s 2ms/step - loss: 236151264.0000 - val_loss: 224930560.0000\n",
            "Epoch 66/300\n",
            "227/227 [==============================] - 1s 2ms/step - loss: 231055136.0000 - val_loss: 261443056.0000\n",
            "Epoch 67/300\n",
            "227/227 [==============================] - 1s 2ms/step - loss: 235212608.0000 - val_loss: 256618304.0000\n",
            "Epoch 68/300\n",
            "227/227 [==============================] - 1s 2ms/step - loss: 239768080.0000 - val_loss: 302821376.0000\n",
            "Epoch 69/300\n",
            "227/227 [==============================] - 1s 2ms/step - loss: 239406848.0000 - val_loss: 228558096.0000\n"
          ]
        }
      ]
    },
    {
      "cell_type": "code",
      "source": [
        "plt.plot(history.history['loss'])"
      ],
      "metadata": {
        "colab": {
          "base_uri": "https://localhost:8080/",
          "height": 293
        },
        "id": "jG1I_-jh7fu0",
        "outputId": "3afcc915-a5f7-40b2-9edb-ed291b7591c6"
      },
      "execution_count": 5,
      "outputs": [
        {
          "output_type": "execute_result",
          "data": {
            "text/plain": [
              "[<matplotlib.lines.Line2D at 0x7fad820e2210>]"
            ]
          },
          "metadata": {},
          "execution_count": 5
        },
        {
          "output_type": "display_data",
          "data": {
            "text/plain": [
              "<Figure size 432x288 with 1 Axes>"
            ],
            "image/png": "[encoded data removed]"
          },
          "metadata": {
            "needs_background": "light"
          }
        }
      ]
    },
    {
      "cell_type": "code",
      "source": [
        "from sklearn.metrics import r2_score\n",
        "prediction = estimator.predict(X_test)\n",
        "print(\"r_square score: \", r2_score(y_test,prediction))\n",
        "yy = np.array(y_test)\n",
        "predd = np.array(prediction)\n",
        "for i in range(10):\n",
        "  print(\"real value of y_test: \" + str(yy[i]) + \" -> the predict: \" + str(predd[i]))"
      ],
      "metadata": {
        "colab": {
          "base_uri": "https://localhost:8080/"
        },
        "id": "PnQXNvh3-rVR",
        "outputId": "5d9120b6-2d24-4ca7-a4ca-892e4e4562b1"
      },
      "execution_count": 6,
      "outputs": [
        {
          "output_type": "stream",
          "name": "stdout",
          "text": [
            "47/47 [==============================] - 0s 1ms/step\n",
            "r_square score:  0.8486160580580784\n",
            "real value of y_test: 8.220417 -> the predict: 0.02882789\n",
            "real value of y_test: 30.228708 -> the predict: 10.923758\n",
            "real value of y_test: 50.468163 -> the predict: 343.02524\n",
            "real value of y_test: 99999.0 -> the predict: 92324.414\n",
            "real value of y_test: 77.675598 -> the predict: 18.015327\n",
            "real value of y_test: 29.797169 -> the predict: 10.94411\n",
            "real value of y_test: 53.971336 -> the predict: 14.690141\n",
            "real value of y_test: 7.049716 -> the predict: 22.179386\n",
            "real value of y_test: 99999.0 -> the predict: 90667.734\n",
            "real value of y_test: 2.514874 -> the predict: 3.4916024\n"
          ]
        }
      ]
    },
    {
      "cell_type": "code",
      "source": [
        "from sklearn.metrics import mean_squared_error\n",
        "from math import sqrt\n",
        "\n",
        "print(\"RMSE:\")\n",
        "sqrt(mean_squared_error(yy, predd)) "
      ],
      "metadata": {
        "colab": {
          "base_uri": "https://localhost:8080/"
        },
        "id": "OSyzIFK5uzHP",
        "outputId": "e2f0b14b-f84b-43f5-8c3a-39e796182955"
      },
      "execution_count": 7,
      "outputs": [
        {
          "output_type": "stream",
          "name": "stdout",
          "text": [
            "RMSE:\n"
          ]
        },
        {
          "output_type": "execute_result",
          "data": {
            "text/plain": [
              "14718.849618799999"
            ]
          },
          "metadata": {},
          "execution_count": 7
        }
      ]
    }
  ]
}