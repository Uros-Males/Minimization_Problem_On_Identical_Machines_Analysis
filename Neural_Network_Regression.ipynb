{
  "nbformat": 4,
  "nbformat_minor": 0,
  "metadata": {
    "colab": {
      "name": "Neural_Network_Regression.ipynb",
      "provenance": [],
      "authorship_tag": "ABX9TyOLXql92ebQIAKmbxNMfGJ1",
      "include_colab_link": true
    },
    "kernelspec": {
      "name": "python3",
      "display_name": "Python 3"
    },
    "language_info": {
      "name": "python"
    }
  },
  "cells": [
    {
      "cell_type": "markdown",
      "metadata": {
        "id": "view-in-github",
        "colab_type": "text"
      },
      "source": [
        "<a href=\"https://colab.research.google.com/github/Uros-Males/Minimization_Problem_On_Identical_Machines_Analysis/blob/main/Neural_Network_Regression.ipynb\" target=\"_parent\"><img src=\"https://colab.research.google.com/assets/colab-badge.svg\" alt=\"Open In Colab\"/></a>"
      ]
    },
    {
      "cell_type": "code",
      "execution_count": 1,
      "metadata": {
        "id": "YiQcuNkDxHUf",
        "colab": {
          "base_uri": "https://localhost:8080/"
        },
        "outputId": "c5dba561-83cd-41e8-f72d-2b15d7aff49a"
      },
      "outputs": [
        {
          "output_type": "stream",
          "name": "stdout",
          "text": [
            "8750\n"
          ]
        }
      ],
      "source": [
        "#IN PROGRESS....\n",
        "import pandas as pd\n",
        "import numpy as np\n",
        "import matplotlib.pyplot as plt\n",
        "from sklearn import tree\n",
        "from sklearn.model_selection import train_test_split\n",
        "from sklearn.tree import DecisionTreeRegressor\n",
        "import time\n",
        "\n",
        "df = pd.read_csv('/content/sample_data/C-instances-runtime-analysis.csv')\n",
        "print(df.shape[0])\n",
        "\n",
        "shuffled = df.sample(frac=1).reset_index()\n",
        "\n",
        "columns_dont_want = ['y', 'index', 'inst.name','type', 'CPLEXStatus']\n",
        "select = [x for x in shuffled.columns if x not in columns_dont_want]\n",
        "\n",
        "X = shuffled.loc[:, select]\n",
        "\n",
        "y = shuffled.loc[:,'y']"
      ]
    },
    {
      "cell_type": "code",
      "source": [
        "X_modified = X.drop(['class','m','subtype', '(n/m)^3', '(m/n)^3', '(m/n)^2'], axis=1)\n",
        "#X_modified = X.drop(['max', 'n/m', '(n/m)^2', '(n/m)^3', 'm/n', '(m/n)^2', '(m/n)^3', 'class', 'av.length'], axis = 1)"
      ],
      "metadata": {
        "id": "Jzlk_oaRyQjm"
      },
      "execution_count": 2,
      "outputs": []
    },
    {
      "cell_type": "code",
      "source": [
        "from keras.models import Sequential\n",
        "from keras.layers import Dense ,Dropout,BatchNormalization\n",
        "from keras.layers import Dense\n",
        "from keras.wrappers.scikit_learn import KerasRegressor\n",
        "from sklearn.model_selection import cross_val_score\n",
        "\n",
        "from keras.layers import Activation\n",
        "from keras import backend as K\n",
        "from keras.utils.generic_utils import get_custom_objects\n",
        "\n",
        "import tensorflow\n",
        "from tensorflow import keras \n",
        "\n",
        "\n",
        "def custom_activation(x):\n",
        "    #return K.relu(tensorflow.subtract(x,-1)) - K.relu(tensorflow.subtract(x,1))\n",
        "    return 99999*1/(1+K.exp(-x))\n",
        "\n",
        "get_custom_objects().update({'custom_activation': Activation(custom_activation)})\n",
        "\n",
        "def make_model():\n",
        "    model = Sequential()\n",
        "    \n",
        "    model.add(Dense(8, input_dim=X_modified.shape[1], activation='relu'))\n",
        "    #model.add(Dropout(0.25))\n",
        "    \n",
        "    model.add(Dense(16, activation = 'relu'))\n",
        "\n",
        "    #classifier.add(Dense(32, activation = 'relu'))\n",
        "    #classifier.add(Dense(32, activation = 'relu'))\n",
        "    #classifier.add(Dense(16, activation = 'relu'))\n",
        "\n",
        "    model.add(Dense(32, activation='relu'))\n",
        "\n",
        "    model.add(Dense(64, activation='relu'))\n",
        "\n",
        "    model.add(Dense(16, activation='relu'))\n",
        "    \n",
        "    model.add(Dense(1, activation = custom_activation))\n",
        "    #model.add(Activation(custom_activation, name='SpecialActivation'))\n",
        "    model.compile(loss='mean_squared_error', optimizer=tensorflow.keras.optimizers.Adam(clipnorm=1))\n",
        "    #model.compile(loss='mean_squared_error', optimizer='RMSProp')\n",
        "\n",
        "    return model"
      ],
      "metadata": {
        "id": "7_m2qFDRya94"
      },
      "execution_count": 3,
      "outputs": []
    },
    {
      "cell_type": "code",
      "source": [
        "from sklearn import preprocessing\n",
        "\n",
        "from sklearn.preprocessing import StandardScaler\n",
        "\n",
        "sc = StandardScaler()\n",
        "sc2 = StandardScaler()\n",
        "\n",
        "X_train, X_test, y_train, y_test = train_test_split(X_modified, y, random_state=0, train_size = 0.8)\n",
        "\n",
        "X_train = sc.fit_transform(X_train)\n",
        "X_test = sc.transform(X_test)\n",
        "\n",
        "#y_train = sc2.fit_transform(y_train.values.reshape(-1,1))\n",
        "#y_test = sc2.transform(y_test.values.reshape(-1,1))\n",
        "\n",
        "estimator = KerasRegressor(build_fn=make_model, epochs=800, batch_size=128, verbose=1)\n",
        "\n",
        "#history=estimator.fit(X_train,y_train)\n",
        "from keras.metrics import accuracy\n",
        "from keras import callbacks\n",
        "earlystopping = callbacks.EarlyStopping(monitor =\"val_loss\", \n",
        "                                        mode =\"min\", patience = 50, \n",
        "                                        restore_best_weights = True)\n",
        "  \n",
        "history = estimator.fit(X_train, y_train, validation_data =(X_test, y_test), \n",
        "                    callbacks =[earlystopping])\n",
        "#plt.plot(history.history['val_accuracy'])"
      ],
      "metadata": {
        "colab": {
          "base_uri": "https://localhost:8080/"
        },
        "id": "2JHin8gI5ftQ",
        "outputId": "8841e6a9-c0e0-47f4-da8a-c0227d9d13cc"
      },
      "execution_count": 4,
      "outputs": [
        {
          "output_type": "stream",
          "name": "stdout",
          "text": [
            "Epoch 1/800\n"
          ]
        },
        {
          "output_type": "stream",
          "name": "stderr",
          "text": [
            "/usr/local/lib/python3.7/dist-packages/ipykernel_launcher.py:16: DeprecationWarning: KerasRegressor is deprecated, use Sci-Keras (https://github.com/adriangb/scikeras) instead. See https://www.adriangb.com/scikeras/stable/migration.html for help migrating.\n",
            "  app.launch_new_instance()\n"
          ]
        },
        {
          "output_type": "stream",
          "name": "stdout",
          "text": [
            "55/55 [==============================] - 2s 11ms/step - loss: 1615273216.0000 - val_loss: 781666368.0000\n",
            "Epoch 2/800\n",
            "55/55 [==============================] - 0s 6ms/step - loss: 457879008.0000 - val_loss: 423019744.0000\n",
            "Epoch 3/800\n",
            "55/55 [==============================] - 0s 7ms/step - loss: 304391776.0000 - val_loss: 333174432.0000\n",
            "Epoch 4/800\n",
            "55/55 [==============================] - 0s 5ms/step - loss: 277503776.0000 - val_loss: 312082784.0000\n",
            "Epoch 5/800\n",
            "55/55 [==============================] - 0s 6ms/step - loss: 257582384.0000 - val_loss: 295732608.0000\n",
            "Epoch 6/800\n",
            "55/55 [==============================] - 0s 6ms/step - loss: 258326496.0000 - val_loss: 281272864.0000\n",
            "Epoch 7/800\n",
            "55/55 [==============================] - 0s 5ms/step - loss: 244326704.0000 - val_loss: 282822208.0000\n",
            "Epoch 8/800\n",
            "55/55 [==============================] - 0s 6ms/step - loss: 238433824.0000 - val_loss: 262374448.0000\n",
            "Epoch 9/800\n",
            "55/55 [==============================] - 0s 6ms/step - loss: 240295680.0000 - val_loss: 255184400.0000\n",
            "Epoch 10/800\n",
            "55/55 [==============================] - 0s 5ms/step - loss: 241489360.0000 - val_loss: 284203648.0000\n",
            "Epoch 11/800\n",
            "55/55 [==============================] - 0s 6ms/step - loss: 226913632.0000 - val_loss: 255655360.0000\n",
            "Epoch 12/800\n",
            "55/55 [==============================] - 0s 6ms/step - loss: 227747200.0000 - val_loss: 245697408.0000\n",
            "Epoch 13/800\n",
            "55/55 [==============================] - 0s 6ms/step - loss: 225161008.0000 - val_loss: 230597744.0000\n",
            "Epoch 14/800\n",
            "55/55 [==============================] - 0s 6ms/step - loss: 222021376.0000 - val_loss: 231936272.0000\n",
            "Epoch 15/800\n",
            "55/55 [==============================] - 0s 7ms/step - loss: 225217968.0000 - val_loss: 226740736.0000\n",
            "Epoch 16/800\n",
            "55/55 [==============================] - 0s 6ms/step - loss: 217425024.0000 - val_loss: 228223488.0000\n",
            "Epoch 17/800\n",
            "55/55 [==============================] - 0s 7ms/step - loss: 217585168.0000 - val_loss: 225138992.0000\n",
            "Epoch 18/800\n",
            "55/55 [==============================] - 0s 7ms/step - loss: 219420880.0000 - val_loss: 241649392.0000\n",
            "Epoch 19/800\n",
            "55/55 [==============================] - 0s 7ms/step - loss: 218073776.0000 - val_loss: 222698624.0000\n",
            "Epoch 20/800\n",
            "55/55 [==============================] - 0s 5ms/step - loss: 212620704.0000 - val_loss: 223745264.0000\n",
            "Epoch 21/800\n",
            "55/55 [==============================] - 0s 6ms/step - loss: 211414768.0000 - val_loss: 243202640.0000\n",
            "Epoch 22/800\n",
            "55/55 [==============================] - 0s 5ms/step - loss: 220550560.0000 - val_loss: 230196400.0000\n",
            "Epoch 23/800\n",
            "55/55 [==============================] - 0s 7ms/step - loss: 211858688.0000 - val_loss: 227369856.0000\n",
            "Epoch 24/800\n",
            "55/55 [==============================] - 0s 7ms/step - loss: 214244992.0000 - val_loss: 215964832.0000\n",
            "Epoch 25/800\n",
            "55/55 [==============================] - 0s 5ms/step - loss: 211130800.0000 - val_loss: 224940816.0000\n",
            "Epoch 26/800\n",
            "55/55 [==============================] - 0s 6ms/step - loss: 208178592.0000 - val_loss: 224107792.0000\n",
            "Epoch 27/800\n",
            "55/55 [==============================] - 0s 6ms/step - loss: 209083936.0000 - val_loss: 222140080.0000\n",
            "Epoch 28/800\n",
            "55/55 [==============================] - 0s 6ms/step - loss: 211332784.0000 - val_loss: 218389856.0000\n",
            "Epoch 29/800\n",
            "55/55 [==============================] - 0s 5ms/step - loss: 210373504.0000 - val_loss: 212401472.0000\n",
            "Epoch 30/800\n",
            "55/55 [==============================] - 0s 6ms/step - loss: 207415616.0000 - val_loss: 237856848.0000\n",
            "Epoch 31/800\n",
            "55/55 [==============================] - 0s 7ms/step - loss: 212752704.0000 - val_loss: 220794368.0000\n",
            "Epoch 32/800\n",
            "55/55 [==============================] - 0s 6ms/step - loss: 208200064.0000 - val_loss: 240686832.0000\n",
            "Epoch 33/800\n",
            "55/55 [==============================] - 0s 5ms/step - loss: 211244656.0000 - val_loss: 222875824.0000\n",
            "Epoch 34/800\n",
            "55/55 [==============================] - 0s 5ms/step - loss: 214841936.0000 - val_loss: 222847680.0000\n",
            "Epoch 35/800\n",
            "55/55 [==============================] - 0s 6ms/step - loss: 206795840.0000 - val_loss: 232007968.0000\n",
            "Epoch 36/800\n",
            "55/55 [==============================] - 0s 6ms/step - loss: 206754576.0000 - val_loss: 211551424.0000\n",
            "Epoch 37/800\n",
            "55/55 [==============================] - 0s 6ms/step - loss: 207381984.0000 - val_loss: 216723040.0000\n",
            "Epoch 38/800\n",
            "55/55 [==============================] - 0s 7ms/step - loss: 208867088.0000 - val_loss: 220469680.0000\n",
            "Epoch 39/800\n",
            "55/55 [==============================] - 0s 6ms/step - loss: 209381616.0000 - val_loss: 223613536.0000\n",
            "Epoch 40/800\n",
            "55/55 [==============================] - 0s 5ms/step - loss: 207458784.0000 - val_loss: 222942768.0000\n",
            "Epoch 41/800\n",
            "55/55 [==============================] - 0s 8ms/step - loss: 206710896.0000 - val_loss: 229371344.0000\n",
            "Epoch 42/800\n",
            "55/55 [==============================] - 0s 7ms/step - loss: 210645280.0000 - val_loss: 221522864.0000\n",
            "Epoch 43/800\n",
            "55/55 [==============================] - 0s 7ms/step - loss: 201629888.0000 - val_loss: 234474704.0000\n",
            "Epoch 44/800\n",
            "55/55 [==============================] - 0s 6ms/step - loss: 210330656.0000 - val_loss: 214883344.0000\n",
            "Epoch 45/800\n",
            "55/55 [==============================] - 0s 6ms/step - loss: 205960992.0000 - val_loss: 219736736.0000\n",
            "Epoch 46/800\n",
            "55/55 [==============================] - 0s 7ms/step - loss: 203652976.0000 - val_loss: 225543392.0000\n",
            "Epoch 47/800\n",
            "55/55 [==============================] - 0s 6ms/step - loss: 208756352.0000 - val_loss: 214556272.0000\n",
            "Epoch 48/800\n",
            "55/55 [==============================] - 0s 6ms/step - loss: 200468976.0000 - val_loss: 221723120.0000\n",
            "Epoch 49/800\n",
            "55/55 [==============================] - 0s 7ms/step - loss: 209263968.0000 - val_loss: 214166128.0000\n",
            "Epoch 50/800\n",
            "55/55 [==============================] - 0s 7ms/step - loss: 208927024.0000 - val_loss: 245667088.0000\n",
            "Epoch 51/800\n",
            "55/55 [==============================] - 0s 7ms/step - loss: 212410416.0000 - val_loss: 218742096.0000\n",
            "Epoch 52/800\n",
            "55/55 [==============================] - 0s 7ms/step - loss: 200820256.0000 - val_loss: 216317392.0000\n",
            "Epoch 53/800\n",
            "55/55 [==============================] - 0s 5ms/step - loss: 202692304.0000 - val_loss: 221381792.0000\n",
            "Epoch 54/800\n",
            "55/55 [==============================] - 0s 6ms/step - loss: 202710720.0000 - val_loss: 217712928.0000\n",
            "Epoch 55/800\n",
            "55/55 [==============================] - 0s 7ms/step - loss: 206780416.0000 - val_loss: 212469184.0000\n",
            "Epoch 56/800\n",
            "55/55 [==============================] - 0s 6ms/step - loss: 206636960.0000 - val_loss: 215350848.0000\n",
            "Epoch 57/800\n",
            "55/55 [==============================] - 0s 5ms/step - loss: 202687376.0000 - val_loss: 214815328.0000\n",
            "Epoch 58/800\n",
            "55/55 [==============================] - 0s 5ms/step - loss: 203102864.0000 - val_loss: 215887008.0000\n",
            "Epoch 59/800\n",
            "55/55 [==============================] - 0s 6ms/step - loss: 208811136.0000 - val_loss: 240841312.0000\n",
            "Epoch 60/800\n",
            "55/55 [==============================] - 0s 6ms/step - loss: 207084592.0000 - val_loss: 210700096.0000\n",
            "Epoch 61/800\n",
            "55/55 [==============================] - 0s 5ms/step - loss: 201613632.0000 - val_loss: 231527472.0000\n",
            "Epoch 62/800\n",
            "55/55 [==============================] - 0s 9ms/step - loss: 205437680.0000 - val_loss: 212660464.0000\n",
            "Epoch 63/800\n",
            "55/55 [==============================] - 0s 8ms/step - loss: 202393024.0000 - val_loss: 213974240.0000\n",
            "Epoch 64/800\n",
            "55/55 [==============================] - 0s 8ms/step - loss: 203238272.0000 - val_loss: 216291552.0000\n",
            "Epoch 65/800\n",
            "55/55 [==============================] - 0s 5ms/step - loss: 200785136.0000 - val_loss: 216012528.0000\n",
            "Epoch 66/800\n",
            "55/55 [==============================] - 0s 5ms/step - loss: 197883088.0000 - val_loss: 219543600.0000\n",
            "Epoch 67/800\n",
            "55/55 [==============================] - 0s 3ms/step - loss: 199630704.0000 - val_loss: 220055888.0000\n",
            "Epoch 68/800\n",
            "55/55 [==============================] - 0s 3ms/step - loss: 203992768.0000 - val_loss: 215015584.0000\n",
            "Epoch 69/800\n",
            "55/55 [==============================] - 0s 3ms/step - loss: 200524896.0000 - val_loss: 223587472.0000\n",
            "Epoch 70/800\n",
            "55/55 [==============================] - 0s 3ms/step - loss: 198124384.0000 - val_loss: 219053392.0000\n",
            "Epoch 71/800\n",
            "55/55 [==============================] - 0s 3ms/step - loss: 198387296.0000 - val_loss: 217786880.0000\n",
            "Epoch 72/800\n",
            "55/55 [==============================] - 0s 3ms/step - loss: 197125424.0000 - val_loss: 215067184.0000\n",
            "Epoch 73/800\n",
            "55/55 [==============================] - 0s 3ms/step - loss: 204115584.0000 - val_loss: 216161104.0000\n",
            "Epoch 74/800\n",
            "55/55 [==============================] - 0s 3ms/step - loss: 199457312.0000 - val_loss: 220064464.0000\n",
            "Epoch 75/800\n",
            "55/55 [==============================] - 0s 3ms/step - loss: 202455952.0000 - val_loss: 217769376.0000\n",
            "Epoch 76/800\n",
            "55/55 [==============================] - 0s 3ms/step - loss: 201642240.0000 - val_loss: 232150848.0000\n",
            "Epoch 77/800\n",
            "55/55 [==============================] - 0s 3ms/step - loss: 202453536.0000 - val_loss: 221236800.0000\n",
            "Epoch 78/800\n",
            "55/55 [==============================] - 0s 3ms/step - loss: 199479168.0000 - val_loss: 217277136.0000\n",
            "Epoch 79/800\n",
            "55/55 [==============================] - 0s 3ms/step - loss: 200703808.0000 - val_loss: 216908096.0000\n",
            "Epoch 80/800\n",
            "55/55 [==============================] - 0s 3ms/step - loss: 195402512.0000 - val_loss: 212939200.0000\n",
            "Epoch 81/800\n",
            "55/55 [==============================] - 0s 3ms/step - loss: 200278112.0000 - val_loss: 215650512.0000\n",
            "Epoch 82/800\n",
            "55/55 [==============================] - 0s 3ms/step - loss: 197488976.0000 - val_loss: 223452064.0000\n",
            "Epoch 83/800\n",
            "55/55 [==============================] - 0s 3ms/step - loss: 199516560.0000 - val_loss: 219319184.0000\n",
            "Epoch 84/800\n",
            "55/55 [==============================] - 0s 3ms/step - loss: 197149584.0000 - val_loss: 214089632.0000\n",
            "Epoch 85/800\n",
            "55/55 [==============================] - 0s 3ms/step - loss: 197078320.0000 - val_loss: 231759152.0000\n",
            "Epoch 86/800\n",
            "55/55 [==============================] - 0s 3ms/step - loss: 198052656.0000 - val_loss: 215445312.0000\n",
            "Epoch 87/800\n",
            "55/55 [==============================] - 0s 3ms/step - loss: 195259472.0000 - val_loss: 220961456.0000\n",
            "Epoch 88/800\n",
            "55/55 [==============================] - 0s 3ms/step - loss: 201209920.0000 - val_loss: 259542432.0000\n",
            "Epoch 89/800\n",
            "55/55 [==============================] - 0s 3ms/step - loss: 206807104.0000 - val_loss: 214630160.0000\n",
            "Epoch 90/800\n",
            "55/55 [==============================] - 0s 3ms/step - loss: 194598848.0000 - val_loss: 224116528.0000\n",
            "Epoch 91/800\n",
            "55/55 [==============================] - 0s 3ms/step - loss: 203634416.0000 - val_loss: 217296048.0000\n",
            "Epoch 92/800\n",
            "55/55 [==============================] - 0s 3ms/step - loss: 196888800.0000 - val_loss: 212392752.0000\n",
            "Epoch 93/800\n",
            "55/55 [==============================] - 0s 3ms/step - loss: 201765632.0000 - val_loss: 216724976.0000\n",
            "Epoch 94/800\n",
            "55/55 [==============================] - 0s 3ms/step - loss: 195308512.0000 - val_loss: 208352096.0000\n",
            "Epoch 95/800\n",
            "55/55 [==============================] - 0s 3ms/step - loss: 193009536.0000 - val_loss: 223304896.0000\n",
            "Epoch 96/800\n",
            "55/55 [==============================] - 0s 3ms/step - loss: 193999008.0000 - val_loss: 214018288.0000\n",
            "Epoch 97/800\n",
            "55/55 [==============================] - 0s 3ms/step - loss: 195919424.0000 - val_loss: 220310784.0000\n",
            "Epoch 98/800\n",
            "55/55 [==============================] - 0s 3ms/step - loss: 194785744.0000 - val_loss: 216417600.0000\n",
            "Epoch 99/800\n",
            "55/55 [==============================] - 0s 3ms/step - loss: 192926144.0000 - val_loss: 219570528.0000\n",
            "Epoch 100/800\n",
            "55/55 [==============================] - 0s 3ms/step - loss: 193899168.0000 - val_loss: 229657152.0000\n",
            "Epoch 101/800\n",
            "55/55 [==============================] - 0s 3ms/step - loss: 195631744.0000 - val_loss: 225044352.0000\n",
            "Epoch 102/800\n",
            "55/55 [==============================] - 0s 3ms/step - loss: 200007312.0000 - val_loss: 224531824.0000\n",
            "Epoch 103/800\n",
            "55/55 [==============================] - 0s 3ms/step - loss: 197413488.0000 - val_loss: 219368160.0000\n",
            "Epoch 104/800\n",
            "55/55 [==============================] - 0s 3ms/step - loss: 193061168.0000 - val_loss: 215982800.0000\n",
            "Epoch 105/800\n",
            "55/55 [==============================] - 0s 3ms/step - loss: 196127600.0000 - val_loss: 210732080.0000\n",
            "Epoch 106/800\n",
            "55/55 [==============================] - 0s 3ms/step - loss: 195890656.0000 - val_loss: 219595216.0000\n",
            "Epoch 107/800\n",
            "55/55 [==============================] - 0s 3ms/step - loss: 195605408.0000 - val_loss: 215897136.0000\n",
            "Epoch 108/800\n",
            "55/55 [==============================] - 0s 3ms/step - loss: 192480816.0000 - val_loss: 219348480.0000\n",
            "Epoch 109/800\n",
            "55/55 [==============================] - 0s 3ms/step - loss: 195369296.0000 - val_loss: 212638240.0000\n",
            "Epoch 110/800\n",
            "55/55 [==============================] - 0s 3ms/step - loss: 193682048.0000 - val_loss: 241134848.0000\n",
            "Epoch 111/800\n",
            "55/55 [==============================] - 0s 3ms/step - loss: 192308656.0000 - val_loss: 227705952.0000\n",
            "Epoch 112/800\n",
            "55/55 [==============================] - 0s 3ms/step - loss: 190225840.0000 - val_loss: 219677488.0000\n",
            "Epoch 113/800\n",
            "55/55 [==============================] - 0s 3ms/step - loss: 192073616.0000 - val_loss: 219132704.0000\n",
            "Epoch 114/800\n",
            "55/55 [==============================] - 0s 3ms/step - loss: 189697440.0000 - val_loss: 219778032.0000\n",
            "Epoch 115/800\n",
            "55/55 [==============================] - 0s 3ms/step - loss: 195158336.0000 - val_loss: 215591552.0000\n",
            "Epoch 116/800\n",
            "55/55 [==============================] - 0s 3ms/step - loss: 190083360.0000 - val_loss: 218344704.0000\n",
            "Epoch 117/800\n",
            "55/55 [==============================] - 0s 3ms/step - loss: 190770800.0000 - val_loss: 213849392.0000\n",
            "Epoch 118/800\n",
            "55/55 [==============================] - 0s 3ms/step - loss: 193554848.0000 - val_loss: 213481984.0000\n",
            "Epoch 119/800\n",
            "55/55 [==============================] - 0s 3ms/step - loss: 191393200.0000 - val_loss: 218936080.0000\n",
            "Epoch 120/800\n",
            "55/55 [==============================] - 0s 3ms/step - loss: 186271776.0000 - val_loss: 227412752.0000\n",
            "Epoch 121/800\n",
            "55/55 [==============================] - 0s 3ms/step - loss: 190088464.0000 - val_loss: 219492752.0000\n",
            "Epoch 122/800\n",
            "55/55 [==============================] - 0s 3ms/step - loss: 192383552.0000 - val_loss: 222794288.0000\n",
            "Epoch 123/800\n",
            "55/55 [==============================] - 0s 3ms/step - loss: 186159648.0000 - val_loss: 212932832.0000\n",
            "Epoch 124/800\n",
            "55/55 [==============================] - 0s 3ms/step - loss: 190635744.0000 - val_loss: 219325008.0000\n",
            "Epoch 125/800\n",
            "55/55 [==============================] - 0s 3ms/step - loss: 190235728.0000 - val_loss: 218771440.0000\n",
            "Epoch 126/800\n",
            "55/55 [==============================] - 0s 3ms/step - loss: 187226752.0000 - val_loss: 217785072.0000\n",
            "Epoch 127/800\n",
            "55/55 [==============================] - 0s 3ms/step - loss: 186325472.0000 - val_loss: 225662400.0000\n",
            "Epoch 128/800\n",
            "55/55 [==============================] - 0s 3ms/step - loss: 192416960.0000 - val_loss: 217048240.0000\n",
            "Epoch 129/800\n",
            "55/55 [==============================] - 0s 3ms/step - loss: 189770416.0000 - val_loss: 216362128.0000\n",
            "Epoch 130/800\n",
            "55/55 [==============================] - 0s 3ms/step - loss: 187875472.0000 - val_loss: 219095008.0000\n",
            "Epoch 131/800\n",
            "55/55 [==============================] - 0s 3ms/step - loss: 192976736.0000 - val_loss: 247046704.0000\n",
            "Epoch 132/800\n",
            "55/55 [==============================] - 0s 3ms/step - loss: 196501200.0000 - val_loss: 219532224.0000\n",
            "Epoch 133/800\n",
            "55/55 [==============================] - 0s 3ms/step - loss: 187093472.0000 - val_loss: 223093488.0000\n",
            "Epoch 134/800\n",
            "55/55 [==============================] - 0s 3ms/step - loss: 187033184.0000 - val_loss: 222116368.0000\n",
            "Epoch 135/800\n",
            "55/55 [==============================] - 0s 3ms/step - loss: 185317344.0000 - val_loss: 224016192.0000\n",
            "Epoch 136/800\n",
            "55/55 [==============================] - 0s 3ms/step - loss: 192700832.0000 - val_loss: 222844736.0000\n",
            "Epoch 137/800\n",
            "55/55 [==============================] - 0s 3ms/step - loss: 188377408.0000 - val_loss: 219821840.0000\n",
            "Epoch 138/800\n",
            "55/55 [==============================] - 0s 3ms/step - loss: 189070464.0000 - val_loss: 220764640.0000\n",
            "Epoch 139/800\n",
            "55/55 [==============================] - 0s 3ms/step - loss: 190182400.0000 - val_loss: 221580432.0000\n",
            "Epoch 140/800\n",
            "55/55 [==============================] - 0s 3ms/step - loss: 186635376.0000 - val_loss: 216064048.0000\n",
            "Epoch 141/800\n",
            "55/55 [==============================] - 0s 3ms/step - loss: 185980640.0000 - val_loss: 221055856.0000\n",
            "Epoch 142/800\n",
            "55/55 [==============================] - 0s 3ms/step - loss: 185562512.0000 - val_loss: 217272640.0000\n",
            "Epoch 143/800\n",
            "55/55 [==============================] - 0s 3ms/step - loss: 185732416.0000 - val_loss: 218870928.0000\n",
            "Epoch 144/800\n",
            "55/55 [==============================] - 0s 3ms/step - loss: 182998880.0000 - val_loss: 222902272.0000\n"
          ]
        }
      ]
    },
    {
      "cell_type": "code",
      "source": [
        "plt.plot(history.history['loss'])"
      ],
      "metadata": {
        "colab": {
          "base_uri": "https://localhost:8080/",
          "height": 293
        },
        "id": "jG1I_-jh7fu0",
        "outputId": "c4012a19-1ff5-48bf-ea3c-b7737722e40b"
      },
      "execution_count": 5,
      "outputs": [
        {
          "output_type": "execute_result",
          "data": {
            "text/plain": [
              "[<matplotlib.lines.Line2D at 0x7f80c8879a50>]"
            ]
          },
          "metadata": {},
          "execution_count": 5
        },
        {
          "output_type": "display_data",
          "data": {
            "text/plain": [
              "<Figure size 432x288 with 1 Axes>"
            ],
            "image/png": "[encoded data removed]"
          },
          "metadata": {
            "needs_background": "light"
          }
        }
      ]
    },
    {
      "cell_type": "code",
      "source": [
        "from sklearn.metrics import r2_score\n",
        "prediction = estimator.predict(X_test)\n",
        "print(\"r_square score: \", r2_score(y_test,prediction))\n",
        "#y_test = sc2.inverse_transform(y_test.reshape(-1,1))\n",
        "yy = np.array(y_test)\n",
        "#prediction = sc2.inverse_transform(prediction.reshape(-1,1))\n",
        "predd = np.array(prediction)\n",
        "for i in range(len(yy)):\n",
        "  if(yy[i]-predd[i] > 99000):\n",
        "    print(\"real value of y_test: \" + str(yy[i]) + \" -> the predict: \" + str(predd[i]))"
      ],
      "metadata": {
        "colab": {
          "base_uri": "https://localhost:8080/"
        },
        "id": "PnQXNvh3-rVR",
        "outputId": "17c3eaee-6b0c-4c73-95ab-66dc59a69972"
      },
      "execution_count": 6,
      "outputs": [
        {
          "output_type": "stream",
          "name": "stdout",
          "text": [
            "14/14 [==============================] - 0s 1ms/step\n",
            "r_square score:  0.8451117707998042\n",
            "real value of y_test: 99999.0 -> the predict: 0.5673276\n",
            "real value of y_test: 99999.0 -> the predict: 52.352562\n",
            "real value of y_test: 99999.0 -> the predict: 66.75517\n"
          ]
        }
      ]
    },
    {
      "cell_type": "code",
      "source": [
        "from sklearn.metrics import mean_squared_error\n",
        "from math import sqrt\n",
        "\n",
        "print(\"RMSE:\")\n",
        "sqrt(mean_squared_error(yy, predd)) "
      ],
      "metadata": {
        "colab": {
          "base_uri": "https://localhost:8080/"
        },
        "id": "OSyzIFK5uzHP",
        "outputId": "6bc398fe-5b54-4419-ae1e-96cac930fd8b"
      },
      "execution_count": 7,
      "outputs": [
        {
          "output_type": "stream",
          "name": "stdout",
          "text": [
            "RMSE:\n"
          ]
        },
        {
          "output_type": "execute_result",
          "data": {
            "text/plain": [
              "14434.406235086677"
            ]
          },
          "metadata": {},
          "execution_count": 7
        }
      ]
    }
  ]
}