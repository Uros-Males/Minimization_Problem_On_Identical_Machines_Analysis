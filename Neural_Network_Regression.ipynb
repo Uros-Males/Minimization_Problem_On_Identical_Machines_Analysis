{
  "nbformat": 4,
  "nbformat_minor": 0,
  "metadata": {
    "colab": {
      "name": "Neural_Network_Regression.ipynb",
      "provenance": [],
      "authorship_tag": "ABX9TyPdvUBYSFaX6BBGGbbDaPR5",
      "include_colab_link": true
    },
    "kernelspec": {
      "name": "python3",
      "display_name": "Python 3"
    },
    "language_info": {
      "name": "python"
    }
  },
  "cells": [
    {
      "cell_type": "markdown",
      "metadata": {
        "id": "view-in-github",
        "colab_type": "text"
      },
      "source": [
        "<a href=\"https://colab.research.google.com/github/Uros-Males/Minimization_Problem_On_Identical_Machines_Analysis/blob/main/Neural_Network_Regression.ipynb\" target=\"_parent\"><img src=\"https://colab.research.google.com/assets/colab-badge.svg\" alt=\"Open In Colab\"/></a>"
      ]
    },
    {
      "cell_type": "code",
      "execution_count": 1,
      "metadata": {
        "id": "YiQcuNkDxHUf",
        "colab": {
          "base_uri": "https://localhost:8080/"
        },
        "outputId": "3434cc8f-13c4-4b04-f6d2-dc67760c000e"
      },
      "outputs": [
        {
          "output_type": "stream",
          "name": "stdout",
          "text": [
            "8750\n"
          ]
        }
      ],
      "source": [
        "#IN PROGRESS....\n",
        "import pandas as pd\n",
        "import numpy as np\n",
        "import matplotlib.pyplot as plt\n",
        "from sklearn import tree\n",
        "from sklearn.model_selection import train_test_split\n",
        "from sklearn.tree import DecisionTreeRegressor\n",
        "import time\n",
        "\n",
        "df = pd.read_csv('/content/sample_data/C-instances-runtime-analysis.csv')\n",
        "print(df.shape[0])\n",
        "\n",
        "shuffled = df.sample(frac=1).reset_index()\n",
        "\n",
        "columns_dont_want = ['y', 'index', 'inst.name','type', 'CPLEXStatus']\n",
        "select = [x for x in shuffled.columns if x not in columns_dont_want]\n",
        "\n",
        "X = shuffled.loc[:, select]\n",
        "\n",
        "y = shuffled.loc[:,'y']"
      ]
    },
    {
      "cell_type": "code",
      "source": [
        "X_modified = X\n",
        "#X_modified = X.drop(['max', 'n/m', '(n/m)^2', '(n/m)^3', 'm/n', '(m/n)^2', '(m/n)^3', 'class', 'av.length'], axis = 1)"
      ],
      "metadata": {
        "id": "Jzlk_oaRyQjm"
      },
      "execution_count": 2,
      "outputs": []
    },
    {
      "cell_type": "code",
      "source": [
        "from keras.models import Sequential\n",
        "from keras.layers import Dense ,Dropout,BatchNormalization\n",
        "from keras.layers import Dense\n",
        "from keras.wrappers.scikit_learn import KerasRegressor\n",
        "from sklearn.model_selection import cross_val_score\n",
        "\n",
        "from keras.layers import Activation\n",
        "from keras import backend as K\n",
        "from keras.utils.generic_utils import get_custom_objects\n",
        "\n",
        "import tensorflow\n",
        "from tensorflow import keras \n",
        "\n",
        "\n",
        "def custom_activation(x):\n",
        "    return 99999*1/(1+K.exp(-x))\n",
        "\n",
        "get_custom_objects().update({'custom_activation': Activation(custom_activation)})\n",
        "\n",
        "def make_model():\n",
        "    model = Sequential()\n",
        "    \n",
        "    model.add(Dense(8, input_dim=X_modified.shape[1], activation='relu'))\n",
        "    #model.add(Dropout(0.25))\n",
        "    \n",
        "    model.add(Dense(16, activation = 'relu'))\n",
        "\n",
        "    #classifier.add(Dense(32, activation = 'relu'))\n",
        "    #classifier.add(Dense(32, activation = 'relu'))\n",
        "    #classifier.add(Dense(16, activation = 'relu'))\n",
        "\n",
        "    model.add(Dense(32, activation='relu'))\n",
        "\n",
        "    model.add(Dense(64, activation='relu'))\n",
        "\n",
        "    model.add(Dense(16, activation='relu'))\n",
        "    \n",
        "    model.add(Dense(1, activation = custom_activation))\n",
        "    #model.add(Activation(custom_activation, name='SpecialActivation'))\n",
        "    model.compile(loss='mean_squared_error', optimizer=tensorflow.keras.optimizers.Adam(clipnorm=1))\n",
        "    return model"
      ],
      "metadata": {
        "id": "7_m2qFDRya94"
      },
      "execution_count": 3,
      "outputs": []
    },
    {
      "cell_type": "code",
      "source": [
        "from sklearn.preprocessing import MinMaxScaler\n",
        "scaler =  MinMaxScaler()\n",
        "\n",
        "X_train, X_test, y_train, y_test = train_test_split(X_modified, y, random_state=0, train_size = 0.83)\n",
        "\n",
        "X_train = scaler.fit_transform(X_train)\n",
        "X_test = scaler.fit_transform(X_test)\n",
        "\n",
        "estimator = KerasRegressor(build_fn=make_model, epochs=800, batch_size=32, verbose=1)\n",
        "\n",
        "#history=estimator.fit(X_train,y_train)\n",
        "from keras.metrics import accuracy\n",
        "from keras import callbacks\n",
        "earlystopping = callbacks.EarlyStopping(monitor =\"val_loss\", \n",
        "                                        mode =\"min\", patience = 25, \n",
        "                                        restore_best_weights = True)\n",
        "  \n",
        "history = estimator.fit(X_train, y_train, validation_data =(X_test, y_test), \n",
        "                    callbacks =[earlystopping])\n",
        "#plt.plot(history.history['val_accuracy'])"
      ],
      "metadata": {
        "colab": {
          "base_uri": "https://localhost:8080/"
        },
        "id": "2JHin8gI5ftQ",
        "outputId": "b697d5b6-f77c-4238-faed-95dbcf78c12e"
      },
      "execution_count": 4,
      "outputs": [
        {
          "output_type": "stream",
          "name": "stderr",
          "text": [
            "/usr/local/lib/python3.7/dist-packages/ipykernel_launcher.py:9: DeprecationWarning: KerasRegressor is deprecated, use Sci-Keras (https://github.com/adriangb/scikeras) instead. See https://www.adriangb.com/scikeras/stable/migration.html for help migrating.\n",
            "  if __name__ == '__main__':\n"
          ]
        },
        {
          "output_type": "stream",
          "name": "stdout",
          "text": [
            "Epoch 1/800\n",
            "227/227 [==============================] - 4s 8ms/step - loss: 1026046720.0000 - val_loss: 391764608.0000\n",
            "Epoch 2/800\n",
            "227/227 [==============================] - 1s 6ms/step - loss: 352093568.0000 - val_loss: 281106528.0000\n",
            "Epoch 3/800\n",
            "227/227 [==============================] - 1s 6ms/step - loss: 305729888.0000 - val_loss: 265612688.0000\n",
            "Epoch 4/800\n",
            "227/227 [==============================] - 2s 7ms/step - loss: 290479648.0000 - val_loss: 284482784.0000\n",
            "Epoch 5/800\n",
            "227/227 [==============================] - 2s 7ms/step - loss: 282293952.0000 - val_loss: 226584384.0000\n",
            "Epoch 6/800\n",
            "227/227 [==============================] - 1s 6ms/step - loss: 282509120.0000 - val_loss: 282616064.0000\n",
            "Epoch 7/800\n",
            "227/227 [==============================] - 1s 6ms/step - loss: 259101744.0000 - val_loss: 249773712.0000\n",
            "Epoch 8/800\n",
            "227/227 [==============================] - 1s 6ms/step - loss: 255403520.0000 - val_loss: 232627360.0000\n",
            "Epoch 9/800\n",
            "227/227 [==============================] - 2s 7ms/step - loss: 257917280.0000 - val_loss: 208966176.0000\n",
            "Epoch 10/800\n",
            "227/227 [==============================] - 1s 6ms/step - loss: 272383616.0000 - val_loss: 229401376.0000\n",
            "Epoch 11/800\n",
            "227/227 [==============================] - 2s 8ms/step - loss: 262041280.0000 - val_loss: 229699456.0000\n",
            "Epoch 12/800\n",
            "227/227 [==============================] - 2s 7ms/step - loss: 268721120.0000 - val_loss: 340448288.0000\n",
            "Epoch 13/800\n",
            "227/227 [==============================] - 1s 6ms/step - loss: 261017776.0000 - val_loss: 249032112.0000\n",
            "Epoch 14/800\n",
            "227/227 [==============================] - 2s 9ms/step - loss: 255719232.0000 - val_loss: 210472944.0000\n",
            "Epoch 15/800\n",
            "227/227 [==============================] - 1s 3ms/step - loss: 262077856.0000 - val_loss: 258014528.0000\n",
            "Epoch 16/800\n",
            "227/227 [==============================] - 1s 3ms/step - loss: 255669040.0000 - val_loss: 239427168.0000\n",
            "Epoch 17/800\n",
            "227/227 [==============================] - 1s 3ms/step - loss: 266907680.0000 - val_loss: 220818992.0000\n",
            "Epoch 18/800\n",
            "227/227 [==============================] - 1s 3ms/step - loss: 250151504.0000 - val_loss: 244931712.0000\n",
            "Epoch 19/800\n",
            "227/227 [==============================] - 1s 5ms/step - loss: 243210112.0000 - val_loss: 256640976.0000\n",
            "Epoch 20/800\n",
            "227/227 [==============================] - 1s 4ms/step - loss: 246123888.0000 - val_loss: 252398736.0000\n",
            "Epoch 21/800\n",
            "227/227 [==============================] - 1s 3ms/step - loss: 257157040.0000 - val_loss: 210706128.0000\n",
            "Epoch 22/800\n",
            "227/227 [==============================] - 1s 3ms/step - loss: 250400688.0000 - val_loss: 266096544.0000\n",
            "Epoch 23/800\n",
            "227/227 [==============================] - 1s 3ms/step - loss: 261111552.0000 - val_loss: 259631744.0000\n",
            "Epoch 24/800\n",
            "227/227 [==============================] - 1s 3ms/step - loss: 252152704.0000 - val_loss: 259811136.0000\n",
            "Epoch 25/800\n",
            "227/227 [==============================] - 1s 3ms/step - loss: 247532320.0000 - val_loss: 253537008.0000\n",
            "Epoch 26/800\n",
            "227/227 [==============================] - 1s 3ms/step - loss: 251534608.0000 - val_loss: 216138704.0000\n",
            "Epoch 27/800\n",
            "227/227 [==============================] - 1s 3ms/step - loss: 260103280.0000 - val_loss: 204054304.0000\n",
            "Epoch 28/800\n",
            "227/227 [==============================] - 1s 3ms/step - loss: 254007232.0000 - val_loss: 211200224.0000\n",
            "Epoch 29/800\n",
            "227/227 [==============================] - 1s 3ms/step - loss: 248723584.0000 - val_loss: 281003648.0000\n",
            "Epoch 30/800\n",
            "227/227 [==============================] - 1s 3ms/step - loss: 248145216.0000 - val_loss: 231337392.0000\n",
            "Epoch 31/800\n",
            "227/227 [==============================] - 1s 3ms/step - loss: 238243648.0000 - val_loss: 205790176.0000\n",
            "Epoch 32/800\n",
            "227/227 [==============================] - 1s 3ms/step - loss: 246264864.0000 - val_loss: 266276496.0000\n",
            "Epoch 33/800\n",
            "227/227 [==============================] - 1s 3ms/step - loss: 248480544.0000 - val_loss: 221670704.0000\n",
            "Epoch 34/800\n",
            "227/227 [==============================] - 1s 3ms/step - loss: 241120048.0000 - val_loss: 225122112.0000\n",
            "Epoch 35/800\n",
            "227/227 [==============================] - 1s 3ms/step - loss: 238737136.0000 - val_loss: 212449872.0000\n",
            "Epoch 36/800\n",
            "227/227 [==============================] - 1s 3ms/step - loss: 243219568.0000 - val_loss: 219169424.0000\n",
            "Epoch 37/800\n",
            "227/227 [==============================] - 1s 3ms/step - loss: 255412448.0000 - val_loss: 217417824.0000\n",
            "Epoch 38/800\n",
            "227/227 [==============================] - 1s 3ms/step - loss: 246314368.0000 - val_loss: 225234256.0000\n",
            "Epoch 39/800\n",
            "227/227 [==============================] - 1s 3ms/step - loss: 241199520.0000 - val_loss: 271435648.0000\n",
            "Epoch 40/800\n",
            "227/227 [==============================] - 1s 3ms/step - loss: 244670688.0000 - val_loss: 214229968.0000\n",
            "Epoch 41/800\n",
            "227/227 [==============================] - 1s 3ms/step - loss: 250770880.0000 - val_loss: 246042096.0000\n",
            "Epoch 42/800\n",
            "227/227 [==============================] - 1s 3ms/step - loss: 244736896.0000 - val_loss: 227038304.0000\n",
            "Epoch 43/800\n",
            "227/227 [==============================] - 1s 3ms/step - loss: 239552416.0000 - val_loss: 239054224.0000\n",
            "Epoch 44/800\n",
            "227/227 [==============================] - 1s 3ms/step - loss: 240975008.0000 - val_loss: 223977840.0000\n",
            "Epoch 45/800\n",
            "227/227 [==============================] - 1s 3ms/step - loss: 241340736.0000 - val_loss: 239255280.0000\n",
            "Epoch 46/800\n",
            "227/227 [==============================] - 1s 3ms/step - loss: 236786240.0000 - val_loss: 208633024.0000\n",
            "Epoch 47/800\n",
            "227/227 [==============================] - 1s 3ms/step - loss: 241097104.0000 - val_loss: 233808672.0000\n",
            "Epoch 48/800\n",
            "227/227 [==============================] - 1s 3ms/step - loss: 255567088.0000 - val_loss: 226640448.0000\n",
            "Epoch 49/800\n",
            "227/227 [==============================] - 1s 3ms/step - loss: 245544032.0000 - val_loss: 232834448.0000\n",
            "Epoch 50/800\n",
            "227/227 [==============================] - 1s 3ms/step - loss: 255257184.0000 - val_loss: 258930448.0000\n",
            "Epoch 51/800\n",
            "227/227 [==============================] - 1s 3ms/step - loss: 243822000.0000 - val_loss: 221132336.0000\n",
            "Epoch 52/800\n",
            "227/227 [==============================] - 1s 3ms/step - loss: 245023280.0000 - val_loss: 221656992.0000\n"
          ]
        }
      ]
    },
    {
      "cell_type": "code",
      "source": [
        "plt.plot(history.history['loss'])"
      ],
      "metadata": {
        "colab": {
          "base_uri": "https://localhost:8080/",
          "height": 293
        },
        "id": "jG1I_-jh7fu0",
        "outputId": "f59191da-4a24-4087-c01f-d1fe7bf33d72"
      },
      "execution_count": 5,
      "outputs": [
        {
          "output_type": "execute_result",
          "data": {
            "text/plain": [
              "[<matplotlib.lines.Line2D at 0x7fd142ed0d90>]"
            ]
          },
          "metadata": {},
          "execution_count": 5
        },
        {
          "output_type": "display_data",
          "data": {
            "text/plain": [
              "<Figure size 432x288 with 1 Axes>"
            ],
            "image/png": "[encoded data removed]"
          },
          "metadata": {
            "needs_background": "light"
          }
        }
      ]
    },
    {
      "cell_type": "code",
      "source": [
        "from sklearn.metrics import r2_score\n",
        "prediction = estimator.predict(X_test)\n",
        "print(\"r_square score: \", r2_score(y_test,prediction))\n",
        "yy = np.array(y_test)\n",
        "predd = np.array(prediction)\n",
        "for i in range(10):\n",
        "  print(\"real value of y_test: \" + str(yy[i]) + \" -> the predict: \" + str(predd[i]))"
      ],
      "metadata": {
        "colab": {
          "base_uri": "https://localhost:8080/"
        },
        "id": "PnQXNvh3-rVR",
        "outputId": "b2add9e9-6189-43b9-c4fa-2ff5cd47f0d6"
      },
      "execution_count": 6,
      "outputs": [
        {
          "output_type": "stream",
          "name": "stdout",
          "text": [
            "47/47 [==============================] - 0s 2ms/step\n",
            "r_square score:  0.83971706828792\n",
            "real value of y_test: 39.900463 -> the predict: 51.882496\n",
            "real value of y_test: 74.078445 -> the predict: 0.00045809068\n",
            "real value of y_test: 14.244824 -> the predict: 0.09467659\n",
            "real value of y_test: 99999.0 -> the predict: 99624.57\n",
            "real value of y_test: 26.699371 -> the predict: 139.70734\n",
            "real value of y_test: 23.960154 -> the predict: 1.6871793\n",
            "real value of y_test: 144.960831 -> the predict: 47.14053\n",
            "real value of y_test: 99999.0 -> the predict: 99974.195\n",
            "real value of y_test: 83.760368 -> the predict: 0.011798135\n",
            "real value of y_test: 6.83573 -> the predict: 8.951096e-06\n"
          ]
        }
      ]
    },
    {
      "cell_type": "code",
      "source": [
        "from sklearn.metrics import mean_squared_error\n",
        "from math import sqrt\n",
        "\n",
        "print(\"RMSE:\")\n",
        "sqrt(mean_squared_error(yy, predd)) "
      ],
      "metadata": {
        "colab": {
          "base_uri": "https://localhost:8080/"
        },
        "id": "OSyzIFK5uzHP",
        "outputId": "ab362e8f-4e17-4aad-d7c2-067856a5a22c"
      },
      "execution_count": 7,
      "outputs": [
        {
          "output_type": "stream",
          "name": "stdout",
          "text": [
            "RMSE:\n"
          ]
        },
        {
          "output_type": "execute_result",
          "data": {
            "text/plain": [
              "14284.759269374328"
            ]
          },
          "metadata": {},
          "execution_count": 7
        }
      ]
    }
  ]
}