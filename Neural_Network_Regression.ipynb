{
  "nbformat": 4,
  "nbformat_minor": 0,
  "metadata": {
    "colab": {
      "name": "Neural_Network_Regression.ipynb",
      "provenance": [],
      "authorship_tag": "ABX9TyPcHIlZKwXQS9+0cyqNZ3yJ",
      "include_colab_link": true
    },
    "kernelspec": {
      "name": "python3",
      "display_name": "Python 3"
    },
    "language_info": {
      "name": "python"
    }
  },
  "cells": [
    {
      "cell_type": "markdown",
      "metadata": {
        "id": "view-in-github",
        "colab_type": "text"
      },
      "source": [
        "<a href=\"https://colab.research.google.com/github/Uros-Males/Minimization_Problem_On_Identical_Machines_Analysis/blob/main/Neural_Network_Regression.ipynb\" target=\"_parent\"><img src=\"https://colab.research.google.com/assets/colab-badge.svg\" alt=\"Open In Colab\"/></a>"
      ]
    },
    {
      "cell_type": "code",
      "execution_count": 1,
      "metadata": {
        "id": "YiQcuNkDxHUf",
        "colab": {
          "base_uri": "https://localhost:8080/"
        },
        "outputId": "baf50366-73be-4445-c1b9-5ae43c763f62"
      },
      "outputs": [
        {
          "output_type": "stream",
          "name": "stdout",
          "text": [
            "8750\n"
          ]
        }
      ],
      "source": [
        "#IN PROGRESS....\n",
        "import pandas as pd\n",
        "import numpy as np\n",
        "import matplotlib.pyplot as plt\n",
        "from sklearn import tree\n",
        "from sklearn.model_selection import train_test_split\n",
        "from sklearn.tree import DecisionTreeRegressor\n",
        "import time\n",
        "\n",
        "df = pd.read_csv('/content/sample_data/C-instances-runtime-analysis.csv')\n",
        "print(df.shape[0])\n",
        "\n",
        "shuffled = df.sample(frac=1).reset_index()\n",
        "\n",
        "columns_dont_want = ['y', 'index', 'inst.name', 'CPLEXStatus','type']\n",
        "select = [x for x in shuffled.columns if x not in columns_dont_want]\n",
        "\n",
        "X = shuffled.loc[:, select]\n",
        "\n",
        "y = shuffled.loc[:,'y']"
      ]
    },
    {
      "cell_type": "code",
      "source": [
        "X_modified = X.drop(['max', 'n/m', '(n/m)^2', '(n/m)^3', 'm/n', '(m/n)^2', '(m/n)^3', 'class', 'av.length'], axis = 1)"
      ],
      "metadata": {
        "id": "Jzlk_oaRyQjm"
      },
      "execution_count": 2,
      "outputs": []
    },
    {
      "cell_type": "code",
      "source": [
        "from keras.models import Sequential\n",
        "from keras.layers import Dense ,Dropout,BatchNormalization\n",
        "from keras.layers import Dense\n",
        "from keras.wrappers.scikit_learn import KerasRegressor\n",
        "from sklearn.model_selection import cross_val_score\n",
        "\n",
        "from keras.layers import Activation\n",
        "from keras import backend as K\n",
        "from keras.utils.generic_utils import get_custom_objects\n",
        "\n",
        "\n",
        "def custom_activation(x):\n",
        "    return 99999*1/(1+K.exp(-x))\n",
        "\n",
        "get_custom_objects().update({'custom_activation': Activation(custom_activation)})\n",
        "\n",
        "def make_model():\n",
        "    model = Sequential()\n",
        "    \n",
        "    model.add(Dense(16, input_dim=X_modified.shape[1], activation='relu'))\n",
        "    model.add(Dropout(0.5))\n",
        "    \n",
        "    \n",
        "    model.add(Dense(8, activation='relu'))\n",
        "    model.add(Dropout(0.25))\n",
        "    \n",
        "\n",
        "    \n",
        "    model.add(Dense(1, activation = custom_activation))\n",
        "    #model.add(Activation(custom_activation, name='SpecialActivation'))\n",
        "    model.compile(loss='mean_squared_error', optimizer='adam')\n",
        "    return model"
      ],
      "metadata": {
        "id": "7_m2qFDRya94"
      },
      "execution_count": 3,
      "outputs": []
    },
    {
      "cell_type": "code",
      "source": [
        "from sklearn.preprocessing import MinMaxScaler\n",
        "scaler =  MinMaxScaler()\n",
        "\n",
        "X_train, X_test, y_train, y_test = train_test_split(X_modified, y, random_state=0, train_size = 0.83)\n",
        "\n",
        "X_train = scaler.fit_transform(X_train)\n",
        "X_test = scaler.fit_transform(X_test)\n",
        "\n",
        "estimator = KerasRegressor(build_fn=make_model, epochs=50, batch_size=128, verbose=1)\n",
        "\n",
        "history=estimator.fit(X_train,y_train)"
      ],
      "metadata": {
        "colab": {
          "base_uri": "https://localhost:8080/"
        },
        "id": "2JHin8gI5ftQ",
        "outputId": "16213b26-cb37-475d-e5fe-bb06ef44dbd0"
      },
      "execution_count": 4,
      "outputs": [
        {
          "output_type": "stream",
          "name": "stdout",
          "text": [
            "Epoch 1/50\n"
          ]
        },
        {
          "output_type": "stream",
          "name": "stderr",
          "text": [
            "/usr/local/lib/python3.7/dist-packages/ipykernel_launcher.py:9: DeprecationWarning: KerasRegressor is deprecated, use Sci-Keras (https://github.com/adriangb/scikeras) instead. See https://www.adriangb.com/scikeras/stable/migration.html for help migrating.\n",
            "  if __name__ == '__main__':\n"
          ]
        },
        {
          "output_type": "stream",
          "name": "stdout",
          "text": [
            "57/57 [==============================] - 1s 3ms/step - loss: 1941355520.0000\n",
            "Epoch 2/50\n",
            "57/57 [==============================] - 0s 2ms/step - loss: 1560529408.0000\n",
            "Epoch 3/50\n",
            "57/57 [==============================] - 0s 4ms/step - loss: 1343098752.0000\n",
            "Epoch 4/50\n",
            "57/57 [==============================] - 0s 3ms/step - loss: 1174593280.0000\n",
            "Epoch 5/50\n",
            "57/57 [==============================] - 0s 2ms/step - loss: 1047224640.0000\n",
            "Epoch 6/50\n",
            "57/57 [==============================] - 0s 2ms/step - loss: 963962496.0000\n",
            "Epoch 7/50\n",
            "57/57 [==============================] - 0s 4ms/step - loss: 919876928.0000\n",
            "Epoch 8/50\n",
            "57/57 [==============================] - 0s 3ms/step - loss: 851544704.0000\n",
            "Epoch 9/50\n",
            "57/57 [==============================] - 0s 2ms/step - loss: 809048128.0000\n",
            "Epoch 10/50\n",
            "57/57 [==============================] - 0s 3ms/step - loss: 746364032.0000\n",
            "Epoch 11/50\n",
            "57/57 [==============================] - 0s 3ms/step - loss: 719078912.0000\n",
            "Epoch 12/50\n",
            "57/57 [==============================] - 0s 3ms/step - loss: 685151488.0000\n",
            "Epoch 13/50\n",
            "57/57 [==============================] - 0s 2ms/step - loss: 657955136.0000\n",
            "Epoch 14/50\n",
            "57/57 [==============================] - 0s 2ms/step - loss: 628374720.0000\n",
            "Epoch 15/50\n",
            "57/57 [==============================] - 0s 3ms/step - loss: 599431936.0000\n",
            "Epoch 16/50\n",
            "57/57 [==============================] - 0s 4ms/step - loss: 585643968.0000\n",
            "Epoch 17/50\n",
            "57/57 [==============================] - 0s 2ms/step - loss: 541628992.0000\n",
            "Epoch 18/50\n",
            "57/57 [==============================] - 0s 3ms/step - loss: 533306944.0000\n",
            "Epoch 19/50\n",
            "57/57 [==============================] - 0s 3ms/step - loss: 491706976.0000\n",
            "Epoch 20/50\n",
            "57/57 [==============================] - 0s 3ms/step - loss: 492930464.0000\n",
            "Epoch 21/50\n",
            "57/57 [==============================] - 0s 4ms/step - loss: 476820768.0000\n",
            "Epoch 22/50\n",
            "57/57 [==============================] - 0s 2ms/step - loss: 451786816.0000\n",
            "Epoch 23/50\n",
            "57/57 [==============================] - 0s 3ms/step - loss: 435385696.0000\n",
            "Epoch 24/50\n",
            "57/57 [==============================] - 0s 4ms/step - loss: 438470496.0000\n",
            "Epoch 25/50\n",
            "57/57 [==============================] - 0s 3ms/step - loss: 415643936.0000\n",
            "Epoch 26/50\n",
            "57/57 [==============================] - 0s 4ms/step - loss: 407368384.0000\n",
            "Epoch 27/50\n",
            "57/57 [==============================] - 0s 3ms/step - loss: 408541088.0000\n",
            "Epoch 28/50\n",
            "57/57 [==============================] - 0s 4ms/step - loss: 404285056.0000\n",
            "Epoch 29/50\n",
            "57/57 [==============================] - 0s 4ms/step - loss: 388384480.0000\n",
            "Epoch 30/50\n",
            "57/57 [==============================] - 0s 3ms/step - loss: 379817504.0000\n",
            "Epoch 31/50\n",
            "57/57 [==============================] - 0s 4ms/step - loss: 384507936.0000\n",
            "Epoch 32/50\n",
            "57/57 [==============================] - 0s 4ms/step - loss: 381669344.0000\n",
            "Epoch 33/50\n",
            "57/57 [==============================] - 0s 2ms/step - loss: 373954944.0000\n",
            "Epoch 34/50\n",
            "57/57 [==============================] - 0s 3ms/step - loss: 370401024.0000\n",
            "Epoch 35/50\n",
            "57/57 [==============================] - 0s 3ms/step - loss: 364615552.0000\n",
            "Epoch 36/50\n",
            "57/57 [==============================] - 0s 3ms/step - loss: 355872288.0000\n",
            "Epoch 37/50\n",
            "57/57 [==============================] - 0s 3ms/step - loss: 361191552.0000\n",
            "Epoch 38/50\n",
            "57/57 [==============================] - 0s 3ms/step - loss: 349302144.0000\n",
            "Epoch 39/50\n",
            "57/57 [==============================] - 0s 3ms/step - loss: 347631648.0000\n",
            "Epoch 40/50\n",
            "57/57 [==============================] - 0s 4ms/step - loss: 345277088.0000\n",
            "Epoch 41/50\n",
            "57/57 [==============================] - 0s 3ms/step - loss: 350552192.0000\n",
            "Epoch 42/50\n",
            "57/57 [==============================] - 0s 3ms/step - loss: 342290976.0000\n",
            "Epoch 43/50\n",
            "57/57 [==============================] - 0s 3ms/step - loss: 343723808.0000\n",
            "Epoch 44/50\n",
            "57/57 [==============================] - 0s 3ms/step - loss: 334356320.0000\n",
            "Epoch 45/50\n",
            "57/57 [==============================] - 0s 3ms/step - loss: 326450272.0000\n",
            "Epoch 46/50\n",
            "57/57 [==============================] - 0s 4ms/step - loss: 331668256.0000\n",
            "Epoch 47/50\n",
            "57/57 [==============================] - 0s 2ms/step - loss: 335515616.0000\n",
            "Epoch 48/50\n",
            "57/57 [==============================] - 0s 3ms/step - loss: 336015008.0000\n",
            "Epoch 49/50\n",
            "57/57 [==============================] - 0s 2ms/step - loss: 331657760.0000\n",
            "Epoch 50/50\n",
            "57/57 [==============================] - 0s 3ms/step - loss: 312778752.0000\n"
          ]
        }
      ]
    },
    {
      "cell_type": "code",
      "source": [
        "plt.plot(history.history['loss'])"
      ],
      "metadata": {
        "colab": {
          "base_uri": "https://localhost:8080/",
          "height": 293
        },
        "id": "jG1I_-jh7fu0",
        "outputId": "21c3e580-7182-4d46-c87e-2d70e00fea19"
      },
      "execution_count": 5,
      "outputs": [
        {
          "output_type": "execute_result",
          "data": {
            "text/plain": [
              "[<matplotlib.lines.Line2D at 0x7f46d20dce10>]"
            ]
          },
          "metadata": {},
          "execution_count": 5
        },
        {
          "output_type": "display_data",
          "data": {
            "text/plain": [
              "<Figure size 432x288 with 1 Axes>"
            ],
            "image/png": "[encoded data removed]"
          },
          "metadata": {
            "needs_background": "light"
          }
        }
      ]
    },
    {
      "cell_type": "code",
      "source": [
        "from sklearn.metrics import r2_score\n",
        "prediction = estimator.predict(X_test)\n",
        "print(\"r_square score: \", r2_score(y_test,prediction))\n",
        "yy = np.array(y_test)\n",
        "predd = np.array(prediction)\n",
        "for i in range(10):\n",
        "  print(\"real value of y_test: \" + str(yy[i]) + \" -> the predict: \" + str(predd[i]))"
      ],
      "metadata": {
        "colab": {
          "base_uri": "https://localhost:8080/"
        },
        "id": "PnQXNvh3-rVR",
        "outputId": "4c48f723-43f4-441c-b308-8bc98d04d0fb"
      },
      "execution_count": 6,
      "outputs": [
        {
          "output_type": "stream",
          "name": "stdout",
          "text": [
            "12/12 [==============================] - 0s 2ms/step\n",
            "r_square score:  0.7977948692592566\n",
            "real value of y_test: 49.108479 -> the predict: 3.7535574e-06\n",
            "real value of y_test: 62.491741 -> the predict: 0.00048765456\n",
            "real value of y_test: 29.130211 -> the predict: 6.537459\n",
            "real value of y_test: 71.601105 -> the predict: 0.0011275271\n",
            "real value of y_test: 39.851036 -> the predict: 314.12677\n",
            "real value of y_test: 99999.0 -> the predict: 99958.75\n",
            "real value of y_test: 262.830231 -> the predict: 856.933\n",
            "real value of y_test: 48.396175 -> the predict: 205.30138\n",
            "real value of y_test: 72.413322 -> the predict: 397.66867\n",
            "real value of y_test: 41.455616 -> the predict: 0.013651517\n"
          ]
        }
      ]
    },
    {
      "cell_type": "code",
      "source": [
        "from sklearn.metrics import mean_squared_error\n",
        "from math import sqrt\n",
        "\n",
        "print(\"RMSE:\")\n",
        "sqrt(mean_squared_error(yy, predd)) "
      ],
      "metadata": {
        "colab": {
          "base_uri": "https://localhost:8080/"
        },
        "id": "OSyzIFK5uzHP",
        "outputId": "43f87681-429c-4f2f-8407-7573d1c63b74"
      },
      "execution_count": 8,
      "outputs": [
        {
          "output_type": "stream",
          "name": "stdout",
          "text": [
            "RMSE:\n"
          ]
        },
        {
          "output_type": "execute_result",
          "data": {
            "text/plain": [
              "16587.122656819774"
            ]
          },
          "metadata": {},
          "execution_count": 8
        }
      ]
    }
  ]
}