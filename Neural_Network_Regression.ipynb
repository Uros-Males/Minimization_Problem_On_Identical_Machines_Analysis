{
  "nbformat": 4,
  "nbformat_minor": 0,
  "metadata": {
    "colab": {
      "name": "Neural_Network_Regression.ipynb",
      "provenance": [],
      "authorship_tag": "ABX9TyPYSe6x8V9y75WxBZ0LhJjh",
      "include_colab_link": true
    },
    "kernelspec": {
      "name": "python3",
      "display_name": "Python 3"
    },
    "language_info": {
      "name": "python"
    }
  },
  "cells": [
    {
      "cell_type": "markdown",
      "metadata": {
        "id": "view-in-github",
        "colab_type": "text"
      },
      "source": [
        "<a href=\"https://colab.research.google.com/github/Uros-Males/Minimization_Problem_On_Identical_Machines_Analysis/blob/main/Neural_Network_Regression.ipynb\" target=\"_parent\"><img src=\"https://colab.research.google.com/assets/colab-badge.svg\" alt=\"Open In Colab\"/></a>"
      ]
    },
    {
      "cell_type": "code",
      "execution_count": 1,
      "metadata": {
        "id": "YiQcuNkDxHUf",
        "colab": {
          "base_uri": "https://localhost:8080/"
        },
        "outputId": "d262d03d-3c78-4b82-cd69-25ed1ca77801"
      },
      "outputs": [
        {
          "output_type": "stream",
          "name": "stdout",
          "text": [
            "8750\n"
          ]
        }
      ],
      "source": [
        "#IN PROGRESS....\n",
        "import pandas as pd\n",
        "import numpy as np\n",
        "import matplotlib.pyplot as plt\n",
        "from sklearn import tree\n",
        "from sklearn.model_selection import train_test_split\n",
        "from sklearn.tree import DecisionTreeRegressor\n",
        "import time\n",
        "\n",
        "df = pd.read_csv('/content/sample_data/C-instances-runtime-analysis.csv')\n",
        "print(df.shape[0])\n",
        "\n",
        "shuffled = df.sample(frac=1).reset_index()\n",
        "\n",
        "columns_dont_want = ['y', 'index', 'inst.name', 'CPLEXStatus','type']\n",
        "select = [x for x in shuffled.columns if x not in columns_dont_want]\n",
        "\n",
        "X = shuffled.loc[:, select]\n",
        "\n",
        "y = shuffled.loc[:,'y']"
      ]
    },
    {
      "cell_type": "code",
      "source": [
        "X_modified = X.drop(['max', 'n/m', '(n/m)^2', '(n/m)^3', 'm/n', '(m/n)^2', '(m/n)^3', 'class', 'av.length'], axis = 1)"
      ],
      "metadata": {
        "id": "Jzlk_oaRyQjm"
      },
      "execution_count": 2,
      "outputs": []
    },
    {
      "cell_type": "code",
      "source": [
        "from keras.models import Sequential\n",
        "from keras.layers import Dense ,Dropout,BatchNormalization\n",
        "from keras.layers import Dense\n",
        "from keras.wrappers.scikit_learn import KerasRegressor\n",
        "from sklearn.model_selection import cross_val_score\n",
        "\n",
        "from keras.layers import Activation\n",
        "from keras import backend as K\n",
        "from keras.utils.generic_utils import get_custom_objects\n",
        "\n",
        "import tensorflow\n",
        "from tensorflow import keras \n",
        "\n",
        "\n",
        "def custom_activation(x):\n",
        "    return 99999*1/(1+K.exp(-x))\n",
        "\n",
        "get_custom_objects().update({'custom_activation': Activation(custom_activation)})\n",
        "\n",
        "def make_model():\n",
        "    model = Sequential()\n",
        "    \n",
        "    model.add(Dense(8, input_dim=X_modified.shape[1], activation='relu'))\n",
        "    #model.add(Dropout(0.25))\n",
        "    \n",
        "    \n",
        "    model.add(Dense(16, activation='relu'))\n",
        "    model.add(Dropout(0.25))\n",
        "\n",
        "    model.add(Dense(8, activation='relu'))\n",
        "    model.add(Dropout(0.15))\n",
        "    \n",
        "    model.add(Dense(4, activation='relu'))\n",
        "    \n",
        "    model.add(Dense(1, activation = custom_activation))\n",
        "    #model.add(Activation(custom_activation, name='SpecialActivation'))\n",
        "    model.compile(loss='mean_squared_error', optimizer=tensorflow.keras.optimizers.Adam(clipnorm=1))\n",
        "    return model"
      ],
      "metadata": {
        "id": "7_m2qFDRya94"
      },
      "execution_count": 3,
      "outputs": []
    },
    {
      "cell_type": "code",
      "source": [
        "from sklearn.preprocessing import MinMaxScaler\n",
        "scaler =  MinMaxScaler()\n",
        "\n",
        "X_train, X_test, y_train, y_test = train_test_split(X_modified, y, random_state=0, train_size = 0.83)\n",
        "\n",
        "X_train = scaler.fit_transform(X_train)\n",
        "X_test = scaler.fit_transform(X_test)\n",
        "\n",
        "estimator = KerasRegressor(build_fn=make_model, epochs=120, batch_size=32, verbose=1)\n",
        "\n",
        "history=estimator.fit(X_train,y_train)"
      ],
      "metadata": {
        "colab": {
          "base_uri": "https://localhost:8080/"
        },
        "id": "2JHin8gI5ftQ",
        "outputId": "25918f39-ee3f-42ef-b4cd-85a8789b62fa"
      },
      "execution_count": 4,
      "outputs": [
        {
          "output_type": "stream",
          "name": "stderr",
          "text": [
            "/usr/local/lib/python3.7/dist-packages/ipykernel_launcher.py:9: DeprecationWarning: KerasRegressor is deprecated, use Sci-Keras (https://github.com/adriangb/scikeras) instead. See https://www.adriangb.com/scikeras/stable/migration.html for help migrating.\n",
            "  if __name__ == '__main__':\n"
          ]
        },
        {
          "output_type": "stream",
          "name": "stdout",
          "text": [
            "Epoch 1/120\n",
            "227/227 [==============================] - 3s 4ms/step - loss: 1719809792.0000\n",
            "Epoch 2/120\n",
            "227/227 [==============================] - 1s 4ms/step - loss: 1076197376.0000\n",
            "Epoch 3/120\n",
            "227/227 [==============================] - 1s 3ms/step - loss: 786915328.0000\n",
            "Epoch 4/120\n",
            "227/227 [==============================] - 1s 4ms/step - loss: 552979840.0000\n",
            "Epoch 5/120\n",
            "227/227 [==============================] - 1s 4ms/step - loss: 456276032.0000\n",
            "Epoch 6/120\n",
            "227/227 [==============================] - 1s 5ms/step - loss: 400863296.0000\n",
            "Epoch 7/120\n",
            "227/227 [==============================] - 1s 4ms/step - loss: 373095136.0000\n",
            "Epoch 8/120\n",
            "227/227 [==============================] - 1s 3ms/step - loss: 349290592.0000\n",
            "Epoch 9/120\n",
            "227/227 [==============================] - 1s 3ms/step - loss: 334804608.0000\n",
            "Epoch 10/120\n",
            "227/227 [==============================] - 1s 4ms/step - loss: 313661280.0000\n",
            "Epoch 11/120\n",
            "227/227 [==============================] - 1s 4ms/step - loss: 308271232.0000\n",
            "Epoch 12/120\n",
            "227/227 [==============================] - 1s 3ms/step - loss: 292272320.0000\n",
            "Epoch 13/120\n",
            "227/227 [==============================] - 1s 4ms/step - loss: 292006272.0000\n",
            "Epoch 14/120\n",
            "227/227 [==============================] - 1s 4ms/step - loss: 287266656.0000\n",
            "Epoch 15/120\n",
            "227/227 [==============================] - 1s 4ms/step - loss: 289631648.0000\n",
            "Epoch 16/120\n",
            "227/227 [==============================] - 1s 4ms/step - loss: 292542368.0000\n",
            "Epoch 17/120\n",
            "227/227 [==============================] - 1s 4ms/step - loss: 277296864.0000\n",
            "Epoch 18/120\n",
            "227/227 [==============================] - 1s 4ms/step - loss: 287582080.0000\n",
            "Epoch 19/120\n",
            "227/227 [==============================] - 1s 4ms/step - loss: 273722080.0000\n",
            "Epoch 20/120\n",
            "227/227 [==============================] - 1s 3ms/step - loss: 277559872.0000\n",
            "Epoch 21/120\n",
            "227/227 [==============================] - 1s 5ms/step - loss: 267701312.0000\n",
            "Epoch 22/120\n",
            "227/227 [==============================] - 1s 3ms/step - loss: 281193024.0000\n",
            "Epoch 23/120\n",
            "227/227 [==============================] - 1s 4ms/step - loss: 262521760.0000\n",
            "Epoch 24/120\n",
            "227/227 [==============================] - 1s 5ms/step - loss: 272327488.0000\n",
            "Epoch 25/120\n",
            "227/227 [==============================] - 1s 4ms/step - loss: 272187968.0000\n",
            "Epoch 26/120\n",
            "227/227 [==============================] - 1s 3ms/step - loss: 257983968.0000\n",
            "Epoch 27/120\n",
            "227/227 [==============================] - 0s 2ms/step - loss: 269381984.0000\n",
            "Epoch 28/120\n",
            "227/227 [==============================] - 0s 2ms/step - loss: 249950912.0000\n",
            "Epoch 29/120\n",
            "227/227 [==============================] - 0s 2ms/step - loss: 268088928.0000\n",
            "Epoch 30/120\n",
            "227/227 [==============================] - 0s 2ms/step - loss: 248362576.0000\n",
            "Epoch 31/120\n",
            "227/227 [==============================] - 0s 2ms/step - loss: 272338240.0000\n",
            "Epoch 32/120\n",
            "227/227 [==============================] - 0s 2ms/step - loss: 265458000.0000\n",
            "Epoch 33/120\n",
            "227/227 [==============================] - 0s 2ms/step - loss: 266693776.0000\n",
            "Epoch 34/120\n",
            "227/227 [==============================] - 0s 2ms/step - loss: 268170672.0000\n",
            "Epoch 35/120\n",
            "227/227 [==============================] - 0s 2ms/step - loss: 256718736.0000\n",
            "Epoch 36/120\n",
            "227/227 [==============================] - 0s 2ms/step - loss: 271418720.0000\n",
            "Epoch 37/120\n",
            "227/227 [==============================] - 0s 2ms/step - loss: 268760864.0000\n",
            "Epoch 38/120\n",
            "227/227 [==============================] - 0s 2ms/step - loss: 252747856.0000\n",
            "Epoch 39/120\n",
            "227/227 [==============================] - 0s 2ms/step - loss: 268305408.0000\n",
            "Epoch 40/120\n",
            "227/227 [==============================] - 0s 2ms/step - loss: 272983968.0000\n",
            "Epoch 41/120\n",
            "227/227 [==============================] - 0s 2ms/step - loss: 266735968.0000\n",
            "Epoch 42/120\n",
            "227/227 [==============================] - 0s 2ms/step - loss: 242492608.0000\n",
            "Epoch 43/120\n",
            "227/227 [==============================] - 0s 2ms/step - loss: 252361568.0000\n",
            "Epoch 44/120\n",
            "227/227 [==============================] - 0s 2ms/step - loss: 270951552.0000\n",
            "Epoch 45/120\n",
            "227/227 [==============================] - 0s 2ms/step - loss: 260636416.0000\n",
            "Epoch 46/120\n",
            "227/227 [==============================] - 0s 2ms/step - loss: 264860912.0000\n",
            "Epoch 47/120\n",
            "227/227 [==============================] - 0s 2ms/step - loss: 250300112.0000\n",
            "Epoch 48/120\n",
            "227/227 [==============================] - 0s 2ms/step - loss: 264346272.0000\n",
            "Epoch 49/120\n",
            "227/227 [==============================] - 0s 2ms/step - loss: 264058624.0000\n",
            "Epoch 50/120\n",
            "227/227 [==============================] - 0s 2ms/step - loss: 266205152.0000\n",
            "Epoch 51/120\n",
            "227/227 [==============================] - 0s 2ms/step - loss: 265280064.0000\n",
            "Epoch 52/120\n",
            "227/227 [==============================] - 0s 2ms/step - loss: 251098128.0000\n",
            "Epoch 53/120\n",
            "227/227 [==============================] - 0s 2ms/step - loss: 271459200.0000\n",
            "Epoch 54/120\n",
            "227/227 [==============================] - 0s 2ms/step - loss: 254692352.0000\n",
            "Epoch 55/120\n",
            "227/227 [==============================] - 0s 2ms/step - loss: 262985536.0000\n",
            "Epoch 56/120\n",
            "227/227 [==============================] - 0s 2ms/step - loss: 269890048.0000\n",
            "Epoch 57/120\n",
            "227/227 [==============================] - 0s 2ms/step - loss: 262519504.0000\n",
            "Epoch 58/120\n",
            "227/227 [==============================] - 0s 2ms/step - loss: 257080656.0000\n",
            "Epoch 59/120\n",
            "227/227 [==============================] - 0s 2ms/step - loss: 260722816.0000\n",
            "Epoch 60/120\n",
            "227/227 [==============================] - 0s 2ms/step - loss: 253057360.0000\n",
            "Epoch 61/120\n",
            "227/227 [==============================] - 0s 2ms/step - loss: 253142256.0000\n",
            "Epoch 62/120\n",
            "227/227 [==============================] - 0s 2ms/step - loss: 261992720.0000\n",
            "Epoch 63/120\n",
            "227/227 [==============================] - 0s 2ms/step - loss: 258375472.0000\n",
            "Epoch 64/120\n",
            "227/227 [==============================] - 0s 2ms/step - loss: 251898672.0000\n",
            "Epoch 65/120\n",
            "227/227 [==============================] - 0s 2ms/step - loss: 253549952.0000\n",
            "Epoch 66/120\n",
            "227/227 [==============================] - 0s 2ms/step - loss: 250381424.0000\n",
            "Epoch 67/120\n",
            "227/227 [==============================] - 0s 2ms/step - loss: 247917984.0000\n",
            "Epoch 68/120\n",
            "227/227 [==============================] - 0s 2ms/step - loss: 260289664.0000\n",
            "Epoch 69/120\n",
            "227/227 [==============================] - 0s 2ms/step - loss: 254980016.0000\n",
            "Epoch 70/120\n",
            "227/227 [==============================] - 0s 2ms/step - loss: 237997440.0000\n",
            "Epoch 71/120\n",
            "227/227 [==============================] - 0s 2ms/step - loss: 254552288.0000\n",
            "Epoch 72/120\n",
            "227/227 [==============================] - 0s 2ms/step - loss: 253177488.0000\n",
            "Epoch 73/120\n",
            "227/227 [==============================] - 0s 2ms/step - loss: 263658992.0000\n",
            "Epoch 74/120\n",
            "227/227 [==============================] - 0s 2ms/step - loss: 237738992.0000\n",
            "Epoch 75/120\n",
            "227/227 [==============================] - 0s 2ms/step - loss: 258608848.0000\n",
            "Epoch 76/120\n",
            "227/227 [==============================] - 0s 2ms/step - loss: 270067136.0000\n",
            "Epoch 77/120\n",
            "227/227 [==============================] - 0s 2ms/step - loss: 257060560.0000\n",
            "Epoch 78/120\n",
            "227/227 [==============================] - 0s 2ms/step - loss: 264793760.0000\n",
            "Epoch 79/120\n",
            "227/227 [==============================] - 0s 2ms/step - loss: 257214384.0000\n",
            "Epoch 80/120\n",
            "227/227 [==============================] - 0s 2ms/step - loss: 242874720.0000\n",
            "Epoch 81/120\n",
            "227/227 [==============================] - 0s 2ms/step - loss: 258891824.0000\n",
            "Epoch 82/120\n",
            "227/227 [==============================] - 0s 2ms/step - loss: 248073360.0000\n",
            "Epoch 83/120\n",
            "227/227 [==============================] - 0s 2ms/step - loss: 257856672.0000\n",
            "Epoch 84/120\n",
            "227/227 [==============================] - 0s 2ms/step - loss: 259496464.0000\n",
            "Epoch 85/120\n",
            "227/227 [==============================] - 0s 2ms/step - loss: 249557296.0000\n",
            "Epoch 86/120\n",
            "227/227 [==============================] - 0s 2ms/step - loss: 246839952.0000\n",
            "Epoch 87/120\n",
            "227/227 [==============================] - 1s 2ms/step - loss: 244251296.0000\n",
            "Epoch 88/120\n",
            "227/227 [==============================] - 1s 2ms/step - loss: 250370256.0000\n",
            "Epoch 89/120\n",
            "227/227 [==============================] - 0s 2ms/step - loss: 254945552.0000\n",
            "Epoch 90/120\n",
            "227/227 [==============================] - 0s 2ms/step - loss: 244771280.0000\n",
            "Epoch 91/120\n",
            "227/227 [==============================] - 0s 2ms/step - loss: 247374784.0000\n",
            "Epoch 92/120\n",
            "227/227 [==============================] - 0s 2ms/step - loss: 246843680.0000\n",
            "Epoch 93/120\n",
            "227/227 [==============================] - 0s 2ms/step - loss: 245562144.0000\n",
            "Epoch 94/120\n",
            "227/227 [==============================] - 0s 2ms/step - loss: 263849728.0000\n",
            "Epoch 95/120\n",
            "227/227 [==============================] - 0s 2ms/step - loss: 230872672.0000\n",
            "Epoch 96/120\n",
            "227/227 [==============================] - 0s 2ms/step - loss: 256073680.0000\n",
            "Epoch 97/120\n",
            "227/227 [==============================] - 0s 2ms/step - loss: 236928064.0000\n",
            "Epoch 98/120\n",
            "227/227 [==============================] - 0s 2ms/step - loss: 247800272.0000\n",
            "Epoch 99/120\n",
            "227/227 [==============================] - 0s 2ms/step - loss: 245924560.0000\n",
            "Epoch 100/120\n",
            "227/227 [==============================] - 0s 2ms/step - loss: 243081632.0000\n",
            "Epoch 101/120\n",
            "227/227 [==============================] - 0s 2ms/step - loss: 243016080.0000\n",
            "Epoch 102/120\n",
            "227/227 [==============================] - 0s 2ms/step - loss: 255681856.0000\n",
            "Epoch 103/120\n",
            "227/227 [==============================] - 0s 2ms/step - loss: 244381104.0000\n",
            "Epoch 104/120\n",
            "227/227 [==============================] - 0s 2ms/step - loss: 243927824.0000\n",
            "Epoch 105/120\n",
            "227/227 [==============================] - 1s 2ms/step - loss: 241142592.0000\n",
            "Epoch 106/120\n",
            "227/227 [==============================] - 0s 2ms/step - loss: 248861216.0000\n",
            "Epoch 107/120\n",
            "227/227 [==============================] - 0s 2ms/step - loss: 260282256.0000\n",
            "Epoch 108/120\n",
            "227/227 [==============================] - 0s 2ms/step - loss: 242169584.0000\n",
            "Epoch 109/120\n",
            "227/227 [==============================] - 0s 2ms/step - loss: 257723120.0000\n",
            "Epoch 110/120\n",
            "227/227 [==============================] - 0s 2ms/step - loss: 248532896.0000\n",
            "Epoch 111/120\n",
            "227/227 [==============================] - 0s 2ms/step - loss: 252087072.0000\n",
            "Epoch 112/120\n",
            "227/227 [==============================] - 0s 2ms/step - loss: 248660800.0000\n",
            "Epoch 113/120\n",
            "227/227 [==============================] - 0s 2ms/step - loss: 248510576.0000\n",
            "Epoch 114/120\n",
            "227/227 [==============================] - 0s 2ms/step - loss: 254260656.0000\n",
            "Epoch 115/120\n",
            "227/227 [==============================] - 0s 2ms/step - loss: 253588240.0000\n",
            "Epoch 116/120\n",
            "227/227 [==============================] - 0s 2ms/step - loss: 238258352.0000\n",
            "Epoch 117/120\n",
            "227/227 [==============================] - 0s 2ms/step - loss: 239560608.0000\n",
            "Epoch 118/120\n",
            "227/227 [==============================] - 0s 2ms/step - loss: 250122048.0000\n",
            "Epoch 119/120\n",
            "227/227 [==============================] - 0s 2ms/step - loss: 260142144.0000\n",
            "Epoch 120/120\n",
            "227/227 [==============================] - 0s 2ms/step - loss: 237547024.0000\n"
          ]
        }
      ]
    },
    {
      "cell_type": "code",
      "source": [
        "plt.plot(history.history['loss'])"
      ],
      "metadata": {
        "colab": {
          "base_uri": "https://localhost:8080/",
          "height": 293
        },
        "id": "jG1I_-jh7fu0",
        "outputId": "4fc6ae7e-5a10-436d-8e76-f96bcfd94faf"
      },
      "execution_count": 5,
      "outputs": [
        {
          "output_type": "execute_result",
          "data": {
            "text/plain": [
              "[<matplotlib.lines.Line2D at 0x7f9654067290>]"
            ]
          },
          "metadata": {},
          "execution_count": 5
        },
        {
          "output_type": "display_data",
          "data": {
            "text/plain": [
              "<Figure size 432x288 with 1 Axes>"
            ],
            "image/png": "[encoded data removed]"
          },
          "metadata": {
            "needs_background": "light"
          }
        }
      ]
    },
    {
      "cell_type": "code",
      "source": [
        "from sklearn.metrics import r2_score\n",
        "prediction = estimator.predict(X_test)\n",
        "print(\"r_square score: \", r2_score(y_test,prediction))\n",
        "yy = np.array(y_test)\n",
        "predd = np.array(prediction)\n",
        "for i in range(10):\n",
        "  print(\"real value of y_test: \" + str(yy[i]) + \" -> the predict: \" + str(predd[i]))"
      ],
      "metadata": {
        "colab": {
          "base_uri": "https://localhost:8080/"
        },
        "id": "PnQXNvh3-rVR",
        "outputId": "3fb917ea-245c-4cb2-a91e-12f89efaf981"
      },
      "execution_count": 6,
      "outputs": [
        {
          "output_type": "stream",
          "name": "stdout",
          "text": [
            "47/47 [==============================] - 0s 1ms/step\n",
            "r_square score:  0.8008583738917185\n",
            "real value of y_test: 99999.0 -> the predict: 99997.98\n",
            "real value of y_test: 538.735535 -> the predict: 21.59732\n",
            "real value of y_test: 149.027771 -> the predict: 0.04074392\n",
            "real value of y_test: 0.124268 -> the predict: 0.0015448167\n",
            "real value of y_test: 68.455162 -> the predict: 2.2587808e-05\n",
            "real value of y_test: 5.332703 -> the predict: 0.00010288141\n",
            "real value of y_test: 63.964359 -> the predict: 2.7363224\n",
            "real value of y_test: 39.74852 -> the predict: 8.103447e-08\n",
            "real value of y_test: 383.665741 -> the predict: 1544.2202\n",
            "real value of y_test: 82.176697 -> the predict: 1.3212054\n"
          ]
        }
      ]
    },
    {
      "cell_type": "code",
      "source": [
        "from sklearn.metrics import mean_squared_error\n",
        "from math import sqrt\n",
        "\n",
        "print(\"RMSE:\")\n",
        "sqrt(mean_squared_error(yy, predd)) "
      ],
      "metadata": {
        "colab": {
          "base_uri": "https://localhost:8080/"
        },
        "id": "OSyzIFK5uzHP",
        "outputId": "ad550978-4b81-4d08-cc70-35dabe7f0fa7"
      },
      "execution_count": 7,
      "outputs": [
        {
          "output_type": "stream",
          "name": "stdout",
          "text": [
            "RMSE:\n"
          ]
        },
        {
          "output_type": "execute_result",
          "data": {
            "text/plain": [
              "16375.338630446882"
            ]
          },
          "metadata": {},
          "execution_count": 7
        }
      ]
    }
  ]
}