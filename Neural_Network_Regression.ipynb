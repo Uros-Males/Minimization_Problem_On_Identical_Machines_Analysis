{
  "nbformat": 4,
  "nbformat_minor": 0,
  "metadata": {
    "colab": {
      "name": "Neural_Network_Regression.ipynb",
      "provenance": [],
      "authorship_tag": "ABX9TyPWPjn5WmbG2K2qRUnYHlJP",
      "include_colab_link": true
    },
    "kernelspec": {
      "name": "python3",
      "display_name": "Python 3"
    },
    "language_info": {
      "name": "python"
    }
  },
  "cells": [
    {
      "cell_type": "markdown",
      "metadata": {
        "id": "view-in-github",
        "colab_type": "text"
      },
      "source": [
        "<a href=\"https://colab.research.google.com/github/Uros-Males/Minimization_Problem_On_Identical_Machines_Analysis/blob/main/Neural_Network_Regression.ipynb\" target=\"_parent\"><img src=\"https://colab.research.google.com/assets/colab-badge.svg\" alt=\"Open In Colab\"/></a>"
      ]
    },
    {
      "cell_type": "code",
      "execution_count": 1,
      "metadata": {
        "id": "YiQcuNkDxHUf",
        "colab": {
          "base_uri": "https://localhost:8080/"
        },
        "outputId": "e8fd3343-3f9d-457e-9a06-0ce216b33bd5"
      },
      "outputs": [
        {
          "output_type": "stream",
          "name": "stdout",
          "text": [
            "8750\n"
          ]
        }
      ],
      "source": [
        "#IN PROGRESS....\n",
        "import pandas as pd\n",
        "import numpy as np\n",
        "import matplotlib.pyplot as plt\n",
        "from sklearn import tree\n",
        "from sklearn.model_selection import train_test_split\n",
        "from sklearn.tree import DecisionTreeRegressor\n",
        "import time\n",
        "\n",
        "df = pd.read_csv('/content/sample_data/C-instances-runtime-analysis.csv')\n",
        "print(df.shape[0])\n",
        "\n",
        "shuffled = df.sample(frac=1).reset_index()\n",
        "\n",
        "columns_dont_want = ['y', 'index', 'inst.name','type', 'CPLEXStatus']\n",
        "select = [x for x in shuffled.columns if x not in columns_dont_want]\n",
        "\n",
        "X = shuffled.loc[:, select]\n",
        "\n",
        "y = shuffled.loc[:,'y']"
      ]
    },
    {
      "cell_type": "code",
      "source": [
        "#X_modified = X\n",
        "X_modified = X.drop(['max', 'n/m', '(n/m)^2', '(n/m)^3', 'm/n', '(m/n)^2', '(m/n)^3', 'class', 'av.length'], axis = 1)"
      ],
      "metadata": {
        "id": "Jzlk_oaRyQjm"
      },
      "execution_count": 2,
      "outputs": []
    },
    {
      "cell_type": "code",
      "source": [
        "from keras.models import Sequential\n",
        "from keras.layers import Dense ,Dropout,BatchNormalization\n",
        "from keras.layers import Dense\n",
        "from keras.wrappers.scikit_learn import KerasRegressor\n",
        "from sklearn.model_selection import cross_val_score\n",
        "\n",
        "from keras.layers import Activation\n",
        "from keras import backend as K\n",
        "from keras.utils.generic_utils import get_custom_objects\n",
        "\n",
        "import tensorflow\n",
        "from tensorflow import keras \n",
        "\n",
        "\n",
        "def custom_activation(x):\n",
        "    return 99999*1/(1+K.exp(-x))\n",
        "\n",
        "get_custom_objects().update({'custom_activation': Activation(custom_activation)})\n",
        "\n",
        "def make_model():\n",
        "    model = Sequential()\n",
        "    \n",
        "    model.add(Dense(8, input_dim=X_modified.shape[1], activation='relu'))\n",
        "    #model.add(Dropout(0.25))\n",
        "    \n",
        "    \n",
        "    model.add(Dense(16, activation='relu'))\n",
        "    #model.add(Dropout(0.25))\n",
        "\n",
        "    model.add(Dense(8, activation='relu'))\n",
        "    #model.add(Dropout(0.15))\n",
        "    \n",
        "    model.add(Dense(4, activation='relu'))\n",
        "    \n",
        "    model.add(Dense(1, activation = custom_activation))\n",
        "    #model.add(Activation(custom_activation, name='SpecialActivation'))\n",
        "    model.compile(loss='mean_squared_error', optimizer=tensorflow.keras.optimizers.Adam(clipnorm=1))\n",
        "    return model"
      ],
      "metadata": {
        "id": "7_m2qFDRya94"
      },
      "execution_count": 3,
      "outputs": []
    },
    {
      "cell_type": "code",
      "source": [
        "from sklearn.preprocessing import MinMaxScaler\n",
        "scaler =  MinMaxScaler()\n",
        "\n",
        "X_train, X_test, y_train, y_test = train_test_split(X_modified, y, random_state=0, train_size = 0.83)\n",
        "\n",
        "X_train = scaler.fit_transform(X_train)\n",
        "X_test = scaler.fit_transform(X_test)\n",
        "\n",
        "estimator = KerasRegressor(build_fn=make_model, epochs=300, batch_size=32, verbose=1)\n",
        "\n",
        "#history=estimator.fit(X_train,y_train)\n",
        "from keras.metrics import accuracy\n",
        "from keras import callbacks\n",
        "earlystopping = callbacks.EarlyStopping(monitor =\"val_loss\", \n",
        "                                        mode =\"min\", patience = 25, \n",
        "                                        restore_best_weights = True)\n",
        "  \n",
        "history = estimator.fit(X_train, y_train, validation_data =(X_test, y_test), \n",
        "                    callbacks =[earlystopping])\n",
        "#plt.plot(history.history['val_accuracy'])"
      ],
      "metadata": {
        "colab": {
          "base_uri": "https://localhost:8080/"
        },
        "id": "2JHin8gI5ftQ",
        "outputId": "cabaa301-851a-4566-b6f7-77340e5aad96"
      },
      "execution_count": 4,
      "outputs": [
        {
          "output_type": "stream",
          "name": "stderr",
          "text": [
            "/usr/local/lib/python3.7/dist-packages/ipykernel_launcher.py:9: DeprecationWarning: KerasRegressor is deprecated, use Sci-Keras (https://github.com/adriangb/scikeras) instead. See https://www.adriangb.com/scikeras/stable/migration.html for help migrating.\n",
            "  if __name__ == '__main__':\n"
          ]
        },
        {
          "output_type": "stream",
          "name": "stdout",
          "text": [
            "Epoch 1/300\n",
            "227/227 [==============================] - 3s 7ms/step - loss: 1481875328.0000 - val_loss: 745845568.0000\n",
            "Epoch 2/300\n",
            "227/227 [==============================] - 1s 6ms/step - loss: 492110272.0000 - val_loss: 437689088.0000\n",
            "Epoch 3/300\n",
            "227/227 [==============================] - 1s 6ms/step - loss: 357655776.0000 - val_loss: 391075392.0000\n",
            "Epoch 4/300\n",
            "227/227 [==============================] - 1s 6ms/step - loss: 321575136.0000 - val_loss: 382319904.0000\n",
            "Epoch 5/300\n",
            "227/227 [==============================] - 1s 6ms/step - loss: 302516896.0000 - val_loss: 357339328.0000\n",
            "Epoch 6/300\n",
            "227/227 [==============================] - 1s 6ms/step - loss: 291326432.0000 - val_loss: 329542944.0000\n",
            "Epoch 7/300\n",
            "227/227 [==============================] - 1s 5ms/step - loss: 291277184.0000 - val_loss: 330098240.0000\n",
            "Epoch 8/300\n",
            "227/227 [==============================] - 1s 3ms/step - loss: 286747072.0000 - val_loss: 349596992.0000\n",
            "Epoch 9/300\n",
            "227/227 [==============================] - 1s 2ms/step - loss: 287618624.0000 - val_loss: 319702944.0000\n",
            "Epoch 10/300\n",
            "227/227 [==============================] - 1s 2ms/step - loss: 282272064.0000 - val_loss: 312507808.0000\n",
            "Epoch 11/300\n",
            "227/227 [==============================] - 1s 3ms/step - loss: 278008160.0000 - val_loss: 340278912.0000\n",
            "Epoch 12/300\n",
            "227/227 [==============================] - 1s 2ms/step - loss: 272249472.0000 - val_loss: 293204832.0000\n",
            "Epoch 13/300\n",
            "227/227 [==============================] - 1s 2ms/step - loss: 269996864.0000 - val_loss: 304148768.0000\n",
            "Epoch 14/300\n",
            "227/227 [==============================] - 1s 2ms/step - loss: 270643904.0000 - val_loss: 317151232.0000\n",
            "Epoch 15/300\n",
            "227/227 [==============================] - 1s 2ms/step - loss: 275007552.0000 - val_loss: 284948160.0000\n",
            "Epoch 16/300\n",
            "227/227 [==============================] - 1s 2ms/step - loss: 266459904.0000 - val_loss: 270025536.0000\n",
            "Epoch 17/300\n",
            "227/227 [==============================] - 1s 2ms/step - loss: 257909984.0000 - val_loss: 312846784.0000\n",
            "Epoch 18/300\n",
            "227/227 [==============================] - 1s 2ms/step - loss: 255786192.0000 - val_loss: 299539360.0000\n",
            "Epoch 19/300\n",
            "227/227 [==============================] - 1s 2ms/step - loss: 243767744.0000 - val_loss: 283201344.0000\n",
            "Epoch 20/300\n",
            "227/227 [==============================] - 1s 2ms/step - loss: 247928704.0000 - val_loss: 243004752.0000\n",
            "Epoch 21/300\n",
            "227/227 [==============================] - 1s 2ms/step - loss: 241777728.0000 - val_loss: 254316816.0000\n",
            "Epoch 22/300\n",
            "227/227 [==============================] - 1s 2ms/step - loss: 243874208.0000 - val_loss: 256334448.0000\n",
            "Epoch 23/300\n",
            "227/227 [==============================] - 1s 2ms/step - loss: 234256336.0000 - val_loss: 239253312.0000\n",
            "Epoch 24/300\n",
            "227/227 [==============================] - 1s 2ms/step - loss: 240940976.0000 - val_loss: 236833040.0000\n",
            "Epoch 25/300\n",
            "227/227 [==============================] - 1s 2ms/step - loss: 233427440.0000 - val_loss: 245098080.0000\n",
            "Epoch 26/300\n",
            "227/227 [==============================] - 1s 2ms/step - loss: 237641056.0000 - val_loss: 234831824.0000\n",
            "Epoch 27/300\n",
            "227/227 [==============================] - 1s 2ms/step - loss: 240849264.0000 - val_loss: 262519184.0000\n",
            "Epoch 28/300\n",
            "227/227 [==============================] - 1s 2ms/step - loss: 244902912.0000 - val_loss: 239013696.0000\n",
            "Epoch 29/300\n",
            "227/227 [==============================] - 1s 2ms/step - loss: 237026080.0000 - val_loss: 224921488.0000\n",
            "Epoch 30/300\n",
            "227/227 [==============================] - 1s 2ms/step - loss: 247079824.0000 - val_loss: 281916832.0000\n",
            "Epoch 31/300\n",
            "227/227 [==============================] - 1s 2ms/step - loss: 238935264.0000 - val_loss: 237432784.0000\n",
            "Epoch 32/300\n",
            "227/227 [==============================] - 1s 2ms/step - loss: 250234096.0000 - val_loss: 293948416.0000\n",
            "Epoch 33/300\n",
            "227/227 [==============================] - 1s 2ms/step - loss: 260570992.0000 - val_loss: 275603872.0000\n",
            "Epoch 34/300\n",
            "227/227 [==============================] - 1s 2ms/step - loss: 237381776.0000 - val_loss: 250998160.0000\n",
            "Epoch 35/300\n",
            "227/227 [==============================] - 1s 2ms/step - loss: 236689168.0000 - val_loss: 227552224.0000\n",
            "Epoch 36/300\n",
            "227/227 [==============================] - 1s 2ms/step - loss: 235791504.0000 - val_loss: 255536672.0000\n",
            "Epoch 37/300\n",
            "227/227 [==============================] - 1s 2ms/step - loss: 235952352.0000 - val_loss: 248759776.0000\n",
            "Epoch 38/300\n",
            "227/227 [==============================] - 1s 2ms/step - loss: 249567088.0000 - val_loss: 227547200.0000\n",
            "Epoch 39/300\n",
            "227/227 [==============================] - 1s 2ms/step - loss: 241518176.0000 - val_loss: 218621184.0000\n",
            "Epoch 40/300\n",
            "227/227 [==============================] - 1s 3ms/step - loss: 233345984.0000 - val_loss: 235250544.0000\n",
            "Epoch 41/300\n",
            "227/227 [==============================] - 1s 3ms/step - loss: 242992688.0000 - val_loss: 223759520.0000\n",
            "Epoch 42/300\n",
            "227/227 [==============================] - 1s 2ms/step - loss: 235944400.0000 - val_loss: 232650624.0000\n",
            "Epoch 43/300\n",
            "227/227 [==============================] - 1s 2ms/step - loss: 239388832.0000 - val_loss: 231115904.0000\n",
            "Epoch 44/300\n",
            "227/227 [==============================] - 1s 2ms/step - loss: 242623024.0000 - val_loss: 228642112.0000\n",
            "Epoch 45/300\n",
            "227/227 [==============================] - 1s 3ms/step - loss: 247802976.0000 - val_loss: 251133584.0000\n",
            "Epoch 46/300\n",
            "227/227 [==============================] - 1s 2ms/step - loss: 240733344.0000 - val_loss: 242397088.0000\n",
            "Epoch 47/300\n",
            "227/227 [==============================] - 1s 2ms/step - loss: 243775936.0000 - val_loss: 218053152.0000\n",
            "Epoch 48/300\n",
            "227/227 [==============================] - 1s 2ms/step - loss: 236967088.0000 - val_loss: 238390768.0000\n",
            "Epoch 49/300\n",
            "227/227 [==============================] - 1s 2ms/step - loss: 242487440.0000 - val_loss: 241908352.0000\n",
            "Epoch 50/300\n",
            "227/227 [==============================] - 1s 2ms/step - loss: 240751312.0000 - val_loss: 259925424.0000\n",
            "Epoch 51/300\n",
            "227/227 [==============================] - 1s 2ms/step - loss: 237701440.0000 - val_loss: 329422880.0000\n",
            "Epoch 52/300\n",
            "227/227 [==============================] - 1s 2ms/step - loss: 248875424.0000 - val_loss: 235072496.0000\n",
            "Epoch 53/300\n",
            "227/227 [==============================] - 1s 2ms/step - loss: 236291328.0000 - val_loss: 290953408.0000\n",
            "Epoch 54/300\n",
            "227/227 [==============================] - 1s 2ms/step - loss: 241462416.0000 - val_loss: 223357264.0000\n",
            "Epoch 55/300\n",
            "227/227 [==============================] - 1s 2ms/step - loss: 230840928.0000 - val_loss: 237403504.0000\n",
            "Epoch 56/300\n",
            "227/227 [==============================] - 1s 2ms/step - loss: 239437760.0000 - val_loss: 240344336.0000\n",
            "Epoch 57/300\n",
            "227/227 [==============================] - 1s 3ms/step - loss: 250166048.0000 - val_loss: 231012064.0000\n",
            "Epoch 58/300\n",
            "227/227 [==============================] - 1s 2ms/step - loss: 255004560.0000 - val_loss: 231248736.0000\n",
            "Epoch 59/300\n",
            "227/227 [==============================] - 1s 2ms/step - loss: 228631904.0000 - val_loss: 219641984.0000\n",
            "Epoch 60/300\n",
            "227/227 [==============================] - 1s 2ms/step - loss: 242525776.0000 - val_loss: 259083600.0000\n",
            "Epoch 61/300\n",
            "227/227 [==============================] - 1s 2ms/step - loss: 233951488.0000 - val_loss: 239171184.0000\n",
            "Epoch 62/300\n",
            "227/227 [==============================] - 1s 2ms/step - loss: 237595152.0000 - val_loss: 335552064.0000\n",
            "Epoch 63/300\n",
            "227/227 [==============================] - 1s 2ms/step - loss: 244445648.0000 - val_loss: 289756512.0000\n",
            "Epoch 64/300\n",
            "227/227 [==============================] - 1s 2ms/step - loss: 237402480.0000 - val_loss: 268828672.0000\n",
            "Epoch 65/300\n",
            "227/227 [==============================] - 1s 2ms/step - loss: 241180848.0000 - val_loss: 232932480.0000\n",
            "Epoch 66/300\n",
            "227/227 [==============================] - 1s 2ms/step - loss: 238663744.0000 - val_loss: 213826368.0000\n",
            "Epoch 67/300\n",
            "227/227 [==============================] - 1s 3ms/step - loss: 234966992.0000 - val_loss: 220651984.0000\n",
            "Epoch 68/300\n",
            "227/227 [==============================] - 1s 2ms/step - loss: 245616928.0000 - val_loss: 235072880.0000\n",
            "Epoch 69/300\n",
            "227/227 [==============================] - 1s 2ms/step - loss: 239631696.0000 - val_loss: 260047648.0000\n",
            "Epoch 70/300\n",
            "227/227 [==============================] - 1s 2ms/step - loss: 237238016.0000 - val_loss: 229433712.0000\n",
            "Epoch 71/300\n",
            "227/227 [==============================] - 1s 2ms/step - loss: 246666976.0000 - val_loss: 280541120.0000\n",
            "Epoch 72/300\n",
            "227/227 [==============================] - 1s 2ms/step - loss: 237082208.0000 - val_loss: 234133744.0000\n",
            "Epoch 73/300\n",
            "227/227 [==============================] - 0s 2ms/step - loss: 239839408.0000 - val_loss: 249906224.0000\n",
            "Epoch 74/300\n",
            "227/227 [==============================] - 1s 2ms/step - loss: 240380496.0000 - val_loss: 231064544.0000\n",
            "Epoch 75/300\n",
            "227/227 [==============================] - 1s 2ms/step - loss: 233782736.0000 - val_loss: 276214400.0000\n",
            "Epoch 76/300\n",
            "227/227 [==============================] - 1s 3ms/step - loss: 235414784.0000 - val_loss: 223916032.0000\n",
            "Epoch 77/300\n",
            "227/227 [==============================] - 1s 2ms/step - loss: 239706208.0000 - val_loss: 216974704.0000\n",
            "Epoch 78/300\n",
            "227/227 [==============================] - 1s 2ms/step - loss: 231338864.0000 - val_loss: 241830432.0000\n",
            "Epoch 79/300\n",
            "227/227 [==============================] - 1s 2ms/step - loss: 241155280.0000 - val_loss: 222342624.0000\n",
            "Epoch 80/300\n",
            "227/227 [==============================] - 1s 2ms/step - loss: 236605408.0000 - val_loss: 230512368.0000\n",
            "Epoch 81/300\n",
            "227/227 [==============================] - 1s 2ms/step - loss: 235310240.0000 - val_loss: 224937168.0000\n",
            "Epoch 82/300\n",
            "227/227 [==============================] - 1s 2ms/step - loss: 236323520.0000 - val_loss: 224443120.0000\n",
            "Epoch 83/300\n",
            "227/227 [==============================] - 1s 2ms/step - loss: 241185456.0000 - val_loss: 220995696.0000\n",
            "Epoch 84/300\n",
            "227/227 [==============================] - 1s 3ms/step - loss: 241379104.0000 - val_loss: 218049968.0000\n",
            "Epoch 85/300\n",
            "227/227 [==============================] - 1s 4ms/step - loss: 234695792.0000 - val_loss: 228814720.0000\n",
            "Epoch 86/300\n",
            "227/227 [==============================] - 1s 4ms/step - loss: 241248256.0000 - val_loss: 218032112.0000\n",
            "Epoch 87/300\n",
            "227/227 [==============================] - 1s 3ms/step - loss: 242541856.0000 - val_loss: 250111552.0000\n",
            "Epoch 88/300\n",
            "227/227 [==============================] - 1s 2ms/step - loss: 236423616.0000 - val_loss: 218462608.0000\n",
            "Epoch 89/300\n",
            "227/227 [==============================] - 1s 2ms/step - loss: 239258976.0000 - val_loss: 226114336.0000\n",
            "Epoch 90/300\n",
            "227/227 [==============================] - 1s 2ms/step - loss: 237400272.0000 - val_loss: 225172528.0000\n",
            "Epoch 91/300\n",
            "227/227 [==============================] - 1s 2ms/step - loss: 234107312.0000 - val_loss: 232944800.0000\n"
          ]
        }
      ]
    },
    {
      "cell_type": "code",
      "source": [
        "plt.plot(history.history['loss'])"
      ],
      "metadata": {
        "colab": {
          "base_uri": "https://localhost:8080/",
          "height": 293
        },
        "id": "jG1I_-jh7fu0",
        "outputId": "3f743595-17cb-418d-f728-77edb79eb9ce"
      },
      "execution_count": 5,
      "outputs": [
        {
          "output_type": "execute_result",
          "data": {
            "text/plain": [
              "[<matplotlib.lines.Line2D at 0x7f4f0ea55f90>]"
            ]
          },
          "metadata": {},
          "execution_count": 5
        },
        {
          "output_type": "display_data",
          "data": {
            "text/plain": [
              "<Figure size 432x288 with 1 Axes>"
            ],
            "image/png": "[encoded data removed]"
          },
          "metadata": {
            "needs_background": "light"
          }
        }
      ]
    },
    {
      "cell_type": "code",
      "source": [
        "from sklearn.metrics import r2_score\n",
        "prediction = estimator.predict(X_test)\n",
        "print(\"r_square score: \", r2_score(y_test,prediction))\n",
        "yy = np.array(y_test)\n",
        "predd = np.array(prediction)\n",
        "for i in range(10):\n",
        "  print(\"real value of y_test: \" + str(yy[i]) + \" -> the predict: \" + str(predd[i]))"
      ],
      "metadata": {
        "colab": {
          "base_uri": "https://localhost:8080/"
        },
        "id": "PnQXNvh3-rVR",
        "outputId": "7f2aaaf7-8330-482b-ca14-820a15ec0efd"
      },
      "execution_count": 6,
      "outputs": [
        {
          "output_type": "stream",
          "name": "stdout",
          "text": [
            "47/47 [==============================] - 0s 1ms/step\n",
            "r_square score:  0.8447864611381928\n",
            "real value of y_test: 34.84095 -> the predict: 0.04818043\n",
            "real value of y_test: 430.069794 -> the predict: 2.0037694\n",
            "real value of y_test: 141.699677 -> the predict: 1.9049865\n",
            "real value of y_test: 7.439738 -> the predict: 0.032969143\n",
            "real value of y_test: 25.334997 -> the predict: 0.0006766373\n",
            "real value of y_test: 318.094604 -> the predict: 1.4119083\n",
            "real value of y_test: 0.090652 -> the predict: 0.07541133\n",
            "real value of y_test: 52.323692 -> the predict: 5.042119e-09\n",
            "real value of y_test: 318.850769 -> the predict: 0.085426636\n",
            "real value of y_test: 0.605969 -> the predict: 0.009048541\n"
          ]
        }
      ]
    },
    {
      "cell_type": "code",
      "source": [
        "from sklearn.metrics import mean_squared_error\n",
        "from math import sqrt\n",
        "\n",
        "print(\"RMSE:\")\n",
        "sqrt(mean_squared_error(yy, predd)) "
      ],
      "metadata": {
        "colab": {
          "base_uri": "https://localhost:8080/"
        },
        "id": "OSyzIFK5uzHP",
        "outputId": "49fcb3f0-b49e-4993-a2a3-b5666a26ad69"
      },
      "execution_count": 7,
      "outputs": [
        {
          "output_type": "stream",
          "name": "stdout",
          "text": [
            "RMSE:\n"
          ]
        },
        {
          "output_type": "execute_result",
          "data": {
            "text/plain": [
              "14622.80372188153"
            ]
          },
          "metadata": {},
          "execution_count": 7
        }
      ]
    }
  ]
}