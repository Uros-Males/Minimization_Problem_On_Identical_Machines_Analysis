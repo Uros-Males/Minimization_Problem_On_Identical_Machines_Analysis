{
  "nbformat": 4,
  "nbformat_minor": 0,
  "metadata": {
    "colab": {
      "name": "Neural_Network_Classification.ipynb",
      "provenance": [],
      "authorship_tag": "ABX9TyMih2dhIXl01Oos/UnSFjos",
      "include_colab_link": true
    },
    "kernelspec": {
      "name": "python3",
      "display_name": "Python 3"
    },
    "language_info": {
      "name": "python"
    }
  },
  "cells": [
    {
      "cell_type": "markdown",
      "metadata": {
        "id": "view-in-github",
        "colab_type": "text"
      },
      "source": [
        "<a href=\"https://colab.research.google.com/github/Uros-Males/Minimization_Problem_On_Identical_Machines_Analysis/blob/main/Neural_Network_SMOTE_Multi_Classs_Classification.ipynb\" target=\"_parent\"><img src=\"https://colab.research.google.com/assets/colab-badge.svg\" alt=\"Open In Colab\"/></a>"
      ]
    },
    {
      "cell_type": "code",
      "execution_count": 1,
      "metadata": {
        "colab": {
          "base_uri": "https://localhost:8080/"
        },
        "id": "6u-X4QiVmgm4",
        "outputId": "02e4e868-9d14-4c0e-908b-ca1ab772f013"
      },
      "outputs": [
        {
          "output_type": "stream",
          "name": "stdout",
          "text": [
            "8750\n"
          ]
        }
      ],
      "source": [
        "#IN PROGRESS....\n",
        "import pandas as pd\n",
        "import numpy as np\n",
        "import matplotlib.pyplot as plt\n",
        "from sklearn import tree\n",
        "from sklearn.model_selection import train_test_split\n",
        "from sklearn.tree import DecisionTreeRegressor\n",
        "import time\n",
        "import keras\n",
        "\n",
        "df = pd.read_csv('/content/sample_data/C-instances-runtime-analysis.csv')\n",
        "print(df.shape[0])\n",
        "\n",
        "shuffled = df.sample(frac=1).reset_index()\n",
        "\n",
        "columns_dont_want = ['y', 'index', 'inst.name','type', 'CPLEXStatus'] #cple\n",
        "select = [x for x in shuffled.columns if x not in columns_dont_want]\n",
        "\n",
        "#print(shuffled_temp)\n",
        "\n",
        "\n",
        "X = shuffled.loc[:, select]\n",
        "\n",
        "y = shuffled.loc[:,'y']\n",
        "#print(X.head())\n",
        "names = ['subtype', 'class', 'indeks', 'n', 'm', 'n/m', '(n/m)^2', '(n/m)^3', 'm/n', '(m/n)^2',\n",
        "         '(m/n)^3', 'av.length', 'std.dev', 'median', 'range', 'min', 'max', 'k']\n",
        "#print(names[1])\n",
        "\n"
      ]
    },
    {
      "cell_type": "code",
      "source": [
        "y_new = []\n",
        "for val in y:\n",
        "  if(val<10):\n",
        "    y_new.append(0)\n",
        "  elif(10 <= val and val <100):\n",
        "    y_new.append(1)\n",
        "  elif(100<=val and val<1000):\n",
        "    y_new.append(2)\n",
        "  else:\n",
        "    y_new.append(3)\n",
        "\n",
        "shuffled['y_new'] = y_new\n",
        "#print(shuffled.head())\n",
        "y_encoded = shuffled.loc[:,'y_new']\n",
        "y_new = np.array(y_new)\n",
        "plt.hist(y_new)\n",
        "plt.show()\n",
        "X_modified = X\n",
        "#X_modified = X.drop(['n/m', '(n/m)^2', '(n/m)^3', 'm/n', '(m/n)^2', '(m/n)^3', 'max', 'av.length'], axis = 1)\n",
        "#print(X_modified.shape[1])"
      ],
      "metadata": {
        "id": "XkPXcbO0riCC",
        "colab": {
          "base_uri": "https://localhost:8080/",
          "height": 265
        },
        "outputId": "051d6be4-b038-4e6c-ca25-ebc6264cefc8"
      },
      "execution_count": 2,
      "outputs": [
        {
          "output_type": "display_data",
          "data": {
            "text/plain": [
              "<Figure size 432x288 with 1 Axes>"
            ],
            "image/png": "[encoded data removed]"
          },
          "metadata": {
            "needs_background": "light"
          }
        }
      ]
    },
    {
      "cell_type": "code",
      "source": [
        "\n",
        "shuffled_temp=[]\n",
        "for i in range(shuffled.shape[0]):\n",
        "  if(shuffled.loc[i]['n/m']==2):\n",
        "    shuffled_temp.append(shuffled.loc[i])\n",
        "\n",
        "shuffled.drop(shuffled.loc[df['n/m']==2].index, inplace=True)\n",
        "print(shuffled.shape[0])\n",
        "\n",
        "X = shuffled.loc[:, select]\n",
        "\n",
        "y = shuffled.loc[:,'y']\n",
        "    \n",
        "\n",
        "columns_dont_want = ['y', 'index', 'inst.name','type', 'CPLEXStatus'] #cple\n",
        "select = [x for x in shuffled.columns if x not in columns_dont_want]\n",
        "\n",
        "shuffled_temp = pd.DataFrame(shuffled_temp, columns = select)\n",
        "\n",
        "columns_dont_want = ['y', 'index', 'inst.name','type', 'CPLEXStatus', 'y_new'] #cple\n",
        "select = [x for x in shuffled.columns if x not in columns_dont_want]\n",
        "\n",
        "X_temp = shuffled_temp.loc[:, select]\n",
        "\n",
        "y_temp = shuffled_temp.loc[:,'y_new']\n",
        "\n",
        "from imblearn.over_sampling import SMOTE\n",
        "\n",
        "smote_on_3 = 50\n",
        "oversample = SMOTE(sampling_strategy={3:380})\n",
        "X_temp, y_temp = oversample.fit_resample(X_temp, y_temp)\n",
        "from collections import Counter\n",
        "counter = Counter(y_temp)\n",
        "\n",
        "\n",
        "\n"
      ],
      "metadata": {
        "id": "KvshjiO8WCbE",
        "outputId": "88307e00-07be-4ff4-dba9-a368b311a1f2",
        "colab": {
          "base_uri": "https://localhost:8080/"
        }
      },
      "execution_count": 3,
      "outputs": [
        {
          "output_type": "stream",
          "name": "stdout",
          "text": [
            "8050\n"
          ]
        }
      ]
    },
    {
      "cell_type": "code",
      "source": [
        "columns_dont_want = ['y', 'index', 'inst.name','type', 'CPLEXStatus'] #cple\n",
        "select = [x for x in shuffled.columns if x not in columns_dont_want]\n",
        "shuffled = pd.DataFrame(shuffled, columns=select)\n",
        "X_temp[\"y_new\"] = y_temp\n",
        "\n",
        "#for i in range(X_temp.shape[0]):\n",
        " # X_temp.iloc[i].insert(\"y_new\", y_temp[i])\n",
        "  #print(X_temp.iloc[i])\n",
        "print(shuffled.shape[0])\n",
        "shuffled = pd.concat([shuffled, X_temp], ignore_index=True)\n",
        "#print(shuffled.shape[0])"
      ],
      "metadata": {
        "id": "dG7tgSWzhVt9",
        "outputId": "e5d2879c-3c95-4030-b69f-d71452a71b34",
        "colab": {
          "base_uri": "https://localhost:8080/"
        }
      },
      "execution_count": 4,
      "outputs": [
        {
          "output_type": "stream",
          "name": "stdout",
          "text": [
            "8050\n"
          ]
        }
      ]
    },
    {
      "cell_type": "code",
      "source": [
        "#X, y_encoded\n",
        "shuffled = shuffled.sample(frac=1).reset_index()\n",
        "\n",
        "columns_dont_want = ['y', 'index', 'inst.name','type', 'CPLEXStatus', 'y_new'] #cple\n",
        "select = [x for x in shuffled.columns if x not in columns_dont_want]\n",
        "\n",
        "#print(shuffled_temp)\n",
        "\n",
        "\n",
        "X_modified = shuffled.loc[:, select]\n",
        "print(shuffled.shape[0])\n",
        "\n",
        "y_encoded = shuffled.loc[:,'y_new']"
      ],
      "metadata": {
        "id": "SgQGIFDXYMct",
        "outputId": "6befcbe6-606b-4692-b60d-30e6a5c7b553",
        "colab": {
          "base_uri": "https://localhost:8080/"
        }
      },
      "execution_count": 5,
      "outputs": [
        {
          "output_type": "stream",
          "name": "stdout",
          "text": [
            "9113\n"
          ]
        }
      ]
    },
    {
      "cell_type": "code",
      "source": [
        "from sklearn.preprocessing import LabelEncoder\n",
        "from keras.utils.np_utils import to_categorical\n",
        "\n",
        "l_encode = LabelEncoder()\n",
        "l_encode.fit(y_encoded)\n",
        "y_encoded = l_encode.transform(y_encoded)\n",
        "y_encoded = to_categorical(y_encoded)\n",
        "y_encoded"
      ],
      "metadata": {
        "colab": {
          "base_uri": "https://localhost:8080/"
        },
        "id": "W2hvUxxE2NWr",
        "outputId": "34defda3-0842-4f17-a3b6-7b2ac69c17d3"
      },
      "execution_count": 6,
      "outputs": [
        {
          "output_type": "execute_result",
          "data": {
            "text/plain": [
              "array([[1., 0., 0., 0.],\n",
              "       [0., 0., 0., 1.],\n",
              "       [0., 0., 0., 1.],\n",
              "       ...,\n",
              "       [1., 0., 0., 0.],\n",
              "       [0., 1., 0., 0.],\n",
              "       [1., 0., 0., 0.]], dtype=float32)"
            ]
          },
          "metadata": {},
          "execution_count": 6
        }
      ]
    },
    {
      "cell_type": "code",
      "source": [
        "from keras.models import Sequential\n",
        "from keras.layers import Dense, Dropout\n",
        "\n",
        "classifier = Sequential()\n",
        "classifier.add(Dense(8, input_dim = X_modified.shape[1], activation='relu'))\n",
        "#classifier.add(Dense(8, activation = 'relu'))\n",
        "\n",
        "classifier.add(Dense(16, activation = 'relu'))\n",
        "\n",
        "#classifier.add(Dense(32, activation = 'relu'))\n",
        "#classifier.add(Dense(32, activation = 'relu'))\n",
        "#classifier.add(Dense(16, activation = 'relu'))\n",
        "\n",
        "classifier.add(Dense(32, activation='relu'))\n",
        "\n",
        "classifier.add(Dense(64, activation='relu'))\n",
        "\n",
        "classifier.add(Dense(16, activation='relu'))\n",
        "\n",
        "classifier.add(Dense(4, activation = 'softmax'))\n",
        "classifier.compile(loss = 'categorical_crossentropy', optimizer = 'adam', metrics = ['accuracy'])\n",
        "classifier.summary()"
      ],
      "metadata": {
        "id": "jRT-grzys8_y",
        "colab": {
          "base_uri": "https://localhost:8080/"
        },
        "outputId": "1b46fd3b-5759-4c10-ab01-0b3fdaa82e8a"
      },
      "execution_count": 7,
      "outputs": [
        {
          "output_type": "stream",
          "name": "stdout",
          "text": [
            "Model: \"sequential\"\n",
            "_________________________________________________________________\n",
            " Layer (type)                Output Shape              Param #   \n",
            "=================================================================\n",
            " dense (Dense)               (None, 8)                 152       \n",
            "                                                                 \n",
            " dense_1 (Dense)             (None, 16)                144       \n",
            "                                                                 \n",
            " dense_2 (Dense)             (None, 32)                544       \n",
            "                                                                 \n",
            " dense_3 (Dense)             (None, 64)                2112      \n",
            "                                                                 \n",
            " dense_4 (Dense)             (None, 16)                1040      \n",
            "                                                                 \n",
            " dense_5 (Dense)             (None, 4)                 68        \n",
            "                                                                 \n",
            "=================================================================\n",
            "Total params: 4,060\n",
            "Trainable params: 4,060\n",
            "Non-trainable params: 0\n",
            "_________________________________________________________________\n"
          ]
        }
      ]
    },
    {
      "cell_type": "code",
      "source": [
        "from sklearn.preprocessing import MinMaxScaler\n",
        "scaler =  MinMaxScaler()\n",
        "\n",
        "X_train, X_test, y_train, y_test = train_test_split(X_modified, y_encoded, random_state=0, train_size = 0.83)\n",
        "\n",
        "X_train = scaler.fit_transform(X_train)\n",
        "X_test_copy = X_test\n",
        "print(X_test_copy.head(10))\n",
        "X_test = scaler.fit_transform(X_test)"
      ],
      "metadata": {
        "id": "gWTX6M2mxxPD",
        "outputId": "0dd953ea-e2cc-45cb-e6e4-4f71711a7281",
        "colab": {
          "base_uri": "https://localhost:8080/"
        }
      },
      "execution_count": 8,
      "outputs": [
        {
          "output_type": "stream",
          "name": "stdout",
          "text": [
            "      subtype  class  indeks    n   m   n/m  (n/m)^2     (n/m)^3       m/n  \\\n",
            "6867       12      2       1  108  12  9.00  81.0000  729.000000  0.111111   \n",
            "4585       12      7       1  198  22  9.00  81.0000  729.000000  0.111111   \n",
            "558         8      5       6  180  45  4.00  16.0000   64.000000  0.250000   \n",
            "8611        2      3       1   72  32  2.25   5.0625   11.390625  0.444444   \n",
            "5716       12      5      10  162  18  9.00  81.0000  729.000000  0.111111   \n",
            "2606        4      7       2  176  64  2.75   7.5625   20.796875  0.363636   \n",
            "2505       12      4       9  162  18  9.00  81.0000  729.000000  0.111111   \n",
            "1479        8      3       7  200  50  4.00  16.0000   64.000000  0.250000   \n",
            "1283       11      6       5  144  24  6.00  36.0000  216.000000  0.166667   \n",
            "4900       12      4       4   72   8  9.00  81.0000  729.000000  0.111111   \n",
            "\n",
            "       (m/n)^2   (m/n)^3   av.length     std.dev  median  range  min   max  \\\n",
            "6867  0.012346  0.001372   56.064816   24.096489    52.5     80   20   100   \n",
            "4585  0.012346  0.001372  791.025269  196.622818   774.5    948  286  1234   \n",
            "558   0.062500  0.015625   99.588890   46.460861   102.5    245    2   247   \n",
            "8611  0.197531  0.087791   77.083336   13.360391    78.0     49   50    99   \n",
            "5716  0.012346  0.001372  103.950615   50.484829   100.5    221   11   232   \n",
            "2606  0.132231  0.048084  699.602295  170.857620   698.0   1021  214  1235   \n",
            "2505  0.012346  0.001372   97.962959   21.328800    96.0    122   22   144   \n",
            "1479  0.062500  0.015625   75.389999   15.575004    77.0     50   50   100   \n",
            "1283  0.027778  0.004630  362.944458  115.249062   350.5    422  154   576   \n",
            "4900  0.012346  0.001372   97.527779   20.190624    98.0     89   54   143   \n",
            "\n",
            "        k  \n",
            "6867   58  \n",
            "4585  174  \n",
            "558   111  \n",
            "8611   38  \n",
            "5716  105  \n",
            "2606  146  \n",
            "2505   71  \n",
            "1479   51  \n",
            "1283  125  \n",
            "4900   53  \n"
          ]
        }
      ]
    },
    {
      "cell_type": "code",
      "source": [
        "#classifier.fit(X_train, y_train, batch_size = 64, epochs = 20, verbose = 1)\n",
        "#scores = classifier.evaluate(X_test, y_test)\n",
        "#for i, m in enumerate(classifier.metrics_names):\n",
        "#    print(\"\\n%s: %.3f\"% (m, scores[i]))\n",
        "print(X_test_copy.iloc[0]['subtype'])"
      ],
      "metadata": {
        "id": "Mm7RsTBcx2EN",
        "outputId": "ade576fe-13b8-4fec-b0d4-46fae32db634",
        "colab": {
          "base_uri": "https://localhost:8080/"
        }
      },
      "execution_count": 9,
      "outputs": [
        {
          "output_type": "stream",
          "name": "stdout",
          "text": [
            "12.0\n"
          ]
        }
      ]
    },
    {
      "cell_type": "code",
      "source": [
        "from keras.metrics import accuracy\n",
        "from keras import callbacks\n",
        "earlystopping = callbacks.EarlyStopping(monitor =\"val_loss\", \n",
        "                                        mode =\"min\", patience = 15, \n",
        "                                        restore_best_weights = True)\n",
        "  \n",
        "history = classifier.fit(X_train, y_train, batch_size = 16, \n",
        "                    epochs = 600, validation_data =(X_test, y_test), \n",
        "                    callbacks =[earlystopping])\n",
        "plt.plot(history.history['val_accuracy'])\n",
        "\n"
      ],
      "metadata": {
        "colab": {
          "base_uri": "https://localhost:8080/",
          "height": 1000
        },
        "id": "Sv9aKFPW5KGr",
        "outputId": "5fb807d1-28d5-47a2-9fe5-4148b2e9412c"
      },
      "execution_count": 10,
      "outputs": [
        {
          "output_type": "stream",
          "name": "stdout",
          "text": [
            "Epoch 1/600\n",
            "473/473 [==============================] - 4s 5ms/step - loss: 0.9325 - accuracy: 0.6080 - val_loss: 0.6449 - val_accuracy: 0.7239\n",
            "Epoch 2/600\n",
            "473/473 [==============================] - 2s 4ms/step - loss: 0.5876 - accuracy: 0.7423 - val_loss: 0.5208 - val_accuracy: 0.7697\n",
            "Epoch 3/600\n",
            "473/473 [==============================] - 2s 4ms/step - loss: 0.5100 - accuracy: 0.7743 - val_loss: 0.4823 - val_accuracy: 0.7935\n",
            "Epoch 4/600\n",
            "473/473 [==============================] - 2s 5ms/step - loss: 0.4878 - accuracy: 0.7867 - val_loss: 0.4910 - val_accuracy: 0.7761\n",
            "Epoch 5/600\n",
            "473/473 [==============================] - 2s 5ms/step - loss: 0.4744 - accuracy: 0.7958 - val_loss: 0.4638 - val_accuracy: 0.7910\n",
            "Epoch 6/600\n",
            "473/473 [==============================] - 2s 4ms/step - loss: 0.4629 - accuracy: 0.7957 - val_loss: 0.4497 - val_accuracy: 0.7948\n",
            "Epoch 7/600\n",
            "473/473 [==============================] - 2s 5ms/step - loss: 0.4532 - accuracy: 0.8007 - val_loss: 0.4756 - val_accuracy: 0.7839\n",
            "Epoch 8/600\n",
            "473/473 [==============================] - 2s 5ms/step - loss: 0.4454 - accuracy: 0.8063 - val_loss: 0.4498 - val_accuracy: 0.7858\n",
            "Epoch 9/600\n",
            "473/473 [==============================] - 2s 4ms/step - loss: 0.4437 - accuracy: 0.8054 - val_loss: 0.4376 - val_accuracy: 0.8039\n",
            "Epoch 10/600\n",
            "473/473 [==============================] - 2s 5ms/step - loss: 0.4437 - accuracy: 0.8089 - val_loss: 0.4587 - val_accuracy: 0.7787\n",
            "Epoch 11/600\n",
            "473/473 [==============================] - 1s 3ms/step - loss: 0.4320 - accuracy: 0.8093 - val_loss: 0.4452 - val_accuracy: 0.7903\n",
            "Epoch 12/600\n",
            "473/473 [==============================] - 1s 2ms/step - loss: 0.4316 - accuracy: 0.8109 - val_loss: 0.4193 - val_accuracy: 0.8084\n",
            "Epoch 13/600\n",
            "473/473 [==============================] - 1s 2ms/step - loss: 0.4281 - accuracy: 0.8116 - val_loss: 0.4265 - val_accuracy: 0.8123\n",
            "Epoch 14/600\n",
            "473/473 [==============================] - 1s 2ms/step - loss: 0.4208 - accuracy: 0.8149 - val_loss: 0.4245 - val_accuracy: 0.8045\n",
            "Epoch 15/600\n",
            "473/473 [==============================] - 1s 2ms/step - loss: 0.4194 - accuracy: 0.8165 - val_loss: 0.4123 - val_accuracy: 0.8142\n",
            "Epoch 16/600\n",
            "473/473 [==============================] - 1s 2ms/step - loss: 0.4194 - accuracy: 0.8157 - val_loss: 0.4230 - val_accuracy: 0.8052\n",
            "Epoch 17/600\n",
            "473/473 [==============================] - 1s 2ms/step - loss: 0.4161 - accuracy: 0.8179 - val_loss: 0.4268 - val_accuracy: 0.8097\n",
            "Epoch 18/600\n",
            "473/473 [==============================] - 1s 2ms/step - loss: 0.4136 - accuracy: 0.8178 - val_loss: 0.4052 - val_accuracy: 0.8161\n",
            "Epoch 19/600\n",
            "473/473 [==============================] - 1s 2ms/step - loss: 0.4121 - accuracy: 0.8208 - val_loss: 0.4154 - val_accuracy: 0.8194\n",
            "Epoch 20/600\n",
            "473/473 [==============================] - 1s 2ms/step - loss: 0.4070 - accuracy: 0.8193 - val_loss: 0.4135 - val_accuracy: 0.8181\n",
            "Epoch 21/600\n",
            "473/473 [==============================] - 1s 2ms/step - loss: 0.4052 - accuracy: 0.8215 - val_loss: 0.4216 - val_accuracy: 0.8058\n",
            "Epoch 22/600\n",
            "473/473 [==============================] - 1s 2ms/step - loss: 0.4079 - accuracy: 0.8203 - val_loss: 0.4043 - val_accuracy: 0.8116\n",
            "Epoch 23/600\n",
            "473/473 [==============================] - 1s 2ms/step - loss: 0.4094 - accuracy: 0.8210 - val_loss: 0.3971 - val_accuracy: 0.8194\n",
            "Epoch 24/600\n",
            "473/473 [==============================] - 1s 2ms/step - loss: 0.4002 - accuracy: 0.8218 - val_loss: 0.4122 - val_accuracy: 0.8129\n",
            "Epoch 25/600\n",
            "473/473 [==============================] - 1s 2ms/step - loss: 0.3963 - accuracy: 0.8231 - val_loss: 0.4008 - val_accuracy: 0.8252\n",
            "Epoch 26/600\n",
            "473/473 [==============================] - 1s 2ms/step - loss: 0.3978 - accuracy: 0.8236 - val_loss: 0.4208 - val_accuracy: 0.8174\n",
            "Epoch 27/600\n",
            "473/473 [==============================] - 1s 2ms/step - loss: 0.3954 - accuracy: 0.8232 - val_loss: 0.4123 - val_accuracy: 0.8213\n",
            "Epoch 28/600\n",
            "473/473 [==============================] - 1s 2ms/step - loss: 0.3943 - accuracy: 0.8248 - val_loss: 0.4154 - val_accuracy: 0.8097\n",
            "Epoch 29/600\n",
            "473/473 [==============================] - 1s 2ms/step - loss: 0.3954 - accuracy: 0.8248 - val_loss: 0.4000 - val_accuracy: 0.8161\n",
            "Epoch 30/600\n",
            "473/473 [==============================] - 1s 2ms/step - loss: 0.3894 - accuracy: 0.8263 - val_loss: 0.3820 - val_accuracy: 0.8290\n",
            "Epoch 31/600\n",
            "473/473 [==============================] - 1s 2ms/step - loss: 0.3891 - accuracy: 0.8277 - val_loss: 0.3841 - val_accuracy: 0.8245\n",
            "Epoch 32/600\n",
            "473/473 [==============================] - 1s 2ms/step - loss: 0.3857 - accuracy: 0.8314 - val_loss: 0.4080 - val_accuracy: 0.8155\n",
            "Epoch 33/600\n",
            "473/473 [==============================] - 1s 2ms/step - loss: 0.3874 - accuracy: 0.8330 - val_loss: 0.3870 - val_accuracy: 0.8277\n",
            "Epoch 34/600\n",
            "473/473 [==============================] - 1s 2ms/step - loss: 0.3887 - accuracy: 0.8267 - val_loss: 0.3940 - val_accuracy: 0.8252\n",
            "Epoch 35/600\n",
            "473/473 [==============================] - 1s 2ms/step - loss: 0.3828 - accuracy: 0.8309 - val_loss: 0.4037 - val_accuracy: 0.8187\n",
            "Epoch 36/600\n",
            "473/473 [==============================] - 1s 2ms/step - loss: 0.3820 - accuracy: 0.8313 - val_loss: 0.3976 - val_accuracy: 0.8123\n",
            "Epoch 37/600\n",
            "473/473 [==============================] - 1s 2ms/step - loss: 0.3823 - accuracy: 0.8298 - val_loss: 0.3948 - val_accuracy: 0.8174\n",
            "Epoch 38/600\n",
            "473/473 [==============================] - 1s 2ms/step - loss: 0.3802 - accuracy: 0.8326 - val_loss: 0.3785 - val_accuracy: 0.8239\n",
            "Epoch 39/600\n",
            "473/473 [==============================] - 1s 2ms/step - loss: 0.3782 - accuracy: 0.8289 - val_loss: 0.3748 - val_accuracy: 0.8329\n",
            "Epoch 40/600\n",
            "473/473 [==============================] - 1s 2ms/step - loss: 0.3749 - accuracy: 0.8342 - val_loss: 0.3763 - val_accuracy: 0.8271\n",
            "Epoch 41/600\n",
            "473/473 [==============================] - 1s 2ms/step - loss: 0.3770 - accuracy: 0.8334 - val_loss: 0.4089 - val_accuracy: 0.8148\n",
            "Epoch 42/600\n",
            "473/473 [==============================] - 1s 2ms/step - loss: 0.3768 - accuracy: 0.8334 - val_loss: 0.4034 - val_accuracy: 0.8213\n",
            "Epoch 43/600\n",
            "473/473 [==============================] - 1s 2ms/step - loss: 0.3733 - accuracy: 0.8330 - val_loss: 0.3909 - val_accuracy: 0.8194\n",
            "Epoch 44/600\n",
            "473/473 [==============================] - 1s 2ms/step - loss: 0.3673 - accuracy: 0.8370 - val_loss: 0.3873 - val_accuracy: 0.8316\n",
            "Epoch 45/600\n",
            "473/473 [==============================] - 1s 2ms/step - loss: 0.3771 - accuracy: 0.8317 - val_loss: 0.3759 - val_accuracy: 0.8297\n",
            "Epoch 46/600\n",
            "473/473 [==============================] - 1s 2ms/step - loss: 0.3748 - accuracy: 0.8313 - val_loss: 0.3958 - val_accuracy: 0.8213\n",
            "Epoch 47/600\n",
            "473/473 [==============================] - 1s 2ms/step - loss: 0.3747 - accuracy: 0.8315 - val_loss: 0.3823 - val_accuracy: 0.8277\n",
            "Epoch 48/600\n",
            "473/473 [==============================] - 1s 2ms/step - loss: 0.3697 - accuracy: 0.8358 - val_loss: 0.3916 - val_accuracy: 0.8174\n",
            "Epoch 49/600\n",
            "473/473 [==============================] - 1s 2ms/step - loss: 0.3669 - accuracy: 0.8335 - val_loss: 0.3945 - val_accuracy: 0.8297\n",
            "Epoch 50/600\n",
            "473/473 [==============================] - 1s 2ms/step - loss: 0.3682 - accuracy: 0.8321 - val_loss: 0.3812 - val_accuracy: 0.8284\n",
            "Epoch 51/600\n",
            "473/473 [==============================] - 1s 2ms/step - loss: 0.3654 - accuracy: 0.8350 - val_loss: 0.3915 - val_accuracy: 0.8271\n",
            "Epoch 52/600\n",
            "473/473 [==============================] - 1s 2ms/step - loss: 0.3672 - accuracy: 0.8339 - val_loss: 0.3844 - val_accuracy: 0.8335\n",
            "Epoch 53/600\n",
            "473/473 [==============================] - 1s 2ms/step - loss: 0.3694 - accuracy: 0.8335 - val_loss: 0.3777 - val_accuracy: 0.8310\n",
            "Epoch 54/600\n",
            "473/473 [==============================] - 1s 2ms/step - loss: 0.3667 - accuracy: 0.8368 - val_loss: 0.3784 - val_accuracy: 0.8316\n"
          ]
        },
        {
          "output_type": "execute_result",
          "data": {
            "text/plain": [
              "[<matplotlib.lines.Line2D at 0x7f060add4a10>]"
            ]
          },
          "metadata": {},
          "execution_count": 10
        },
        {
          "output_type": "display_data",
          "data": {
            "text/plain": [
              "<Figure size 432x288 with 1 Axes>"
            ],
            "image/png": "[encoded data removed]"
          },
          "metadata": {
            "needs_background": "light"
          }
        }
      ]
    },
    {
      "cell_type": "code",
      "source": [
        "from keras.metrics import accuracy\n",
        "#test_size = X_test.shape[0]\n",
        "pred = classifier.predict(X_test)\n",
        "#print(pred)\n",
        "pred_ = np.argmax(pred, axis = 1)\n",
        "#print(pred_)\n",
        "pred_ = l_encode.inverse_transform(pred_)\n",
        "\n",
        "true_y = l_encode.inverse_transform(np.argmax(to_categorical(y_test), axis = 1)[:,1])\n",
        "\n",
        "\n",
        "#for i,j in zip(pred_, true_y):\n",
        "#    print(\"Predicted: {}, True: {}\".format(i, j))\n",
        "\n",
        "cnt = 0\n",
        "cnt_correct = 0\n",
        "\n",
        "for i in range(len(pred_)):\n",
        "  cnt += 1\n",
        "  if(pred_[i] == true_y[i]):\n",
        "    cnt_correct += 1\n",
        "  if(pred_[i] == 0 and true_y[i]== 3):\n",
        "    #print(X_test[i])\n",
        "    for j in range(len(names)):\n",
        "      print(names[j]+\"->\"+str(X_test_copy.iloc[i][names[j]]))\n",
        "    print(\"------------------------------------------------------------------\")\n",
        "\n",
        "print(f'accuracy: {(cnt_correct/cnt)*100:.2f}%')"
      ],
      "metadata": {
        "colab": {
          "base_uri": "https://localhost:8080/"
        },
        "id": "-WKM6CPTczGd",
        "outputId": "6289bcdb-94f4-42aa-a1ca-509b6e7a0675"
      },
      "execution_count": 11,
      "outputs": [
        {
          "output_type": "stream",
          "name": "stdout",
          "text": [
            "subtype->1.0\n",
            "class->7.0\n",
            "indeks->10.0\n",
            "n->180.0\n",
            "m->90.0\n",
            "n/m->2.0\n",
            "(n/m)^2->4.0\n",
            "(n/m)^3->8.0\n",
            "m/n->0.5\n",
            "(m/n)^2->0.25\n",
            "(m/n)^3->0.125\n",
            "av.length->706.877808\n",
            "std.dev->175.294418\n",
            "median->749.5\n",
            "range->848.0\n",
            "min->256.0\n",
            "max->1104.0\n",
            "k->154.0\n",
            "------------------------------------------------------------------\n",
            "accuracy: 83.29%\n"
          ]
        }
      ]
    },
    {
      "cell_type": "code",
      "source": [
        "from sklearn.metrics import confusion_matrix, ConfusionMatrixDisplay\n",
        "#for i in range(len(pred_)):\n",
        "#  print(true_y[i])\n",
        "#print(confusion_matrix(true_y, pred_, labels=[0, 1, 2, 3]))\n",
        "cm = confusion_matrix(true_y, pred_, labels=[0, 1, 2, 3])\n",
        "cmd = ConfusionMatrixDisplay(cm, display_labels=['easy','moderate', 'hard', 'very hard'])\n",
        "#plt.subplot(1, 2, 1)\n",
        "cmd.plot()\n",
        "print(f'accuracy: {(cnt_correct/cnt)*100:.2f}%')"
      ],
      "metadata": {
        "colab": {
          "base_uri": "https://localhost:8080/",
          "height": 298
        },
        "id": "td3mlxlNxXqF",
        "outputId": "89455c9a-99c2-49bc-dd49-445c02c77e70"
      },
      "execution_count": 12,
      "outputs": [
        {
          "output_type": "stream",
          "name": "stdout",
          "text": [
            "accuracy: 83.29%\n"
          ]
        },
        {
          "output_type": "display_data",
          "data": {
            "text/plain": [
              "<Figure size 432x288 with 2 Axes>"
            ],
            "image/png": "[encoded data removed]"
          },
          "metadata": {
            "needs_background": "light"
          }
        }
      ]
    },
    {
      "cell_type": "code",
      "source": [
        "y_new = np.array(y_new)\n",
        "plt.hist(y_new)\n",
        "#plt.title('0->[0,2000) : 1->[2000,99999]')\n",
        "plt.show()"
      ],
      "metadata": {
        "id": "a_uXCro7BbBx",
        "outputId": "b46a1495-f8ed-419c-bb1c-211b9faeb5c6",
        "colab": {
          "base_uri": "https://localhost:8080/",
          "height": 265
        }
      },
      "execution_count": 13,
      "outputs": [
        {
          "output_type": "display_data",
          "data": {
            "text/plain": [
              "<Figure size 432x288 with 1 Axes>"
            ],
            "image/png": "[encoded data removed]"
          },
          "metadata": {
            "needs_background": "light"
          }
        }
      ]
    },
    {
      "cell_type": "code",
      "source": [
        "import matplotlib.pyplot as plt \n",
        "from sklearn.preprocessing import LabelBinarizer\n",
        "from sklearn.metrics import roc_curve, auc, roc_auc_score\n",
        "\n",
        "\n",
        "target= ['easy', 'moderate', 'hard', 'very hard']\n",
        "\n",
        "fig, c_ax = plt.subplots(1,1, figsize = (12, 8))\n",
        "\n",
        "def multiclass_roc_auc_score(y_test, y_pred, average=\"macro\"):\n",
        "    lb = LabelBinarizer()\n",
        "    lb.fit(y_test)\n",
        "    y_test = lb.transform(y_test)\n",
        "    y_pred = lb.transform(y_pred)\n",
        "\n",
        "    for (idx, c_label) in enumerate(target):\n",
        "        fpr, tpr, thresholds = roc_curve(y_test[:,idx].astype(int), y_pred[:,idx])\n",
        "        c_ax.plot(fpr, tpr, label = '%s (AUC:%0.2f)'  % (c_label, auc(fpr, tpr)))\n",
        "    c_ax.plot(fpr, fpr, 'b-', label = 'Random Guessing')\n",
        "    return roc_auc_score(y_test, y_pred, average=average)\n",
        "\n",
        "\n",
        "print('ROC AUC score:', multiclass_roc_auc_score(true_y, pred_))\n",
        "\n",
        "c_ax.legend()\n",
        "c_ax.set_xlabel('False Positive Rate')\n",
        "c_ax.set_ylabel('True Positive Rate')\n",
        "plt.grid()\n",
        "plt.show()"
      ],
      "metadata": {
        "id": "ilN2NeRZ-wOR",
        "outputId": "4bd6df2b-cbeb-4a5a-fad4-6f70994f700f",
        "colab": {
          "base_uri": "https://localhost:8080/",
          "height": 514
        }
      },
      "execution_count": 14,
      "outputs": [
        {
          "output_type": "stream",
          "name": "stdout",
          "text": [
            "ROC AUC score: 0.8769244178030814\n"
          ]
        },
        {
          "output_type": "display_data",
          "data": {
            "text/plain": [
              "<Figure size 864x576 with 1 Axes>"
            ],
            "image/png": "[encoded data removed]"
          },
          "metadata": {
            "needs_background": "light"
          }
        }
      ]
    }
  ]
}