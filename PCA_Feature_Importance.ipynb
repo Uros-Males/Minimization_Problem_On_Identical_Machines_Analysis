{
  "nbformat": 4,
  "nbformat_minor": 0,
  "metadata": {
    "colab": {
      "name": "Analyzing_data.ipynb",
      "provenance": [],
      "authorship_tag": "ABX9TyNg8O99zJXee7JEq/bl4Fax",
      "include_colab_link": true
    },
    "kernelspec": {
      "name": "python3",
      "display_name": "Python 3"
    },
    "language_info": {
      "name": "python"
    }
  },
  "cells": [
    {
      "cell_type": "markdown",
      "metadata": {
        "id": "view-in-github",
        "colab_type": "text"
      },
      "source": [
        "<a href=\"https://colab.research.google.com/github/Uros-Males/Minimization_Problem_On_Identical_Machines_Analysis/blob/main/PCA_Feature_Importance.ipynb\" target=\"_parent\"><img src=\"https://colab.research.google.com/assets/colab-badge.svg\" alt=\"Open In Colab\"/></a>"
      ]
    },
    {
      "cell_type": "code",
      "execution_count": 1,
      "metadata": {
        "id": "ol-tTjMEwIKX"
      },
      "outputs": [],
      "source": [
        "#IN PROGRESS....\n",
        "import pandas as pd\n",
        "import numpy as np\n",
        "import matplotlib.pyplot as plt\n",
        "from sklearn import tree\n",
        "from sklearn.model_selection import train_test_split\n",
        "from sklearn.tree import DecisionTreeRegressor\n",
        "import time\n",
        "\n",
        "df = pd.read_csv('/content/sample_data/C-instances-runtime-analysis.csv')\n",
        "\n",
        "shuffled = df.sample(frac=1).reset_index()\n",
        "\n",
        "columns_dont_want = ['y', 'index', 'inst.name', 'CPLEXStatus','type','indeks','subtype','class']\n",
        "select = [x for x in shuffled.columns if x not in columns_dont_want]\n",
        "\n",
        "X = shuffled.loc[:, select]\n",
        "\n",
        "y = shuffled.loc[:,'y']\n",
        "\n",
        "X['m/n'] = X['m/n'].apply(lambda x: x*100000)\n",
        "X['(m/n)^2'] = X['(m/n)^2'].apply(lambda x: x*100000)\n",
        "X['(m/n)^3'] = X['(m/n)^3'].apply(lambda x: x*100000)\n",
        "shuffled = shuffled.drop(['CPLEXStatus', 'indeks', 'index'], axis = 1)"
      ]
    },
    {
      "cell_type": "code",
      "source": [
        "from sklearn.decomposition import PCA\n",
        "from sklearn.preprocessing import StandardScaler\n",
        "\n",
        "sc = StandardScaler()\n",
        "X = sc.fit_transform(X)\n",
        "\n",
        "pca = PCA(n_components = 5)\n",
        "pca.fit(X)\n",
        "data_pca = pca.transform(X)\n",
        "data_pca = pd.DataFrame(data_pca,columns=['PC1','PC2','PC3','PC4','PC5'])\n",
        "\n",
        "corr = data_pca.corr()\n",
        "corr.style.background_gradient()\n",
        "from sklearn.decomposition import PCA\n",
        "\n",
        "pca = PCA(n_components = 5)\n",
        "pca.fit(X)\n",
        "data_pca = pca.transform(X)\n",
        "data_pca = pd.DataFrame(data_pca,columns=['PC1','PC2','PC3','PC4','PC5'])\n",
        "\n",
        "corr = data_pca.corr()\n",
        "corr.style.background_gradient()\n"
      ],
      "metadata": {
        "id": "FxUG8zbp9Jit",
        "outputId": "e8b9fdc1-bbf8-4c37-976d-434617aced6e",
        "colab": {
          "base_uri": "https://localhost:8080/",
          "height": 206
        }
      },
      "execution_count": 2,
      "outputs": [
        {
          "output_type": "execute_result",
          "data": {
            "text/plain": [
              "<pandas.io.formats.style.Styler at 0x7fabe4631b50>"
            ],
            "text/html": [
              "<style type=\"text/css\">\n",
              "#T_7fc66_row0_col0, #T_7fc66_row1_col1, #T_7fc66_row2_col2, #T_7fc66_row3_col3, #T_7fc66_row4_col4 {\n",
              "  background-color: #023858;\n",
              "  color: #f1f1f1;\n",
              "}\n",
              "#T_7fc66_row0_col1, #T_7fc66_row0_col2, #T_7fc66_row0_col3, #T_7fc66_row0_col4, #T_7fc66_row1_col0, #T_7fc66_row1_col2, #T_7fc66_row1_col3, #T_7fc66_row1_col4, #T_7fc66_row2_col0, #T_7fc66_row2_col1, #T_7fc66_row2_col3, #T_7fc66_row2_col4, #T_7fc66_row3_col0, #T_7fc66_row3_col1, #T_7fc66_row3_col2, #T_7fc66_row3_col4, #T_7fc66_row4_col0, #T_7fc66_row4_col1, #T_7fc66_row4_col2, #T_7fc66_row4_col3 {\n",
              "  background-color: #fff7fb;\n",
              "  color: #000000;\n",
              "}\n",
              "</style>\n",
              "<table id=\"T_7fc66_\" class=\"dataframe\">\n",
              "  <thead>\n",
              "    <tr>\n",
              "      <th class=\"blank level0\" >&nbsp;</th>\n",
              "      <th class=\"col_heading level0 col0\" >PC1</th>\n",
              "      <th class=\"col_heading level0 col1\" >PC2</th>\n",
              "      <th class=\"col_heading level0 col2\" >PC3</th>\n",
              "      <th class=\"col_heading level0 col3\" >PC4</th>\n",
              "      <th class=\"col_heading level0 col4\" >PC5</th>\n",
              "    </tr>\n",
              "  </thead>\n",
              "  <tbody>\n",
              "    <tr>\n",
              "      <th id=\"T_7fc66_level0_row0\" class=\"row_heading level0 row0\" >PC1</th>\n",
              "      <td id=\"T_7fc66_row0_col0\" class=\"data row0 col0\" >1.000000</td>\n",
              "      <td id=\"T_7fc66_row0_col1\" class=\"data row0 col1\" >0.000000</td>\n",
              "      <td id=\"T_7fc66_row0_col2\" class=\"data row0 col2\" >-0.000000</td>\n",
              "      <td id=\"T_7fc66_row0_col3\" class=\"data row0 col3\" >-0.000000</td>\n",
              "      <td id=\"T_7fc66_row0_col4\" class=\"data row0 col4\" >-0.000000</td>\n",
              "    </tr>\n",
              "    <tr>\n",
              "      <th id=\"T_7fc66_level0_row1\" class=\"row_heading level0 row1\" >PC2</th>\n",
              "      <td id=\"T_7fc66_row1_col0\" class=\"data row1 col0\" >0.000000</td>\n",
              "      <td id=\"T_7fc66_row1_col1\" class=\"data row1 col1\" >1.000000</td>\n",
              "      <td id=\"T_7fc66_row1_col2\" class=\"data row1 col2\" >0.000000</td>\n",
              "      <td id=\"T_7fc66_row1_col3\" class=\"data row1 col3\" >-0.000000</td>\n",
              "      <td id=\"T_7fc66_row1_col4\" class=\"data row1 col4\" >0.000000</td>\n",
              "    </tr>\n",
              "    <tr>\n",
              "      <th id=\"T_7fc66_level0_row2\" class=\"row_heading level0 row2\" >PC3</th>\n",
              "      <td id=\"T_7fc66_row2_col0\" class=\"data row2 col0\" >-0.000000</td>\n",
              "      <td id=\"T_7fc66_row2_col1\" class=\"data row2 col1\" >0.000000</td>\n",
              "      <td id=\"T_7fc66_row2_col2\" class=\"data row2 col2\" >1.000000</td>\n",
              "      <td id=\"T_7fc66_row2_col3\" class=\"data row2 col3\" >0.000000</td>\n",
              "      <td id=\"T_7fc66_row2_col4\" class=\"data row2 col4\" >-0.000000</td>\n",
              "    </tr>\n",
              "    <tr>\n",
              "      <th id=\"T_7fc66_level0_row3\" class=\"row_heading level0 row3\" >PC4</th>\n",
              "      <td id=\"T_7fc66_row3_col0\" class=\"data row3 col0\" >-0.000000</td>\n",
              "      <td id=\"T_7fc66_row3_col1\" class=\"data row3 col1\" >-0.000000</td>\n",
              "      <td id=\"T_7fc66_row3_col2\" class=\"data row3 col2\" >0.000000</td>\n",
              "      <td id=\"T_7fc66_row3_col3\" class=\"data row3 col3\" >1.000000</td>\n",
              "      <td id=\"T_7fc66_row3_col4\" class=\"data row3 col4\" >-0.000000</td>\n",
              "    </tr>\n",
              "    <tr>\n",
              "      <th id=\"T_7fc66_level0_row4\" class=\"row_heading level0 row4\" >PC5</th>\n",
              "      <td id=\"T_7fc66_row4_col0\" class=\"data row4 col0\" >-0.000000</td>\n",
              "      <td id=\"T_7fc66_row4_col1\" class=\"data row4 col1\" >0.000000</td>\n",
              "      <td id=\"T_7fc66_row4_col2\" class=\"data row4 col2\" >-0.000000</td>\n",
              "      <td id=\"T_7fc66_row4_col3\" class=\"data row4 col3\" >-0.000000</td>\n",
              "      <td id=\"T_7fc66_row4_col4\" class=\"data row4 col4\" >1.000000</td>\n",
              "    </tr>\n",
              "  </tbody>\n",
              "</table>\n"
            ]
          },
          "metadata": {},
          "execution_count": 2
        }
      ]
    },
    {
      "cell_type": "code",
      "source": [
        "X = pd.DataFrame(X, columns = select)\n",
        "print(pd.DataFrame(pca.components_, columns=X.columns,index = ['PC1','PC2','PC3','PC4','PC5']))"
      ],
      "metadata": {
        "id": "FBf7P8tW9We_",
        "outputId": "55a69164-96e5-4e5f-955c-4a7274231696",
        "colab": {
          "base_uri": "https://localhost:8080/"
        }
      },
      "execution_count": 3,
      "outputs": [
        {
          "output_type": "stream",
          "name": "stdout",
          "text": [
            "            n         m       n/m   (n/m)^2   (n/m)^3       m/n   (m/n)^2  \\\n",
            "PC1  0.184347  0.166189 -0.054550 -0.050015 -0.045993  0.058482  0.056477   \n",
            "PC2  0.003235 -0.272767  0.403929  0.383685  0.364372 -0.408302 -0.388629   \n",
            "PC3  0.702772  0.481587  0.104617  0.124035  0.135487 -0.046974 -0.023475   \n",
            "PC4 -0.138633  0.038974  0.249623  0.411934  0.506623  0.218209  0.403498   \n",
            "PC5 -0.174623 -0.190024 -0.011697 -0.007956 -0.006497  0.028018  0.037572   \n",
            "\n",
            "      (m/n)^3  av.length   std.dev    median     range       min       max  \\\n",
            "PC1  0.053450   0.374148  0.369715  0.373476  0.370350  0.338678  0.375307   \n",
            "PC2 -0.365712   0.070900  0.068975  0.070905  0.068919  0.066085  0.070549   \n",
            "PC3 -0.008483  -0.145547 -0.100226 -0.149910 -0.104849 -0.188690 -0.127728   \n",
            "PC4  0.520882   0.020836  0.007568  0.021731  0.010182  0.033932  0.016016   \n",
            "PC5  0.045788  -0.077359  0.277034 -0.076945  0.320267 -0.770612  0.078467   \n",
            "\n",
            "            k  \n",
            "PC1  0.335352  \n",
            "PC2  0.045321  \n",
            "PC3  0.331748  \n",
            "PC4 -0.079838  \n",
            "PC5  0.370997  \n"
          ]
        }
      ]
    },
    {
      "cell_type": "code",
      "source": [
        "print('Top 6 most important features in each component')\n",
        "print('===============================================')\n",
        "pca_components = abs(pca.components_)\n",
        "for row in range(pca_components.shape[0]):\n",
        "    temp = np.argpartition(-(pca_components[row]), 6)\n",
        "    \n",
        "    indices = temp[np.argsort((-pca_components[row])[temp])][:6]\n",
        "    \n",
        "    print(f'Component {row+1}: {X.columns[indices].to_list()}')"
      ],
      "metadata": {
        "id": "TMXjanzW_Fuk",
        "outputId": "fb7b2c17-5e54-46be-f8e3-cbe6f58aeff0",
        "colab": {
          "base_uri": "https://localhost:8080/"
        }
      },
      "execution_count": 4,
      "outputs": [
        {
          "output_type": "stream",
          "name": "stdout",
          "text": [
            "Top 6 most important features in each component\n",
            "===============================================\n",
            "Component 1: ['max', 'av.length', 'median', 'range', 'std.dev', 'min']\n",
            "Component 2: ['m/n', 'n/m', '(m/n)^2', '(n/m)^2', '(m/n)^3', '(n/m)^3']\n",
            "Component 3: ['n', 'm', 'k', 'min', 'median', 'av.length']\n",
            "Component 4: ['(m/n)^3', '(n/m)^3', '(n/m)^2', '(m/n)^2', 'n/m', 'm/n']\n",
            "Component 5: ['min', 'k', 'range', 'std.dev', 'm', 'n']\n"
          ]
        }
      ]
    }
  ]
}