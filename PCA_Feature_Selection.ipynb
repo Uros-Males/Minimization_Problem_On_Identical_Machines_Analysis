{
  "nbformat": 4,
  "nbformat_minor": 0,
  "metadata": {
    "colab": {
      "name": "Analyzing_data.ipynb",
      "provenance": [],
      "authorship_tag": "ABX9TyMMBaAw6wswU8Yt3tOszmWs",
      "include_colab_link": true
    },
    "kernelspec": {
      "name": "python3",
      "display_name": "Python 3"
    },
    "language_info": {
      "name": "python"
    }
  },
  "cells": [
    {
      "cell_type": "markdown",
      "metadata": {
        "id": "view-in-github",
        "colab_type": "text"
      },
      "source": [
        "<a href=\"https://colab.research.google.com/github/Uros-Males/Minimization_Problem_On_Identical_Machines_Analysis/blob/main/PCA_Feature_Selection.ipynb\" target=\"_parent\"><img src=\"https://colab.research.google.com/assets/colab-badge.svg\" alt=\"Open In Colab\"/></a>"
      ]
    },
    {
      "cell_type": "code",
      "execution_count": 1,
      "metadata": {
        "id": "ol-tTjMEwIKX"
      },
      "outputs": [],
      "source": [
        "#IN PROGRESS....\n",
        "import pandas as pd\n",
        "import numpy as np\n",
        "import matplotlib.pyplot as plt\n",
        "from sklearn import tree\n",
        "from sklearn.model_selection import train_test_split\n",
        "from sklearn.tree import DecisionTreeRegressor\n",
        "import time\n",
        "\n",
        "df = pd.read_csv('/content/sample_data/C-instances-runtime-analysis.csv')\n",
        "\n",
        "shuffled = df.sample(frac=1).reset_index()\n",
        "\n",
        "columns_dont_want = ['y', 'index', 'inst.name', 'CPLEXStatus','type','indeks']\n",
        "select = [x for x in shuffled.columns if x not in columns_dont_want]\n",
        "\n",
        "X = shuffled.loc[:, select]\n",
        "\n",
        "y = shuffled.loc[:,'y']\n",
        "\n",
        "X['m/n'] = X['m/n'].apply(lambda x: x*100000)\n",
        "X['(m/n)^2'] = X['(m/n)^2'].apply(lambda x: x*100000)\n",
        "X['(m/n)^3'] = X['(m/n)^3'].apply(lambda x: x*100000)\n",
        "shuffled = shuffled.drop(['CPLEXStatus', 'indeks', 'index'], axis = 1)"
      ]
    },
    {
      "cell_type": "code",
      "source": [
        "from sklearn.decomposition import PCA\n",
        "from sklearn.preprocessing import StandardScaler\n",
        "\n",
        "sc = StandardScaler()\n",
        "X = sc.fit_transform(X)\n",
        "\n",
        "pca = PCA(n_components = 5)\n",
        "pca.fit(X)\n",
        "data_pca = pca.transform(X)\n",
        "data_pca = pd.DataFrame(data_pca,columns=['PC1','PC2','PC3','PC4','PC5'])\n",
        "\n",
        "corr = data_pca.corr()\n",
        "corr.style.background_gradient()\n",
        "from sklearn.decomposition import PCA\n",
        "\n",
        "pca = PCA(n_components = 5)\n",
        "pca.fit(X)\n",
        "data_pca = pca.transform(X)\n",
        "data_pca = pd.DataFrame(data_pca,columns=['PC1','PC2','PC3','PC4','PC5'])\n",
        "\n",
        "corr = data_pca.corr()\n",
        "corr.style.background_gradient()\n"
      ],
      "metadata": {
        "id": "FxUG8zbp9Jit",
        "outputId": "f824bb8f-8c94-4ca2-b3cd-7ca7c400e8d5",
        "colab": {
          "base_uri": "https://localhost:8080/",
          "height": 206
        }
      },
      "execution_count": 2,
      "outputs": [
        {
          "output_type": "execute_result",
          "data": {
            "text/plain": [
              "<pandas.io.formats.style.Styler at 0x7fb47a7fed50>"
            ],
            "text/html": [
              "<style type=\"text/css\">\n",
              "#T_8ad42_row0_col0, #T_8ad42_row1_col1, #T_8ad42_row2_col2, #T_8ad42_row3_col3, #T_8ad42_row4_col4 {\n",
              "  background-color: #023858;\n",
              "  color: #f1f1f1;\n",
              "}\n",
              "#T_8ad42_row0_col1, #T_8ad42_row0_col2, #T_8ad42_row0_col3, #T_8ad42_row0_col4, #T_8ad42_row1_col0, #T_8ad42_row1_col2, #T_8ad42_row1_col3, #T_8ad42_row1_col4, #T_8ad42_row2_col0, #T_8ad42_row2_col1, #T_8ad42_row2_col3, #T_8ad42_row2_col4, #T_8ad42_row3_col0, #T_8ad42_row3_col1, #T_8ad42_row3_col2, #T_8ad42_row3_col4, #T_8ad42_row4_col0, #T_8ad42_row4_col1, #T_8ad42_row4_col2, #T_8ad42_row4_col3 {\n",
              "  background-color: #fff7fb;\n",
              "  color: #000000;\n",
              "}\n",
              "</style>\n",
              "<table id=\"T_8ad42_\" class=\"dataframe\">\n",
              "  <thead>\n",
              "    <tr>\n",
              "      <th class=\"blank level0\" >&nbsp;</th>\n",
              "      <th class=\"col_heading level0 col0\" >PC1</th>\n",
              "      <th class=\"col_heading level0 col1\" >PC2</th>\n",
              "      <th class=\"col_heading level0 col2\" >PC3</th>\n",
              "      <th class=\"col_heading level0 col3\" >PC4</th>\n",
              "      <th class=\"col_heading level0 col4\" >PC5</th>\n",
              "    </tr>\n",
              "  </thead>\n",
              "  <tbody>\n",
              "    <tr>\n",
              "      <th id=\"T_8ad42_level0_row0\" class=\"row_heading level0 row0\" >PC1</th>\n",
              "      <td id=\"T_8ad42_row0_col0\" class=\"data row0 col0\" >1.000000</td>\n",
              "      <td id=\"T_8ad42_row0_col1\" class=\"data row0 col1\" >0.000000</td>\n",
              "      <td id=\"T_8ad42_row0_col2\" class=\"data row0 col2\" >-0.000000</td>\n",
              "      <td id=\"T_8ad42_row0_col3\" class=\"data row0 col3\" >0.000000</td>\n",
              "      <td id=\"T_8ad42_row0_col4\" class=\"data row0 col4\" >-0.000000</td>\n",
              "    </tr>\n",
              "    <tr>\n",
              "      <th id=\"T_8ad42_level0_row1\" class=\"row_heading level0 row1\" >PC2</th>\n",
              "      <td id=\"T_8ad42_row1_col0\" class=\"data row1 col0\" >0.000000</td>\n",
              "      <td id=\"T_8ad42_row1_col1\" class=\"data row1 col1\" >1.000000</td>\n",
              "      <td id=\"T_8ad42_row1_col2\" class=\"data row1 col2\" >0.000000</td>\n",
              "      <td id=\"T_8ad42_row1_col3\" class=\"data row1 col3\" >-0.000000</td>\n",
              "      <td id=\"T_8ad42_row1_col4\" class=\"data row1 col4\" >0.000000</td>\n",
              "    </tr>\n",
              "    <tr>\n",
              "      <th id=\"T_8ad42_level0_row2\" class=\"row_heading level0 row2\" >PC3</th>\n",
              "      <td id=\"T_8ad42_row2_col0\" class=\"data row2 col0\" >-0.000000</td>\n",
              "      <td id=\"T_8ad42_row2_col1\" class=\"data row2 col1\" >0.000000</td>\n",
              "      <td id=\"T_8ad42_row2_col2\" class=\"data row2 col2\" >1.000000</td>\n",
              "      <td id=\"T_8ad42_row2_col3\" class=\"data row2 col3\" >-0.000000</td>\n",
              "      <td id=\"T_8ad42_row2_col4\" class=\"data row2 col4\" >0.000000</td>\n",
              "    </tr>\n",
              "    <tr>\n",
              "      <th id=\"T_8ad42_level0_row3\" class=\"row_heading level0 row3\" >PC4</th>\n",
              "      <td id=\"T_8ad42_row3_col0\" class=\"data row3 col0\" >0.000000</td>\n",
              "      <td id=\"T_8ad42_row3_col1\" class=\"data row3 col1\" >-0.000000</td>\n",
              "      <td id=\"T_8ad42_row3_col2\" class=\"data row3 col2\" >-0.000000</td>\n",
              "      <td id=\"T_8ad42_row3_col3\" class=\"data row3 col3\" >1.000000</td>\n",
              "      <td id=\"T_8ad42_row3_col4\" class=\"data row3 col4\" >0.000000</td>\n",
              "    </tr>\n",
              "    <tr>\n",
              "      <th id=\"T_8ad42_level0_row4\" class=\"row_heading level0 row4\" >PC5</th>\n",
              "      <td id=\"T_8ad42_row4_col0\" class=\"data row4 col0\" >-0.000000</td>\n",
              "      <td id=\"T_8ad42_row4_col1\" class=\"data row4 col1\" >0.000000</td>\n",
              "      <td id=\"T_8ad42_row4_col2\" class=\"data row4 col2\" >0.000000</td>\n",
              "      <td id=\"T_8ad42_row4_col3\" class=\"data row4 col3\" >0.000000</td>\n",
              "      <td id=\"T_8ad42_row4_col4\" class=\"data row4 col4\" >1.000000</td>\n",
              "    </tr>\n",
              "  </tbody>\n",
              "</table>\n"
            ]
          },
          "metadata": {},
          "execution_count": 2
        }
      ]
    },
    {
      "cell_type": "code",
      "source": [
        "X = pd.DataFrame(X, columns = select)\n",
        "print(pd.DataFrame(pca.components_, columns=X.columns,index = ['PC1','PC2','PC3','PC4','PC5']))"
      ],
      "metadata": {
        "id": "FBf7P8tW9We_",
        "outputId": "83a1174c-b60c-4a9b-a985-27f6facfe4c6",
        "colab": {
          "base_uri": "https://localhost:8080/"
        }
      },
      "execution_count": 3,
      "outputs": [
        {
          "output_type": "stream",
          "name": "stdout",
          "text": [
            "      subtype     class         n         m       n/m   (n/m)^2   (n/m)^3  \\\n",
            "PC1 -0.094389  0.250071  0.162214  0.174913 -0.089728 -0.083249 -0.077464   \n",
            "PC2  0.372365  0.079581  0.022304 -0.234061  0.363826  0.343913  0.325484   \n",
            "PC3  0.046926 -0.333436  0.681869  0.466293  0.084725  0.099063  0.107666   \n",
            "PC4 -0.134432  0.063478 -0.099768  0.045908  0.277243  0.438026  0.531510   \n",
            "PC5 -0.022578 -0.899973 -0.203804 -0.171675 -0.006128  0.000072  0.003359   \n",
            "\n",
            "          m/n   (m/n)^2   (m/n)^3  av.length   std.dev    median     range  \\\n",
            "PC1  0.094529  0.090940  0.085945   0.355308  0.350191  0.354700  0.351095   \n",
            "PC2 -0.371666 -0.354914 -0.334495   0.103199  0.100852  0.103118  0.100973   \n",
            "PC3 -0.042345 -0.025008 -0.013895  -0.094726 -0.051627 -0.098606 -0.057075   \n",
            "PC4  0.187243  0.371065  0.487131   0.005817 -0.004416  0.006342 -0.001905   \n",
            "PC5  0.025661  0.034181  0.040117   0.147245  0.153061  0.151891  0.144943   \n",
            "\n",
            "          min       max         k  \n",
            "PC1  0.323210  0.356289  0.310980  \n",
            "PC2  0.095451  0.103044  0.076014  \n",
            "PC3 -0.143269 -0.078914  0.348820  \n",
            "PC4  0.017842  0.002601 -0.064312  \n",
            "PC5  0.082308  0.135258 -0.028067  \n"
          ]
        }
      ]
    },
    {
      "cell_type": "code",
      "source": [
        "print('Top 6 most important features in each component')\n",
        "print('===============================================')\n",
        "pca_components = abs(pca.components_)\n",
        "for row in range(pca_components.shape[0]):\n",
        "    temp = np.argpartition(-(pca_components[row]), 6)\n",
        "    \n",
        "    indices = temp[np.argsort((-pca_components[row])[temp])][:6]\n",
        "    \n",
        "    print(f'Component {row+1}: {X.columns[indices].to_list()}')"
      ],
      "metadata": {
        "id": "TMXjanzW_Fuk",
        "outputId": "581b576d-4fc6-4e78-c6e5-d952172e9ae8",
        "colab": {
          "base_uri": "https://localhost:8080/"
        }
      },
      "execution_count": 4,
      "outputs": [
        {
          "output_type": "stream",
          "name": "stdout",
          "text": [
            "Top 6 most important features in each component\n",
            "===============================================\n",
            "Component 1: ['max', 'av.length', 'median', 'range', 'std.dev', 'min']\n",
            "Component 2: ['subtype', 'm/n', 'n/m', '(m/n)^2', '(n/m)^2', '(m/n)^3']\n",
            "Component 3: ['n', 'm', 'k', 'class', 'min', '(n/m)^3']\n",
            "Component 4: ['(n/m)^3', '(m/n)^3', '(n/m)^2', '(m/n)^2', 'n/m', 'm/n']\n",
            "Component 5: ['class', 'n', 'm', 'std.dev', 'median', 'av.length']\n"
          ]
        }
      ]
    }
  ]
}