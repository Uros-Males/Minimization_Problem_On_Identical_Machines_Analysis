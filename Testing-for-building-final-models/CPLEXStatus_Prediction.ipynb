{
  "nbformat": 4,
  "nbformat_minor": 0,
  "metadata": {
    "colab": {
      "name": "Neural_Network_Classification.ipynb",
      "provenance": [],
      "authorship_tag": "ABX9TyNsU6V6o+IXZoszOvxWSvXF",
      "include_colab_link": true
    },
    "kernelspec": {
      "name": "python3",
      "display_name": "Python 3"
    },
    "language_info": {
      "name": "python"
    }
  },
  "cells": [
    {
      "cell_type": "markdown",
      "metadata": {
        "id": "view-in-github",
        "colab_type": "text"
      },
      "source": [
        "<a href=\"https://colab.research.google.com/github/Uros-Males/Minimization_Problem_On_Identical_Machines_Analysis/blob/main/CPLEXStatus_Prediction.ipynb\" target=\"_parent\"><img src=\"https://colab.research.google.com/assets/colab-badge.svg\" alt=\"Open In Colab\"/></a>"
      ]
    },
    {
      "cell_type": "code",
      "execution_count": 1,
      "metadata": {
        "colab": {
          "base_uri": "https://localhost:8080/"
        },
        "id": "6u-X4QiVmgm4",
        "outputId": "e565ae10-7d25-458e-b3af-b7370827fe5b"
      },
      "outputs": [
        {
          "output_type": "stream",
          "name": "stdout",
          "text": [
            "8750\n",
            "   subtype  class  indeks    n   m  n/m  (n/m)^2  (n/m)^3       m/n   (m/n)^2  \\\n",
            "0       10      5       2  180  36  5.0    25.00  125.000  0.200000  0.040000   \n",
            "1        3      4       7   80  32  2.5     6.25   15.625  0.400000  0.160000   \n",
            "2       12      5       1   36   4  9.0    81.00  729.000  0.111111  0.012346   \n",
            "3       12      4       9   36   4  9.0    81.00  729.000  0.111111  0.012346   \n",
            "4        1      2      10   40  20  2.0     4.00    8.000  0.500000  0.250000   \n",
            "\n",
            "    (m/n)^3   av.length    std.dev  median  range  min  max    k  \n",
            "0  0.008000   97.027779  45.132622    95.0    202    1  203  119  \n",
            "1  0.064000  100.300003  21.576712    98.5     88   62  150   52  \n",
            "2  0.001372  106.666664  43.838013   101.0    201    8  209   31  \n",
            "3  0.001372  101.694443  19.487461   103.0    104   51  155   26  \n",
            "4  0.125000   65.550003  22.500086    65.5     78   22  100   30  \n"
          ]
        }
      ],
      "source": [
        "#IN PROGRESS....\n",
        "import pandas as pd\n",
        "import numpy as np\n",
        "import matplotlib.pyplot as plt\n",
        "from sklearn import tree\n",
        "from sklearn.model_selection import train_test_split\n",
        "from sklearn.tree import DecisionTreeRegressor\n",
        "import time\n",
        "import keras\n",
        "\n",
        "df = pd.read_csv('/content/sample_data/C-instances-runtime-analysis.csv')\n",
        "#df = df[df['n/m']!=2]\n",
        "print(df.shape[0])\n",
        "\n",
        "\n",
        "\n",
        "shuffled = df.sample(frac=1).reset_index()\n",
        "\n",
        "#, 'CPLEXStatus'\n",
        "columns_dont_want = ['y', 'index', 'inst.name','type', 'CPLEXStatus'] #cple\n",
        "select = [x for x in shuffled.columns if x not in columns_dont_want]\n",
        "\n",
        "X = shuffled.loc[:, select]\n",
        "\n",
        "y = shuffled.loc[:,'CPLEXStatus']\n",
        "print(X.head())\n",
        "names = ['indeks', 'n', 'n/m', '(n/m)^2', '(n/m)^3', 'm/n', 'av.length', 'std.dev', 'median', 'range', 'min', 'max', 'k']\n",
        "#print(names[1])\n",
        "\n",
        "\n"
      ]
    },
    {
      "cell_type": "code",
      "source": [
        "y_new = []\n",
        "for val in y:\n",
        "  if(val<10):\n",
        "    y_new.append(0)\n",
        "  elif(10 <= val and val <100):\n",
        "    y_new.append(1)\n",
        "  elif(100<=val and val<1000):\n",
        "    y_new.append(2)\n",
        "  else:\n",
        "    y_new.append(3)\n",
        "\n",
        "shuffled['y_new'] = y_new\n",
        "#print(shuffled.head())\n",
        "y_encoded = shuffled.loc[:,'y_new']\n",
        "y_new = np.array(y_new)\n",
        "plt.hist(y_new)\n",
        "plt.show()\n",
        "X_modified = X\n",
        "#X_modified = X.drop(['n/m', '(n/m)^2', '(n/m)^3', 'm/n', '(m/n)^2', '(m/n)^3', 'max', 'av.length'], axis = 1)\n",
        "#print(X_modified.shape[1])"
      ],
      "metadata": {
        "id": "XkPXcbO0riCC",
        "colab": {
          "base_uri": "https://localhost:8080/",
          "height": 265
        },
        "outputId": "227a6cf7-9e40-4021-9487-16a06d4b2ff8"
      },
      "execution_count": 2,
      "outputs": [
        {
          "output_type": "display_data",
          "data": {
            "text/plain": [
              "<Figure size 432x288 with 1 Axes>"
            ],
            "image/png": "[encoded data removed]"
          },
          "metadata": {
            "needs_background": "light"
          }
        }
      ]
    },
    {
      "cell_type": "code",
      "source": [
        "from imblearn.over_sampling import RandomOverSampler\n",
        "\n",
        "names = [ 'av.length','max','std.dev', 'n', 'm']\n",
        "X_modified = X.drop([ 'k', 'n/m', 'median', 'range',   'min','indeks', 'class',  'subtype', '(m/n)^3', '(m/n)^2', '(n/m)^2', '(n/m)^3','m/n'], axis = 1)\n",
        "#_modified['n/m'] = X_modified['n/m']\n",
        "print(X_modified.head())\n",
        "\n",
        "oversample = RandomOverSampler(random_state=0)\n",
        "#oversample.fit(X_modified, y_encoded)\n",
        "X_modified, y = oversample.fit_resample(X_modified, y)"
      ],
      "metadata": {
        "colab": {
          "base_uri": "https://localhost:8080/"
        },
        "id": "LrtevYk9142O",
        "outputId": "1d739b25-c410-48a1-e8ea-9d5b44574702"
      },
      "execution_count": 3,
      "outputs": [
        {
          "output_type": "stream",
          "name": "stdout",
          "text": [
            "     n   m   av.length    std.dev  max\n",
            "0  180  36   97.027779  45.132622  203\n",
            "1   80  32  100.300003  21.576712  150\n",
            "2   36   4  106.666664  43.838013  209\n",
            "3   36   4  101.694443  19.487461  155\n",
            "4   40  20   65.550003  22.500086  100\n"
          ]
        }
      ]
    },
    {
      "cell_type": "code",
      "source": [
        "from sklearn.preprocessing import LabelEncoder\n",
        "from keras.utils.np_utils import to_categorical\n",
        "\n",
        "l_encode = LabelEncoder()\n",
        "l_encode.fit(y_encoded)\n",
        "y_encoded = l_encode.transform(y_encoded)\n",
        "y_encoded = to_categorical(y_encoded)\n",
        "y_encoded"
      ],
      "metadata": {
        "colab": {
          "base_uri": "https://localhost:8080/"
        },
        "id": "W2hvUxxE2NWr",
        "outputId": "a198d0d9-e801-4d2c-811e-54eb16b0a7ac"
      },
      "execution_count": 4,
      "outputs": [
        {
          "output_type": "execute_result",
          "data": {
            "text/plain": [
              "array([[1.],\n",
              "       [1.],\n",
              "       [1.],\n",
              "       ...,\n",
              "       [1.],\n",
              "       [1.],\n",
              "       [1.]], dtype=float32)"
            ]
          },
          "metadata": {},
          "execution_count": 4
        }
      ]
    },
    {
      "cell_type": "code",
      "source": [
        "from sklearn import preprocessing\n",
        "\n",
        "from sklearn.preprocessing import StandardScaler\n",
        "\n",
        "sc = StandardScaler()\n",
        "\n",
        "#X = pd.DataFrame(X, columns=names)\n",
        "#print(X.head())\n",
        "\n",
        "from sklearn.decomposition import PCA\n",
        "\n",
        "#,'PC2','PC3','PC4','PC5','PC6','PC7','PC8\n",
        "#pca = PCA(n_components=9)\n",
        "#pca.fit(X)\n",
        "#X = pca.transform(X)\n",
        "#X = pd.DataFrame(X,columns=['PC1','PC2','PC3','PC4','PC5','PC6','PC7','PC8','PC9'])\n",
        "\n",
        "\n",
        "#from scipy import stats\n",
        "#df[(np.abs(stats.zscore(df)) < 3).all(axis=1)]\n",
        "\n",
        "X_train, X_test, y_train, y_test = train_test_split(X_modified, y, random_state=0, train_size = 0.83)\n",
        "X_train, X_val, y_train, y_val = train_test_split(X_train, y_train, random_state=0, train_size = 0.83)\n",
        "print(X_train.shape[1])\n",
        "print(X_val.shape[0])\n",
        "print(X_test.shape[0])\n",
        "\n",
        "X_train = sc.fit_transform(X_train)\n",
        "X_test_copy = X_test\n",
        "X_test = sc.transform(X_test)\n",
        "X_val_copy = X_val\n",
        "X_val = sc.transform(X_val)\n"
      ],
      "metadata": {
        "id": "kx4jr-6Qaxpv",
        "outputId": "9ea48683-1115-45ea-b086-f8ddb7ecc36a",
        "colab": {
          "base_uri": "https://localhost:8080/"
        }
      },
      "execution_count": 5,
      "outputs": [
        {
          "output_type": "stream",
          "name": "stdout",
          "text": [
            "5\n",
            "2070\n",
            "2494\n"
          ]
        }
      ]
    },
    {
      "cell_type": "code",
      "source": [
        "from keras.models import Sequential\n",
        "from keras.layers import Dense, Dropout\n",
        "\n",
        "classifier = Sequential()\n",
        "classifier.add(Dense(4, input_dim = X_modified.shape[1], activation='relu'))\n",
        "#classifier.add(Dense(8, activation = 'relu'))\n",
        "\n",
        "classifier.add(Dense(8, activation = 'relu'))\n",
        "\n",
        "#classifier.add(Dense(32, activation = 'relu'))\n",
        "#classifier.add(Dense(32, activation = 'relu'))\n",
        "#classifier.add(Dense(16, activation = 'relu'))\n",
        "\n",
        "classifier.add(Dense(32, activation='relu'))\n",
        "classifier.add(Dropout(0.5))\n",
        "\n",
        "classifier.add(Dense(8, activation='relu'))\n",
        "\n",
        "#classifier.add(Dense(8, activation='relu'))\n",
        "\n",
        "\n",
        "classifier.add(Dense(4, activation='relu'))\n",
        "\n",
        "classifier.add(Dense(1, activation = 'sigmoid'))\n",
        "classifier.compile(loss = 'binary_crossentropy', optimizer = 'adam', metrics = ['binary_accuracy'])\n",
        "classifier.summary()"
      ],
      "metadata": {
        "id": "jRT-grzys8_y",
        "colab": {
          "base_uri": "https://localhost:8080/"
        },
        "outputId": "2961dfbe-f425-4532-af2a-8c3ef2586b7e"
      },
      "execution_count": 6,
      "outputs": [
        {
          "output_type": "stream",
          "name": "stdout",
          "text": [
            "Model: \"sequential\"\n",
            "_________________________________________________________________\n",
            " Layer (type)                Output Shape              Param #   \n",
            "=================================================================\n",
            " dense (Dense)               (None, 4)                 24        \n",
            "                                                                 \n",
            " dense_1 (Dense)             (None, 8)                 40        \n",
            "                                                                 \n",
            " dense_2 (Dense)             (None, 32)                288       \n",
            "                                                                 \n",
            " dropout (Dropout)           (None, 32)                0         \n",
            "                                                                 \n",
            " dense_3 (Dense)             (None, 8)                 264       \n",
            "                                                                 \n",
            " dense_4 (Dense)             (None, 4)                 36        \n",
            "                                                                 \n",
            " dense_5 (Dense)             (None, 1)                 5         \n",
            "                                                                 \n",
            "=================================================================\n",
            "Total params: 657\n",
            "Trainable params: 657\n",
            "Non-trainable params: 0\n",
            "_________________________________________________________________\n"
          ]
        }
      ]
    },
    {
      "cell_type": "code",
      "source": [
        "#classifier.fit(X_train, y_train, batch_size = 64, epochs = 20, verbose = 1)\n",
        "#scores = classifier.evaluate(X_test, y_test)\n",
        "#for i, m in enumerate(classifier.metrics_names):\n",
        "#    print(\"\\n%s: %.3f\"% (m, scores[i]))\n",
        "#print(X_test_copy.iloc[0]['subtype'])"
      ],
      "metadata": {
        "id": "Mm7RsTBcx2EN"
      },
      "execution_count": 7,
      "outputs": []
    },
    {
      "cell_type": "code",
      "source": [
        "from keras.metrics import accuracy\n",
        "from keras import callbacks\n",
        "earlystopping = callbacks.EarlyStopping(monitor =\"val_loss\", \n",
        "                                        mode =\"min\", patience = 25, \n",
        "                                        restore_best_weights = True)\n",
        "  \n",
        "history = classifier.fit(X_train, y_train, batch_size = 25, \n",
        "                    epochs = 600, validation_data =(X_val, y_val), \n",
        "                    callbacks =[earlystopping])\n",
        "plt.plot(history.history['binary_accuracy'])\n",
        "\n"
      ],
      "metadata": {
        "colab": {
          "base_uri": "https://localhost:8080/",
          "height": 1000
        },
        "id": "Sv9aKFPW5KGr",
        "outputId": "a75f1aca-90b3-4e9f-b992-2c5ad7ecea4e"
      },
      "execution_count": 8,
      "outputs": [
        {
          "output_type": "stream",
          "name": "stdout",
          "text": [
            "Epoch 1/600\n",
            "405/405 [==============================] - 4s 6ms/step - loss: 0.3647 - binary_accuracy: 0.8672 - val_loss: 0.1447 - val_binary_accuracy: 0.9570\n",
            "Epoch 2/600\n",
            "405/405 [==============================] - 2s 5ms/step - loss: 0.1740 - binary_accuracy: 0.9447 - val_loss: 0.1289 - val_binary_accuracy: 0.9580\n",
            "Epoch 3/600\n",
            "405/405 [==============================] - 2s 5ms/step - loss: 0.1619 - binary_accuracy: 0.9519 - val_loss: 0.1215 - val_binary_accuracy: 0.9604\n",
            "Epoch 4/600\n",
            "405/405 [==============================] - 2s 5ms/step - loss: 0.1548 - binary_accuracy: 0.9530 - val_loss: 0.1195 - val_binary_accuracy: 0.9628\n",
            "Epoch 5/600\n",
            "405/405 [==============================] - 3s 6ms/step - loss: 0.1507 - binary_accuracy: 0.9539 - val_loss: 0.1158 - val_binary_accuracy: 0.9633\n",
            "Epoch 6/600\n",
            "405/405 [==============================] - 2s 5ms/step - loss: 0.1467 - binary_accuracy: 0.9564 - val_loss: 0.1164 - val_binary_accuracy: 0.9662\n",
            "Epoch 7/600\n",
            "405/405 [==============================] - 2s 5ms/step - loss: 0.1391 - binary_accuracy: 0.9560 - val_loss: 0.1090 - val_binary_accuracy: 0.9643\n",
            "Epoch 8/600\n",
            "405/405 [==============================] - 2s 5ms/step - loss: 0.1346 - binary_accuracy: 0.9569 - val_loss: 0.1082 - val_binary_accuracy: 0.9618\n",
            "Epoch 9/600\n",
            "405/405 [==============================] - 2s 6ms/step - loss: 0.1342 - binary_accuracy: 0.9584 - val_loss: 0.1053 - val_binary_accuracy: 0.9652\n",
            "Epoch 10/600\n",
            "405/405 [==============================] - 2s 5ms/step - loss: 0.1276 - binary_accuracy: 0.9591 - val_loss: 0.1004 - val_binary_accuracy: 0.9662\n",
            "Epoch 11/600\n",
            "405/405 [==============================] - 3s 7ms/step - loss: 0.1269 - binary_accuracy: 0.9591 - val_loss: 0.0992 - val_binary_accuracy: 0.9647\n",
            "Epoch 12/600\n",
            "405/405 [==============================] - 1s 3ms/step - loss: 0.1228 - binary_accuracy: 0.9606 - val_loss: 0.0969 - val_binary_accuracy: 0.9667\n",
            "Epoch 13/600\n",
            "405/405 [==============================] - 1s 3ms/step - loss: 0.1188 - binary_accuracy: 0.9604 - val_loss: 0.0939 - val_binary_accuracy: 0.9643\n",
            "Epoch 14/600\n",
            "405/405 [==============================] - 1s 3ms/step - loss: 0.1182 - binary_accuracy: 0.9597 - val_loss: 0.0929 - val_binary_accuracy: 0.9647\n",
            "Epoch 15/600\n",
            "405/405 [==============================] - 1s 3ms/step - loss: 0.1135 - binary_accuracy: 0.9607 - val_loss: 0.0916 - val_binary_accuracy: 0.9647\n",
            "Epoch 16/600\n",
            "405/405 [==============================] - 1s 3ms/step - loss: 0.1170 - binary_accuracy: 0.9598 - val_loss: 0.0939 - val_binary_accuracy: 0.9652\n",
            "Epoch 17/600\n",
            "405/405 [==============================] - 1s 3ms/step - loss: 0.1107 - binary_accuracy: 0.9607 - val_loss: 0.0902 - val_binary_accuracy: 0.9647\n",
            "Epoch 18/600\n",
            "405/405 [==============================] - 1s 3ms/step - loss: 0.1098 - binary_accuracy: 0.9613 - val_loss: 0.0860 - val_binary_accuracy: 0.9652\n",
            "Epoch 19/600\n",
            "405/405 [==============================] - 1s 3ms/step - loss: 0.1075 - binary_accuracy: 0.9623 - val_loss: 0.0878 - val_binary_accuracy: 0.9643\n",
            "Epoch 20/600\n",
            "405/405 [==============================] - 1s 2ms/step - loss: 0.1060 - binary_accuracy: 0.9617 - val_loss: 0.0891 - val_binary_accuracy: 0.9647\n",
            "Epoch 21/600\n",
            "405/405 [==============================] - 1s 2ms/step - loss: 0.1071 - binary_accuracy: 0.9612 - val_loss: 0.0861 - val_binary_accuracy: 0.9643\n",
            "Epoch 22/600\n",
            "405/405 [==============================] - 1s 2ms/step - loss: 0.1055 - binary_accuracy: 0.9612 - val_loss: 0.0941 - val_binary_accuracy: 0.9604\n",
            "Epoch 23/600\n",
            "405/405 [==============================] - 1s 2ms/step - loss: 0.1041 - binary_accuracy: 0.9609 - val_loss: 0.0836 - val_binary_accuracy: 0.9657\n",
            "Epoch 24/600\n",
            "405/405 [==============================] - 1s 3ms/step - loss: 0.1037 - binary_accuracy: 0.9617 - val_loss: 0.0832 - val_binary_accuracy: 0.9686\n",
            "Epoch 25/600\n",
            "405/405 [==============================] - 1s 3ms/step - loss: 0.1060 - binary_accuracy: 0.9612 - val_loss: 0.0870 - val_binary_accuracy: 0.9667\n",
            "Epoch 26/600\n",
            "405/405 [==============================] - 1s 2ms/step - loss: 0.1055 - binary_accuracy: 0.9612 - val_loss: 0.0857 - val_binary_accuracy: 0.9657\n",
            "Epoch 27/600\n",
            "405/405 [==============================] - 1s 2ms/step - loss: 0.1020 - binary_accuracy: 0.9617 - val_loss: 0.0851 - val_binary_accuracy: 0.9662\n",
            "Epoch 28/600\n",
            "405/405 [==============================] - 1s 3ms/step - loss: 0.1006 - binary_accuracy: 0.9623 - val_loss: 0.0836 - val_binary_accuracy: 0.9700\n",
            "Epoch 29/600\n",
            "405/405 [==============================] - 1s 2ms/step - loss: 0.1006 - binary_accuracy: 0.9627 - val_loss: 0.0856 - val_binary_accuracy: 0.9676\n",
            "Epoch 30/600\n",
            "405/405 [==============================] - 1s 2ms/step - loss: 0.1004 - binary_accuracy: 0.9616 - val_loss: 0.0829 - val_binary_accuracy: 0.9681\n",
            "Epoch 31/600\n",
            "405/405 [==============================] - 1s 2ms/step - loss: 0.0974 - binary_accuracy: 0.9606 - val_loss: 0.0841 - val_binary_accuracy: 0.9657\n",
            "Epoch 32/600\n",
            "405/405 [==============================] - 1s 2ms/step - loss: 0.1000 - binary_accuracy: 0.9615 - val_loss: 0.0862 - val_binary_accuracy: 0.9691\n",
            "Epoch 33/600\n",
            "405/405 [==============================] - 1s 2ms/step - loss: 0.0982 - binary_accuracy: 0.9620 - val_loss: 0.0838 - val_binary_accuracy: 0.9643\n",
            "Epoch 34/600\n",
            "405/405 [==============================] - 1s 3ms/step - loss: 0.0990 - binary_accuracy: 0.9611 - val_loss: 0.0844 - val_binary_accuracy: 0.9643\n",
            "Epoch 35/600\n",
            "405/405 [==============================] - 1s 2ms/step - loss: 0.0962 - binary_accuracy: 0.9627 - val_loss: 0.0814 - val_binary_accuracy: 0.9691\n",
            "Epoch 36/600\n",
            "405/405 [==============================] - 1s 2ms/step - loss: 0.0996 - binary_accuracy: 0.9600 - val_loss: 0.0822 - val_binary_accuracy: 0.9662\n",
            "Epoch 37/600\n",
            "405/405 [==============================] - 1s 2ms/step - loss: 0.0964 - binary_accuracy: 0.9643 - val_loss: 0.0830 - val_binary_accuracy: 0.9652\n",
            "Epoch 38/600\n",
            "405/405 [==============================] - 1s 3ms/step - loss: 0.0981 - binary_accuracy: 0.9616 - val_loss: 0.0823 - val_binary_accuracy: 0.9652\n",
            "Epoch 39/600\n",
            "405/405 [==============================] - 1s 2ms/step - loss: 0.0949 - binary_accuracy: 0.9627 - val_loss: 0.0845 - val_binary_accuracy: 0.9676\n",
            "Epoch 40/600\n",
            "405/405 [==============================] - 1s 3ms/step - loss: 0.0979 - binary_accuracy: 0.9629 - val_loss: 0.0851 - val_binary_accuracy: 0.9628\n",
            "Epoch 41/600\n",
            "405/405 [==============================] - 1s 3ms/step - loss: 0.0972 - binary_accuracy: 0.9615 - val_loss: 0.0898 - val_binary_accuracy: 0.9585\n",
            "Epoch 42/600\n",
            "405/405 [==============================] - 1s 3ms/step - loss: 0.0955 - binary_accuracy: 0.9616 - val_loss: 0.0833 - val_binary_accuracy: 0.9643\n",
            "Epoch 43/600\n",
            "405/405 [==============================] - 1s 2ms/step - loss: 0.0971 - binary_accuracy: 0.9607 - val_loss: 0.0935 - val_binary_accuracy: 0.9657\n",
            "Epoch 44/600\n",
            "405/405 [==============================] - 1s 3ms/step - loss: 0.0966 - binary_accuracy: 0.9624 - val_loss: 0.0849 - val_binary_accuracy: 0.9609\n",
            "Epoch 45/600\n",
            "405/405 [==============================] - 1s 2ms/step - loss: 0.0967 - binary_accuracy: 0.9637 - val_loss: 0.0841 - val_binary_accuracy: 0.9638\n",
            "Epoch 46/600\n",
            "405/405 [==============================] - 1s 2ms/step - loss: 0.0957 - binary_accuracy: 0.9624 - val_loss: 0.0852 - val_binary_accuracy: 0.9667\n",
            "Epoch 47/600\n",
            "405/405 [==============================] - 1s 3ms/step - loss: 0.0950 - binary_accuracy: 0.9629 - val_loss: 0.0827 - val_binary_accuracy: 0.9628\n",
            "Epoch 48/600\n",
            "405/405 [==============================] - 1s 2ms/step - loss: 0.0949 - binary_accuracy: 0.9640 - val_loss: 0.0839 - val_binary_accuracy: 0.9652\n",
            "Epoch 49/600\n",
            "405/405 [==============================] - 1s 2ms/step - loss: 0.0942 - binary_accuracy: 0.9642 - val_loss: 0.0854 - val_binary_accuracy: 0.9652\n",
            "Epoch 50/600\n",
            "405/405 [==============================] - 1s 3ms/step - loss: 0.0962 - binary_accuracy: 0.9622 - val_loss: 0.0862 - val_binary_accuracy: 0.9618\n",
            "Epoch 51/600\n",
            "405/405 [==============================] - 1s 2ms/step - loss: 0.0961 - binary_accuracy: 0.9615 - val_loss: 0.0824 - val_binary_accuracy: 0.9676\n",
            "Epoch 52/600\n",
            "405/405 [==============================] - 1s 3ms/step - loss: 0.0959 - binary_accuracy: 0.9624 - val_loss: 0.0834 - val_binary_accuracy: 0.9638\n",
            "Epoch 53/600\n",
            "405/405 [==============================] - 1s 2ms/step - loss: 0.0941 - binary_accuracy: 0.9616 - val_loss: 0.0882 - val_binary_accuracy: 0.9647\n",
            "Epoch 54/600\n",
            "405/405 [==============================] - 1s 3ms/step - loss: 0.0936 - binary_accuracy: 0.9634 - val_loss: 0.0836 - val_binary_accuracy: 0.9614\n",
            "Epoch 55/600\n",
            "405/405 [==============================] - 1s 3ms/step - loss: 0.0938 - binary_accuracy: 0.9631 - val_loss: 0.0822 - val_binary_accuracy: 0.9657\n",
            "Epoch 56/600\n",
            "405/405 [==============================] - 1s 2ms/step - loss: 0.0923 - binary_accuracy: 0.9639 - val_loss: 0.0841 - val_binary_accuracy: 0.9638\n",
            "Epoch 57/600\n",
            "405/405 [==============================] - 1s 2ms/step - loss: 0.0939 - binary_accuracy: 0.9608 - val_loss: 0.0834 - val_binary_accuracy: 0.9671\n",
            "Epoch 58/600\n",
            "405/405 [==============================] - 1s 2ms/step - loss: 0.0932 - binary_accuracy: 0.9644 - val_loss: 0.0833 - val_binary_accuracy: 0.9652\n",
            "Epoch 59/600\n",
            "405/405 [==============================] - 1s 2ms/step - loss: 0.0929 - binary_accuracy: 0.9622 - val_loss: 0.0871 - val_binary_accuracy: 0.9628\n",
            "Epoch 60/600\n",
            "405/405 [==============================] - 1s 2ms/step - loss: 0.0940 - binary_accuracy: 0.9625 - val_loss: 0.0815 - val_binary_accuracy: 0.9643\n"
          ]
        },
        {
          "output_type": "execute_result",
          "data": {
            "text/plain": [
              "[<matplotlib.lines.Line2D at 0x7fcbdd9797d0>]"
            ]
          },
          "metadata": {},
          "execution_count": 8
        },
        {
          "output_type": "display_data",
          "data": {
            "text/plain": [
              "<Figure size 432x288 with 1 Axes>"
            ],
            "image/png": "[encoded data removed]"
          },
          "metadata": {
            "needs_background": "light"
          }
        }
      ]
    },
    {
      "cell_type": "code",
      "source": [
        "from keras.metrics import accuracy\n",
        "#test_size = X_test.shape[0]\n",
        "pred = classifier.predict(X_val)\n",
        "for i in range(len(pred)):\n",
        "  #print(pred[i])\n",
        "  if(pred[i][0]>0.5):\n",
        "    pred[i] = 1\n",
        "  else:\n",
        "    pred[i]=0\n",
        "#print(pred)\n",
        "#pred_ = np.argmax(pred, axis = 1)\n",
        "#print(pred_)\n",
        "#pred_ = l_encode.inverse_transform(pred_)\n",
        "#print(pred_)\n",
        "#true_y = l_encode.inverse_transform(np.argmax(to_categorical(y_val), axis = 1)[:,1])\n",
        "from sklearn.metrics import confusion_matrix, ConfusionMatrixDisplay\n",
        "#for i in range(len(pred_)):\n",
        "#  print(true_y[i])\n",
        "#print(confusion_matrix(true_y, pred_, labels=[0, 1, 2, 3]))\n",
        "cm = confusion_matrix(y_val, pred, labels=[0, 1])\n",
        "cmd = ConfusionMatrixDisplay(cm, display_labels=['not solved', 'solved'])\n",
        "#plt.subplot(1, 2, 1)\n",
        "cmd.plot()\n",
        "#print(f'accuracy: {(cnt_correct/cnt)*100:.2f}%')\n"
      ],
      "metadata": {
        "id": "lMi7aVVrO4dg",
        "outputId": "0de3eb1c-860e-4b48-f15b-c27e6f27343d",
        "colab": {
          "base_uri": "https://localhost:8080/",
          "height": 296
        }
      },
      "execution_count": 9,
      "outputs": [
        {
          "output_type": "execute_result",
          "data": {
            "text/plain": [
              "<sklearn.metrics._plot.confusion_matrix.ConfusionMatrixDisplay at 0x7fcbe3289b10>"
            ]
          },
          "metadata": {},
          "execution_count": 9
        },
        {
          "output_type": "display_data",
          "data": {
            "text/plain": [
              "<Figure size 432x288 with 2 Axes>"
            ],
            "image/png": "[encoded data removed]"
          },
          "metadata": {
            "needs_background": "light"
          }
        }
      ]
    },
    {
      "cell_type": "code",
      "source": [
        "from keras.metrics import accuracy\n",
        "#test_size = X_test.shape[0]\n",
        "pred = classifier.predict(X_test)\n",
        "for i in range(len(pred)):\n",
        "  #print(pred[i])\n",
        "  if(pred[i][0]>0.5):\n",
        "    pred[i] = 1\n",
        "  else:\n",
        "    pred[i]=0\n",
        "#print(pred)\n",
        "pred_ = np.argmax(pred, axis = 1)\n",
        "#print(pred_)\n",
        "pred_ = l_encode.inverse_transform(pred_)\n",
        "\n",
        "#true_y = l_encode.inverse_transform(np.argmax(to_categorical(y_test), axis = 1)[:,1])\n",
        "\n",
        "\n",
        "#for i,j in zip(pred_, true_y):\n",
        "#    print(\"Predicted: {}, True: {}\".format(i, j))\n",
        "\n",
        "cnt = 0\n",
        "cnt_correct = 0\n",
        "\n",
        "print(\"very hard -> easy\")\n",
        "for i in range(len(pred_)):\n",
        "  cnt += 1\n",
        "  #if(pred_[i] == true_y[i]):\n",
        "  #  cnt_correct += 1\n",
        " # if(pred_[i] == 0 and true_y[i] == 3):\n",
        "   # for j in range(len(names)):\n",
        "  #    print(names[j]+\"->\"+str(X_test_copy.iloc[i][names[j]]))\n",
        " #   print(\"------------------------------------------------------------------\")\n",
        "  \n",
        "#print(f'accuracy: {(cnt_correct/cnt)*100:.2f}%')"
      ],
      "metadata": {
        "colab": {
          "base_uri": "https://localhost:8080/"
        },
        "id": "-WKM6CPTczGd",
        "outputId": "c093a88d-be93-4a35-ab05-54c30c9d349d"
      },
      "execution_count": 10,
      "outputs": [
        {
          "output_type": "stream",
          "name": "stdout",
          "text": [
            "very hard -> easy\n"
          ]
        }
      ]
    },
    {
      "cell_type": "code",
      "source": [
        "from sklearn.metrics import confusion_matrix, ConfusionMatrixDisplay\n",
        "#for i in range(len(pred_)):\n",
        "#  print(true_y[i])\n",
        "#print(confusion_matrix(true_y, pred_, labels=[0, 1, 2, 3]))\n",
        "cm = confusion_matrix(y_test, pred, labels=[0, 1])\n",
        "cmd = ConfusionMatrixDisplay(cm, display_labels=['not solved', 'solved'])\n",
        "#plt.subplot(1, 2, 1)\n",
        "cmd.plot()\n",
        "print(f'accuracy: {(cnt_correct/cnt)*100:.2f}%')"
      ],
      "metadata": {
        "colab": {
          "base_uri": "https://localhost:8080/",
          "height": 296
        },
        "id": "td3mlxlNxXqF",
        "outputId": "48a68823-75c2-4e36-ac72-afdeae11819c"
      },
      "execution_count": 11,
      "outputs": [
        {
          "output_type": "stream",
          "name": "stdout",
          "text": [
            "accuracy: 0.00%\n"
          ]
        },
        {
          "output_type": "display_data",
          "data": {
            "text/plain": [
              "<Figure size 432x288 with 2 Axes>"
            ],
            "image/png": "[encoded data removed]"
          },
          "metadata": {
            "needs_background": "light"
          }
        }
      ]
    },
    {
      "cell_type": "code",
      "source": [
        "import matplotlib.pyplot as plt \n",
        "from sklearn.preprocessing import LabelBinarizer\n",
        "from sklearn.metrics import roc_curve, auc, roc_auc_score\n",
        "\n",
        "\n",
        "target= ['not solved', 'solved']\n",
        "\n",
        "fig, c_ax = plt.subplots(1,1, figsize = (12, 8))\n",
        "\n",
        "def multiclass_roc_auc_score(y_test, y_pred, average=\"macro\"):\n",
        "    lb = LabelBinarizer()\n",
        "    lb.fit(y_test)\n",
        "    y_test = lb.transform(y_test)\n",
        "    y_pred = lb.transform(y_pred)\n",
        "\n",
        "    for (idx, c_label) in enumerate(target):\n",
        "        fpr, tpr, thresholds = roc_curve(y_test[:,idx].astype(int), y_pred[:,idx])\n",
        "        c_ax.plot(fpr, tpr, label = '%s (AUC:%0.2f)'  % (c_label, auc(fpr, tpr)))\n",
        "    c_ax.plot(fpr, fpr, 'b-', label = 'Random Guessing')\n",
        "    return roc_auc_score(y_test, y_pred, average=average)\n",
        "\n",
        "\n",
        "print('ROC AUC score:', multiclass_roc_auc_score(y_test, pred))\n",
        "\n",
        "c_ax.legend()\n",
        "c_ax.set_xlabel('False Positive Rate')\n",
        "c_ax.set_ylabel('True Positive Rate')\n",
        "plt.grid()\n",
        "plt.show()"
      ],
      "metadata": {
        "id": "ilN2NeRZ-wOR",
        "outputId": "968dbf9d-03f3-46e9-820e-eb0251d7e7f9",
        "colab": {
          "base_uri": "https://localhost:8080/",
          "height": 822
        }
      },
      "execution_count": 12,
      "outputs": [
        {
          "output_type": "error",
          "ename": "IndexError",
          "evalue": "ignored",
          "traceback": [
            "\u001b[0;31m---------------------------------------------------------------------------\u001b[0m",
            "\u001b[0;31mIndexError\u001b[0m                                Traceback (most recent call last)",
            "\u001b[0;32m<ipython-input-12-a211fe395de9>\u001b[0m in \u001b[0;36m<module>\u001b[0;34m\u001b[0m\n\u001b[1;32m     21\u001b[0m \u001b[0;34m\u001b[0m\u001b[0m\n\u001b[1;32m     22\u001b[0m \u001b[0;34m\u001b[0m\u001b[0m\n\u001b[0;32m---> 23\u001b[0;31m \u001b[0mprint\u001b[0m\u001b[0;34m(\u001b[0m\u001b[0;34m'ROC AUC score:'\u001b[0m\u001b[0;34m,\u001b[0m \u001b[0mmulticlass_roc_auc_score\u001b[0m\u001b[0;34m(\u001b[0m\u001b[0my_test\u001b[0m\u001b[0;34m,\u001b[0m \u001b[0mpred\u001b[0m\u001b[0;34m)\u001b[0m\u001b[0;34m)\u001b[0m\u001b[0;34m\u001b[0m\u001b[0;34m\u001b[0m\u001b[0m\n\u001b[0m\u001b[1;32m     24\u001b[0m \u001b[0;34m\u001b[0m\u001b[0m\n\u001b[1;32m     25\u001b[0m \u001b[0mc_ax\u001b[0m\u001b[0;34m.\u001b[0m\u001b[0mlegend\u001b[0m\u001b[0;34m(\u001b[0m\u001b[0;34m)\u001b[0m\u001b[0;34m\u001b[0m\u001b[0;34m\u001b[0m\u001b[0m\n",
            "\u001b[0;32m<ipython-input-12-a211fe395de9>\u001b[0m in \u001b[0;36mmulticlass_roc_auc_score\u001b[0;34m(y_test, y_pred, average)\u001b[0m\n\u001b[1;32m     15\u001b[0m \u001b[0;34m\u001b[0m\u001b[0m\n\u001b[1;32m     16\u001b[0m     \u001b[0;32mfor\u001b[0m \u001b[0;34m(\u001b[0m\u001b[0midx\u001b[0m\u001b[0;34m,\u001b[0m \u001b[0mc_label\u001b[0m\u001b[0;34m)\u001b[0m \u001b[0;32min\u001b[0m \u001b[0menumerate\u001b[0m\u001b[0;34m(\u001b[0m\u001b[0mtarget\u001b[0m\u001b[0;34m)\u001b[0m\u001b[0;34m:\u001b[0m\u001b[0;34m\u001b[0m\u001b[0;34m\u001b[0m\u001b[0m\n\u001b[0;32m---> 17\u001b[0;31m         \u001b[0mfpr\u001b[0m\u001b[0;34m,\u001b[0m \u001b[0mtpr\u001b[0m\u001b[0;34m,\u001b[0m \u001b[0mthresholds\u001b[0m \u001b[0;34m=\u001b[0m \u001b[0mroc_curve\u001b[0m\u001b[0;34m(\u001b[0m\u001b[0my_test\u001b[0m\u001b[0;34m[\u001b[0m\u001b[0;34m:\u001b[0m\u001b[0;34m,\u001b[0m\u001b[0midx\u001b[0m\u001b[0;34m]\u001b[0m\u001b[0;34m.\u001b[0m\u001b[0mastype\u001b[0m\u001b[0;34m(\u001b[0m\u001b[0mint\u001b[0m\u001b[0;34m)\u001b[0m\u001b[0;34m,\u001b[0m \u001b[0my_pred\u001b[0m\u001b[0;34m[\u001b[0m\u001b[0;34m:\u001b[0m\u001b[0;34m,\u001b[0m\u001b[0midx\u001b[0m\u001b[0;34m]\u001b[0m\u001b[0;34m)\u001b[0m\u001b[0;34m\u001b[0m\u001b[0;34m\u001b[0m\u001b[0m\n\u001b[0m\u001b[1;32m     18\u001b[0m         \u001b[0mc_ax\u001b[0m\u001b[0;34m.\u001b[0m\u001b[0mplot\u001b[0m\u001b[0;34m(\u001b[0m\u001b[0mfpr\u001b[0m\u001b[0;34m,\u001b[0m \u001b[0mtpr\u001b[0m\u001b[0;34m,\u001b[0m \u001b[0mlabel\u001b[0m \u001b[0;34m=\u001b[0m \u001b[0;34m'%s (AUC:%0.2f)'\u001b[0m  \u001b[0;34m%\u001b[0m \u001b[0;34m(\u001b[0m\u001b[0mc_label\u001b[0m\u001b[0;34m,\u001b[0m \u001b[0mauc\u001b[0m\u001b[0;34m(\u001b[0m\u001b[0mfpr\u001b[0m\u001b[0;34m,\u001b[0m \u001b[0mtpr\u001b[0m\u001b[0;34m)\u001b[0m\u001b[0;34m)\u001b[0m\u001b[0;34m)\u001b[0m\u001b[0;34m\u001b[0m\u001b[0;34m\u001b[0m\u001b[0m\n\u001b[1;32m     19\u001b[0m     \u001b[0mc_ax\u001b[0m\u001b[0;34m.\u001b[0m\u001b[0mplot\u001b[0m\u001b[0;34m(\u001b[0m\u001b[0mfpr\u001b[0m\u001b[0;34m,\u001b[0m \u001b[0mfpr\u001b[0m\u001b[0;34m,\u001b[0m \u001b[0;34m'b-'\u001b[0m\u001b[0;34m,\u001b[0m \u001b[0mlabel\u001b[0m \u001b[0;34m=\u001b[0m \u001b[0;34m'Random Guessing'\u001b[0m\u001b[0;34m)\u001b[0m\u001b[0;34m\u001b[0m\u001b[0;34m\u001b[0m\u001b[0m\n",
            "\u001b[0;31mIndexError\u001b[0m: index 1 is out of bounds for axis 1 with size 1"
          ]
        },
        {
          "output_type": "display_data",
          "data": {
            "text/plain": [
              "<Figure size 864x576 with 1 Axes>"
            ],
            "image/png": "[encoded data removed]"
          },
          "metadata": {
            "needs_background": "light"
          }
        }
      ]
    }
  ]
}
