{
  "nbformat": 4,
  "nbformat_minor": 0,
  "metadata": {
    "colab": {
      "name": "Neural_Network_Regression.ipynb",
      "provenance": [],
      "authorship_tag": "ABX9TyO6A6vQn5KOMuJteqNKEqi7",
      "include_colab_link": true
    },
    "kernelspec": {
      "name": "python3",
      "display_name": "Python 3"
    },
    "language_info": {
      "name": "python"
    }
  },
  "cells": [
    {
      "cell_type": "markdown",
      "metadata": {
        "id": "view-in-github",
        "colab_type": "text"
      },
      "source": [
        "<a href=\"https://colab.research.google.com/github/Uros-Males/Minimization_Problem_On_Identical_Machines_Analysis/blob/main/Feature_Importance_Logistic_Regression.ipynb\" target=\"_parent\"><img src=\"https://colab.research.google.com/assets/colab-badge.svg\" alt=\"Open In Colab\"/></a>"
      ]
    },
    {
      "cell_type": "code",
      "execution_count": 1,
      "metadata": {
        "id": "YiQcuNkDxHUf",
        "colab": {
          "base_uri": "https://localhost:8080/"
        },
        "outputId": "7bd7c7fd-a8bb-4d1d-917b-c8fbd03b1841"
      },
      "outputs": [
        {
          "output_type": "stream",
          "name": "stdout",
          "text": [
            "8750\n"
          ]
        }
      ],
      "source": [
        "#IN PROGRESS....\n",
        "import pandas as pd\n",
        "import numpy as np\n",
        "import matplotlib.pyplot as plt\n",
        "from sklearn import tree\n",
        "from sklearn.model_selection import train_test_split\n",
        "from sklearn.tree import DecisionTreeRegressor\n",
        "import time\n",
        "\n",
        "df = pd.read_csv('/content/sample_data/C-instances-runtime-analysis.csv')\n",
        "#df = df[df['n/m']!=2]\n",
        "\n",
        "print(df.shape[0])\n",
        "\n",
        "shuffled = df.sample(frac=1).reset_index()\n",
        "\n",
        "columns_dont_want = ['y', 'index', 'inst.name','type', 'CPLEXStatus']\n",
        "select = [x for x in shuffled.columns if x not in columns_dont_want]\n",
        "\n",
        "X = shuffled.loc[:, select]\n",
        "\n",
        "y = shuffled.loc[:,'y']"
      ]
    },
    {
      "cell_type": "code",
      "source": [
        "X_modified = X\n",
        "y_new = []\n",
        "for val in y:\n",
        "  if(val<10):\n",
        "    y_new.append(0)\n",
        "  elif(10 <= val and val <100):\n",
        "    y_new.append(1)\n",
        "  elif(100<=val and val<1000):\n",
        "    y_new.append(2)\n",
        "  else:\n",
        "    y_new.append(3)\n",
        "\n",
        "shuffled['y_new'] = y_new\n",
        "#print(shuffled.head())\n",
        "y_encoded = shuffled.loc[:,'y_new']\n",
        "y_new = np.array(y_new)\n",
        "print(X_modified.head())\n",
        "#X_modified = X.drop(['max', 'n/m', '(n/m)^2', '(n/m)^3', 'm/n', '(m/n)^2', '(m/n)^3', 'class', 'av.length'], axis = 1)"
      ],
      "metadata": {
        "id": "Jzlk_oaRyQjm",
        "outputId": "da1b1bd6-4595-4282-d64a-60b1149cc9dc",
        "colab": {
          "base_uri": "https://localhost:8080/"
        }
      },
      "execution_count": 2,
      "outputs": [
        {
          "output_type": "stream",
          "name": "stdout",
          "text": [
            "   subtype  class  indeks    n   m   n/m  (n/m)^2   (n/m)^3       m/n  \\\n",
            "0        9      2       6  126  28   4.5    20.25    91.125  0.222222   \n",
            "1       13      1       2  180  18  10.0   100.00  1000.000  0.100000   \n",
            "2        8      5      10   20   5   4.0    16.00    64.000  0.250000   \n",
            "3       12      6       1   54   6   9.0    81.00   729.000  0.111111   \n",
            "4       14      4       8  110  10  11.0   121.00  1331.000  0.090909   \n",
            "\n",
            "    (m/n)^2   (m/n)^3   av.length    std.dev  median  range  min  max   k  \n",
            "0  0.049383  0.010974   61.674603  22.464844    62.0     80   20  100  68  \n",
            "1  0.010000  0.001000   53.244446  29.811255    52.0     99    1  100  84  \n",
            "2  0.062500  0.015625   97.099998  42.628010    91.5    159   30  189  19  \n",
            "3  0.012346  0.001372  129.814819  41.052696   128.5    157   54  211  49  \n",
            "4  0.008264  0.000751   98.199997  19.473246   100.0     84   56  140  65  \n"
          ]
        }
      ]
    },
    {
      "cell_type": "code",
      "source": [
        "from imblearn.over_sampling import RandomOverSampler\n",
        "oversample = RandomOverSampler(random_state=0)\n",
        "#oversample.fit(X_modified, y_encoded)\n",
        "X_modified, y_encoded = oversample.fit_resample(X_modified, y_encoded)\n",
        "\n",
        "from sklearn.preprocessing import LabelEncoder\n",
        "from keras.utils.np_utils import to_categorical\n",
        "\n",
        "l_encode = LabelEncoder()\n",
        "l_encode.fit(y_encoded)\n",
        "y_encoded = l_encode.transform(y_encoded)\n",
        "y_encoded = to_categorical(y_encoded)\n",
        "y_encoded\n",
        "\n",
        "\n",
        "y_new = []\n",
        "for val in y_encoded:\n",
        "  if(val[0]==1):\n",
        "    y_new.append(0)\n",
        "  elif(val[1]==1):\n",
        "    y_new.append(1)\n",
        "  elif(val[2]==1):\n",
        "    y_new.append(2)\n",
        "  else:\n",
        "    y_new.append(3)\n"
      ],
      "metadata": {
        "id": "8fss7ob9uTEP"
      },
      "execution_count": 3,
      "outputs": []
    },
    {
      "cell_type": "code",
      "source": [
        "from sklearn import preprocessing\n",
        "\n",
        "from sklearn.preprocessing import StandardScaler\n",
        "\n",
        "sc = StandardScaler()\n",
        "\n",
        "#X_train, X_test, y_train, y_test = train_test_split(X_modified, y, random_state=0, train_size = 0.83)\n",
        "\n",
        "#X_train = sc.fit_transform(X_train)\n",
        "#X_test = sc.transform(X_test)\n",
        "\n",
        "X_copy = X_modified\n",
        "X_modified = sc.fit_transform(X_modified)\n",
        "\n",
        "from sklearn.linear_model import LogisticRegression\n",
        "model = LogisticRegression(max_iter = 1000)\n",
        "model.fit(X_modified, y_new)\n",
        "\n",
        "importances = model.coef_[0]\n",
        "importances = abs(importances)\n",
        "\n",
        "importances = (importances-np.min(importances))/np.ptp(importances)\n",
        "\n",
        "sorted_indices = np.argsort(importances)[::-1]\n",
        "feat_labels = X_copy.columns[1:]\n",
        "\n",
        "print(importances)\n",
        "\n",
        "plt.figure(figsize=(15, 6))\n",
        "plt.title('Logistic Regression Feature Importance')\n",
        "plt.bar(range(X_copy.shape[1]), importances[sorted_indices], align='center')\n",
        "plt.xticks(range(X_copy.shape[1]), X_copy.columns[sorted_indices])\n",
        "plt.tight_layout()\n",
        "plt.show()\n"
      ],
      "metadata": {
        "id": "2JHin8gI5ftQ",
        "outputId": "b4241df9-fb38-4483-d14a-4d9db2177ff0",
        "colab": {
          "base_uri": "https://localhost:8080/",
          "height": 493
        }
      },
      "execution_count": 4,
      "outputs": [
        {
          "output_type": "stream",
          "name": "stdout",
          "text": [
            "[0.07796993 0.08734799 0.         1.         0.68687652 0.15391118\n",
            " 0.0486796  0.09920419 0.02445918 0.04798957 0.02312522 0.04056944\n",
            " 0.14984647 0.01918003 0.08622572 0.01598426 0.06469815 0.02639218]\n"
          ]
        },
        {
          "output_type": "display_data",
          "data": {
            "text/plain": [
              "<Figure size 1080x432 with 1 Axes>"
            ],
            "image/png": "[encoded data removed]"
          },
          "metadata": {
            "needs_background": "light"
          }
        }
      ]
    }
  ]
}
