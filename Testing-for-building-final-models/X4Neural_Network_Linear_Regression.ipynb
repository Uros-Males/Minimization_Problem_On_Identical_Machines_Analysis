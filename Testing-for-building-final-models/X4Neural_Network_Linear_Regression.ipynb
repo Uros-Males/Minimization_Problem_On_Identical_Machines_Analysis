{
  "nbformat": 4,
  "nbformat_minor": 0,
  "metadata": {
    "colab": {
      "name": "Neural_Network_Regression.ipynb",
      "provenance": [],
      "authorship_tag": "ABX9TyMmVIz6an77eZBgvTkS/5it",
      "include_colab_link": true
    },
    "kernelspec": {
      "name": "python3",
      "display_name": "Python 3"
    },
    "language_info": {
      "name": "python"
    }
  },
  "cells": [
    {
      "cell_type": "markdown",
      "metadata": {
        "id": "view-in-github",
        "colab_type": "text"
      },
      "source": [
        "<a href=\"https://colab.research.google.com/github/Uros-Males/Minimization_Problem_On_Identical_Machines_Analysis/blob/main/X4Neural_Network_Linear_Regression.ipynb\" target=\"_parent\"><img src=\"https://colab.research.google.com/assets/colab-badge.svg\" alt=\"Open In Colab\"/></a>"
      ]
    },
    {
      "cell_type": "code",
      "execution_count": 1,
      "metadata": {
        "id": "YiQcuNkDxHUf",
        "colab": {
          "base_uri": "https://localhost:8080/"
        },
        "outputId": "398f1984-b0ff-458f-80e7-40721ac2a0e2"
      },
      "outputs": [
        {
          "output_type": "stream",
          "name": "stdout",
          "text": [
            "19.907111\n",
            "2.0\n",
            "20.907111\n"
          ]
        }
      ],
      "source": [
        "#IN PROGRESS....\n",
        "import pandas as pd\n",
        "import numpy as np\n",
        "import matplotlib.pyplot as plt\n",
        "from sklearn import tree\n",
        "from sklearn.model_selection import train_test_split\n",
        "from sklearn.tree import DecisionTreeRegressor\n",
        "import time\n",
        "\n",
        "df = pd.read_csv('/content/sample_data/C-instances-runtime-analysis(1) (1).csv')\n",
        "df2 = df[df['train'] == 1]\n",
        "print(df2['y'].max())\n",
        "ymax_train1 = df2['y'].max()\n",
        "# sve sa train = 0 y = max(y) + 1\n",
        "\n",
        "for i in range(df.shape[0]):\n",
        "  if(df.iloc[i]['train'] == 0):\n",
        "    df.loc[i, 'y'] = ymax_train1 + 1\n",
        "\n",
        "lower_bound = df['n'] * df['av.length'] / df['m']\n",
        "lower_bound = lower_bound.astype('int') + 1\n",
        "\n",
        "upper_bound = np.minimum(df[' LPTUB'], df[' SLACKUB'])\n",
        "df['rel. bound'] = (upper_bound-lower_bound)/(upper_bound)\n",
        "df['rel. bound'] = df['rel. bound']*10000\n",
        "\n",
        "df['category'] = df['y']\n",
        "for i in range(df.shape[0]):\n",
        "  #print(df.iloc[i]['y'])\n",
        "  if(df.iloc[i]['y'] < 1):\n",
        "    df.loc[i, 'category'] = 0\n",
        "  elif(df.iloc[i]['y'] >= 1 and df.iloc[i]['y'] < 10):\n",
        "    df.loc[i, 'category'] = 1\n",
        "  else:\n",
        "    df.loc[i, 'category'] = 2\n",
        "\n",
        "print(df['category'].max())\n",
        "print(df['y'].max())\n",
        "shuffled = df.sample(frac=1).reset_index()\n",
        "\n",
        "columns_dont_want = ['y', 'index', 'inst.name','type', 'CPLEXStatus', ' LPTUB', ' SLACKUB', 'train']\n",
        "select = [x for x in shuffled.columns if x not in columns_dont_want]\n",
        "\n",
        "X = shuffled.loc[:, select]\n",
        "\n",
        "y = shuffled.loc[:,'y']"
      ]
    },
    {
      "cell_type": "code",
      "source": [
        "X_modified = X.drop([ 'rel. bound', 'median', 'range',  'max','k', 'av.length','indeks', 'class',  'subtype', '(m/n)^3', '(m/n)^2', '(n/m)^2', '(n/m)^3','m/n','n'], axis = 1)\n",
        "print(X_modified.head())\n",
        "#X_modified = X.drop(['max', 'n/m', '(n/m)^2', '(n/m)^3', 'm/n', '(m/n)^2', '(m/n)^3', 'class', 'av.length'], axis = 1)"
      ],
      "metadata": {
        "id": "Jzlk_oaRyQjm",
        "outputId": "d5ee19ab-1e42-4d47-bddb-123d8fb23944",
        "colab": {
          "base_uri": "https://localhost:8080/"
        }
      },
      "execution_count": 2,
      "outputs": [
        {
          "output_type": "stream",
          "name": "stdout",
          "text": [
            "    m   n/m     std.dev  min  category\n",
            "0   4   5.0   20.545904   70       0.0\n",
            "1  60   2.0   20.510399   43       0.0\n",
            "2   4  10.0   14.480666   51       0.0\n",
            "3  12  11.0  119.015076  133       0.0\n",
            "4  10  11.0   14.976545   50       0.0\n"
          ]
        }
      ]
    },
    {
      "cell_type": "code",
      "source": [
        "from imblearn.over_sampling import RandomOverSampler\n",
        "\n",
        "category = X_modified['category']\n",
        "\n",
        "tmp = X_modified.drop(['category'], axis = 1)\n",
        "tmp['y'] = y\n",
        "\n",
        "oversample = RandomOverSampler(random_state=0)\n",
        "tmp, category = oversample.fit_resample(tmp, category.astype('int'))\n",
        "\n",
        "tmp = tmp.sample(frac = 1).reset_index()\n",
        "\n",
        "y = tmp['y']\n",
        "X_modified = tmp.drop(['y'], axis = 1)\n",
        "print(X_modified.shape[0])\n",
        "print(X_modified.head())"
      ],
      "metadata": {
        "id": "CV5yPmjuHVXM",
        "outputId": "c2fe840b-821f-406f-8db5-caad86196e96",
        "colab": {
          "base_uri": "https://localhost:8080/"
        }
      },
      "execution_count": 3,
      "outputs": [
        {
          "output_type": "stream",
          "name": "stdout",
          "text": [
            "21840\n",
            "   index   m   n/m     std.dev  min\n",
            "0   4866  80  2.00   14.453067   50\n",
            "1  18565  80  2.75  193.929428  222\n",
            "2   6613  72  2.75   21.228710   48\n",
            "3  18436  56  2.50  127.157089  291\n",
            "4   1889  12  4.50   17.812872   67\n"
          ]
        }
      ]
    },
    {
      "cell_type": "code",
      "source": [
        "from sklearn import preprocessing\n",
        "\n",
        "from sklearn.preprocessing import StandardScaler\n",
        "\n",
        "sc = StandardScaler()\n",
        "sc2 = StandardScaler()\n",
        "\n",
        "X_train, X_test, y_train, y_test = train_test_split(X_modified, y, random_state=0, train_size = 0.83)\n",
        "\n",
        "X_train = sc.fit_transform(X_train)\n",
        "X_test = sc.transform(X_test)\n",
        "\n",
        "from sklearn.linear_model import LinearRegression\n",
        "from sklearn.preprocessing import PolynomialFeatures\n",
        "\n",
        "\n",
        "poly = PolynomialFeatures(degree=1, include_bias=True)\n",
        "X_train = poly.fit_transform(X_train)\n",
        "X_test = poly.transform(X_test)\n",
        "\n",
        "reg = LinearRegression().fit(X_train, y_train)\n",
        "\n",
        "\n",
        "\n"
      ],
      "metadata": {
        "id": "2JHin8gI5ftQ"
      },
      "execution_count": 4,
      "outputs": []
    },
    {
      "cell_type": "code",
      "source": [
        "from sklearn.metrics import r2_score\n",
        "prediction = reg.predict(X_test)\n",
        "print(\"r_square score: \", r2_score(y_test,prediction))\n",
        "#y_test = sc2.inverse_transform(y_test.reshape(-1,1))\n",
        "yy = np.array(y_test)\n",
        "#prediction = sc2.inverse_transform(prediction.reshape(-1,1))\n",
        "predd = np.array(prediction)\n",
        "for i in range(len(yy)):\n",
        "  if(yy[i]-predd[i] > 99000):\n",
        "    print(\"real value of y_test: \" + str(yy[i]) + \" -> the predict: \" + str(predd[i]))"
      ],
      "metadata": {
        "id": "PnQXNvh3-rVR",
        "outputId": "cd08bc5f-5a6b-4fa8-8578-28b009735eb2",
        "colab": {
          "base_uri": "https://localhost:8080/"
        }
      },
      "execution_count": 5,
      "outputs": [
        {
          "output_type": "stream",
          "name": "stdout",
          "text": [
            "r_square score:  0.7539729134700153\n"
          ]
        }
      ]
    },
    {
      "cell_type": "code",
      "source": [
        "from sklearn.metrics import mean_squared_error\n",
        "from math import sqrt\n",
        "\n",
        "print(\"RMSE:\")\n",
        "sqrt(mean_squared_error(yy, predd)) "
      ],
      "metadata": {
        "id": "OSyzIFK5uzHP",
        "outputId": "1f080ca2-156f-47a1-d529-8d00a19ed21a",
        "colab": {
          "base_uri": "https://localhost:8080/"
        }
      },
      "execution_count": 6,
      "outputs": [
        {
          "output_type": "stream",
          "name": "stdout",
          "text": [
            "RMSE:\n"
          ]
        },
        {
          "output_type": "execute_result",
          "data": {
            "text/plain": [
              "4.4705072783808895"
            ]
          },
          "metadata": {},
          "execution_count": 6
        }
      ]
    },
    {
      "cell_type": "code",
      "source": [
        "plt.scatter(yy, predd)"
      ],
      "metadata": {
        "id": "z4pQ0_HsopQe",
        "outputId": "e6d05deb-9857-4018-cf41-92ec4d69f438",
        "colab": {
          "base_uri": "https://localhost:8080/",
          "height": 282
        }
      },
      "execution_count": 7,
      "outputs": [
        {
          "output_type": "execute_result",
          "data": {
            "text/plain": [
              "<matplotlib.collections.PathCollection at 0x7fe393aaf990>"
            ]
          },
          "metadata": {},
          "execution_count": 7
        },
        {
          "output_type": "display_data",
          "data": {
            "text/plain": [
              "<Figure size 432x288 with 1 Axes>"
            ],
            "image/png": "[encoded data removed]"
          },
          "metadata": {
            "needs_background": "light"
          }
        }
      ]
    }
  ]
}
