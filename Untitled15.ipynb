{
  "nbformat": 4,
  "nbformat_minor": 0,
  "metadata": {
    "colab": {
      "name": "Untitled15.ipynb",
      "provenance": [],
      "authorship_tag": "ABX9TyOR9zXKTrncpurhYNhCshA+",
      "include_colab_link": true
    },
    "kernelspec": {
      "name": "python3",
      "display_name": "Python 3"
    },
    "language_info": {
      "name": "python"
    }
  },
  "cells": [
    {
      "cell_type": "markdown",
      "metadata": {
        "id": "view-in-github",
        "colab_type": "text"
      },
      "source": [
        "<a href=\"https://colab.research.google.com/github/Uros-Males/Minimization_Problem_On_Identical_Machines_Analysis/blob/main/Untitled15.ipynb\" target=\"_parent\"><img src=\"https://colab.research.google.com/assets/colab-badge.svg\" alt=\"Open In Colab\"/></a>"
      ]
    },
    {
      "cell_type": "code",
      "execution_count": 1,
      "metadata": {
        "id": "ol-tTjMEwIKX",
        "colab": {
          "base_uri": "https://localhost:8080/",
          "height": 337
        },
        "outputId": "ec549fe3-150f-4074-ea01-85d70ec14e04"
      },
      "outputs": [
        {
          "output_type": "stream",
          "name": "stdout",
          "text": [
            "5\n",
            "[0.24410598273009843, 0.5432401381220753, 0.677278640689835, 0.8067325073497812, 0.8288137592678902, 0.8176547234748822, 0.8076256037022764, 0.8001409623860125, 0.7582298458728026, 0.7487366658671782, 0.7275612355498683, 0.7077352833980578, 0.7310884190954186, 0.7267984327952373, 0.7352105807104301, 0.7314421690993902, 0.7543500225148229, 0.7388735333101716, 0.7271924514825328, 0.738533335395616, 0.7192651779738688, 0.7275179816682706, 0.7113304354049408, 0.7272350507872223]\n"
          ]
        },
        {
          "output_type": "execute_result",
          "data": {
            "text/plain": [
              "[<matplotlib.lines.Line2D at 0x7f1e5a7df950>]"
            ]
          },
          "metadata": {},
          "execution_count": 1
        },
        {
          "output_type": "display_data",
          "data": {
            "text/plain": [
              "<Figure size 432x288 with 1 Axes>"
            ],
            "image/png": "[encoded data removed]"
          },
          "metadata": {
            "needs_background": "light"
          }
        }
      ],
      "source": [
        "import pandas as pd\n",
        "import numpy as np\n",
        "import matplotlib.pyplot as plt\n",
        "from sklearn import tree\n",
        "from sklearn.model_selection import train_test_split\n",
        "from sklearn.tree import DecisionTreeRegressor\n",
        "\n",
        "df = pd.read_csv('/content/sample_data/C-instances-runtime-analysis.csv')\n",
        "\n",
        "shuffled = df.sample(frac=1).reset_index()\n",
        "\n",
        "columns_dont_want = ['y', 'index', 'inst.name', 'CPLEXStatus','type']\n",
        "select = [x for x in shuffled.columns if x not in columns_dont_want]\n",
        "\n",
        "X = shuffled.loc[:, select]\n",
        "\n",
        "y = shuffled.loc[:,'y']\n",
        "\n",
        "X_train, X_test, y_train, y_test = train_test_split(X, y, random_state=0, train_size = .8)\n",
        "\n",
        "max_depth_range = list(range(1, 25))\n",
        "# List to store the average RMSE for each value of max_depth:\n",
        "r2_list = []\n",
        "for depth in max_depth_range:\n",
        "    reg = DecisionTreeRegressor(max_depth = depth,\n",
        "                            random_state = 0)\n",
        "    reg.fit(X_train, y_train)   \n",
        "    \n",
        "    score = reg.score(X_test, y_test)\n",
        "    r2_list.append(score)\n",
        "print(r2_list.index(max(r2_list))+1)\n",
        "print(r2_list)\n",
        "plt.plot(max_depth_range, r2_list)"
      ]
    },
    {
      "cell_type": "code",
      "source": [
        "from sklearn.preprocessing import PolynomialFeatures\n",
        "from sklearn import linear_model\n",
        "\n",
        "r2_list=[]\n",
        "possible_degrees = list(range(1,4))\n",
        "for i in possible_degrees:\n",
        "  poly_reg = PolynomialFeatures(degree=i)\n",
        "  X_poly_train = poly_reg.fit_transform(X_train)\n",
        "  pol_reg = linear_model.LinearRegression()\n",
        "  pol_reg.fit(X_poly_train, y_train)\n",
        "  X_poly_test = poly_reg.fit_transform(X_test)\n",
        "  r2_list.append(pol_reg.score(X_poly_test, y_test))\n",
        "\n",
        "plt.plot(possible_degrees, r2_list)\n",
        "\n",
        "\n"
      ],
      "metadata": {
        "colab": {
          "base_uri": "https://localhost:8080/",
          "height": 283
        },
        "id": "bol9DzpAZKtJ",
        "outputId": "002a0f87-0aa1-4411-fdae-cf92769b9573"
      },
      "execution_count": 2,
      "outputs": [
        {
          "output_type": "execute_result",
          "data": {
            "text/plain": [
              "[<matplotlib.lines.Line2D at 0x7f1e5a780490>]"
            ]
          },
          "metadata": {},
          "execution_count": 2
        },
        {
          "output_type": "display_data",
          "data": {
            "text/plain": [
              "<Figure size 432x288 with 1 Axes>"
            ],
            "image/png": "[encoded data removed]"
          },
          "metadata": {
            "needs_background": "light"
          }
        }
      ]
    },
    {
      "cell_type": "code",
      "source": [
        "from sklearn import linear_model\n",
        "\n",
        "reg = linear_model.LinearRegression()\n",
        "reg.fit(X_train, y_train)\n",
        "print(reg.score(X_test, y_test))\n",
        "\n",
        "r2_list = []\n",
        "r2_list2 = []\n",
        "r2_list3 = []\n",
        "t = np.linspace(0.5, 0.95, 20)\n",
        "\n",
        "for i in t:\n",
        "  reg = linear_model.LinearRegression()\n",
        "  X_train, X_test, y_train, y_test = train_test_split(X, y, random_state=0, train_size = i)\n",
        "  reg.fit(X_train, y_train)\n",
        "  r2_list.append(reg.score(X_test, y_test))\n",
        "\n",
        "  reg2 = DecisionTreeRegressor(max_depth = 7, random_state=0); \n",
        "  X_train, X_test, y_train, y_test = train_test_split(X, y, random_state=0, train_size = i)\n",
        "  reg2.fit(X_train, y_train)\n",
        "  r2_list2.append(reg2.score(X_test, y_test))\n",
        "\n",
        "  poly_reg = PolynomialFeatures(degree=3)\n",
        "  X_train, X_test, y_train, y_test = train_test_split(X, y, random_state=0, train_size = i)\n",
        "  X_poly_train = poly_reg.fit_transform(X_train)\n",
        "  pol_reg = linear_model.LinearRegression()\n",
        "  pol_reg.fit(X_poly_train, y_train)\n",
        "  X_poly_test = poly_reg.fit_transform(X_test)\n",
        "  r2_list3.append(pol_reg.score(X_poly_test, y_test))\n",
        "\n",
        "\n",
        "\n",
        "plt.plot(t,r2_list,t,r2_list2,t,r2_list3)\n",
        "plt.legend([\"LinReg\", \"DecTreeReg\", \"PolyReg\"])\n",
        "plt.xlabel(\"Train2DataPercent\")\n",
        "plt.ylabel(\"TestSetPrecision\")\n",
        "plt.title(\"Finding best train to test ratio\")\n",
        "plt.grid()"
      ],
      "metadata": {
        "colab": {
          "base_uri": "https://localhost:8080/",
          "height": 312
        },
        "id": "4omyVVGv_4VD",
        "outputId": "f77e45bc-23b6-4fba-9421-49b5be325d52"
      },
      "execution_count": 3,
      "outputs": [
        {
          "output_type": "stream",
          "name": "stdout",
          "text": [
            "0.5724659343721094\n"
          ]
        },
        {
          "output_type": "display_data",
          "data": {
            "text/plain": [
              "<Figure size 432x288 with 1 Axes>"
            ],
            "image/png": "[encoded data removed]"
          },
          "metadata": {
            "needs_background": "light"
          }
        }
      ]
    },
    {
      "cell_type": "code",
      "source": [
        "left = 0.8\n",
        "right = 0.9\n",
        "r2_list = np.array(r2_list)\n",
        "r2_list2 = np.array(r2_list2)\n",
        "r2_list3 = np.array(r2_list3)\n",
        "prod_list = np.multiply(r2_list, r2_list2, r2_list3)\n",
        "#plt.plot(t,prod_list)\n",
        "a= np.max(prod_list[np.multiply(t>0.8, t<0.9)])\n",
        "print(t[prod_list == a])"
      ],
      "metadata": {
        "colab": {
          "base_uri": "https://localhost:8080/"
        },
        "id": "z6E5JAhjrPL5",
        "outputId": "e5be4906-5995-4081-ed5d-0b371c183639"
      },
      "execution_count": 4,
      "outputs": [
        {
          "output_type": "stream",
          "name": "stdout",
          "text": [
            "[0.87894737]\n"
          ]
        }
      ]
    },
    {
      "cell_type": "code",
      "source": [
        "from statsmodels.stats.outliers_influence import variance_inflation_factor\n",
        "\n",
        "def vif_scores(df):\n",
        "    VIF_Scores = pd.DataFrame()\n",
        "    VIF_Scores[\"Independent Features\"] = df.columns\n",
        "    VIF_Scores[\"VIF Scores\"] = [variance_inflation_factor(df.values,i) for i in range(df.shape[1])]\n",
        "    return VIF_Scores\n",
        "\n",
        "vif_scores(X).round(1)\n"
      ],
      "metadata": {
        "colab": {
          "base_uri": "https://localhost:8080/",
          "height": 649
        },
        "id": "p9Mm3DEdNMQl",
        "outputId": "2878e704-23c4-43f6-929c-c79c7d0a02f6"
      },
      "execution_count": 7,
      "outputs": [
        {
          "output_type": "stream",
          "name": "stderr",
          "text": [
            "/usr/local/lib/python3.7/dist-packages/statsmodels/stats/outliers_influence.py:193: RuntimeWarning: divide by zero encountered in double_scalars\n",
            "  vif = 1. / (1. - r_squared_i)\n"
          ]
        },
        {
          "output_type": "execute_result",
          "data": {
            "text/plain": [
              "   Independent Features  VIF Scores\n",
              "0               subtype     11906.8\n",
              "1                 class        10.8\n",
              "2                indeks         4.7\n",
              "3                     n        46.2\n",
              "4                     m        22.5\n",
              "5                   n/m    283628.1\n",
              "6               (n/m)^2    429027.6\n",
              "7               (n/m)^3     83884.4\n",
              "8                   m/n     59002.0\n",
              "9               (m/n)^2     72521.3\n",
              "10              (m/n)^3     11894.2\n",
              "11            av.length      2651.5\n",
              "12              std.dev        59.5\n",
              "13               median      2081.2\n",
              "14                range         inf\n",
              "15                  min         inf\n",
              "16                  max         inf\n",
              "17                    k        77.1"
            ],
            "text/html": [
              "\n",
              "  <div id=\"df-9b8bc356-b751-45df-97ee-59e9a1375853\">\n",
              "    <div class=\"colab-df-container\">\n",
              "      <div>\n",
              "<style scoped>\n",
              "    .dataframe tbody tr th:only-of-type {\n",
              "        vertical-align: middle;\n",
              "    }\n",
              "\n",
              "    .dataframe tbody tr th {\n",
              "        vertical-align: top;\n",
              "    }\n",
              "\n",
              "    .dataframe thead th {\n",
              "        text-align: right;\n",
              "    }\n",
              "</style>\n",
              "<table border=\"1\" class=\"dataframe\">\n",
              "  <thead>\n",
              "    <tr style=\"text-align: right;\">\n",
              "      <th></th>\n",
              "      <th>Independent Features</th>\n",
              "      <th>VIF Scores</th>\n",
              "    </tr>\n",
              "  </thead>\n",
              "  <tbody>\n",
              "    <tr>\n",
              "      <th>0</th>\n",
              "      <td>subtype</td>\n",
              "      <td>11906.8</td>\n",
              "    </tr>\n",
              "    <tr>\n",
              "      <th>1</th>\n",
              "      <td>class</td>\n",
              "      <td>10.8</td>\n",
              "    </tr>\n",
              "    <tr>\n",
              "      <th>2</th>\n",
              "      <td>indeks</td>\n",
              "      <td>4.7</td>\n",
              "    </tr>\n",
              "    <tr>\n",
              "      <th>3</th>\n",
              "      <td>n</td>\n",
              "      <td>46.2</td>\n",
              "    </tr>\n",
              "    <tr>\n",
              "      <th>4</th>\n",
              "      <td>m</td>\n",
              "      <td>22.5</td>\n",
              "    </tr>\n",
              "    <tr>\n",
              "      <th>5</th>\n",
              "      <td>n/m</td>\n",
              "      <td>283628.1</td>\n",
              "    </tr>\n",
              "    <tr>\n",
              "      <th>6</th>\n",
              "      <td>(n/m)^2</td>\n",
              "      <td>429027.6</td>\n",
              "    </tr>\n",
              "    <tr>\n",
              "      <th>7</th>\n",
              "      <td>(n/m)^3</td>\n",
              "      <td>83884.4</td>\n",
              "    </tr>\n",
              "    <tr>\n",
              "      <th>8</th>\n",
              "      <td>m/n</td>\n",
              "      <td>59002.0</td>\n",
              "    </tr>\n",
              "    <tr>\n",
              "      <th>9</th>\n",
              "      <td>(m/n)^2</td>\n",
              "      <td>72521.3</td>\n",
              "    </tr>\n",
              "    <tr>\n",
              "      <th>10</th>\n",
              "      <td>(m/n)^3</td>\n",
              "      <td>11894.2</td>\n",
              "    </tr>\n",
              "    <tr>\n",
              "      <th>11</th>\n",
              "      <td>av.length</td>\n",
              "      <td>2651.5</td>\n",
              "    </tr>\n",
              "    <tr>\n",
              "      <th>12</th>\n",
              "      <td>std.dev</td>\n",
              "      <td>59.5</td>\n",
              "    </tr>\n",
              "    <tr>\n",
              "      <th>13</th>\n",
              "      <td>median</td>\n",
              "      <td>2081.2</td>\n",
              "    </tr>\n",
              "    <tr>\n",
              "      <th>14</th>\n",
              "      <td>range</td>\n",
              "      <td>inf</td>\n",
              "    </tr>\n",
              "    <tr>\n",
              "      <th>15</th>\n",
              "      <td>min</td>\n",
              "      <td>inf</td>\n",
              "    </tr>\n",
              "    <tr>\n",
              "      <th>16</th>\n",
              "      <td>max</td>\n",
              "      <td>inf</td>\n",
              "    </tr>\n",
              "    <tr>\n",
              "      <th>17</th>\n",
              "      <td>k</td>\n",
              "      <td>77.1</td>\n",
              "    </tr>\n",
              "  </tbody>\n",
              "</table>\n",
              "</div>\n",
              "      <button class=\"colab-df-convert\" onclick=\"convertToInteractive('df-9b8bc356-b751-45df-97ee-59e9a1375853')\"\n",
              "              title=\"Convert this dataframe to an interactive table.\"\n",
              "              style=\"display:none;\">\n",
              "        \n",
              "  <svg xmlns=\"http://www.w3.org/2000/svg\" height=\"24px\"viewBox=\"0 0 24 24\"\n",
              "       width=\"24px\">\n",
              "    <path d=\"M0 0h24v24H0V0z\" fill=\"none\"/>\n",
              "    <path d=\"M18.56 5.44l.94 2.06.94-2.06 2.06-.94-2.06-.94-.94-2.06-.94 2.06-2.06.94zm-11 1L8.5 8.5l.94-2.06 2.06-.94-2.06-.94L8.5 2.5l-.94 2.06-2.06.94zm10 10l.94 2.06.94-2.06 2.06-.94-2.06-.94-.94-2.06-.94 2.06-2.06.94z\"/><path d=\"M17.41 7.96l-1.37-1.37c-.4-.4-.92-.59-1.43-.59-.52 0-1.04.2-1.43.59L10.3 9.45l-7.72 7.72c-.78.78-.78 2.05 0 2.83L4 21.41c.39.39.9.59 1.41.59.51 0 1.02-.2 1.41-.59l7.78-7.78 2.81-2.81c.8-.78.8-2.07 0-2.86zM5.41 20L4 18.59l7.72-7.72 1.47 1.35L5.41 20z\"/>\n",
              "  </svg>\n",
              "      </button>\n",
              "      \n",
              "  <style>\n",
              "    .colab-df-container {\n",
              "      display:flex;\n",
              "      flex-wrap:wrap;\n",
              "      gap: 12px;\n",
              "    }\n",
              "\n",
              "    .colab-df-convert {\n",
              "      background-color: #E8F0FE;\n",
              "      border: none;\n",
              "      border-radius: 50%;\n",
              "      cursor: pointer;\n",
              "      display: none;\n",
              "      fill: #1967D2;\n",
              "      height: 32px;\n",
              "      padding: 0 0 0 0;\n",
              "      width: 32px;\n",
              "    }\n",
              "\n",
              "    .colab-df-convert:hover {\n",
              "      background-color: #E2EBFA;\n",
              "      box-shadow: 0px 1px 2px rgba(60, 64, 67, 0.3), 0px 1px 3px 1px rgba(60, 64, 67, 0.15);\n",
              "      fill: #174EA6;\n",
              "    }\n",
              "\n",
              "    [theme=dark] .colab-df-convert {\n",
              "      background-color: #3B4455;\n",
              "      fill: #D2E3FC;\n",
              "    }\n",
              "\n",
              "    [theme=dark] .colab-df-convert:hover {\n",
              "      background-color: #434B5C;\n",
              "      box-shadow: 0px 1px 3px 1px rgba(0, 0, 0, 0.15);\n",
              "      filter: drop-shadow(0px 1px 2px rgba(0, 0, 0, 0.3));\n",
              "      fill: #FFFFFF;\n",
              "    }\n",
              "  </style>\n",
              "\n",
              "      <script>\n",
              "        const buttonEl =\n",
              "          document.querySelector('#df-9b8bc356-b751-45df-97ee-59e9a1375853 button.colab-df-convert');\n",
              "        buttonEl.style.display =\n",
              "          google.colab.kernel.accessAllowed ? 'block' : 'none';\n",
              "\n",
              "        async function convertToInteractive(key) {\n",
              "          const element = document.querySelector('#df-9b8bc356-b751-45df-97ee-59e9a1375853');\n",
              "          const dataTable =\n",
              "            await google.colab.kernel.invokeFunction('convertToInteractive',\n",
              "                                                     [key], {});\n",
              "          if (!dataTable) return;\n",
              "\n",
              "          const docLinkHtml = 'Like what you see? Visit the ' +\n",
              "            '<a target=\"_blank\" href=https://colab.research.google.com/notebooks/data_table.ipynb>data table notebook</a>'\n",
              "            + ' to learn more about interactive tables.';\n",
              "          element.innerHTML = '';\n",
              "          dataTable['output_type'] = 'display_data';\n",
              "          await google.colab.output.renderOutput(dataTable, element);\n",
              "          const docLink = document.createElement('div');\n",
              "          docLink.innerHTML = docLinkHtml;\n",
              "          element.appendChild(docLink);\n",
              "        }\n",
              "      </script>\n",
              "    </div>\n",
              "  </div>\n",
              "  "
            ]
          },
          "metadata": {},
          "execution_count": 7
        }
      ]
    },
    {
      "cell_type": "code",
      "source": [
        "X_modified = X.drop(['range', 'n/m', '(n/m)^2', '(n/m)^3', 'm/n', '(m/n)^2', '(m/n)^3', 'median'], axis = 1)\n",
        "vif_scores(X_modified).round(1)"
      ],
      "metadata": {
        "colab": {
          "base_uri": "https://localhost:8080/",
          "height": 363
        },
        "id": "TTPQ1GhcSGiT",
        "outputId": "a7bc35f8-cdbe-41f9-f0b4-f4f3947b01cb"
      },
      "execution_count": 16,
      "outputs": [
        {
          "output_type": "execute_result",
          "data": {
            "text/plain": [
              "  Independent Features  VIF Scores\n",
              "0              subtype         9.8\n",
              "1                class         8.4\n",
              "2               indeks         4.1\n",
              "3                    n        42.3\n",
              "4                    m        13.6\n",
              "5            av.length       236.0\n",
              "6              std.dev        59.3\n",
              "7                  min        15.6\n",
              "8                  max       191.9\n",
              "9                    k        76.6"
            ],
            "text/html": [
              "\n",
              "  <div id=\"df-bd633539-3b04-4cf8-b2fa-ebd9d67a88a3\">\n",
              "    <div class=\"colab-df-container\">\n",
              "      <div>\n",
              "<style scoped>\n",
              "    .dataframe tbody tr th:only-of-type {\n",
              "        vertical-align: middle;\n",
              "    }\n",
              "\n",
              "    .dataframe tbody tr th {\n",
              "        vertical-align: top;\n",
              "    }\n",
              "\n",
              "    .dataframe thead th {\n",
              "        text-align: right;\n",
              "    }\n",
              "</style>\n",
              "<table border=\"1\" class=\"dataframe\">\n",
              "  <thead>\n",
              "    <tr style=\"text-align: right;\">\n",
              "      <th></th>\n",
              "      <th>Independent Features</th>\n",
              "      <th>VIF Scores</th>\n",
              "    </tr>\n",
              "  </thead>\n",
              "  <tbody>\n",
              "    <tr>\n",
              "      <th>0</th>\n",
              "      <td>subtype</td>\n",
              "      <td>9.8</td>\n",
              "    </tr>\n",
              "    <tr>\n",
              "      <th>1</th>\n",
              "      <td>class</td>\n",
              "      <td>8.4</td>\n",
              "    </tr>\n",
              "    <tr>\n",
              "      <th>2</th>\n",
              "      <td>indeks</td>\n",
              "      <td>4.1</td>\n",
              "    </tr>\n",
              "    <tr>\n",
              "      <th>3</th>\n",
              "      <td>n</td>\n",
              "      <td>42.3</td>\n",
              "    </tr>\n",
              "    <tr>\n",
              "      <th>4</th>\n",
              "      <td>m</td>\n",
              "      <td>13.6</td>\n",
              "    </tr>\n",
              "    <tr>\n",
              "      <th>5</th>\n",
              "      <td>av.length</td>\n",
              "      <td>236.0</td>\n",
              "    </tr>\n",
              "    <tr>\n",
              "      <th>6</th>\n",
              "      <td>std.dev</td>\n",
              "      <td>59.3</td>\n",
              "    </tr>\n",
              "    <tr>\n",
              "      <th>7</th>\n",
              "      <td>min</td>\n",
              "      <td>15.6</td>\n",
              "    </tr>\n",
              "    <tr>\n",
              "      <th>8</th>\n",
              "      <td>max</td>\n",
              "      <td>191.9</td>\n",
              "    </tr>\n",
              "    <tr>\n",
              "      <th>9</th>\n",
              "      <td>k</td>\n",
              "      <td>76.6</td>\n",
              "    </tr>\n",
              "  </tbody>\n",
              "</table>\n",
              "</div>\n",
              "      <button class=\"colab-df-convert\" onclick=\"convertToInteractive('df-bd633539-3b04-4cf8-b2fa-ebd9d67a88a3')\"\n",
              "              title=\"Convert this dataframe to an interactive table.\"\n",
              "              style=\"display:none;\">\n",
              "        \n",
              "  <svg xmlns=\"http://www.w3.org/2000/svg\" height=\"24px\"viewBox=\"0 0 24 24\"\n",
              "       width=\"24px\">\n",
              "    <path d=\"M0 0h24v24H0V0z\" fill=\"none\"/>\n",
              "    <path d=\"M18.56 5.44l.94 2.06.94-2.06 2.06-.94-2.06-.94-.94-2.06-.94 2.06-2.06.94zm-11 1L8.5 8.5l.94-2.06 2.06-.94-2.06-.94L8.5 2.5l-.94 2.06-2.06.94zm10 10l.94 2.06.94-2.06 2.06-.94-2.06-.94-.94-2.06-.94 2.06-2.06.94z\"/><path d=\"M17.41 7.96l-1.37-1.37c-.4-.4-.92-.59-1.43-.59-.52 0-1.04.2-1.43.59L10.3 9.45l-7.72 7.72c-.78.78-.78 2.05 0 2.83L4 21.41c.39.39.9.59 1.41.59.51 0 1.02-.2 1.41-.59l7.78-7.78 2.81-2.81c.8-.78.8-2.07 0-2.86zM5.41 20L4 18.59l7.72-7.72 1.47 1.35L5.41 20z\"/>\n",
              "  </svg>\n",
              "      </button>\n",
              "      \n",
              "  <style>\n",
              "    .colab-df-container {\n",
              "      display:flex;\n",
              "      flex-wrap:wrap;\n",
              "      gap: 12px;\n",
              "    }\n",
              "\n",
              "    .colab-df-convert {\n",
              "      background-color: #E8F0FE;\n",
              "      border: none;\n",
              "      border-radius: 50%;\n",
              "      cursor: pointer;\n",
              "      display: none;\n",
              "      fill: #1967D2;\n",
              "      height: 32px;\n",
              "      padding: 0 0 0 0;\n",
              "      width: 32px;\n",
              "    }\n",
              "\n",
              "    .colab-df-convert:hover {\n",
              "      background-color: #E2EBFA;\n",
              "      box-shadow: 0px 1px 2px rgba(60, 64, 67, 0.3), 0px 1px 3px 1px rgba(60, 64, 67, 0.15);\n",
              "      fill: #174EA6;\n",
              "    }\n",
              "\n",
              "    [theme=dark] .colab-df-convert {\n",
              "      background-color: #3B4455;\n",
              "      fill: #D2E3FC;\n",
              "    }\n",
              "\n",
              "    [theme=dark] .colab-df-convert:hover {\n",
              "      background-color: #434B5C;\n",
              "      box-shadow: 0px 1px 3px 1px rgba(0, 0, 0, 0.15);\n",
              "      filter: drop-shadow(0px 1px 2px rgba(0, 0, 0, 0.3));\n",
              "      fill: #FFFFFF;\n",
              "    }\n",
              "  </style>\n",
              "\n",
              "      <script>\n",
              "        const buttonEl =\n",
              "          document.querySelector('#df-bd633539-3b04-4cf8-b2fa-ebd9d67a88a3 button.colab-df-convert');\n",
              "        buttonEl.style.display =\n",
              "          google.colab.kernel.accessAllowed ? 'block' : 'none';\n",
              "\n",
              "        async function convertToInteractive(key) {\n",
              "          const element = document.querySelector('#df-bd633539-3b04-4cf8-b2fa-ebd9d67a88a3');\n",
              "          const dataTable =\n",
              "            await google.colab.kernel.invokeFunction('convertToInteractive',\n",
              "                                                     [key], {});\n",
              "          if (!dataTable) return;\n",
              "\n",
              "          const docLinkHtml = 'Like what you see? Visit the ' +\n",
              "            '<a target=\"_blank\" href=https://colab.research.google.com/notebooks/data_table.ipynb>data table notebook</a>'\n",
              "            + ' to learn more about interactive tables.';\n",
              "          element.innerHTML = '';\n",
              "          dataTable['output_type'] = 'display_data';\n",
              "          await google.colab.output.renderOutput(dataTable, element);\n",
              "          const docLink = document.createElement('div');\n",
              "          docLink.innerHTML = docLinkHtml;\n",
              "          element.appendChild(docLink);\n",
              "        }\n",
              "      </script>\n",
              "    </div>\n",
              "  </div>\n",
              "  "
            ]
          },
          "metadata": {},
          "execution_count": 16
        }
      ]
    },
    {
      "cell_type": "code",
      "source": [
        "r2_list = []\n",
        "r2_list2 = []\n",
        "r2_list3 = []\n",
        "t = np.linspace(0.5, 0.95, 20)\n",
        "\n",
        "for i in t:\n",
        "  reg = linear_model.LinearRegression()\n",
        "  X_train, X_test, y_train, y_test = train_test_split(X_modified, y, random_state=0, train_size = i)\n",
        "  reg.fit(X_train, y_train)\n",
        "  r2_list.append(reg.score(X_test, y_test))\n",
        "\n",
        "  reg2 = DecisionTreeRegressor(max_depth = 5, random_state=0); \n",
        "  X_train, X_test, y_train, y_test = train_test_split(X_modified, y, random_state=0, train_size = i)\n",
        "  reg2.fit(X_train, y_train)\n",
        "  r2_list2.append(reg2.score(X_test, y_test))\n",
        "\n",
        "  poly_reg = PolynomialFeatures(degree=3)\n",
        "  X_train, X_test, y_train, y_test = train_test_split(X_modified, y, random_state=0, train_size = i)\n",
        "  X_poly_train = poly_reg.fit_transform(X_train)\n",
        "  pol_reg = linear_model.LinearRegression()\n",
        "  pol_reg.fit(X_poly_train, y_train)\n",
        "  X_poly_test = poly_reg.fit_transform(X_test)\n",
        "  r2_list3.append(pol_reg.score(X_poly_test, y_test))\n",
        "\n",
        "\n",
        "\n",
        "plt.plot(t,r2_list,t,r2_list2,t,r2_list3)\n",
        "plt.legend([\"LinReg\", \"DecTreeReg\", \"PolyReg\"])\n",
        "plt.xlabel(\"Train2DataPercent\")\n",
        "plt.ylabel(\"TestSetPrecision\")\n",
        "plt.title(\"Finding best train to test ratio in modified dataset\")\n",
        "plt.grid()"
      ],
      "metadata": {
        "colab": {
          "base_uri": "https://localhost:8080/",
          "height": 295
        },
        "id": "nOZOvjm7eGzi",
        "outputId": "f1e2ebd6-231b-4803-e917-af3633fde21f"
      },
      "execution_count": 23,
      "outputs": [
        {
          "output_type": "display_data",
          "data": {
            "text/plain": [
              "<Figure size 432x288 with 1 Axes>"
            ],
            "image/png": "[encoded data removed]"
          },
          "metadata": {
            "needs_background": "light"
          }
        }
      ]
    }
  ]
}