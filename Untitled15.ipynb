{
  "nbformat": 4,
  "nbformat_minor": 0,
  "metadata": {
    "colab": {
      "name": "Untitled15.ipynb",
      "provenance": [],
      "authorship_tag": "ABX9TyMUAO2X1HlSQGbeb8sGJkht",
      "include_colab_link": true
    },
    "kernelspec": {
      "name": "python3",
      "display_name": "Python 3"
    },
    "language_info": {
      "name": "python"
    }
  },
  "cells": [
    {
      "cell_type": "markdown",
      "metadata": {
        "id": "view-in-github",
        "colab_type": "text"
      },
      "source": [
        "<a href=\"https://colab.research.google.com/github/Uros-Males/Minimization_Problem_On_Identical_Machines_Analysis/blob/main/Untitled15.ipynb\" target=\"_parent\"><img src=\"https://colab.research.google.com/assets/colab-badge.svg\" alt=\"Open In Colab\"/></a>"
      ]
    },
    {
      "cell_type": "code",
      "execution_count": 66,
      "metadata": {
        "id": "ol-tTjMEwIKX",
        "colab": {
          "base_uri": "https://localhost:8080/",
          "height": 337
        },
        "outputId": "8c283dcc-a998-45c3-d3f0-a62eda56588d"
      },
      "outputs": [
        {
          "output_type": "stream",
          "name": "stdout",
          "text": [
            "7\n",
            "[0.24919414954075414, 0.5527420188370603, 0.6560390442982077, 0.7515352300295561, 0.7651135613528639, 0.7617777679468485, 0.7848401116251382, 0.7560702656428379, 0.7783515654039704, 0.7585868925554908, 0.7464518963006239, 0.7292807385039537, 0.7271820980467977, 0.7233568744384116, 0.717837034334782, 0.7189881140401924, 0.7460589099819377, 0.7457105505346927, 0.7298208058973328, 0.7110946970514265, 0.737760574078137, 0.7338130128730962, 0.7229750217055073, 0.7301421371606132]\n"
          ]
        },
        {
          "output_type": "execute_result",
          "data": {
            "text/plain": [
              "[<matplotlib.lines.Line2D at 0x7f18f5e47d50>]"
            ]
          },
          "metadata": {},
          "execution_count": 66
        },
        {
          "output_type": "display_data",
          "data": {
            "text/plain": [
              "<Figure size 432x288 with 1 Axes>"
            ],
            "image/png": "[encoded data removed]"
          },
          "metadata": {
            "needs_background": "light"
          }
        }
      ],
      "source": [
        "import pandas as pd\n",
        "import numpy as np\n",
        "import matplotlib.pyplot as plt\n",
        "from sklearn import tree\n",
        "from sklearn.model_selection import train_test_split\n",
        "from sklearn.tree import DecisionTreeRegressor\n",
        "\n",
        "df = pd.read_csv('/content/sample_data/C-instances-runtime-analysis.csv')\n",
        "\n",
        "shuffled = df.sample(frac=1).reset_index()\n",
        "\n",
        "columns_dont_want = ['y', 'index', 'inst.name', 'CPLEXStatus','type']\n",
        "select = [x for x in shuffled.columns if x not in columns_dont_want]\n",
        "\n",
        "X = shuffled.loc[:, select]\n",
        "\n",
        "y = shuffled.loc[:,'y']\n",
        "\n",
        "X_train, X_test, y_train, y_test = train_test_split(X, y, random_state=0, train_size = .8)\n",
        "\n",
        "max_depth_range = list(range(1, 25))\n",
        "# List to store the average RMSE for each value of max_depth:\n",
        "r2_list = []\n",
        "for depth in max_depth_range:\n",
        "    reg = DecisionTreeRegressor(max_depth = depth,\n",
        "                            random_state = 0)\n",
        "    reg.fit(X_train, y_train)   \n",
        "    \n",
        "    score = reg.score(X_test, y_test)\n",
        "    r2_list.append(score)\n",
        "print(r2_list.index(max(r2_list))+1)\n",
        "print(r2_list)\n",
        "plt.plot(max_depth_range, r2_list)"
      ]
    },
    {
      "cell_type": "code",
      "source": [
        "from sklearn import linear_model\n",
        "\n",
        "reg = linear_model.LinearRegression()\n",
        "reg.fit(X_train, y_train)\n",
        "print(reg.score(X_test, y_test))\n",
        "\n",
        "r2_list = []\n",
        "t = np.linspace(0.2, 0.95, 20)\n",
        "\n",
        "for i in t:\n",
        "  reg = linear_model.LinearRegression()\n",
        "  X_train, X_test, y_train, y_test = train_test_split(X, y, random_state=0, train_size = i)\n",
        "  reg.fit(X_train, y_train)\n",
        "  r2_list.append(reg.score(X_test, y_test))\n",
        "\n",
        "plt.plot(t,r2_list)"
      ],
      "metadata": {
        "colab": {
          "base_uri": "https://localhost:8080/",
          "height": 300
        },
        "id": "4omyVVGv_4VD",
        "outputId": "81d3d3ab-ce76-4aeb-c8dd-3dbb94579297"
      },
      "execution_count": 60,
      "outputs": [
        {
          "output_type": "stream",
          "name": "stdout",
          "text": [
            "0.6220929116743862\n"
          ]
        },
        {
          "output_type": "execute_result",
          "data": {
            "text/plain": [
              "[<matplotlib.lines.Line2D at 0x7f18f607d2d0>]"
            ]
          },
          "metadata": {},
          "execution_count": 60
        },
        {
          "output_type": "display_data",
          "data": {
            "text/plain": [
              "<Figure size 432x288 with 1 Axes>"
            ],
            "image/png": "[encoded data removed]"
          },
          "metadata": {
            "needs_background": "light"
          }
        }
      ]
    }
  ]
}