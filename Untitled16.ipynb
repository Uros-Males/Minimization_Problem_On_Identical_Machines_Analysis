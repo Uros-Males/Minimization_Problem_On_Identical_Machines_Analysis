{
  "nbformat": 4,
  "nbformat_minor": 0,
  "metadata": {
    "colab": {
      "name": "Untitled16.ipynb",
      "provenance": [],
      "authorship_tag": "ABX9TyNSGJK1yVJbMLR3yVJs+AaN",
      "include_colab_link": true
    },
    "kernelspec": {
      "name": "python3",
      "display_name": "Python 3"
    },
    "language_info": {
      "name": "python"
    }
  },
  "cells": [
    {
      "cell_type": "markdown",
      "metadata": {
        "id": "view-in-github",
        "colab_type": "text"
      },
      "source": [
        "<a href=\"https://colab.research.google.com/github/Uros-Males/Minimization_Problem_On_Identical_Machines_Analysis/blob/main/Untitled16.ipynb\" target=\"_parent\"><img src=\"https://colab.research.google.com/assets/colab-badge.svg\" alt=\"Open In Colab\"/></a>"
      ]
    },
    {
      "cell_type": "code",
      "execution_count": 1,
      "metadata": {
        "id": "YiQcuNkDxHUf",
        "colab": {
          "base_uri": "https://localhost:8080/"
        },
        "outputId": "c62b169e-efdf-4bf7-fed0-ea66911ac44f"
      },
      "outputs": [
        {
          "output_type": "stream",
          "name": "stdout",
          "text": [
            "8750\n"
          ]
        }
      ],
      "source": [
        "#IN PROGRESS....\n",
        "import pandas as pd\n",
        "import numpy as np\n",
        "import matplotlib.pyplot as plt\n",
        "from sklearn import tree\n",
        "from sklearn.model_selection import train_test_split\n",
        "from sklearn.tree import DecisionTreeRegressor\n",
        "import time\n",
        "\n",
        "df = pd.read_csv('/content/sample_data/C-instances-runtime-analysis.csv')\n",
        "print(df.shape[0])\n",
        "\n",
        "shuffled = df.sample(frac=1).reset_index()\n",
        "\n",
        "columns_dont_want = ['y', 'index', 'inst.name', 'CPLEXStatus','type']\n",
        "select = [x for x in shuffled.columns if x not in columns_dont_want]\n",
        "\n",
        "X = shuffled.loc[:, select]\n",
        "\n",
        "y = shuffled.loc[:,'y']"
      ]
    },
    {
      "cell_type": "code",
      "source": [
        "X_modified = X.drop(['max', 'n/m', '(n/m)^2', '(n/m)^3', 'm/n', '(m/n)^2', '(m/n)^3', 'class', 'av.length'], axis = 1)"
      ],
      "metadata": {
        "id": "Jzlk_oaRyQjm"
      },
      "execution_count": 2,
      "outputs": []
    },
    {
      "cell_type": "code",
      "source": [
        "from keras.models import Sequential\n",
        "from keras.layers import Dense ,Dropout,BatchNormalization\n",
        "from keras.layers import Dense\n",
        "from keras.wrappers.scikit_learn import KerasRegressor\n",
        "from sklearn.model_selection import cross_val_score\n",
        "\n",
        "from keras.layers import Activation\n",
        "from keras import backend as K\n",
        "from keras.utils.generic_utils import get_custom_objects\n",
        "\n",
        "\n",
        "def custom_activation(x):\n",
        "    return 99999*1/(1+K.exp(-x))\n",
        "\n",
        "get_custom_objects().update({'custom_activation': Activation(custom_activation)})\n",
        "\n",
        "def make_model():\n",
        "    model = Sequential()\n",
        "    \n",
        "    model.add(Dense(16, input_dim=X_modified.shape[1], activation='relu'))\n",
        "    model.add(Dropout(0.5))\n",
        "    \n",
        "    \n",
        "    model.add(Dense(8, activation='relu'))\n",
        "    model.add(Dropout(0.25))\n",
        "    \n",
        "\n",
        "    \n",
        "    model.add(Dense(1, activation = custom_activation))\n",
        "    #model.add(Activation(custom_activation, name='SpecialActivation'))\n",
        "    model.compile(loss='mean_squared_error', optimizer='adam')\n",
        "    return model"
      ],
      "metadata": {
        "id": "7_m2qFDRya94"
      },
      "execution_count": 3,
      "outputs": []
    },
    {
      "cell_type": "code",
      "source": [
        "from sklearn.preprocessing import MinMaxScaler\n",
        "scaler =  MinMaxScaler()\n",
        "\n",
        "X_train, X_test, y_train, y_test = train_test_split(X_modified, y, random_state=0, train_size = 0.83)\n",
        "\n",
        "X_train = scaler.fit_transform(X_train)\n",
        "X_test = scaler.fit_transform(X_test)\n",
        "\n",
        "estimator = KerasRegressor(build_fn=make_model, epochs=50, batch_size=128, verbose=1)\n",
        "\n",
        "history=estimator.fit(X_train,y_train)"
      ],
      "metadata": {
        "colab": {
          "base_uri": "https://localhost:8080/"
        },
        "id": "2JHin8gI5ftQ",
        "outputId": "283d34cc-4a29-46e3-f8fa-22ebca883c8f"
      },
      "execution_count": 4,
      "outputs": [
        {
          "output_type": "stream",
          "name": "stdout",
          "text": [
            "Epoch 1/50\n"
          ]
        },
        {
          "output_type": "stream",
          "name": "stderr",
          "text": [
            "/usr/local/lib/python3.7/dist-packages/ipykernel_launcher.py:9: DeprecationWarning: KerasRegressor is deprecated, use Sci-Keras (https://github.com/adriangb/scikeras) instead. See https://www.adriangb.com/scikeras/stable/migration.html for help migrating.\n",
            "  if __name__ == '__main__':\n"
          ]
        },
        {
          "output_type": "stream",
          "name": "stdout",
          "text": [
            "57/57 [==============================] - 1s 3ms/step - loss: 2153691904.0000\n",
            "Epoch 2/50\n",
            "57/57 [==============================] - 0s 3ms/step - loss: 1665709184.0000\n",
            "Epoch 3/50\n",
            "57/57 [==============================] - 0s 3ms/step - loss: 1430263552.0000\n",
            "Epoch 4/50\n",
            "57/57 [==============================] - 0s 3ms/step - loss: 1261591040.0000\n",
            "Epoch 5/50\n",
            "57/57 [==============================] - 0s 3ms/step - loss: 1157133696.0000\n",
            "Epoch 6/50\n",
            "57/57 [==============================] - 0s 3ms/step - loss: 1065422208.0000\n",
            "Epoch 7/50\n",
            "57/57 [==============================] - 0s 3ms/step - loss: 993728064.0000\n",
            "Epoch 8/50\n",
            "57/57 [==============================] - 0s 3ms/step - loss: 902795136.0000\n",
            "Epoch 9/50\n",
            "57/57 [==============================] - 0s 3ms/step - loss: 805698560.0000\n",
            "Epoch 10/50\n",
            "57/57 [==============================] - 0s 2ms/step - loss: 743498048.0000\n",
            "Epoch 11/50\n",
            "57/57 [==============================] - 0s 3ms/step - loss: 697701440.0000\n",
            "Epoch 12/50\n",
            "57/57 [==============================] - 0s 3ms/step - loss: 643284416.0000\n",
            "Epoch 13/50\n",
            "57/57 [==============================] - 0s 4ms/step - loss: 632091968.0000\n",
            "Epoch 14/50\n",
            "57/57 [==============================] - 0s 6ms/step - loss: 577614528.0000\n",
            "Epoch 15/50\n",
            "57/57 [==============================] - 0s 2ms/step - loss: 568290112.0000\n",
            "Epoch 16/50\n",
            "57/57 [==============================] - 0s 3ms/step - loss: 562420544.0000\n",
            "Epoch 17/50\n",
            "57/57 [==============================] - 0s 4ms/step - loss: 532944992.0000\n",
            "Epoch 18/50\n",
            "57/57 [==============================] - 0s 3ms/step - loss: 511749248.0000\n",
            "Epoch 19/50\n",
            "57/57 [==============================] - 0s 4ms/step - loss: 479103424.0000\n",
            "Epoch 20/50\n",
            "57/57 [==============================] - 0s 5ms/step - loss: 479024704.0000\n",
            "Epoch 21/50\n",
            "57/57 [==============================] - 0s 4ms/step - loss: 475276928.0000\n",
            "Epoch 22/50\n",
            "57/57 [==============================] - 0s 4ms/step - loss: 478404800.0000\n",
            "Epoch 23/50\n",
            "57/57 [==============================] - 0s 4ms/step - loss: 464236096.0000\n",
            "Epoch 24/50\n",
            "57/57 [==============================] - 0s 2ms/step - loss: 449843456.0000\n",
            "Epoch 25/50\n",
            "57/57 [==============================] - 0s 3ms/step - loss: 430930144.0000\n",
            "Epoch 26/50\n",
            "57/57 [==============================] - 0s 3ms/step - loss: 439913536.0000\n",
            "Epoch 27/50\n",
            "57/57 [==============================] - 0s 4ms/step - loss: 440452384.0000\n",
            "Epoch 28/50\n",
            "57/57 [==============================] - 0s 3ms/step - loss: 431795872.0000\n",
            "Epoch 29/50\n",
            "57/57 [==============================] - 0s 4ms/step - loss: 421725440.0000\n",
            "Epoch 30/50\n",
            "57/57 [==============================] - 0s 4ms/step - loss: 421324544.0000\n",
            "Epoch 31/50\n",
            "57/57 [==============================] - 0s 3ms/step - loss: 418025376.0000\n",
            "Epoch 32/50\n",
            "57/57 [==============================] - 0s 3ms/step - loss: 404511552.0000\n",
            "Epoch 33/50\n",
            "57/57 [==============================] - 0s 3ms/step - loss: 397891904.0000\n",
            "Epoch 34/50\n",
            "57/57 [==============================] - 0s 5ms/step - loss: 396365600.0000\n",
            "Epoch 35/50\n",
            "57/57 [==============================] - 0s 4ms/step - loss: 406212640.0000\n",
            "Epoch 36/50\n",
            "57/57 [==============================] - 0s 4ms/step - loss: 392285440.0000\n",
            "Epoch 37/50\n",
            "57/57 [==============================] - 0s 4ms/step - loss: 384195712.0000\n",
            "Epoch 38/50\n",
            "57/57 [==============================] - 0s 5ms/step - loss: 375472768.0000\n",
            "Epoch 39/50\n",
            "57/57 [==============================] - 0s 2ms/step - loss: 369867648.0000\n",
            "Epoch 40/50\n",
            "57/57 [==============================] - 0s 4ms/step - loss: 381449408.0000\n",
            "Epoch 41/50\n",
            "57/57 [==============================] - 0s 3ms/step - loss: 373663040.0000\n",
            "Epoch 42/50\n",
            "57/57 [==============================] - 0s 3ms/step - loss: 375502784.0000\n",
            "Epoch 43/50\n",
            "57/57 [==============================] - 0s 4ms/step - loss: 344230112.0000\n",
            "Epoch 44/50\n",
            "57/57 [==============================] - 0s 4ms/step - loss: 353784384.0000\n",
            "Epoch 45/50\n",
            "57/57 [==============================] - 0s 5ms/step - loss: 357706880.0000\n",
            "Epoch 46/50\n",
            "57/57 [==============================] - 0s 3ms/step - loss: 361741248.0000\n",
            "Epoch 47/50\n",
            "57/57 [==============================] - 0s 4ms/step - loss: 363133728.0000\n",
            "Epoch 48/50\n",
            "57/57 [==============================] - 0s 3ms/step - loss: 353331424.0000\n",
            "Epoch 49/50\n",
            "57/57 [==============================] - 0s 4ms/step - loss: 361908416.0000\n",
            "Epoch 50/50\n",
            "57/57 [==============================] - 0s 4ms/step - loss: 339896992.0000\n"
          ]
        }
      ]
    },
    {
      "cell_type": "code",
      "source": [
        "plt.plot(history.history['loss'])"
      ],
      "metadata": {
        "colab": {
          "base_uri": "https://localhost:8080/",
          "height": 293
        },
        "id": "jG1I_-jh7fu0",
        "outputId": "7e6999af-1cce-43eb-a167-fc9aaca22f6a"
      },
      "execution_count": 5,
      "outputs": [
        {
          "output_type": "execute_result",
          "data": {
            "text/plain": [
              "[<matplotlib.lines.Line2D at 0x7fe866dc4b10>]"
            ]
          },
          "metadata": {},
          "execution_count": 5
        },
        {
          "output_type": "display_data",
          "data": {
            "text/plain": [
              "<Figure size 432x288 with 1 Axes>"
            ],
            "image/png": "[encoded data removed]"
          },
          "metadata": {
            "needs_background": "light"
          }
        }
      ]
    },
    {
      "cell_type": "code",
      "source": [
        "from sklearn.metrics import r2_score\n",
        "prediction = estimator.predict(X_test)\n",
        "print(\"r_square score: \", r2_score(y_test,prediction))\n",
        "yy = np.array(y_test)\n",
        "predd = np.array(prediction)\n",
        "for i in range(10):\n",
        "  print(\"real value of y_test: \" + str(yy[i]) + \" -> the predict: \" + str(predd[i]))"
      ],
      "metadata": {
        "colab": {
          "base_uri": "https://localhost:8080/"
        },
        "id": "PnQXNvh3-rVR",
        "outputId": "9160a76c-e147-445b-94ce-cb4a3b89ab66"
      },
      "execution_count": 6,
      "outputs": [
        {
          "output_type": "stream",
          "name": "stdout",
          "text": [
            "12/12 [==============================] - 0s 3ms/step\n",
            "r_square score:  0.8027026283253909\n",
            "real value of y_test: 37.212833 -> the predict: 0.24188149\n",
            "real value of y_test: 99999.0 -> the predict: 60773.246\n",
            "real value of y_test: 43.693394 -> the predict: 121.02801\n",
            "real value of y_test: 0.872306 -> the predict: 32.89515\n",
            "real value of y_test: 25.81094 -> the predict: 0.31117293\n",
            "real value of y_test: 751.227905 -> the predict: 2866.3464\n",
            "real value of y_test: 7.624534 -> the predict: 0.097894385\n",
            "real value of y_test: 99999.0 -> the predict: 88501.95\n",
            "real value of y_test: 18.150028 -> the predict: 107.545364\n",
            "real value of y_test: 30.730158 -> the predict: 0.9701753\n"
          ]
        }
      ]
    }
  ]
}