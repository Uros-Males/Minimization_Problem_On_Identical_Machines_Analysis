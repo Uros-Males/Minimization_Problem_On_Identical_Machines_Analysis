{
  "nbformat": 4,
  "nbformat_minor": 0,
  "metadata": {
    "colab": {
      "name": "Untitled16.ipynb",
      "provenance": [],
      "authorship_tag": "ABX9TyPCBE2J0Bl+tpWsHegfaKaf",
      "include_colab_link": true
    },
    "kernelspec": {
      "name": "python3",
      "display_name": "Python 3"
    },
    "language_info": {
      "name": "python"
    }
  },
  "cells": [
    {
      "cell_type": "markdown",
      "metadata": {
        "id": "view-in-github",
        "colab_type": "text"
      },
      "source": [
        "<a href=\"https://colab.research.google.com/github/Uros-Males/Minimization_Problem_On_Identical_Machines_Analysis/blob/main/Untitled16.ipynb\" target=\"_parent\"><img src=\"https://colab.research.google.com/assets/colab-badge.svg\" alt=\"Open In Colab\"/></a>"
      ]
    },
    {
      "cell_type": "code",
      "execution_count": 1,
      "metadata": {
        "id": "YiQcuNkDxHUf",
        "colab": {
          "base_uri": "https://localhost:8080/"
        },
        "outputId": "1ebd01fb-fa4a-4df1-8104-813a70bf2672"
      },
      "outputs": [
        {
          "output_type": "stream",
          "name": "stdout",
          "text": [
            "8750\n"
          ]
        }
      ],
      "source": [
        "#IN PROGRESS....\n",
        "import pandas as pd\n",
        "import numpy as np\n",
        "import matplotlib.pyplot as plt\n",
        "from sklearn import tree\n",
        "from sklearn.model_selection import train_test_split\n",
        "from sklearn.tree import DecisionTreeRegressor\n",
        "import time\n",
        "\n",
        "df = pd.read_csv('/content/sample_data/C-instances-runtime-analysis.csv')\n",
        "print(df.shape[0])\n",
        "\n",
        "shuffled = df.sample(frac=1).reset_index()\n",
        "\n",
        "columns_dont_want = ['y', 'index', 'inst.name', 'CPLEXStatus','type']\n",
        "select = [x for x in shuffled.columns if x not in columns_dont_want]\n",
        "\n",
        "X = shuffled.loc[:, select]\n",
        "\n",
        "y = shuffled.loc[:,'y']"
      ]
    },
    {
      "cell_type": "code",
      "source": [
        "X_modified = X.drop(['max', 'n/m', '(n/m)^2', '(n/m)^3', 'm/n', '(m/n)^2', '(m/n)^3', 'class', 'av.length'], axis = 1)"
      ],
      "metadata": {
        "id": "Jzlk_oaRyQjm"
      },
      "execution_count": 2,
      "outputs": []
    },
    {
      "cell_type": "code",
      "source": [
        "from keras.models import Sequential\n",
        "from keras.layers import Dense ,Dropout,BatchNormalization\n",
        "from keras.layers import Dense\n",
        "from keras.wrappers.scikit_learn import KerasRegressor\n",
        "from sklearn.model_selection import cross_val_score\n",
        "\n",
        "from keras.layers import Activation\n",
        "from keras import backend as K\n",
        "from keras.utils.generic_utils import get_custom_objects\n",
        "\n",
        "\n",
        "def custom_activation(x):\n",
        "    return 99999*1/(1+K.exp(-x))\n",
        "\n",
        "get_custom_objects().update({'custom_activation': Activation(custom_activation)})\n",
        "\n",
        "def make_model():\n",
        "    model = Sequential()\n",
        "    \n",
        "    model.add(Dense(16, input_dim=X_modified.shape[1], activation='relu'))\n",
        "    model.add(Dropout(0.5))\n",
        "    \n",
        "    \n",
        "    model.add(Dense(8, activation='relu'))\n",
        "    model.add(Dropout(0.25))\n",
        "    \n",
        "\n",
        "    \n",
        "    model.add(Dense(1, activation = custom_activation))\n",
        "    #model.add(Activation(custom_activation, name='SpecialActivation'))\n",
        "    model.compile(loss='mean_squared_error', optimizer='adam')\n",
        "    return model"
      ],
      "metadata": {
        "id": "7_m2qFDRya94"
      },
      "execution_count": 3,
      "outputs": []
    },
    {
      "cell_type": "code",
      "source": [
        "from sklearn.preprocessing import MinMaxScaler\n",
        "scaler =  MinMaxScaler()\n",
        "\n",
        "X_train, X_test, y_train, y_test = train_test_split(X_modified, y, random_state=0, train_size = 0.83)\n",
        "\n",
        "X_train = scaler.fit_transform(X_train)\n",
        "X_test = scaler.fit_transform(X_test)\n",
        "\n",
        "estimator = KerasRegressor(build_fn=make_model, epochs=30, batch_size=128, verbose=1)\n",
        "\n",
        "history=estimator.fit(X_train,y_train)"
      ],
      "metadata": {
        "colab": {
          "base_uri": "https://localhost:8080/"
        },
        "id": "2JHin8gI5ftQ",
        "outputId": "237398e5-01fc-4ccd-9290-0c267319bf76"
      },
      "execution_count": 4,
      "outputs": [
        {
          "output_type": "stream",
          "name": "stdout",
          "text": [
            "Epoch 1/30\n"
          ]
        },
        {
          "output_type": "stream",
          "name": "stderr",
          "text": [
            "/usr/local/lib/python3.7/dist-packages/ipykernel_launcher.py:9: DeprecationWarning: KerasRegressor is deprecated, use Sci-Keras (https://github.com/adriangb/scikeras) instead. See https://www.adriangb.com/scikeras/stable/migration.html for help migrating.\n",
            "  if __name__ == '__main__':\n"
          ]
        },
        {
          "output_type": "stream",
          "name": "stdout",
          "text": [
            "57/57 [==============================] - 1s 3ms/step - loss: 2283422464.0000\n",
            "Epoch 2/30\n",
            "57/57 [==============================] - 0s 3ms/step - loss: 1717771904.0000\n",
            "Epoch 3/30\n",
            "57/57 [==============================] - 0s 3ms/step - loss: 1443955840.0000\n",
            "Epoch 4/30\n",
            "57/57 [==============================] - 0s 3ms/step - loss: 1264055808.0000\n",
            "Epoch 5/30\n",
            "57/57 [==============================] - 0s 5ms/step - loss: 1169192576.0000\n",
            "Epoch 6/30\n",
            "57/57 [==============================] - 0s 3ms/step - loss: 1100421248.0000\n",
            "Epoch 7/30\n",
            "57/57 [==============================] - 0s 3ms/step - loss: 1053199296.0000\n",
            "Epoch 8/30\n",
            "57/57 [==============================] - 0s 4ms/step - loss: 969226048.0000\n",
            "Epoch 9/30\n",
            "57/57 [==============================] - 0s 3ms/step - loss: 905387968.0000\n",
            "Epoch 10/30\n",
            "57/57 [==============================] - 0s 4ms/step - loss: 861609792.0000\n",
            "Epoch 11/30\n",
            "57/57 [==============================] - 0s 3ms/step - loss: 803603968.0000\n",
            "Epoch 12/30\n",
            "57/57 [==============================] - 0s 5ms/step - loss: 786671680.0000\n",
            "Epoch 13/30\n",
            "57/57 [==============================] - 0s 3ms/step - loss: 715154112.0000\n",
            "Epoch 14/30\n",
            "57/57 [==============================] - 0s 3ms/step - loss: 688443840.0000\n",
            "Epoch 15/30\n",
            "57/57 [==============================] - 0s 4ms/step - loss: 672589248.0000\n",
            "Epoch 16/30\n",
            "57/57 [==============================] - 0s 3ms/step - loss: 621897344.0000\n",
            "Epoch 17/30\n",
            "57/57 [==============================] - 0s 4ms/step - loss: 603355456.0000\n",
            "Epoch 18/30\n",
            "57/57 [==============================] - 0s 3ms/step - loss: 572977856.0000\n",
            "Epoch 19/30\n",
            "57/57 [==============================] - 0s 4ms/step - loss: 557405760.0000\n",
            "Epoch 20/30\n",
            "57/57 [==============================] - 0s 3ms/step - loss: 525370176.0000\n",
            "Epoch 21/30\n",
            "57/57 [==============================] - 0s 4ms/step - loss: 534186784.0000\n",
            "Epoch 22/30\n",
            "57/57 [==============================] - 0s 5ms/step - loss: 505570464.0000\n",
            "Epoch 23/30\n",
            "57/57 [==============================] - 0s 4ms/step - loss: 484527680.0000\n",
            "Epoch 24/30\n",
            "57/57 [==============================] - 0s 4ms/step - loss: 460087904.0000\n",
            "Epoch 25/30\n",
            "57/57 [==============================] - 0s 4ms/step - loss: 465665440.0000\n",
            "Epoch 26/30\n",
            "57/57 [==============================] - 0s 3ms/step - loss: 455363136.0000\n",
            "Epoch 27/30\n",
            "57/57 [==============================] - 0s 3ms/step - loss: 444653536.0000\n",
            "Epoch 28/30\n",
            "57/57 [==============================] - 0s 4ms/step - loss: 436270784.0000\n",
            "Epoch 29/30\n",
            "57/57 [==============================] - 0s 4ms/step - loss: 431893632.0000\n",
            "Epoch 30/30\n",
            "57/57 [==============================] - 0s 3ms/step - loss: 425804160.0000\n"
          ]
        }
      ]
    },
    {
      "cell_type": "code",
      "source": [
        "plt.plot(history.history['loss'])"
      ],
      "metadata": {
        "colab": {
          "base_uri": "https://localhost:8080/",
          "height": 293
        },
        "id": "jG1I_-jh7fu0",
        "outputId": "b78880aa-1a65-4c8b-9ab3-f341bcd7493c"
      },
      "execution_count": 5,
      "outputs": [
        {
          "output_type": "execute_result",
          "data": {
            "text/plain": [
              "[<matplotlib.lines.Line2D at 0x7f3689545250>]"
            ]
          },
          "metadata": {},
          "execution_count": 5
        },
        {
          "output_type": "display_data",
          "data": {
            "text/plain": [
              "<Figure size 432x288 with 1 Axes>"
            ],
            "image/png": "[encoded data removed]"
          },
          "metadata": {
            "needs_background": "light"
          }
        }
      ]
    },
    {
      "cell_type": "code",
      "source": [
        "from sklearn.metrics import r2_score\n",
        "prediction = estimator.predict(X_test)\n",
        "print(\"r_square score: \", r2_score(y_test,prediction))\n",
        "yy = np.array(y_test)\n",
        "predd = np.array(prediction)\n",
        "for i in range(10):\n",
        "  print(\"real value of y_test: \" + str(yy[i]) + \" -> the predict: \" + str(predd[i]))"
      ],
      "metadata": {
        "colab": {
          "base_uri": "https://localhost:8080/"
        },
        "id": "PnQXNvh3-rVR",
        "outputId": "fb734cb7-9302-44af-ed99-33b1fb75a6c3"
      },
      "execution_count": 6,
      "outputs": [
        {
          "output_type": "stream",
          "name": "stdout",
          "text": [
            "12/12 [==============================] - 0s 3ms/step\n",
            "r_square score:  0.7894711437171011\n",
            "real value of y_test: 99999.0 -> the predict: 29316.154\n",
            "real value of y_test: 55.153816 -> the predict: 1.1872048\n",
            "real value of y_test: 716.018372 -> the predict: 20382.932\n",
            "real value of y_test: 0.067171 -> the predict: 0.4438164\n",
            "real value of y_test: 3594.77124 -> the predict: 9361.798\n",
            "real value of y_test: 6.601462 -> the predict: 74.67132\n",
            "real value of y_test: 3099.837402 -> the predict: 45235.31\n",
            "real value of y_test: 139.475662 -> the predict: 1084.8187\n",
            "real value of y_test: 117.907623 -> the predict: 1083.6578\n",
            "real value of y_test: 19.566393 -> the predict: 976.29663\n"
          ]
        }
      ]
    }
  ]
}