{
  "nbformat": 4,
  "nbformat_minor": 0,
  "metadata": {
    "colab": {
      "name": "Untitled16.ipynb",
      "provenance": [],
      "authorship_tag": "ABX9TyO8cb21ShfV9VNooVAzw77z",
      "include_colab_link": true
    },
    "kernelspec": {
      "name": "python3",
      "display_name": "Python 3"
    },
    "language_info": {
      "name": "python"
    }
  },
  "cells": [
    {
      "cell_type": "markdown",
      "metadata": {
        "id": "view-in-github",
        "colab_type": "text"
      },
      "source": [
        "<a href=\"https://colab.research.google.com/github/Uros-Males/Minimization_Problem_On_Identical_Machines_Analysis/blob/main/Untitled16.ipynb\" target=\"_parent\"><img src=\"https://colab.research.google.com/assets/colab-badge.svg\" alt=\"Open In Colab\"/></a>"
      ]
    },
    {
      "cell_type": "code",
      "execution_count": 1,
      "metadata": {
        "id": "YiQcuNkDxHUf"
      },
      "outputs": [],
      "source": [
        "#IN PROGRESS....\n",
        "import pandas as pd\n",
        "import numpy as np\n",
        "import matplotlib.pyplot as plt\n",
        "from sklearn import tree\n",
        "from sklearn.model_selection import train_test_split\n",
        "from sklearn.tree import DecisionTreeRegressor\n",
        "import time\n",
        "\n",
        "df = pd.read_csv('/content/sample_data/C-instances-runtime-analysis.csv')\n",
        "\n",
        "shuffled = df.sample(frac=1).reset_index()\n",
        "\n",
        "columns_dont_want = ['y', 'index', 'inst.name', 'CPLEXStatus','type']\n",
        "select = [x for x in shuffled.columns if x not in columns_dont_want]\n",
        "\n",
        "X = shuffled.loc[:, select]\n",
        "\n",
        "y = shuffled.loc[:,'y']"
      ]
    },
    {
      "cell_type": "code",
      "source": [
        "X_modified = X.drop(['max', 'n/m', '(n/m)^2', '(n/m)^3', 'm/n', '(m/n)^2', '(m/n)^3', 'class', 'av.length'], axis = 1)"
      ],
      "metadata": {
        "id": "Jzlk_oaRyQjm"
      },
      "execution_count": 2,
      "outputs": []
    },
    {
      "cell_type": "code",
      "source": [
        "from keras.models import Sequential\n",
        "from keras.layers import Dense ,Dropout,BatchNormalization\n",
        "from keras.layers import Dense\n",
        "from keras.wrappers.scikit_learn import KerasRegressor\n",
        "from sklearn.model_selection import cross_val_score\n",
        "\n",
        "def make_model():\n",
        "    model = Sequential()\n",
        "    \n",
        "    model.add(Dense(16, input_dim=X_modified.shape[1], activation='relu'))\n",
        "    \n",
        "    \n",
        "    model.add(Dense(8, activation='relu'))\n",
        "    \n",
        "    \n",
        "    model.add(Dense(1))\n",
        "    model.compile(loss='mean_squared_error', optimizer='adam')\n",
        "    return model"
      ],
      "metadata": {
        "id": "7_m2qFDRya94"
      },
      "execution_count": 3,
      "outputs": []
    },
    {
      "cell_type": "code",
      "source": [
        "from sklearn.preprocessing import MinMaxScaler\n",
        "scaler =  MinMaxScaler()\n",
        "\n",
        "X_train, X_test, y_train, y_test = train_test_split(X_modified, y, random_state=0, train_size = 0.83)\n",
        "\n",
        "X_train = scaler.fit_transform(X_train)\n",
        "X_test = scaler.fit_transform(X_test)\n",
        "\n",
        "estimator = KerasRegressor(build_fn=make_model, epochs=30, batch_size=3, verbose=1)\n",
        "\n",
        "history=estimator.fit(X_train,y_train)"
      ],
      "metadata": {
        "colab": {
          "base_uri": "https://localhost:8080/"
        },
        "id": "2JHin8gI5ftQ",
        "outputId": "d03d7d9b-9211-4b67-8ba4-a924943540ae"
      },
      "execution_count": 4,
      "outputs": [
        {
          "output_type": "stream",
          "name": "stdout",
          "text": [
            "Epoch 1/30\n"
          ]
        },
        {
          "output_type": "stream",
          "name": "stderr",
          "text": [
            "/usr/local/lib/python3.7/dist-packages/ipykernel_launcher.py:9: DeprecationWarning: KerasRegressor is deprecated, use Sci-Keras (https://github.com/adriangb/scikeras) instead. See https://www.adriangb.com/scikeras/stable/migration.html for help migrating.\n",
            "  if __name__ == '__main__':\n"
          ]
        },
        {
          "output_type": "stream",
          "name": "stdout",
          "text": [
            "2421/2421 [==============================] - 6s 2ms/step - loss: 1588001920.0000\n",
            "Epoch 2/30\n",
            "2421/2421 [==============================] - 7s 3ms/step - loss: 1311617792.0000\n",
            "Epoch 3/30\n",
            "2421/2421 [==============================] - 6s 3ms/step - loss: 1121750016.0000\n",
            "Epoch 4/30\n",
            "2421/2421 [==============================] - 7s 3ms/step - loss: 1047651392.0000\n",
            "Epoch 5/30\n",
            "2421/2421 [==============================] - 3s 1ms/step - loss: 990581184.0000\n",
            "Epoch 6/30\n",
            "2421/2421 [==============================] - 3s 1ms/step - loss: 934334528.0000\n",
            "Epoch 7/30\n",
            "2421/2421 [==============================] - 3s 1ms/step - loss: 878159936.0000\n",
            "Epoch 8/30\n",
            "2421/2421 [==============================] - 3s 1ms/step - loss: 825503872.0000\n",
            "Epoch 9/30\n",
            "2421/2421 [==============================] - 3s 1ms/step - loss: 782033536.0000\n",
            "Epoch 10/30\n",
            "2421/2421 [==============================] - 3s 1ms/step - loss: 747175744.0000\n",
            "Epoch 11/30\n",
            "2421/2421 [==============================] - 3s 1ms/step - loss: 719272768.0000\n",
            "Epoch 12/30\n",
            "2421/2421 [==============================] - 3s 1ms/step - loss: 694819008.0000\n",
            "Epoch 13/30\n",
            "2421/2421 [==============================] - 4s 1ms/step - loss: 671702336.0000\n",
            "Epoch 14/30\n",
            "2421/2421 [==============================] - 3s 1ms/step - loss: 650510208.0000\n",
            "Epoch 15/30\n",
            "2421/2421 [==============================] - 3s 1ms/step - loss: 631111296.0000\n",
            "Epoch 16/30\n",
            "2421/2421 [==============================] - 3s 1ms/step - loss: 612477696.0000\n",
            "Epoch 17/30\n",
            "2421/2421 [==============================] - 3s 1ms/step - loss: 595725952.0000\n",
            "Epoch 18/30\n",
            "2421/2421 [==============================] - 3s 1ms/step - loss: 579840064.0000\n",
            "Epoch 19/30\n",
            "2421/2421 [==============================] - 4s 1ms/step - loss: 566174592.0000\n",
            "Epoch 20/30\n",
            "2421/2421 [==============================] - 3s 1ms/step - loss: 553382208.0000\n",
            "Epoch 21/30\n",
            "2421/2421 [==============================] - 3s 1ms/step - loss: 541802752.0000\n",
            "Epoch 22/30\n",
            "2421/2421 [==============================] - 3s 1ms/step - loss: 531563520.0000\n",
            "Epoch 23/30\n",
            "2421/2421 [==============================] - 3s 1ms/step - loss: 522841952.0000\n",
            "Epoch 24/30\n",
            "2421/2421 [==============================] - 3s 1ms/step - loss: 514692224.0000\n",
            "Epoch 25/30\n",
            "2421/2421 [==============================] - 3s 1ms/step - loss: 507278496.0000\n",
            "Epoch 26/30\n",
            "2421/2421 [==============================] - 4s 1ms/step - loss: 501794368.0000\n",
            "Epoch 27/30\n",
            "2421/2421 [==============================] - 4s 1ms/step - loss: 496185696.0000\n",
            "Epoch 28/30\n",
            "2421/2421 [==============================] - 3s 1ms/step - loss: 490955904.0000\n",
            "Epoch 29/30\n",
            "2421/2421 [==============================] - 3s 1ms/step - loss: 486839008.0000\n",
            "Epoch 30/30\n",
            "2421/2421 [==============================] - 4s 2ms/step - loss: 483188544.0000\n"
          ]
        }
      ]
    },
    {
      "cell_type": "code",
      "source": [
        "plt.plot(history.history['loss'])"
      ],
      "metadata": {
        "colab": {
          "base_uri": "https://localhost:8080/",
          "height": 293
        },
        "id": "jG1I_-jh7fu0",
        "outputId": "b5e5cf2c-6d7c-4d81-dfe3-4948ef20bee1"
      },
      "execution_count": 5,
      "outputs": [
        {
          "output_type": "execute_result",
          "data": {
            "text/plain": [
              "[<matplotlib.lines.Line2D at 0x7f4cac97a090>]"
            ]
          },
          "metadata": {},
          "execution_count": 5
        },
        {
          "output_type": "display_data",
          "data": {
            "text/plain": [
              "<Figure size 432x288 with 1 Axes>"
            ],
            "image/png": "[encoded data removed]"
          },
          "metadata": {
            "needs_background": "light"
          }
        }
      ]
    },
    {
      "cell_type": "code",
      "source": [
        "from sklearn.metrics import r2_score\n",
        "prediction = estimator.predict(X_test)\n",
        "print(\"r_square score: \", r2_score(y_test,prediction))\n",
        "yy = np.array(y_test)\n",
        "predd = np.array(prediction)\n",
        "print(\"real value of y_test[1]: \" + str(yy[1]) + \" -> the predict: \" + str(predd[1]))\n",
        "print(\"real value of y_test[2]: \" + str(yy[2]) + \" -> the predict: \" + str(predd[2]))\n",
        "y_test.head(5)"
      ],
      "metadata": {
        "colab": {
          "base_uri": "https://localhost:8080/"
        },
        "id": "PnQXNvh3-rVR",
        "outputId": "2fce7bda-23fa-476f-df62-180a45ca194e"
      },
      "execution_count": 6,
      "outputs": [
        {
          "output_type": "stream",
          "name": "stdout",
          "text": [
            "496/496 [==============================] - 1s 1ms/step\n",
            "r_square score:  0.6237567251557979\n",
            "real value of y_test[1]: 3.685819 -> the predict: -1717.5673\n",
            "real value of y_test[2]: 99999.0 -> the predict: 119991.125\n"
          ]
        },
        {
          "output_type": "execute_result",
          "data": {
            "text/plain": [
              "7057       68.601349\n",
              "1638        3.685819\n",
              "277     99999.000000\n",
              "5546       49.857651\n",
              "2570    99999.000000\n",
              "Name: y, dtype: float64"
            ]
          },
          "metadata": {},
          "execution_count": 6
        }
      ]
    }
  ]
}