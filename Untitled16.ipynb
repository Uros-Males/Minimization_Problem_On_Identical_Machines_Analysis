{
  "nbformat": 4,
  "nbformat_minor": 0,
  "metadata": {
    "colab": {
      "name": "Untitled16.ipynb",
      "provenance": [],
      "authorship_tag": "ABX9TyOop+Vd2AqkE9BBCDv+AuF/",
      "include_colab_link": true
    },
    "kernelspec": {
      "name": "python3",
      "display_name": "Python 3"
    },
    "language_info": {
      "name": "python"
    }
  },
  "cells": [
    {
      "cell_type": "markdown",
      "metadata": {
        "id": "view-in-github",
        "colab_type": "text"
      },
      "source": [
        "<a href=\"https://colab.research.google.com/github/Uros-Males/Minimization_Problem_On_Identical_Machines_Analysis/blob/main/Untitled16.ipynb\" target=\"_parent\"><img src=\"https://colab.research.google.com/assets/colab-badge.svg\" alt=\"Open In Colab\"/></a>"
      ]
    },
    {
      "cell_type": "code",
      "execution_count": 1,
      "metadata": {
        "id": "YiQcuNkDxHUf"
      },
      "outputs": [],
      "source": [
        "#IN PROGRESS....\n",
        "import pandas as pd\n",
        "import numpy as np\n",
        "import matplotlib.pyplot as plt\n",
        "from sklearn import tree\n",
        "from sklearn.model_selection import train_test_split\n",
        "from sklearn.tree import DecisionTreeRegressor\n",
        "import time\n",
        "\n",
        "df = pd.read_csv('/content/sample_data/C-instances-runtime-analysis.csv')\n",
        "\n",
        "shuffled = df.sample(frac=1).reset_index()\n",
        "\n",
        "columns_dont_want = ['y', 'index', 'inst.name', 'CPLEXStatus','type']\n",
        "select = [x for x in shuffled.columns if x not in columns_dont_want]\n",
        "\n",
        "X = shuffled.loc[:, select]\n",
        "\n",
        "y = shuffled.loc[:,'y']"
      ]
    },
    {
      "cell_type": "code",
      "source": [
        "X_modified = X.drop(['max', 'n/m', '(n/m)^2', '(n/m)^3', 'm/n', '(m/n)^2', '(m/n)^3', 'class', 'av.length'], axis = 1)"
      ],
      "metadata": {
        "id": "Jzlk_oaRyQjm"
      },
      "execution_count": 2,
      "outputs": []
    },
    {
      "cell_type": "code",
      "source": [
        "from keras.models import Sequential\n",
        "from keras.layers import Dense ,Dropout,BatchNormalization\n",
        "from keras.layers import Dense\n",
        "from keras.wrappers.scikit_learn import KerasRegressor\n",
        "from sklearn.model_selection import cross_val_score\n",
        "\n",
        "from keras.layers import Activation\n",
        "from keras import backend as K\n",
        "from keras.utils.generic_utils import get_custom_objects\n",
        "\n",
        "\n",
        "def custom_activation(x):\n",
        "    return 99999*1/(1+K.exp(-x))\n",
        "\n",
        "get_custom_objects().update({'custom_activation': Activation(custom_activation)})\n",
        "\n",
        "def make_model():\n",
        "    model = Sequential()\n",
        "    \n",
        "    model.add(Dense(16, input_dim=X_modified.shape[1], activation='relu'))\n",
        "    model.add(Dropout(0.5))\n",
        "    \n",
        "    \n",
        "    model.add(Dense(8, activation='relu'))\n",
        "    model.add(Dropout(0.5))\n",
        "    \n",
        "    \n",
        "    model.add(Dense(1, activation = custom_activation))\n",
        "    #model.add(Activation(custom_activation, name='SpecialActivation'))\n",
        "    model.compile(loss='mean_squared_error', optimizer='adam')\n",
        "    return model"
      ],
      "metadata": {
        "id": "7_m2qFDRya94"
      },
      "execution_count": 3,
      "outputs": []
    },
    {
      "cell_type": "code",
      "source": [
        "from sklearn.preprocessing import MinMaxScaler\n",
        "scaler =  MinMaxScaler()\n",
        "\n",
        "X_train, X_test, y_train, y_test = train_test_split(X_modified, y, random_state=0, train_size = 0.83)\n",
        "\n",
        "X_train = scaler.fit_transform(X_train)\n",
        "X_test = scaler.fit_transform(X_test)\n",
        "\n",
        "estimator = KerasRegressor(build_fn=make_model, epochs=30, batch_size=128, verbose=1)\n",
        "\n",
        "history=estimator.fit(X_train,y_train)"
      ],
      "metadata": {
        "colab": {
          "base_uri": "https://localhost:8080/"
        },
        "id": "2JHin8gI5ftQ",
        "outputId": "38d5ea65-b8a3-4971-e973-cf5653629217"
      },
      "execution_count": 4,
      "outputs": [
        {
          "output_type": "stream",
          "name": "stdout",
          "text": [
            "Epoch 1/30\n"
          ]
        },
        {
          "output_type": "stream",
          "name": "stderr",
          "text": [
            "/usr/local/lib/python3.7/dist-packages/ipykernel_launcher.py:9: DeprecationWarning: KerasRegressor is deprecated, use Sci-Keras (https://github.com/adriangb/scikeras) instead. See https://www.adriangb.com/scikeras/stable/migration.html for help migrating.\n",
            "  if __name__ == '__main__':\n"
          ]
        },
        {
          "output_type": "stream",
          "name": "stdout",
          "text": [
            "57/57 [==============================] - 1s 2ms/step - loss: 2386525184.0000\n",
            "Epoch 2/30\n",
            "57/57 [==============================] - 0s 2ms/step - loss: 1882705152.0000\n",
            "Epoch 3/30\n",
            "57/57 [==============================] - 0s 1ms/step - loss: 1583352192.0000\n",
            "Epoch 4/30\n",
            "57/57 [==============================] - 0s 2ms/step - loss: 1394396032.0000\n",
            "Epoch 5/30\n",
            "57/57 [==============================] - 0s 1ms/step - loss: 1247456128.0000\n",
            "Epoch 6/30\n",
            "57/57 [==============================] - 0s 2ms/step - loss: 1167452928.0000\n",
            "Epoch 7/30\n",
            "57/57 [==============================] - 0s 1ms/step - loss: 1099916288.0000\n",
            "Epoch 8/30\n",
            "57/57 [==============================] - 0s 2ms/step - loss: 1042982272.0000\n",
            "Epoch 9/30\n",
            "57/57 [==============================] - 0s 1ms/step - loss: 1009546304.0000\n",
            "Epoch 10/30\n",
            "57/57 [==============================] - 0s 2ms/step - loss: 973826176.0000\n",
            "Epoch 11/30\n",
            "57/57 [==============================] - 0s 2ms/step - loss: 932104896.0000\n",
            "Epoch 12/30\n",
            "57/57 [==============================] - 0s 2ms/step - loss: 898484736.0000\n",
            "Epoch 13/30\n",
            "57/57 [==============================] - 0s 1ms/step - loss: 868290688.0000\n",
            "Epoch 14/30\n",
            "57/57 [==============================] - 0s 2ms/step - loss: 831876928.0000\n",
            "Epoch 15/30\n",
            "57/57 [==============================] - 0s 1ms/step - loss: 811863552.0000\n",
            "Epoch 16/30\n",
            "57/57 [==============================] - 0s 2ms/step - loss: 779760064.0000\n",
            "Epoch 17/30\n",
            "57/57 [==============================] - 0s 2ms/step - loss: 757932544.0000\n",
            "Epoch 18/30\n",
            "57/57 [==============================] - 0s 3ms/step - loss: 739922176.0000\n",
            "Epoch 19/30\n",
            "57/57 [==============================] - 0s 3ms/step - loss: 693035904.0000\n",
            "Epoch 20/30\n",
            "57/57 [==============================] - 0s 2ms/step - loss: 667313152.0000\n",
            "Epoch 21/30\n",
            "57/57 [==============================] - 0s 3ms/step - loss: 667610368.0000\n",
            "Epoch 22/30\n",
            "57/57 [==============================] - 0s 2ms/step - loss: 646330944.0000\n",
            "Epoch 23/30\n",
            "57/57 [==============================] - 0s 3ms/step - loss: 630725632.0000\n",
            "Epoch 24/30\n",
            "57/57 [==============================] - 0s 3ms/step - loss: 598297216.0000\n",
            "Epoch 25/30\n",
            "57/57 [==============================] - 0s 3ms/step - loss: 587690688.0000\n",
            "Epoch 26/30\n",
            "57/57 [==============================] - 0s 3ms/step - loss: 591121792.0000\n",
            "Epoch 27/30\n",
            "57/57 [==============================] - 0s 3ms/step - loss: 575809600.0000\n",
            "Epoch 28/30\n",
            "57/57 [==============================] - 0s 3ms/step - loss: 562542528.0000\n",
            "Epoch 29/30\n",
            "57/57 [==============================] - 0s 3ms/step - loss: 563392576.0000\n",
            "Epoch 30/30\n",
            "57/57 [==============================] - 0s 4ms/step - loss: 552587840.0000\n"
          ]
        }
      ]
    },
    {
      "cell_type": "code",
      "source": [
        "plt.plot(history.history['loss'])"
      ],
      "metadata": {
        "colab": {
          "base_uri": "https://localhost:8080/",
          "height": 293
        },
        "id": "jG1I_-jh7fu0",
        "outputId": "f88a5c21-2e11-4dc1-b72d-58b3d4f75725"
      },
      "execution_count": 5,
      "outputs": [
        {
          "output_type": "execute_result",
          "data": {
            "text/plain": [
              "[<matplotlib.lines.Line2D at 0x7f638366e410>]"
            ]
          },
          "metadata": {},
          "execution_count": 5
        },
        {
          "output_type": "display_data",
          "data": {
            "text/plain": [
              "<Figure size 432x288 with 1 Axes>"
            ],
            "image/png": "[encoded data removed]"
          },
          "metadata": {
            "needs_background": "light"
          }
        }
      ]
    },
    {
      "cell_type": "code",
      "source": [
        "from sklearn.metrics import r2_score\n",
        "prediction = estimator.predict(X_test)\n",
        "print(\"r_square score: \", r2_score(y_test,prediction))\n",
        "yy = np.array(y_test)\n",
        "predd = np.array(prediction)\n",
        "print(\"real value of y_test[1]: \" + str(yy[1]) + \" -> the predict: \" + str(predd[1]))\n",
        "print(\"real value of y_test[2]: \" + str(yy[2]) + \" -> the predict: \" + str(predd[2]))\n",
        "y_test.head(5)"
      ],
      "metadata": {
        "colab": {
          "base_uri": "https://localhost:8080/"
        },
        "id": "PnQXNvh3-rVR",
        "outputId": "5dc24777-4428-409b-9e4a-43d821dfac66"
      },
      "execution_count": 6,
      "outputs": [
        {
          "output_type": "stream",
          "name": "stdout",
          "text": [
            "12/12 [==============================] - 0s 2ms/step\n",
            "r_square score:  0.7501888330127559\n",
            "real value of y_test[1]: 483.638977 -> the predict: 5442.782\n",
            "real value of y_test[2]: 3.063215 -> the predict: 8.301228\n"
          ]
        },
        {
          "output_type": "execute_result",
          "data": {
            "text/plain": [
              "7057       65.033394\n",
              "1638      483.638977\n",
              "277         3.063215\n",
              "5546    99999.000000\n",
              "2570      122.023743\n",
              "Name: y, dtype: float64"
            ]
          },
          "metadata": {},
          "execution_count": 6
        }
      ]
    }
  ]
}