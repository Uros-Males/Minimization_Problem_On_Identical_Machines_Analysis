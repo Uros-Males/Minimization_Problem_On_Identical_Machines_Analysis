{
  "nbformat": 4,
  "nbformat_minor": 0,
  "metadata": {
    "colab": {
      "name": "Untitled17.ipynb",
      "provenance": [],
      "authorship_tag": "ABX9TyP7c0+6HXuuwCcKL6SkI/Ly",
      "include_colab_link": true
    },
    "kernelspec": {
      "name": "python3",
      "display_name": "Python 3"
    },
    "language_info": {
      "name": "python"
    }
  },
  "cells": [
    {
      "cell_type": "markdown",
      "metadata": {
        "id": "view-in-github",
        "colab_type": "text"
      },
      "source": [
        "<a href=\"https://colab.research.google.com/github/Uros-Males/Minimization_Problem_On_Identical_Machines_Analysis/blob/main/Untitled17.ipynb\" target=\"_parent\"><img src=\"https://colab.research.google.com/assets/colab-badge.svg\" alt=\"Open In Colab\"/></a>"
      ]
    },
    {
      "cell_type": "code",
      "execution_count": 1,
      "metadata": {
        "colab": {
          "base_uri": "https://localhost:8080/"
        },
        "id": "6u-X4QiVmgm4",
        "outputId": "ed815d90-e0a1-4dcb-a5d2-56c1c1da4f57"
      },
      "outputs": [
        {
          "output_type": "stream",
          "name": "stdout",
          "text": [
            "8750\n"
          ]
        }
      ],
      "source": [
        "#IN PROGRESS....\n",
        "import pandas as pd\n",
        "import numpy as np\n",
        "import matplotlib.pyplot as plt\n",
        "from sklearn import tree\n",
        "from sklearn.model_selection import train_test_split\n",
        "from sklearn.tree import DecisionTreeRegressor\n",
        "import time\n",
        "\n",
        "df = pd.read_csv('/content/sample_data/C-instances-runtime-analysis.csv')\n",
        "print(df.shape[0])\n",
        "\n",
        "shuffled = df.sample(frac=1).reset_index()\n",
        "\n",
        "columns_dont_want = ['y', 'index', 'inst.name', 'CPLEXStatus','type']\n",
        "select = [x for x in shuffled.columns if x not in columns_dont_want]\n",
        "\n",
        "X = shuffled.loc[:, select]\n",
        "\n",
        "y = shuffled.loc[:,'y']"
      ]
    },
    {
      "cell_type": "code",
      "source": [
        "y_new = []\n",
        "for val in y:\n",
        "  if(val<10):\n",
        "    y_new.append(0)\n",
        "  elif(10 <= val and val <100):\n",
        "    y_new.append(1)\n",
        "  elif(100<= val and val<1000):\n",
        "    y_new.append(2)\n",
        "  else:\n",
        "    y_new.append(3)\n",
        "\n",
        "shuffled['y_new'] = y_new\n",
        "#print(shuffled.head())\n",
        "y_encoded = shuffled.loc[:,'y_new']\n",
        "X_modified = X.drop(['max', 'n/m', '(n/m)^2', '(n/m)^3', 'm/n', '(m/n)^2', '(m/n)^3', 'class', 'av.length'], axis = 1)"
      ],
      "metadata": {
        "id": "XkPXcbO0riCC"
      },
      "execution_count": 2,
      "outputs": []
    },
    {
      "cell_type": "code",
      "source": [
        "from sklearn.preprocessing import LabelEncoder\n",
        "from keras.utils.np_utils import to_categorical\n",
        "\n",
        "l_encode = LabelEncoder()\n",
        "l_encode.fit(y_encoded)\n",
        "y_encoded = l_encode.transform(y_encoded)\n",
        "y_encoded = to_categorical(y_encoded)\n",
        "y_encoded"
      ],
      "metadata": {
        "colab": {
          "base_uri": "https://localhost:8080/"
        },
        "id": "W2hvUxxE2NWr",
        "outputId": "fc143a76-d799-411b-c83d-5c2568667a53"
      },
      "execution_count": 3,
      "outputs": [
        {
          "output_type": "execute_result",
          "data": {
            "text/plain": [
              "array([[0., 0., 0., 1.],\n",
              "       [0., 0., 0., 1.],\n",
              "       [1., 0., 0., 0.],\n",
              "       ...,\n",
              "       [0., 0., 0., 1.],\n",
              "       [0., 1., 0., 0.],\n",
              "       [0., 0., 0., 1.]], dtype=float32)"
            ]
          },
          "metadata": {},
          "execution_count": 3
        }
      ]
    },
    {
      "cell_type": "code",
      "source": [
        "from keras.models import Sequential\n",
        "from keras.layers import Dense, Dropout\n",
        "\n",
        "classifier = Sequential()\n",
        "classifier.add(Dense(16, input_dim = X_modified.shape[1], activation='relu'))\n",
        "classifier.add(Dense(8, activation = 'relu'))\n",
        "\n",
        "classifier.add(Dense(32, activation = 'relu'))\n",
        "classifier.add(Dropout(0.25))\n",
        "\n",
        "classifier.add(Dense(16, activation = 'sigmoid'))\n",
        "\n",
        "classifier.add(Dense(4, activation = 'softmax'))\n",
        "classifier.compile(loss = 'categorical_crossentropy', optimizer = 'adam', metrics = ['accuracy'])\n",
        "#classifier.summary()"
      ],
      "metadata": {
        "id": "jRT-grzys8_y"
      },
      "execution_count": 4,
      "outputs": []
    },
    {
      "cell_type": "code",
      "source": [
        "from sklearn.preprocessing import MinMaxScaler\n",
        "scaler =  MinMaxScaler()\n",
        "\n",
        "X_train, X_test, y_train, y_test = train_test_split(X_modified, y_encoded, random_state=0, train_size = 0.83)\n",
        "\n",
        "X_train = scaler.fit_transform(X_train)\n",
        "X_test = scaler.fit_transform(X_test)"
      ],
      "metadata": {
        "id": "gWTX6M2mxxPD"
      },
      "execution_count": 5,
      "outputs": []
    },
    {
      "cell_type": "code",
      "source": [
        "classifier.fit(X_train, y_train, batch_size = 32, epochs = 100, verbose = 1)\n",
        "scores = classifier.evaluate(X_test, y_test)\n",
        "for i, m in enumerate(classifier.metrics_names):\n",
        "    print(\"\\n%s: %.3f\"% (m, scores[i]))\n"
      ],
      "metadata": {
        "colab": {
          "base_uri": "https://localhost:8080/"
        },
        "id": "Mm7RsTBcx2EN",
        "outputId": "291f5502-3b39-4848-8d7f-aa5399727497"
      },
      "execution_count": 6,
      "outputs": [
        {
          "output_type": "stream",
          "name": "stdout",
          "text": [
            "Epoch 1/100\n",
            "227/227 [==============================] - 1s 3ms/step - loss: 1.2182 - accuracy: 0.4554\n",
            "Epoch 2/100\n",
            "227/227 [==============================] - 1s 3ms/step - loss: 0.7945 - accuracy: 0.7059\n",
            "Epoch 3/100\n",
            "227/227 [==============================] - 1s 3ms/step - loss: 0.6572 - accuracy: 0.7550\n",
            "Epoch 4/100\n",
            "227/227 [==============================] - 1s 3ms/step - loss: 0.6048 - accuracy: 0.7596\n",
            "Epoch 5/100\n",
            "227/227 [==============================] - 1s 3ms/step - loss: 0.5728 - accuracy: 0.7700\n",
            "Epoch 6/100\n",
            "227/227 [==============================] - 1s 4ms/step - loss: 0.5529 - accuracy: 0.7714\n",
            "Epoch 7/100\n",
            "227/227 [==============================] - 1s 3ms/step - loss: 0.5421 - accuracy: 0.7798\n",
            "Epoch 8/100\n",
            "227/227 [==============================] - 1s 4ms/step - loss: 0.5243 - accuracy: 0.7874\n",
            "Epoch 9/100\n",
            "227/227 [==============================] - 1s 4ms/step - loss: 0.5203 - accuracy: 0.7842\n",
            "Epoch 10/100\n",
            "227/227 [==============================] - 1s 3ms/step - loss: 0.5116 - accuracy: 0.7884\n",
            "Epoch 11/100\n",
            "227/227 [==============================] - 1s 3ms/step - loss: 0.5021 - accuracy: 0.7914\n",
            "Epoch 12/100\n",
            "227/227 [==============================] - 1s 3ms/step - loss: 0.4971 - accuracy: 0.7952\n",
            "Epoch 13/100\n",
            "227/227 [==============================] - 1s 4ms/step - loss: 0.4971 - accuracy: 0.7970\n",
            "Epoch 14/100\n",
            "227/227 [==============================] - 1s 3ms/step - loss: 0.4861 - accuracy: 0.8027\n",
            "Epoch 15/100\n",
            "227/227 [==============================] - 1s 3ms/step - loss: 0.4830 - accuracy: 0.8012\n",
            "Epoch 16/100\n",
            "227/227 [==============================] - 1s 2ms/step - loss: 0.4831 - accuracy: 0.8025\n",
            "Epoch 17/100\n",
            "227/227 [==============================] - 1s 4ms/step - loss: 0.4834 - accuracy: 0.8031\n",
            "Epoch 18/100\n",
            "227/227 [==============================] - 1s 3ms/step - loss: 0.4783 - accuracy: 0.8028\n",
            "Epoch 19/100\n",
            "227/227 [==============================] - 1s 4ms/step - loss: 0.4782 - accuracy: 0.8023\n",
            "Epoch 20/100\n",
            "227/227 [==============================] - 1s 5ms/step - loss: 0.4732 - accuracy: 0.8025\n",
            "Epoch 21/100\n",
            "227/227 [==============================] - 0s 2ms/step - loss: 0.4675 - accuracy: 0.8089\n",
            "Epoch 22/100\n",
            "227/227 [==============================] - 0s 2ms/step - loss: 0.4638 - accuracy: 0.8096\n",
            "Epoch 23/100\n",
            "227/227 [==============================] - 0s 2ms/step - loss: 0.4647 - accuracy: 0.8112\n",
            "Epoch 24/100\n",
            "227/227 [==============================] - 0s 2ms/step - loss: 0.4603 - accuracy: 0.8080\n",
            "Epoch 25/100\n",
            "227/227 [==============================] - 0s 2ms/step - loss: 0.4610 - accuracy: 0.8112\n",
            "Epoch 26/100\n",
            "227/227 [==============================] - 0s 2ms/step - loss: 0.4576 - accuracy: 0.8101\n",
            "Epoch 27/100\n",
            "227/227 [==============================] - 0s 2ms/step - loss: 0.4527 - accuracy: 0.8130\n",
            "Epoch 28/100\n",
            "227/227 [==============================] - 0s 2ms/step - loss: 0.4574 - accuracy: 0.8126\n",
            "Epoch 29/100\n",
            "227/227 [==============================] - 0s 2ms/step - loss: 0.4524 - accuracy: 0.8142\n",
            "Epoch 30/100\n",
            "227/227 [==============================] - 0s 2ms/step - loss: 0.4538 - accuracy: 0.8124\n",
            "Epoch 31/100\n",
            "227/227 [==============================] - 0s 2ms/step - loss: 0.4520 - accuracy: 0.8138\n",
            "Epoch 32/100\n",
            "227/227 [==============================] - 0s 2ms/step - loss: 0.4512 - accuracy: 0.8105\n",
            "Epoch 33/100\n",
            "227/227 [==============================] - 0s 2ms/step - loss: 0.4467 - accuracy: 0.8140\n",
            "Epoch 34/100\n",
            "227/227 [==============================] - 0s 2ms/step - loss: 0.4477 - accuracy: 0.8120\n",
            "Epoch 35/100\n",
            "227/227 [==============================] - 0s 2ms/step - loss: 0.4475 - accuracy: 0.8167\n",
            "Epoch 36/100\n",
            "227/227 [==============================] - 0s 2ms/step - loss: 0.4419 - accuracy: 0.8137\n",
            "Epoch 37/100\n",
            "227/227 [==============================] - 0s 2ms/step - loss: 0.4430 - accuracy: 0.8156\n",
            "Epoch 38/100\n",
            "227/227 [==============================] - 0s 2ms/step - loss: 0.4413 - accuracy: 0.8166\n",
            "Epoch 39/100\n",
            "227/227 [==============================] - 0s 2ms/step - loss: 0.4362 - accuracy: 0.8164\n",
            "Epoch 40/100\n",
            "227/227 [==============================] - 0s 2ms/step - loss: 0.4387 - accuracy: 0.8155\n",
            "Epoch 41/100\n",
            "227/227 [==============================] - 0s 2ms/step - loss: 0.4411 - accuracy: 0.8166\n",
            "Epoch 42/100\n",
            "227/227 [==============================] - 0s 2ms/step - loss: 0.4395 - accuracy: 0.8142\n",
            "Epoch 43/100\n",
            "227/227 [==============================] - 0s 2ms/step - loss: 0.4354 - accuracy: 0.8141\n",
            "Epoch 44/100\n",
            "227/227 [==============================] - 0s 2ms/step - loss: 0.4399 - accuracy: 0.8166\n",
            "Epoch 45/100\n",
            "227/227 [==============================] - 0s 2ms/step - loss: 0.4378 - accuracy: 0.8196\n",
            "Epoch 46/100\n",
            "227/227 [==============================] - 0s 2ms/step - loss: 0.4338 - accuracy: 0.8186\n",
            "Epoch 47/100\n",
            "227/227 [==============================] - 0s 2ms/step - loss: 0.4326 - accuracy: 0.8193\n",
            "Epoch 48/100\n",
            "227/227 [==============================] - 0s 2ms/step - loss: 0.4324 - accuracy: 0.8174\n",
            "Epoch 49/100\n",
            "227/227 [==============================] - 0s 2ms/step - loss: 0.4361 - accuracy: 0.8173\n",
            "Epoch 50/100\n",
            "227/227 [==============================] - 0s 2ms/step - loss: 0.4324 - accuracy: 0.8203\n",
            "Epoch 51/100\n",
            "227/227 [==============================] - 0s 2ms/step - loss: 0.4330 - accuracy: 0.8163\n",
            "Epoch 52/100\n",
            "227/227 [==============================] - 0s 2ms/step - loss: 0.4318 - accuracy: 0.8167\n",
            "Epoch 53/100\n",
            "227/227 [==============================] - 0s 2ms/step - loss: 0.4287 - accuracy: 0.8192\n",
            "Epoch 54/100\n",
            "227/227 [==============================] - 0s 2ms/step - loss: 0.4303 - accuracy: 0.8189\n",
            "Epoch 55/100\n",
            "227/227 [==============================] - 0s 2ms/step - loss: 0.4287 - accuracy: 0.8169\n",
            "Epoch 56/100\n",
            "227/227 [==============================] - 0s 2ms/step - loss: 0.4291 - accuracy: 0.8191\n",
            "Epoch 57/100\n",
            "227/227 [==============================] - 0s 2ms/step - loss: 0.4292 - accuracy: 0.8204\n",
            "Epoch 58/100\n",
            "227/227 [==============================] - 0s 2ms/step - loss: 0.4257 - accuracy: 0.8191\n",
            "Epoch 59/100\n",
            "227/227 [==============================] - 0s 2ms/step - loss: 0.4299 - accuracy: 0.8147\n",
            "Epoch 60/100\n",
            "227/227 [==============================] - 0s 2ms/step - loss: 0.4217 - accuracy: 0.8217\n",
            "Epoch 61/100\n",
            "227/227 [==============================] - 0s 2ms/step - loss: 0.4235 - accuracy: 0.8189\n",
            "Epoch 62/100\n",
            "227/227 [==============================] - 0s 2ms/step - loss: 0.4225 - accuracy: 0.8193\n",
            "Epoch 63/100\n",
            "227/227 [==============================] - 0s 2ms/step - loss: 0.4287 - accuracy: 0.8192\n",
            "Epoch 64/100\n",
            "227/227 [==============================] - 0s 2ms/step - loss: 0.4210 - accuracy: 0.8197\n",
            "Epoch 65/100\n",
            "227/227 [==============================] - 0s 2ms/step - loss: 0.4246 - accuracy: 0.8171\n",
            "Epoch 66/100\n",
            "227/227 [==============================] - 0s 2ms/step - loss: 0.4213 - accuracy: 0.8200\n",
            "Epoch 67/100\n",
            "227/227 [==============================] - 0s 2ms/step - loss: 0.4251 - accuracy: 0.8188\n",
            "Epoch 68/100\n",
            "227/227 [==============================] - 0s 2ms/step - loss: 0.4175 - accuracy: 0.8257\n",
            "Epoch 69/100\n",
            "227/227 [==============================] - 0s 2ms/step - loss: 0.4180 - accuracy: 0.8208\n",
            "Epoch 70/100\n",
            "227/227 [==============================] - 0s 2ms/step - loss: 0.4222 - accuracy: 0.8203\n",
            "Epoch 71/100\n",
            "227/227 [==============================] - 0s 2ms/step - loss: 0.4220 - accuracy: 0.8197\n",
            "Epoch 72/100\n",
            "227/227 [==============================] - 0s 2ms/step - loss: 0.4262 - accuracy: 0.8156\n",
            "Epoch 73/100\n",
            "227/227 [==============================] - 0s 2ms/step - loss: 0.4167 - accuracy: 0.8231\n",
            "Epoch 74/100\n",
            "227/227 [==============================] - 0s 2ms/step - loss: 0.4189 - accuracy: 0.8213\n",
            "Epoch 75/100\n",
            "227/227 [==============================] - 0s 2ms/step - loss: 0.4196 - accuracy: 0.8180\n",
            "Epoch 76/100\n",
            "227/227 [==============================] - 0s 2ms/step - loss: 0.4178 - accuracy: 0.8208\n",
            "Epoch 77/100\n",
            "227/227 [==============================] - 0s 2ms/step - loss: 0.4156 - accuracy: 0.8199\n",
            "Epoch 78/100\n",
            "227/227 [==============================] - 0s 2ms/step - loss: 0.4213 - accuracy: 0.8182\n",
            "Epoch 79/100\n",
            "227/227 [==============================] - 0s 2ms/step - loss: 0.4154 - accuracy: 0.8197\n",
            "Epoch 80/100\n",
            "227/227 [==============================] - 0s 2ms/step - loss: 0.4174 - accuracy: 0.8195\n",
            "Epoch 81/100\n",
            "227/227 [==============================] - 0s 2ms/step - loss: 0.4168 - accuracy: 0.8159\n",
            "Epoch 82/100\n",
            "227/227 [==============================] - 0s 2ms/step - loss: 0.4158 - accuracy: 0.8153\n",
            "Epoch 83/100\n",
            "227/227 [==============================] - 0s 2ms/step - loss: 0.4126 - accuracy: 0.8231\n",
            "Epoch 84/100\n",
            "227/227 [==============================] - 0s 2ms/step - loss: 0.4160 - accuracy: 0.8162\n",
            "Epoch 85/100\n",
            "227/227 [==============================] - 0s 2ms/step - loss: 0.4127 - accuracy: 0.8207\n",
            "Epoch 86/100\n",
            "227/227 [==============================] - 0s 2ms/step - loss: 0.4127 - accuracy: 0.8225\n",
            "Epoch 87/100\n",
            "227/227 [==============================] - 0s 2ms/step - loss: 0.4137 - accuracy: 0.8203\n",
            "Epoch 88/100\n",
            "227/227 [==============================] - 0s 2ms/step - loss: 0.4148 - accuracy: 0.8197\n",
            "Epoch 89/100\n",
            "227/227 [==============================] - 0s 2ms/step - loss: 0.4111 - accuracy: 0.8195\n",
            "Epoch 90/100\n",
            "227/227 [==============================] - 0s 2ms/step - loss: 0.4074 - accuracy: 0.8235\n",
            "Epoch 91/100\n",
            "227/227 [==============================] - 0s 2ms/step - loss: 0.4126 - accuracy: 0.8204\n",
            "Epoch 92/100\n",
            "227/227 [==============================] - 0s 2ms/step - loss: 0.4146 - accuracy: 0.8188\n",
            "Epoch 93/100\n",
            "227/227 [==============================] - 0s 2ms/step - loss: 0.4116 - accuracy: 0.8210\n",
            "Epoch 94/100\n",
            "227/227 [==============================] - 0s 2ms/step - loss: 0.4123 - accuracy: 0.8224\n",
            "Epoch 95/100\n",
            "227/227 [==============================] - 0s 2ms/step - loss: 0.4132 - accuracy: 0.8171\n",
            "Epoch 96/100\n",
            "227/227 [==============================] - 0s 2ms/step - loss: 0.4121 - accuracy: 0.8182\n",
            "Epoch 97/100\n",
            "227/227 [==============================] - 0s 2ms/step - loss: 0.4127 - accuracy: 0.8200\n",
            "Epoch 98/100\n",
            "227/227 [==============================] - 0s 2ms/step - loss: 0.4130 - accuracy: 0.8236\n",
            "Epoch 99/100\n",
            "227/227 [==============================] - 0s 2ms/step - loss: 0.4106 - accuracy: 0.8228\n",
            "Epoch 100/100\n",
            "227/227 [==============================] - 0s 2ms/step - loss: 0.4082 - accuracy: 0.8225\n",
            "47/47 [==============================] - 0s 1ms/step - loss: 0.4030 - accuracy: 0.8300\n",
            "\n",
            "loss: 0.403\n",
            "\n",
            "accuracy: 0.830\n"
          ]
        }
      ]
    },
    {
      "cell_type": "code",
      "source": [
        "from keras.metrics import accuracy\n",
        "#test_size = X_test.shape[0]\n",
        "pred = classifier.predict(X_test)\n",
        "#print(pred)\n",
        "pred_ = np.argmax(pred, axis = 1)\n",
        "#print(pred_)\n",
        "pred_ = l_encode.inverse_transform(pred_)\n",
        "\n",
        "true_y = l_encode.inverse_transform(np.argmax(to_categorical(y_test), axis = 1)[:,1])\n",
        "\n",
        "#for i,j in zip(pred_, true_y):\n",
        "#    print(\"Predicted: {}, True: {}\".format(i, j))\n",
        "\n",
        "cnt = 0\n",
        "cnt_correct = 0\n",
        "\n",
        "for i in range(len(pred_)):\n",
        "  cnt += 1\n",
        "  if(pred_[i] == true_y[i]):\n",
        "    cnt_correct += 1\n",
        "\n",
        "print(f'accuracy: {(cnt_correct/cnt)*100:.2f}%')\n"
      ],
      "metadata": {
        "colab": {
          "base_uri": "https://localhost:8080/"
        },
        "id": "Sv9aKFPW5KGr",
        "outputId": "238ae59b-e6f3-422b-fc0b-fd4e601dd85c"
      },
      "execution_count": 7,
      "outputs": [
        {
          "output_type": "stream",
          "name": "stdout",
          "text": [
            "accuracy: 83.00%\n"
          ]
        }
      ]
    }
  ]
}