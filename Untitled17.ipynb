{
  "nbformat": 4,
  "nbformat_minor": 0,
  "metadata": {
    "colab": {
      "name": "Untitled17.ipynb",
      "provenance": [],
      "authorship_tag": "ABX9TyNkYTNLpIT6eUxYrl0ot+YQ",
      "include_colab_link": true
    },
    "kernelspec": {
      "name": "python3",
      "display_name": "Python 3"
    },
    "language_info": {
      "name": "python"
    }
  },
  "cells": [
    {
      "cell_type": "markdown",
      "metadata": {
        "id": "view-in-github",
        "colab_type": "text"
      },
      "source": [
        "<a href=\"https://colab.research.google.com/github/Uros-Males/Minimization_Problem_On_Identical_Machines_Analysis/blob/main/Untitled17.ipynb\" target=\"_parent\"><img src=\"https://colab.research.google.com/assets/colab-badge.svg\" alt=\"Open In Colab\"/></a>"
      ]
    },
    {
      "cell_type": "code",
      "execution_count": 1,
      "metadata": {
        "colab": {
          "base_uri": "https://localhost:8080/"
        },
        "id": "6u-X4QiVmgm4",
        "outputId": "f217b6e7-edfa-4b44-f302-d3837a9359c4"
      },
      "outputs": [
        {
          "output_type": "stream",
          "name": "stdout",
          "text": [
            "8750\n"
          ]
        }
      ],
      "source": [
        "#IN PROGRESS....\n",
        "import pandas as pd\n",
        "import numpy as np\n",
        "import matplotlib.pyplot as plt\n",
        "from sklearn import tree\n",
        "from sklearn.model_selection import train_test_split\n",
        "from sklearn.tree import DecisionTreeRegressor\n",
        "import time\n",
        "\n",
        "df = pd.read_csv('/content/sample_data/C-instances-runtime-analysis.csv')\n",
        "print(df.shape[0])\n",
        "\n",
        "shuffled = df.sample(frac=1).reset_index()\n",
        "\n",
        "columns_dont_want = ['y', 'index', 'inst.name', 'CPLEXStatus','type']\n",
        "select = [x for x in shuffled.columns if x not in columns_dont_want]\n",
        "\n",
        "X = shuffled.loc[:, select]\n",
        "\n",
        "y = shuffled.loc[:,'y']"
      ]
    },
    {
      "cell_type": "code",
      "source": [
        "y_new = []\n",
        "for val in y:\n",
        "  if(val<10):\n",
        "    y_new.append(0)\n",
        "  elif(10 <= val and val <100):\n",
        "    y_new.append(1)\n",
        "  elif(100<= val and val<1000):\n",
        "    y_new.append(2)\n",
        "  else:\n",
        "    y_new.append(3)\n",
        "\n",
        "shuffled['y_new'] = y_new\n",
        "#print(shuffled.head())\n",
        "y_encoded = shuffled.loc[:,'y_new']\n",
        "X_modified = X.drop(['max', 'n/m', '(n/m)^2', '(n/m)^3', 'm/n', '(m/n)^2', '(m/n)^3', 'class', 'av.length'], axis = 1)"
      ],
      "metadata": {
        "id": "XkPXcbO0riCC"
      },
      "execution_count": 2,
      "outputs": []
    },
    {
      "cell_type": "code",
      "source": [
        "from sklearn.preprocessing import LabelEncoder\n",
        "from keras.utils.np_utils import to_categorical\n",
        "\n",
        "l_encode = LabelEncoder()\n",
        "l_encode.fit(y_encoded)\n",
        "y_encoded = l_encode.transform(y_encoded)\n",
        "y_encoded = to_categorical(y_encoded)\n",
        "y_encoded"
      ],
      "metadata": {
        "colab": {
          "base_uri": "https://localhost:8080/"
        },
        "id": "W2hvUxxE2NWr",
        "outputId": "e8ab77b5-5032-4319-8551-3d77223f5af7"
      },
      "execution_count": 3,
      "outputs": [
        {
          "output_type": "execute_result",
          "data": {
            "text/plain": [
              "array([[0., 0., 0., 1.],\n",
              "       [1., 0., 0., 0.],\n",
              "       [0., 0., 0., 1.],\n",
              "       ...,\n",
              "       [1., 0., 0., 0.],\n",
              "       [1., 0., 0., 0.],\n",
              "       [0., 0., 1., 0.]], dtype=float32)"
            ]
          },
          "metadata": {},
          "execution_count": 3
        }
      ]
    },
    {
      "cell_type": "code",
      "source": [
        "from keras.models import Sequential\n",
        "from keras.layers import Dense\n",
        "\n",
        "classifier = Sequential()\n",
        "classifier.add(Dense(16, input_dim = X_modified.shape[1], activation='relu'))\n",
        "classifier.add(Dense(8, activation = 'relu'))\n",
        "classifier.add(Dense(4, activation = 'softmax'))\n",
        "classifier.compile(loss = 'categorical_crossentropy', optimizer = 'adam', metrics = ['accuracy'])\n",
        "#classifier.summary()"
      ],
      "metadata": {
        "id": "jRT-grzys8_y"
      },
      "execution_count": 4,
      "outputs": []
    },
    {
      "cell_type": "code",
      "source": [
        "from sklearn.preprocessing import MinMaxScaler\n",
        "scaler =  MinMaxScaler()\n",
        "\n",
        "X_train, X_test, y_train, y_test = train_test_split(X_modified, y_encoded, random_state=0, train_size = 0.83)\n",
        "\n",
        "X_train = scaler.fit_transform(X_train)\n",
        "X_test = scaler.fit_transform(X_test)"
      ],
      "metadata": {
        "id": "gWTX6M2mxxPD"
      },
      "execution_count": 5,
      "outputs": []
    },
    {
      "cell_type": "code",
      "source": [
        "classifier.fit(X_train, y_train, batch_size = 10, epochs = 50, verbose = 1)\n",
        "scores = classifier.evaluate(X_test, y_test)\n",
        "for i, m in enumerate(classifier.metrics_names):\n",
        "    print(\"\\n%s: %.3f\"% (m, scores[i]))\n"
      ],
      "metadata": {
        "colab": {
          "base_uri": "https://localhost:8080/"
        },
        "id": "Mm7RsTBcx2EN",
        "outputId": "f5501f40-768b-4983-cdb9-c5f05f329921"
      },
      "execution_count": 6,
      "outputs": [
        {
          "output_type": "stream",
          "name": "stdout",
          "text": [
            "Epoch 1/50\n",
            "727/727 [==============================] - 2s 2ms/step - loss: 1.0211 - accuracy: 0.5628\n",
            "Epoch 2/50\n",
            "727/727 [==============================] - 2s 3ms/step - loss: 0.6861 - accuracy: 0.7400\n",
            "Epoch 3/50\n",
            "727/727 [==============================] - 2s 3ms/step - loss: 0.6205 - accuracy: 0.7466\n",
            "Epoch 4/50\n",
            "727/727 [==============================] - 2s 3ms/step - loss: 0.5911 - accuracy: 0.7582\n",
            "Epoch 5/50\n",
            "727/727 [==============================] - 2s 3ms/step - loss: 0.5639 - accuracy: 0.7676\n",
            "Epoch 6/50\n",
            "727/727 [==============================] - 2s 3ms/step - loss: 0.5425 - accuracy: 0.7711\n",
            "Epoch 7/50\n",
            "727/727 [==============================] - 2s 3ms/step - loss: 0.5238 - accuracy: 0.7839\n",
            "Epoch 8/50\n",
            "727/727 [==============================] - 2s 3ms/step - loss: 0.5121 - accuracy: 0.7867\n",
            "Epoch 9/50\n",
            "727/727 [==============================] - 1s 1ms/step - loss: 0.5060 - accuracy: 0.7881\n",
            "Epoch 10/50\n",
            "727/727 [==============================] - 1s 1ms/step - loss: 0.5007 - accuracy: 0.7899\n",
            "Epoch 11/50\n",
            "727/727 [==============================] - 1s 1ms/step - loss: 0.4962 - accuracy: 0.7893\n",
            "Epoch 12/50\n",
            "727/727 [==============================] - 1s 1ms/step - loss: 0.4922 - accuracy: 0.7947\n",
            "Epoch 13/50\n",
            "727/727 [==============================] - 1s 1ms/step - loss: 0.4893 - accuracy: 0.7939\n",
            "Epoch 14/50\n",
            "727/727 [==============================] - 1s 1ms/step - loss: 0.4862 - accuracy: 0.7907\n",
            "Epoch 15/50\n",
            "727/727 [==============================] - 1s 1ms/step - loss: 0.4830 - accuracy: 0.7900\n",
            "Epoch 16/50\n",
            "727/727 [==============================] - 1s 1ms/step - loss: 0.4797 - accuracy: 0.7970\n",
            "Epoch 17/50\n",
            "727/727 [==============================] - 1s 1ms/step - loss: 0.4767 - accuracy: 0.7970\n",
            "Epoch 18/50\n",
            "727/727 [==============================] - 1s 1ms/step - loss: 0.4738 - accuracy: 0.7984\n",
            "Epoch 19/50\n",
            "727/727 [==============================] - 1s 1ms/step - loss: 0.4709 - accuracy: 0.7976\n",
            "Epoch 20/50\n",
            "727/727 [==============================] - 1s 1ms/step - loss: 0.4706 - accuracy: 0.7980\n",
            "Epoch 21/50\n",
            "727/727 [==============================] - 1s 1ms/step - loss: 0.4662 - accuracy: 0.7983\n",
            "Epoch 22/50\n",
            "727/727 [==============================] - 1s 1ms/step - loss: 0.4653 - accuracy: 0.8005\n",
            "Epoch 23/50\n",
            "727/727 [==============================] - 1s 1ms/step - loss: 0.4644 - accuracy: 0.7991\n",
            "Epoch 24/50\n",
            "727/727 [==============================] - 1s 1ms/step - loss: 0.4625 - accuracy: 0.7995\n",
            "Epoch 25/50\n",
            "727/727 [==============================] - 1s 1ms/step - loss: 0.4605 - accuracy: 0.8045\n",
            "Epoch 26/50\n",
            "727/727 [==============================] - 1s 1ms/step - loss: 0.4573 - accuracy: 0.8018\n",
            "Epoch 27/50\n",
            "727/727 [==============================] - 1s 1ms/step - loss: 0.4556 - accuracy: 0.8063\n",
            "Epoch 28/50\n",
            "727/727 [==============================] - 1s 1ms/step - loss: 0.4553 - accuracy: 0.8035\n",
            "Epoch 29/50\n",
            "727/727 [==============================] - 1s 1ms/step - loss: 0.4544 - accuracy: 0.8012\n",
            "Epoch 30/50\n",
            "727/727 [==============================] - 1s 1ms/step - loss: 0.4505 - accuracy: 0.8072\n",
            "Epoch 31/50\n",
            "727/727 [==============================] - 1s 1ms/step - loss: 0.4496 - accuracy: 0.8075\n",
            "Epoch 32/50\n",
            "727/727 [==============================] - 1s 1ms/step - loss: 0.4476 - accuracy: 0.8078\n",
            "Epoch 33/50\n",
            "727/727 [==============================] - 1s 1ms/step - loss: 0.4468 - accuracy: 0.8087\n",
            "Epoch 34/50\n",
            "727/727 [==============================] - 1s 1ms/step - loss: 0.4438 - accuracy: 0.8094\n",
            "Epoch 35/50\n",
            "727/727 [==============================] - 1s 1ms/step - loss: 0.4434 - accuracy: 0.8082\n",
            "Epoch 36/50\n",
            "727/727 [==============================] - 1s 1ms/step - loss: 0.4410 - accuracy: 0.8083\n",
            "Epoch 37/50\n",
            "727/727 [==============================] - 1s 1ms/step - loss: 0.4418 - accuracy: 0.8078\n",
            "Epoch 38/50\n",
            "727/727 [==============================] - 1s 1ms/step - loss: 0.4405 - accuracy: 0.8086\n",
            "Epoch 39/50\n",
            "727/727 [==============================] - 1s 2ms/step - loss: 0.4400 - accuracy: 0.8065\n",
            "Epoch 40/50\n",
            "727/727 [==============================] - 1s 1ms/step - loss: 0.4381 - accuracy: 0.8107\n",
            "Epoch 41/50\n",
            "727/727 [==============================] - 1s 1ms/step - loss: 0.4373 - accuracy: 0.8115\n",
            "Epoch 42/50\n",
            "727/727 [==============================] - 1s 1ms/step - loss: 0.4365 - accuracy: 0.8113\n",
            "Epoch 43/50\n",
            "727/727 [==============================] - 1s 1ms/step - loss: 0.4362 - accuracy: 0.8111\n",
            "Epoch 44/50\n",
            "727/727 [==============================] - 1s 1ms/step - loss: 0.4358 - accuracy: 0.8094\n",
            "Epoch 45/50\n",
            "727/727 [==============================] - 1s 1ms/step - loss: 0.4335 - accuracy: 0.8138\n",
            "Epoch 46/50\n",
            "727/727 [==============================] - 1s 1ms/step - loss: 0.4344 - accuracy: 0.8107\n",
            "Epoch 47/50\n",
            "727/727 [==============================] - 1s 1ms/step - loss: 0.4338 - accuracy: 0.8135\n",
            "Epoch 48/50\n",
            "727/727 [==============================] - 1s 1ms/step - loss: 0.4325 - accuracy: 0.8131\n",
            "Epoch 49/50\n",
            "727/727 [==============================] - 1s 1ms/step - loss: 0.4337 - accuracy: 0.8093\n",
            "Epoch 50/50\n",
            "727/727 [==============================] - 1s 1ms/step - loss: 0.4319 - accuracy: 0.8130\n",
            "47/47 [==============================] - 0s 1ms/step - loss: 0.4268 - accuracy: 0.8293\n",
            "\n",
            "loss: 0.427\n",
            "\n",
            "accuracy: 0.829\n"
          ]
        }
      ]
    },
    {
      "cell_type": "code",
      "source": [
        "from keras.metrics import accuracy\n",
        "#test_size = X_test.shape[0]\n",
        "pred = classifier.predict(X_test)\n",
        "#print(pred)\n",
        "pred_ = np.argmax(pred, axis = 1)\n",
        "#print(pred_)\n",
        "pred_ = l_encode.inverse_transform(pred_)\n",
        "\n",
        "true_y = l_encode.inverse_transform(np.argmax(to_categorical(y_test), axis = 1)[:,1])\n",
        "\n",
        "#for i,j in zip(pred_, true_y):\n",
        "#    print(\"Predicted: {}, True: {}\".format(i, j))\n",
        "\n",
        "cnt = 0\n",
        "cnt_correct = 0\n",
        "\n",
        "for i in range(len(pred_)):\n",
        "  cnt += 1\n",
        "  if(pred_[i] == true_y[i]):\n",
        "    cnt_correct += 1\n",
        "\n",
        "print(f'accuracy: {(cnt_correct/cnt)*100:.2f}%')\n"
      ],
      "metadata": {
        "colab": {
          "base_uri": "https://localhost:8080/"
        },
        "id": "Sv9aKFPW5KGr",
        "outputId": "5baba73e-0013-4c39-aa6c-ebbbbb6b14b5"
      },
      "execution_count": 22,
      "outputs": [
        {
          "output_type": "stream",
          "name": "stdout",
          "text": [
            "accuracy: 82.93%\n"
          ]
        }
      ]
    }
  ]
}