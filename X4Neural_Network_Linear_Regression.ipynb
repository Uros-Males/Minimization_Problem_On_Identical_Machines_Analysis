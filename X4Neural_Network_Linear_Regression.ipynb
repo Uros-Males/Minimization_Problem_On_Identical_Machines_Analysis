{
  "nbformat": 4,
  "nbformat_minor": 0,
  "metadata": {
    "colab": {
      "name": "Neural_Network_Regression.ipynb",
      "provenance": [],
      "authorship_tag": "ABX9TyOSKJECW3AqJ3TqJ+BNvCO+",
      "include_colab_link": true
    },
    "kernelspec": {
      "name": "python3",
      "display_name": "Python 3"
    },
    "language_info": {
      "name": "python"
    }
  },
  "cells": [
    {
      "cell_type": "markdown",
      "metadata": {
        "id": "view-in-github",
        "colab_type": "text"
      },
      "source": [
        "<a href=\"https://colab.research.google.com/github/Uros-Males/Minimization_Problem_On_Identical_Machines_Analysis/blob/main/X4Neural_Network_Linear_Regression.ipynb\" target=\"_parent\"><img src=\"https://colab.research.google.com/assets/colab-badge.svg\" alt=\"Open In Colab\"/></a>"
      ]
    },
    {
      "cell_type": "code",
      "execution_count": 1,
      "metadata": {
        "id": "YiQcuNkDxHUf",
        "colab": {
          "base_uri": "https://localhost:8080/"
        },
        "outputId": "77ae3a07-793d-4910-f3ef-26f007339c01"
      },
      "outputs": [
        {
          "output_type": "stream",
          "name": "stdout",
          "text": [
            "19.907111\n",
            "2.0\n",
            "20.907111\n"
          ]
        }
      ],
      "source": [
        "#IN PROGRESS....\n",
        "import pandas as pd\n",
        "import numpy as np\n",
        "import matplotlib.pyplot as plt\n",
        "from sklearn import tree\n",
        "from sklearn.model_selection import train_test_split\n",
        "from sklearn.tree import DecisionTreeRegressor\n",
        "import time\n",
        "\n",
        "df = pd.read_csv('/content/sample_data/C-instances-runtime-analysis(1) (1).csv')\n",
        "df2 = df[df['train'] == 1]\n",
        "print(df2['y'].max())\n",
        "ymax_train1 = df2['y'].max()\n",
        "# sve sa train = 0 y = max(y) + 1\n",
        "\n",
        "for i in range(df.shape[0]):\n",
        "  if(df.iloc[i]['train'] == 0):\n",
        "    df.loc[i, 'y'] = ymax_train1 + 1\n",
        "\n",
        "lower_bound = df['n'] * df['av.length'] / df['m']\n",
        "lower_bound = lower_bound.astype('int') + 1\n",
        "\n",
        "upper_bound = np.minimum(df[' LPTUB'], df[' SLACKUB'])\n",
        "df['rel. bound'] = (upper_bound-lower_bound)/(upper_bound)\n",
        "df['rel. bound'] = df['rel. bound']*10000\n",
        "\n",
        "df['category'] = df['y']\n",
        "for i in range(df.shape[0]):\n",
        "  #print(df.iloc[i]['y'])\n",
        "  if(df.iloc[i]['y'] < 1):\n",
        "    df.loc[i, 'category'] = 0\n",
        "  elif(df.iloc[i]['y'] >= 1 and df.iloc[i]['y'] < 10):\n",
        "    df.loc[i, 'category'] = 1\n",
        "  else:\n",
        "    df.loc[i, 'category'] = 2\n",
        "\n",
        "print(df['category'].max())\n",
        "print(df['y'].max())\n",
        "shuffled = df.sample(frac=1).reset_index()\n",
        "\n",
        "columns_dont_want = ['y', 'index', 'inst.name','type', 'CPLEXStatus', ' LPTUB', ' SLACKUB', 'train']\n",
        "select = [x for x in shuffled.columns if x not in columns_dont_want]\n",
        "\n",
        "X = shuffled.loc[:, select]\n",
        "\n",
        "y = shuffled.loc[:,'y']"
      ]
    },
    {
      "cell_type": "code",
      "source": [
        "X_modified = X.drop([ 'rel. bound', 'median', 'range',  'max','k', 'av.length','indeks', 'class',  'subtype', '(m/n)^3', '(m/n)^2', '(n/m)^2', '(n/m)^3','m/n','n'], axis = 1)\n",
        "print(X_modified.head())\n",
        "#X_modified = X.drop(['max', 'n/m', '(n/m)^2', '(n/m)^3', 'm/n', '(m/n)^2', '(m/n)^3', 'class', 'av.length'], axis = 1)"
      ],
      "metadata": {
        "id": "Jzlk_oaRyQjm",
        "outputId": "b56768ec-89c2-40d6-81c0-b072f7e3d771",
        "colab": {
          "base_uri": "https://localhost:8080/"
        }
      },
      "execution_count": 2,
      "outputs": [
        {
          "output_type": "stream",
          "name": "stdout",
          "text": [
            "     m   n/m     std.dev  min  category\n",
            "0   36  5.00   20.039488   47       0.0\n",
            "1    8  4.50   24.744585   27       0.0\n",
            "2   16  9.00  143.504593  263       0.0\n",
            "3   16  2.25   24.744585   27       1.0\n",
            "4  100  2.00   46.637669    1       0.0\n"
          ]
        }
      ]
    },
    {
      "cell_type": "code",
      "source": [
        "from imblearn.over_sampling import RandomOverSampler\n",
        "\n",
        "tmp = X_modified.drop(['category'], axis = 1)\n",
        "tmp['y'] = y\n",
        "tmp = tmp.sample(frac = 1).reset_index()\n",
        "category = X_modified['category']\n",
        "\n",
        "oversample = RandomOverSampler(random_state=0)\n",
        "tmp, category = oversample.fit_resample(tmp, category.astype('int'))\n",
        "\n",
        "\n",
        "y = tmp['y']\n",
        "X_modified = tmp.drop(['y'], axis = 1)\n",
        "print(X_modified.shape[0])\n",
        "print(X_modified.head())"
      ],
      "metadata": {
        "id": "CV5yPmjuHVXM",
        "outputId": "d70e23bc-c063-40bc-9383-5dab9df73596",
        "colab": {
          "base_uri": "https://localhost:8080/"
        }
      },
      "execution_count": 3,
      "outputs": [
        {
          "output_type": "stream",
          "name": "stdout",
          "text": [
            "21840\n",
            "   index   m  n/m     std.dev  min\n",
            "0   2806  80  2.0   15.111367   50\n",
            "1   3675   4  9.0   22.075682   23\n",
            "2   3380  12  9.0   24.649858   20\n",
            "3   6539   3  6.0   22.332088   25\n",
            "4   7145  33  6.0  196.622818  286\n"
          ]
        }
      ]
    },
    {
      "cell_type": "code",
      "source": [
        "from sklearn import preprocessing\n",
        "\n",
        "from sklearn.preprocessing import StandardScaler\n",
        "\n",
        "sc = StandardScaler()\n",
        "sc2 = StandardScaler()\n",
        "\n",
        "X_train, X_test, y_train, y_test = train_test_split(X_modified, y, random_state=0, train_size = 0.83)\n",
        "\n",
        "X_train = sc.fit_transform(X_train)\n",
        "X_test = sc.transform(X_test)\n",
        "\n",
        "from sklearn.linear_model import LinearRegression\n",
        "from sklearn.preprocessing import PolynomialFeatures\n",
        "\n",
        "\n",
        "poly = PolynomialFeatures(degree=1, include_bias=True)\n",
        "X_train = poly.fit_transform(X_train)\n",
        "X_test = poly.transform(X_test)\n",
        "\n",
        "reg = LinearRegression().fit(X_train, y_train)\n",
        "\n",
        "\n",
        "\n"
      ],
      "metadata": {
        "id": "2JHin8gI5ftQ"
      },
      "execution_count": 4,
      "outputs": []
    },
    {
      "cell_type": "code",
      "source": [
        "from sklearn.metrics import r2_score\n",
        "prediction = reg.predict(X_test)\n",
        "print(\"r_square score: \", r2_score(y_test,prediction))\n",
        "#y_test = sc2.inverse_transform(y_test.reshape(-1,1))\n",
        "yy = np.array(y_test)\n",
        "#prediction = sc2.inverse_transform(prediction.reshape(-1,1))\n",
        "predd = np.array(prediction)\n",
        "for i in range(len(yy)):\n",
        "  if(yy[i]-predd[i] > 99000):\n",
        "    print(\"real value of y_test: \" + str(yy[i]) + \" -> the predict: \" + str(predd[i]))"
      ],
      "metadata": {
        "id": "PnQXNvh3-rVR",
        "outputId": "c9100eaf-3d7b-4e88-bed3-b21de4d481e3",
        "colab": {
          "base_uri": "https://localhost:8080/"
        }
      },
      "execution_count": 5,
      "outputs": [
        {
          "output_type": "stream",
          "name": "stdout",
          "text": [
            "r_square score:  0.21404304419301656\n"
          ]
        }
      ]
    },
    {
      "cell_type": "code",
      "source": [
        "from sklearn.metrics import mean_squared_error\n",
        "from math import sqrt\n",
        "\n",
        "print(\"RMSE:\")\n",
        "sqrt(mean_squared_error(yy, predd)) "
      ],
      "metadata": {
        "id": "OSyzIFK5uzHP",
        "outputId": "2d8f0a2d-10dd-4e14-8661-c2d0d83e1b17",
        "colab": {
          "base_uri": "https://localhost:8080/"
        }
      },
      "execution_count": 6,
      "outputs": [
        {
          "output_type": "stream",
          "name": "stdout",
          "text": [
            "RMSE:\n"
          ]
        },
        {
          "output_type": "execute_result",
          "data": {
            "text/plain": [
              "3.1002510717780845"
            ]
          },
          "metadata": {},
          "execution_count": 6
        }
      ]
    },
    {
      "cell_type": "code",
      "source": [
        "plt.scatter(yy, predd)"
      ],
      "metadata": {
        "id": "z4pQ0_HsopQe",
        "outputId": "f6123dde-f038-4929-be06-e2a52bb1a8a1",
        "colab": {
          "base_uri": "https://localhost:8080/",
          "height": 282
        }
      },
      "execution_count": 8,
      "outputs": [
        {
          "output_type": "execute_result",
          "data": {
            "text/plain": [
              "<matplotlib.collections.PathCollection at 0x7fcc7d7cdf50>"
            ]
          },
          "metadata": {},
          "execution_count": 8
        },
        {
          "output_type": "display_data",
          "data": {
            "text/plain": [
              "<Figure size 432x288 with 1 Axes>"
            ],
            "image/png": "[encoded data removed]"
          },
          "metadata": {
            "needs_background": "light"
          }
        }
      ]
    }
  ]
}