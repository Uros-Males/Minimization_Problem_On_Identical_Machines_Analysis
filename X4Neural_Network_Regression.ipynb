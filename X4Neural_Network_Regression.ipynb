{
  "nbformat": 4,
  "nbformat_minor": 0,
  "metadata": {
    "colab": {
      "name": "Neural_Network_Regression.ipynb",
      "provenance": [],
      "authorship_tag": "ABX9TyP24ofX80LXc/NoM15H6XbC",
      "include_colab_link": true
    },
    "kernelspec": {
      "name": "python3",
      "display_name": "Python 3"
    },
    "language_info": {
      "name": "python"
    }
  },
  "cells": [
    {
      "cell_type": "markdown",
      "metadata": {
        "id": "view-in-github",
        "colab_type": "text"
      },
      "source": [
        "<a href=\"https://colab.research.google.com/github/Uros-Males/Minimization_Problem_On_Identical_Machines_Analysis/blob/main/X4Neural_Network_Regression.ipynb\" target=\"_parent\"><img src=\"https://colab.research.google.com/assets/colab-badge.svg\" alt=\"Open In Colab\"/></a>"
      ]
    },
    {
      "cell_type": "code",
      "execution_count": 1,
      "metadata": {
        "id": "YiQcuNkDxHUf",
        "colab": {
          "base_uri": "https://localhost:8080/"
        },
        "outputId": "2decb6e8-772b-48d0-bcc8-f3cdba1e3fc5"
      },
      "outputs": [
        {
          "output_type": "stream",
          "name": "stdout",
          "text": [
            "19.907111\n",
            "2.0\n",
            "20.907111\n"
          ]
        }
      ],
      "source": [
        "#IN PROGRESS....\n",
        "import pandas as pd\n",
        "import numpy as np\n",
        "import matplotlib.pyplot as plt\n",
        "from sklearn import tree\n",
        "from sklearn.model_selection import train_test_split\n",
        "from sklearn.tree import DecisionTreeRegressor\n",
        "import time\n",
        "\n",
        "df = pd.read_csv('/content/sample_data/C-instances-runtime-analysis(1) (1).csv')\n",
        "df2 = df[df['train'] == 1]\n",
        "print(df2['y'].max())\n",
        "ymax_train1 = df2['y'].max()\n",
        "# sve sa train = 0 y = max(y) + 1\n",
        "\n",
        "for i in range(df.shape[0]):\n",
        "  if(df.iloc[i]['train'] == 0):\n",
        "    df.loc[i, 'y'] = ymax_train1 + 1\n",
        "\n",
        "lower_bound = df['n'] * df['av.length'] / df['m']\n",
        "lower_bound = lower_bound.astype('int') + 1\n",
        "\n",
        "upper_bound = np.minimum(df[' LPTUB'], df[' SLACKUB'])\n",
        "df['rel. bound'] = (upper_bound-lower_bound)/(upper_bound)\n",
        "df['rel. bound'] = df['rel. bound']*10000\n",
        "\n",
        "df['category'] = df['y']\n",
        "for i in range(df.shape[0]):\n",
        "  #print(df.iloc[i]['y'])\n",
        "  if(df.iloc[i]['y'] < 1):\n",
        "    df.loc[i, 'category'] = 0\n",
        "  elif(df.iloc[i]['y'] >= 1 and df.iloc[i]['y'] < 10):\n",
        "    df.loc[i, 'category'] = 1\n",
        "  else:\n",
        "    df.loc[i, 'category'] = 2\n",
        "\n",
        "print(df['category'].max())\n",
        "print(df['y'].max())\n",
        "\n",
        "\n",
        "\n",
        "\n",
        "shuffled = df.sample(frac=1).reset_index()\n",
        "\n",
        "columns_dont_want = ['y', 'index', 'inst.name','type', 'CPLEXStatus', ' LPTUB', ' SLACKUB', 'train']\n",
        "select = [x for x in shuffled.columns if x not in columns_dont_want]\n",
        "\n",
        "X = shuffled.loc[:, select]\n",
        "\n",
        "y = shuffled.loc[:,'y']"
      ]
    },
    {
      "cell_type": "code",
      "source": [
        "X_modified = X.drop([ 'median','max', 'k', 'av.length', 'range',  'indeks', 'class',  'subtype', '(m/n)^3', '(m/n)^2', '(n/m)^2', '(n/m)^3','m/n','n'], axis = 1)\n",
        "print(X_modified.head())\n",
        "#X_modified = X.drop(['max', 'n/m', '(n/m)^2', '(n/m)^3', 'm/n', '(m/n)^2', '(m/n)^3', 'class', 'av.length'], axis = 1)"
      ],
      "metadata": {
        "id": "Jzlk_oaRyQjm",
        "outputId": "63a43ef8-c9bc-455a-f4ba-5176a4906f3a",
        "colab": {
          "base_uri": "https://localhost:8080/"
        }
      },
      "execution_count": 2,
      "outputs": [
        {
          "output_type": "stream",
          "name": "stdout",
          "text": [
            "    m   n/m     std.dev  min  rel. bound  category\n",
            "0  48  2.75  137.036362  213  573.453608       1.0\n",
            "1  30  4.00   49.107903    6  136.986301       0.0\n",
            "2  12  5.00   46.175968    4   18.484288       0.0\n",
            "3  40  2.00   15.268153   50   66.225166       0.0\n",
            "4  12  4.50   19.859192   62  413.223140       0.0\n"
          ]
        }
      ]
    },
    {
      "cell_type": "code",
      "source": [
        "from imblearn.over_sampling import RandomOverSampler\n",
        "\n",
        "category = X_modified['category']\n",
        "tmp = X_modified.drop(['category'], axis = 1)\n",
        "tmp['y'] = y\n",
        "\n",
        "\n",
        "oversample = RandomOverSampler(random_state=0)\n",
        "tmp, category = oversample.fit_resample(tmp, category.astype('int'))\n",
        "\n",
        "tmp = tmp.sample(frac = 1).reset_index()\n",
        "y = tmp['y']\n",
        "X_modified = tmp.drop(['y'], axis = 1)\n",
        "print(X_modified.shape[0])\n",
        "print(X_modified.head())"
      ],
      "metadata": {
        "id": "dYfSw6_IUIaC",
        "outputId": "07ae4580-c51a-490a-c2a4-204da0d973e0",
        "colab": {
          "base_uri": "https://localhost:8080/"
        }
      },
      "execution_count": 3,
      "outputs": [
        {
          "output_type": "stream",
          "name": "stdout",
          "text": [
            "21840\n",
            "   index   m   n/m     std.dev  min   rel. bound\n",
            "0   5134  40  4.00   46.929787   10   352.112676\n",
            "1   6637  35  4.00  137.977631  236    63.492063\n",
            "2   6274  64  2.25   20.675508   35  1171.875000\n",
            "3   1739  72  2.25  163.480759  168   805.326569\n",
            "4   3553   8  2.50   11.834272   51  1126.760563\n"
          ]
        }
      ]
    },
    {
      "cell_type": "code",
      "source": [
        "from keras.models import Sequential\n",
        "from keras.layers import Dense ,Dropout,BatchNormalization\n",
        "from keras.layers import Dense\n",
        "from keras.wrappers.scikit_learn import KerasRegressor\n",
        "from sklearn.model_selection import cross_val_score\n",
        "\n",
        "from keras.layers import Activation\n",
        "from keras import backend as K\n",
        "from keras.utils.generic_utils import get_custom_objects\n",
        "\n",
        "import tensorflow as tf\n",
        "from tensorflow import keras \n",
        "from tensorflow.python.ops import math_ops\n",
        "\n",
        "\n",
        "def custom_activation(x):\n",
        "    #return K.relu(tensorflow.subtract(x,-1)) - K.relu(tensorflow.subtract(x,3.5))\n",
        "    return ymax_train1*1/(1+K.exp(-x))\n",
        "\n",
        "\n",
        "get_custom_objects().update({'custom_activation': Activation(custom_activation)})\n",
        "\n",
        "def make_model():\n",
        "    model = Sequential()\n",
        "    \n",
        "    model.add(Dense(8, input_dim=X_modified.shape[1], activation='relu'))\n",
        "    #model.add(Dropout(0.25))\n",
        "    \n",
        "    model.add(Dense(32, activation = 'relu'))\n",
        "    model.add(Dropout(0.1))\n",
        "\n",
        "    #classifier.add(Dense(32, activation = 'relu'))\n",
        "    #classifier.add(Dense(32, activation = 'relu'))\n",
        "    #classifier.add(Dense(16, activation = 'relu'))\n",
        "\n",
        "    #model.add(Dense(32, activation='relu'))\n",
        "\n",
        "    #model.add(Dense(64, activation='relu'))\n",
        "\n",
        "    #model.add(Dense(8, activation='relu'))\n",
        "    \n",
        "    model.add(Dense(1, activation = 'relu'))\n",
        "    #model.add(Activation(custom_activation, name='SpecialActivation'))\n",
        "    #model.compile(loss='mean_squared_error', optimizer=tensorflow.keras.optimizers.Adam(clipnorm=1))\n",
        "    #model.compile(loss='mean_squared_error', optimizer='RMSProp')\n",
        "    model.compile(loss='mean_squared_error', optimizer='Adam')\n",
        "    return model"
      ],
      "metadata": {
        "id": "7_m2qFDRya94"
      },
      "execution_count": 4,
      "outputs": []
    },
    {
      "cell_type": "code",
      "source": [
        "from sklearn import preprocessing\n",
        "\n",
        "from sklearn.preprocessing import StandardScaler\n",
        "\n",
        "sc = StandardScaler()\n",
        "sc2 = StandardScaler()\n",
        "\n",
        "X_train, X_test, y_train, y_test = train_test_split(X_modified, y, random_state=0, train_size = 0.83)\n",
        "#X_train, X_val, y_train, y_val = train_test_split(X_train, y_train, random_state=0, train_size = 0.83)\n",
        "\n",
        "\n",
        "X_train = sc.fit_transform(X_train)\n",
        "X_test_copy = X_test\n",
        "X_test = sc.transform(X_test)\n",
        "#X_val = sc.transform(X_val)\n",
        "\n",
        "#y_train = sc2.fit_transform(y_train.values.reshape(-1,1))\n",
        "#y_test = sc2.transform(y_test.values.reshape(-1,1))\n",
        "\n",
        "estimator = KerasRegressor(build_fn=make_model, epochs=100, batch_size=32, verbose=1)\n",
        "\n",
        "#history=estimator.fit(X_train,y_train)\n",
        "from keras.metrics import accuracy\n",
        "from keras import callbacks\n",
        "earlystopping = callbacks.EarlyStopping(monitor =\"val_loss\", \n",
        "                                        mode =\"min\", patience = 5, \n",
        "                                        restore_best_weights = True)\n",
        "  \n",
        "history = estimator.fit(X_train, y_train, shuffle = True)\n",
        "#plt.plot(history.history['val_accuracy'])"
      ],
      "metadata": {
        "colab": {
          "base_uri": "https://localhost:8080/"
        },
        "id": "2JHin8gI5ftQ",
        "outputId": "27cef913-1725-4329-fcdb-731ab5118d66"
      },
      "execution_count": 5,
      "outputs": [
        {
          "output_type": "stream",
          "name": "stderr",
          "text": [
            "/usr/local/lib/python3.7/dist-packages/ipykernel_launcher.py:20: DeprecationWarning: KerasRegressor is deprecated, use Sci-Keras (https://github.com/adriangb/scikeras) instead. See https://www.adriangb.com/scikeras/stable/migration.html for help migrating.\n"
          ]
        },
        {
          "output_type": "stream",
          "name": "stdout",
          "text": [
            "Epoch 1/100\n",
            "567/567 [==============================] - 3s 3ms/step - loss: 43.3487\n",
            "Epoch 2/100\n",
            "567/567 [==============================] - 2s 4ms/step - loss: 14.1854\n",
            "Epoch 3/100\n",
            "567/567 [==============================] - 2s 3ms/step - loss: 13.3381\n",
            "Epoch 4/100\n",
            "567/567 [==============================] - 3s 4ms/step - loss: 12.9578\n",
            "Epoch 5/100\n",
            "567/567 [==============================] - 2s 4ms/step - loss: 12.4822\n",
            "Epoch 6/100\n",
            "567/567 [==============================] - 2s 3ms/step - loss: 12.1383\n",
            "Epoch 7/100\n",
            "567/567 [==============================] - 2s 3ms/step - loss: 11.8535\n",
            "Epoch 8/100\n",
            "567/567 [==============================] - 1s 2ms/step - loss: 11.3636\n",
            "Epoch 9/100\n",
            "567/567 [==============================] - 1s 2ms/step - loss: 11.1172\n",
            "Epoch 10/100\n",
            "567/567 [==============================] - 1s 2ms/step - loss: 10.9019\n",
            "Epoch 11/100\n",
            "567/567 [==============================] - 1s 1ms/step - loss: 10.4830\n",
            "Epoch 12/100\n",
            "567/567 [==============================] - 1s 2ms/step - loss: 10.3751\n",
            "Epoch 13/100\n",
            "567/567 [==============================] - 1s 1ms/step - loss: 10.1463\n",
            "Epoch 14/100\n",
            "567/567 [==============================] - 1s 2ms/step - loss: 9.9778\n",
            "Epoch 15/100\n",
            "567/567 [==============================] - 1s 2ms/step - loss: 9.7203\n",
            "Epoch 16/100\n",
            "567/567 [==============================] - 1s 2ms/step - loss: 9.7486\n",
            "Epoch 17/100\n",
            "567/567 [==============================] - 1s 1ms/step - loss: 9.5602\n",
            "Epoch 18/100\n",
            "567/567 [==============================] - 1s 1ms/step - loss: 9.4230\n",
            "Epoch 19/100\n",
            "567/567 [==============================] - 1s 1ms/step - loss: 9.3774\n",
            "Epoch 20/100\n",
            "567/567 [==============================] - 1s 1ms/step - loss: 9.2302\n",
            "Epoch 21/100\n",
            "567/567 [==============================] - 1s 1ms/step - loss: 9.1816\n",
            "Epoch 22/100\n",
            "567/567 [==============================] - 1s 1ms/step - loss: 8.9900\n",
            "Epoch 23/100\n",
            "567/567 [==============================] - 1s 1ms/step - loss: 9.0187\n",
            "Epoch 24/100\n",
            "567/567 [==============================] - 1s 1ms/step - loss: 8.8453\n",
            "Epoch 25/100\n",
            "567/567 [==============================] - 1s 1ms/step - loss: 8.7116\n",
            "Epoch 26/100\n",
            "567/567 [==============================] - 1s 1ms/step - loss: 8.6601\n",
            "Epoch 27/100\n",
            "567/567 [==============================] - 1s 1ms/step - loss: 8.4298\n",
            "Epoch 28/100\n",
            "567/567 [==============================] - 1s 1ms/step - loss: 8.3568\n",
            "Epoch 29/100\n",
            "567/567 [==============================] - 1s 1ms/step - loss: 8.2987\n",
            "Epoch 30/100\n",
            "567/567 [==============================] - 1s 1ms/step - loss: 8.2235\n",
            "Epoch 31/100\n",
            "567/567 [==============================] - 1s 2ms/step - loss: 8.1722\n",
            "Epoch 32/100\n",
            "567/567 [==============================] - 1s 2ms/step - loss: 8.0872\n",
            "Epoch 33/100\n",
            "567/567 [==============================] - 1s 1ms/step - loss: 7.9713\n",
            "Epoch 34/100\n",
            "567/567 [==============================] - 1s 1ms/step - loss: 7.8539\n",
            "Epoch 35/100\n",
            "567/567 [==============================] - 1s 1ms/step - loss: 7.7698\n",
            "Epoch 36/100\n",
            "567/567 [==============================] - 1s 1ms/step - loss: 7.6568\n",
            "Epoch 37/100\n",
            "567/567 [==============================] - 1s 1ms/step - loss: 7.5295\n",
            "Epoch 38/100\n",
            "567/567 [==============================] - 1s 1ms/step - loss: 7.5002\n",
            "Epoch 39/100\n",
            "567/567 [==============================] - 1s 1ms/step - loss: 7.3618\n",
            "Epoch 40/100\n",
            "567/567 [==============================] - 1s 1ms/step - loss: 7.3781\n",
            "Epoch 41/100\n",
            "567/567 [==============================] - 1s 1ms/step - loss: 7.3268\n",
            "Epoch 42/100\n",
            "567/567 [==============================] - 1s 1ms/step - loss: 7.3158\n",
            "Epoch 43/100\n",
            "567/567 [==============================] - 1s 2ms/step - loss: 7.1481\n",
            "Epoch 44/100\n",
            "567/567 [==============================] - 1s 1ms/step - loss: 7.1150\n",
            "Epoch 45/100\n",
            "567/567 [==============================] - 1s 1ms/step - loss: 7.0290\n",
            "Epoch 46/100\n",
            "567/567 [==============================] - 1s 1ms/step - loss: 7.0249\n",
            "Epoch 47/100\n",
            "567/567 [==============================] - 1s 1ms/step - loss: 7.0399\n",
            "Epoch 48/100\n",
            "567/567 [==============================] - 1s 1ms/step - loss: 6.9166\n",
            "Epoch 49/100\n",
            "567/567 [==============================] - 1s 1ms/step - loss: 6.7827\n",
            "Epoch 50/100\n",
            "567/567 [==============================] - 1s 1ms/step - loss: 6.7317\n",
            "Epoch 51/100\n",
            "567/567 [==============================] - 1s 1ms/step - loss: 6.7523\n",
            "Epoch 52/100\n",
            "567/567 [==============================] - 1s 1ms/step - loss: 6.7532\n",
            "Epoch 53/100\n",
            "567/567 [==============================] - 1s 1ms/step - loss: 6.6800\n",
            "Epoch 54/100\n",
            "567/567 [==============================] - 1s 2ms/step - loss: 6.7124\n",
            "Epoch 55/100\n",
            "567/567 [==============================] - 1s 1ms/step - loss: 6.6283\n",
            "Epoch 56/100\n",
            "567/567 [==============================] - 1s 2ms/step - loss: 6.5889\n",
            "Epoch 57/100\n",
            "567/567 [==============================] - 1s 1ms/step - loss: 6.5615\n",
            "Epoch 58/100\n",
            "567/567 [==============================] - 1s 1ms/step - loss: 6.5708\n",
            "Epoch 59/100\n",
            "567/567 [==============================] - 1s 2ms/step - loss: 6.4945\n",
            "Epoch 60/100\n",
            "567/567 [==============================] - 1s 2ms/step - loss: 6.5076\n",
            "Epoch 61/100\n",
            "567/567 [==============================] - 1s 1ms/step - loss: 6.4490\n",
            "Epoch 62/100\n",
            "567/567 [==============================] - 1s 1ms/step - loss: 6.3169\n",
            "Epoch 63/100\n",
            "567/567 [==============================] - 1s 2ms/step - loss: 6.4101\n",
            "Epoch 64/100\n",
            "567/567 [==============================] - 1s 1ms/step - loss: 6.3717\n",
            "Epoch 65/100\n",
            "567/567 [==============================] - 1s 1ms/step - loss: 6.3442\n",
            "Epoch 66/100\n",
            "567/567 [==============================] - 1s 2ms/step - loss: 6.2986\n",
            "Epoch 67/100\n",
            "567/567 [==============================] - 1s 2ms/step - loss: 6.2618\n",
            "Epoch 68/100\n",
            "567/567 [==============================] - 1s 2ms/step - loss: 6.2627\n",
            "Epoch 69/100\n",
            "567/567 [==============================] - 1s 1ms/step - loss: 6.2902\n",
            "Epoch 70/100\n",
            "567/567 [==============================] - 1s 1ms/step - loss: 6.1703\n",
            "Epoch 71/100\n",
            "567/567 [==============================] - 1s 1ms/step - loss: 6.2046\n",
            "Epoch 72/100\n",
            "567/567 [==============================] - 1s 1ms/step - loss: 6.2074\n",
            "Epoch 73/100\n",
            "567/567 [==============================] - 1s 2ms/step - loss: 6.0847\n",
            "Epoch 74/100\n",
            "567/567 [==============================] - 1s 1ms/step - loss: 6.0938\n",
            "Epoch 75/100\n",
            "567/567 [==============================] - 1s 1ms/step - loss: 6.0543\n",
            "Epoch 76/100\n",
            "567/567 [==============================] - 1s 1ms/step - loss: 6.1370\n",
            "Epoch 77/100\n",
            "567/567 [==============================] - 1s 2ms/step - loss: 5.9818\n",
            "Epoch 78/100\n",
            "567/567 [==============================] - 1s 2ms/step - loss: 6.0557\n",
            "Epoch 79/100\n",
            "567/567 [==============================] - 1s 1ms/step - loss: 6.0152\n",
            "Epoch 80/100\n",
            "567/567 [==============================] - 1s 1ms/step - loss: 5.9491\n",
            "Epoch 81/100\n",
            "567/567 [==============================] - 1s 2ms/step - loss: 5.9129\n",
            "Epoch 82/100\n",
            "567/567 [==============================] - 1s 2ms/step - loss: 5.9019\n",
            "Epoch 83/100\n",
            "567/567 [==============================] - 1s 1ms/step - loss: 5.9562\n",
            "Epoch 84/100\n",
            "567/567 [==============================] - 1s 1ms/step - loss: 5.8513\n",
            "Epoch 85/100\n",
            "567/567 [==============================] - 1s 1ms/step - loss: 5.8387\n",
            "Epoch 86/100\n",
            "567/567 [==============================] - 1s 1ms/step - loss: 5.7791\n",
            "Epoch 87/100\n",
            "567/567 [==============================] - 1s 1ms/step - loss: 5.7822\n",
            "Epoch 88/100\n",
            "567/567 [==============================] - 1s 2ms/step - loss: 5.8020\n",
            "Epoch 89/100\n",
            "567/567 [==============================] - 1s 1ms/step - loss: 5.7821\n",
            "Epoch 90/100\n",
            "567/567 [==============================] - 1s 1ms/step - loss: 5.7211\n",
            "Epoch 91/100\n",
            "567/567 [==============================] - 1s 1ms/step - loss: 5.7021\n",
            "Epoch 92/100\n",
            "567/567 [==============================] - 1s 1ms/step - loss: 5.6195\n",
            "Epoch 93/100\n",
            "567/567 [==============================] - 1s 1ms/step - loss: 5.5578\n",
            "Epoch 94/100\n",
            "567/567 [==============================] - 1s 2ms/step - loss: 5.6143\n",
            "Epoch 95/100\n",
            "567/567 [==============================] - 1s 1ms/step - loss: 5.5826\n",
            "Epoch 96/100\n",
            "567/567 [==============================] - 1s 2ms/step - loss: 5.5290\n",
            "Epoch 97/100\n",
            "567/567 [==============================] - 1s 1ms/step - loss: 5.5588\n",
            "Epoch 98/100\n",
            "567/567 [==============================] - 1s 1ms/step - loss: 5.4576\n",
            "Epoch 99/100\n",
            "567/567 [==============================] - 1s 1ms/step - loss: 5.5223\n",
            "Epoch 100/100\n",
            "567/567 [==============================] - 1s 2ms/step - loss: 5.4152\n"
          ]
        }
      ]
    },
    {
      "cell_type": "code",
      "source": [
        "from sklearn.metrics import r2_score\n",
        "prediction = estimator.predict(X_test)\n",
        "print(\"r_square score: \", r2_score(y_test,prediction))\n",
        "#y_test = sc2.inverse_transform(y_test.reshape(-1,1))\n",
        "yy = np.array(y_test)\n",
        "#yy = np.power(yy, 10)/10\n",
        "#prediction = sc2.inverse_transform(prediction.reshape(-1,1))\n",
        "predd = np.array(prediction)\n",
        "#predd = np.power(predd, 10)/10\n",
        "\n",
        "from sklearn.metrics import mean_squared_error\n",
        "from math import sqrt\n",
        "\n",
        "print(\"RMSE:\")\n",
        "sqrt(mean_squared_error(yy, predd)) "
      ],
      "metadata": {
        "colab": {
          "base_uri": "https://localhost:8080/"
        },
        "id": "1kAlOPDY73hM",
        "outputId": "91feb08d-02d7-4493-f5c4-8b571d7f5a2b"
      },
      "execution_count": 6,
      "outputs": [
        {
          "output_type": "stream",
          "name": "stdout",
          "text": [
            "117/117 [==============================] - 0s 1ms/step\n",
            "r_square score:  0.944232696583105\n",
            "RMSE:\n"
          ]
        },
        {
          "output_type": "execute_result",
          "data": {
            "text/plain": [
              "2.1037874818336677"
            ]
          },
          "metadata": {},
          "execution_count": 6
        }
      ]
    },
    {
      "cell_type": "code",
      "source": [
        "plt.title('Distribution of RMSE')\n",
        "\n",
        "plt.scatter(yy, predd)"
      ],
      "metadata": {
        "id": "BDgVRLTgabsh",
        "outputId": "f2904990-c9ed-4af6-ef49-468f54959ea3",
        "colab": {
          "base_uri": "https://localhost:8080/",
          "height": 298
        }
      },
      "execution_count": 7,
      "outputs": [
        {
          "output_type": "execute_result",
          "data": {
            "text/plain": [
              "<matplotlib.collections.PathCollection at 0x7f033785b4d0>"
            ]
          },
          "metadata": {},
          "execution_count": 7
        },
        {
          "output_type": "display_data",
          "data": {
            "text/plain": [
              "<Figure size 432x288 with 1 Axes>"
            ],
            "image/png": "[encoded data removed]"
          },
          "metadata": {
            "needs_background": "light"
          }
        }
      ]
    },
    {
      "cell_type": "code",
      "source": [
        "yy_temp = []\n",
        "predd_temp = []\n",
        "\n",
        "for i in range(len(yy)):\n",
        "  if(yy[i]<1):\n",
        "    yy_temp.append(yy[i])\n",
        "    predd_temp.append(predd[i])\n",
        "\n",
        "plt.title('Predicted vs True values for problems in range [0, 10] sec.')\n",
        "plt.xlabel('True')\n",
        "plt.ylabel('Predicted')\n",
        "\n",
        "plt.scatter(yy_temp, predd_temp)\n",
        "#plt.ylim([0, 100])"
      ],
      "metadata": {
        "id": "RZLlyeL-bKWR",
        "outputId": "8ffc20f1-72a5-407b-b8e9-0b420b06621a",
        "colab": {
          "base_uri": "https://localhost:8080/",
          "height": 312
        }
      },
      "execution_count": 8,
      "outputs": [
        {
          "output_type": "execute_result",
          "data": {
            "text/plain": [
              "<matplotlib.collections.PathCollection at 0x7f033598ff90>"
            ]
          },
          "metadata": {},
          "execution_count": 8
        },
        {
          "output_type": "display_data",
          "data": {
            "text/plain": [
              "<Figure size 432x288 with 1 Axes>"
            ],
            "image/png": "[encoded data removed]"
          },
          "metadata": {
            "needs_background": "light"
          }
        }
      ]
    },
    {
      "cell_type": "code",
      "source": [
        "yy_temp = []\n",
        "predd_temp = []\n",
        "\n",
        "for i in range(len(yy)):\n",
        "  if(yy[i]>=1 and yy[i]<10):\n",
        "    yy_temp.append(yy[i])\n",
        "    predd_temp.append(predd[i])\n",
        "\n",
        "plt.title('Predicted vs True values for problems in range [10, 1000] sec.')\n",
        "plt.xlabel('True')\n",
        "plt.ylabel('Predicted')\n",
        "\n",
        "plt.scatter(yy_temp, predd_temp)"
      ],
      "metadata": {
        "id": "vVKuUJqzd-PR",
        "outputId": "591b661c-9342-43e2-f3b2-bd3fc5944f05",
        "colab": {
          "base_uri": "https://localhost:8080/",
          "height": 312
        }
      },
      "execution_count": 9,
      "outputs": [
        {
          "output_type": "execute_result",
          "data": {
            "text/plain": [
              "<matplotlib.collections.PathCollection at 0x7f0338abbfd0>"
            ]
          },
          "metadata": {},
          "execution_count": 9
        },
        {
          "output_type": "display_data",
          "data": {
            "text/plain": [
              "<Figure size 432x288 with 1 Axes>"
            ],
            "image/png": "[encoded data removed]"
          },
          "metadata": {
            "needs_background": "light"
          }
        }
      ]
    },
    {
      "cell_type": "code",
      "source": [
        "yy_temp = []\n",
        "predd_temp = []\n",
        "\n",
        "for i in range(len(yy)):\n",
        "  if(yy[i]>=10):\n",
        "    yy_temp.append(yy[i])\n",
        "    predd_temp.append(predd[i])\n",
        "\n",
        "plt.scatter(yy_temp, predd_temp)"
      ],
      "metadata": {
        "id": "yivEWoQZeHQ0",
        "outputId": "e0000935-a0bf-4d45-f581-70fd19bc979c",
        "colab": {
          "base_uri": "https://localhost:8080/",
          "height": 282
        }
      },
      "execution_count": 10,
      "outputs": [
        {
          "output_type": "execute_result",
          "data": {
            "text/plain": [
              "<matplotlib.collections.PathCollection at 0x7f0338aaaad0>"
            ]
          },
          "metadata": {},
          "execution_count": 10
        },
        {
          "output_type": "display_data",
          "data": {
            "text/plain": [
              "<Figure size 432x288 with 1 Axes>"
            ],
            "image/png": "[encoded data removed]"
          },
          "metadata": {
            "needs_background": "light"
          }
        }
      ]
    }
  ]
}