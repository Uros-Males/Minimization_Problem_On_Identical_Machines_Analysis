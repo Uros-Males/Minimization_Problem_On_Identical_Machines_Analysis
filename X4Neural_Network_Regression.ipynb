{
  "nbformat": 4,
  "nbformat_minor": 0,
  "metadata": {
    "colab": {
      "name": "Neural_Network_Regression.ipynb",
      "provenance": [],
      "authorship_tag": "ABX9TyNPOjQ1dX/LKHzUHTPjH0Pj",
      "include_colab_link": true
    },
    "kernelspec": {
      "name": "python3",
      "display_name": "Python 3"
    },
    "language_info": {
      "name": "python"
    }
  },
  "cells": [
    {
      "cell_type": "markdown",
      "metadata": {
        "id": "view-in-github",
        "colab_type": "text"
      },
      "source": [
        "<a href=\"https://colab.research.google.com/github/Uros-Males/Minimization_Problem_On_Identical_Machines_Analysis/blob/main/X4Neural_Network_Regression.ipynb\" target=\"_parent\"><img src=\"https://colab.research.google.com/assets/colab-badge.svg\" alt=\"Open In Colab\"/></a>"
      ]
    },
    {
      "cell_type": "code",
      "execution_count": 1,
      "metadata": {
        "id": "YiQcuNkDxHUf",
        "colab": {
          "base_uri": "https://localhost:8080/"
        },
        "outputId": "89a57161-d710-4f44-c4da-29ec810cca57"
      },
      "outputs": [
        {
          "output_type": "stream",
          "name": "stdout",
          "text": [
            "19.907111\n",
            "2.0\n",
            "20.907111\n"
          ]
        }
      ],
      "source": [
        "#IN PROGRESS....\n",
        "import pandas as pd\n",
        "import numpy as np\n",
        "import matplotlib.pyplot as plt\n",
        "from sklearn import tree\n",
        "from sklearn.model_selection import train_test_split\n",
        "from sklearn.tree import DecisionTreeRegressor\n",
        "import time\n",
        "\n",
        "df = pd.read_csv('/content/sample_data/C-instances-runtime-analysis(1) (1).csv')\n",
        "df2 = df[df['train'] == 1]\n",
        "print(df2['y'].max())\n",
        "ymax_train1 = df2['y'].max()\n",
        "# sve sa train = 0 y = max(y) + 1\n",
        "\n",
        "for i in range(df.shape[0]):\n",
        "  if(df.iloc[i]['train'] == 0):\n",
        "    df.loc[i, 'y'] = ymax_train1 + 1\n",
        "\n",
        "lower_bound = df['n'] * df['av.length'] / df['m']\n",
        "lower_bound = lower_bound.astype('int') + 1\n",
        "\n",
        "upper_bound = np.minimum(df[' LPTUB'], df[' SLACKUB'])\n",
        "df['rel. bound'] = (upper_bound-lower_bound)/(upper_bound)\n",
        "df['rel. bound'] = df['rel. bound']*10000\n",
        "\n",
        "df['category'] = df['y']\n",
        "for i in range(df.shape[0]):\n",
        "  #print(df.iloc[i]['y'])\n",
        "  if(df.iloc[i]['y'] < 1):\n",
        "    df.loc[i, 'category'] = 0\n",
        "  elif(df.iloc[i]['y'] >= 1 and df.iloc[i]['y'] < 10):\n",
        "    df.loc[i, 'category'] = 1\n",
        "  else:\n",
        "    df.loc[i, 'category'] = 2\n",
        "\n",
        "print(df['category'].max())\n",
        "print(df['y'].max())\n",
        "\n",
        "\n",
        "\n",
        "\n",
        "shuffled = df.sample(frac=1).reset_index()\n",
        "\n",
        "columns_dont_want = ['y', 'index', 'inst.name','type', 'CPLEXStatus', ' LPTUB', ' SLACKUB', 'train']\n",
        "select = [x for x in shuffled.columns if x not in columns_dont_want]\n",
        "\n",
        "X = shuffled.loc[:, select]\n",
        "\n",
        "y = shuffled.loc[:,'y']"
      ]
    },
    {
      "cell_type": "code",
      "source": [
        "X_modified = X.drop([ 'median','max', 'k', 'av.length', 'range',  'indeks', 'class',  'subtype', '(m/n)^3', '(m/n)^2', '(n/m)^2', '(n/m)^3','m/n','n'], axis = 1)\n",
        "print(X_modified.head())\n",
        "#X_modified = X.drop(['max', 'n/m', '(n/m)^2', '(n/m)^3', 'm/n', '(m/n)^2', '(m/n)^3', 'class', 'av.length'], axis = 1)"
      ],
      "metadata": {
        "id": "Jzlk_oaRyQjm",
        "outputId": "ad35ee60-bd16-48d9-ee6f-9c3767e8cd75",
        "colab": {
          "base_uri": "https://localhost:8080/"
        }
      },
      "execution_count": 2,
      "outputs": [
        {
          "output_type": "stream",
          "name": "stdout",
          "text": [
            "     m   n/m     std.dev  min   rel. bound  category\n",
            "0   64  2.25  143.504593  263  1371.237458       1.0\n",
            "1   16  5.00   21.576712   62    19.880716       0.0\n",
            "2    2  9.00   24.770121    6     0.000000       0.0\n",
            "3   28  4.50   44.875465    5   126.050420       0.0\n",
            "4  100  2.00   19.640375   39   243.902439       1.0\n"
          ]
        }
      ]
    },
    {
      "cell_type": "code",
      "source": [
        "from imblearn.over_sampling import RandomOverSampler\n",
        "\n",
        "category = X_modified['category']\n",
        "tmp = X_modified.drop(['category'], axis = 1)\n",
        "tmp['y'] = y\n",
        "\n",
        "\n",
        "oversample = RandomOverSampler(random_state=0)\n",
        "tmp, category = oversample.fit_resample(tmp, category.astype('int'))\n",
        "\n",
        "tmp = tmp.sample(frac = 1).reset_index()\n",
        "y = tmp['y']\n",
        "X_modified = tmp.drop(['y'], axis = 1)\n",
        "print(X_modified.shape[0])\n",
        "print(X_modified.head())"
      ],
      "metadata": {
        "id": "dYfSw6_IUIaC",
        "outputId": "f9da6edd-8f0a-49dd-ad56-5bb21642169c",
        "colab": {
          "base_uri": "https://localhost:8080/"
        }
      },
      "execution_count": 3,
      "outputs": [
        {
          "output_type": "stream",
          "name": "stdout",
          "text": [
            "21840\n",
            "   index   m   n/m     std.dev  min  rel. bound\n",
            "0   6021  24  6.00   14.988883   50   22.371365\n",
            "1   3143  80  2.75   19.350672   52  481.099656\n",
            "2  17936  64  2.75  148.332993  176  458.498024\n",
            "3  17430  56  2.50  146.894257  255  614.312856\n",
            "4  15153  40  2.50   87.207878  101  446.428571\n"
          ]
        }
      ]
    },
    {
      "cell_type": "code",
      "source": [
        "from keras.models import Sequential\n",
        "from keras.layers import Dense ,Dropout,BatchNormalization\n",
        "from keras.layers import Dense\n",
        "from keras.wrappers.scikit_learn import KerasRegressor\n",
        "from sklearn.model_selection import cross_val_score\n",
        "\n",
        "from keras.layers import Activation\n",
        "from keras import backend as K\n",
        "from keras.utils.generic_utils import get_custom_objects\n",
        "\n",
        "import tensorflow as tf\n",
        "from tensorflow import keras \n",
        "from tensorflow.python.ops import math_ops\n",
        "\n",
        "\n",
        "def custom_activation(x):\n",
        "    #return K.relu(tensorflow.subtract(x,-1)) - K.relu(tensorflow.subtract(x,3.5))\n",
        "    return ymax_train1*1/(1+K.exp(-x))\n",
        "\n",
        "\n",
        "get_custom_objects().update({'custom_activation': Activation(custom_activation)})\n",
        "\n",
        "def make_model():\n",
        "    model = Sequential()\n",
        "    \n",
        "    model.add(Dense(8, input_dim=X_modified.shape[1], activation='relu'))\n",
        "    #model.add(Dropout(0.25))\n",
        "    \n",
        "    model.add(Dense(32, activation = 'relu'))\n",
        "    model.add(Dropout(0.1))\n",
        "\n",
        "    #classifier.add(Dense(32, activation = 'relu'))\n",
        "    #classifier.add(Dense(32, activation = 'relu'))\n",
        "    #classifier.add(Dense(16, activation = 'relu'))\n",
        "\n",
        "    #model.add(Dense(32, activation='relu'))\n",
        "\n",
        "    #model.add(Dense(64, activation='relu'))\n",
        "\n",
        "    model.add(Dense(8, activation='relu'))\n",
        "    \n",
        "    model.add(Dense(1, activation = 'relu'))\n",
        "    #model.add(Activation(custom_activation, name='SpecialActivation'))\n",
        "    #model.compile(loss='mean_squared_error', optimizer=tensorflow.keras.optimizers.Adam(clipnorm=1))\n",
        "    #model.compile(loss='mean_squared_error', optimizer='RMSProp')\n",
        "    model.compile(loss='mean_squared_error', optimizer='Adam')\n",
        "    return model"
      ],
      "metadata": {
        "id": "7_m2qFDRya94"
      },
      "execution_count": 4,
      "outputs": []
    },
    {
      "cell_type": "code",
      "source": [
        "from sklearn import preprocessing\n",
        "\n",
        "from sklearn.preprocessing import StandardScaler\n",
        "\n",
        "sc = StandardScaler()\n",
        "sc2 = StandardScaler()\n",
        "\n",
        "X_train, X_test, y_train, y_test = train_test_split(X_modified, y, random_state=0, train_size = 0.83)\n",
        "#X_train, X_val, y_train, y_val = train_test_split(X_train, y_train, random_state=0, train_size = 0.83)\n",
        "\n",
        "\n",
        "X_train = sc.fit_transform(X_train)\n",
        "X_test_copy = X_test\n",
        "X_test = sc.transform(X_test)\n",
        "#X_val = sc.transform(X_val)\n",
        "\n",
        "#y_train = sc2.fit_transform(y_train.values.reshape(-1,1))\n",
        "#y_test = sc2.transform(y_test.values.reshape(-1,1))\n",
        "\n",
        "estimator = KerasRegressor(build_fn=make_model, epochs=100, batch_size=32, verbose=1)\n",
        "\n",
        "#history=estimator.fit(X_train,y_train)\n",
        "from keras.metrics import accuracy\n",
        "from keras import callbacks\n",
        "earlystopping = callbacks.EarlyStopping(monitor =\"val_loss\", \n",
        "                                        mode =\"min\", patience = 5, \n",
        "                                        restore_best_weights = True)\n",
        "  \n",
        "history = estimator.fit(X_train, y_train, shuffle = True)\n",
        "#plt.plot(history.history['val_accuracy'])"
      ],
      "metadata": {
        "colab": {
          "base_uri": "https://localhost:8080/"
        },
        "id": "2JHin8gI5ftQ",
        "outputId": "78a145cd-0016-4788-ca27-65cc5976d1f0"
      },
      "execution_count": 5,
      "outputs": [
        {
          "output_type": "stream",
          "name": "stderr",
          "text": [
            "/usr/local/lib/python3.7/dist-packages/ipykernel_launcher.py:20: DeprecationWarning: KerasRegressor is deprecated, use Sci-Keras (https://github.com/adriangb/scikeras) instead. See https://www.adriangb.com/scikeras/stable/migration.html for help migrating.\n"
          ]
        },
        {
          "output_type": "stream",
          "name": "stdout",
          "text": [
            "Epoch 1/100\n",
            "567/567 [==============================] - 4s 4ms/step - loss: 38.8952\n",
            "Epoch 2/100\n",
            "567/567 [==============================] - 2s 4ms/step - loss: 14.2676\n",
            "Epoch 3/100\n",
            "567/567 [==============================] - 2s 4ms/step - loss: 12.9302\n",
            "Epoch 4/100\n",
            "567/567 [==============================] - 2s 3ms/step - loss: 12.1281\n",
            "Epoch 5/100\n",
            "567/567 [==============================] - 2s 3ms/step - loss: 11.4905\n",
            "Epoch 6/100\n",
            "567/567 [==============================] - 1s 2ms/step - loss: 10.9789\n",
            "Epoch 7/100\n",
            "567/567 [==============================] - 1s 2ms/step - loss: 10.2162\n",
            "Epoch 8/100\n",
            "567/567 [==============================] - 1s 2ms/step - loss: 9.4687\n",
            "Epoch 9/100\n",
            "567/567 [==============================] - 1s 2ms/step - loss: 8.6455\n",
            "Epoch 10/100\n",
            "567/567 [==============================] - 1s 2ms/step - loss: 7.9556\n",
            "Epoch 11/100\n",
            "567/567 [==============================] - 1s 2ms/step - loss: 7.4630\n",
            "Epoch 12/100\n",
            "567/567 [==============================] - 1s 2ms/step - loss: 7.2409\n",
            "Epoch 13/100\n",
            "567/567 [==============================] - 1s 2ms/step - loss: 6.9839\n",
            "Epoch 14/100\n",
            "567/567 [==============================] - 1s 2ms/step - loss: 6.8770\n",
            "Epoch 15/100\n",
            "567/567 [==============================] - 1s 2ms/step - loss: 6.7452\n",
            "Epoch 16/100\n",
            "567/567 [==============================] - 1s 2ms/step - loss: 6.4497\n",
            "Epoch 17/100\n",
            "567/567 [==============================] - 1s 2ms/step - loss: 6.3989\n",
            "Epoch 18/100\n",
            "567/567 [==============================] - 1s 2ms/step - loss: 6.2437\n",
            "Epoch 19/100\n",
            "567/567 [==============================] - 1s 2ms/step - loss: 6.2574\n",
            "Epoch 20/100\n",
            "567/567 [==============================] - 1s 2ms/step - loss: 6.0435\n",
            "Epoch 21/100\n",
            "567/567 [==============================] - 1s 2ms/step - loss: 6.0289\n",
            "Epoch 22/100\n",
            "567/567 [==============================] - 1s 2ms/step - loss: 6.0013\n",
            "Epoch 23/100\n",
            "567/567 [==============================] - 1s 2ms/step - loss: 5.8792\n",
            "Epoch 24/100\n",
            "567/567 [==============================] - 1s 2ms/step - loss: 5.8705\n",
            "Epoch 25/100\n",
            "567/567 [==============================] - 1s 2ms/step - loss: 5.8270\n",
            "Epoch 26/100\n",
            "567/567 [==============================] - 1s 2ms/step - loss: 5.7260\n",
            "Epoch 27/100\n",
            "567/567 [==============================] - 1s 2ms/step - loss: 5.7451\n",
            "Epoch 28/100\n",
            "567/567 [==============================] - 1s 2ms/step - loss: 5.6526\n",
            "Epoch 29/100\n",
            "567/567 [==============================] - 1s 2ms/step - loss: 5.5627\n",
            "Epoch 30/100\n",
            "567/567 [==============================] - 1s 2ms/step - loss: 5.5683\n",
            "Epoch 31/100\n",
            "567/567 [==============================] - 1s 2ms/step - loss: 5.5528\n",
            "Epoch 32/100\n",
            "567/567 [==============================] - 1s 2ms/step - loss: 5.4890\n",
            "Epoch 33/100\n",
            "567/567 [==============================] - 1s 2ms/step - loss: 5.4958\n",
            "Epoch 34/100\n",
            "567/567 [==============================] - 1s 2ms/step - loss: 5.4730\n",
            "Epoch 35/100\n",
            "567/567 [==============================] - 1s 2ms/step - loss: 5.3758\n",
            "Epoch 36/100\n",
            "567/567 [==============================] - 1s 2ms/step - loss: 5.3365\n",
            "Epoch 37/100\n",
            "567/567 [==============================] - 1s 2ms/step - loss: 5.3085\n",
            "Epoch 38/100\n",
            "567/567 [==============================] - 1s 2ms/step - loss: 5.2675\n",
            "Epoch 39/100\n",
            "567/567 [==============================] - 1s 2ms/step - loss: 5.1835\n",
            "Epoch 40/100\n",
            "567/567 [==============================] - 1s 2ms/step - loss: 5.1598\n",
            "Epoch 41/100\n",
            "567/567 [==============================] - 1s 2ms/step - loss: 5.1260\n",
            "Epoch 42/100\n",
            "567/567 [==============================] - 1s 2ms/step - loss: 5.0887\n",
            "Epoch 43/100\n",
            "567/567 [==============================] - 1s 2ms/step - loss: 5.1111\n",
            "Epoch 44/100\n",
            "567/567 [==============================] - 1s 2ms/step - loss: 5.0534\n",
            "Epoch 45/100\n",
            "567/567 [==============================] - 1s 2ms/step - loss: 5.0678\n",
            "Epoch 46/100\n",
            "567/567 [==============================] - 1s 2ms/step - loss: 5.0080\n",
            "Epoch 47/100\n",
            "567/567 [==============================] - 1s 2ms/step - loss: 5.0193\n",
            "Epoch 48/100\n",
            "567/567 [==============================] - 1s 2ms/step - loss: 4.9972\n",
            "Epoch 49/100\n",
            "567/567 [==============================] - 1s 2ms/step - loss: 4.9968\n",
            "Epoch 50/100\n",
            "567/567 [==============================] - 1s 2ms/step - loss: 4.9497\n",
            "Epoch 51/100\n",
            "567/567 [==============================] - 1s 2ms/step - loss: 4.9003\n",
            "Epoch 52/100\n",
            "567/567 [==============================] - 1s 2ms/step - loss: 4.8806\n",
            "Epoch 53/100\n",
            "567/567 [==============================] - 1s 2ms/step - loss: 4.8627\n",
            "Epoch 54/100\n",
            "567/567 [==============================] - 1s 2ms/step - loss: 4.8378\n",
            "Epoch 55/100\n",
            "567/567 [==============================] - 1s 2ms/step - loss: 4.8583\n",
            "Epoch 56/100\n",
            "567/567 [==============================] - 1s 2ms/step - loss: 4.7756\n",
            "Epoch 57/100\n",
            "567/567 [==============================] - 1s 2ms/step - loss: 4.8072\n",
            "Epoch 58/100\n",
            "567/567 [==============================] - 1s 2ms/step - loss: 4.7159\n",
            "Epoch 59/100\n",
            "567/567 [==============================] - 1s 2ms/step - loss: 4.7308\n",
            "Epoch 60/100\n",
            "567/567 [==============================] - 1s 2ms/step - loss: 4.6978\n",
            "Epoch 61/100\n",
            "567/567 [==============================] - 1s 2ms/step - loss: 4.6753\n",
            "Epoch 62/100\n",
            "567/567 [==============================] - 1s 2ms/step - loss: 4.6164\n",
            "Epoch 63/100\n",
            "567/567 [==============================] - 1s 2ms/step - loss: 4.6550\n",
            "Epoch 64/100\n",
            "567/567 [==============================] - 1s 2ms/step - loss: 4.6371\n",
            "Epoch 65/100\n",
            "567/567 [==============================] - 1s 2ms/step - loss: 4.5901\n",
            "Epoch 66/100\n",
            "567/567 [==============================] - 1s 2ms/step - loss: 4.6576\n",
            "Epoch 67/100\n",
            "567/567 [==============================] - 1s 2ms/step - loss: 4.6190\n",
            "Epoch 68/100\n",
            "567/567 [==============================] - 1s 2ms/step - loss: 4.5578\n",
            "Epoch 69/100\n",
            "567/567 [==============================] - 1s 2ms/step - loss: 4.5011\n",
            "Epoch 70/100\n",
            "567/567 [==============================] - 1s 2ms/step - loss: 4.5158\n",
            "Epoch 71/100\n",
            "567/567 [==============================] - 1s 2ms/step - loss: 4.4803\n",
            "Epoch 72/100\n",
            "567/567 [==============================] - 1s 2ms/step - loss: 4.4626\n",
            "Epoch 73/100\n",
            "567/567 [==============================] - 1s 2ms/step - loss: 4.4083\n",
            "Epoch 74/100\n",
            "567/567 [==============================] - 1s 2ms/step - loss: 4.4370\n",
            "Epoch 75/100\n",
            "567/567 [==============================] - 1s 2ms/step - loss: 4.3997\n",
            "Epoch 76/100\n",
            "567/567 [==============================] - 1s 2ms/step - loss: 4.3927\n",
            "Epoch 77/100\n",
            "567/567 [==============================] - 1s 2ms/step - loss: 4.3292\n",
            "Epoch 78/100\n",
            "567/567 [==============================] - 1s 2ms/step - loss: 4.3415\n",
            "Epoch 79/100\n",
            "567/567 [==============================] - 1s 2ms/step - loss: 4.3209\n",
            "Epoch 80/100\n",
            "567/567 [==============================] - 1s 2ms/step - loss: 4.3078\n",
            "Epoch 81/100\n",
            "567/567 [==============================] - 1s 2ms/step - loss: 4.2295\n",
            "Epoch 82/100\n",
            "567/567 [==============================] - 1s 2ms/step - loss: 4.2253\n",
            "Epoch 83/100\n",
            "567/567 [==============================] - 1s 2ms/step - loss: 4.2165\n",
            "Epoch 84/100\n",
            "567/567 [==============================] - 1s 2ms/step - loss: 4.2460\n",
            "Epoch 85/100\n",
            "567/567 [==============================] - 1s 2ms/step - loss: 4.2221\n",
            "Epoch 86/100\n",
            "567/567 [==============================] - 1s 2ms/step - loss: 4.1370\n",
            "Epoch 87/100\n",
            "567/567 [==============================] - 1s 3ms/step - loss: 4.2195\n",
            "Epoch 88/100\n",
            "567/567 [==============================] - 2s 3ms/step - loss: 4.1342\n",
            "Epoch 89/100\n",
            "567/567 [==============================] - 1s 2ms/step - loss: 4.1332\n",
            "Epoch 90/100\n",
            "567/567 [==============================] - 1s 2ms/step - loss: 4.1286\n",
            "Epoch 91/100\n",
            "567/567 [==============================] - 1s 2ms/step - loss: 4.1148\n",
            "Epoch 92/100\n",
            "567/567 [==============================] - 2s 3ms/step - loss: 4.0635\n",
            "Epoch 93/100\n",
            "567/567 [==============================] - 1s 2ms/step - loss: 4.0640\n",
            "Epoch 94/100\n",
            "567/567 [==============================] - 1s 2ms/step - loss: 4.0677\n",
            "Epoch 95/100\n",
            "567/567 [==============================] - 1s 2ms/step - loss: 4.1186\n",
            "Epoch 96/100\n",
            "567/567 [==============================] - 3s 5ms/step - loss: 4.0550\n",
            "Epoch 97/100\n",
            "567/567 [==============================] - 2s 4ms/step - loss: 4.0704\n",
            "Epoch 98/100\n",
            "567/567 [==============================] - 1s 2ms/step - loss: 3.9936\n",
            "Epoch 99/100\n",
            "567/567 [==============================] - 1s 2ms/step - loss: 4.0226\n",
            "Epoch 100/100\n",
            "567/567 [==============================] - 1s 2ms/step - loss: 3.9558\n"
          ]
        }
      ]
    },
    {
      "cell_type": "code",
      "source": [
        "from sklearn.metrics import r2_score\n",
        "prediction = estimator.predict(X_test)\n",
        "print(\"r_square score: \", r2_score(y_test,prediction))\n",
        "#y_test = sc2.inverse_transform(y_test.reshape(-1,1))\n",
        "yy = np.array(y_test)\n",
        "#yy = np.power(yy, 10)/10\n",
        "#prediction = sc2.inverse_transform(prediction.reshape(-1,1))\n",
        "predd = np.array(prediction)\n",
        "#predd = np.power(predd, 10)/10\n",
        "\n",
        "from sklearn.metrics import mean_squared_error\n",
        "from math import sqrt\n",
        "\n",
        "print(\"RMSE:\")\n",
        "sqrt(mean_squared_error(yy, predd)) "
      ],
      "metadata": {
        "colab": {
          "base_uri": "https://localhost:8080/"
        },
        "id": "1kAlOPDY73hM",
        "outputId": "d65a3441-db4b-411c-b4c4-335188f10a75"
      },
      "execution_count": 6,
      "outputs": [
        {
          "output_type": "stream",
          "name": "stdout",
          "text": [
            "117/117 [==============================] - 0s 1ms/step\n",
            "r_square score:  0.9528295405016253\n",
            "RMSE:\n"
          ]
        },
        {
          "output_type": "execute_result",
          "data": {
            "text/plain": [
              "1.9611937258299472"
            ]
          },
          "metadata": {},
          "execution_count": 6
        }
      ]
    },
    {
      "cell_type": "code",
      "source": [
        "plt.title('Distribution of RMSE')\n",
        "\n",
        "plt.scatter(yy, predd)"
      ],
      "metadata": {
        "id": "BDgVRLTgabsh",
        "outputId": "7bac31e6-e1b7-4e94-9437-3223d5a2687f",
        "colab": {
          "base_uri": "https://localhost:8080/",
          "height": 298
        }
      },
      "execution_count": 7,
      "outputs": [
        {
          "output_type": "execute_result",
          "data": {
            "text/plain": [
              "<matplotlib.collections.PathCollection at 0x7f74983f9050>"
            ]
          },
          "metadata": {},
          "execution_count": 7
        },
        {
          "output_type": "display_data",
          "data": {
            "text/plain": [
              "<Figure size 432x288 with 1 Axes>"
            ],
            "image/png": "[encoded data removed]"
          },
          "metadata": {
            "needs_background": "light"
          }
        }
      ]
    },
    {
      "cell_type": "code",
      "source": [
        "yy_temp = []\n",
        "predd_temp = []\n",
        "\n",
        "for i in range(len(yy)):\n",
        "  if(yy[i]<1):\n",
        "    yy_temp.append(yy[i])\n",
        "    predd_temp.append(predd[i])\n",
        "\n",
        "plt.title('Predicted vs True values for problems in range [0, 10] sec.')\n",
        "plt.xlabel('True')\n",
        "plt.ylabel('Predicted')\n",
        "\n",
        "plt.scatter(yy_temp, predd_temp)\n",
        "#plt.ylim([0, 100])"
      ],
      "metadata": {
        "id": "RZLlyeL-bKWR",
        "outputId": "375eb0d1-ce11-496a-8df2-8d6a05055634",
        "colab": {
          "base_uri": "https://localhost:8080/",
          "height": 312
        }
      },
      "execution_count": 8,
      "outputs": [
        {
          "output_type": "execute_result",
          "data": {
            "text/plain": [
              "<matplotlib.collections.PathCollection at 0x7f749828ab90>"
            ]
          },
          "metadata": {},
          "execution_count": 8
        },
        {
          "output_type": "display_data",
          "data": {
            "text/plain": [
              "<Figure size 432x288 with 1 Axes>"
            ],
            "image/png": "[encoded data removed]"
          },
          "metadata": {
            "needs_background": "light"
          }
        }
      ]
    },
    {
      "cell_type": "code",
      "source": [
        "yy_temp = []\n",
        "predd_temp = []\n",
        "\n",
        "for i in range(len(yy)):\n",
        "  if(yy[i]>=1 and yy[i]<10):\n",
        "    yy_temp.append(yy[i])\n",
        "    predd_temp.append(predd[i])\n",
        "\n",
        "plt.title('Predicted vs True values for problems in range [10, 1000] sec.')\n",
        "plt.xlabel('True')\n",
        "plt.ylabel('Predicted')\n",
        "\n",
        "plt.scatter(yy_temp, predd_temp)"
      ],
      "metadata": {
        "id": "vVKuUJqzd-PR",
        "outputId": "fe7c541a-7de9-4b80-c0a2-c0aa54929593",
        "colab": {
          "base_uri": "https://localhost:8080/",
          "height": 312
        }
      },
      "execution_count": 9,
      "outputs": [
        {
          "output_type": "execute_result",
          "data": {
            "text/plain": [
              "<matplotlib.collections.PathCollection at 0x7f74964f09d0>"
            ]
          },
          "metadata": {},
          "execution_count": 9
        },
        {
          "output_type": "display_data",
          "data": {
            "text/plain": [
              "<Figure size 432x288 with 1 Axes>"
            ],
            "image/png": "[encoded data removed]"
          },
          "metadata": {
            "needs_background": "light"
          }
        }
      ]
    },
    {
      "cell_type": "code",
      "source": [
        "yy_temp = []\n",
        "predd_temp = []\n",
        "\n",
        "for i in range(len(yy)):\n",
        "  if(yy[i]>=10):\n",
        "    yy_temp.append(yy[i])\n",
        "    predd_temp.append(predd[i])\n",
        "\n",
        "plt.scatter(yy_temp, predd_temp)"
      ],
      "metadata": {
        "id": "yivEWoQZeHQ0",
        "outputId": "6fcdfba1-5ae8-4d20-9b9f-791a46b4f414",
        "colab": {
          "base_uri": "https://localhost:8080/",
          "height": 284
        }
      },
      "execution_count": 10,
      "outputs": [
        {
          "output_type": "execute_result",
          "data": {
            "text/plain": [
              "<matplotlib.collections.PathCollection at 0x7f749961a790>"
            ]
          },
          "metadata": {},
          "execution_count": 10
        },
        {
          "output_type": "display_data",
          "data": {
            "text/plain": [
              "<Figure size 432x288 with 1 Axes>"
            ],
            "image/png": "[encoded data removed]"
          },
          "metadata": {
            "needs_background": "light"
          }
        }
      ]
    }
  ]
}